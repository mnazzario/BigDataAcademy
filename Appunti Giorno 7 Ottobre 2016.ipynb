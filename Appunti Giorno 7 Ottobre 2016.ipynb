{
 "cells": [
  {
   "cell_type": "code",
   "execution_count": 1,
   "metadata": {
    "collapsed": false
   },
   "outputs": [
    {
     "name": "stdout",
     "output_type": "stream",
     "text": [
      "sono Vero\n"
     ]
    }
   ],
   "source": [
    "vero = True\n",
    "if vero:\n",
    "    print(\"sono Vero\")"
   ]
  },
  {
   "cell_type": "code",
   "execution_count": 3,
   "metadata": {
    "collapsed": false
   },
   "outputs": [
    {
     "name": "stdout",
     "output_type": "stream",
     "text": [
      "sono vero\n"
     ]
    }
   ],
   "source": [
    "vero = False\n",
    "if not vero:\n",
    "    print(\"sono vero\")\n",
    "else:\n",
    "    print(\"sono falso\")"
   ]
  },
  {
   "cell_type": "code",
   "execution_count": 4,
   "metadata": {
    "collapsed": false
   },
   "outputs": [
    {
     "name": "stdout",
     "output_type": "stream",
     "text": [
      "VERO!\n"
     ]
    }
   ],
   "source": [
    "falso = False\n",
    "vero = True\n",
    "if vero and not falso:\n",
    "    print \"VERO!\"\n",
    "else:\n",
    "    print \"FALSO!\""
   ]
  },
  {
   "cell_type": "code",
   "execution_count": 5,
   "metadata": {
    "collapsed": false
   },
   "outputs": [
    {
     "name": "stdout",
     "output_type": "stream",
     "text": [
      "VERO\n"
     ]
    }
   ],
   "source": [
    "if vero or false:\n",
    "    print \"VERO\"\n",
    "else:\n",
    "    print \"FALSO\""
   ]
  },
  {
   "cell_type": "code",
   "execution_count": 7,
   "metadata": {
    "collapsed": false
   },
   "outputs": [
    {
     "name": "stdout",
     "output_type": "stream",
     "text": [
      "FALSO\n"
     ]
    }
   ],
   "source": [
    "if not vero or falso:\n",
    "    print \"VERO\"\n",
    "else:\n",
    "    print \"FALSO\""
   ]
  },
  {
   "cell_type": "code",
   "execution_count": null,
   "metadata": {
    "collapsed": true
   },
   "outputs": [],
   "source": []
  }
 ],
 "metadata": {
  "kernelspec": {
   "display_name": "Python [Root]",
   "language": "python",
   "name": "Python [Root]"
  },
  "language_info": {
   "codemirror_mode": {
    "name": "ipython",
    "version": 2
   },
   "file_extension": ".py",
   "mimetype": "text/x-python",
   "name": "python",
   "nbconvert_exporter": "python",
   "pygments_lexer": "ipython2",
   "version": "2.7.12"
  }
 },
 "nbformat": 4,
 "nbformat_minor": 0
}

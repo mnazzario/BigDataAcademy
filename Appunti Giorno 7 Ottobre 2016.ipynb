{
 "cells": [
  {
   "cell_type": "markdown",
   "metadata": {},
   "source": [
    "# IF"
   ]
  },
  {
   "cell_type": "code",
   "execution_count": 1,
   "metadata": {
    "collapsed": false
   },
   "outputs": [
    {
     "name": "stdout",
     "output_type": "stream",
     "text": [
      "sono Vero\n"
     ]
    }
   ],
   "source": [
    "vero = True\n",
    "if vero:\n",
    "    print(\"sono Vero\")"
   ]
  },
  {
   "cell_type": "code",
   "execution_count": 3,
   "metadata": {
    "collapsed": false
   },
   "outputs": [
    {
     "name": "stdout",
     "output_type": "stream",
     "text": [
      "sono vero\n"
     ]
    }
   ],
   "source": [
    "vero = False\n",
    "if not vero:\n",
    "    print(\"sono vero\")\n",
    "else:\n",
    "    print(\"sono falso\")"
   ]
  },
  {
   "cell_type": "code",
   "execution_count": 4,
   "metadata": {
    "collapsed": false
   },
   "outputs": [
    {
     "name": "stdout",
     "output_type": "stream",
     "text": [
      "VERO!\n"
     ]
    }
   ],
   "source": [
    "falso = False\n",
    "vero = True\n",
    "if vero and not falso:\n",
    "    print \"VERO!\"\n",
    "else:\n",
    "    print \"FALSO!\""
   ]
  },
  {
   "cell_type": "code",
   "execution_count": 5,
   "metadata": {
    "collapsed": false
   },
   "outputs": [
    {
     "name": "stdout",
     "output_type": "stream",
     "text": [
      "VERO\n"
     ]
    }
   ],
   "source": [
    "if vero or false:\n",
    "    print \"VERO\"\n",
    "else:\n",
    "    print \"FALSO\""
   ]
  },
  {
   "cell_type": "code",
   "execution_count": 7,
   "metadata": {
    "collapsed": false
   },
   "outputs": [
    {
     "name": "stdout",
     "output_type": "stream",
     "text": [
      "FALSO\n"
     ]
    }
   ],
   "source": [
    "if not vero or falso:\n",
    "    print \"VERO\"\n",
    "else:\n",
    "    print \"FALSO\""
   ]
  },
  {
   "cell_type": "code",
   "execution_count": 9,
   "metadata": {
    "collapsed": false
   },
   "outputs": [
    {
     "name": "stdout",
     "output_type": "stream",
     "text": [
      "ciao\n"
     ]
    }
   ],
   "source": [
    "if not vero or falso:\n",
    "    print \"VERO\"\n",
    "elif 1==1:\n",
    "    print \"ciao\"\n",
    "else:\n",
    "    print \"FALSO\""
   ]
  },
  {
   "cell_type": "code",
   "execution_count": 10,
   "metadata": {
    "collapsed": false
   },
   "outputs": [
    {
     "name": "stdout",
     "output_type": "stream",
     "text": [
      "uguale\n"
     ]
    }
   ],
   "source": [
    "a = 1\n",
    "b = \"1\"\n",
    "if a==int(b) :\n",
    "    print \"uguale\"\n",
    "else:\n",
    "    print \"no uguale\""
   ]
  },
  {
   "cell_type": "code",
   "execution_count": 11,
   "metadata": {
    "collapsed": false
   },
   "outputs": [
    {
     "data": {
      "text/plain": [
       "'1010'"
      ]
     },
     "execution_count": 11,
     "metadata": {},
     "output_type": "execute_result"
    }
   ],
   "source": [
    "numero1 = \"10\"\n",
    "numero2 = \"10\"\n",
    "numero1 + numero2 #ricordarsi di fare il casting se voglio fare la somma dei due numero come int"
   ]
  },
  {
   "cell_type": "code",
   "execution_count": 12,
   "metadata": {
    "collapsed": false
   },
   "outputs": [
    {
     "data": {
      "text/plain": [
       "20"
      ]
     },
     "execution_count": 12,
     "metadata": {},
     "output_type": "execute_result"
    }
   ],
   "source": [
    "int(numero1) +int(numero2)"
   ]
  },
  {
   "cell_type": "code",
   "execution_count": 13,
   "metadata": {
    "collapsed": false
   },
   "outputs": [
    {
     "data": {
      "text/plain": [
       "['__add__',\n",
       " '__class__',\n",
       " '__contains__',\n",
       " '__delattr__',\n",
       " '__doc__',\n",
       " '__eq__',\n",
       " '__format__',\n",
       " '__ge__',\n",
       " '__getattribute__',\n",
       " '__getitem__',\n",
       " '__getnewargs__',\n",
       " '__getslice__',\n",
       " '__gt__',\n",
       " '__hash__',\n",
       " '__init__',\n",
       " '__le__',\n",
       " '__len__',\n",
       " '__lt__',\n",
       " '__mod__',\n",
       " '__mul__',\n",
       " '__ne__',\n",
       " '__new__',\n",
       " '__reduce__',\n",
       " '__reduce_ex__',\n",
       " '__repr__',\n",
       " '__rmod__',\n",
       " '__rmul__',\n",
       " '__setattr__',\n",
       " '__sizeof__',\n",
       " '__str__',\n",
       " '__subclasshook__',\n",
       " '_formatter_field_name_split',\n",
       " '_formatter_parser',\n",
       " 'capitalize',\n",
       " 'center',\n",
       " 'count',\n",
       " 'decode',\n",
       " 'encode',\n",
       " 'endswith',\n",
       " 'expandtabs',\n",
       " 'find',\n",
       " 'format',\n",
       " 'index',\n",
       " 'isalnum',\n",
       " 'isalpha',\n",
       " 'isdigit',\n",
       " 'islower',\n",
       " 'isspace',\n",
       " 'istitle',\n",
       " 'isupper',\n",
       " 'join',\n",
       " 'ljust',\n",
       " 'lower',\n",
       " 'lstrip',\n",
       " 'partition',\n",
       " 'replace',\n",
       " 'rfind',\n",
       " 'rindex',\n",
       " 'rjust',\n",
       " 'rpartition',\n",
       " 'rsplit',\n",
       " 'rstrip',\n",
       " 'split',\n",
       " 'splitlines',\n",
       " 'startswith',\n",
       " 'strip',\n",
       " 'swapcase',\n",
       " 'title',\n",
       " 'translate',\n",
       " 'upper',\n",
       " 'zfill']"
      ]
     },
     "execution_count": 13,
     "metadata": {},
     "output_type": "execute_result"
    }
   ],
   "source": [
    "dir(numero1)"
   ]
  },
  {
   "cell_type": "code",
   "execution_count": 18,
   "metadata": {
    "collapsed": false
   },
   "outputs": [
    {
     "data": {
      "text/plain": [
       "False"
      ]
     },
     "execution_count": 18,
     "metadata": {},
     "output_type": "execute_result"
    }
   ],
   "source": [
    "isinstance(b, int)\n"
   ]
  },
  {
   "cell_type": "code",
   "execution_count": 15,
   "metadata": {
    "collapsed": false
   },
   "outputs": [
    {
     "data": {
      "text/plain": [
       "str"
      ]
     },
     "execution_count": 15,
     "metadata": {},
     "output_type": "execute_result"
    }
   ],
   "source": [
    "type(b)"
   ]
  },
  {
   "cell_type": "markdown",
   "metadata": {},
   "source": [
    "# WHILE"
   ]
  },
  {
   "cell_type": "code",
   "execution_count": 20,
   "metadata": {
    "collapsed": false
   },
   "outputs": [
    {
     "name": "stdout",
     "output_type": "stream",
     "text": [
      "ciao\n",
      "ciao\n",
      "ciao\n",
      "ciao\n",
      "ciao\n"
     ]
    }
   ],
   "source": [
    "cont = 0\n",
    "while True:\n",
    "    print \"ciao\"\n",
    "    cont +=1\n",
    "    if cont == 5:\n",
    "        #esco dal loop infinito\n",
    "        break"
   ]
  },
  {
   "cell_type": "code",
   "execution_count": 3,
   "metadata": {
    "collapsed": false
   },
   "outputs": [
    {
     "name": "stdout",
     "output_type": "stream",
     "text": [
      "1\n",
      "2\n",
      "3\n",
      "4\n",
      "5\n"
     ]
    }
   ],
   "source": [
    "c = 0\n",
    "while c<5 :\n",
    "    c +=1\n",
    "    print(c)"
   ]
  },
  {
   "cell_type": "markdown",
   "metadata": {
    "collapsed": true
   },
   "source": [
    "# FOR "
   ]
  },
  {
   "cell_type": "code",
   "execution_count": 2,
   "metadata": {
    "collapsed": false
   },
   "outputs": [
    {
     "name": "stdout",
     "output_type": "stream",
     "text": [
      "1\n",
      "2\n",
      "3\n"
     ]
    }
   ],
   "source": [
    "c = [1,2,3]\n",
    "for i in c:\n",
    "    print i\n"
   ]
  },
  {
   "cell_type": "code",
   "execution_count": 4,
   "metadata": {
    "collapsed": false
   },
   "outputs": [
    {
     "name": "stdout",
     "output_type": "stream",
     "text": [
      "uno\n",
      "due\n",
      "tre\n"
     ]
    }
   ],
   "source": [
    "lista = ['uno', 'due', 'tre']\n",
    "for value in lista:\n",
    "    print(value)"
   ]
  },
  {
   "cell_type": "code",
   "execution_count": 7,
   "metadata": {
    "collapsed": false
   },
   "outputs": [
    {
     "data": {
      "text/plain": [
       "[0, 1, 2]"
      ]
     },
     "execution_count": 7,
     "metadata": {},
     "output_type": "execute_result"
    }
   ],
   "source": [
    "range (3)"
   ]
  },
  {
   "cell_type": "code",
   "execution_count": 8,
   "metadata": {
    "collapsed": false
   },
   "outputs": [
    {
     "data": {
      "text/plain": [
       "[3, 4]"
      ]
     },
     "execution_count": 8,
     "metadata": {},
     "output_type": "execute_result"
    }
   ],
   "source": [
    "range(3,5)"
   ]
  },
  {
   "cell_type": "code",
   "execution_count": 10,
   "metadata": {
    "collapsed": false
   },
   "outputs": [
    {
     "name": "stdout",
     "output_type": "stream",
     "text": [
      "3\n",
      "4\n"
     ]
    }
   ],
   "source": [
    "for i in range(3,5):\n",
    "    print(i)"
   ]
  },
  {
   "cell_type": "code",
   "execution_count": 11,
   "metadata": {
    "collapsed": false
   },
   "outputs": [
    {
     "name": "stdout",
     "output_type": "stream",
     "text": [
      "zero\n",
      "uno\n",
      "due\n",
      "tre\n"
     ]
    }
   ],
   "source": [
    "lista = ['zero','uno', 'due', 'tre']\n",
    "for value in lista:\n",
    "    print(value)"
   ]
  },
  {
   "cell_type": "code",
   "execution_count": 12,
   "metadata": {
    "collapsed": false
   },
   "outputs": [
    {
     "name": "stdout",
     "output_type": "stream",
     "text": [
      "indice 0  -- valore zero\n",
      "indice 1  -- valore uno\n",
      "indice 2  -- valore due\n",
      "indice 3  -- valore tre\n"
     ]
    }
   ],
   "source": [
    "for indice,valore in enumerate(lista):\n",
    "    print \"indice %s  -- valore %s\" % (indice,valore)"
   ]
  },
  {
   "cell_type": "code",
   "execution_count": 17,
   "metadata": {
    "collapsed": false
   },
   "outputs": [
    {
     "name": "stdout",
     "output_type": "stream",
     "text": [
      "(0, 'zero')\n",
      "(1, 'uno')\n",
      "(2, 'due')\n",
      "(3, 'tre')\n"
     ]
    }
   ],
   "source": [
    "for v in enumerate(lista): #enumerate restituisce una lista di tuple\n",
    "    print v"
   ]
  },
  {
   "cell_type": "code",
   "execution_count": 19,
   "metadata": {
    "collapsed": false
   },
   "outputs": [
    {
     "name": "stdout",
     "output_type": "stream",
     "text": [
      "zero\n",
      "uno\n",
      "due\n",
      "tre\n"
     ]
    }
   ],
   "source": [
    "len(lista)\n",
    "for indice in range(len(lista)):\n",
    "    print lista[indice]"
   ]
  },
  {
   "cell_type": "markdown",
   "metadata": {},
   "source": [
    "Uguaglianza VS Identita'"
   ]
  },
  {
   "cell_type": "code",
   "execution_count": 22,
   "metadata": {
    "collapsed": false
   },
   "outputs": [
    {
     "name": "stdout",
     "output_type": "stream",
     "text": [
      "True\n",
      "True\n"
     ]
    }
   ],
   "source": [
    "x = 0\n",
    "y = 0\n",
    "print x == 0\n",
    "print x is y"
   ]
  },
  {
   "cell_type": "code",
   "execution_count": 23,
   "metadata": {
    "collapsed": false
   },
   "outputs": [
    {
     "name": "stdout",
     "output_type": "stream",
     "text": [
      "True\n"
     ]
    }
   ],
   "source": [
    "x = [0]\n",
    "y = [0]\n",
    "print x == y"
   ]
  },
  {
   "cell_type": "code",
   "execution_count": 24,
   "metadata": {
    "collapsed": false
   },
   "outputs": [
    {
     "name": "stdout",
     "output_type": "stream",
     "text": [
      "False\n"
     ]
    }
   ],
   "source": [
    "print x is y # due oggetti interi come gli interi sono la stessa cosa ma oggetti complessi non sono la stessa cosa"
   ]
  },
  {
   "cell_type": "code",
   "execution_count": 25,
   "metadata": {
    "collapsed": false
   },
   "outputs": [
    {
     "name": "stdout",
     "output_type": "stream",
     "text": [
      "0.0\n"
     ]
    }
   ],
   "source": [
    "a = 0.0\n",
    "print a"
   ]
  },
  {
   "cell_type": "code",
   "execution_count": 26,
   "metadata": {
    "collapsed": false
   },
   "outputs": [
    {
     "data": {
      "text/plain": [
       "float"
      ]
     },
     "execution_count": 26,
     "metadata": {},
     "output_type": "execute_result"
    }
   ],
   "source": [
    "type(a)"
   ]
  },
  {
   "cell_type": "markdown",
   "metadata": {},
   "source": [
    "# TRY / Except Exception"
   ]
  },
  {
   "cell_type": "code",
   "execution_count": 28,
   "metadata": {
    "collapsed": false
   },
   "outputs": [
    {
     "name": "stdout",
     "output_type": "stream",
     "text": [
      "errore\n"
     ]
    }
   ],
   "source": [
    "try:\n",
    "    print ciao\n",
    "except:\n",
    "    print \"errore\""
   ]
  },
  {
   "cell_type": "code",
   "execution_count": 30,
   "metadata": {
    "collapsed": false
   },
   "outputs": [
    {
     "name": "stdout",
     "output_type": "stream",
     "text": [
      "Errore sconosciuto\n"
     ]
    }
   ],
   "source": [
    "try:\n",
    "    print \"ciao\" + 1\n",
    "except NameError:\n",
    "    print \"errore\"\n",
    "except :\n",
    "    print \"Errore sconosciuto\""
   ]
  },
  {
   "cell_type": "code",
   "execution_count": 31,
   "metadata": {
    "collapsed": false
   },
   "outputs": [
    {
     "name": "stdout",
     "output_type": "stream",
     "text": [
      "ciao\n",
      "funziona\n"
     ]
    }
   ],
   "source": [
    "try:\n",
    "    print \"ciao\"\n",
    "except NameError:\n",
    "    print \"errore\"\n",
    "except :\n",
    "    print \"Errore sconosciuto\"\n",
    "else: #posso scrivere anche un else\n",
    "    print \"funziona\""
   ]
  },
  {
   "cell_type": "code",
   "execution_count": 33,
   "metadata": {
    "collapsed": false
   },
   "outputs": [
    {
     "name": "stdout",
     "output_type": "stream",
     "text": [
      "ciao\n",
      "funziona\n",
      "sono nella finally\n"
     ]
    }
   ],
   "source": [
    "try:\n",
    "    print \"ciao\"\n",
    "except NameError:\n",
    "    print \"errore\"\n",
    "except :\n",
    "    print \"Errore sconosciuto\"\n",
    "else: #posso scrivere anche un else\n",
    "    print \"funziona\"\n",
    "finally : #esiste anche il finally\n",
    "    print \"sono nella finally\""
   ]
  },
  {
   "cell_type": "code",
   "execution_count": 34,
   "metadata": {
    "collapsed": false
   },
   "outputs": [
    {
     "name": "stdout",
     "output_type": "stream",
     "text": [
      "cannot concatenate 'str' and 'int' objects\n",
      "sono nella finally\n"
     ]
    }
   ],
   "source": [
    "try:\n",
    "    print \"ciao\" + 11\n",
    "except NameError:\n",
    "    print \"errore\"\n",
    "except Exception as e: #stampo e\n",
    "    print e\n",
    "else: #posso scrivere anche un else\n",
    "    print \"funziona\"\n",
    "finally : #esiste anche il finally\n",
    "    print \"sono nella finally\""
   ]
  },
  {
   "cell_type": "code",
   "execution_count": 35,
   "metadata": {
    "collapsed": false
   },
   "outputs": [
    {
     "data": {
      "text/plain": [
       "['__class__',\n",
       " '__delattr__',\n",
       " '__dict__',\n",
       " '__doc__',\n",
       " '__format__',\n",
       " '__getattribute__',\n",
       " '__getitem__',\n",
       " '__getslice__',\n",
       " '__hash__',\n",
       " '__init__',\n",
       " '__new__',\n",
       " '__reduce__',\n",
       " '__reduce_ex__',\n",
       " '__repr__',\n",
       " '__setattr__',\n",
       " '__setstate__',\n",
       " '__sizeof__',\n",
       " '__str__',\n",
       " '__subclasshook__',\n",
       " '__unicode__',\n",
       " 'args',\n",
       " 'message']"
      ]
     },
     "execution_count": 35,
     "metadata": {},
     "output_type": "execute_result"
    }
   ],
   "source": [
    "dir(e)"
   ]
  },
  {
   "cell_type": "markdown",
   "metadata": {
    "collapsed": true
   },
   "source": [
    "# FUNZIONI"
   ]
  },
  {
   "cell_type": "markdown",
   "metadata": {},
   "source": [
    "<b>IDE Python pycharm</b>"
   ]
  },
  {
   "cell_type": "code",
   "execution_count": 2,
   "metadata": {
    "collapsed": false
   },
   "outputs": [
    {
     "name": "stdout",
     "output_type": "stream",
     "text": [
      "sono dentro una funzione\n",
      "output\n"
     ]
    }
   ],
   "source": [
    "def nome_funzione(parametro1, parametro2):\n",
    "    '''\n",
    "    inserire cosa fa la funzione\n",
    "    '''\n",
    "    print \"sono dentro una funzione\"\n",
    "    return \"output\"\n",
    "\n",
    "res = nome_funzione(1,2)\n",
    "print(res)\n"
   ]
  },
  {
   "cell_type": "code",
   "execution_count": 3,
   "metadata": {
    "collapsed": true
   },
   "outputs": [],
   "source": [
    "def func():\n",
    "    pass #non fa nulla"
   ]
  },
  {
   "cell_type": "code",
   "execution_count": 8,
   "metadata": {
    "collapsed": false
   },
   "outputs": [
    {
     "name": "stdout",
     "output_type": "stream",
     "text": [
      "(None, None)\n",
      "(1, None)\n",
      "(1, 2)\n",
      "(None, 1)\n"
     ]
    }
   ],
   "source": [
    "def func(param1=None, param2=None): #in questo caso posso chiamare la funzione senza parametri\n",
    "    print(param1,param2)\n",
    "    \n",
    "func()\n",
    "func(1)\n",
    "func(1,2)\n",
    "func(param2=1)"
   ]
  },
  {
   "cell_type": "code",
   "execution_count": 15,
   "metadata": {
    "collapsed": false
   },
   "outputs": [
    {
     "name": "stdout",
     "output_type": "stream",
     "text": [
      "ERROR\n",
      "1\n"
     ]
    }
   ],
   "source": [
    "def func(param=None):\n",
    "    if param:\n",
    "        print param\n",
    "    else:\n",
    "        print(\"ERROR\")\n",
    "\n",
    "func()\n",
    "func(1)"
   ]
  },
  {
   "cell_type": "code",
   "execution_count": 19,
   "metadata": {
    "collapsed": false
   },
   "outputs": [
    {
     "name": "stdout",
     "output_type": "stream",
     "text": [
      "[1, 2, (3, 4)]\n",
      "1\n",
      "ciao\n"
     ]
    }
   ],
   "source": [
    "def func_args(pi=None, *args):\n",
    "    if pi:\n",
    "        print(pi)\n",
    "    for s in args:\n",
    "        print s\n",
    "\n",
    "func_args()\n",
    "func_args([1,2,(3,4)],1,\"ciao\")"
   ]
  },
  {
   "cell_type": "code",
   "execution_count": 22,
   "metadata": {
    "collapsed": false
   },
   "outputs": [
    {
     "name": "stdout",
     "output_type": "stream",
     "text": [
      "a (1, 2, 3, 4, {'ciao': 1, 'pippo': 2}) {}\n",
      "a (1, 2, 3, 4) {'ciao': 1, 'pippo': 2}\n"
     ]
    }
   ],
   "source": [
    "def func_args_kw(p1, *args, **kwargs):\n",
    "    print p1, args, kwargs\n",
    "    \n",
    "func_args_kw(\"a\",1,2,3,4,{\"ciao\":1,\"pippo\":2 })\n",
    "func_args_kw(\"a\",1,2,3,4,ciao=1,pippo=2)\n"
   ]
  },
  {
   "cell_type": "code",
   "execution_count": 28,
   "metadata": {
    "collapsed": false
   },
   "outputs": [
    {
     "name": "stdout",
     "output_type": "stream",
     "text": [
      "a (1, 2, 3, 4, {'ciao': 1, 'pippo': 2}) {}\n"
     ]
    }
   ],
   "source": [
    "my_dict={\"ciao\":1,\"pippo\":2 }\n",
    "func_args_kw(\"a\",1,2,3,4,my_dict)"
   ]
  },
  {
   "cell_type": "code",
   "execution_count": 33,
   "metadata": {
    "collapsed": false
   },
   "outputs": [
    {
     "name": "stdout",
     "output_type": "stream",
     "text": [
      "a (1, 2, 3, 4, 'ciao', 'pippo') {}\n"
     ]
    }
   ],
   "source": [
    "func_args_kw(\"a\",1,2,3,4,*my_dict)"
   ]
  },
  {
   "cell_type": "code",
   "execution_count": 32,
   "metadata": {
    "collapsed": false
   },
   "outputs": [
    {
     "name": "stdout",
     "output_type": "stream",
     "text": [
      "a (1, 2, 3, 4) {'ciao': 1, 'pippo': 2}\n"
     ]
    }
   ],
   "source": [
    "func_args_kw(\"a\",1,2,3,4,**my_dict)"
   ]
  },
  {
   "cell_type": "code",
   "execution_count": 37,
   "metadata": {
    "collapsed": false
   },
   "outputs": [
    {
     "name": "stdout",
     "output_type": "stream",
     "text": [
      "{'ciao': 1, 'pippo': 2, 'matteo': 1}\n"
     ]
    }
   ],
   "source": [
    "my_dict_new = my_dict\n",
    "my_dict.update(matteo=1)\n",
    "print(my_dict)\n",
    "func_args_kw(\"a\",1,2,3,4,**my_dict_new)"
   ]
  },
  {
   "cell_type": "markdown",
   "metadata": {},
   "source": [
    "# Esercizio"
   ]
  },
  {
   "cell_type": "code",
   "execution_count": 42,
   "metadata": {
    "collapsed": false
   },
   "outputs": [
    {
     "name": "stdout",
     "output_type": "stream",
     "text": [
      "Posizione 0 --> ciao \n",
      "Posizione 1 --> pippo \n",
      "Posizione 2 --> pluto \n"
     ]
    }
   ],
   "source": [
    "def p_list(mylist=None):\n",
    "    i=0\n",
    "    for x in mylist :\n",
    "        print \"Posizione %s --> %s \" % (i,x)\n",
    "        i = i +1\n",
    "        \n",
    "p_list([\"ciao\", \"pippo\", \"pluto\"])"
   ]
  },
  {
   "cell_type": "code",
   "execution_count": 44,
   "metadata": {
    "collapsed": false
   },
   "outputs": [
    {
     "name": "stdout",
     "output_type": "stream",
     "text": [
      "Posizione 0 --> ciao \n",
      "Posizione 1 --> pippo \n",
      "Posizione 2 --> pluto \n"
     ]
    }
   ],
   "source": [
    "def p_list(mylist=None):\n",
    "    for posizione,valore in enumerate(mylist) :\n",
    "        print \"Posizione %s --> %s \" % (posizione,valore)\n",
    "        \n",
    "p_list([\"ciao\", \"pippo\", \"pluto\"])"
   ]
  },
  {
   "cell_type": "code",
   "execution_count": 110,
   "metadata": {
    "collapsed": false
   },
   "outputs": [
    {
     "name": "stdout",
     "output_type": "stream",
     "text": [
      "Posizione 0 --> a \n",
      "Posizione 1 --> b \n",
      "Posizione 2 --> c \n",
      "Posizione 3 --> d \n",
      "Posizione 4 --> e \n"
     ]
    }
   ],
   "source": [
    "def p_list_args(*args):\n",
    "    for posizione,valore in enumerate(*args) :\n",
    "        print \"Posizione %s --> %s \" % (posizione,valore)\n",
    "\n",
    "my_plist_Args=[\"a\",\"b\",\"c\",\"d\",\"e\"]\n",
    "p_list_args(my_plist_Args)"
   ]
  },
  {
   "cell_type": "code",
   "execution_count": 100,
   "metadata": {
    "collapsed": false
   },
   "outputs": [
    {
     "name": "stdout",
     "output_type": "stream",
     "text": [
      "CHIAVE pippo --> 3\n",
      "CHIAVE matteo --> 1\n"
     ]
    }
   ],
   "source": [
    "def p_dic(my_dict):\n",
    "    for x in my_dict.keys():\n",
    "        key=x\n",
    "        valore=my_dict[key]\n",
    "        print \"CHIAVE %s --> %s\" % (key,valore)\n",
    "\n",
    "p_dic(dict(matteo=1,pippo=3))"
   ]
  },
  {
   "cell_type": "code",
   "execution_count": 115,
   "metadata": {
    "collapsed": false
   },
   "outputs": [
    {
     "name": "stdout",
     "output_type": "stream",
     "text": [
      "CHIAVE : pippo ---> 3 \n",
      "CHIAVE : matteo ---> 1 \n"
     ]
    }
   ],
   "source": [
    "def p_dic(my_dict):\n",
    "    for key,value in my_dict.items():\n",
    "        print \"CHIAVE : %s ---> %s \" % (key,value)\n",
    "\n",
    "p_dic(dict(matteo=1,pippo=3))      "
   ]
  },
  {
   "cell_type": "code",
   "execution_count": 113,
   "metadata": {
    "collapsed": false
   },
   "outputs": [
    {
     "name": "stdout",
     "output_type": "stream",
     "text": [
      "CHIAVE : key2 ---> 2 \n",
      "CHIAVE : key1 ---> 1 \n"
     ]
    }
   ],
   "source": [
    "def p_dic_kw(**my_dict):\n",
    "    for key,value in my_dict.items():\n",
    "        print \"CHIAVE : %s ---> %s \" % (key,value)\n",
    "        \n",
    "my_new_dict = dict(key1=1,key2=2)\n",
    "\n",
    "p_dic_kw(**my_new_dict)"
   ]
  },
  {
   "cell_type": "markdown",
   "metadata": {},
   "source": [
    "# Esercizio 3"
   ]
  },
  {
   "cell_type": "code",
   "execution_count": 116,
   "metadata": {
    "collapsed": false
   },
   "outputs": [
    {
     "name": "stdout",
     "output_type": "stream",
     "text": [
      "CHIAVE : pippo ---> 3 \n",
      "CHIAVE : matteo ---> 1 \n",
      "CIAO\n",
      "Posizione 0 --> 1 \n",
      "Posizione 1 --> 2 \n",
      "Posizione 2 --> 3 \n",
      "Posizione 3 --> 4 \n"
     ]
    }
   ],
   "source": [
    "def p_list_dic(param):\n",
    "    if isinstance(param,dict):\n",
    "        p_dic(param)\n",
    "    elif isinstance(param,list):\n",
    "        p_list(param)\n",
    "    else:\n",
    "        print(param)\n",
    "          \n",
    "p_list_dic(dict(matteo=1,pippo=3))\n",
    "p_list_dic(\"CIAO\")\n",
    "p_list_dic([1,2,3,4])\n"
   ]
  },
  {
   "cell_type": "code",
   "execution_count": 129,
   "metadata": {
    "collapsed": false
   },
   "outputs": [
    {
     "name": "stdout",
     "output_type": "stream",
     "text": [
      "KEY : key3 --> Hello \n",
      "Posizione 0 --> 1 \n",
      "Posizione 1 --> 2 \n",
      "Posizione 2 --> 3 \n",
      "Posizione 3 --> 4 \n",
      "KEY : key1 --> 1 \n",
      "CHIAVE : ciao ---> Mondo \n",
      "CHIAVE : Hello ---> World \n"
     ]
    }
   ],
   "source": [
    "def p_dict_new(param):\n",
    "    for key,value in param.items():\n",
    "        if isinstance(value,dict):\n",
    "            p_dic(value)\n",
    "        elif isinstance(value,list):\n",
    "            p_list(value)\n",
    "        else:\n",
    "            print \"KEY : %s --> %s \" % (key,value)\n",
    "\n",
    "p_dict_new(dict(key1=1,key2=[1,2,3,4], key3=\"Hello\",key4={\"ciao\":\"Mondo\",\"Hello\": \"World\"}))"
   ]
  },
  {
   "cell_type": "markdown",
   "metadata": {},
   "source": [
    "# Esercizio 4"
   ]
  },
  {
   "cell_type": "code",
   "execution_count": 130,
   "metadata": {
    "collapsed": false
   },
   "outputs": [
    {
     "name": "stdout",
     "output_type": "stream",
     "text": [
      "Ciao\n",
      "come\n",
      "stai\n",
      "3\n"
     ]
    }
   ],
   "source": [
    "def word_count(frase):\n",
    "    res = frase.split()\n",
    "    for x in res:\n",
    "        print(x)\n",
    "    print(len(res))\n",
    "    \n",
    "word_count(\"Ciao come stai\")"
   ]
  },
  {
   "cell_type": "code",
   "execution_count": null,
   "metadata": {
    "collapsed": true
   },
   "outputs": [],
   "source": []
  }
 ],
 "metadata": {
  "kernelspec": {
   "display_name": "Python [Root]",
   "language": "python",
   "name": "Python [Root]"
  },
  "language_info": {
   "codemirror_mode": {
    "name": "ipython",
    "version": 2
   },
   "file_extension": ".py",
   "mimetype": "text/x-python",
   "name": "python",
   "nbconvert_exporter": "python",
   "pygments_lexer": "ipython2",
   "version": "2.7.12"
  }
 },
 "nbformat": 4,
 "nbformat_minor": 0
}

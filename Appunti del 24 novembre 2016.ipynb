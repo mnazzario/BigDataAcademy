{
 "cells": [
  {
   "cell_type": "markdown",
   "metadata": {},
   "source": [
    "Libro per la teoria dei grafi : barabasi.com/networkbook"
   ]
  },
  {
   "cell_type": "markdown",
   "metadata": {},
   "source": [
    "Le reti reali sono eterogenee.\n",
    "\n",
    "Il peso quanto un link conta rispetto agli altri link.\n",
    "\n",
    "A parita di numero di nodi la topologia (come si distribuiscono i link) delle reti puo' variare di parecchio. (Genoma dell'uomo rispetto al genoma del moscerino. Il numero di geni e' simile ma cambiano moltissimo il link)\n",
    "\n",
    "Rete di konigsberg\n",
    "La prima volta in cui e' stato approcciato un problema \n",
    "\n",
    "SE un grafo ha piu' di due nodi con grado dispari non esiste un cammino che permette di passare solamente una volta da tutti i nodi senza ripassare su una stesso link\n",
    "\n",
    "Se un grado e' connesso e non ha nodi con gradi dispari ha almeno un cammino che permette di passare solamente una volta da tutti i nodi sempre con link diversi\n",
    "\n",
    "\n",
    "Dimensione riti numero di nodi (N) e numero di link (L). LA dimensione di una rete si rappresenta con (N,L)\n",
    "\n",
    "Network --> si usa sull'oggetto reale\n",
    "Grafo -> E' l'oggetto matematico che rappresenta la rete\n",
    "\n",
    "Grafi -> diretti e indiretti (ovvero i link hanno una direzione (esempio link delle mail, link del web) o non hanno una direzione (Es internet non ha una direzione, il web ha una direzione, la rete degli attori non ha una direzione)\n",
    "\n",
    "Il grado medio delle reti --> si divide il numero dei link per il numero di nodi (per le reti indiritte) per quelle dirette si moltiplica per 2 il numero dei link\n",
    "\n",
    "MATRICE DI ADIACENZA\n",
    "LA matrice che mi rappresenta i nodi e il link --> rige e colonne hanno i nodi e l'intersezione vale zero se non ci sono link 1 se ci sono link tra i due nodi\n",
    "\n",
    "Una rete reale ha sempre  un numero di link inferiore rispetto al numero massimo di connessioni che puo' avere la rete \n",
    "\n",
    "L'introduzione del peso server per aumentare o dimuire la validita' del link. Quando voglio dare importanze diverse ai vari link\n",
    "\n",
    "SocioPatterns \n",
    "Guido Caldarelli (IMT di Lucca) -> studio sulle reti finanziarie\n",
    "\n",
    "Reti bipartiti\n",
    "Prendo due set e i link sono interset --> Es ricette ed ingredienti piuttosto che genoma e malattia\n",
    "\n",
    "Pathology \n",
    "Il path e' un cammino : sequenza di link che devo percorrere da un nodo all'altro. Cambia se la rete e' diretta o inidiretta. E' la collezione di link che devo seguire. Shortest path e' il nodo piu' corto.\n",
    "\n",
    "Diametro di una rete :\n",
    "distanza massima tra due qualunque nodi della rete. \n",
    "Avarage distance:\n",
    "media delle distanze tra due nodi\n",
    "\n",
    "Shortest path\n",
    "E' il cammino piu' breve tra due nodi\n",
    "\n",
    "Giant Component\n",
    "porzioni di rete che sono piu' connesse rispetto alle sottorete periferiche. \n",
    "\n",
    "Clustering coefficent\n",
    "Es: Evidenzia la probabilita' che se due amici sono miei amici anche loro due siano amici\n",
    "Misura la presenza di triangoli rispetto ai link. Misura dati i triangoli possibili tra i nodi quanto sono quelli effettivi.\n",
    "Utili quando si parla di modelli di reti\n",
    "Le reti reali hanno un cluster coefficiency alto\n",
    "\n",
    "NODO CENTRALI\n",
    "Varie definizioni\n",
    "- Un nodo e' centrale se il suo grado e' alto rispetto alla media dei gradi dei nodi della reta (quella piu' intuitiva)\n",
    "- Un nodo centrale in caso di grafo diretto puo' essere Indegree centrale o Outdegree centrale (grafo di esportazione del pertrolio gli stati uniti importa ed e' un nodo indegree centrale).\n",
    "\n",
    "Centralita' rispetto ad altre caratteristiche::\n",
    "- centralita' in base alla posizione\n",
    "- quante volte devo passare attraverso un nodo per raggiungere gli altri nodi \n",
    "Questa caratteristica si dice Betweennes Centrality : il numero di totale di shortest pass tra due nodi caso della rete che passanon da me diviso il numero totale di shortest path del grafo\n",
    "\n",
    "- un nodo puo' essere importante perche' e' amico di un nodo centrale : si dice che il nodo e' closeness centrality. SE la closenss e' alta vuol dire che ho una distanza piccola con gli altri nodi della rete\n",
    "\n",
    "- higher vector centrality : \n"
   ]
  },
  {
   "cell_type": "markdown",
   "metadata": {},
   "source": [
    "# Quali sono le cose salienti da tenere\n",
    "\n",
    "Quali sono le osservabili  e quali sono i processi generativi che portano ad avere osservabili di un certo tipo\n",
    "\n",
    "Grafo random: e' un grado di  N nodi dove ciascuna coppia di nodi e' connesso con una certa probabilita'.  (Un processo stocastico e quindi mi dara in media sempre lo stesso numero di nodi)\n",
    "Per un modello random il grado medio del modello mi dice che al massimo mi allontano di 3 sigma. Mi da una misura dell'omogeneita' della rete random\n",
    "\n",
    "Nelle reti reali le fluttuazioni sono invece molto elevate. In pratica si va a vedere quanto la rete reali si allontana dalla rete random\n",
    "\n",
    "LE rete reali sono supercritiche --> LA frazioni di nodi molto connessi fra loro e' preponderante rispetto alla media.\n",
    "\n"
   ]
  },
  {
   "cell_type": "markdown",
   "metadata": {},
   "source": [
    "# Small world\n",
    "Con il passa parola l'informazione si propaga in modo molto efficace\n",
    "\n",
    "- Milgram -> Era un sociologo che decise di misurare quanto sono i gradi di separazione nella popolazione (2 persone di boston e disse di mandare due lettere a queste persone)\n",
    "\n"
   ]
  },
  {
   "cell_type": "markdown",
   "metadata": {},
   "source": [
    "## Clustering coefficient nelle reti reali\n",
    "Il clustering coefficient delle reali  molto alto (vicino a 1). SOno presenti molto spesso triangoli fra i nodi.\n",
    "\n",
    "## Modello introdotto per prendere in conserazione lo small world e clustering coefficient alto e':\n",
    "\n",
    "E' il modello: Watts-Strogatz"
   ]
  },
  {
   "cell_type": "markdown",
   "metadata": {},
   "source": [
    "# Groth e preferential attachment\n",
    "QUando un nodo entra in una rete sociale e' piu' probabile che si attacchi ad un nodo popolare. (effetto ritch gt ritcher)\n",
    "\n",
    "Tiene conto che c'e' una dinamica temporale. \n",
    "\n",
    "Per avere un modello che riproduca bene la rele reale dvono essere prese in considerazione dei punti prima.\n",
    "\n"
   ]
  },
  {
   "cell_type": "markdown",
   "metadata": {},
   "source": [
    "# Zachary Karate Club\n",
    "\n",
    "Lavoro di sociologia negli anni 70. Studio sulla struttura dei gruppi (come e' divisa la popolazione)\n",
    "\n",
    "Capire in quante comunita' la struttura sociale si divide.\n",
    "E' importante anche dal punto di vista dei processi.\n",
    "\n",
    "Che cosa e' una comunita'?\n",
    "- Un gruppo e' tale se tutti conoscono tutti (troppo rigida)\n",
    "- ciascuna del gruppo ha almeno k link con altri del gruppo\n",
    "- i membri del gruppo sono facilmente raggiungibili dagli altri membri del gruppo\n",
    "- il gruppo e' piu' coeso rispetto al resto della rete\n",
    "\n",
    "QUante comunita' saranno trovate e' impossile saperlo...\n",
    "L'approccio che si puo' avere in modo brutale e' quella di fare una bisezione dividendo la rete in due sottografi e si va a ripetere l'operazione nei sottogruppi trovo.\n",
    "\n",
    "Si preferisce di creare un clustering gerarchico. \n",
    "Un processo di tipo agglomerativo e' l'algoritmo di Ravasz. Aggrega membri che hanno vicini in comune.\n",
    "\n",
    "Un processi di tipo separativo e' l'algoritmo Girvan-Newman. Ragiona sulla beetweennes. (rimuove i link  che hanno beetweenns piu' alta in modo ricorsivo)\n",
    "\n",
    "Come capisco che effettivamente ho avuto due comunita'.  -> Si utilizza la modularita': confronta la struttura all'interno di una sottocomunita' dal punto di visto topologica rispetto alla struttura random\n"
   ]
  },
  {
   "cell_type": "markdown",
   "metadata": {},
   "source": [
    "## TOOLS FOR EXPLORATORY NETWORK ANALYSIS\n",
    "\n",
    "Overviwe first, zoom and filter\n",
    "\n",
    "- Libreria : python, \n",
    "http://github.com/panisson/complexNetwork\n",
    "\n",
    "NetworkX implementata in python puro per creare rete. E' pesante.. perche' implementato in Python.\n",
    "Se si hanno tanti dati si puo' usare IGraph. HA una libreria in Python.\n",
    "\n",
    "ALtra libreria snap.stanford.edu (Andre non la usa)\n",
    "\n",
    "GRAPHX -> Libreria per fare grafi che si mette sopra Spark\n",
    "\n",
    "Apache Giraph -\n",
    "Flink Gelly\n",
    "\n",
    "ALtri programmi che si possono usare per fare manipolazione dei grafi:\n",
    "Pajek (uno dei primi) --> Vecchio\n",
    "Cytoscape --> interessante www.cytoscape.org --> Usato\n",
    "Walrus --> non e' molto attuale https://www.caida.org/tools/visualization/walrus/\n",
    "Guess --> usa un meta' linguaggio\n",
    "Gephi --> sviluppato in java . E' il migliore http://gephi.org\n",
    "\n",
    "\n",
    "\n"
   ]
  },
  {
   "cell_type": "markdown",
   "metadata": {},
   "source": [
    "## LAYOUT\n",
    "Il layout e' importante. \n",
    "Un esempio e' mettere i punti in 2d in modo da vedere fin da subito come e' la struttura della rete\n",
    "Una stessa rete puo' essere visualizzato in modo diverso. L'idea del layout si basa sull'algoritmo Force layout.\n",
    "\n",
    "Geo LAyout.\n",
    "Layout circolare (vedi che ci sono gruppi di nodi che hanno piu' connessione tra di loro)\n",
    "Force-directed graph (attrazione quando ho un collegamento tra due nodi) --> Questo e' importante per il BIP\n",
    "\n",
    "ALTRI ESEMPIO:\n",
    "Frunchterman\n",
    "Yifan Hu\n",
    "S.Martin, W.M. Brown"
   ]
  },
  {
   "cell_type": "code",
   "execution_count": null,
   "metadata": {
    "collapsed": true
   },
   "outputs": [],
   "source": []
  }
 ],
 "metadata": {
  "kernelspec": {
   "display_name": "Python [Root]",
   "language": "python",
   "name": "Python [Root]"
  },
  "language_info": {
   "codemirror_mode": {
    "name": "ipython",
    "version": 2
   },
   "file_extension": ".py",
   "mimetype": "text/x-python",
   "name": "python",
   "nbconvert_exporter": "python",
   "pygments_lexer": "ipython2",
   "version": "2.7.12"
  }
 },
 "nbformat": 4,
 "nbformat_minor": 0
}

{
 "cells": [
  {
   "cell_type": "markdown",
   "metadata": {},
   "source": [
    "# Appunti corso 27/10/2016"
   ]
  },
  {
   "cell_type": "markdown",
   "metadata": {},
   "source": [
    "## Data science \n",
    "Societa' : aizoOn\n",
    "\n",
    "Paolo Bajardi \n",
    "\n",
    "Da leggere: What wal-mart knows about customers' Habits (scoprire patterns nascosti nei dati) [http://www.nytimes.com/2004/11/14/business/yourmoney/what-walmart-knows-about-customers-habits.html?_r=0]\n",
    "\n",
    "Ruolo della statistica\n",
    "- Data Exploration\n",
    "- Model testing\n",
    "- Prediction\n",
    "\n",
    "## Correlazione\n",
    "\n",
    "_Coefficente di pearson_ (https://en.wikipedia.org/wiki/Pearson_product-moment_correlation_coefficient) [Mi serve per verificare la correlazione tra due variabili --> i dati devono avere caratteristiche per poter applicare il coefficente. Ad esempio devono essere continue, e con distribuzione normale]\n",
    "\n",
    "\n",
    "_Coefficente di Spearman_(https://it.wikipedia.org/wiki/Coefficiente_di_correlazione_per_ranghi_di_Spearman): misura quando una variabile aumenta quanto aumenta l'altra variabile. Verifica se due variabili hanno una correlazione monotona.\n",
    "\n",
    "Si guardano tutti e due per capire se c'e' correlazione\n",
    "\n",
    "Ricordarsi di vedere l'AB testing.(esistono plugin di joomla)\n",
    "\n",
    "## Simpson's Paradox\n",
    "vedi sito: http://vudlab.com/simpsons\n",
    "\n",
    "## Regressione\n",
    "- Fare attenzione di non avere autocorrelazioni (es. l'altezza negli anni e' correlata l'altezza di oggi e' autocorrelata a quella dell'anno precedente)\n",
    "- Devono esserre variabili distribuite normalmente\n",
    "\n",
    "## P value\n",
    "Partendo dall'AB testing (si usa anche per fare analisi in due gruppi)\n",
    "\n",
    "P<0,05  Moderate evidence against null-hypothesis\n",
    "\n",
    "P<0,01  Strong evidence against the null hypothesis\n",
    "\n",
    "P<0,001 Very strong evidence against the null hypothesis\n",
    "\n",
    "The smaller p-value the better is\n",
    "\n",
    "vedi sito: http://abtestguide.com/calc\n",
    "\n",
    "Fa il confronto tra gruppi per validare il test che abbiamo effettuato (significativita fra gruppi)\n"
   ]
  },
  {
   "cell_type": "markdown",
   "metadata": {},
   "source": [
    "## Kolmogorov - Smirnov test (per avere la significativa del test)\n",
    "E' un test non parametrico.\n",
    "\n",
    "Restituisce D che indica la distanza delle due distribuzioni cumulative. A D e' associato un P-value.\n",
    "\n",
    "Se D  grande le due distribuzioni sono differenti.\n",
    "\n",
    "\n",
    "Bonforroni serve per raffinare il P-Value\n",
    "\n",
    "## Resampling e Bootstrap\n",
    "\n",
    "Test A e B\n",
    "Serve per capire se il test  significativo\n"
   ]
  },
  {
   "cell_type": "code",
   "execution_count": null,
   "metadata": {
    "collapsed": true
   },
   "outputs": [],
   "source": []
  }
 ],
 "metadata": {
  "anaconda-cloud": {},
  "kernelspec": {
   "display_name": "Python [Root]",
   "language": "python",
   "name": "Python [Root]"
  },
  "language_info": {
   "codemirror_mode": {
    "name": "ipython",
    "version": 3
   },
   "file_extension": ".py",
   "mimetype": "text/x-python",
   "name": "python",
   "nbconvert_exporter": "python",
   "pygments_lexer": "ipython3",
   "version": "3.5.2"
  }
 },
 "nbformat": 4,
 "nbformat_minor": 0
}

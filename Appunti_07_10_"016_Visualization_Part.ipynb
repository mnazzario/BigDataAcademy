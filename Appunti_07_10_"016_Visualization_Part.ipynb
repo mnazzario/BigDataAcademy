{
 "cells": [
  {
   "cell_type": "markdown",
   "metadata": {},
   "source": [
    "# Introduzione\n",
    "\n",
    "Segue la parte di visualizzazione Todo.\n",
    "\n",
    "Strumenti per visualizzare date:\n",
    "Excel \n",
    "Gephi (permette di lavorare con i grafi)\n",
    "Qgis (elaborazione di mappe georeferenziati)\n",
    "R (per statistici)\n",
    "Refine (Strumento ideale per pulire i dati)\n",
    "Tableau (SAAS)\n",
    "Libreria Javascript\n",
    "\n",
    "L'idea  di andare oltre la tradizionale rappresentazione. (ad esempio interfaccie esplorabili)\n",
    "\n",
    "Approccio Prima ti dico 2 robe per capire di cosa si parla e poi vado in profondita'\n",
    "\n",
    "Esempio interessante: http://www.r2d3.us/visual-intro-to-machine-learning-part-1/\n",
    "\n",
    "Per fare una cosa descritta sopra e' necessario prevedere r2d3.us\n",
    "\n",
    "Questo tipo di documentazione e' possibile grazie a <b>D3 Data Driven Documents</b>\n",
    "\n",
    "D3 si appoggia sul W3C\n",
    "\n",
    "Esempio di libreria http://bl.ocksplorer.org\n",
    "\n",
    "Libreria interessante d4 (sempre di d3)\n",
    "\n",
    "Enter - Update - Exit --> Il comportamento degli elementi\n",
    "Transizioni --> altro concetto importante per guidare l'utente\n",
    "\n",
    "Data sources\n",
    "-> Csv\n",
    "-> Json\n",
    "-> XML\n",
    "\n",
    "Si usa Brakets per l'html\n",
    "\n",
    "il tag html principalmente utilizzato e' svg\n",
    "il canvas ha delle coordinate x e y. lo 0,0  l'angolo in alto a sinistra\n"
   ]
  },
  {
   "cell_type": "code",
   "execution_count": null,
   "metadata": {
    "collapsed": true
   },
   "outputs": [],
   "source": []
  }
 ],
 "metadata": {
  "kernelspec": {
   "display_name": "Python [Root]",
   "language": "python",
   "name": "Python [Root]"
  },
  "language_info": {
   "codemirror_mode": {
    "name": "ipython",
    "version": 2
   },
   "file_extension": ".py",
   "mimetype": "text/x-python",
   "name": "python",
   "nbconvert_exporter": "python",
   "pygments_lexer": "ipython2",
   "version": "2.7.12"
  }
 },
 "nbformat": 4,
 "nbformat_minor": 0
}

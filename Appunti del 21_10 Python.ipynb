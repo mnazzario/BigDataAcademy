{
 "cells": [
  {
   "cell_type": "markdown",
   "metadata": {},
   "source": [
    "# List Comprehension"
   ]
  },
  {
   "cell_type": "code",
   "execution_count": 13,
   "metadata": {
    "collapsed": false
   },
   "outputs": [
    {
     "name": "stdout",
     "output_type": "stream",
     "text": [
      "['G', 'i', 'o', 'v', 'a', 'n', 'n', 'i']\n",
      "['i', 'i']\n",
      "['G', 'o', 'a', 'n']\n",
      "0 G\n",
      "1 i\n",
      "2 o\n",
      "3 v\n",
      "4 a\n",
      "5 n\n",
      "6 n\n",
      "7 i\n",
      "<generator object <genexpr> at 0x0000024FBC9E1BF8>\n"
     ]
    }
   ],
   "source": [
    "name = 'Giovanni'\n",
    "name_list =[]\n",
    "for letter in name:\n",
    "    name_list.append(letter)\n",
    "    \n",
    "print(name_list)\n",
    "\n",
    "name_list =[letter for letter in name if letter =='i']\n",
    "print(name_list)\n",
    "\n",
    "lettere_pari = [letter for i,letter in enumerate(name) if i%2==0]\n",
    "print(lettere_pari)\n",
    "\n",
    "for i,letter in enumerate(name):\n",
    "    print(i, letter)\n",
    "    \n",
    "myObject = ['Ciao', \"Mondo\", 1, True, {\"key\":\"value\"}, [1,2,3]]\n",
    "\n",
    "print(element for element in myObject if isinstance(element,dict))"
   ]
  },
  {
   "cell_type": "markdown",
   "metadata": {},
   "source": [
    "# Generatori"
   ]
  },
  {
   "cell_type": "code",
   "execution_count": 17,
   "metadata": {
    "collapsed": false
   },
   "outputs": [
    {
     "data": {
      "text/plain": [
       "range(0, 10)"
      ]
     },
     "execution_count": 17,
     "metadata": {},
     "output_type": "execute_result"
    }
   ],
   "source": [
    "range(10)"
   ]
  },
  {
   "cell_type": "code",
   "execution_count": 18,
   "metadata": {
    "collapsed": false
   },
   "outputs": [
    {
     "name": "stdout",
     "output_type": "stream",
     "text": [
      "[0, 1, 2, 3, 4, 5, 6, 7, 8, 9]\n"
     ]
    }
   ],
   "source": [
    "lista = list() #[] e' la stessa cosa\n",
    "for i in range(10):\n",
    "    lista.append(i)\n",
    "print(lista)"
   ]
  },
  {
   "cell_type": "code",
   "execution_count": 20,
   "metadata": {
    "collapsed": false
   },
   "outputs": [
    {
     "name": "stdout",
     "output_type": "stream",
     "text": [
      "[0, 1, 2, 3, 4, 5, 6, 7, 8, 9]\n"
     ]
    }
   ],
   "source": [
    "lista = [i for i in range (10)]\n",
    "print(lista)"
   ]
  },
  {
   "cell_type": "code",
   "execution_count": 27,
   "metadata": {
    "collapsed": false
   },
   "outputs": [
    {
     "name": "stdout",
     "output_type": "stream",
     "text": [
      "<generator object <genexpr> at 0x0000024FBCA0FE60>\n",
      "0\n",
      "1\n",
      "2\n",
      "3\n",
      "4\n",
      "5\n",
      "6\n",
      "7\n",
      "8\n",
      "9\n"
     ]
    }
   ],
   "source": [
    "generatore = (i for i in range(10))\n",
    "print(generatore)\n",
    "\n",
    "for i in generatore:\n",
    "    print(i)"
   ]
  },
  {
   "cell_type": "code",
   "execution_count": 29,
   "metadata": {
    "collapsed": false
   },
   "outputs": [
    {
     "name": "stdout",
     "output_type": "stream",
     "text": [
      "<generator object <genexpr> at 0x0000024FBC9E10A0>\n",
      "['__class__', '__del__', '__delattr__', '__dir__', '__doc__', '__eq__', '__format__', '__ge__', '__getattribute__', '__gt__', '__hash__', '__init__', '__iter__', '__le__', '__lt__', '__name__', '__ne__', '__new__', '__next__', '__qualname__', '__reduce__', '__reduce_ex__', '__repr__', '__setattr__', '__sizeof__', '__str__', '__subclasshook__', 'close', 'gi_code', 'gi_frame', 'gi_running', 'gi_yieldfrom', 'send', 'throw']\n"
     ]
    }
   ],
   "source": [
    "generatore = (i for i in range(10))\n",
    "print (generatore)\n",
    "print (dir(generatore))\n"
   ]
  },
  {
   "cell_type": "code",
   "execution_count": 32,
   "metadata": {
    "collapsed": false
   },
   "outputs": [
    {
     "name": "stdout",
     "output_type": "stream",
     "text": [
      "0\n"
     ]
    }
   ],
   "source": [
    "print(next(generatore)) #in python 2 print generatore.next()"
   ]
  },
  {
   "cell_type": "code",
   "execution_count": 33,
   "metadata": {
    "collapsed": false
   },
   "outputs": [
    {
     "name": "stdout",
     "output_type": "stream",
     "text": [
      "1\n"
     ]
    }
   ],
   "source": [
    "print(next(generatore))"
   ]
  },
  {
   "cell_type": "code",
   "execution_count": 35,
   "metadata": {
    "collapsed": false
   },
   "outputs": [
    {
     "name": "stdout",
     "output_type": "stream",
     "text": [
      "3\n"
     ]
    }
   ],
   "source": [
    "try:\n",
    "    print(next(generatore))\n",
    "except StopIteration:\n",
    "    print (\"Generatore vuoto...\")"
   ]
  },
  {
   "cell_type": "code",
   "execution_count": 43,
   "metadata": {
    "collapsed": false
   },
   "outputs": [
    {
     "name": "stdout",
     "output_type": "stream",
     "text": [
      "0\n",
      "2\n",
      "4\n",
      "6\n",
      "8\n"
     ]
    }
   ],
   "source": [
    "def my_doublify(num):\n",
    "    for i in range(num):\n",
    "        yield i*2 #lo yeld serve per restituire il valore ma continua il ciclo for\n",
    "\n",
    "for i in my_doublify(5):\n",
    "    print(i)"
   ]
  },
  {
   "cell_type": "code",
   "execution_count": 45,
   "metadata": {
    "collapsed": false
   },
   "outputs": [
    {
     "ename": "NameError",
     "evalue": "name 'xrange' is not defined",
     "output_type": "error",
     "traceback": [
      "\u001b[1;31m---------------------------------------------------------------------------\u001b[0m",
      "\u001b[1;31mNameError\u001b[0m                                 Traceback (most recent call last)",
      "\u001b[1;32m<ipython-input-45-f1b4643b4df5>\u001b[0m in \u001b[0;36m<module>\u001b[1;34m()\u001b[0m\n\u001b[1;32m----> 1\u001b[1;33m \u001b[1;32mfor\u001b[0m \u001b[0mi\u001b[0m \u001b[1;32min\u001b[0m \u001b[0mxrange\u001b[0m\u001b[1;33m(\u001b[0m\u001b[1;36m1000000\u001b[0m\u001b[1;33m)\u001b[0m\u001b[1;33m:\u001b[0m\u001b[1;33m\u001b[0m\u001b[0m\n\u001b[0m\u001b[0;32m      2\u001b[0m     \u001b[0mprint\u001b[0m\u001b[1;33m(\u001b[0m\u001b[0mi\u001b[0m\u001b[1;33m)\u001b[0m\u001b[1;33m\u001b[0m\u001b[0m\n\u001b[0;32m      3\u001b[0m     \u001b[1;32mif\u001b[0m \u001b[0mi\u001b[0m\u001b[1;33m>\u001b[0m\u001b[1;36m5\u001b[0m \u001b[1;33m:\u001b[0m\u001b[1;33m\u001b[0m\u001b[0m\n\u001b[0;32m      4\u001b[0m         \u001b[1;32mbreak\u001b[0m\u001b[1;33m\u001b[0m\u001b[0m\n",
      "\u001b[1;31mNameError\u001b[0m: name 'xrange' is not defined"
     ]
    }
   ],
   "source": [
    "for i in xrange(1000000): #funziona solo in python 2.7\n",
    "    print i\n",
    "    if i>5 :\n",
    "        break"
   ]
  },
  {
   "cell_type": "markdown",
   "metadata": {},
   "source": [
    "# Classi e oggetti"
   ]
  },
  {
   "cell_type": "code",
   "execution_count": 79,
   "metadata": {
    "collapsed": false
   },
   "outputs": [
    {
     "name": "stdout",
     "output_type": "stream",
     "text": [
      "<__main__.MyClass object at 0x0000024FBCA80DD8>\n",
      "ciao\n",
      "Mondo\n"
     ]
    },
    {
     "ename": "AttributeError",
     "evalue": "'MyClass' object has no attribute 'attributo'",
     "output_type": "error",
     "traceback": [
      "\u001b[1;31m---------------------------------------------------------------------------\u001b[0m",
      "\u001b[1;31mAttributeError\u001b[0m                            Traceback (most recent call last)",
      "\u001b[1;32m<ipython-input-79-3bc5dff3679f>\u001b[0m in \u001b[0;36m<module>\u001b[1;34m()\u001b[0m\n\u001b[0;32m     10\u001b[0m \u001b[1;33m\u001b[0m\u001b[0m\n\u001b[0;32m     11\u001b[0m \u001b[0mb\u001b[0m \u001b[1;33m=\u001b[0m \u001b[0mMyClass\u001b[0m\u001b[1;33m(\u001b[0m\u001b[1;33m)\u001b[0m\u001b[1;33m\u001b[0m\u001b[0m\n\u001b[1;32m---> 12\u001b[1;33m \u001b[0mprint\u001b[0m \u001b[1;33m(\u001b[0m\u001b[0mb\u001b[0m\u001b[1;33m.\u001b[0m\u001b[0mattributo\u001b[0m\u001b[1;33m)\u001b[0m\u001b[1;33m\u001b[0m\u001b[0m\n\u001b[0m",
      "\u001b[1;31mAttributeError\u001b[0m: 'MyClass' object has no attribute 'attributo'"
     ]
    }
   ],
   "source": [
    "class MyClass(object):\n",
    "    pass\n",
    "\n",
    "c = MyClass()\n",
    "print(c)\n",
    "c.attributo = \"ciao\"\n",
    "print(c.attributo)\n",
    "c.attributo = \"Mondo\"\n",
    "print(c.attributo)\n",
    "\n",
    "b = MyClass()\n",
    "print (b.attributo)"
   ]
  },
  {
   "cell_type": "code",
   "execution_count": 80,
   "metadata": {
    "collapsed": false
   },
   "outputs": [
    {
     "name": "stdout",
     "output_type": "stream",
     "text": [
      "Matteo\n",
      "Comu\n",
      "Matteo\n",
      "Sconosciuto\n",
      "Matteo - Nazzario\n",
      "Matteo - Nazzario\n",
      "pippo - pluto\n"
     ]
    },
    {
     "data": {
      "text/plain": [
       "pippo - pluto"
      ]
     },
     "execution_count": 80,
     "metadata": {},
     "output_type": "execute_result"
    }
   ],
   "source": [
    "class Person(object):\n",
    "    def __init__(self, name='Sconosciuto',cognome='Sconosciuto'):\n",
    "        self.name = name\n",
    "        self.cognome = cognome\n",
    "    \n",
    "    def __str__(self):\n",
    "        return self.print_name()\n",
    "        # return (\"{} - {}\".format(self.name,self.cognome))\n",
    "        #in python 2\n",
    "        # return \"5s - %s\" % (self.name,self.cognome)\n",
    "    \n",
    "    def __repr__(self):\n",
    "        return self.print_name()\n",
    "    \n",
    "    def print_name(self):\n",
    "        return (\"{} - {}\".format(self.name,self.cognome))\n",
    "         #in python 2\n",
    "        # return \"5s - %s\" % (self.name,self.cognome)\n",
    "    \n",
    "    def rename(self, new_name, new_cognome):\n",
    "        self.name = new_name\n",
    "        self.cognome = new_cognome\n",
    "    \n",
    "    @property #questo è un decoratore che indica che la seguende funzione è una property\n",
    "    def fullname(self):\n",
    "        return \"{} - {}\".format(self.name,self.cognome)\n",
    "    \n",
    "    #Esempio di VALUE = \"Alex Comu\"\n",
    "    \n",
    "    @fullname.setter\n",
    "    def fullname(self,value):\n",
    "        self.name, self.cognome = value.split()\n",
    "\n",
    "\n",
    "persona = Person(\"Matteo\", \"Nazzario\")\n",
    "print(persona.name)\n",
    "\n",
    "persona1 = Person(name=\"Alex\", cognome=\"Comu\")\n",
    "print(persona1.cognome)\n",
    "\n",
    "persona2 = Person(\"Matteo\")\n",
    "print (persona2.name)\n",
    "print (persona2.cognome)\n",
    "\n",
    "print(persona.print_name())\n",
    "\n",
    "print(persona)\n",
    "\n",
    "persona.rename(\"pippo\", \"pluto\") #meglio non accedere direttamente agli attributi\n",
    "\n",
    "print(persona)\n",
    "\n",
    "persona #chiama repr"
   ]
  },
  {
   "cell_type": "markdown",
   "metadata": {},
   "source": [
    "# Properties"
   ]
  },
  {
   "cell_type": "code",
   "execution_count": 81,
   "metadata": {
    "collapsed": false
   },
   "outputs": [
    {
     "name": "stdout",
     "output_type": "stream",
     "text": [
      "pippo - pluto\n"
     ]
    }
   ],
   "source": [
    "print(persona.fullname)"
   ]
  },
  {
   "cell_type": "code",
   "execution_count": 82,
   "metadata": {
    "collapsed": false
   },
   "outputs": [
    {
     "name": "stdout",
     "output_type": "stream",
     "text": [
      "Alex - Comu\n"
     ]
    }
   ],
   "source": [
    "persona.fullname = \"Alex Comu\"\n",
    "print(persona)"
   ]
  },
  {
   "cell_type": "code",
   "execution_count": null,
   "metadata": {
    "collapsed": true
   },
   "outputs": [],
   "source": []
  }
 ],
 "metadata": {
  "anaconda-cloud": {},
  "kernelspec": {
   "display_name": "Python [Root]",
   "language": "python",
   "name": "Python [Root]"
  },
  "language_info": {
   "codemirror_mode": {
    "name": "ipython",
    "version": 3
   },
   "file_extension": ".py",
   "mimetype": "text/x-python",
   "name": "python",
   "nbconvert_exporter": "python",
   "pygments_lexer": "ipython3",
   "version": "3.5.2"
  }
 },
 "nbformat": 4,
 "nbformat_minor": 0
}

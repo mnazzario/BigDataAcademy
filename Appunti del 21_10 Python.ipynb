{
 "cells": [
  {
   "cell_type": "markdown",
   "metadata": {},
   "source": [
    "# List Comprehension"
   ]
  },
  {
   "cell_type": "code",
   "execution_count": 13,
   "metadata": {
    "collapsed": false
   },
   "outputs": [
    {
     "name": "stdout",
     "output_type": "stream",
     "text": [
      "['G', 'i', 'o', 'v', 'a', 'n', 'n', 'i']\n",
      "['i', 'i']\n",
      "['G', 'o', 'a', 'n']\n",
      "0 G\n",
      "1 i\n",
      "2 o\n",
      "3 v\n",
      "4 a\n",
      "5 n\n",
      "6 n\n",
      "7 i\n",
      "<generator object <genexpr> at 0x0000024FBC9E1BF8>\n"
     ]
    }
   ],
   "source": [
    "name = 'Giovanni'\n",
    "name_list =[]\n",
    "for letter in name:\n",
    "    name_list.append(letter)\n",
    "    \n",
    "print(name_list)\n",
    "\n",
    "name_list =[letter for letter in name if letter =='i']\n",
    "print(name_list)\n",
    "\n",
    "lettere_pari = [letter for i,letter in enumerate(name) if i%2==0]\n",
    "print(lettere_pari)\n",
    "\n",
    "for i,letter in enumerate(name):\n",
    "    print(i, letter)\n",
    "    \n",
    "myObject = ['Ciao', \"Mondo\", 1, True, {\"key\":\"value\"}, [1,2,3]]\n",
    "\n",
    "print(element for element in myObject if isinstance(element,dict))"
   ]
  },
  {
   "cell_type": "markdown",
   "metadata": {},
   "source": [
    "# Generatori"
   ]
  },
  {
   "cell_type": "code",
   "execution_count": 17,
   "metadata": {
    "collapsed": false
   },
   "outputs": [
    {
     "data": {
      "text/plain": [
       "range(0, 10)"
      ]
     },
     "execution_count": 17,
     "metadata": {},
     "output_type": "execute_result"
    }
   ],
   "source": [
    "range(10)"
   ]
  },
  {
   "cell_type": "code",
   "execution_count": 18,
   "metadata": {
    "collapsed": false
   },
   "outputs": [
    {
     "name": "stdout",
     "output_type": "stream",
     "text": [
      "[0, 1, 2, 3, 4, 5, 6, 7, 8, 9]\n"
     ]
    }
   ],
   "source": [
    "lista = list() #[] e' la stessa cosa\n",
    "for i in range(10):\n",
    "    lista.append(i)\n",
    "print(lista)"
   ]
  },
  {
   "cell_type": "code",
   "execution_count": 20,
   "metadata": {
    "collapsed": false
   },
   "outputs": [
    {
     "name": "stdout",
     "output_type": "stream",
     "text": [
      "[0, 1, 2, 3, 4, 5, 6, 7, 8, 9]\n"
     ]
    }
   ],
   "source": [
    "lista = [i for i in range (10)]\n",
    "print(lista)"
   ]
  },
  {
   "cell_type": "code",
   "execution_count": 27,
   "metadata": {
    "collapsed": false
   },
   "outputs": [
    {
     "name": "stdout",
     "output_type": "stream",
     "text": [
      "<generator object <genexpr> at 0x0000024FBCA0FE60>\n",
      "0\n",
      "1\n",
      "2\n",
      "3\n",
      "4\n",
      "5\n",
      "6\n",
      "7\n",
      "8\n",
      "9\n"
     ]
    }
   ],
   "source": [
    "generatore = (i for i in range(10))\n",
    "print(generatore)\n",
    "\n",
    "for i in generatore:\n",
    "    print(i)"
   ]
  },
  {
   "cell_type": "code",
   "execution_count": null,
   "metadata": {
    "collapsed": true
   },
   "outputs": [],
   "source": []
  }
 ],
 "metadata": {
  "anaconda-cloud": {},
  "kernelspec": {
   "display_name": "Python [Root]",
   "language": "python",
   "name": "Python [Root]"
  },
  "language_info": {
   "codemirror_mode": {
    "name": "ipython",
    "version": 3
   },
   "file_extension": ".py",
   "mimetype": "text/x-python",
   "name": "python",
   "nbconvert_exporter": "python",
   "pygments_lexer": "ipython3",
   "version": "3.5.2"
  }
 },
 "nbformat": 4,
 "nbformat_minor": 0
}

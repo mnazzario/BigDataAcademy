{
 "cells": [
  {
   "cell_type": "markdown",
   "metadata": {},
   "source": [
    "# Network Science\n",
    "\n",
    "\n",
    "**GOAL OF THE SESSION**: Fetch data from Twitter APIs\n",
    "\n",
    "**DATA SOURCE**: Twitter \n",
    "\n",
    "**DEVELOPMENT**: How to create a Python script to query Twitter APIs\n",
    "\n",
    "**REQUIREMENTS**: \n",
    "\n",
    "    Twitter Developer Account\n",
    "    tweepy \n",
    "    Python Pretty Print\n",
    "\n",
    "### Pretty Print\n",
    "\n",
    "Using **pprint** we can format in a nice way the print output. Here an example:\n",
    "\n",
    "    import pprint\n",
    "    pp = pprint.PrettyPrinter(indent=2)\n",
    "    pp.pprint(OBJECT-TO-PRINT)\n"
   ]
  },
  {
   "cell_type": "code",
   "execution_count": 1,
   "metadata": {
    "collapsed": false
   },
   "outputs": [
    {
     "name": "stdout",
     "output_type": "stream",
     "text": [
      "NON PRETTY\n",
      "{'list': [1, 2, 3], 'Surname': 'Comu', 'name': 'Alex', 'address': {'street': 'Via Maria Vittoria', 'number': 1}} \n",
      "\n",
      "PRETTY:\n",
      "{ 'Surname': 'Comu',\n",
      "  'address': { 'number': 1, 'street': 'Via Maria Vittoria'},\n",
      "  'list': [1, 2, 3],\n",
      "  'name': 'Alex'}\n"
     ]
    }
   ],
   "source": [
    "import pprint\n",
    "#print help(pprint.PrettyPrinter)\n",
    "pp = pprint.PrettyPrinter(indent=2)\n",
    "names = {\"name\":\"Alex\", \"Surname\":\"Comu\", \"list\":[1,2,3],\"address\":{\"street\":\"Via Maria Vittoria\", \"number\":1}}\n",
    "print \"NON PRETTY\\n\", names, \"\\n\"\n",
    "print \"PRETTY:\"\n",
    "pp.pprint(names)"
   ]
  },
  {
   "cell_type": "markdown",
   "metadata": {},
   "source": [
    "# Demo with Special Effects\n",
    "\n",
    "Inside the folder **demo** you'll find a very cool demo, a super interaction between:\n",
    "\n",
    "* Twitter API\n",
    "* Python Web Server\n",
    "* D3Js visualization\n",
    "\n",
    "Read the file **Readme.md** to have more information about the example.\n",
    "\n",
    "The goal of the demo is to create a Connector between my PC and Twitter. After the creation of this connector I want ro retrieve all the tweets that contains a specific **hashtags**.\n",
    "\n",
    "At the end I'll represent the tweets in a dynamic data visualization with D3Js."
   ]
  },
  {
   "cell_type": "markdown",
   "metadata": {},
   "source": [
    "# Twitter Developer Account\n",
    "\n",
    "Sign in @ [https://dev.twitter.com/](https://dev.twitter.com/) website and create an account if you need.\n",
    "\n",
    "After the creation of the account we need to create a new Twitter APP to fetch the APIs, so go to [https://apps.twitter.com/](https://apps.twitter.com/) and create a new one.\n",
    "\n",
    "To allow our APP to use the Twitter APIs we need to create an Access Token, so click on **Keys and Access Tokens** and create a new one.\n",
    "\n",
    "And now we're ready to play with Twitter:)\n",
    "\n",
    "## Twitter Documentation\n",
    "\n",
    "[HERE](https://dev.twitter.com/overview/api) we can find a complete overview on Twitter API.\n",
    "\n",
    "# Tweepy Installation\n",
    "\n",
    "We need to install the package **tweepy**:\n",
    "\n",
    "    pip install tweepy\n",
    "    \n",
    "We can find the documentation of the Library:\n",
    "\n",
    "    http://tweepy.readthedocs.io/\n",
    "    \n",
    "## OAuth\n",
    "\n",
    "First of all we need to save our credentials in variables. After that we can login on twitter and start use the APIs.\n"
   ]
  },
  {
   "cell_type": "code",
   "execution_count": 2,
   "metadata": {
    "collapsed": true
   },
   "outputs": [],
   "source": [
    "import tweepy\n",
    "import pprint\n",
    "pp = pprint.PrettyPrinter(indent=2)\n",
    "\n",
    "CONSUMER_KEY = \"2BRRQCOLbiQ6M86aRr5b0Kshe\"\n",
    "SECRET_KEY = \"OgWhsLtZOgyKwHkKxRCNro36YNJ0lk8KncvL5GlgKhUTV7T7X7\"\n",
    "ACCESS_TOKEN = \"1342400166-bQTNjdgu7dZP5AulH2IScU65TK0SsyhH4m61qYe\"\n",
    "SECRET_ACCESS_TOKEN = \"0hG7fV39sqx45MA42KCjw7FCJhNUGXYhdwCD5S37cfXTE\""
   ]
  },
  {
   "cell_type": "code",
   "execution_count": 3,
   "metadata": {
    "collapsed": true
   },
   "outputs": [],
   "source": [
    "# Twitter Authentication\n",
    "auth = tweepy.OAuthHandler(CONSUMER_KEY, SECRET_KEY)\n",
    "auth.set_access_token(ACCESS_TOKEN, SECRET_ACCESS_TOKEN)"
   ]
  },
  {
   "cell_type": "code",
   "execution_count": 5,
   "metadata": {
    "collapsed": false
   },
   "outputs": [
    {
     "name": "stdout",
     "output_type": "stream",
     "text": [
      "<tweepy.api.API object at 0x7f1a242adad0>\n"
     ]
    }
   ],
   "source": [
    "# Create the connection to the api\n",
    "api = tweepy.API(auth)\n",
    "print api\n"
   ]
  },
  {
   "cell_type": "code",
   "execution_count": 6,
   "metadata": {
    "collapsed": false
   },
   "outputs": [
    {
     "name": "stdout",
     "output_type": "stream",
     "text": [
      "Help on API in module tweepy.api object:\n",
      "\n",
      "class API(__builtin__.object)\n",
      " |  Twitter API\n",
      " |  \n",
      " |  Methods defined here:\n",
      " |  \n",
      " |  __init__(self, auth_handler=None, host='api.twitter.com', search_host='search.twitter.com', upload_host='upload.twitter.com', cache=None, api_root='/1.1', search_root='', upload_root='/1.1', retry_count=0, retry_delay=0, retry_errors=None, timeout=60, parser=None, compression=False, wait_on_rate_limit=False, wait_on_rate_limit_notify=False, proxy='')\n",
      " |      Api instance Constructor\n",
      " |      \n",
      " |      :param auth_handler:\n",
      " |      :param host:  url of the server of the rest api, default:'api.twitter.com'\n",
      " |      :param search_host: url of the search server, default:'search.twitter.com'\n",
      " |      :param upload_host: url of the upload server, default:'upload.twitter.com'\n",
      " |      :param cache: Cache to query if a GET method is used, default:None\n",
      " |      :param api_root: suffix of the api version, default:'/1.1'\n",
      " |      :param search_root: suffix of the search version, default:''\n",
      " |      :param upload_root: suffix of the upload version, default:'/1.1'\n",
      " |      :param retry_count: number of allowed retries, default:0\n",
      " |      :param retry_delay: delay in second between retries, default:0\n",
      " |      :param retry_errors: default:None\n",
      " |      :param timeout: delay before to consider the request as timed out in seconds, default:60\n",
      " |      :param parser: ModelParser instance to parse the responses, default:None\n",
      " |      :param compression: If the response is compressed, default:False\n",
      " |      :param wait_on_rate_limit: If the api wait when it hits the rate limit, default:False\n",
      " |      :param wait_on_rate_limit_notify: If the api print a notification when the rate limit is hit, default:False\n",
      " |      :param proxy: Url to use as proxy during the HTTP request, default:''\n",
      " |      \n",
      " |      :raise TypeError: If the given parser is not a ModelParser instance.\n",
      " |  \n",
      " |  add_list_members(self, screen_name=None, user_id=None, slug=None, list_id=None, owner_id=None, owner_screen_name=None)\n",
      " |      Perform bulk add of list members from user ID or screenname\n",
      " |  \n",
      " |  lookup_friendships(self, user_ids=None, screen_names=None)\n",
      " |      Perform bulk look up of friendships from user ID or screenname\n",
      " |  \n",
      " |  lookup_users(self, user_ids=None, screen_names=None, include_entities=None)\n",
      " |      Perform bulk look up of users from user ID or screenname\n",
      " |  \n",
      " |  me(self)\n",
      " |      Get the authenticated user\n",
      " |  \n",
      " |  media_upload(self, filename, *args, **kwargs)\n",
      " |      :reference: https://dev.twitter.com/rest/reference/post/media/upload\n",
      " |      :allowed_param:\n",
      " |  \n",
      " |  remove_list_members(self, screen_name=None, user_id=None, slug=None, list_id=None, owner_id=None, owner_screen_name=None)\n",
      " |      Perform bulk remove of list members from user ID or screenname\n",
      " |  \n",
      " |  statuses_lookup(self, id_, include_entities=None, trim_user=None, map_=None)\n",
      " |  \n",
      " |  update_profile_background_image(self, filename, **kargs)\n",
      " |      :reference: https://dev.twitter.com/rest/reference/post/account/update_profile_background_image\n",
      " |      :allowed_param:'tile', 'include_entities', 'skip_status', 'use'\n",
      " |  \n",
      " |  update_profile_banner(self, filename, **kargs)\n",
      " |      :reference: https://dev.twitter.com/rest/reference/post/account/update_profile_banner\n",
      " |      :allowed_param:'width', 'height', 'offset_left', 'offset_right'\n",
      " |  \n",
      " |  update_profile_image(self, filename, file_=None)\n",
      " |      :reference: https://dev.twitter.com/rest/reference/post/account/update_profile_image\n",
      " |      :allowed_param:'include_entities', 'skip_status'\n",
      " |  \n",
      " |  update_status(self, *args, **kwargs)\n",
      " |      :reference: https://dev.twitter.com/rest/reference/post/statuses/update\n",
      " |      :allowed_param:'status', 'in_reply_to_status_id', 'lat', 'long', 'source', 'place_id', 'display_coordinates', 'media_ids'\n",
      " |  \n",
      " |  update_with_media(self, filename, *args, **kwargs)\n",
      " |      :reference: https://dev.twitter.com/rest/reference/post/statuses/update_with_media\n",
      " |      :allowed_param:'status', 'possibly_sensitive', 'in_reply_to_status_id', 'lat', 'long', 'place_id', 'display_coordinates'\n",
      " |  \n",
      " |  verify_credentials(self, **kargs)\n",
      " |      :reference: https://dev.twitter.com/rest/reference/get/account/verify_credentials\n",
      " |      :allowed_param:'include_entities', 'skip_status', 'include_email'\n",
      " |  \n",
      " |  ----------------------------------------------------------------------\n",
      " |  Data descriptors defined here:\n",
      " |  \n",
      " |  __dict__\n",
      " |      dictionary for instance variables (if defined)\n",
      " |  \n",
      " |  __weakref__\n",
      " |      list of weak references to the object (if defined)\n",
      " |  \n",
      " |  add_list_member\n",
      " |      :reference: https://dev.twitter.com/docs/api/1.1/post/lists/members/create\n",
      " |      :allowed_param:'screen_name', 'user_id', 'owner_screen_name',\n",
      " |       'owner_id', 'slug', 'list_id'\n",
      " |  \n",
      " |  blocks\n",
      " |      :reference: https://dev.twitter.com/rest/reference/get/blocks/list\n",
      " |      :allowed_param:'cursor'\n",
      " |  \n",
      " |  blocks_ids\n",
      " |      :reference: https://dev.twitter.com/rest/reference/get/blocks/ids\n",
      " |  \n",
      " |  configuration\n",
      " |      :reference: https://dev.twitter.com/rest/reference/get/help/configuration\n",
      " |  \n",
      " |  create_block\n",
      " |      :reference: https://dev.twitter.com/rest/reference/post/blocks/create\n",
      " |      :allowed_param:'id', 'user_id', 'screen_name'\n",
      " |  \n",
      " |  create_favorite\n",
      " |      :reference:https://dev.twitter.com/rest/reference/post/favorites/create\n",
      " |      :allowed_param:'id'\n",
      " |  \n",
      " |  create_friendship\n",
      " |      :reference: https://dev.twitter.com/rest/reference/post/friendships/create\n",
      " |      :allowed_param:'id', 'user_id', 'screen_name', 'follow'\n",
      " |  \n",
      " |  create_list\n",
      " |      :reference: https://dev.twitter.com/rest/reference/post/lists/create\n",
      " |      :allowed_param:'name', 'mode', 'description'\n",
      " |  \n",
      " |  create_saved_search\n",
      " |      :reference: https://dev.twitter.com/rest/reference/post/saved_searches/create\n",
      " |      :allowed_param:'query'\n",
      " |  \n",
      " |  destroy_block\n",
      " |      :reference: https://dev.twitter.com/rest/reference/post/blocks/destroy\n",
      " |      :allowed_param:'id', 'user_id', 'screen_name'\n",
      " |  \n",
      " |  destroy_direct_message\n",
      " |      :reference: https://dev.twitter.com/rest/reference/post/direct_messages/destroy\n",
      " |      :allowed_param:'id'\n",
      " |  \n",
      " |  destroy_favorite\n",
      " |      :reference: https://dev.twitter.com/rest/reference/post/favorites/destroy\n",
      " |      :allowed_param:'id'\n",
      " |  \n",
      " |  destroy_friendship\n",
      " |      :reference: https://dev.twitter.com/rest/reference/post/friendships/destroy\n",
      " |      :allowed_param:'id', 'user_id', 'screen_name'\n",
      " |  \n",
      " |  destroy_list\n",
      " |      :reference: https://dev.twitter.com/rest/reference/post/lists/destroy\n",
      " |      :allowed_param:'owner_screen_name', 'owner_id', 'list_id', 'slug'\n",
      " |  \n",
      " |  destroy_saved_search\n",
      " |      :reference: https://dev.twitter.com/rest/reference/post/saved_searches/destroy/%3Aid\n",
      " |      :allowed_param:'id'\n",
      " |  \n",
      " |  destroy_status\n",
      " |      :reference: https://dev.twitter.com/rest/reference/post/statuses/destroy/%3Aid\n",
      " |      :allowed_param:'id'\n",
      " |  \n",
      " |  direct_messages\n",
      " |      :reference: https://dev.twitter.com/rest/reference/get/direct_messages\n",
      " |      :allowed_param:'since_id', 'max_id', 'count', 'full_text'\n",
      " |  \n",
      " |  favorites\n",
      " |      :reference: https://dev.twitter.com/rest/reference/get/favorites/list\n",
      " |      :allowed_param:'screen_name', 'user_id', 'max_id', 'count', 'since_id', 'max_id'\n",
      " |  \n",
      " |  followers\n",
      " |      :reference: https://dev.twitter.com/rest/reference/get/followers/list\n",
      " |      :allowed_param:'id', 'user_id', 'screen_name', 'cursor', 'count', 'skip_status', 'include_user_entities'\n",
      " |  \n",
      " |  followers_ids\n",
      " |      :reference: https://dev.twitter.com/rest/reference/get/followers/ids\n",
      " |      :allowed_param:'id', 'user_id', 'screen_name', 'cursor', 'count'\n",
      " |  \n",
      " |  friends\n",
      " |      :reference: https://dev.twitter.com/rest/reference/get/friends/list\n",
      " |      :allowed_param:'id', 'user_id', 'screen_name', 'cursor', 'skip_status', 'include_user_entities'\n",
      " |  \n",
      " |  friends_ids\n",
      " |      :reference: https://dev.twitter.com/rest/reference/get/friends/ids\n",
      " |      :allowed_param:'id', 'user_id', 'screen_name', 'cursor'\n",
      " |  \n",
      " |  friendships_incoming\n",
      " |      :reference: https://dev.twitter.com/rest/reference/get/friendships/incoming\n",
      " |      :allowed_param:'cursor'\n",
      " |  \n",
      " |  friendships_outgoing\n",
      " |      :reference: https://dev.twitter.com/rest/reference/get/friendships/outgoing\n",
      " |      :allowed_param:'cursor'\n",
      " |  \n",
      " |  geo_id\n",
      " |      :reference: https://dev.twitter.com/rest/reference/get/geo/id/%3Aplace_id\n",
      " |      :allowed_param:'id'\n",
      " |  \n",
      " |  geo_search\n",
      " |      :reference: https://dev.twitter.com/docs/api/1.1/get/geo/search\n",
      " |      :allowed_param:'lat', 'long', 'query', 'ip', 'granularity',\n",
      " |       'accuracy', 'max_results', 'contained_within\n",
      " |  \n",
      " |  geo_similar_places\n",
      " |      :reference: https://dev.twitter.com/rest/reference/get/geo/similar_places\n",
      " |      :allowed_param:'lat', 'long', 'name', 'contained_within'\n",
      " |  \n",
      " |  get_direct_message\n",
      " |      :reference: https://dev.twitter.com/rest/reference/get/direct_messages/show\n",
      " |      :allowed_param:'id', 'full_text'\n",
      " |  \n",
      " |  get_list\n",
      " |      :reference: https://dev.twitter.com/rest/reference/get/lists/show\n",
      " |      :allowed_param:'owner_screen_name', 'owner_id', 'slug', 'list_id'\n",
      " |  \n",
      " |  get_oembed\n",
      " |      :reference: https://dev.twitter.com/rest/reference/get/statuses/oembed\n",
      " |      :allowed_param:'id', 'url', 'maxwidth', 'hide_media', 'omit_script', 'align', 'related', 'lang'\n",
      " |  \n",
      " |  get_saved_search\n",
      " |      :reference: https://dev.twitter.com/rest/reference/get/saved_searches/show/%3Aid\n",
      " |      :allowed_param:'id'\n",
      " |  \n",
      " |  get_settings\n",
      " |      :reference: https://dev.twitter.com/rest/reference/get/account/settings\n",
      " |  \n",
      " |  get_status\n",
      " |      :reference: https://dev.twitter.com/rest/reference/get/statuses/show/%3Aid\n",
      " |      :allowed_param:'id'\n",
      " |  \n",
      " |  get_user\n",
      " |      :reference: https://dev.twitter.com/rest/reference/get/users/show\n",
      " |      :allowed_param:'id', 'user_id', 'screen_name'\n",
      " |  \n",
      " |  home_timeline\n",
      " |      :reference: https://dev.twitter.com/rest/reference/get/statuses/home_timeline\n",
      " |      :allowed_param:'since_id', 'max_id', 'count'\n",
      " |  \n",
      " |  list_members\n",
      " |      :reference: https://dev.twitter.com/docs/api/1.1/get/lists/members\n",
      " |      :allowed_param:'owner_screen_name', 'slug', 'list_id',\n",
      " |       'owner_id', 'cursor\n",
      " |  \n",
      " |  list_subscribers\n",
      " |      :reference: https://dev.twitter.com/docs/api/1.1/get/lists/subscribers\n",
      " |      :allowed_param:'owner_screen_name', 'slug', 'owner_id',\n",
      " |       'list_id', 'cursor\n",
      " |  \n",
      " |  list_timeline\n",
      " |      :reference: https://dev.twitter.com/docs/api/1.1/get/lists/statuses\n",
      " |      :allowed_param:'owner_screen_name', 'slug', 'owner_id', 'list_id',\n",
      " |       'since_id', 'max_id', 'count', 'include_rts\n",
      " |  \n",
      " |  lists_all\n",
      " |      :reference: https://dev.twitter.com/rest/reference/get/lists/list\n",
      " |      :allowed_param:'screen_name', 'user_id'\n",
      " |  \n",
      " |  lists_memberships\n",
      " |      :reference: https://dev.twitter.com/rest/reference/get/lists/memberships\n",
      " |      :allowed_param:'screen_name', 'user_id', 'filter_to_owned_lists', 'cursor'\n",
      " |  \n",
      " |  lists_subscriptions\n",
      " |      :reference: https://dev.twitter.com/rest/reference/get/lists/subscriptions\n",
      " |      :allowed_param:'screen_name', 'user_id', 'cursor'\n",
      " |  \n",
      " |  mentions_timeline\n",
      " |      :reference: https://dev.twitter.com/rest/reference/get/statuses/mentions_timeline\n",
      " |      :allowed_param:'since_id', 'max_id', 'count'\n",
      " |  \n",
      " |  rate_limit_status\n",
      " |      :reference: https://dev.twitter.com/rest/reference/get/application/rate_limit_status\n",
      " |      :allowed_param:'resources'\n",
      " |  \n",
      " |  related_results\n",
      " |      :reference: https://dev.twitter.com/docs/api/1.1/get/related_results/show/%3id.format\n",
      " |      :allowed_param:'id'\n",
      " |  \n",
      " |  remove_list_member\n",
      " |      :reference: https://dev.twitter.com/docs/api/1.1/post/lists/members/destroy\n",
      " |      :allowed_param:'screen_name', 'user_id', 'owner_screen_name',\n",
      " |       'owner_id', 'slug', 'list_id'\n",
      " |  \n",
      " |  report_spam\n",
      " |      :reference: https://dev.twitter.com/rest/reference/post/users/report_spam\n",
      " |      :allowed_param:'user_id', 'screen_name'\n",
      " |  \n",
      " |  retweet\n",
      " |      :reference: https://dev.twitter.com/rest/reference/post/statuses/retweet/%3Aid\n",
      " |      :allowed_param:'id'\n",
      " |  \n",
      " |  retweeters\n",
      " |      :reference: https://dev.twitter.com/rest/reference/get/statuses/retweeters/ids\n",
      " |      :allowed_param:'id', 'cursor', 'stringify_ids\n",
      " |  \n",
      " |  retweets\n",
      " |      :reference: https://dev.twitter.com/rest/reference/get/statuses/retweets/%3Aid\n",
      " |      :allowed_param:'id', 'count'\n",
      " |  \n",
      " |  retweets_of_me\n",
      " |      :reference: https://dev.twitter.com/rest/reference/get/statuses/retweets_of_me\n",
      " |      :allowed_param:'since_id', 'max_id', 'count'\n",
      " |  \n",
      " |  reverse_geocode\n",
      " |      :reference: https://dev.twitter.com/rest/reference/get/geo/reverse_geocode\n",
      " |      :allowed_param:'lat', 'long', 'accuracy', 'granularity', 'max_results'\n",
      " |  \n",
      " |  saved_searches\n",
      " |      :reference: https://dev.twitter.com/rest/reference/get/saved_searches/show/%3Aid\n",
      " |  \n",
      " |  search\n",
      " |      :reference: https://dev.twitter.com/rest/reference/get/search/tweets\n",
      " |      :allowed_param:'q', 'lang', 'locale', 'since_id', 'geocode',\n",
      " |       'max_id', 'since', 'until', 'result_type', 'count',\n",
      " |        'include_entities', 'from', 'to', 'source']\n",
      " |  \n",
      " |  search_users\n",
      " |      :reference: https://dev.twitter.com/rest/reference/get/users/search\n",
      " |      :allowed_param:'q', 'count', 'page'\n",
      " |  \n",
      " |  send_direct_message\n",
      " |      :reference: https://dev.twitter.com/rest/reference/post/direct_messages/new\n",
      " |      :allowed_param:'user', 'screen_name', 'user_id', 'text'\n",
      " |  \n",
      " |  sent_direct_messages\n",
      " |      :reference: https://dev.twitter.com/rest/reference/get/direct_messages/sent\n",
      " |      :allowed_param:'since_id', 'max_id', 'count', 'page', 'full_text'\n",
      " |  \n",
      " |  set_delivery_device\n",
      " |      :reference: https://dev.twitter.com/rest/reference/post/account/update_delivery_device\n",
      " |      :allowed_param:'device'\n",
      " |  \n",
      " |  set_settings\n",
      " |      :reference: https://dev.twitter.com/rest/reference/post/account/settings\n",
      " |      :allowed_param:'sleep_time_enabled', 'start_sleep_time',\n",
      " |      'end_sleep_time', 'time_zone', 'trend_location_woeid',\n",
      " |      'allow_contributor_request', 'lang'\n",
      " |  \n",
      " |  show_friendship\n",
      " |      :reference: https://dev.twitter.com/rest/reference/get/friendships/show\n",
      " |      :allowed_param:'source_id', 'source_screen_name'\n",
      " |  \n",
      " |  show_list_member\n",
      " |      :reference: https://dev.twitter.com/docs/api/1.1/get/lists/members/show\n",
      " |      :allowed_param:'list_id', 'slug', 'user_id', 'screen_name',\n",
      " |       'owner_screen_name', 'owner_id\n",
      " |  \n",
      " |  show_list_subscriber\n",
      " |      :reference: https://dev.twitter.com/docs/api/1.1/get/lists/subscribers/show\n",
      " |      :allowed_param:'owner_screen_name', 'slug', 'screen_name',\n",
      " |       'owner_id', 'list_id', 'user_id\n",
      " |  \n",
      " |  subscribe_list\n",
      " |      :reference: https://dev.twitter.com/docs/api/1.1/post/lists/subscribers/create\n",
      " |      :allowed_param:'owner_screen_name', 'slug', 'owner_id',\n",
      " |      'list_id'\n",
      " |  \n",
      " |  suggested_categories\n",
      " |      :reference: https://dev.twitter.com/rest/reference/get/users/suggestions\n",
      " |      :allowed_param:'lang'\n",
      " |  \n",
      " |  suggested_users\n",
      " |      :reference: https://dev.twitter.com/rest/reference/get/users/suggestions/%3Aslug\n",
      " |      :allowed_param:'slug', 'lang'\n",
      " |  \n",
      " |  suggested_users_tweets\n",
      " |      :reference: https://dev.twitter.com/rest/reference/get/users/suggestions/%3Aslug/members\n",
      " |      :allowed_param:'slug'\n",
      " |  \n",
      " |  supported_languages\n",
      " |      :reference: https://dev.twitter.com/rest/reference/get/help/languages\n",
      " |  \n",
      " |  trends_available\n",
      " |      :reference: https://dev.twitter.com/rest/reference/get/trends/available\n",
      " |  \n",
      " |  trends_closest\n",
      " |      :reference: https://dev.twitter.com/rest/reference/get/trends/closest\n",
      " |      :allowed_param:'lat', 'long'\n",
      " |  \n",
      " |  trends_place\n",
      " |      :reference: https://dev.twitter.com/rest/reference/get/trends/place\n",
      " |      :allowed_param:'id', 'exclude'\n",
      " |  \n",
      " |  unsubscribe_list\n",
      " |      :reference: https://dev.twitter.com/docs/api/1.1/post/lists/subscribers/destroy\n",
      " |      :allowed_param:'owner_screen_name', 'slug', 'owner_id',\n",
      " |      'list_id'\n",
      " |  \n",
      " |  update_list\n",
      " |      :reference: https://dev.twitter.com/rest/reference/post/lists/update\n",
      " |      :allowed_param: list_id', 'slug', 'name', 'mode', 'description', 'owner_screen_name', 'owner_id'\n",
      " |  \n",
      " |  update_profile\n",
      " |      :reference: https://dev.twitter.com/rest/reference/post/account/update_profile\n",
      " |      :allowed_param:'name', 'url', 'location', 'description'\n",
      " |  \n",
      " |  update_profile_colors\n",
      " |      :reference: https://dev.twitter.com/docs/api/1.1/post/account/update_profile_colors\n",
      " |      :allowed_param:'profile_background_color', 'profile_text_color',\n",
      " |       'profile_link_color', 'profile_sidebar_fill_color',\n",
      " |       'profile_sidebar_border_color'],\n",
      " |  \n",
      " |  user_timeline\n",
      " |      :reference: https://dev.twitter.com/rest/reference/get/statuses/user_timeline\n",
      " |      :allowed_param:'id', 'user_id', 'screen_name', 'since_id'\n",
      "\n"
     ]
    }
   ],
   "source": [
    "help(api)"
   ]
  },
  {
   "cell_type": "code",
   "execution_count": 7,
   "metadata": {
    "collapsed": false,
    "scrolled": false
   },
   "outputs": [
    {
     "data": {
      "text/plain": [
       "{u'rate_limit_context': {u'access_token': u'1342400166-bQTNjdgu7dZP5AulH2IScU65TK0SsyhH4m61qYe'},\n",
       " u'resources': {u'account': {u'/account/login_verification_enrollment': {u'limit': 15,\n",
       "    u'remaining': 15,\n",
       "    u'reset': 1479479367},\n",
       "   u'/account/settings': {u'limit': 15,\n",
       "    u'remaining': 15,\n",
       "    u'reset': 1479479367},\n",
       "   u'/account/update_profile': {u'limit': 15,\n",
       "    u'remaining': 15,\n",
       "    u'reset': 1479479367},\n",
       "   u'/account/verify_credentials': {u'limit': 75,\n",
       "    u'remaining': 75,\n",
       "    u'reset': 1479479367}},\n",
       "  u'application': {u'/application/rate_limit_status': {u'limit': 180,\n",
       "    u'remaining': 179,\n",
       "    u'reset': 1479479367}},\n",
       "  u'auth': {u'/auth/csrf_token': {u'limit': 15,\n",
       "    u'remaining': 15,\n",
       "    u'reset': 1479479367}},\n",
       "  u'blocks': {u'/blocks/ids': {u'limit': 15,\n",
       "    u'remaining': 15,\n",
       "    u'reset': 1479479367},\n",
       "   u'/blocks/list': {u'limit': 15, u'remaining': 15, u'reset': 1479479367}},\n",
       "  u'business_experience': {u'/business_experience/dashboard_features': {u'limit': 450,\n",
       "    u'remaining': 450,\n",
       "    u'reset': 1479479367},\n",
       "   u'/business_experience/dashboard_settings/destroy': {u'limit': 450,\n",
       "    u'remaining': 450,\n",
       "    u'reset': 1479479367},\n",
       "   u'/business_experience/dashboard_settings/show': {u'limit': 450,\n",
       "    u'remaining': 450,\n",
       "    u'reset': 1479479367},\n",
       "   u'/business_experience/dashboard_settings/update': {u'limit': 450,\n",
       "    u'remaining': 450,\n",
       "    u'reset': 1479479367},\n",
       "   u'/business_experience/keywords': {u'limit': 450,\n",
       "    u'remaining': 450,\n",
       "    u'reset': 1479479367}},\n",
       "  u'collections': {u'/collections/entries': {u'limit': 1000,\n",
       "    u'remaining': 1000,\n",
       "    u'reset': 1479479367},\n",
       "   u'/collections/list': {u'limit': 1000,\n",
       "    u'remaining': 1000,\n",
       "    u'reset': 1479479367},\n",
       "   u'/collections/show': {u'limit': 1000,\n",
       "    u'remaining': 1000,\n",
       "    u'reset': 1479479367}},\n",
       "  u'contacts': {u'/contacts/addressbook': {u'limit': 300,\n",
       "    u'remaining': 300,\n",
       "    u'reset': 1479479367},\n",
       "   u'/contacts/delete/status': {u'limit': 300,\n",
       "    u'remaining': 300,\n",
       "    u'reset': 1479479367},\n",
       "   u'/contacts/uploaded_by': {u'limit': 300,\n",
       "    u'remaining': 300,\n",
       "    u'reset': 1479479367},\n",
       "   u'/contacts/users': {u'limit': 300,\n",
       "    u'remaining': 300,\n",
       "    u'reset': 1479479367},\n",
       "   u'/contacts/users_and_uploaded_by': {u'limit': 300,\n",
       "    u'remaining': 300,\n",
       "    u'reset': 1479479367}},\n",
       "  u'custom_profiles': {u'/custom_profiles/show': {u'limit': 180,\n",
       "    u'remaining': 180,\n",
       "    u'reset': 1479479367}},\n",
       "  u'device': {u'/device/token': {u'limit': 15,\n",
       "    u'remaining': 15,\n",
       "    u'reset': 1479479367}},\n",
       "  u'direct_messages': {u'/direct_messages': {u'limit': 300,\n",
       "    u'remaining': 300,\n",
       "    u'reset': 1479479367},\n",
       "   u'/direct_messages/sent': {u'limit': 300,\n",
       "    u'remaining': 300,\n",
       "    u'reset': 1479479367},\n",
       "   u'/direct_messages/sent_and_received': {u'limit': 300,\n",
       "    u'remaining': 300,\n",
       "    u'reset': 1479479367},\n",
       "   u'/direct_messages/show': {u'limit': 300,\n",
       "    u'remaining': 300,\n",
       "    u'reset': 1479479367}},\n",
       "  u'drafts': {u'/drafts/statuses/create': {u'limit': 450,\n",
       "    u'remaining': 450,\n",
       "    u'reset': 1479479367},\n",
       "   u'/drafts/statuses/destroy': {u'limit': 450,\n",
       "    u'remaining': 450,\n",
       "    u'reset': 1479479367},\n",
       "   u'/drafts/statuses/ids': {u'limit': 450,\n",
       "    u'remaining': 450,\n",
       "    u'reset': 1479479367},\n",
       "   u'/drafts/statuses/list': {u'limit': 450,\n",
       "    u'remaining': 450,\n",
       "    u'reset': 1479479367},\n",
       "   u'/drafts/statuses/show': {u'limit': 450,\n",
       "    u'remaining': 450,\n",
       "    u'reset': 1479479367},\n",
       "   u'/drafts/statuses/update': {u'limit': 450,\n",
       "    u'remaining': 450,\n",
       "    u'reset': 1479479367}},\n",
       "  u'favorites': {u'/favorites/list': {u'limit': 75,\n",
       "    u'remaining': 75,\n",
       "    u'reset': 1479479367}},\n",
       "  u'feedback': {u'/feedback/events': {u'limit': 1000,\n",
       "    u'remaining': 1000,\n",
       "    u'reset': 1479479367},\n",
       "   u'/feedback/show/:id': {u'limit': 180,\n",
       "    u'remaining': 180,\n",
       "    u'reset': 1479479367}},\n",
       "  u'followers': {u'/followers/ids': {u'limit': 15,\n",
       "    u'remaining': 15,\n",
       "    u'reset': 1479479367},\n",
       "   u'/followers/list': {u'limit': 15, u'remaining': 15, u'reset': 1479479367}},\n",
       "  u'friends': {u'/friends/following/ids': {u'limit': 15,\n",
       "    u'remaining': 15,\n",
       "    u'reset': 1479479367},\n",
       "   u'/friends/following/list': {u'limit': 15,\n",
       "    u'remaining': 15,\n",
       "    u'reset': 1479479367},\n",
       "   u'/friends/ids': {u'limit': 15, u'remaining': 15, u'reset': 1479479367},\n",
       "   u'/friends/list': {u'limit': 15, u'remaining': 15, u'reset': 1479479367}},\n",
       "  u'friendships': {u'/friendships/incoming': {u'limit': 15,\n",
       "    u'remaining': 15,\n",
       "    u'reset': 1479479367},\n",
       "   u'/friendships/list': {u'limit': 200,\n",
       "    u'remaining': 200,\n",
       "    u'reset': 1479479367},\n",
       "   u'/friendships/lookup': {u'limit': 15,\n",
       "    u'remaining': 15,\n",
       "    u'reset': 1479479367},\n",
       "   u'/friendships/no_retweets/ids': {u'limit': 15,\n",
       "    u'remaining': 15,\n",
       "    u'reset': 1479479367},\n",
       "   u'/friendships/outgoing': {u'limit': 15,\n",
       "    u'remaining': 15,\n",
       "    u'reset': 1479479367},\n",
       "   u'/friendships/show': {u'limit': 180,\n",
       "    u'remaining': 180,\n",
       "    u'reset': 1479479367}},\n",
       "  u'geo': {u'/geo/id/:place_id': {u'limit': 75,\n",
       "    u'remaining': 75,\n",
       "    u'reset': 1479479367},\n",
       "   u'/geo/reverse_geocode': {u'limit': 15,\n",
       "    u'remaining': 15,\n",
       "    u'reset': 1479479367},\n",
       "   u'/geo/search': {u'limit': 15, u'remaining': 15, u'reset': 1479479367},\n",
       "   u'/geo/similar_places': {u'limit': 15,\n",
       "    u'remaining': 15,\n",
       "    u'reset': 1479479367}},\n",
       "  u'help': {u'/help/configuration': {u'limit': 15,\n",
       "    u'remaining': 15,\n",
       "    u'reset': 1479479367},\n",
       "   u'/help/languages': {u'limit': 15, u'remaining': 15, u'reset': 1479479367},\n",
       "   u'/help/privacy': {u'limit': 15, u'remaining': 15, u'reset': 1479479367},\n",
       "   u'/help/settings': {u'limit': 15, u'remaining': 15, u'reset': 1479479367},\n",
       "   u'/help/tos': {u'limit': 15, u'remaining': 15, u'reset': 1479479367}},\n",
       "  u'lists': {u'/lists/list': {u'limit': 15,\n",
       "    u'remaining': 15,\n",
       "    u'reset': 1479479367},\n",
       "   u'/lists/members': {u'limit': 900, u'remaining': 900, u'reset': 1479479367},\n",
       "   u'/lists/members/show': {u'limit': 15,\n",
       "    u'remaining': 15,\n",
       "    u'reset': 1479479367},\n",
       "   u'/lists/memberships': {u'limit': 75,\n",
       "    u'remaining': 75,\n",
       "    u'reset': 1479479367},\n",
       "   u'/lists/ownerships': {u'limit': 15,\n",
       "    u'remaining': 15,\n",
       "    u'reset': 1479479367},\n",
       "   u'/lists/show': {u'limit': 75, u'remaining': 75, u'reset': 1479479367},\n",
       "   u'/lists/statuses': {u'limit': 900,\n",
       "    u'remaining': 900,\n",
       "    u'reset': 1479479367},\n",
       "   u'/lists/subscribers': {u'limit': 180,\n",
       "    u'remaining': 180,\n",
       "    u'reset': 1479479367},\n",
       "   u'/lists/subscribers/show': {u'limit': 15,\n",
       "    u'remaining': 15,\n",
       "    u'reset': 1479479367},\n",
       "   u'/lists/subscriptions': {u'limit': 15,\n",
       "    u'remaining': 15,\n",
       "    u'reset': 1479479367}},\n",
       "  u'live_pipeline': {u'/live_pipeline/events': {u'limit': 180,\n",
       "    u'remaining': 180,\n",
       "    u'reset': 1479479367}},\n",
       "  u'live_video_stream': {u'/live_video_stream/status/:id': {u'limit': 1000,\n",
       "    u'remaining': 1000,\n",
       "    u'reset': 1479479367}},\n",
       "  u'media': {u'/media/upload': {u'limit': 500,\n",
       "    u'remaining': 500,\n",
       "    u'reset': 1479479367}},\n",
       "  u'moments': {u'/moments/permissions': {u'limit': 300,\n",
       "    u'remaining': 300,\n",
       "    u'reset': 1479479367}},\n",
       "  u'mutes': {u'/mutes/users/ids': {u'limit': 15,\n",
       "    u'remaining': 15,\n",
       "    u'reset': 1479479367},\n",
       "   u'/mutes/users/list': {u'limit': 15,\n",
       "    u'remaining': 15,\n",
       "    u'reset': 1479479367}},\n",
       "  u'saved_searches': {u'/saved_searches/destroy/:id': {u'limit': 15,\n",
       "    u'remaining': 15,\n",
       "    u'reset': 1479479367},\n",
       "   u'/saved_searches/list': {u'limit': 15,\n",
       "    u'remaining': 15,\n",
       "    u'reset': 1479479367},\n",
       "   u'/saved_searches/show/:id': {u'limit': 15,\n",
       "    u'remaining': 15,\n",
       "    u'reset': 1479479367}},\n",
       "  u'search': {u'/search/tweets': {u'limit': 180,\n",
       "    u'remaining': 180,\n",
       "    u'reset': 1479479367}},\n",
       "  u'statuses': {u'/statuses/friends': {u'limit': 15,\n",
       "    u'remaining': 15,\n",
       "    u'reset': 1479479367},\n",
       "   u'/statuses/home_timeline': {u'limit': 15,\n",
       "    u'remaining': 15,\n",
       "    u'reset': 1479479367},\n",
       "   u'/statuses/lookup': {u'limit': 900,\n",
       "    u'remaining': 900,\n",
       "    u'reset': 1479479367},\n",
       "   u'/statuses/mentions_timeline': {u'limit': 75,\n",
       "    u'remaining': 75,\n",
       "    u'reset': 1479479367},\n",
       "   u'/statuses/oembed': {u'limit': 180,\n",
       "    u'remaining': 180,\n",
       "    u'reset': 1479479367},\n",
       "   u'/statuses/retweeters/ids': {u'limit': 75,\n",
       "    u'remaining': 75,\n",
       "    u'reset': 1479479367},\n",
       "   u'/statuses/retweets/:id': {u'limit': 75,\n",
       "    u'remaining': 75,\n",
       "    u'reset': 1479479367},\n",
       "   u'/statuses/retweets_of_me': {u'limit': 75,\n",
       "    u'remaining': 75,\n",
       "    u'reset': 1479479367},\n",
       "   u'/statuses/show/:id': {u'limit': 900,\n",
       "    u'remaining': 900,\n",
       "    u'reset': 1479479367},\n",
       "   u'/statuses/user_timeline': {u'limit': 900,\n",
       "    u'remaining': 900,\n",
       "    u'reset': 1479479367}},\n",
       "  u'trends': {u'/trends/available': {u'limit': 75,\n",
       "    u'remaining': 75,\n",
       "    u'reset': 1479479367},\n",
       "   u'/trends/closest': {u'limit': 75, u'remaining': 75, u'reset': 1479479367},\n",
       "   u'/trends/place': {u'limit': 75, u'remaining': 75, u'reset': 1479479367}},\n",
       "  u'tweet_prompts': {u'/tweet_prompts/report_interaction': {u'limit': 180,\n",
       "    u'remaining': 180,\n",
       "    u'reset': 1479479367},\n",
       "   u'/tweet_prompts/show': {u'limit': 180,\n",
       "    u'remaining': 180,\n",
       "    u'reset': 1479479367}},\n",
       "  u'users': {u'/users/derived_info': {u'limit': 15,\n",
       "    u'remaining': 15,\n",
       "    u'reset': 1479479367},\n",
       "   u'/users/lookup': {u'limit': 900, u'remaining': 900, u'reset': 1479479367},\n",
       "   u'/users/profile_banner': {u'limit': 180,\n",
       "    u'remaining': 180,\n",
       "    u'reset': 1479479367},\n",
       "   u'/users/report_spam': {u'limit': 15,\n",
       "    u'remaining': 15,\n",
       "    u'reset': 1479479367},\n",
       "   u'/users/search': {u'limit': 900, u'remaining': 900, u'reset': 1479479367},\n",
       "   u'/users/show/:id': {u'limit': 900,\n",
       "    u'remaining': 900,\n",
       "    u'reset': 1479479367},\n",
       "   u'/users/suggestions': {u'limit': 15,\n",
       "    u'remaining': 15,\n",
       "    u'reset': 1479479367},\n",
       "   u'/users/suggestions/:slug': {u'limit': 15,\n",
       "    u'remaining': 15,\n",
       "    u'reset': 1479479367},\n",
       "   u'/users/suggestions/:slug/members': {u'limit': 15,\n",
       "    u'remaining': 15,\n",
       "    u'reset': 1479479367}}}}"
      ]
     },
     "execution_count": 7,
     "metadata": {},
     "output_type": "execute_result"
    }
   ],
   "source": [
    "api.rate_limit_status() #mi dice quante chiamate posso fare per ciascun tipo di chiamate e il numero rimante"
   ]
  },
  {
   "cell_type": "markdown",
   "metadata": {},
   "source": [
    "## Tweet Stream"
   ]
  },
  {
   "cell_type": "code",
   "execution_count": 21,
   "metadata": {
    "collapsed": false,
    "scrolled": true
   },
   "outputs": [],
   "source": [
    "# download your home timeline tweets\n",
    "my_tweets = api.home_timeline()"
   ]
  },
  {
   "cell_type": "code",
   "execution_count": 22,
   "metadata": {
    "collapsed": false
   },
   "outputs": [
    {
     "name": "stdout",
     "output_type": "stream",
     "text": [
      "Tweets LEN:  17 \n",
      "\n"
     ]
    }
   ],
   "source": [
    "print \"Tweets LEN: \", len(my_tweets), \"\\n\""
   ]
  },
  {
   "cell_type": "code",
   "execution_count": 26,
   "metadata": {
    "collapsed": false
   },
   "outputs": [
    {
     "data": {
      "text/plain": [
       "{u'contributors': None,\n",
       " u'coordinates': None,\n",
       " u'created_at': u'Fri Nov 18 14:05:23 +0000 2016',\n",
       " u'entities': {u'hashtags': [],\n",
       "  u'symbols': [],\n",
       "  u'urls': [{u'display_url': u'twitter.com/TPorter2/statu\\u2026',\n",
       "    u'expanded_url': u'https://twitter.com/TPorter2/status/799098890138042368',\n",
       "    u'indices': [0, 23],\n",
       "    u'url': u'https://t.co/KnxlN29A8O'}],\n",
       "  u'user_mentions': []},\n",
       " u'favorite_count': 3,\n",
       " u'favorited': False,\n",
       " u'geo': None,\n",
       " u'id': 799614481949138945,\n",
       " u'id_str': u'799614481949138945',\n",
       " u'in_reply_to_screen_name': None,\n",
       " u'in_reply_to_status_id': None,\n",
       " u'in_reply_to_status_id_str': None,\n",
       " u'in_reply_to_user_id': None,\n",
       " u'in_reply_to_user_id_str': None,\n",
       " u'is_quote_status': True,\n",
       " u'lang': u'und',\n",
       " u'place': None,\n",
       " u'possibly_sensitive': False,\n",
       " u'possibly_sensitive_appealable': False,\n",
       " u'quoted_status': {u'contributors': None,\n",
       "  u'coordinates': None,\n",
       "  u'created_at': u'Thu Nov 17 03:56:36 +0000 2016',\n",
       "  u'entities': {u'hashtags': [{u'indices': [57, 73],\n",
       "     u'text': u'FlipboardFriday'},\n",
       "    {u'indices': [104, 118], u'text': u'FlipboardChat'}],\n",
       "   u'symbols': [],\n",
       "   u'urls': [],\n",
       "   u'user_mentions': [{u'id': 114870386,\n",
       "     u'id_str': u'114870386',\n",
       "     u'indices': [32, 42],\n",
       "     u'name': u'Flipboard',\n",
       "     u'screen_name': u'Flipboard'}]},\n",
       "  u'favorite_count': 3,\n",
       "  u'favorited': False,\n",
       "  u'geo': None,\n",
       "  u'id': 799098890138042368,\n",
       "  u'id_str': u'799098890138042368',\n",
       "  u'in_reply_to_screen_name': None,\n",
       "  u'in_reply_to_status_id': None,\n",
       "  u'in_reply_to_status_id_str': None,\n",
       "  u'in_reply_to_user_id': None,\n",
       "  u'in_reply_to_user_id_str': None,\n",
       "  u'is_quote_status': False,\n",
       "  u'lang': u'en',\n",
       "  u'place': None,\n",
       "  u'retweet_count': 0,\n",
       "  u'retweeted': False,\n",
       "  u'source': u'<a href=\"https://about.twitter.com/products/tweetdeck\" rel=\"nofollow\">TweetDeck</a>',\n",
       "  u'text': u'Remember to tweet your favorite @Flipboard magazines for #FlipboardFriday every Friday! Never miss out! #FlipboardChat',\n",
       "  u'truncated': False,\n",
       "  u'user': {u'contributors_enabled': False,\n",
       "   u'created_at': u'Sat Jan 05 01:49:25 +0000 2008',\n",
       "   u'default_profile': False,\n",
       "   u'default_profile_image': False,\n",
       "   u'description': u'Photographer/Internet Addict. https://t.co/RJKQNazOeM #FlipboardChat #FlipboardFriday',\n",
       "   u'entities': {u'description': {u'urls': [{u'display_url': u'flipboard.com/profile/TPorte\\u2026',\n",
       "       u'expanded_url': u'https://flipboard.com/profile/TPorter2',\n",
       "       u'indices': [30, 53],\n",
       "       u'url': u'https://t.co/RJKQNazOeM'}]},\n",
       "    u'url': {u'urls': [{u'display_url': u'flickr.com/photos/tporter2',\n",
       "       u'expanded_url': u'http://flickr.com/photos/tporter2',\n",
       "       u'indices': [0, 23],\n",
       "       u'url': u'https://t.co/9Bf2m19kHg'}]}},\n",
       "   u'favourites_count': 30257,\n",
       "   u'follow_request_sent': False,\n",
       "   u'followers_count': 1638,\n",
       "   u'following': False,\n",
       "   u'friends_count': 2060,\n",
       "   u'geo_enabled': True,\n",
       "   u'has_extended_profile': True,\n",
       "   u'id': 11862162,\n",
       "   u'id_str': u'11862162',\n",
       "   u'is_translation_enabled': False,\n",
       "   u'is_translator': False,\n",
       "   u'lang': u'en',\n",
       "   u'listed_count': 206,\n",
       "   u'location': u'iPhone: 32.694512,-95.886261',\n",
       "   u'name': u'Terry Porter',\n",
       "   u'notifications': False,\n",
       "   u'profile_background_color': u'9AE4E8',\n",
       "   u'profile_background_image_url': u'http://pbs.twimg.com/profile_background_images/714225660349255680/5klH48BG.jpg',\n",
       "   u'profile_background_image_url_https': u'https://pbs.twimg.com/profile_background_images/714225660349255680/5klH48BG.jpg',\n",
       "   u'profile_background_tile': False,\n",
       "   u'profile_banner_url': u'https://pbs.twimg.com/profile_banners/11862162/1474219016',\n",
       "   u'profile_image_url': u'http://pbs.twimg.com/profile_images/683806483360829444/zKfF_Xsy_normal.jpg',\n",
       "   u'profile_image_url_https': u'https://pbs.twimg.com/profile_images/683806483360829444/zKfF_Xsy_normal.jpg',\n",
       "   u'profile_link_color': u'008080',\n",
       "   u'profile_sidebar_border_color': u'BDDCAD',\n",
       "   u'profile_sidebar_fill_color': u'DDFFCC',\n",
       "   u'profile_text_color': u'333333',\n",
       "   u'profile_use_background_image': True,\n",
       "   u'protected': False,\n",
       "   u'screen_name': u'TPorter2',\n",
       "   u'statuses_count': 31947,\n",
       "   u'time_zone': u'Central Time (US & Canada)',\n",
       "   u'translator_type': u'none',\n",
       "   u'url': u'https://t.co/9Bf2m19kHg',\n",
       "   u'utc_offset': -21600,\n",
       "   u'verified': False}},\n",
       " u'quoted_status_id': 799098890138042368,\n",
       " u'quoted_status_id_str': u'799098890138042368',\n",
       " u'retweet_count': 0,\n",
       " u'retweeted': False,\n",
       " u'source': u'<a href=\"http://www.hootsuite.com\" rel=\"nofollow\">Hootsuite</a>',\n",
       " u'text': u'https://t.co/KnxlN29A8O',\n",
       " u'truncated': False,\n",
       " u'user': {u'contributors_enabled': False,\n",
       "  u'created_at': u'Tue Feb 16 21:44:57 +0000 2010',\n",
       "  u'default_profile': False,\n",
       "  u'default_profile_image': False,\n",
       "  u'description': u'Your social magazine. Available for the Web, iOS, Android, Windows 10 & Windows Phone.  Questions & Support: @FlipboardCS  Community: @FlipboardMag',\n",
       "  u'entities': {u'description': {u'urls': []},\n",
       "   u'url': {u'urls': [{u'display_url': u'flipboard.com',\n",
       "      u'expanded_url': u'http://www.flipboard.com',\n",
       "      u'indices': [0, 22],\n",
       "      u'url': u'http://t.co/IJ4XJRT6Cc'}]}},\n",
       "  u'favourites_count': 17956,\n",
       "  u'follow_request_sent': False,\n",
       "  u'followers_count': 500857,\n",
       "  u'following': True,\n",
       "  u'friends_count': 4560,\n",
       "  u'geo_enabled': False,\n",
       "  u'has_extended_profile': False,\n",
       "  u'id': 114870386,\n",
       "  u'id_str': u'114870386',\n",
       "  u'is_translation_enabled': False,\n",
       "  u'is_translator': False,\n",
       "  u'lang': u'en',\n",
       "  u'listed_count': 7504,\n",
       "  u'location': u'Palo Alto',\n",
       "  u'name': u'Flipboard',\n",
       "  u'notifications': False,\n",
       "  u'profile_background_color': u'131516',\n",
       "  u'profile_background_image_url': u'http://abs.twimg.com/images/themes/theme14/bg.gif',\n",
       "  u'profile_background_image_url_https': u'https://abs.twimg.com/images/themes/theme14/bg.gif',\n",
       "  u'profile_background_tile': True,\n",
       "  u'profile_banner_url': u'https://pbs.twimg.com/profile_banners/114870386/1452567615',\n",
       "  u'profile_image_url': u'http://pbs.twimg.com/profile_images/489131804750647296/N926A9jx_normal.png',\n",
       "  u'profile_image_url_https': u'https://pbs.twimg.com/profile_images/489131804750647296/N926A9jx_normal.png',\n",
       "  u'profile_link_color': u'C71910',\n",
       "  u'profile_sidebar_border_color': u'FFFFFF',\n",
       "  u'profile_sidebar_fill_color': u'EFEFEF',\n",
       "  u'profile_text_color': u'333333',\n",
       "  u'profile_use_background_image': True,\n",
       "  u'protected': False,\n",
       "  u'screen_name': u'Flipboard',\n",
       "  u'statuses_count': 11493,\n",
       "  u'time_zone': u'Pacific Time (US & Canada)',\n",
       "  u'translator_type': u'none',\n",
       "  u'url': u'http://t.co/IJ4XJRT6Cc',\n",
       "  u'utc_offset': -28800,\n",
       "  u'verified': True}}"
      ]
     },
     "execution_count": 26,
     "metadata": {},
     "output_type": "execute_result"
    }
   ],
   "source": [
    "my_tweets[0]._json"
   ]
  },
  {
   "cell_type": "code",
   "execution_count": 31,
   "metadata": {
    "collapsed": false
   },
   "outputs": [
    {
     "data": {
      "text/plain": [
       "{u'contributors_enabled': False,\n",
       " u'created_at': u'Tue Feb 16 21:44:57 +0000 2010',\n",
       " u'default_profile': False,\n",
       " u'default_profile_image': False,\n",
       " u'description': u'Your social magazine. Available for the Web, iOS, Android, Windows 10 & Windows Phone.  Questions & Support: @FlipboardCS  Community: @FlipboardMag',\n",
       " u'entities': {u'description': {u'urls': []},\n",
       "  u'url': {u'urls': [{u'display_url': u'flipboard.com',\n",
       "     u'expanded_url': u'http://www.flipboard.com',\n",
       "     u'indices': [0, 22],\n",
       "     u'url': u'http://t.co/IJ4XJRT6Cc'}]}},\n",
       " u'favourites_count': 17956,\n",
       " u'follow_request_sent': False,\n",
       " u'followers_count': 500857,\n",
       " u'following': True,\n",
       " u'friends_count': 4560,\n",
       " u'geo_enabled': False,\n",
       " u'has_extended_profile': False,\n",
       " u'id': 114870386,\n",
       " u'id_str': u'114870386',\n",
       " u'is_translation_enabled': False,\n",
       " u'is_translator': False,\n",
       " u'lang': u'en',\n",
       " u'listed_count': 7504,\n",
       " u'location': u'Palo Alto',\n",
       " u'name': u'Flipboard',\n",
       " u'notifications': False,\n",
       " u'profile_background_color': u'131516',\n",
       " u'profile_background_image_url': u'http://abs.twimg.com/images/themes/theme14/bg.gif',\n",
       " u'profile_background_image_url_https': u'https://abs.twimg.com/images/themes/theme14/bg.gif',\n",
       " u'profile_background_tile': True,\n",
       " u'profile_banner_url': u'https://pbs.twimg.com/profile_banners/114870386/1452567615',\n",
       " u'profile_image_url': u'http://pbs.twimg.com/profile_images/489131804750647296/N926A9jx_normal.png',\n",
       " u'profile_image_url_https': u'https://pbs.twimg.com/profile_images/489131804750647296/N926A9jx_normal.png',\n",
       " u'profile_link_color': u'C71910',\n",
       " u'profile_sidebar_border_color': u'FFFFFF',\n",
       " u'profile_sidebar_fill_color': u'EFEFEF',\n",
       " u'profile_text_color': u'333333',\n",
       " u'profile_use_background_image': True,\n",
       " u'protected': False,\n",
       " u'screen_name': u'Flipboard',\n",
       " u'statuses_count': 11493,\n",
       " u'time_zone': u'Pacific Time (US & Canada)',\n",
       " u'translator_type': u'none',\n",
       " u'url': u'http://t.co/IJ4XJRT6Cc',\n",
       " u'utc_offset': -28800,\n",
       " u'verified': True}"
      ]
     },
     "execution_count": 31,
     "metadata": {},
     "output_type": "execute_result"
    }
   ],
   "source": [
    "my_tweets[0].user._json"
   ]
  },
  {
   "cell_type": "code",
   "execution_count": 20,
   "metadata": {
    "collapsed": false
   },
   "outputs": [
    {
     "name": "stdout",
     "output_type": "stream",
     "text": [
      "<class 'tweepy.models.Status'>\n",
      "https://t.co/KnxlN29A8O\n",
      "<class 'tweepy.models.Status'>\n",
      "Trump taps three senior leaders to serve in his administration. Plus, Obama assails spread of fake news &amp; more in… https://t.co/hTBPqsXZNS\n",
      "<class 'tweepy.models.Status'>\n",
      "OPERATION: IceBridge. Join scientists &amp; @DavaExplorer LIVE at 7am ET before their research flight over Antarctica:… https://t.co/D8A1Gy7xoZ\n",
      "<class 'tweepy.models.Status'>\n",
      "RT @NASAGoddard: 7 a.m. today on Facebook live: Go behind the scenes of NASA’s #IceBridge mission! https://t.co/xEVnplTNAs https://t.co/mOQ…\n",
      "<class 'tweepy.models.Status'>\n",
      "RT @NASAJPL: Science on Demand: Watch tonight's talk about @NASAWebb, NASA's next great space telescope https://t.co/ftGPoJlwLl https://t.c…\n",
      "<class 'tweepy.models.Status'>\n",
      "New crew started today off early here on Earth, headed to the launch pad, suited up &amp; lifted off to @Space_Station:… https://t.co/ZlFufkxdEy\n",
      "<class 'tweepy.models.Status'>\n",
      "RT @NASAJPL: New Eyes on Space: Find out about @NASAWebb and its infrared study of the cosmos. Join the live Q&amp;A tonight on https://t.co/m5…\n",
      "<class 'tweepy.models.Status'>\n",
      "RT @NASAGoddard: Tomorrow at 7 a.m. ET on Facebook Live! Learn how NASA studies ice to track global warming effects: https://t.co/4OPTqgGEY…\n",
      "<class 'tweepy.models.Status'>\n",
      "“Confessions of a Google Spammer” by @jgdeutsch https://t.co/47aAEhsJbG\n",
      "<class 'tweepy.models.Status'>\n",
      "Entry, descent,&amp; landing are the most dangerous parts of the journey into space. We're working to lower the risks:… https://t.co/4RA7qMwE2z\n",
      "<class 'tweepy.models.Status'>\n",
      "Spotted on dwarf planet Ceres: Young crater Takel &amp; sharply defined crater Cozobi, just below center:… https://t.co/mMS7KhAvNT\n",
      "<class 'tweepy.models.Status'>\n",
      "Follow @KinjaDeals on Flipboard for the best offers &amp; #BlackFriday sales ahead of the holiday rush… https://t.co/xjeiOIPc4W\n",
      "<class 'tweepy.models.Status'>\n",
      "Stop by the red couch photo booth at #AirbnbOpen &amp; meet the Flipboard team, 1pm-3pm at the Oasis\n",
      "<class 'tweepy.models.Status'>\n",
      "Want to learn how to be a super villain? Follow @qz for the ultimate science &amp; tech to trick out your life… https://t.co/DSxKcx7HOB\n",
      "<class 'tweepy.models.Status'>\n",
      "The season is bright! See how people around the world are celebrating in Holiday Central https://t.co/AoHMnA7IiD… https://t.co/GeukqGORmU\n",
      "<class 'tweepy.models.Status'>\n",
      "Welcome to space @AstroPeggy, @Thom_Astro and Oleg! Set to dock with @Space_Station at 5:01pm ET on Nov 19. More:… https://t.co/w2LRLV8z6w\n",
      "<class 'tweepy.models.Status'>\n",
      "Traveling ~4,700 miles per hour, @AstroPeggy and 2 crew members continue their journey from Earth to @Space_Station… https://t.co/XwlTKcSMC9\n"
     ]
    }
   ],
   "source": [
    "for tweet in my_tweets:\n",
    "    print type(tweet)\n",
    "    print tweet.text"
   ]
  },
  {
   "cell_type": "code",
   "execution_count": 10,
   "metadata": {
    "collapsed": false
   },
   "outputs": [
    {
     "name": "stdout",
     "output_type": "stream",
     "text": [
      "TWEET DIR:  ['__class__', '__delattr__', '__dict__', '__doc__', '__eq__', '__format__', '__getattribute__', '__getstate__', '__hash__', '__init__', '__module__', '__ne__', '__new__', '__reduce__', '__reduce_ex__', '__repr__', '__setattr__', '__sizeof__', '__str__', '__subclasshook__', '__weakref__', '_api', '_json', 'author', 'contributors', 'coordinates', 'created_at', 'destroy', 'entities', 'favorite', 'favorite_count', 'favorited', 'geo', 'id', 'id_str', 'in_reply_to_screen_name', 'in_reply_to_status_id', 'in_reply_to_status_id_str', 'in_reply_to_user_id', 'in_reply_to_user_id_str', 'is_quote_status', 'lang', 'parse', 'parse_list', 'place', 'possibly_sensitive', 'possibly_sensitive_appealable', 'quoted_status', 'quoted_status_id', 'quoted_status_id_str', 'retweet', 'retweet_count', 'retweeted', 'retweets', 'source', 'source_url', 'text', 'truncated', 'user'] \n",
      "\n",
      "Help on Status in module tweepy.models object:\n",
      "\n",
      "class Status(Model)\n",
      " |  Method resolution order:\n",
      " |      Status\n",
      " |      Model\n",
      " |      __builtin__.object\n",
      " |  \n",
      " |  Methods defined here:\n",
      " |  \n",
      " |  __eq__(self, other)\n",
      " |  \n",
      " |  __ne__(self, other)\n",
      " |  \n",
      " |  destroy(self)\n",
      " |  \n",
      " |  favorite(self)\n",
      " |  \n",
      " |  retweet(self)\n",
      " |  \n",
      " |  retweets(self)\n",
      " |  \n",
      " |  ----------------------------------------------------------------------\n",
      " |  Class methods defined here:\n",
      " |  \n",
      " |  parse(cls, api, json) from __builtin__.type\n",
      " |  \n",
      " |  ----------------------------------------------------------------------\n",
      " |  Methods inherited from Model:\n",
      " |  \n",
      " |  __getstate__(self)\n",
      " |  \n",
      " |  __init__(self, api=None)\n",
      " |  \n",
      " |  __repr__(self)\n",
      " |  \n",
      " |  ----------------------------------------------------------------------\n",
      " |  Class methods inherited from Model:\n",
      " |  \n",
      " |  parse_list(cls, api, json_list) from __builtin__.type\n",
      " |      Parse a list of JSON objects into\n",
      " |      a result set of model instances.\n",
      " |  \n",
      " |  ----------------------------------------------------------------------\n",
      " |  Data descriptors inherited from Model:\n",
      " |  \n",
      " |  __dict__\n",
      " |      dictionary for instance variables (if defined)\n",
      " |  \n",
      " |  __weakref__\n",
      " |      list of weak references to the object (if defined)\n",
      "\n",
      "None\n"
     ]
    }
   ],
   "source": [
    "# Dir Command on Tweet\n",
    "print \"TWEET DIR: \", dir(my_tweets[0]), \"\\n\"\n",
    "print help(my_tweets[0])"
   ]
  },
  {
   "cell_type": "code",
   "execution_count": 11,
   "metadata": {
    "collapsed": false
   },
   "outputs": [
    {
     "name": "stdout",
     "output_type": "stream",
     "text": [
      "User(follow_request_sent=False, has_extended_profile=False, profile_use_background_image=True, _json={u'follow_request_sent': False, u'has_extended_profile': False, u'profile_use_background_image': True, u'default_profile_image': False, u'id': 114870386, u'profile_background_image_url_https': u'https://abs.twimg.com/images/themes/theme14/bg.gif', u'verified': True, u'translator_type': u'none', u'profile_text_color': u'333333', u'profile_image_url_https': u'https://pbs.twimg.com/profile_images/489131804750647296/N926A9jx_normal.png', u'profile_sidebar_fill_color': u'EFEFEF', u'entities': {u'url': {u'urls': [{u'url': u'http://t.co/IJ4XJRT6Cc', u'indices': [0, 22], u'expanded_url': u'http://www.flipboard.com', u'display_url': u'flipboard.com'}]}, u'description': {u'urls': []}}, u'followers_count': 500861, u'profile_sidebar_border_color': u'FFFFFF', u'id_str': u'114870386', u'profile_background_color': u'131516', u'listed_count': 7504, u'is_translation_enabled': False, u'utc_offset': -28800, u'statuses_count': 11493, u'description': u'Your social magazine. Available for the Web, iOS, Android, Windows 10 & Windows Phone.  Questions & Support: @FlipboardCS  Community: @FlipboardMag', u'friends_count': 4560, u'location': u'Palo Alto', u'profile_link_color': u'C71910', u'profile_image_url': u'http://pbs.twimg.com/profile_images/489131804750647296/N926A9jx_normal.png', u'following': True, u'geo_enabled': False, u'profile_banner_url': u'https://pbs.twimg.com/profile_banners/114870386/1452567615', u'profile_background_image_url': u'http://abs.twimg.com/images/themes/theme14/bg.gif', u'screen_name': u'Flipboard', u'lang': u'en', u'profile_background_tile': True, u'favourites_count': 17956, u'name': u'Flipboard', u'notifications': False, u'url': u'http://t.co/IJ4XJRT6Cc', u'created_at': u'Tue Feb 16 21:44:57 +0000 2010', u'contributors_enabled': False, u'time_zone': u'Pacific Time (US & Canada)', u'protected': False, u'default_profile': False, u'is_translator': False}, time_zone=u'Pacific Time (US & Canada)', id=114870386, description=u'Your social magazine. Available for the Web, iOS, Android, Windows 10 & Windows Phone.  Questions & Support: @FlipboardCS  Community: @FlipboardMag', _api=<tweepy.api.API object at 0x7f1a242adad0>, verified=True, profile_text_color=u'333333', profile_image_url_https=u'https://pbs.twimg.com/profile_images/489131804750647296/N926A9jx_normal.png', profile_sidebar_fill_color=u'EFEFEF', is_translator=False, geo_enabled=False, entities={u'url': {u'urls': [{u'url': u'http://t.co/IJ4XJRT6Cc', u'indices': [0, 22], u'expanded_url': u'http://www.flipboard.com', u'display_url': u'flipboard.com'}]}, u'description': {u'urls': []}}, followers_count=500861, protected=False, id_str=u'114870386', default_profile_image=False, listed_count=7504, lang=u'en', utc_offset=-28800, statuses_count=11493, profile_background_color=u'131516', friends_count=4560, profile_link_color=u'C71910', profile_image_url=u'http://pbs.twimg.com/profile_images/489131804750647296/N926A9jx_normal.png', notifications=False, default_profile=False, profile_background_image_url_https=u'https://abs.twimg.com/images/themes/theme14/bg.gif', profile_banner_url=u'https://pbs.twimg.com/profile_banners/114870386/1452567615', profile_background_image_url=u'http://abs.twimg.com/images/themes/theme14/bg.gif', name=u'Flipboard', is_translation_enabled=False, profile_background_tile=True, favourites_count=17956, screen_name=u'Flipboard', url=u'http://t.co/IJ4XJRT6Cc', created_at=datetime.datetime(2010, 2, 16, 21, 44, 57), contributors_enabled=False, location=u'Palo Alto', profile_sidebar_border_color=u'FFFFFF', translator_type=u'none', following=True)\n"
     ]
    }
   ],
   "source": [
    "# USER of first Tweet\n",
    "print my_tweets[0].user"
   ]
  },
  {
   "cell_type": "code",
   "execution_count": 12,
   "metadata": {
    "collapsed": false
   },
   "outputs": [
    {
     "name": "stdout",
     "output_type": "stream",
     "text": [
      "https://t.co/KnxlN29A8O \n",
      "\n",
      "Trump taps three senior leaders to serve in his administration. Plus, Obama assails spread of fake news &amp; more in… https://t.co/hTBPqsXZNS \n",
      "\n",
      "OPERATION: IceBridge. Join scientists &amp; @DavaExplorer LIVE at 7am ET before their research flight over Antarctica:… https://t.co/D8A1Gy7xoZ \n",
      "\n"
     ]
    }
   ],
   "source": [
    "# First 3 tweets\n",
    "for index, tw in enumerate(my_tweets):\n",
    "    if index < 3:\n",
    "        print tw.text, \"\\n\""
   ]
  },
  {
   "cell_type": "markdown",
   "metadata": {},
   "source": [
    "## My Followers"
   ]
  },
  {
   "cell_type": "code",
   "execution_count": 13,
   "metadata": {
    "collapsed": false
   },
   "outputs": [
    {
     "name": "stdout",
     "output_type": "stream",
     "text": [
      "My_Followers LEN:  13\n"
     ]
    }
   ],
   "source": [
    "## fetch follewer lists\n",
    "my_followers = api.followers()\n",
    "print \"My_Followers LEN: \", len(my_followers)"
   ]
  },
  {
   "cell_type": "code",
   "execution_count": 32,
   "metadata": {
    "collapsed": false
   },
   "outputs": [
    {
     "name": "stdout",
     "output_type": "stream",
     "text": [
      "[User(follow_request_sent=False, has_extended_profile=False, profile_use_background_image=False, profile_sidebar_fill_color=u'000000', live_following=False, time_zone=u'Rome', id=2251593766, description=u'I desideri che nascono in me sono sempre ardentissimi; soffro del pi\\xf9 piccolo ritardo e non posso sopportare gli indugi', _api=<tweepy.api.API object at 0x7f1a242adad0>, verified=False, blocked_by=False, profile_text_color=u'000000', muting=False, profile_image_url_https=u'https://pbs.twimg.com/profile_images/527467024906067968/GWL2xgot_normal.jpeg', _json={u'follow_request_sent': False, u'has_extended_profile': False, u'profile_use_background_image': False, u'live_following': False, u'default_profile_image': False, u'id': 2251593766, u'profile_background_image_url_https': u'https://abs.twimg.com/images/themes/theme1/bg.png', u'translator_type': u'none', u'verified': False, u'blocked_by': False, u'profile_text_color': u'000000', u'muting': False, u'profile_image_url_https': u'https://pbs.twimg.com/profile_images/527467024906067968/GWL2xgot_normal.jpeg', u'profile_sidebar_fill_color': u'000000', u'entities': {u'description': {u'urls': []}}, u'followers_count': 87, u'profile_sidebar_border_color': u'000000', u'id_str': u'2251593766', u'profile_background_color': u'000000', u'listed_count': 0, u'is_translation_enabled': False, u'utc_offset': 3600, u'statuses_count': 396, u'description': u'I desideri che nascono in me sono sempre ardentissimi; soffro del pi\\xf9 piccolo ritardo e non posso sopportare gli indugi', u'friends_count': 434, u'location': u'Aversa, Campania', u'profile_link_color': u'89C9FA', u'profile_image_url': u'http://pbs.twimg.com/profile_images/527467024906067968/GWL2xgot_normal.jpeg', u'following': False, u'geo_enabled': True, u'profile_banner_url': u'https://pbs.twimg.com/profile_banners/2251593766/1414592787', u'blocking': False, u'profile_background_image_url': u'http://abs.twimg.com/images/themes/theme1/bg.png', u'screen_name': u'ldigrazia', u'lang': u'it', u'profile_background_tile': False, u'favourites_count': 4, u'name': u'luigi digrazia', u'notifications': False, u'url': None, u'created_at': u'Mon Dec 30 08:13:22 +0000 2013', u'contributors_enabled': False, u'time_zone': u'Rome', u'protected': True, u'default_profile': False, u'is_translator': False}, is_translator=False, geo_enabled=True, entities={u'description': {u'urls': []}}, followers_count=87, protected=True, id_str=u'2251593766', default_profile_image=False, listed_count=0, lang=u'it', utc_offset=3600, statuses_count=396, profile_background_color=u'000000', friends_count=434, profile_link_color=u'89C9FA', profile_image_url=u'http://pbs.twimg.com/profile_images/527467024906067968/GWL2xgot_normal.jpeg', notifications=False, default_profile=False, profile_background_image_url_https=u'https://abs.twimg.com/images/themes/theme1/bg.png', profile_banner_url=u'https://pbs.twimg.com/profile_banners/2251593766/1414592787', blocking=False, profile_background_image_url=u'http://abs.twimg.com/images/themes/theme1/bg.png', name=u'luigi digrazia', is_translation_enabled=False, profile_background_tile=False, favourites_count=4, screen_name=u'ldigrazia', url=None, created_at=datetime.datetime(2013, 12, 30, 8, 13, 22), contributors_enabled=False, location=u'Aversa, Campania', profile_sidebar_border_color=u'000000', translator_type=u'none', following=False), User(follow_request_sent=False, has_extended_profile=False, profile_use_background_image=True, profile_sidebar_fill_color=u'95E8EC', live_following=False, time_zone=u'Central Time (US & Canada)', id=2936097834, description=u'\\u265bhttp://t.co/KEg5TsjcJe\\u2013A professional and reliable online store providing hot selling products at unexpected prices and shipping them globally \\xae.', _api=<tweepy.api.API object at 0x7f1a242adad0>, verified=False, blocked_by=False, profile_text_color=u'3C3940', muting=False, profile_image_url_https=u'https://pbs.twimg.com/profile_images/715034098704728064/SFjwFaSr_normal.jpg', _json={u'follow_request_sent': False, u'has_extended_profile': False, u'profile_use_background_image': True, u'live_following': False, u'default_profile_image': False, u'id': 2936097834, u'profile_background_image_url_https': u'https://abs.twimg.com/images/themes/theme4/bg.gif', u'translator_type': u'none', u'verified': False, u'blocked_by': False, u'profile_text_color': u'3C3940', u'muting': False, u'profile_image_url_https': u'https://pbs.twimg.com/profile_images/715034098704728064/SFjwFaSr_normal.jpg', u'profile_sidebar_fill_color': u'95E8EC', u'entities': {u'url': {u'urls': [{u'url': u'http://t.co/tdcS88p1tl', u'indices': [0, 22], u'expanded_url': u'http://www.buycoolprice.com', u'display_url': u'buycoolprice.com'}]}, u'description': {u'urls': [{u'url': u'http://t.co/KEg5TsjcJe', u'indices': [1, 23], u'expanded_url': u'http://Buycoolprice.com', u'display_url': u'Buycoolprice.com'}]}}, u'followers_count': 199217, u'profile_sidebar_border_color': u'5ED4DC', u'id_str': u'2936097834', u'profile_background_color': u'0099B9', u'listed_count': 111, u'status': {u'contributors': None, u'truncated': False, u'text': u'9.0mm-10.0mm White Cultured Freshwater Pearl Ring - 18k Solid Gold Ring Setting with CZ Diamond Accent https://t.co/cc15r0XTFp', u'is_quote_status': False, u'in_reply_to_status_id': None, u'id': 791473295019286528, u'favorite_count': 2, u'source': u'<a href=\"http://twitter.com\" rel=\"nofollow\">Twitter Web Client</a>', u'retweeted': False, u'coordinates': None, u'entities': {u'symbols': [], u'user_mentions': [], u'hashtags': [], u'urls': [{u'url': u'https://t.co/cc15r0XTFp', u'indices': [103, 126], u'expanded_url': u'http://www.shecypearljewelry.com/pearl-ring-jewelry/white-freshwater-pearl-ring-5165-FWR98.html#.WBFsj1JLqBk.twitter', u'display_url': u'shecypearljewelry.com/pearl-ring-jew\\u2026'}]}, u'in_reply_to_screen_name': None, u'in_reply_to_user_id': None, u'retweet_count': 1, u'id_str': u'791473295019286528', u'favorited': False, u'geo': None, u'in_reply_to_user_id_str': None, u'possibly_sensitive': False, u'lang': u'en', u'created_at': u'Thu Oct 27 02:55:13 +0000 2016', u'in_reply_to_status_id_str': None, u'place': None}, u'is_translation_enabled': True, u'utc_offset': -21600, u'statuses_count': 5236, u'description': u'\\u265bhttp://t.co/KEg5TsjcJe\\u2013A professional and reliable online store providing hot selling products at unexpected prices and shipping them globally \\xae.', u'friends_count': 216514, u'location': u'', u'profile_link_color': u'0099B9', u'profile_image_url': u'http://pbs.twimg.com/profile_images/715034098704728064/SFjwFaSr_normal.jpg', u'following': False, u'geo_enabled': False, u'profile_banner_url': u'https://pbs.twimg.com/profile_banners/2936097834/1424936333', u'blocking': False, u'profile_background_image_url': u'http://abs.twimg.com/images/themes/theme4/bg.gif', u'screen_name': u'Buycoolprice', u'lang': u'en-gb', u'profile_background_tile': False, u'favourites_count': 2817, u'name': u'Buycoolprice', u'notifications': False, u'url': u'http://t.co/tdcS88p1tl', u'created_at': u'Fri Dec 19 14:16:19 +0000 2014', u'contributors_enabled': False, u'time_zone': u'Central Time (US & Canada)', u'protected': False, u'default_profile': False, u'is_translator': False}, is_translator=False, geo_enabled=False, entities={u'url': {u'urls': [{u'url': u'http://t.co/tdcS88p1tl', u'indices': [0, 22], u'expanded_url': u'http://www.buycoolprice.com', u'display_url': u'buycoolprice.com'}]}, u'description': {u'urls': [{u'url': u'http://t.co/KEg5TsjcJe', u'indices': [1, 23], u'expanded_url': u'http://Buycoolprice.com', u'display_url': u'Buycoolprice.com'}]}}, followers_count=199217, protected=False, id_str=u'2936097834', default_profile_image=False, listed_count=111, status=Status(contributors=None, truncated=False, text=u'9.0mm-10.0mm White Cultured Freshwater Pearl Ring - 18k Solid Gold Ring Setting with CZ Diamond Accent https://t.co/cc15r0XTFp', is_quote_status=False, in_reply_to_status_id=None, id=791473295019286528, favorite_count=2, _api=<tweepy.api.API object at 0x7f1a242adad0>, source=u'Twitter Web Client', _json={u'contributors': None, u'truncated': False, u'text': u'9.0mm-10.0mm White Cultured Freshwater Pearl Ring - 18k Solid Gold Ring Setting with CZ Diamond Accent https://t.co/cc15r0XTFp', u'is_quote_status': False, u'in_reply_to_status_id': None, u'id': 791473295019286528, u'favorite_count': 2, u'source': u'<a href=\"http://twitter.com\" rel=\"nofollow\">Twitter Web Client</a>', u'retweeted': False, u'coordinates': None, u'entities': {u'symbols': [], u'user_mentions': [], u'hashtags': [], u'urls': [{u'url': u'https://t.co/cc15r0XTFp', u'indices': [103, 126], u'expanded_url': u'http://www.shecypearljewelry.com/pearl-ring-jewelry/white-freshwater-pearl-ring-5165-FWR98.html#.WBFsj1JLqBk.twitter', u'display_url': u'shecypearljewelry.com/pearl-ring-jew\\u2026'}]}, u'in_reply_to_screen_name': None, u'in_reply_to_user_id': None, u'retweet_count': 1, u'id_str': u'791473295019286528', u'favorited': False, u'geo': None, u'in_reply_to_user_id_str': None, u'possibly_sensitive': False, u'lang': u'en', u'created_at': u'Thu Oct 27 02:55:13 +0000 2016', u'in_reply_to_status_id_str': None, u'place': None}, coordinates=None, entities={u'symbols': [], u'user_mentions': [], u'hashtags': [], u'urls': [{u'url': u'https://t.co/cc15r0XTFp', u'indices': [103, 126], u'expanded_url': u'http://www.shecypearljewelry.com/pearl-ring-jewelry/white-freshwater-pearl-ring-5165-FWR98.html#.WBFsj1JLqBk.twitter', u'display_url': u'shecypearljewelry.com/pearl-ring-jew\\u2026'}]}, in_reply_to_screen_name=None, id_str=u'791473295019286528', retweet_count=1, in_reply_to_user_id=None, favorited=False, source_url=u'http://twitter.com', geo=None, in_reply_to_user_id_str=None, possibly_sensitive=False, lang=u'en', created_at=datetime.datetime(2016, 10, 27, 2, 55, 13), in_reply_to_status_id_str=None, place=None, retweeted=False), lang=u'en-gb', utc_offset=-21600, statuses_count=5236, profile_background_color=u'0099B9', friends_count=216514, profile_link_color=u'0099B9', profile_image_url=u'http://pbs.twimg.com/profile_images/715034098704728064/SFjwFaSr_normal.jpg', notifications=False, default_profile=False, profile_background_image_url_https=u'https://abs.twimg.com/images/themes/theme4/bg.gif', profile_banner_url=u'https://pbs.twimg.com/profile_banners/2936097834/1424936333', blocking=False, profile_background_image_url=u'http://abs.twimg.com/images/themes/theme4/bg.gif', name=u'Buycoolprice', is_translation_enabled=True, profile_background_tile=False, favourites_count=2817, screen_name=u'Buycoolprice', url=u'http://t.co/tdcS88p1tl', created_at=datetime.datetime(2014, 12, 19, 14, 16, 19), contributors_enabled=False, location=u'', profile_sidebar_border_color=u'5ED4DC', translator_type=u'none', following=False), User(follow_request_sent=False, has_extended_profile=False, profile_use_background_image=True, profile_sidebar_fill_color=u'DDEEF6', live_following=False, time_zone=None, id=711482174520868864, description=u'', _api=<tweepy.api.API object at 0x7f1a242adad0>, verified=False, blocked_by=False, profile_text_color=u'333333', muting=False, profile_image_url_https=u'https://pbs.twimg.com/profile_images/711490119035912192/okcxZhJV_normal.jpg', _json={u'follow_request_sent': False, u'has_extended_profile': False, u'profile_use_background_image': True, u'live_following': False, u'default_profile_image': False, u'id': 711482174520868864, u'profile_background_image_url_https': None, u'translator_type': u'none', u'verified': False, u'blocked_by': False, u'profile_text_color': u'333333', u'muting': False, u'profile_image_url_https': u'https://pbs.twimg.com/profile_images/711490119035912192/okcxZhJV_normal.jpg', u'profile_sidebar_fill_color': u'DDEEF6', u'entities': {u'description': {u'urls': []}}, u'followers_count': 1, u'profile_sidebar_border_color': u'C0DEED', u'id_str': u'711482174520868864', u'profile_background_color': u'F5F8FA', u'listed_count': 0, u'status': {u'contributors': None, u'truncated': False, u'text': u'https://t.co/bvzev08lAu', u'is_quote_status': False, u'in_reply_to_status_id': None, u'id': 711499981950230529, u'favorite_count': 0, u'source': u'<a href=\"http://twitter.com\" rel=\"nofollow\">Twitter Web Client</a>', u'retweeted': False, u'coordinates': None, u'entities': {u'symbols': [], u'user_mentions': [], u'hashtags': [], u'urls': [{u'url': u'https://t.co/bvzev08lAu', u'indices': [0, 23], u'expanded_url': u'https://it.linkedin.com/in/krasniqi', u'display_url': u'it.linkedin.com/in/krasniqi'}]}, u'in_reply_to_screen_name': None, u'in_reply_to_user_id': None, u'retweet_count': 0, u'id_str': u'711499981950230529', u'favorited': False, u'geo': None, u'in_reply_to_user_id_str': None, u'possibly_sensitive': False, u'lang': u'und', u'created_at': u'Sun Mar 20 10:29:49 +0000 2016', u'in_reply_to_status_id_str': None, u'place': None}, u'is_translation_enabled': False, u'utc_offset': None, u'statuses_count': 1, u'description': u'', u'friends_count': 48, u'location': u'', u'profile_link_color': u'1DA1F2', u'profile_image_url': u'http://pbs.twimg.com/profile_images/711490119035912192/okcxZhJV_normal.jpg', u'following': False, u'geo_enabled': False, u'blocking': False, u'profile_background_image_url': None, u'screen_name': u'GeomKra', u'lang': u'it', u'profile_background_tile': False, u'favourites_count': 1, u'name': u'Arber krasniqi', u'notifications': False, u'url': None, u'created_at': u'Sun Mar 20 09:19:03 +0000 2016', u'contributors_enabled': False, u'time_zone': None, u'protected': False, u'default_profile': True, u'is_translator': False}, is_translator=False, geo_enabled=False, entities={u'description': {u'urls': []}}, followers_count=1, protected=False, id_str=u'711482174520868864', default_profile_image=False, listed_count=0, status=Status(contributors=None, truncated=False, text=u'https://t.co/bvzev08lAu', is_quote_status=False, in_reply_to_status_id=None, id=711499981950230529, favorite_count=0, _api=<tweepy.api.API object at 0x7f1a242adad0>, source=u'Twitter Web Client', _json={u'contributors': None, u'truncated': False, u'text': u'https://t.co/bvzev08lAu', u'is_quote_status': False, u'in_reply_to_status_id': None, u'id': 711499981950230529, u'favorite_count': 0, u'source': u'<a href=\"http://twitter.com\" rel=\"nofollow\">Twitter Web Client</a>', u'retweeted': False, u'coordinates': None, u'entities': {u'symbols': [], u'user_mentions': [], u'hashtags': [], u'urls': [{u'url': u'https://t.co/bvzev08lAu', u'indices': [0, 23], u'expanded_url': u'https://it.linkedin.com/in/krasniqi', u'display_url': u'it.linkedin.com/in/krasniqi'}]}, u'in_reply_to_screen_name': None, u'in_reply_to_user_id': None, u'retweet_count': 0, u'id_str': u'711499981950230529', u'favorited': False, u'geo': None, u'in_reply_to_user_id_str': None, u'possibly_sensitive': False, u'lang': u'und', u'created_at': u'Sun Mar 20 10:29:49 +0000 2016', u'in_reply_to_status_id_str': None, u'place': None}, coordinates=None, entities={u'symbols': [], u'user_mentions': [], u'hashtags': [], u'urls': [{u'url': u'https://t.co/bvzev08lAu', u'indices': [0, 23], u'expanded_url': u'https://it.linkedin.com/in/krasniqi', u'display_url': u'it.linkedin.com/in/krasniqi'}]}, in_reply_to_screen_name=None, id_str=u'711499981950230529', retweet_count=0, in_reply_to_user_id=None, favorited=False, source_url=u'http://twitter.com', geo=None, in_reply_to_user_id_str=None, possibly_sensitive=False, lang=u'und', created_at=datetime.datetime(2016, 3, 20, 10, 29, 49), in_reply_to_status_id_str=None, place=None, retweeted=False), lang=u'it', utc_offset=None, statuses_count=1, profile_background_color=u'F5F8FA', friends_count=48, profile_link_color=u'1DA1F2', profile_image_url=u'http://pbs.twimg.com/profile_images/711490119035912192/okcxZhJV_normal.jpg', notifications=False, default_profile=True, profile_background_image_url_https=None, blocking=False, profile_background_image_url=None, name=u'Arber krasniqi', is_translation_enabled=False, profile_background_tile=False, favourites_count=1, screen_name=u'GeomKra', url=None, created_at=datetime.datetime(2016, 3, 20, 9, 19, 3), contributors_enabled=False, location=u'', profile_sidebar_border_color=u'C0DEED', translator_type=u'none', following=False), User(follow_request_sent=False, has_extended_profile=True, profile_use_background_image=True, profile_sidebar_fill_color=u'000000', live_following=False, time_zone=u'Rome', id=3966335244, description=u'Movimento 5 stelle Aversa', _api=<tweepy.api.API object at 0x7f1a242adad0>, verified=False, blocked_by=False, profile_text_color=u'000000', muting=False, profile_image_url_https=u'https://pbs.twimg.com/profile_images/656724779093757952/MIsKiv7O_normal.jpg', _json={u'follow_request_sent': False, u'has_extended_profile': True, u'profile_use_background_image': True, u'live_following': False, u'default_profile_image': False, u'id': 3966335244, u'profile_background_image_url_https': u'https://pbs.twimg.com/profile_background_images/656752038232109056/s9tfQUPB.jpg', u'translator_type': u'none', u'verified': False, u'blocked_by': False, u'profile_text_color': u'000000', u'muting': False, u'profile_image_url_https': u'https://pbs.twimg.com/profile_images/656724779093757952/MIsKiv7O_normal.jpg', u'profile_sidebar_fill_color': u'000000', u'entities': {u'url': {u'urls': [{u'url': u'https://t.co/ZXHnE6fQ51', u'indices': [0, 23], u'expanded_url': u'http://www.movimento5stelleaversa.it', u'display_url': u'movimento5stelleaversa.it'}]}, u'description': {u'urls': []}}, u'followers_count': 38, u'profile_sidebar_border_color': u'000000', u'id_str': u'3966335244', u'profile_background_color': u'C0DEED', u'listed_count': 0, u'status': {u'contributors': None, u'truncated': False, u'text': u'Cosentino condannato \\u200ba nove anni di carcere - IlGiornale.it https://t.co/3yFH1x8zA3 via @ilgiornale', u'is_quote_status': False, u'in_reply_to_status_id': None, u'id': 799395914859376640, u'favorite_count': 0, u'source': u'<a href=\"http://twitter.com\" rel=\"nofollow\">Twitter Web Client</a>', u'retweeted': False, u'coordinates': None, u'entities': {u'symbols': [], u'user_mentions': [{u'id': 25508589, u'indices': [89, 100], u'id_str': u'25508589', u'screen_name': u'ilgiornale', u'name': u'ilGiornale'}], u'hashtags': [], u'urls': [{u'url': u'https://t.co/3yFH1x8zA3', u'indices': [61, 84], u'expanded_url': u'http://www.ilgiornale.it/news/politica/cosentino-condannato-nove-anni-carcere-1333287.html', u'display_url': u'ilgiornale.it/news/politica/\\u2026'}]}, u'in_reply_to_screen_name': None, u'in_reply_to_user_id': None, u'retweet_count': 0, u'id_str': u'799395914859376640', u'favorited': False, u'geo': None, u'in_reply_to_user_id_str': None, u'possibly_sensitive': True, u'lang': u'it', u'created_at': u'Thu Nov 17 23:36:52 +0000 2016', u'in_reply_to_status_id_str': None, u'place': None}, u'is_translation_enabled': False, u'utc_offset': 3600, u'statuses_count': 59, u'description': u'Movimento 5 stelle Aversa', u'friends_count': 321, u'location': u'Aversa, Campania', u'profile_link_color': u'0084B4', u'profile_image_url': u'http://pbs.twimg.com/profile_images/656724779093757952/MIsKiv7O_normal.jpg', u'following': False, u'geo_enabled': True, u'profile_banner_url': u'https://pbs.twimg.com/profile_banners/3966335244/1467212661', u'blocking': False, u'profile_background_image_url': u'http://pbs.twimg.com/profile_background_images/656752038232109056/s9tfQUPB.jpg', u'screen_name': u'aversa5stelle', u'lang': u'it', u'profile_background_tile': False, u'favourites_count': 0, u'name': u'aversa5stelle', u'notifications': False, u'url': u'https://t.co/ZXHnE6fQ51', u'created_at': u'Wed Oct 21 06:48:15 +0000 2015', u'contributors_enabled': False, u'time_zone': u'Rome', u'protected': False, u'default_profile': False, u'is_translator': False}, is_translator=False, geo_enabled=True, entities={u'url': {u'urls': [{u'url': u'https://t.co/ZXHnE6fQ51', u'indices': [0, 23], u'expanded_url': u'http://www.movimento5stelleaversa.it', u'display_url': u'movimento5stelleaversa.it'}]}, u'description': {u'urls': []}}, followers_count=38, protected=False, id_str=u'3966335244', default_profile_image=False, listed_count=0, status=Status(contributors=None, truncated=False, text=u'Cosentino condannato \\u200ba nove anni di carcere - IlGiornale.it https://t.co/3yFH1x8zA3 via @ilgiornale', is_quote_status=False, in_reply_to_status_id=None, id=799395914859376640, favorite_count=0, _api=<tweepy.api.API object at 0x7f1a242adad0>, source=u'Twitter Web Client', _json={u'contributors': None, u'truncated': False, u'text': u'Cosentino condannato \\u200ba nove anni di carcere - IlGiornale.it https://t.co/3yFH1x8zA3 via @ilgiornale', u'is_quote_status': False, u'in_reply_to_status_id': None, u'id': 799395914859376640, u'favorite_count': 0, u'source': u'<a href=\"http://twitter.com\" rel=\"nofollow\">Twitter Web Client</a>', u'retweeted': False, u'coordinates': None, u'entities': {u'symbols': [], u'user_mentions': [{u'id': 25508589, u'indices': [89, 100], u'id_str': u'25508589', u'screen_name': u'ilgiornale', u'name': u'ilGiornale'}], u'hashtags': [], u'urls': [{u'url': u'https://t.co/3yFH1x8zA3', u'indices': [61, 84], u'expanded_url': u'http://www.ilgiornale.it/news/politica/cosentino-condannato-nove-anni-carcere-1333287.html', u'display_url': u'ilgiornale.it/news/politica/\\u2026'}]}, u'in_reply_to_screen_name': None, u'in_reply_to_user_id': None, u'retweet_count': 0, u'id_str': u'799395914859376640', u'favorited': False, u'geo': None, u'in_reply_to_user_id_str': None, u'possibly_sensitive': True, u'lang': u'it', u'created_at': u'Thu Nov 17 23:36:52 +0000 2016', u'in_reply_to_status_id_str': None, u'place': None}, coordinates=None, entities={u'symbols': [], u'user_mentions': [{u'id': 25508589, u'indices': [89, 100], u'id_str': u'25508589', u'screen_name': u'ilgiornale', u'name': u'ilGiornale'}], u'hashtags': [], u'urls': [{u'url': u'https://t.co/3yFH1x8zA3', u'indices': [61, 84], u'expanded_url': u'http://www.ilgiornale.it/news/politica/cosentino-condannato-nove-anni-carcere-1333287.html', u'display_url': u'ilgiornale.it/news/politica/\\u2026'}]}, in_reply_to_screen_name=None, id_str=u'799395914859376640', retweet_count=0, in_reply_to_user_id=None, favorited=False, source_url=u'http://twitter.com', geo=None, in_reply_to_user_id_str=None, possibly_sensitive=True, lang=u'it', created_at=datetime.datetime(2016, 11, 17, 23, 36, 52), in_reply_to_status_id_str=None, place=None, retweeted=False), lang=u'it', utc_offset=3600, statuses_count=59, profile_background_color=u'C0DEED', friends_count=321, profile_link_color=u'0084B4', profile_image_url=u'http://pbs.twimg.com/profile_images/656724779093757952/MIsKiv7O_normal.jpg', notifications=False, default_profile=False, profile_background_image_url_https=u'https://pbs.twimg.com/profile_background_images/656752038232109056/s9tfQUPB.jpg', profile_banner_url=u'https://pbs.twimg.com/profile_banners/3966335244/1467212661', blocking=False, profile_background_image_url=u'http://pbs.twimg.com/profile_background_images/656752038232109056/s9tfQUPB.jpg', name=u'aversa5stelle', is_translation_enabled=False, profile_background_tile=False, favourites_count=0, screen_name=u'aversa5stelle', url=u'https://t.co/ZXHnE6fQ51', created_at=datetime.datetime(2015, 10, 21, 6, 48, 15), contributors_enabled=False, location=u'Aversa, Campania', profile_sidebar_border_color=u'000000', translator_type=u'none', following=False), User(follow_request_sent=False, has_extended_profile=False, profile_use_background_image=False, profile_sidebar_fill_color=u'000000', live_following=False, time_zone=u'Rome', id=2884191406, description=u'Casette in legno', _api=<tweepy.api.API object at 0x7f1a242adad0>, verified=False, blocked_by=False, profile_text_color=u'000000', muting=False, profile_image_url_https=u'https://pbs.twimg.com/profile_images/535098403542159360/CRy5rGtL_normal.jpeg', _json={u'follow_request_sent': False, u'has_extended_profile': False, u'profile_use_background_image': False, u'live_following': False, u'default_profile_image': False, u'id': 2884191406, u'profile_background_image_url_https': u'https://abs.twimg.com/images/themes/theme1/bg.png', u'translator_type': u'none', u'verified': False, u'blocked_by': False, u'profile_text_color': u'000000', u'muting': False, u'profile_image_url_https': u'https://pbs.twimg.com/profile_images/535098403542159360/CRy5rGtL_normal.jpeg', u'profile_sidebar_fill_color': u'000000', u'entities': {u'url': {u'urls': [{u'url': u'https://t.co/34l9jjwNWF', u'indices': [0, 23], u'expanded_url': u'http://www.woodwebstore.com', u'display_url': u'woodwebstore.com'}]}, u'description': {u'urls': []}}, u'followers_count': 5, u'profile_sidebar_border_color': u'000000', u'id_str': u'2884191406', u'profile_background_color': u'000000', u'listed_count': 0, u'status': {u'contributors': None, u'truncated': False, u'text': u'Questa bellissima casa \\xe8 una delle tante nostre realizzazioni!\\n@woodwebstore @Radio105 @RDS_official \\n#casedilegno https://t.co/8OniXkwGwi', u'is_quote_status': False, u'in_reply_to_status_id': None, u'id': 700962670388842496, u'favorite_count': 0, u'source': u'<a href=\"http://twitter.com\" rel=\"nofollow\">Twitter Web Client</a>', u'retweeted': False, u'coordinates': None, u'entities': {u'symbols': [], u'user_mentions': [{u'id': 2884191406, u'indices': [63, 76], u'id_str': u'2884191406', u'screen_name': u'woodwebstore', u'name': u'Woodwebstore Srl'}, {u'id': 6439122, u'indices': [77, 86], u'id_str': u'6439122', u'screen_name': u'Radio105', u'name': u'Radio 105'}, {u'id': 35694393, u'indices': [87, 100], u'id_str': u'35694393', u'screen_name': u'RDS_official', u'name': u'RDS'}], u'hashtags': [{u'indices': [102, 114], u'text': u'casedilegno'}], u'urls': [], u'media': [{u'expanded_url': u'https://twitter.com/woodwebstore/status/700962670388842496/photo/1', u'display_url': u'pic.twitter.com/8OniXkwGwi', u'url': u'https://t.co/8OniXkwGwi', u'media_url_https': u'https://pbs.twimg.com/media/CbpR1XEWIAA9uqj.jpg', u'id_str': u'700962669176692736', u'sizes': {u'large': {u'h': 719, u'resize': u'fit', u'w': 960}, u'small': {u'h': 509, u'resize': u'fit', u'w': 680}, u'medium': {u'h': 719, u'resize': u'fit', u'w': 960}, u'thumb': {u'h': 150, u'resize': u'crop', u'w': 150}}, u'indices': [115, 138], u'type': u'photo', u'id': 700962669176692736, u'media_url': u'http://pbs.twimg.com/media/CbpR1XEWIAA9uqj.jpg'}]}, u'in_reply_to_screen_name': None, u'in_reply_to_user_id': None, u'retweet_count': 0, u'id_str': u'700962670388842496', u'favorited': False, u'geo': None, u'in_reply_to_user_id_str': None, u'possibly_sensitive': False, u'lang': u'it', u'created_at': u'Sat Feb 20 08:38:18 +0000 2016', u'in_reply_to_status_id_str': None, u'place': {u'full_name': u'Foggia, Puglia', u'url': u'https://api.twitter.com/1.1/geo/id/69ea85b235fbc6ac.json', u'country': u'Italia', u'place_type': u'city', u'bounding_box': {u'type': u'Polygon', u'coordinates': [[[15.4290987, 41.3305079], [15.7884032, 41.3305079], [15.7884032, 41.6117748], [15.4290987, 41.6117748]]]}, u'contained_within': [], u'country_code': u'IT', u'attributes': {}, u'id': u'69ea85b235fbc6ac', u'name': u'Foggia'}, u'extended_entities': {u'media': [{u'expanded_url': u'https://twitter.com/woodwebstore/status/700962670388842496/photo/1', u'display_url': u'pic.twitter.com/8OniXkwGwi', u'url': u'https://t.co/8OniXkwGwi', u'media_url_https': u'https://pbs.twimg.com/media/CbpR1XEWIAA9uqj.jpg', u'id_str': u'700962669176692736', u'sizes': {u'large': {u'h': 719, u'resize': u'fit', u'w': 960}, u'small': {u'h': 509, u'resize': u'fit', u'w': 680}, u'medium': {u'h': 719, u'resize': u'fit', u'w': 960}, u'thumb': {u'h': 150, u'resize': u'crop', u'w': 150}}, u'indices': [115, 138], u'type': u'photo', u'id': 700962669176692736, u'media_url': u'http://pbs.twimg.com/media/CbpR1XEWIAA9uqj.jpg'}]}}, u'is_translation_enabled': False, u'utc_offset': 3600, u'statuses_count': 53, u'description': u'Casette in legno', u'friends_count': 139, u'location': u'Manfredonia, Puglia', u'profile_link_color': u'7FDBB6', u'profile_image_url': u'http://pbs.twimg.com/profile_images/535098403542159360/CRy5rGtL_normal.jpeg', u'following': False, u'geo_enabled': True, u'profile_banner_url': u'https://pbs.twimg.com/profile_banners/2884191406/1416471721', u'blocking': False, u'profile_background_image_url': u'http://abs.twimg.com/images/themes/theme1/bg.png', u'screen_name': u'woodwebstore', u'lang': u'it', u'profile_background_tile': False, u'favourites_count': 5, u'name': u'Woodwebstore Srl', u'notifications': False, u'url': u'https://t.co/34l9jjwNWF', u'created_at': u'Wed Nov 19 15:47:04 +0000 2014', u'contributors_enabled': False, u'time_zone': u'Rome', u'protected': False, u'default_profile': False, u'is_translator': False}, is_translator=False, geo_enabled=True, entities={u'url': {u'urls': [{u'url': u'https://t.co/34l9jjwNWF', u'indices': [0, 23], u'expanded_url': u'http://www.woodwebstore.com', u'display_url': u'woodwebstore.com'}]}, u'description': {u'urls': []}}, followers_count=5, protected=False, id_str=u'2884191406', default_profile_image=False, listed_count=0, status=Status(contributors=None, truncated=False, text=u'Questa bellissima casa \\xe8 una delle tante nostre realizzazioni!\\n@woodwebstore @Radio105 @RDS_official \\n#casedilegno https://t.co/8OniXkwGwi', is_quote_status=False, in_reply_to_status_id=None, id=700962670388842496, favorite_count=0, _api=<tweepy.api.API object at 0x7f1a242adad0>, source=u'Twitter Web Client', _json={u'contributors': None, u'truncated': False, u'text': u'Questa bellissima casa \\xe8 una delle tante nostre realizzazioni!\\n@woodwebstore @Radio105 @RDS_official \\n#casedilegno https://t.co/8OniXkwGwi', u'is_quote_status': False, u'in_reply_to_status_id': None, u'id': 700962670388842496, u'favorite_count': 0, u'source': u'<a href=\"http://twitter.com\" rel=\"nofollow\">Twitter Web Client</a>', u'retweeted': False, u'coordinates': None, u'entities': {u'symbols': [], u'user_mentions': [{u'id': 2884191406, u'indices': [63, 76], u'id_str': u'2884191406', u'screen_name': u'woodwebstore', u'name': u'Woodwebstore Srl'}, {u'id': 6439122, u'indices': [77, 86], u'id_str': u'6439122', u'screen_name': u'Radio105', u'name': u'Radio 105'}, {u'id': 35694393, u'indices': [87, 100], u'id_str': u'35694393', u'screen_name': u'RDS_official', u'name': u'RDS'}], u'hashtags': [{u'indices': [102, 114], u'text': u'casedilegno'}], u'urls': [], u'media': [{u'expanded_url': u'https://twitter.com/woodwebstore/status/700962670388842496/photo/1', u'display_url': u'pic.twitter.com/8OniXkwGwi', u'url': u'https://t.co/8OniXkwGwi', u'media_url_https': u'https://pbs.twimg.com/media/CbpR1XEWIAA9uqj.jpg', u'id_str': u'700962669176692736', u'sizes': {u'large': {u'h': 719, u'resize': u'fit', u'w': 960}, u'small': {u'h': 509, u'resize': u'fit', u'w': 680}, u'medium': {u'h': 719, u'resize': u'fit', u'w': 960}, u'thumb': {u'h': 150, u'resize': u'crop', u'w': 150}}, u'indices': [115, 138], u'type': u'photo', u'id': 700962669176692736, u'media_url': u'http://pbs.twimg.com/media/CbpR1XEWIAA9uqj.jpg'}]}, u'in_reply_to_screen_name': None, u'in_reply_to_user_id': None, u'retweet_count': 0, u'id_str': u'700962670388842496', u'favorited': False, u'geo': None, u'in_reply_to_user_id_str': None, u'possibly_sensitive': False, u'lang': u'it', u'created_at': u'Sat Feb 20 08:38:18 +0000 2016', u'in_reply_to_status_id_str': None, u'place': {u'full_name': u'Foggia, Puglia', u'url': u'https://api.twitter.com/1.1/geo/id/69ea85b235fbc6ac.json', u'country': u'Italia', u'place_type': u'city', u'bounding_box': {u'type': u'Polygon', u'coordinates': [[[15.4290987, 41.3305079], [15.7884032, 41.3305079], [15.7884032, 41.6117748], [15.4290987, 41.6117748]]]}, u'contained_within': [], u'country_code': u'IT', u'attributes': {}, u'id': u'69ea85b235fbc6ac', u'name': u'Foggia'}, u'extended_entities': {u'media': [{u'expanded_url': u'https://twitter.com/woodwebstore/status/700962670388842496/photo/1', u'display_url': u'pic.twitter.com/8OniXkwGwi', u'url': u'https://t.co/8OniXkwGwi', u'media_url_https': u'https://pbs.twimg.com/media/CbpR1XEWIAA9uqj.jpg', u'id_str': u'700962669176692736', u'sizes': {u'large': {u'h': 719, u'resize': u'fit', u'w': 960}, u'small': {u'h': 509, u'resize': u'fit', u'w': 680}, u'medium': {u'h': 719, u'resize': u'fit', u'w': 960}, u'thumb': {u'h': 150, u'resize': u'crop', u'w': 150}}, u'indices': [115, 138], u'type': u'photo', u'id': 700962669176692736, u'media_url': u'http://pbs.twimg.com/media/CbpR1XEWIAA9uqj.jpg'}]}}, coordinates=None, entities={u'symbols': [], u'user_mentions': [{u'id': 2884191406, u'indices': [63, 76], u'id_str': u'2884191406', u'screen_name': u'woodwebstore', u'name': u'Woodwebstore Srl'}, {u'id': 6439122, u'indices': [77, 86], u'id_str': u'6439122', u'screen_name': u'Radio105', u'name': u'Radio 105'}, {u'id': 35694393, u'indices': [87, 100], u'id_str': u'35694393', u'screen_name': u'RDS_official', u'name': u'RDS'}], u'hashtags': [{u'indices': [102, 114], u'text': u'casedilegno'}], u'urls': [], u'media': [{u'expanded_url': u'https://twitter.com/woodwebstore/status/700962670388842496/photo/1', u'display_url': u'pic.twitter.com/8OniXkwGwi', u'url': u'https://t.co/8OniXkwGwi', u'media_url_https': u'https://pbs.twimg.com/media/CbpR1XEWIAA9uqj.jpg', u'id_str': u'700962669176692736', u'sizes': {u'large': {u'h': 719, u'resize': u'fit', u'w': 960}, u'small': {u'h': 509, u'resize': u'fit', u'w': 680}, u'medium': {u'h': 719, u'resize': u'fit', u'w': 960}, u'thumb': {u'h': 150, u'resize': u'crop', u'w': 150}}, u'indices': [115, 138], u'type': u'photo', u'id': 700962669176692736, u'media_url': u'http://pbs.twimg.com/media/CbpR1XEWIAA9uqj.jpg'}]}, in_reply_to_screen_name=None, id_str=u'700962670388842496', retweet_count=0, in_reply_to_user_id=None, favorited=False, source_url=u'http://twitter.com', geo=None, in_reply_to_user_id_str=None, possibly_sensitive=False, lang=u'it', created_at=datetime.datetime(2016, 2, 20, 8, 38, 18), in_reply_to_status_id_str=None, place=Place(_api=<tweepy.api.API object at 0x7f1a242adad0>, country_code=u'IT', url=u'https://api.twitter.com/1.1/geo/id/69ea85b235fbc6ac.json', country=u'Italia', place_type=u'city', bounding_box=BoundingBox(_api=<tweepy.api.API object at 0x7f1a242adad0>, type=u'Polygon', coordinates=[[[15.4290987, 41.3305079], [15.7884032, 41.3305079], [15.7884032, 41.6117748], [15.4290987, 41.6117748]]]), contained_within=[], full_name=u'Foggia, Puglia', attributes={}, id=u'69ea85b235fbc6ac', name=u'Foggia'), extended_entities={u'media': [{u'expanded_url': u'https://twitter.com/woodwebstore/status/700962670388842496/photo/1', u'display_url': u'pic.twitter.com/8OniXkwGwi', u'url': u'https://t.co/8OniXkwGwi', u'media_url_https': u'https://pbs.twimg.com/media/CbpR1XEWIAA9uqj.jpg', u'id_str': u'700962669176692736', u'sizes': {u'large': {u'h': 719, u'resize': u'fit', u'w': 960}, u'small': {u'h': 509, u'resize': u'fit', u'w': 680}, u'medium': {u'h': 719, u'resize': u'fit', u'w': 960}, u'thumb': {u'h': 150, u'resize': u'crop', u'w': 150}}, u'indices': [115, 138], u'type': u'photo', u'id': 700962669176692736, u'media_url': u'http://pbs.twimg.com/media/CbpR1XEWIAA9uqj.jpg'}]}, retweeted=False), lang=u'it', utc_offset=3600, statuses_count=53, profile_background_color=u'000000', friends_count=139, profile_link_color=u'7FDBB6', profile_image_url=u'http://pbs.twimg.com/profile_images/535098403542159360/CRy5rGtL_normal.jpeg', notifications=False, default_profile=False, profile_background_image_url_https=u'https://abs.twimg.com/images/themes/theme1/bg.png', profile_banner_url=u'https://pbs.twimg.com/profile_banners/2884191406/1416471721', blocking=False, profile_background_image_url=u'http://abs.twimg.com/images/themes/theme1/bg.png', name=u'Woodwebstore Srl', is_translation_enabled=False, profile_background_tile=False, favourites_count=5, screen_name=u'woodwebstore', url=u'https://t.co/34l9jjwNWF', created_at=datetime.datetime(2014, 11, 19, 15, 47, 4), contributors_enabled=False, location=u'Manfredonia, Puglia', profile_sidebar_border_color=u'000000', translator_type=u'none', following=False), User(follow_request_sent=False, has_extended_profile=False, profile_use_background_image=True, profile_sidebar_fill_color=u'DDEEF6', live_following=False, time_zone=None, id=2319493912, description=u'', _api=<tweepy.api.API object at 0x7f1a242adad0>, verified=False, blocked_by=False, profile_text_color=u'333333', muting=False, profile_image_url_https=u'https://pbs.twimg.com/profile_images/495297115867066368/QP3JsfVv_normal.jpeg', _json={u'follow_request_sent': False, u'has_extended_profile': False, u'profile_use_background_image': True, u'live_following': False, u'default_profile_image': False, u'id': 2319493912, u'profile_background_image_url_https': u'https://abs.twimg.com/images/themes/theme1/bg.png', u'translator_type': u'none', u'verified': False, u'blocked_by': False, u'profile_text_color': u'333333', u'muting': False, u'profile_image_url_https': u'https://pbs.twimg.com/profile_images/495297115867066368/QP3JsfVv_normal.jpeg', u'profile_sidebar_fill_color': u'DDEEF6', u'entities': {u'description': {u'urls': []}}, u'followers_count': 5, u'profile_sidebar_border_color': u'C0DEED', u'id_str': u'2319493912', u'profile_background_color': u'C0DEED', u'listed_count': 0, u'status': {u'contributors': None, u'truncated': False, u'text': u'RT @la_stampa: L\\u2019economia mondiale cresce, le emissioni di CO2 invece no | @RobertoGiov https://t.co/X0ecQLlQNJ https://t.co/yQuuNWkwLA', u'is_quote_status': False, u'in_reply_to_status_id': None, u'id': 710170839174488064, u'favorite_count': 0, u'source': u'<a href=\"http://twitter.com/download/android\" rel=\"nofollow\">Twitter for Android</a>', u'retweeted': False, u'coordinates': None, u'entities': {u'symbols': [], u'user_mentions': [{u'id': 716767568770498564, u'indices': [3, 13], u'id_str': u'716767568770498564', u'screen_name': u'la_stampa', u'name': u'La Stampa'}, {u'id': 398623527, u'indices': [75, 87], u'id_str': u'398623527', u'screen_name': u'RobertoGiov', u'name': u'Roberto Giovannini'}], u'hashtags': [], u'urls': [{u'url': u'https://t.co/X0ecQLlQNJ', u'indices': [88, 111], u'expanded_url': u'http://www.lastampa.it/2016/03/16/scienza/ambiente/focus/benvenuto-decoupling-leconomia-mondiale-cresce-le-emissioni-di-co-invece-no-JGbCjc28AohqMbybwKKRbN/pagina.html', u'display_url': u'lastampa.it/2016/03/16/sci\\u2026'}], u'media': [{u'source_user_id': 29416653, u'source_status_id_str': u'710129789051346944', u'expanded_url': u'https://twitter.com/la_stampa/status/710129789051346944/photo/1', u'display_url': u'pic.twitter.com/yQuuNWkwLA', u'url': u'https://t.co/yQuuNWkwLA', u'media_url_https': u'https://pbs.twimg.com/media/CdrbX-nWAAAVasz.jpg', u'source_user_id_str': u'29416653', u'source_status_id': 710129789051346944, u'id_str': u'710121096255766528', u'sizes': {u'small': {u'h': 191, u'resize': u'fit', u'w': 340}, u'large': {u'h': 563, u'resize': u'fit', u'w': 1000}, u'medium': {u'h': 338, u'resize': u'fit', u'w': 600}, u'thumb': {u'h': 150, u'resize': u'crop', u'w': 150}}, u'indices': [112, 135], u'type': u'photo', u'id': 710121096255766528, u'media_url': u'http://pbs.twimg.com/media/CdrbX-nWAAAVasz.jpg'}]}, u'in_reply_to_screen_name': None, u'in_reply_to_user_id': None, u'retweet_count': 10, u'id_str': u'710170839174488064', u'favorited': False, u'retweeted_status': {u'contributors': None, u'truncated': False, u'text': u'L\\u2019economia mondiale cresce, le emissioni di CO2 invece no | @RobertoGiov https://t.co/X0ecQLlQNJ https://t.co/yQuuNWkwLA', u'is_quote_status': False, u'in_reply_to_status_id': None, u'id': 710129789051346944, u'favorite_count': 6, u'source': u'<a href=\"https://about.twitter.com/products/tweetdeck\" rel=\"nofollow\">TweetDeck</a>', u'retweeted': False, u'coordinates': None, u'entities': {u'symbols': [], u'user_mentions': [{u'id': 398623527, u'indices': [60, 72], u'id_str': u'398623527', u'screen_name': u'RobertoGiov', u'name': u'Roberto Giovannini'}], u'hashtags': [], u'urls': [{u'url': u'https://t.co/X0ecQLlQNJ', u'indices': [73, 96], u'expanded_url': u'http://www.lastampa.it/2016/03/16/scienza/ambiente/focus/benvenuto-decoupling-leconomia-mondiale-cresce-le-emissioni-di-co-invece-no-JGbCjc28AohqMbybwKKRbN/pagina.html', u'display_url': u'lastampa.it/2016/03/16/sci\\u2026'}], u'media': [{u'expanded_url': u'https://twitter.com/la_stampa/status/710129789051346944/photo/1', u'display_url': u'pic.twitter.com/yQuuNWkwLA', u'url': u'https://t.co/yQuuNWkwLA', u'media_url_https': u'https://pbs.twimg.com/media/CdrbX-nWAAAVasz.jpg', u'id_str': u'710121096255766528', u'sizes': {u'small': {u'h': 191, u'resize': u'fit', u'w': 340}, u'large': {u'h': 563, u'resize': u'fit', u'w': 1000}, u'medium': {u'h': 338, u'resize': u'fit', u'w': 600}, u'thumb': {u'h': 150, u'resize': u'crop', u'w': 150}}, u'indices': [97, 120], u'type': u'photo', u'id': 710121096255766528, u'media_url': u'http://pbs.twimg.com/media/CdrbX-nWAAAVasz.jpg'}]}, u'in_reply_to_screen_name': None, u'in_reply_to_user_id': None, u'retweet_count': 10, u'id_str': u'710129789051346944', u'favorited': False, u'geo': None, u'in_reply_to_user_id_str': None, u'possibly_sensitive': False, u'lang': u'it', u'created_at': u'Wed Mar 16 15:45:09 +0000 2016', u'in_reply_to_status_id_str': None, u'place': None, u'extended_entities': {u'media': [{u'expanded_url': u'https://twitter.com/la_stampa/status/710129789051346944/photo/1', u'display_url': u'pic.twitter.com/yQuuNWkwLA', u'url': u'https://t.co/yQuuNWkwLA', u'media_url_https': u'https://pbs.twimg.com/media/CdrbX-nWAAAVasz.jpg', u'id_str': u'710121096255766528', u'sizes': {u'small': {u'h': 191, u'resize': u'fit', u'w': 340}, u'large': {u'h': 563, u'resize': u'fit', u'w': 1000}, u'medium': {u'h': 338, u'resize': u'fit', u'w': 600}, u'thumb': {u'h': 150, u'resize': u'crop', u'w': 150}}, u'indices': [97, 120], u'type': u'photo', u'id': 710121096255766528, u'media_url': u'http://pbs.twimg.com/media/CdrbX-nWAAAVasz.jpg'}]}}, u'geo': None, u'in_reply_to_user_id_str': None, u'possibly_sensitive': False, u'lang': u'it', u'created_at': u'Wed Mar 16 18:28:17 +0000 2016', u'in_reply_to_status_id_str': None, u'place': None, u'extended_entities': {u'media': [{u'source_user_id': 29416653, u'source_status_id_str': u'710129789051346944', u'expanded_url': u'https://twitter.com/la_stampa/status/710129789051346944/photo/1', u'display_url': u'pic.twitter.com/yQuuNWkwLA', u'url': u'https://t.co/yQuuNWkwLA', u'media_url_https': u'https://pbs.twimg.com/media/CdrbX-nWAAAVasz.jpg', u'source_user_id_str': u'29416653', u'source_status_id': 710129789051346944, u'id_str': u'710121096255766528', u'sizes': {u'small': {u'h': 191, u'resize': u'fit', u'w': 340}, u'large': {u'h': 563, u'resize': u'fit', u'w': 1000}, u'medium': {u'h': 338, u'resize': u'fit', u'w': 600}, u'thumb': {u'h': 150, u'resize': u'crop', u'w': 150}}, u'indices': [112, 135], u'type': u'photo', u'id': 710121096255766528, u'media_url': u'http://pbs.twimg.com/media/CdrbX-nWAAAVasz.jpg'}]}}, u'is_translation_enabled': False, u'utc_offset': None, u'statuses_count': 12, u'description': u'', u'friends_count': 27, u'location': u'', u'profile_link_color': u'1DA1F2', u'profile_image_url': u'http://pbs.twimg.com/profile_images/495297115867066368/QP3JsfVv_normal.jpeg', u'following': False, u'geo_enabled': False, u'blocking': False, u'profile_background_image_url': u'http://abs.twimg.com/images/themes/theme1/bg.png', u'screen_name': u'andrecoro79', u'lang': u'en', u'profile_background_tile': False, u'favourites_count': 2, u'name': u'andrecoro', u'notifications': False, u'url': None, u'created_at': u'Sun Feb 02 06:50:55 +0000 2014', u'contributors_enabled': False, u'time_zone': None, u'protected': False, u'default_profile': True, u'is_translator': False}, is_translator=False, geo_enabled=False, entities={u'description': {u'urls': []}}, followers_count=5, protected=False, id_str=u'2319493912', default_profile_image=False, listed_count=0, status=Status(contributors=None, truncated=False, text=u'RT @la_stampa: L\\u2019economia mondiale cresce, le emissioni di CO2 invece no | @RobertoGiov https://t.co/X0ecQLlQNJ https://t.co/yQuuNWkwLA', is_quote_status=False, in_reply_to_status_id=None, id=710170839174488064, favorite_count=0, _api=<tweepy.api.API object at 0x7f1a242adad0>, source=u'Twitter for Android', _json={u'contributors': None, u'truncated': False, u'text': u'RT @la_stampa: L\\u2019economia mondiale cresce, le emissioni di CO2 invece no | @RobertoGiov https://t.co/X0ecQLlQNJ https://t.co/yQuuNWkwLA', u'is_quote_status': False, u'in_reply_to_status_id': None, u'id': 710170839174488064, u'favorite_count': 0, u'source': u'<a href=\"http://twitter.com/download/android\" rel=\"nofollow\">Twitter for Android</a>', u'retweeted': False, u'coordinates': None, u'entities': {u'symbols': [], u'user_mentions': [{u'id': 716767568770498564, u'indices': [3, 13], u'id_str': u'716767568770498564', u'screen_name': u'la_stampa', u'name': u'La Stampa'}, {u'id': 398623527, u'indices': [75, 87], u'id_str': u'398623527', u'screen_name': u'RobertoGiov', u'name': u'Roberto Giovannini'}], u'hashtags': [], u'urls': [{u'url': u'https://t.co/X0ecQLlQNJ', u'indices': [88, 111], u'expanded_url': u'http://www.lastampa.it/2016/03/16/scienza/ambiente/focus/benvenuto-decoupling-leconomia-mondiale-cresce-le-emissioni-di-co-invece-no-JGbCjc28AohqMbybwKKRbN/pagina.html', u'display_url': u'lastampa.it/2016/03/16/sci\\u2026'}], u'media': [{u'source_user_id': 29416653, u'source_status_id_str': u'710129789051346944', u'expanded_url': u'https://twitter.com/la_stampa/status/710129789051346944/photo/1', u'display_url': u'pic.twitter.com/yQuuNWkwLA', u'url': u'https://t.co/yQuuNWkwLA', u'media_url_https': u'https://pbs.twimg.com/media/CdrbX-nWAAAVasz.jpg', u'source_user_id_str': u'29416653', u'source_status_id': 710129789051346944, u'id_str': u'710121096255766528', u'sizes': {u'small': {u'h': 191, u'resize': u'fit', u'w': 340}, u'large': {u'h': 563, u'resize': u'fit', u'w': 1000}, u'medium': {u'h': 338, u'resize': u'fit', u'w': 600}, u'thumb': {u'h': 150, u'resize': u'crop', u'w': 150}}, u'indices': [112, 135], u'type': u'photo', u'id': 710121096255766528, u'media_url': u'http://pbs.twimg.com/media/CdrbX-nWAAAVasz.jpg'}]}, u'in_reply_to_screen_name': None, u'in_reply_to_user_id': None, u'retweet_count': 10, u'id_str': u'710170839174488064', u'favorited': False, u'retweeted_status': {u'contributors': None, u'truncated': False, u'text': u'L\\u2019economia mondiale cresce, le emissioni di CO2 invece no | @RobertoGiov https://t.co/X0ecQLlQNJ https://t.co/yQuuNWkwLA', u'is_quote_status': False, u'in_reply_to_status_id': None, u'id': 710129789051346944, u'favorite_count': 6, u'source': u'<a href=\"https://about.twitter.com/products/tweetdeck\" rel=\"nofollow\">TweetDeck</a>', u'retweeted': False, u'coordinates': None, u'entities': {u'symbols': [], u'user_mentions': [{u'id': 398623527, u'indices': [60, 72], u'id_str': u'398623527', u'screen_name': u'RobertoGiov', u'name': u'Roberto Giovannini'}], u'hashtags': [], u'urls': [{u'url': u'https://t.co/X0ecQLlQNJ', u'indices': [73, 96], u'expanded_url': u'http://www.lastampa.it/2016/03/16/scienza/ambiente/focus/benvenuto-decoupling-leconomia-mondiale-cresce-le-emissioni-di-co-invece-no-JGbCjc28AohqMbybwKKRbN/pagina.html', u'display_url': u'lastampa.it/2016/03/16/sci\\u2026'}], u'media': [{u'expanded_url': u'https://twitter.com/la_stampa/status/710129789051346944/photo/1', u'display_url': u'pic.twitter.com/yQuuNWkwLA', u'url': u'https://t.co/yQuuNWkwLA', u'media_url_https': u'https://pbs.twimg.com/media/CdrbX-nWAAAVasz.jpg', u'id_str': u'710121096255766528', u'sizes': {u'small': {u'h': 191, u'resize': u'fit', u'w': 340}, u'large': {u'h': 563, u'resize': u'fit', u'w': 1000}, u'medium': {u'h': 338, u'resize': u'fit', u'w': 600}, u'thumb': {u'h': 150, u'resize': u'crop', u'w': 150}}, u'indices': [97, 120], u'type': u'photo', u'id': 710121096255766528, u'media_url': u'http://pbs.twimg.com/media/CdrbX-nWAAAVasz.jpg'}]}, u'in_reply_to_screen_name': None, u'in_reply_to_user_id': None, u'retweet_count': 10, u'id_str': u'710129789051346944', u'favorited': False, u'geo': None, u'in_reply_to_user_id_str': None, u'possibly_sensitive': False, u'lang': u'it', u'created_at': u'Wed Mar 16 15:45:09 +0000 2016', u'in_reply_to_status_id_str': None, u'place': None, u'extended_entities': {u'media': [{u'expanded_url': u'https://twitter.com/la_stampa/status/710129789051346944/photo/1', u'display_url': u'pic.twitter.com/yQuuNWkwLA', u'url': u'https://t.co/yQuuNWkwLA', u'media_url_https': u'https://pbs.twimg.com/media/CdrbX-nWAAAVasz.jpg', u'id_str': u'710121096255766528', u'sizes': {u'small': {u'h': 191, u'resize': u'fit', u'w': 340}, u'large': {u'h': 563, u'resize': u'fit', u'w': 1000}, u'medium': {u'h': 338, u'resize': u'fit', u'w': 600}, u'thumb': {u'h': 150, u'resize': u'crop', u'w': 150}}, u'indices': [97, 120], u'type': u'photo', u'id': 710121096255766528, u'media_url': u'http://pbs.twimg.com/media/CdrbX-nWAAAVasz.jpg'}]}}, u'geo': None, u'in_reply_to_user_id_str': None, u'possibly_sensitive': False, u'lang': u'it', u'created_at': u'Wed Mar 16 18:28:17 +0000 2016', u'in_reply_to_status_id_str': None, u'place': None, u'extended_entities': {u'media': [{u'source_user_id': 29416653, u'source_status_id_str': u'710129789051346944', u'expanded_url': u'https://twitter.com/la_stampa/status/710129789051346944/photo/1', u'display_url': u'pic.twitter.com/yQuuNWkwLA', u'url': u'https://t.co/yQuuNWkwLA', u'media_url_https': u'https://pbs.twimg.com/media/CdrbX-nWAAAVasz.jpg', u'source_user_id_str': u'29416653', u'source_status_id': 710129789051346944, u'id_str': u'710121096255766528', u'sizes': {u'small': {u'h': 191, u'resize': u'fit', u'w': 340}, u'large': {u'h': 563, u'resize': u'fit', u'w': 1000}, u'medium': {u'h': 338, u'resize': u'fit', u'w': 600}, u'thumb': {u'h': 150, u'resize': u'crop', u'w': 150}}, u'indices': [112, 135], u'type': u'photo', u'id': 710121096255766528, u'media_url': u'http://pbs.twimg.com/media/CdrbX-nWAAAVasz.jpg'}]}}, coordinates=None, entities={u'symbols': [], u'user_mentions': [{u'id': 716767568770498564, u'indices': [3, 13], u'id_str': u'716767568770498564', u'screen_name': u'la_stampa', u'name': u'La Stampa'}, {u'id': 398623527, u'indices': [75, 87], u'id_str': u'398623527', u'screen_name': u'RobertoGiov', u'name': u'Roberto Giovannini'}], u'hashtags': [], u'urls': [{u'url': u'https://t.co/X0ecQLlQNJ', u'indices': [88, 111], u'expanded_url': u'http://www.lastampa.it/2016/03/16/scienza/ambiente/focus/benvenuto-decoupling-leconomia-mondiale-cresce-le-emissioni-di-co-invece-no-JGbCjc28AohqMbybwKKRbN/pagina.html', u'display_url': u'lastampa.it/2016/03/16/sci\\u2026'}], u'media': [{u'source_user_id': 29416653, u'source_status_id_str': u'710129789051346944', u'expanded_url': u'https://twitter.com/la_stampa/status/710129789051346944/photo/1', u'display_url': u'pic.twitter.com/yQuuNWkwLA', u'url': u'https://t.co/yQuuNWkwLA', u'media_url_https': u'https://pbs.twimg.com/media/CdrbX-nWAAAVasz.jpg', u'source_user_id_str': u'29416653', u'source_status_id': 710129789051346944, u'id_str': u'710121096255766528', u'sizes': {u'small': {u'h': 191, u'resize': u'fit', u'w': 340}, u'large': {u'h': 563, u'resize': u'fit', u'w': 1000}, u'medium': {u'h': 338, u'resize': u'fit', u'w': 600}, u'thumb': {u'h': 150, u'resize': u'crop', u'w': 150}}, u'indices': [112, 135], u'type': u'photo', u'id': 710121096255766528, u'media_url': u'http://pbs.twimg.com/media/CdrbX-nWAAAVasz.jpg'}]}, in_reply_to_screen_name=None, id_str=u'710170839174488064', retweet_count=10, in_reply_to_user_id=None, favorited=False, retweeted_status=Status(contributors=None, truncated=False, text=u'L\\u2019economia mondiale cresce, le emissioni di CO2 invece no | @RobertoGiov https://t.co/X0ecQLlQNJ https://t.co/yQuuNWkwLA', is_quote_status=False, in_reply_to_status_id=None, id=710129789051346944, favorite_count=6, _api=<tweepy.api.API object at 0x7f1a242adad0>, source=u'TweetDeck', _json={u'contributors': None, u'truncated': False, u'text': u'L\\u2019economia mondiale cresce, le emissioni di CO2 invece no | @RobertoGiov https://t.co/X0ecQLlQNJ https://t.co/yQuuNWkwLA', u'is_quote_status': False, u'in_reply_to_status_id': None, u'id': 710129789051346944, u'favorite_count': 6, u'source': u'<a href=\"https://about.twitter.com/products/tweetdeck\" rel=\"nofollow\">TweetDeck</a>', u'retweeted': False, u'coordinates': None, u'entities': {u'symbols': [], u'user_mentions': [{u'id': 398623527, u'indices': [60, 72], u'id_str': u'398623527', u'screen_name': u'RobertoGiov', u'name': u'Roberto Giovannini'}], u'hashtags': [], u'urls': [{u'url': u'https://t.co/X0ecQLlQNJ', u'indices': [73, 96], u'expanded_url': u'http://www.lastampa.it/2016/03/16/scienza/ambiente/focus/benvenuto-decoupling-leconomia-mondiale-cresce-le-emissioni-di-co-invece-no-JGbCjc28AohqMbybwKKRbN/pagina.html', u'display_url': u'lastampa.it/2016/03/16/sci\\u2026'}], u'media': [{u'expanded_url': u'https://twitter.com/la_stampa/status/710129789051346944/photo/1', u'display_url': u'pic.twitter.com/yQuuNWkwLA', u'url': u'https://t.co/yQuuNWkwLA', u'media_url_https': u'https://pbs.twimg.com/media/CdrbX-nWAAAVasz.jpg', u'id_str': u'710121096255766528', u'sizes': {u'small': {u'h': 191, u'resize': u'fit', u'w': 340}, u'large': {u'h': 563, u'resize': u'fit', u'w': 1000}, u'medium': {u'h': 338, u'resize': u'fit', u'w': 600}, u'thumb': {u'h': 150, u'resize': u'crop', u'w': 150}}, u'indices': [97, 120], u'type': u'photo', u'id': 710121096255766528, u'media_url': u'http://pbs.twimg.com/media/CdrbX-nWAAAVasz.jpg'}]}, u'in_reply_to_screen_name': None, u'in_reply_to_user_id': None, u'retweet_count': 10, u'id_str': u'710129789051346944', u'favorited': False, u'geo': None, u'in_reply_to_user_id_str': None, u'possibly_sensitive': False, u'lang': u'it', u'created_at': u'Wed Mar 16 15:45:09 +0000 2016', u'in_reply_to_status_id_str': None, u'place': None, u'extended_entities': {u'media': [{u'expanded_url': u'https://twitter.com/la_stampa/status/710129789051346944/photo/1', u'display_url': u'pic.twitter.com/yQuuNWkwLA', u'url': u'https://t.co/yQuuNWkwLA', u'media_url_https': u'https://pbs.twimg.com/media/CdrbX-nWAAAVasz.jpg', u'id_str': u'710121096255766528', u'sizes': {u'small': {u'h': 191, u'resize': u'fit', u'w': 340}, u'large': {u'h': 563, u'resize': u'fit', u'w': 1000}, u'medium': {u'h': 338, u'resize': u'fit', u'w': 600}, u'thumb': {u'h': 150, u'resize': u'crop', u'w': 150}}, u'indices': [97, 120], u'type': u'photo', u'id': 710121096255766528, u'media_url': u'http://pbs.twimg.com/media/CdrbX-nWAAAVasz.jpg'}]}}, coordinates=None, entities={u'symbols': [], u'user_mentions': [{u'id': 398623527, u'indices': [60, 72], u'id_str': u'398623527', u'screen_name': u'RobertoGiov', u'name': u'Roberto Giovannini'}], u'hashtags': [], u'urls': [{u'url': u'https://t.co/X0ecQLlQNJ', u'indices': [73, 96], u'expanded_url': u'http://www.lastampa.it/2016/03/16/scienza/ambiente/focus/benvenuto-decoupling-leconomia-mondiale-cresce-le-emissioni-di-co-invece-no-JGbCjc28AohqMbybwKKRbN/pagina.html', u'display_url': u'lastampa.it/2016/03/16/sci\\u2026'}], u'media': [{u'expanded_url': u'https://twitter.com/la_stampa/status/710129789051346944/photo/1', u'display_url': u'pic.twitter.com/yQuuNWkwLA', u'url': u'https://t.co/yQuuNWkwLA', u'media_url_https': u'https://pbs.twimg.com/media/CdrbX-nWAAAVasz.jpg', u'id_str': u'710121096255766528', u'sizes': {u'small': {u'h': 191, u'resize': u'fit', u'w': 340}, u'large': {u'h': 563, u'resize': u'fit', u'w': 1000}, u'medium': {u'h': 338, u'resize': u'fit', u'w': 600}, u'thumb': {u'h': 150, u'resize': u'crop', u'w': 150}}, u'indices': [97, 120], u'type': u'photo', u'id': 710121096255766528, u'media_url': u'http://pbs.twimg.com/media/CdrbX-nWAAAVasz.jpg'}]}, in_reply_to_screen_name=None, id_str=u'710129789051346944', retweet_count=10, in_reply_to_user_id=None, favorited=False, source_url=u'https://about.twitter.com/products/tweetdeck', geo=None, in_reply_to_user_id_str=None, possibly_sensitive=False, lang=u'it', created_at=datetime.datetime(2016, 3, 16, 15, 45, 9), in_reply_to_status_id_str=None, place=None, extended_entities={u'media': [{u'expanded_url': u'https://twitter.com/la_stampa/status/710129789051346944/photo/1', u'display_url': u'pic.twitter.com/yQuuNWkwLA', u'url': u'https://t.co/yQuuNWkwLA', u'media_url_https': u'https://pbs.twimg.com/media/CdrbX-nWAAAVasz.jpg', u'id_str': u'710121096255766528', u'sizes': {u'small': {u'h': 191, u'resize': u'fit', u'w': 340}, u'large': {u'h': 563, u'resize': u'fit', u'w': 1000}, u'medium': {u'h': 338, u'resize': u'fit', u'w': 600}, u'thumb': {u'h': 150, u'resize': u'crop', u'w': 150}}, u'indices': [97, 120], u'type': u'photo', u'id': 710121096255766528, u'media_url': u'http://pbs.twimg.com/media/CdrbX-nWAAAVasz.jpg'}]}, retweeted=False), source_url=u'http://twitter.com/download/android', geo=None, in_reply_to_user_id_str=None, possibly_sensitive=False, lang=u'it', created_at=datetime.datetime(2016, 3, 16, 18, 28, 17), in_reply_to_status_id_str=None, place=None, extended_entities={u'media': [{u'source_user_id': 29416653, u'source_status_id_str': u'710129789051346944', u'expanded_url': u'https://twitter.com/la_stampa/status/710129789051346944/photo/1', u'display_url': u'pic.twitter.com/yQuuNWkwLA', u'url': u'https://t.co/yQuuNWkwLA', u'media_url_https': u'https://pbs.twimg.com/media/CdrbX-nWAAAVasz.jpg', u'source_user_id_str': u'29416653', u'source_status_id': 710129789051346944, u'id_str': u'710121096255766528', u'sizes': {u'small': {u'h': 191, u'resize': u'fit', u'w': 340}, u'large': {u'h': 563, u'resize': u'fit', u'w': 1000}, u'medium': {u'h': 338, u'resize': u'fit', u'w': 600}, u'thumb': {u'h': 150, u'resize': u'crop', u'w': 150}}, u'indices': [112, 135], u'type': u'photo', u'id': 710121096255766528, u'media_url': u'http://pbs.twimg.com/media/CdrbX-nWAAAVasz.jpg'}]}, retweeted=False), lang=u'en', utc_offset=None, statuses_count=12, profile_background_color=u'C0DEED', friends_count=27, profile_link_color=u'1DA1F2', profile_image_url=u'http://pbs.twimg.com/profile_images/495297115867066368/QP3JsfVv_normal.jpeg', notifications=False, default_profile=True, profile_background_image_url_https=u'https://abs.twimg.com/images/themes/theme1/bg.png', blocking=False, profile_background_image_url=u'http://abs.twimg.com/images/themes/theme1/bg.png', name=u'andrecoro', is_translation_enabled=False, profile_background_tile=False, favourites_count=2, screen_name=u'andrecoro79', url=None, created_at=datetime.datetime(2014, 2, 2, 6, 50, 55), contributors_enabled=False, location=u'', profile_sidebar_border_color=u'C0DEED', translator_type=u'none', following=False), User(follow_request_sent=False, has_extended_profile=False, profile_use_background_image=True, profile_sidebar_fill_color=u'DDEEF6', live_following=False, time_zone=u'Rome', id=45601183, description=u'', _api=<tweepy.api.API object at 0x7f1a242adad0>, verified=False, blocked_by=False, profile_text_color=u'333333', muting=False, profile_image_url_https=u'https://pbs.twimg.com/profile_images/3624052208/c494c0ef9b45d623bf0b1fbf4490f038_normal.jpeg', _json={u'follow_request_sent': False, u'has_extended_profile': False, u'profile_use_background_image': True, u'live_following': False, u'default_profile_image': False, u'id': 45601183, u'profile_background_image_url_https': u'https://abs.twimg.com/images/themes/theme1/bg.png', u'translator_type': u'none', u'verified': False, u'blocked_by': False, u'profile_text_color': u'333333', u'muting': False, u'profile_image_url_https': u'https://pbs.twimg.com/profile_images/3624052208/c494c0ef9b45d623bf0b1fbf4490f038_normal.jpeg', u'profile_sidebar_fill_color': u'DDEEF6', u'entities': {u'description': {u'urls': []}}, u'followers_count': 31, u'profile_sidebar_border_color': u'C0DEED', u'id_str': u'45601183', u'profile_background_color': u'C0DEED', u'listed_count': 0, u'status': {u'contributors': None, u'truncated': False, u'text': u'@lero_chi haha', u'is_quote_status': False, u'in_reply_to_status_id': None, u'id': 771469856940195840, u'favorite_count': 0, u'source': u'<a href=\"http://twitter.com/download/android\" rel=\"nofollow\">Twitter for Android</a>', u'retweeted': False, u'coordinates': None, u'entities': {u'symbols': [], u'user_mentions': [{u'id': 771431289517969408, u'indices': [0, 9], u'id_str': u'771431289517969408', u'screen_name': u'lero_chi', u'name': u'Chi'}], u'hashtags': [], u'urls': []}, u'in_reply_to_screen_name': u'lero_chi', u'in_reply_to_user_id': 771431289517969408, u'retweet_count': 0, u'id_str': u'771469856940195840', u'favorited': False, u'geo': None, u'in_reply_to_user_id_str': u'771431289517969408', u'lang': u'tl', u'created_at': u'Thu Sep 01 22:08:41 +0000 2016', u'in_reply_to_status_id_str': None, u'place': None}, u'is_translation_enabled': False, u'utc_offset': 3600, u'statuses_count': 15, u'description': u'', u'friends_count': 207, u'location': u'', u'profile_link_color': u'1DA1F2', u'profile_image_url': u'http://pbs.twimg.com/profile_images/3624052208/c494c0ef9b45d623bf0b1fbf4490f038_normal.jpeg', u'following': False, u'geo_enabled': True, u'profile_banner_url': u'https://pbs.twimg.com/profile_banners/45601183/1357378503', u'blocking': False, u'profile_background_image_url': u'http://abs.twimg.com/images/themes/theme1/bg.png', u'screen_name': u'riccardogallini', u'lang': u'it', u'profile_background_tile': False, u'favourites_count': 425, u'name': u'Riccardo Gallini', u'notifications': False, u'url': None, u'created_at': u'Mon Jun 08 16:17:29 +0000 2009', u'contributors_enabled': False, u'time_zone': u'Rome', u'protected': False, u'default_profile': True, u'is_translator': False}, is_translator=False, geo_enabled=True, entities={u'description': {u'urls': []}}, followers_count=31, protected=False, id_str=u'45601183', default_profile_image=False, listed_count=0, status=Status(contributors=None, truncated=False, text=u'@lero_chi haha', is_quote_status=False, in_reply_to_status_id=None, id=771469856940195840, favorite_count=0, _api=<tweepy.api.API object at 0x7f1a242adad0>, source=u'Twitter for Android', _json={u'contributors': None, u'truncated': False, u'text': u'@lero_chi haha', u'is_quote_status': False, u'in_reply_to_status_id': None, u'id': 771469856940195840, u'favorite_count': 0, u'source': u'<a href=\"http://twitter.com/download/android\" rel=\"nofollow\">Twitter for Android</a>', u'retweeted': False, u'coordinates': None, u'entities': {u'symbols': [], u'user_mentions': [{u'id': 771431289517969408, u'indices': [0, 9], u'id_str': u'771431289517969408', u'screen_name': u'lero_chi', u'name': u'Chi'}], u'hashtags': [], u'urls': []}, u'in_reply_to_screen_name': u'lero_chi', u'in_reply_to_user_id': 771431289517969408, u'retweet_count': 0, u'id_str': u'771469856940195840', u'favorited': False, u'geo': None, u'in_reply_to_user_id_str': u'771431289517969408', u'lang': u'tl', u'created_at': u'Thu Sep 01 22:08:41 +0000 2016', u'in_reply_to_status_id_str': None, u'place': None}, coordinates=None, entities={u'symbols': [], u'user_mentions': [{u'id': 771431289517969408, u'indices': [0, 9], u'id_str': u'771431289517969408', u'screen_name': u'lero_chi', u'name': u'Chi'}], u'hashtags': [], u'urls': []}, in_reply_to_screen_name=u'lero_chi', id_str=u'771469856940195840', retweet_count=0, in_reply_to_user_id=771431289517969408, favorited=False, source_url=u'http://twitter.com/download/android', geo=None, in_reply_to_user_id_str=u'771431289517969408', lang=u'tl', created_at=datetime.datetime(2016, 9, 1, 22, 8, 41), in_reply_to_status_id_str=None, place=None, retweeted=False), lang=u'it', utc_offset=3600, statuses_count=15, profile_background_color=u'C0DEED', friends_count=207, profile_link_color=u'1DA1F2', profile_image_url=u'http://pbs.twimg.com/profile_images/3624052208/c494c0ef9b45d623bf0b1fbf4490f038_normal.jpeg', notifications=False, default_profile=True, profile_background_image_url_https=u'https://abs.twimg.com/images/themes/theme1/bg.png', profile_banner_url=u'https://pbs.twimg.com/profile_banners/45601183/1357378503', blocking=False, profile_background_image_url=u'http://abs.twimg.com/images/themes/theme1/bg.png', name=u'Riccardo Gallini', is_translation_enabled=False, profile_background_tile=False, favourites_count=425, screen_name=u'riccardogallini', url=None, created_at=datetime.datetime(2009, 6, 8, 16, 17, 29), contributors_enabled=False, location=u'', profile_sidebar_border_color=u'C0DEED', translator_type=u'none', following=False), User(follow_request_sent=False, has_extended_profile=False, profile_use_background_image=False, profile_sidebar_fill_color=u'000000', live_following=False, time_zone=None, id=2785634797, description=u'#Impresa di #costruzioni generali, #ristrutturazioni e servizi per l\\u2019#edilizia #residenziale, #commerciale e #industriale', _api=<tweepy.api.API object at 0x7f1a242adad0>, verified=False, blocked_by=False, profile_text_color=u'000000', muting=False, profile_image_url_https=u'https://pbs.twimg.com/profile_images/506751562497019904/0SxeqG6D_normal.jpeg', _json={u'follow_request_sent': False, u'has_extended_profile': False, u'profile_use_background_image': False, u'live_following': False, u'default_profile_image': False, u'id': 2785634797, u'profile_background_image_url_https': u'https://abs.twimg.com/images/themes/theme1/bg.png', u'translator_type': u'none', u'verified': False, u'blocked_by': False, u'profile_text_color': u'000000', u'muting': False, u'profile_image_url_https': u'https://pbs.twimg.com/profile_images/506751562497019904/0SxeqG6D_normal.jpeg', u'profile_sidebar_fill_color': u'000000', u'entities': {u'url': {u'urls': [{u'url': u'http://t.co/UzftEPnz81', u'indices': [0, 22], u'expanded_url': u'http://www.ferrericostruzioni.com', u'display_url': u'ferrericostruzioni.com'}]}, u'description': {u'urls': []}}, u'followers_count': 261, u'profile_sidebar_border_color': u'000000', u'id_str': u'2785634797', u'profile_background_color': u'000000', u'listed_count': 5, u'status': {u'contributors': None, u'truncated': False, u'text': u'Un vero e proprio ecobonus appunto, che strizza un occhio al bisogno di vivere in citt\\xe0 pi\\xf9 belle e soprattutto... https://t.co/eVXsCKg8cZ', u'is_quote_status': False, u'in_reply_to_status_id': None, u'id': 799527624456409088, u'favorite_count': 0, u'source': u'<a href=\"http://www.facebook.com/twitter\" rel=\"nofollow\">Facebook</a>', u'retweeted': False, u'coordinates': None, u'entities': {u'symbols': [], u'user_mentions': [], u'hashtags': [], u'urls': [{u'url': u'https://t.co/eVXsCKg8cZ', u'indices': [115, 138], u'expanded_url': u'http://fb.me/1GsZkMIoM', u'display_url': u'fb.me/1GsZkMIoM'}]}, u'in_reply_to_screen_name': None, u'in_reply_to_user_id': None, u'retweet_count': 0, u'id_str': u'799527624456409088', u'favorited': False, u'geo': None, u'in_reply_to_user_id_str': None, u'possibly_sensitive': False, u'lang': u'it', u'created_at': u'Fri Nov 18 08:20:14 +0000 2016', u'in_reply_to_status_id_str': None, u'place': None}, u'is_translation_enabled': False, u'utc_offset': None, u'statuses_count': 252, u'description': u'#Impresa di #costruzioni generali, #ristrutturazioni e servizi per l\\u2019#edilizia #residenziale, #commerciale e #industriale', u'friends_count': 791, u'location': u'Torino', u'profile_link_color': u'DD6244', u'profile_image_url': u'http://pbs.twimg.com/profile_images/506751562497019904/0SxeqG6D_normal.jpeg', u'following': False, u'geo_enabled': False, u'profile_banner_url': u'https://pbs.twimg.com/profile_banners/2785634797/1420714056', u'blocking': False, u'profile_background_image_url': u'http://abs.twimg.com/images/themes/theme1/bg.png', u'screen_name': u'FerreriCostruz', u'lang': u'it', u'profile_background_tile': False, u'favourites_count': 29, u'name': u'Ferreri Costruzioni', u'notifications': False, u'url': u'http://t.co/UzftEPnz81', u'created_at': u'Tue Sep 02 09:28:22 +0000 2014', u'contributors_enabled': False, u'time_zone': None, u'protected': False, u'default_profile': False, u'is_translator': False}, is_translator=False, geo_enabled=False, entities={u'url': {u'urls': [{u'url': u'http://t.co/UzftEPnz81', u'indices': [0, 22], u'expanded_url': u'http://www.ferrericostruzioni.com', u'display_url': u'ferrericostruzioni.com'}]}, u'description': {u'urls': []}}, followers_count=261, protected=False, id_str=u'2785634797', default_profile_image=False, listed_count=5, status=Status(contributors=None, truncated=False, text=u'Un vero e proprio ecobonus appunto, che strizza un occhio al bisogno di vivere in citt\\xe0 pi\\xf9 belle e soprattutto... https://t.co/eVXsCKg8cZ', is_quote_status=False, in_reply_to_status_id=None, id=799527624456409088, favorite_count=0, _api=<tweepy.api.API object at 0x7f1a242adad0>, source=u'Facebook', _json={u'contributors': None, u'truncated': False, u'text': u'Un vero e proprio ecobonus appunto, che strizza un occhio al bisogno di vivere in citt\\xe0 pi\\xf9 belle e soprattutto... https://t.co/eVXsCKg8cZ', u'is_quote_status': False, u'in_reply_to_status_id': None, u'id': 799527624456409088, u'favorite_count': 0, u'source': u'<a href=\"http://www.facebook.com/twitter\" rel=\"nofollow\">Facebook</a>', u'retweeted': False, u'coordinates': None, u'entities': {u'symbols': [], u'user_mentions': [], u'hashtags': [], u'urls': [{u'url': u'https://t.co/eVXsCKg8cZ', u'indices': [115, 138], u'expanded_url': u'http://fb.me/1GsZkMIoM', u'display_url': u'fb.me/1GsZkMIoM'}]}, u'in_reply_to_screen_name': None, u'in_reply_to_user_id': None, u'retweet_count': 0, u'id_str': u'799527624456409088', u'favorited': False, u'geo': None, u'in_reply_to_user_id_str': None, u'possibly_sensitive': False, u'lang': u'it', u'created_at': u'Fri Nov 18 08:20:14 +0000 2016', u'in_reply_to_status_id_str': None, u'place': None}, coordinates=None, entities={u'symbols': [], u'user_mentions': [], u'hashtags': [], u'urls': [{u'url': u'https://t.co/eVXsCKg8cZ', u'indices': [115, 138], u'expanded_url': u'http://fb.me/1GsZkMIoM', u'display_url': u'fb.me/1GsZkMIoM'}]}, in_reply_to_screen_name=None, id_str=u'799527624456409088', retweet_count=0, in_reply_to_user_id=None, favorited=False, source_url=u'http://www.facebook.com/twitter', geo=None, in_reply_to_user_id_str=None, possibly_sensitive=False, lang=u'it', created_at=datetime.datetime(2016, 11, 18, 8, 20, 14), in_reply_to_status_id_str=None, place=None, retweeted=False), lang=u'it', utc_offset=None, statuses_count=252, profile_background_color=u'000000', friends_count=791, profile_link_color=u'DD6244', profile_image_url=u'http://pbs.twimg.com/profile_images/506751562497019904/0SxeqG6D_normal.jpeg', notifications=False, default_profile=False, profile_background_image_url_https=u'https://abs.twimg.com/images/themes/theme1/bg.png', profile_banner_url=u'https://pbs.twimg.com/profile_banners/2785634797/1420714056', blocking=False, profile_background_image_url=u'http://abs.twimg.com/images/themes/theme1/bg.png', name=u'Ferreri Costruzioni', is_translation_enabled=False, profile_background_tile=False, favourites_count=29, screen_name=u'FerreriCostruz', url=u'http://t.co/UzftEPnz81', created_at=datetime.datetime(2014, 9, 2, 9, 28, 22), contributors_enabled=False, location=u'Torino', profile_sidebar_border_color=u'000000', translator_type=u'none', following=False), User(follow_request_sent=False, has_extended_profile=False, profile_use_background_image=True, profile_sidebar_fill_color=u'DDEEF6', live_following=False, time_zone=u'Hawaii', id=1024712191, description=u'O objetivo deste site \\xe9 publicar id\\xe9ias projetos do mundo todo, p/ q. investidores se interessem. H\\xe1 tamb\\xe9m canal de venda dos projetos.', _api=<tweepy.api.API object at 0x7f1a242adad0>, verified=False, blocked_by=False, profile_text_color=u'333333', muting=False, profile_image_url_https=u'https://pbs.twimg.com/profile_images/2999679335/47f4cf41889545fd513a30b7ce73b9a6_normal.png', _json={u'follow_request_sent': False, u'has_extended_profile': False, u'profile_use_background_image': True, u'live_following': False, u'default_profile_image': False, u'id': 1024712191, u'profile_background_image_url_https': u'https://abs.twimg.com/images/themes/theme1/bg.png', u'translator_type': u'none', u'verified': False, u'blocked_by': False, u'profile_text_color': u'333333', u'muting': False, u'profile_image_url_https': u'https://pbs.twimg.com/profile_images/2999679335/47f4cf41889545fd513a30b7ce73b9a6_normal.png', u'profile_sidebar_fill_color': u'DDEEF6', u'entities': {u'url': {u'urls': [{u'url': u'http://t.co/lymfefDD', u'indices': [0, 20], u'expanded_url': u'http://www.minhaideiameuprojeto.com.br', u'display_url': u'minhaideiameuprojeto.com.br'}]}, u'description': {u'urls': []}}, u'followers_count': 358, u'profile_sidebar_border_color': u'C0DEED', u'id_str': u'1024712191', u'profile_background_color': u'C0DEED', u'listed_count': 4, u'status': {u'contributors': None, u'truncated': False, u'text': u'Tenho 1 novos seguidores, a partir de \\U0001f1ee\\U0001f1f9 It\\xe1lia na semana passada https://t.co/sef8dhhvFr https://t.co/GgnDxY366E', u'is_quote_status': False, u'in_reply_to_status_id': None, u'id': 798657708937252864, u'favorite_count': 0, u'source': u'<a href=\"http://tweepsmap.com\" rel=\"nofollow\">Tweepsmap</a>', u'retweeted': False, u'coordinates': None, u'entities': {u'symbols': [], u'user_mentions': [], u'hashtags': [], u'urls': [{u'url': u'https://t.co/sef8dhhvFr', u'indices': [66, 89], u'expanded_url': u'http://tweepsmap.com/!minhaideiameupr', u'display_url': u'tweepsmap.com/!minhaideiameu\\u2026'}], u'media': [{u'expanded_url': u'https://twitter.com/minhaideiameupr/status/798657708937252864/photo/1', u'display_url': u'pic.twitter.com/GgnDxY366E', u'url': u'https://t.co/GgnDxY366E', u'media_url_https': u'https://pbs.twimg.com/media/CxVm8-WW8AAu1aC.jpg', u'id_str': u'798657706643091456', u'sizes': {u'large': {u'h': 530, u'resize': u'fit', u'w': 1012}, u'small': {u'h': 356, u'resize': u'fit', u'w': 680}, u'medium': {u'h': 530, u'resize': u'fit', u'w': 1012}, u'thumb': {u'h': 150, u'resize': u'crop', u'w': 150}}, u'indices': [90, 113], u'type': u'photo', u'id': 798657706643091456, u'media_url': u'http://pbs.twimg.com/media/CxVm8-WW8AAu1aC.jpg'}]}, u'in_reply_to_screen_name': None, u'in_reply_to_user_id': None, u'retweet_count': 0, u'id_str': u'798657708937252864', u'favorited': False, u'geo': None, u'in_reply_to_user_id_str': None, u'possibly_sensitive': False, u'lang': u'pt', u'created_at': u'Tue Nov 15 22:43:30 +0000 2016', u'in_reply_to_status_id_str': None, u'place': None, u'extended_entities': {u'media': [{u'expanded_url': u'https://twitter.com/minhaideiameupr/status/798657708937252864/photo/1', u'display_url': u'pic.twitter.com/GgnDxY366E', u'url': u'https://t.co/GgnDxY366E', u'media_url_https': u'https://pbs.twimg.com/media/CxVm8-WW8AAu1aC.jpg', u'id_str': u'798657706643091456', u'sizes': {u'large': {u'h': 530, u'resize': u'fit', u'w': 1012}, u'small': {u'h': 356, u'resize': u'fit', u'w': 680}, u'medium': {u'h': 530, u'resize': u'fit', u'w': 1012}, u'thumb': {u'h': 150, u'resize': u'crop', u'w': 150}}, u'indices': [90, 113], u'type': u'photo', u'id': 798657706643091456, u'media_url': u'http://pbs.twimg.com/media/CxVm8-WW8AAu1aC.jpg'}]}}, u'is_translation_enabled': False, u'utc_offset': -36000, u'statuses_count': 463, u'description': u'O objetivo deste site \\xe9 publicar id\\xe9ias projetos do mundo todo, p/ q. investidores se interessem. H\\xe1 tamb\\xe9m canal de venda dos projetos.', u'friends_count': 1971, u'location': u'', u'profile_link_color': u'1DA1F2', u'profile_image_url': u'http://pbs.twimg.com/profile_images/2999679335/47f4cf41889545fd513a30b7ce73b9a6_normal.png', u'following': False, u'geo_enabled': False, u'profile_banner_url': u'https://pbs.twimg.com/profile_banners/1024712191/1422079511', u'blocking': False, u'profile_background_image_url': u'http://abs.twimg.com/images/themes/theme1/bg.png', u'screen_name': u'minhaideiameupr', u'lang': u'pt', u'profile_background_tile': False, u'favourites_count': 17, u'name': u'minhaideiameuprojeto', u'notifications': False, u'url': u'http://t.co/lymfefDD', u'created_at': u'Thu Dec 20 17:48:19 +0000 2012', u'contributors_enabled': False, u'time_zone': u'Hawaii', u'protected': False, u'default_profile': True, u'is_translator': False}, is_translator=False, geo_enabled=False, entities={u'url': {u'urls': [{u'url': u'http://t.co/lymfefDD', u'indices': [0, 20], u'expanded_url': u'http://www.minhaideiameuprojeto.com.br', u'display_url': u'minhaideiameuprojeto.com.br'}]}, u'description': {u'urls': []}}, followers_count=358, protected=False, id_str=u'1024712191', default_profile_image=False, listed_count=4, status=Status(contributors=None, truncated=False, text=u'Tenho 1 novos seguidores, a partir de \\U0001f1ee\\U0001f1f9 It\\xe1lia na semana passada https://t.co/sef8dhhvFr https://t.co/GgnDxY366E', is_quote_status=False, in_reply_to_status_id=None, id=798657708937252864, favorite_count=0, _api=<tweepy.api.API object at 0x7f1a242adad0>, source=u'Tweepsmap', _json={u'contributors': None, u'truncated': False, u'text': u'Tenho 1 novos seguidores, a partir de \\U0001f1ee\\U0001f1f9 It\\xe1lia na semana passada https://t.co/sef8dhhvFr https://t.co/GgnDxY366E', u'is_quote_status': False, u'in_reply_to_status_id': None, u'id': 798657708937252864, u'favorite_count': 0, u'source': u'<a href=\"http://tweepsmap.com\" rel=\"nofollow\">Tweepsmap</a>', u'retweeted': False, u'coordinates': None, u'entities': {u'symbols': [], u'user_mentions': [], u'hashtags': [], u'urls': [{u'url': u'https://t.co/sef8dhhvFr', u'indices': [66, 89], u'expanded_url': u'http://tweepsmap.com/!minhaideiameupr', u'display_url': u'tweepsmap.com/!minhaideiameu\\u2026'}], u'media': [{u'expanded_url': u'https://twitter.com/minhaideiameupr/status/798657708937252864/photo/1', u'display_url': u'pic.twitter.com/GgnDxY366E', u'url': u'https://t.co/GgnDxY366E', u'media_url_https': u'https://pbs.twimg.com/media/CxVm8-WW8AAu1aC.jpg', u'id_str': u'798657706643091456', u'sizes': {u'large': {u'h': 530, u'resize': u'fit', u'w': 1012}, u'small': {u'h': 356, u'resize': u'fit', u'w': 680}, u'medium': {u'h': 530, u'resize': u'fit', u'w': 1012}, u'thumb': {u'h': 150, u'resize': u'crop', u'w': 150}}, u'indices': [90, 113], u'type': u'photo', u'id': 798657706643091456, u'media_url': u'http://pbs.twimg.com/media/CxVm8-WW8AAu1aC.jpg'}]}, u'in_reply_to_screen_name': None, u'in_reply_to_user_id': None, u'retweet_count': 0, u'id_str': u'798657708937252864', u'favorited': False, u'geo': None, u'in_reply_to_user_id_str': None, u'possibly_sensitive': False, u'lang': u'pt', u'created_at': u'Tue Nov 15 22:43:30 +0000 2016', u'in_reply_to_status_id_str': None, u'place': None, u'extended_entities': {u'media': [{u'expanded_url': u'https://twitter.com/minhaideiameupr/status/798657708937252864/photo/1', u'display_url': u'pic.twitter.com/GgnDxY366E', u'url': u'https://t.co/GgnDxY366E', u'media_url_https': u'https://pbs.twimg.com/media/CxVm8-WW8AAu1aC.jpg', u'id_str': u'798657706643091456', u'sizes': {u'large': {u'h': 530, u'resize': u'fit', u'w': 1012}, u'small': {u'h': 356, u'resize': u'fit', u'w': 680}, u'medium': {u'h': 530, u'resize': u'fit', u'w': 1012}, u'thumb': {u'h': 150, u'resize': u'crop', u'w': 150}}, u'indices': [90, 113], u'type': u'photo', u'id': 798657706643091456, u'media_url': u'http://pbs.twimg.com/media/CxVm8-WW8AAu1aC.jpg'}]}}, coordinates=None, entities={u'symbols': [], u'user_mentions': [], u'hashtags': [], u'urls': [{u'url': u'https://t.co/sef8dhhvFr', u'indices': [66, 89], u'expanded_url': u'http://tweepsmap.com/!minhaideiameupr', u'display_url': u'tweepsmap.com/!minhaideiameu\\u2026'}], u'media': [{u'expanded_url': u'https://twitter.com/minhaideiameupr/status/798657708937252864/photo/1', u'display_url': u'pic.twitter.com/GgnDxY366E', u'url': u'https://t.co/GgnDxY366E', u'media_url_https': u'https://pbs.twimg.com/media/CxVm8-WW8AAu1aC.jpg', u'id_str': u'798657706643091456', u'sizes': {u'large': {u'h': 530, u'resize': u'fit', u'w': 1012}, u'small': {u'h': 356, u'resize': u'fit', u'w': 680}, u'medium': {u'h': 530, u'resize': u'fit', u'w': 1012}, u'thumb': {u'h': 150, u'resize': u'crop', u'w': 150}}, u'indices': [90, 113], u'type': u'photo', u'id': 798657706643091456, u'media_url': u'http://pbs.twimg.com/media/CxVm8-WW8AAu1aC.jpg'}]}, in_reply_to_screen_name=None, id_str=u'798657708937252864', retweet_count=0, in_reply_to_user_id=None, favorited=False, source_url=u'http://tweepsmap.com', geo=None, in_reply_to_user_id_str=None, possibly_sensitive=False, lang=u'pt', created_at=datetime.datetime(2016, 11, 15, 22, 43, 30), in_reply_to_status_id_str=None, place=None, extended_entities={u'media': [{u'expanded_url': u'https://twitter.com/minhaideiameupr/status/798657708937252864/photo/1', u'display_url': u'pic.twitter.com/GgnDxY366E', u'url': u'https://t.co/GgnDxY366E', u'media_url_https': u'https://pbs.twimg.com/media/CxVm8-WW8AAu1aC.jpg', u'id_str': u'798657706643091456', u'sizes': {u'large': {u'h': 530, u'resize': u'fit', u'w': 1012}, u'small': {u'h': 356, u'resize': u'fit', u'w': 680}, u'medium': {u'h': 530, u'resize': u'fit', u'w': 1012}, u'thumb': {u'h': 150, u'resize': u'crop', u'w': 150}}, u'indices': [90, 113], u'type': u'photo', u'id': 798657706643091456, u'media_url': u'http://pbs.twimg.com/media/CxVm8-WW8AAu1aC.jpg'}]}, retweeted=False), lang=u'pt', utc_offset=-36000, statuses_count=463, profile_background_color=u'C0DEED', friends_count=1971, profile_link_color=u'1DA1F2', profile_image_url=u'http://pbs.twimg.com/profile_images/2999679335/47f4cf41889545fd513a30b7ce73b9a6_normal.png', notifications=False, default_profile=True, profile_background_image_url_https=u'https://abs.twimg.com/images/themes/theme1/bg.png', profile_banner_url=u'https://pbs.twimg.com/profile_banners/1024712191/1422079511', blocking=False, profile_background_image_url=u'http://abs.twimg.com/images/themes/theme1/bg.png', name=u'minhaideiameuprojeto', is_translation_enabled=False, profile_background_tile=False, favourites_count=17, screen_name=u'minhaideiameupr', url=u'http://t.co/lymfefDD', created_at=datetime.datetime(2012, 12, 20, 17, 48, 19), contributors_enabled=False, location=u'', profile_sidebar_border_color=u'C0DEED', translator_type=u'none', following=False), User(follow_request_sent=False, has_extended_profile=False, profile_use_background_image=True, profile_sidebar_fill_color=u'E2EAEF', live_following=False, time_zone=None, id=1224327498, description=u'PROGETTA E REALIZZA GIARDINI MEDITERRANEI', _api=<tweepy.api.API object at 0x7f1a242adad0>, verified=False, blocked_by=False, profile_text_color=u'6C961C', muting=False, profile_image_url_https=u'https://pbs.twimg.com/profile_images/3314338333/dde9b203025f587c766bc36535016678_normal.png', _json={u'follow_request_sent': False, u'has_extended_profile': False, u'profile_use_background_image': True, u'live_following': False, u'default_profile_image': False, u'id': 1224327498, u'profile_background_image_url_https': u'https://pbs.twimg.com/profile_background_images/849531781/e1f8f6073c1165f3a0c487101b4717e3.jpeg', u'translator_type': u'none', u'verified': False, u'blocked_by': False, u'profile_text_color': u'6C961C', u'muting': False, u'profile_image_url_https': u'https://pbs.twimg.com/profile_images/3314338333/dde9b203025f587c766bc36535016678_normal.png', u'profile_sidebar_fill_color': u'E2EAEF', u'entities': {u'url': {u'urls': [{u'url': u'http://t.co/4L2kMldk8S', u'indices': [0, 22], u'expanded_url': u'http://www.otragiardini.it', u'display_url': u'otragiardini.it'}]}, u'description': {u'urls': []}}, u'followers_count': 54, u'profile_sidebar_border_color': u'000000', u'id_str': u'1224327498', u'profile_background_color': u'DADDC0', u'listed_count': 1, u'status': {u'contributors': None, u'truncated': False, u'text': u'La fitodepurazione - Impianto di Melendugno: http://t.co/1w1q0Zva8f via @YouTube', u'is_quote_status': False, u'in_reply_to_status_id': None, u'id': 523239050392518656, u'favorite_count': 0, u'source': u'<a href=\"https://dev.twitter.com/docs/tfw\" rel=\"nofollow\">Twitter for Websites</a>', u'retweeted': False, u'coordinates': None, u'entities': {u'symbols': [], u'user_mentions': [{u'id': 10228272, u'indices': [72, 80], u'id_str': u'10228272', u'screen_name': u'YouTube', u'name': u'YouTube'}], u'hashtags': [], u'urls': [{u'url': u'http://t.co/1w1q0Zva8f', u'indices': [45, 67], u'expanded_url': u'http://youtu.be/__QMeB86cfs', u'display_url': u'youtu.be/__QMeB86cfs'}]}, u'in_reply_to_screen_name': None, u'in_reply_to_user_id': None, u'retweet_count': 0, u'id_str': u'523239050392518656', u'favorited': False, u'geo': None, u'in_reply_to_user_id_str': None, u'possibly_sensitive': False, u'lang': u'it', u'created_at': u'Fri Oct 17 22:28:05 +0000 2014', u'in_reply_to_status_id_str': None, u'place': None}, u'is_translation_enabled': False, u'utc_offset': None, u'statuses_count': 18, u'description': u'PROGETTA E REALIZZA GIARDINI MEDITERRANEI', u'friends_count': 296, u'location': u'Nard\\xf2 (Lecce) ITALY', u'profile_link_color': u'877F63', u'profile_image_url': u'http://pbs.twimg.com/profile_images/3314338333/dde9b203025f587c766bc36535016678_normal.png', u'following': False, u'geo_enabled': False, u'profile_banner_url': u'https://pbs.twimg.com/profile_banners/1224327498/1364201661', u'blocking': False, u'profile_background_image_url': u'http://pbs.twimg.com/profile_background_images/849531781/e1f8f6073c1165f3a0c487101b4717e3.jpeg', u'screen_name': u'otragiardini', u'lang': u'it', u'profile_background_tile': False, u'favourites_count': 1, u'name': u'otragiardini', u'notifications': False, u'url': u'http://t.co/4L2kMldk8S', u'created_at': u'Wed Feb 27 10:42:04 +0000 2013', u'contributors_enabled': False, u'time_zone': None, u'protected': False, u'default_profile': False, u'is_translator': False}, is_translator=False, geo_enabled=False, entities={u'url': {u'urls': [{u'url': u'http://t.co/4L2kMldk8S', u'indices': [0, 22], u'expanded_url': u'http://www.otragiardini.it', u'display_url': u'otragiardini.it'}]}, u'description': {u'urls': []}}, followers_count=54, protected=False, id_str=u'1224327498', default_profile_image=False, listed_count=1, status=Status(contributors=None, truncated=False, text=u'La fitodepurazione - Impianto di Melendugno: http://t.co/1w1q0Zva8f via @YouTube', is_quote_status=False, in_reply_to_status_id=None, id=523239050392518656, favorite_count=0, _api=<tweepy.api.API object at 0x7f1a242adad0>, source=u'Twitter for Websites', _json={u'contributors': None, u'truncated': False, u'text': u'La fitodepurazione - Impianto di Melendugno: http://t.co/1w1q0Zva8f via @YouTube', u'is_quote_status': False, u'in_reply_to_status_id': None, u'id': 523239050392518656, u'favorite_count': 0, u'source': u'<a href=\"https://dev.twitter.com/docs/tfw\" rel=\"nofollow\">Twitter for Websites</a>', u'retweeted': False, u'coordinates': None, u'entities': {u'symbols': [], u'user_mentions': [{u'id': 10228272, u'indices': [72, 80], u'id_str': u'10228272', u'screen_name': u'YouTube', u'name': u'YouTube'}], u'hashtags': [], u'urls': [{u'url': u'http://t.co/1w1q0Zva8f', u'indices': [45, 67], u'expanded_url': u'http://youtu.be/__QMeB86cfs', u'display_url': u'youtu.be/__QMeB86cfs'}]}, u'in_reply_to_screen_name': None, u'in_reply_to_user_id': None, u'retweet_count': 0, u'id_str': u'523239050392518656', u'favorited': False, u'geo': None, u'in_reply_to_user_id_str': None, u'possibly_sensitive': False, u'lang': u'it', u'created_at': u'Fri Oct 17 22:28:05 +0000 2014', u'in_reply_to_status_id_str': None, u'place': None}, coordinates=None, entities={u'symbols': [], u'user_mentions': [{u'id': 10228272, u'indices': [72, 80], u'id_str': u'10228272', u'screen_name': u'YouTube', u'name': u'YouTube'}], u'hashtags': [], u'urls': [{u'url': u'http://t.co/1w1q0Zva8f', u'indices': [45, 67], u'expanded_url': u'http://youtu.be/__QMeB86cfs', u'display_url': u'youtu.be/__QMeB86cfs'}]}, in_reply_to_screen_name=None, id_str=u'523239050392518656', retweet_count=0, in_reply_to_user_id=None, favorited=False, source_url=u'https://dev.twitter.com/docs/tfw', geo=None, in_reply_to_user_id_str=None, possibly_sensitive=False, lang=u'it', created_at=datetime.datetime(2014, 10, 17, 22, 28, 5), in_reply_to_status_id_str=None, place=None, retweeted=False), lang=u'it', utc_offset=None, statuses_count=18, profile_background_color=u'DADDC0', friends_count=296, profile_link_color=u'877F63', profile_image_url=u'http://pbs.twimg.com/profile_images/3314338333/dde9b203025f587c766bc36535016678_normal.png', notifications=False, default_profile=False, profile_background_image_url_https=u'https://pbs.twimg.com/profile_background_images/849531781/e1f8f6073c1165f3a0c487101b4717e3.jpeg', profile_banner_url=u'https://pbs.twimg.com/profile_banners/1224327498/1364201661', blocking=False, profile_background_image_url=u'http://pbs.twimg.com/profile_background_images/849531781/e1f8f6073c1165f3a0c487101b4717e3.jpeg', name=u'otragiardini', is_translation_enabled=False, profile_background_tile=False, favourites_count=1, screen_name=u'otragiardini', url=u'http://t.co/4L2kMldk8S', created_at=datetime.datetime(2013, 2, 27, 10, 42, 4), contributors_enabled=False, location=u'Nard\\xf2 (Lecce) ITALY', profile_sidebar_border_color=u'000000', translator_type=u'none', following=False), User(follow_request_sent=False, has_extended_profile=False, profile_use_background_image=True, profile_sidebar_fill_color=u'DDEEF6', live_following=False, time_zone=u'Athens', id=1336386692, description=u'Riqualificazione Energetica di Edifici Esistenti', _api=<tweepy.api.API object at 0x7f1a242adad0>, verified=False, blocked_by=False, profile_text_color=u'333333', muting=False, profile_image_url_https=u'https://pbs.twimg.com/profile_images/3497452537/add00f197645bf4de9cb67da8ef45429_normal.png', _json={u'follow_request_sent': False, u'has_extended_profile': False, u'profile_use_background_image': True, u'live_following': False, u'default_profile_image': False, u'id': 1336386692, u'profile_background_image_url_https': u'https://abs.twimg.com/images/themes/theme1/bg.png', u'translator_type': u'none', u'verified': False, u'blocked_by': False, u'profile_text_color': u'333333', u'muting': False, u'profile_image_url_https': u'https://pbs.twimg.com/profile_images/3497452537/add00f197645bf4de9cb67da8ef45429_normal.png', u'profile_sidebar_fill_color': u'DDEEF6', u'entities': {u'url': {u'urls': [{u'url': u'http://t.co/Bak7sC1wlB', u'indices': [0, 22], u'expanded_url': u'http://www.casa-plus.it', u'display_url': u'casa-plus.it'}]}, u'description': {u'urls': []}}, u'followers_count': 911, u'profile_sidebar_border_color': u'C0DEED', u'id_str': u'1336386692', u'profile_background_color': u'C0DEED', u'listed_count': 10, u'status': {u'contributors': None, u'truncated': False, u'text': u'Fotovoltaico, le 10 cose da sapere  http://t.co/UrUzhcAGff via @casaeclima', u'is_quote_status': False, u'in_reply_to_status_id': None, u'id': 590455569057767424, u'favorite_count': 4, u'source': u'<a href=\"http://twitter.com\" rel=\"nofollow\">Twitter Web Client</a>', u'retweeted': False, u'coordinates': None, u'entities': {u'symbols': [], u'user_mentions': [{u'id': 288081951, u'indices': [63, 74], u'id_str': u'288081951', u'screen_name': u'casaeclima', u'name': u'casaeclima.com'}], u'hashtags': [], u'urls': [{u'url': u'http://t.co/UrUzhcAGff', u'indices': [36, 58], u'expanded_url': u'http://www.casaeclima.com/ar_22366__fotovoltaico-decalogo-anie-dieci-cose-da-sapere.html?utm_source=Newsletter+casaeclima.com&utm_campaign=f9767019c6-DAILY_nuovo_template2_5_2015&utm_medium=email&utm_term=0_0099aaf8c8-f9767019c6-313662485&mc_cid=f9767019c6&mc_eid=45f33b7ae1', u'display_url': u'casaeclima.com/ar_22366__foto\\u2026'}]}, u'in_reply_to_screen_name': None, u'in_reply_to_user_id': None, u'retweet_count': 1, u'id_str': u'590455569057767424', u'favorited': False, u'geo': None, u'in_reply_to_user_id_str': None, u'possibly_sensitive': False, u'lang': u'it', u'created_at': u'Tue Apr 21 10:02:32 +0000 2015', u'in_reply_to_status_id_str': None, u'place': None}, u'is_translation_enabled': False, u'utc_offset': 7200, u'statuses_count': 1251, u'description': u'Riqualificazione Energetica di Edifici Esistenti', u'friends_count': 1965, u'location': u'ROMA ', u'profile_link_color': u'1DA1F2', u'profile_image_url': u'http://pbs.twimg.com/profile_images/3497452537/add00f197645bf4de9cb67da8ef45429_normal.png', u'following': False, u'geo_enabled': False, u'profile_banner_url': u'https://pbs.twimg.com/profile_banners/1336386692/1414179185', u'blocking': False, u'profile_background_image_url': u'http://abs.twimg.com/images/themes/theme1/bg.png', u'screen_name': u'_CasaPlus', u'lang': u'it', u'profile_background_tile': False, u'favourites_count': 0, u'name': u'Casa Plus', u'notifications': False, u'url': u'http://t.co/Bak7sC1wlB', u'created_at': u'Mon Apr 08 11:21:07 +0000 2013', u'contributors_enabled': False, u'time_zone': u'Athens', u'protected': False, u'default_profile': True, u'is_translator': False}, is_translator=False, geo_enabled=False, entities={u'url': {u'urls': [{u'url': u'http://t.co/Bak7sC1wlB', u'indices': [0, 22], u'expanded_url': u'http://www.casa-plus.it', u'display_url': u'casa-plus.it'}]}, u'description': {u'urls': []}}, followers_count=911, protected=False, id_str=u'1336386692', default_profile_image=False, listed_count=10, status=Status(contributors=None, truncated=False, text=u'Fotovoltaico, le 10 cose da sapere  http://t.co/UrUzhcAGff via @casaeclima', is_quote_status=False, in_reply_to_status_id=None, id=590455569057767424, favorite_count=4, _api=<tweepy.api.API object at 0x7f1a242adad0>, source=u'Twitter Web Client', _json={u'contributors': None, u'truncated': False, u'text': u'Fotovoltaico, le 10 cose da sapere  http://t.co/UrUzhcAGff via @casaeclima', u'is_quote_status': False, u'in_reply_to_status_id': None, u'id': 590455569057767424, u'favorite_count': 4, u'source': u'<a href=\"http://twitter.com\" rel=\"nofollow\">Twitter Web Client</a>', u'retweeted': False, u'coordinates': None, u'entities': {u'symbols': [], u'user_mentions': [{u'id': 288081951, u'indices': [63, 74], u'id_str': u'288081951', u'screen_name': u'casaeclima', u'name': u'casaeclima.com'}], u'hashtags': [], u'urls': [{u'url': u'http://t.co/UrUzhcAGff', u'indices': [36, 58], u'expanded_url': u'http://www.casaeclima.com/ar_22366__fotovoltaico-decalogo-anie-dieci-cose-da-sapere.html?utm_source=Newsletter+casaeclima.com&utm_campaign=f9767019c6-DAILY_nuovo_template2_5_2015&utm_medium=email&utm_term=0_0099aaf8c8-f9767019c6-313662485&mc_cid=f9767019c6&mc_eid=45f33b7ae1', u'display_url': u'casaeclima.com/ar_22366__foto\\u2026'}]}, u'in_reply_to_screen_name': None, u'in_reply_to_user_id': None, u'retweet_count': 1, u'id_str': u'590455569057767424', u'favorited': False, u'geo': None, u'in_reply_to_user_id_str': None, u'possibly_sensitive': False, u'lang': u'it', u'created_at': u'Tue Apr 21 10:02:32 +0000 2015', u'in_reply_to_status_id_str': None, u'place': None}, coordinates=None, entities={u'symbols': [], u'user_mentions': [{u'id': 288081951, u'indices': [63, 74], u'id_str': u'288081951', u'screen_name': u'casaeclima', u'name': u'casaeclima.com'}], u'hashtags': [], u'urls': [{u'url': u'http://t.co/UrUzhcAGff', u'indices': [36, 58], u'expanded_url': u'http://www.casaeclima.com/ar_22366__fotovoltaico-decalogo-anie-dieci-cose-da-sapere.html?utm_source=Newsletter+casaeclima.com&utm_campaign=f9767019c6-DAILY_nuovo_template2_5_2015&utm_medium=email&utm_term=0_0099aaf8c8-f9767019c6-313662485&mc_cid=f9767019c6&mc_eid=45f33b7ae1', u'display_url': u'casaeclima.com/ar_22366__foto\\u2026'}]}, in_reply_to_screen_name=None, id_str=u'590455569057767424', retweet_count=1, in_reply_to_user_id=None, favorited=False, source_url=u'http://twitter.com', geo=None, in_reply_to_user_id_str=None, possibly_sensitive=False, lang=u'it', created_at=datetime.datetime(2015, 4, 21, 10, 2, 32), in_reply_to_status_id_str=None, place=None, retweeted=False), lang=u'it', utc_offset=7200, statuses_count=1251, profile_background_color=u'C0DEED', friends_count=1965, profile_link_color=u'1DA1F2', profile_image_url=u'http://pbs.twimg.com/profile_images/3497452537/add00f197645bf4de9cb67da8ef45429_normal.png', notifications=False, default_profile=True, profile_background_image_url_https=u'https://abs.twimg.com/images/themes/theme1/bg.png', profile_banner_url=u'https://pbs.twimg.com/profile_banners/1336386692/1414179185', blocking=False, profile_background_image_url=u'http://abs.twimg.com/images/themes/theme1/bg.png', name=u'Casa Plus', is_translation_enabled=False, profile_background_tile=False, favourites_count=0, screen_name=u'_CasaPlus', url=u'http://t.co/Bak7sC1wlB', created_at=datetime.datetime(2013, 4, 8, 11, 21, 7), contributors_enabled=False, location=u'ROMA ', profile_sidebar_border_color=u'C0DEED', translator_type=u'none', following=False), User(follow_request_sent=False, has_extended_profile=False, profile_use_background_image=True, profile_sidebar_fill_color=u'EADEAA', live_following=False, time_zone=None, id=45788290, description=u'Pretty girl from Belgium. Want to meet somebody for virt. Chat me here https://t.co/7qTN0jf5CI. My nick eluze9613', _api=<tweepy.api.API object at 0x7f1a242adad0>, verified=False, blocked_by=False, profile_text_color=u'333333', muting=False, profile_image_url_https=u'https://pbs.twimg.com/profile_images/734859070797156354/CijIE8ww_normal.jpg', _json={u'follow_request_sent': False, u'has_extended_profile': False, u'profile_use_background_image': True, u'live_following': False, u'default_profile_image': False, u'id': 45788290, u'profile_background_image_url_https': u'https://abs.twimg.com/images/themes/theme8/bg.gif', u'translator_type': u'none', u'verified': False, u'blocked_by': False, u'profile_text_color': u'333333', u'muting': False, u'profile_image_url_https': u'https://pbs.twimg.com/profile_images/734859070797156354/CijIE8ww_normal.jpg', u'profile_sidebar_fill_color': u'EADEAA', u'entities': {u'description': {u'urls': [{u'url': u'https://t.co/7qTN0jf5CI', u'indices': [71, 94], u'expanded_url': u'http://goo.gl/fEaqKw', u'display_url': u'goo.gl/fEaqKw'}]}}, u'followers_count': 0, u'profile_sidebar_border_color': u'D9B17E', u'id_str': u'45788290', u'profile_background_color': u'8B542B', u'listed_count': 0, u'is_translation_enabled': False, u'utc_offset': None, u'statuses_count': 58, u'description': u'Pretty girl from Belgium. Want to meet somebody for virt. Chat me here https://t.co/7qTN0jf5CI. My nick eluze9613', u'friends_count': 934, u'location': u'', u'profile_link_color': u'9D582E', u'profile_image_url': u'http://pbs.twimg.com/profile_images/734859070797156354/CijIE8ww_normal.jpg', u'following': False, u'geo_enabled': True, u'blocking': False, u'profile_background_image_url': u'http://abs.twimg.com/images/themes/theme8/bg.gif', u'screen_name': u'mnazzario', u'lang': u'it', u'profile_background_tile': False, u'favourites_count': 0, u'name': u'Sue Forman', u'notifications': False, u'url': None, u'created_at': u'Tue Jun 09 07:26:19 +0000 2009', u'contributors_enabled': False, u'time_zone': None, u'protected': False, u'default_profile': False, u'is_translator': False}, is_translator=False, geo_enabled=True, entities={u'description': {u'urls': [{u'url': u'https://t.co/7qTN0jf5CI', u'indices': [71, 94], u'expanded_url': u'http://goo.gl/fEaqKw', u'display_url': u'goo.gl/fEaqKw'}]}}, followers_count=0, protected=False, id_str=u'45788290', default_profile_image=False, listed_count=0, lang=u'it', utc_offset=None, statuses_count=58, profile_background_color=u'8B542B', friends_count=934, profile_link_color=u'9D582E', profile_image_url=u'http://pbs.twimg.com/profile_images/734859070797156354/CijIE8ww_normal.jpg', notifications=False, default_profile=False, profile_background_image_url_https=u'https://abs.twimg.com/images/themes/theme8/bg.gif', blocking=False, profile_background_image_url=u'http://abs.twimg.com/images/themes/theme8/bg.gif', name=u'Sue Forman', is_translation_enabled=False, profile_background_tile=False, favourites_count=0, screen_name=u'mnazzario', url=None, created_at=datetime.datetime(2009, 6, 9, 7, 26, 19), contributors_enabled=False, location=u'', profile_sidebar_border_color=u'D9B17E', translator_type=u'none', following=False), User(follow_request_sent=False, has_extended_profile=False, profile_use_background_image=True, profile_sidebar_fill_color=u'DDEEF6', live_following=False, time_zone=None, id=1172638813, description=u\"Holly & Paul \\xe8 un fashion blog nato dall'idea di Ennio Tullo e Graziana Lamesta, un fotografo e una fashion editor accomunati dalla passione per il fashion\", _api=<tweepy.api.API object at 0x7f1a242adad0>, verified=False, blocked_by=False, profile_text_color=u'333333', muting=False, profile_image_url_https=u'https://pbs.twimg.com/profile_images/3251533293/c16cf7f15f3bec69931e60e77709b503_normal.jpeg', _json={u'follow_request_sent': False, u'has_extended_profile': False, u'profile_use_background_image': True, u'live_following': False, u'default_profile_image': False, u'id': 1172638813, u'profile_background_image_url_https': u'https://pbs.twimg.com/profile_background_images/864033082/f6cd7547f2d1c675e303149bfc38bbcb.jpeg', u'translator_type': u'none', u'verified': False, u'blocked_by': False, u'profile_text_color': u'333333', u'muting': False, u'profile_image_url_https': u'https://pbs.twimg.com/profile_images/3251533293/c16cf7f15f3bec69931e60e77709b503_normal.jpeg', u'profile_sidebar_fill_color': u'DDEEF6', u'entities': {u'url': {u'urls': [{u'url': u'http://t.co/kVbv2HVb', u'indices': [0, 20], u'expanded_url': u'http://www.hollyandpaul.it', u'display_url': u'hollyandpaul.it'}]}, u'description': {u'urls': []}}, u'followers_count': 318, u'profile_sidebar_border_color': u'FFFFFF', u'id_str': u'1172638813', u'profile_background_color': u'C0DEED', u'listed_count': 11, u'status': {u'contributors': None, u'truncated': False, u'text': u'PHOTOGRAPHY-\\nPeter Lindbergh, women lover', u'is_quote_status': False, u'in_reply_to_status_id': None, u'id': 799599353623027712, u'favorite_count': 0, u'source': u'<a href=\"http://www.facebook.com/twitter\" rel=\"nofollow\">Facebook</a>', u'retweeted': False, u'coordinates': None, u'entities': {u'symbols': [], u'user_mentions': [], u'hashtags': [], u'urls': []}, u'in_reply_to_screen_name': None, u'in_reply_to_user_id': None, u'retweet_count': 0, u'id_str': u'799599353623027712', u'favorited': False, u'geo': None, u'in_reply_to_user_id_str': None, u'lang': u'en', u'created_at': u'Fri Nov 18 13:05:16 +0000 2016', u'in_reply_to_status_id_str': None, u'place': None}, u'is_translation_enabled': False, u'utc_offset': None, u'statuses_count': 3416, u'description': u\"Holly & Paul \\xe8 un fashion blog nato dall'idea di Ennio Tullo e Graziana Lamesta, un fotografo e una fashion editor accomunati dalla passione per il fashion\", u'friends_count': 1947, u'location': u'', u'profile_link_color': u'0084B4', u'profile_image_url': u'http://pbs.twimg.com/profile_images/3251533293/c16cf7f15f3bec69931e60e77709b503_normal.jpeg', u'following': False, u'geo_enabled': False, u'profile_banner_url': u'https://pbs.twimg.com/profile_banners/1172638813/1360829822', u'blocking': False, u'profile_background_image_url': u'http://pbs.twimg.com/profile_background_images/864033082/f6cd7547f2d1c675e303149bfc38bbcb.jpeg', u'screen_name': u'HollyandPaul', u'lang': u'it', u'profile_background_tile': False, u'favourites_count': 13, u'name': u'Holly and Paul', u'notifications': False, u'url': u'http://t.co/kVbv2HVb', u'created_at': u'Tue Feb 12 17:41:18 +0000 2013', u'contributors_enabled': False, u'time_zone': None, u'protected': False, u'default_profile': False, u'is_translator': False}, is_translator=False, geo_enabled=False, entities={u'url': {u'urls': [{u'url': u'http://t.co/kVbv2HVb', u'indices': [0, 20], u'expanded_url': u'http://www.hollyandpaul.it', u'display_url': u'hollyandpaul.it'}]}, u'description': {u'urls': []}}, followers_count=318, protected=False, id_str=u'1172638813', default_profile_image=False, listed_count=11, status=Status(contributors=None, truncated=False, text=u'PHOTOGRAPHY-\\nPeter Lindbergh, women lover', is_quote_status=False, in_reply_to_status_id=None, id=799599353623027712, favorite_count=0, _api=<tweepy.api.API object at 0x7f1a242adad0>, source=u'Facebook', _json={u'contributors': None, u'truncated': False, u'text': u'PHOTOGRAPHY-\\nPeter Lindbergh, women lover', u'is_quote_status': False, u'in_reply_to_status_id': None, u'id': 799599353623027712, u'favorite_count': 0, u'source': u'<a href=\"http://www.facebook.com/twitter\" rel=\"nofollow\">Facebook</a>', u'retweeted': False, u'coordinates': None, u'entities': {u'symbols': [], u'user_mentions': [], u'hashtags': [], u'urls': []}, u'in_reply_to_screen_name': None, u'in_reply_to_user_id': None, u'retweet_count': 0, u'id_str': u'799599353623027712', u'favorited': False, u'geo': None, u'in_reply_to_user_id_str': None, u'lang': u'en', u'created_at': u'Fri Nov 18 13:05:16 +0000 2016', u'in_reply_to_status_id_str': None, u'place': None}, coordinates=None, entities={u'symbols': [], u'user_mentions': [], u'hashtags': [], u'urls': []}, in_reply_to_screen_name=None, id_str=u'799599353623027712', retweet_count=0, in_reply_to_user_id=None, favorited=False, source_url=u'http://www.facebook.com/twitter', geo=None, in_reply_to_user_id_str=None, lang=u'en', created_at=datetime.datetime(2016, 11, 18, 13, 5, 16), in_reply_to_status_id_str=None, place=None, retweeted=False), lang=u'it', utc_offset=None, statuses_count=3416, profile_background_color=u'C0DEED', friends_count=1947, profile_link_color=u'0084B4', profile_image_url=u'http://pbs.twimg.com/profile_images/3251533293/c16cf7f15f3bec69931e60e77709b503_normal.jpeg', notifications=False, default_profile=False, profile_background_image_url_https=u'https://pbs.twimg.com/profile_background_images/864033082/f6cd7547f2d1c675e303149bfc38bbcb.jpeg', profile_banner_url=u'https://pbs.twimg.com/profile_banners/1172638813/1360829822', blocking=False, profile_background_image_url=u'http://pbs.twimg.com/profile_background_images/864033082/f6cd7547f2d1c675e303149bfc38bbcb.jpeg', name=u'Holly and Paul', is_translation_enabled=False, profile_background_tile=False, favourites_count=13, screen_name=u'HollyandPaul', url=u'http://t.co/kVbv2HVb', created_at=datetime.datetime(2013, 2, 12, 17, 41, 18), contributors_enabled=False, location=u'', profile_sidebar_border_color=u'FFFFFF', translator_type=u'none', following=False)]\n"
     ]
    }
   ],
   "source": [
    "print(my_followers)"
   ]
  },
  {
   "cell_type": "code",
   "execution_count": 34,
   "metadata": {
    "collapsed": true
   },
   "outputs": [],
   "source": [
    "my_followers_ids = api.followers_ids()"
   ]
  },
  {
   "cell_type": "code",
   "execution_count": 37,
   "metadata": {
    "collapsed": false
   },
   "outputs": [
    {
     "name": "stdout",
     "output_type": "stream",
     "text": [
      "13\n",
      "13\n"
     ]
    }
   ],
   "source": [
    "print(len(my_followers))\n",
    "print(len(my_followers_ids))"
   ]
  },
  {
   "cell_type": "code",
   "execution_count": 40,
   "metadata": {
    "collapsed": false
   },
   "outputs": [
    {
     "data": {
      "text/plain": [
       "[User(follow_request_sent=False, has_extended_profile=False, profile_use_background_image=False, profile_sidebar_fill_color=u'000000', live_following=False, time_zone=u'Rome', id=2251593766, description=u'I desideri che nascono in me sono sempre ardentissimi; soffro del pi\\xf9 piccolo ritardo e non posso sopportare gli indugi', _api=<tweepy.api.API object at 0x7f1a242adad0>, verified=False, blocked_by=False, profile_text_color=u'000000', muting=False, profile_image_url_https=u'https://pbs.twimg.com/profile_images/527467024906067968/GWL2xgot_normal.jpeg', _json={u'follow_request_sent': False, u'has_extended_profile': False, u'profile_use_background_image': False, u'live_following': False, u'default_profile_image': False, u'id': 2251593766, u'profile_background_image_url_https': u'https://abs.twimg.com/images/themes/theme1/bg.png', u'translator_type': u'none', u'verified': False, u'blocked_by': False, u'profile_text_color': u'000000', u'muting': False, u'profile_image_url_https': u'https://pbs.twimg.com/profile_images/527467024906067968/GWL2xgot_normal.jpeg', u'profile_sidebar_fill_color': u'000000', u'entities': {u'description': {u'urls': []}}, u'followers_count': 87, u'profile_sidebar_border_color': u'000000', u'id_str': u'2251593766', u'profile_background_color': u'000000', u'listed_count': 0, u'is_translation_enabled': False, u'utc_offset': 3600, u'statuses_count': 396, u'description': u'I desideri che nascono in me sono sempre ardentissimi; soffro del pi\\xf9 piccolo ritardo e non posso sopportare gli indugi', u'friends_count': 434, u'location': u'Aversa, Campania', u'profile_link_color': u'89C9FA', u'profile_image_url': u'http://pbs.twimg.com/profile_images/527467024906067968/GWL2xgot_normal.jpeg', u'following': False, u'geo_enabled': True, u'profile_banner_url': u'https://pbs.twimg.com/profile_banners/2251593766/1414592787', u'blocking': False, u'profile_background_image_url': u'http://abs.twimg.com/images/themes/theme1/bg.png', u'screen_name': u'ldigrazia', u'lang': u'it', u'profile_background_tile': False, u'favourites_count': 4, u'name': u'luigi digrazia', u'notifications': False, u'url': None, u'created_at': u'Mon Dec 30 08:13:22 +0000 2013', u'contributors_enabled': False, u'time_zone': u'Rome', u'protected': True, u'default_profile': False, u'is_translator': False}, is_translator=False, geo_enabled=True, entities={u'description': {u'urls': []}}, followers_count=87, protected=True, id_str=u'2251593766', default_profile_image=False, listed_count=0, lang=u'it', utc_offset=3600, statuses_count=396, profile_background_color=u'000000', friends_count=434, profile_link_color=u'89C9FA', profile_image_url=u'http://pbs.twimg.com/profile_images/527467024906067968/GWL2xgot_normal.jpeg', notifications=False, default_profile=False, profile_background_image_url_https=u'https://abs.twimg.com/images/themes/theme1/bg.png', profile_banner_url=u'https://pbs.twimg.com/profile_banners/2251593766/1414592787', blocking=False, profile_background_image_url=u'http://abs.twimg.com/images/themes/theme1/bg.png', name=u'luigi digrazia', is_translation_enabled=False, profile_background_tile=False, favourites_count=4, screen_name=u'ldigrazia', url=None, created_at=datetime.datetime(2013, 12, 30, 8, 13, 22), contributors_enabled=False, location=u'Aversa, Campania', profile_sidebar_border_color=u'000000', translator_type=u'none', following=False),\n",
       " User(follow_request_sent=False, has_extended_profile=False, profile_use_background_image=True, profile_sidebar_fill_color=u'95E8EC', live_following=False, time_zone=u'Central Time (US & Canada)', id=2936097834, description=u'\\u265bhttp://t.co/KEg5TsjcJe\\u2013A professional and reliable online store providing hot selling products at unexpected prices and shipping them globally \\xae.', _api=<tweepy.api.API object at 0x7f1a242adad0>, verified=False, blocked_by=False, profile_text_color=u'3C3940', muting=False, profile_image_url_https=u'https://pbs.twimg.com/profile_images/715034098704728064/SFjwFaSr_normal.jpg', _json={u'follow_request_sent': False, u'has_extended_profile': False, u'profile_use_background_image': True, u'live_following': False, u'default_profile_image': False, u'id': 2936097834, u'profile_background_image_url_https': u'https://abs.twimg.com/images/themes/theme4/bg.gif', u'translator_type': u'none', u'verified': False, u'blocked_by': False, u'profile_text_color': u'3C3940', u'muting': False, u'profile_image_url_https': u'https://pbs.twimg.com/profile_images/715034098704728064/SFjwFaSr_normal.jpg', u'profile_sidebar_fill_color': u'95E8EC', u'entities': {u'url': {u'urls': [{u'url': u'http://t.co/tdcS88p1tl', u'indices': [0, 22], u'expanded_url': u'http://www.buycoolprice.com', u'display_url': u'buycoolprice.com'}]}, u'description': {u'urls': [{u'url': u'http://t.co/KEg5TsjcJe', u'indices': [1, 23], u'expanded_url': u'http://Buycoolprice.com', u'display_url': u'Buycoolprice.com'}]}}, u'followers_count': 199217, u'profile_sidebar_border_color': u'5ED4DC', u'id_str': u'2936097834', u'profile_background_color': u'0099B9', u'listed_count': 111, u'status': {u'contributors': None, u'truncated': False, u'text': u'9.0mm-10.0mm White Cultured Freshwater Pearl Ring - 18k Solid Gold Ring Setting with CZ Diamond Accent https://t.co/cc15r0XTFp', u'is_quote_status': False, u'in_reply_to_status_id': None, u'id': 791473295019286528, u'favorite_count': 2, u'source': u'<a href=\"http://twitter.com\" rel=\"nofollow\">Twitter Web Client</a>', u'retweeted': False, u'coordinates': None, u'entities': {u'symbols': [], u'user_mentions': [], u'hashtags': [], u'urls': [{u'url': u'https://t.co/cc15r0XTFp', u'indices': [103, 126], u'expanded_url': u'http://www.shecypearljewelry.com/pearl-ring-jewelry/white-freshwater-pearl-ring-5165-FWR98.html#.WBFsj1JLqBk.twitter', u'display_url': u'shecypearljewelry.com/pearl-ring-jew\\u2026'}]}, u'in_reply_to_screen_name': None, u'in_reply_to_user_id': None, u'retweet_count': 1, u'id_str': u'791473295019286528', u'favorited': False, u'geo': None, u'in_reply_to_user_id_str': None, u'possibly_sensitive': False, u'lang': u'en', u'created_at': u'Thu Oct 27 02:55:13 +0000 2016', u'in_reply_to_status_id_str': None, u'place': None}, u'is_translation_enabled': True, u'utc_offset': -21600, u'statuses_count': 5236, u'description': u'\\u265bhttp://t.co/KEg5TsjcJe\\u2013A professional and reliable online store providing hot selling products at unexpected prices and shipping them globally \\xae.', u'friends_count': 216514, u'location': u'', u'profile_link_color': u'0099B9', u'profile_image_url': u'http://pbs.twimg.com/profile_images/715034098704728064/SFjwFaSr_normal.jpg', u'following': False, u'geo_enabled': False, u'profile_banner_url': u'https://pbs.twimg.com/profile_banners/2936097834/1424936333', u'blocking': False, u'profile_background_image_url': u'http://abs.twimg.com/images/themes/theme4/bg.gif', u'screen_name': u'Buycoolprice', u'lang': u'en-gb', u'profile_background_tile': False, u'favourites_count': 2817, u'name': u'Buycoolprice', u'notifications': False, u'url': u'http://t.co/tdcS88p1tl', u'created_at': u'Fri Dec 19 14:16:19 +0000 2014', u'contributors_enabled': False, u'time_zone': u'Central Time (US & Canada)', u'protected': False, u'default_profile': False, u'is_translator': False}, is_translator=False, geo_enabled=False, entities={u'url': {u'urls': [{u'url': u'http://t.co/tdcS88p1tl', u'indices': [0, 22], u'expanded_url': u'http://www.buycoolprice.com', u'display_url': u'buycoolprice.com'}]}, u'description': {u'urls': [{u'url': u'http://t.co/KEg5TsjcJe', u'indices': [1, 23], u'expanded_url': u'http://Buycoolprice.com', u'display_url': u'Buycoolprice.com'}]}}, followers_count=199217, protected=False, id_str=u'2936097834', default_profile_image=False, listed_count=111, status=Status(contributors=None, truncated=False, text=u'9.0mm-10.0mm White Cultured Freshwater Pearl Ring - 18k Solid Gold Ring Setting with CZ Diamond Accent https://t.co/cc15r0XTFp', is_quote_status=False, in_reply_to_status_id=None, id=791473295019286528, favorite_count=2, _api=<tweepy.api.API object at 0x7f1a242adad0>, source=u'Twitter Web Client', _json={u'contributors': None, u'truncated': False, u'text': u'9.0mm-10.0mm White Cultured Freshwater Pearl Ring - 18k Solid Gold Ring Setting with CZ Diamond Accent https://t.co/cc15r0XTFp', u'is_quote_status': False, u'in_reply_to_status_id': None, u'id': 791473295019286528, u'favorite_count': 2, u'source': u'<a href=\"http://twitter.com\" rel=\"nofollow\">Twitter Web Client</a>', u'retweeted': False, u'coordinates': None, u'entities': {u'symbols': [], u'user_mentions': [], u'hashtags': [], u'urls': [{u'url': u'https://t.co/cc15r0XTFp', u'indices': [103, 126], u'expanded_url': u'http://www.shecypearljewelry.com/pearl-ring-jewelry/white-freshwater-pearl-ring-5165-FWR98.html#.WBFsj1JLqBk.twitter', u'display_url': u'shecypearljewelry.com/pearl-ring-jew\\u2026'}]}, u'in_reply_to_screen_name': None, u'in_reply_to_user_id': None, u'retweet_count': 1, u'id_str': u'791473295019286528', u'favorited': False, u'geo': None, u'in_reply_to_user_id_str': None, u'possibly_sensitive': False, u'lang': u'en', u'created_at': u'Thu Oct 27 02:55:13 +0000 2016', u'in_reply_to_status_id_str': None, u'place': None}, coordinates=None, entities={u'symbols': [], u'user_mentions': [], u'hashtags': [], u'urls': [{u'url': u'https://t.co/cc15r0XTFp', u'indices': [103, 126], u'expanded_url': u'http://www.shecypearljewelry.com/pearl-ring-jewelry/white-freshwater-pearl-ring-5165-FWR98.html#.WBFsj1JLqBk.twitter', u'display_url': u'shecypearljewelry.com/pearl-ring-jew\\u2026'}]}, in_reply_to_screen_name=None, id_str=u'791473295019286528', retweet_count=1, in_reply_to_user_id=None, favorited=False, source_url=u'http://twitter.com', geo=None, in_reply_to_user_id_str=None, possibly_sensitive=False, lang=u'en', created_at=datetime.datetime(2016, 10, 27, 2, 55, 13), in_reply_to_status_id_str=None, place=None, retweeted=False), lang=u'en-gb', utc_offset=-21600, statuses_count=5236, profile_background_color=u'0099B9', friends_count=216514, profile_link_color=u'0099B9', profile_image_url=u'http://pbs.twimg.com/profile_images/715034098704728064/SFjwFaSr_normal.jpg', notifications=False, default_profile=False, profile_background_image_url_https=u'https://abs.twimg.com/images/themes/theme4/bg.gif', profile_banner_url=u'https://pbs.twimg.com/profile_banners/2936097834/1424936333', blocking=False, profile_background_image_url=u'http://abs.twimg.com/images/themes/theme4/bg.gif', name=u'Buycoolprice', is_translation_enabled=True, profile_background_tile=False, favourites_count=2817, screen_name=u'Buycoolprice', url=u'http://t.co/tdcS88p1tl', created_at=datetime.datetime(2014, 12, 19, 14, 16, 19), contributors_enabled=False, location=u'', profile_sidebar_border_color=u'5ED4DC', translator_type=u'none', following=False),\n",
       " User(follow_request_sent=False, has_extended_profile=False, profile_use_background_image=True, profile_sidebar_fill_color=u'DDEEF6', live_following=False, time_zone=None, id=711482174520868864, description=u'', _api=<tweepy.api.API object at 0x7f1a242adad0>, verified=False, blocked_by=False, profile_text_color=u'333333', muting=False, profile_image_url_https=u'https://pbs.twimg.com/profile_images/711490119035912192/okcxZhJV_normal.jpg', _json={u'follow_request_sent': False, u'has_extended_profile': False, u'profile_use_background_image': True, u'live_following': False, u'default_profile_image': False, u'id': 711482174520868864, u'profile_background_image_url_https': None, u'translator_type': u'none', u'verified': False, u'blocked_by': False, u'profile_text_color': u'333333', u'muting': False, u'profile_image_url_https': u'https://pbs.twimg.com/profile_images/711490119035912192/okcxZhJV_normal.jpg', u'profile_sidebar_fill_color': u'DDEEF6', u'entities': {u'description': {u'urls': []}}, u'followers_count': 1, u'profile_sidebar_border_color': u'C0DEED', u'id_str': u'711482174520868864', u'profile_background_color': u'F5F8FA', u'listed_count': 0, u'status': {u'contributors': None, u'truncated': False, u'text': u'https://t.co/bvzev08lAu', u'is_quote_status': False, u'in_reply_to_status_id': None, u'id': 711499981950230529, u'favorite_count': 0, u'source': u'<a href=\"http://twitter.com\" rel=\"nofollow\">Twitter Web Client</a>', u'retweeted': False, u'coordinates': None, u'entities': {u'symbols': [], u'user_mentions': [], u'hashtags': [], u'urls': [{u'url': u'https://t.co/bvzev08lAu', u'indices': [0, 23], u'expanded_url': u'https://it.linkedin.com/in/krasniqi', u'display_url': u'it.linkedin.com/in/krasniqi'}]}, u'in_reply_to_screen_name': None, u'in_reply_to_user_id': None, u'retweet_count': 0, u'id_str': u'711499981950230529', u'favorited': False, u'geo': None, u'in_reply_to_user_id_str': None, u'possibly_sensitive': False, u'lang': u'und', u'created_at': u'Sun Mar 20 10:29:49 +0000 2016', u'in_reply_to_status_id_str': None, u'place': None}, u'is_translation_enabled': False, u'utc_offset': None, u'statuses_count': 1, u'description': u'', u'friends_count': 48, u'location': u'', u'profile_link_color': u'1DA1F2', u'profile_image_url': u'http://pbs.twimg.com/profile_images/711490119035912192/okcxZhJV_normal.jpg', u'following': False, u'geo_enabled': False, u'blocking': False, u'profile_background_image_url': None, u'screen_name': u'GeomKra', u'lang': u'it', u'profile_background_tile': False, u'favourites_count': 1, u'name': u'Arber krasniqi', u'notifications': False, u'url': None, u'created_at': u'Sun Mar 20 09:19:03 +0000 2016', u'contributors_enabled': False, u'time_zone': None, u'protected': False, u'default_profile': True, u'is_translator': False}, is_translator=False, geo_enabled=False, entities={u'description': {u'urls': []}}, followers_count=1, protected=False, id_str=u'711482174520868864', default_profile_image=False, listed_count=0, status=Status(contributors=None, truncated=False, text=u'https://t.co/bvzev08lAu', is_quote_status=False, in_reply_to_status_id=None, id=711499981950230529, favorite_count=0, _api=<tweepy.api.API object at 0x7f1a242adad0>, source=u'Twitter Web Client', _json={u'contributors': None, u'truncated': False, u'text': u'https://t.co/bvzev08lAu', u'is_quote_status': False, u'in_reply_to_status_id': None, u'id': 711499981950230529, u'favorite_count': 0, u'source': u'<a href=\"http://twitter.com\" rel=\"nofollow\">Twitter Web Client</a>', u'retweeted': False, u'coordinates': None, u'entities': {u'symbols': [], u'user_mentions': [], u'hashtags': [], u'urls': [{u'url': u'https://t.co/bvzev08lAu', u'indices': [0, 23], u'expanded_url': u'https://it.linkedin.com/in/krasniqi', u'display_url': u'it.linkedin.com/in/krasniqi'}]}, u'in_reply_to_screen_name': None, u'in_reply_to_user_id': None, u'retweet_count': 0, u'id_str': u'711499981950230529', u'favorited': False, u'geo': None, u'in_reply_to_user_id_str': None, u'possibly_sensitive': False, u'lang': u'und', u'created_at': u'Sun Mar 20 10:29:49 +0000 2016', u'in_reply_to_status_id_str': None, u'place': None}, coordinates=None, entities={u'symbols': [], u'user_mentions': [], u'hashtags': [], u'urls': [{u'url': u'https://t.co/bvzev08lAu', u'indices': [0, 23], u'expanded_url': u'https://it.linkedin.com/in/krasniqi', u'display_url': u'it.linkedin.com/in/krasniqi'}]}, in_reply_to_screen_name=None, id_str=u'711499981950230529', retweet_count=0, in_reply_to_user_id=None, favorited=False, source_url=u'http://twitter.com', geo=None, in_reply_to_user_id_str=None, possibly_sensitive=False, lang=u'und', created_at=datetime.datetime(2016, 3, 20, 10, 29, 49), in_reply_to_status_id_str=None, place=None, retweeted=False), lang=u'it', utc_offset=None, statuses_count=1, profile_background_color=u'F5F8FA', friends_count=48, profile_link_color=u'1DA1F2', profile_image_url=u'http://pbs.twimg.com/profile_images/711490119035912192/okcxZhJV_normal.jpg', notifications=False, default_profile=True, profile_background_image_url_https=None, blocking=False, profile_background_image_url=None, name=u'Arber krasniqi', is_translation_enabled=False, profile_background_tile=False, favourites_count=1, screen_name=u'GeomKra', url=None, created_at=datetime.datetime(2016, 3, 20, 9, 19, 3), contributors_enabled=False, location=u'', profile_sidebar_border_color=u'C0DEED', translator_type=u'none', following=False),\n",
       " User(follow_request_sent=False, has_extended_profile=True, profile_use_background_image=True, profile_sidebar_fill_color=u'000000', live_following=False, time_zone=u'Rome', id=3966335244, description=u'Movimento 5 stelle Aversa', _api=<tweepy.api.API object at 0x7f1a242adad0>, verified=False, blocked_by=False, profile_text_color=u'000000', muting=False, profile_image_url_https=u'https://pbs.twimg.com/profile_images/656724779093757952/MIsKiv7O_normal.jpg', _json={u'follow_request_sent': False, u'has_extended_profile': True, u'profile_use_background_image': True, u'live_following': False, u'default_profile_image': False, u'id': 3966335244, u'profile_background_image_url_https': u'https://pbs.twimg.com/profile_background_images/656752038232109056/s9tfQUPB.jpg', u'translator_type': u'none', u'verified': False, u'blocked_by': False, u'profile_text_color': u'000000', u'muting': False, u'profile_image_url_https': u'https://pbs.twimg.com/profile_images/656724779093757952/MIsKiv7O_normal.jpg', u'profile_sidebar_fill_color': u'000000', u'entities': {u'url': {u'urls': [{u'url': u'https://t.co/ZXHnE6fQ51', u'indices': [0, 23], u'expanded_url': u'http://www.movimento5stelleaversa.it', u'display_url': u'movimento5stelleaversa.it'}]}, u'description': {u'urls': []}}, u'followers_count': 38, u'profile_sidebar_border_color': u'000000', u'id_str': u'3966335244', u'profile_background_color': u'C0DEED', u'listed_count': 0, u'status': {u'contributors': None, u'truncated': False, u'text': u'Cosentino condannato \\u200ba nove anni di carcere - IlGiornale.it https://t.co/3yFH1x8zA3 via @ilgiornale', u'is_quote_status': False, u'in_reply_to_status_id': None, u'id': 799395914859376640, u'favorite_count': 0, u'source': u'<a href=\"http://twitter.com\" rel=\"nofollow\">Twitter Web Client</a>', u'retweeted': False, u'coordinates': None, u'entities': {u'symbols': [], u'user_mentions': [{u'id': 25508589, u'indices': [89, 100], u'id_str': u'25508589', u'screen_name': u'ilgiornale', u'name': u'ilGiornale'}], u'hashtags': [], u'urls': [{u'url': u'https://t.co/3yFH1x8zA3', u'indices': [61, 84], u'expanded_url': u'http://www.ilgiornale.it/news/politica/cosentino-condannato-nove-anni-carcere-1333287.html', u'display_url': u'ilgiornale.it/news/politica/\\u2026'}]}, u'in_reply_to_screen_name': None, u'in_reply_to_user_id': None, u'retweet_count': 0, u'id_str': u'799395914859376640', u'favorited': False, u'geo': None, u'in_reply_to_user_id_str': None, u'possibly_sensitive': True, u'lang': u'it', u'created_at': u'Thu Nov 17 23:36:52 +0000 2016', u'in_reply_to_status_id_str': None, u'place': None}, u'is_translation_enabled': False, u'utc_offset': 3600, u'statuses_count': 59, u'description': u'Movimento 5 stelle Aversa', u'friends_count': 321, u'location': u'Aversa, Campania', u'profile_link_color': u'0084B4', u'profile_image_url': u'http://pbs.twimg.com/profile_images/656724779093757952/MIsKiv7O_normal.jpg', u'following': False, u'geo_enabled': True, u'profile_banner_url': u'https://pbs.twimg.com/profile_banners/3966335244/1467212661', u'blocking': False, u'profile_background_image_url': u'http://pbs.twimg.com/profile_background_images/656752038232109056/s9tfQUPB.jpg', u'screen_name': u'aversa5stelle', u'lang': u'it', u'profile_background_tile': False, u'favourites_count': 0, u'name': u'aversa5stelle', u'notifications': False, u'url': u'https://t.co/ZXHnE6fQ51', u'created_at': u'Wed Oct 21 06:48:15 +0000 2015', u'contributors_enabled': False, u'time_zone': u'Rome', u'protected': False, u'default_profile': False, u'is_translator': False}, is_translator=False, geo_enabled=True, entities={u'url': {u'urls': [{u'url': u'https://t.co/ZXHnE6fQ51', u'indices': [0, 23], u'expanded_url': u'http://www.movimento5stelleaversa.it', u'display_url': u'movimento5stelleaversa.it'}]}, u'description': {u'urls': []}}, followers_count=38, protected=False, id_str=u'3966335244', default_profile_image=False, listed_count=0, status=Status(contributors=None, truncated=False, text=u'Cosentino condannato \\u200ba nove anni di carcere - IlGiornale.it https://t.co/3yFH1x8zA3 via @ilgiornale', is_quote_status=False, in_reply_to_status_id=None, id=799395914859376640, favorite_count=0, _api=<tweepy.api.API object at 0x7f1a242adad0>, source=u'Twitter Web Client', _json={u'contributors': None, u'truncated': False, u'text': u'Cosentino condannato \\u200ba nove anni di carcere - IlGiornale.it https://t.co/3yFH1x8zA3 via @ilgiornale', u'is_quote_status': False, u'in_reply_to_status_id': None, u'id': 799395914859376640, u'favorite_count': 0, u'source': u'<a href=\"http://twitter.com\" rel=\"nofollow\">Twitter Web Client</a>', u'retweeted': False, u'coordinates': None, u'entities': {u'symbols': [], u'user_mentions': [{u'id': 25508589, u'indices': [89, 100], u'id_str': u'25508589', u'screen_name': u'ilgiornale', u'name': u'ilGiornale'}], u'hashtags': [], u'urls': [{u'url': u'https://t.co/3yFH1x8zA3', u'indices': [61, 84], u'expanded_url': u'http://www.ilgiornale.it/news/politica/cosentino-condannato-nove-anni-carcere-1333287.html', u'display_url': u'ilgiornale.it/news/politica/\\u2026'}]}, u'in_reply_to_screen_name': None, u'in_reply_to_user_id': None, u'retweet_count': 0, u'id_str': u'799395914859376640', u'favorited': False, u'geo': None, u'in_reply_to_user_id_str': None, u'possibly_sensitive': True, u'lang': u'it', u'created_at': u'Thu Nov 17 23:36:52 +0000 2016', u'in_reply_to_status_id_str': None, u'place': None}, coordinates=None, entities={u'symbols': [], u'user_mentions': [{u'id': 25508589, u'indices': [89, 100], u'id_str': u'25508589', u'screen_name': u'ilgiornale', u'name': u'ilGiornale'}], u'hashtags': [], u'urls': [{u'url': u'https://t.co/3yFH1x8zA3', u'indices': [61, 84], u'expanded_url': u'http://www.ilgiornale.it/news/politica/cosentino-condannato-nove-anni-carcere-1333287.html', u'display_url': u'ilgiornale.it/news/politica/\\u2026'}]}, in_reply_to_screen_name=None, id_str=u'799395914859376640', retweet_count=0, in_reply_to_user_id=None, favorited=False, source_url=u'http://twitter.com', geo=None, in_reply_to_user_id_str=None, possibly_sensitive=True, lang=u'it', created_at=datetime.datetime(2016, 11, 17, 23, 36, 52), in_reply_to_status_id_str=None, place=None, retweeted=False), lang=u'it', utc_offset=3600, statuses_count=59, profile_background_color=u'C0DEED', friends_count=321, profile_link_color=u'0084B4', profile_image_url=u'http://pbs.twimg.com/profile_images/656724779093757952/MIsKiv7O_normal.jpg', notifications=False, default_profile=False, profile_background_image_url_https=u'https://pbs.twimg.com/profile_background_images/656752038232109056/s9tfQUPB.jpg', profile_banner_url=u'https://pbs.twimg.com/profile_banners/3966335244/1467212661', blocking=False, profile_background_image_url=u'http://pbs.twimg.com/profile_background_images/656752038232109056/s9tfQUPB.jpg', name=u'aversa5stelle', is_translation_enabled=False, profile_background_tile=False, favourites_count=0, screen_name=u'aversa5stelle', url=u'https://t.co/ZXHnE6fQ51', created_at=datetime.datetime(2015, 10, 21, 6, 48, 15), contributors_enabled=False, location=u'Aversa, Campania', profile_sidebar_border_color=u'000000', translator_type=u'none', following=False),\n",
       " User(follow_request_sent=False, has_extended_profile=False, profile_use_background_image=False, profile_sidebar_fill_color=u'000000', live_following=False, time_zone=u'Rome', id=2884191406, description=u'Casette in legno', _api=<tweepy.api.API object at 0x7f1a242adad0>, verified=False, blocked_by=False, profile_text_color=u'000000', muting=False, profile_image_url_https=u'https://pbs.twimg.com/profile_images/535098403542159360/CRy5rGtL_normal.jpeg', _json={u'follow_request_sent': False, u'has_extended_profile': False, u'profile_use_background_image': False, u'live_following': False, u'default_profile_image': False, u'id': 2884191406, u'profile_background_image_url_https': u'https://abs.twimg.com/images/themes/theme1/bg.png', u'translator_type': u'none', u'verified': False, u'blocked_by': False, u'profile_text_color': u'000000', u'muting': False, u'profile_image_url_https': u'https://pbs.twimg.com/profile_images/535098403542159360/CRy5rGtL_normal.jpeg', u'profile_sidebar_fill_color': u'000000', u'entities': {u'url': {u'urls': [{u'url': u'https://t.co/34l9jjwNWF', u'indices': [0, 23], u'expanded_url': u'http://www.woodwebstore.com', u'display_url': u'woodwebstore.com'}]}, u'description': {u'urls': []}}, u'followers_count': 5, u'profile_sidebar_border_color': u'000000', u'id_str': u'2884191406', u'profile_background_color': u'000000', u'listed_count': 0, u'status': {u'contributors': None, u'truncated': False, u'text': u'Questa bellissima casa \\xe8 una delle tante nostre realizzazioni!\\n@woodwebstore @Radio105 @RDS_official \\n#casedilegno https://t.co/8OniXkwGwi', u'is_quote_status': False, u'in_reply_to_status_id': None, u'id': 700962670388842496, u'favorite_count': 0, u'source': u'<a href=\"http://twitter.com\" rel=\"nofollow\">Twitter Web Client</a>', u'retweeted': False, u'coordinates': None, u'entities': {u'symbols': [], u'user_mentions': [{u'id': 2884191406, u'indices': [63, 76], u'id_str': u'2884191406', u'screen_name': u'woodwebstore', u'name': u'Woodwebstore Srl'}, {u'id': 6439122, u'indices': [77, 86], u'id_str': u'6439122', u'screen_name': u'Radio105', u'name': u'Radio 105'}, {u'id': 35694393, u'indices': [87, 100], u'id_str': u'35694393', u'screen_name': u'RDS_official', u'name': u'RDS'}], u'hashtags': [{u'indices': [102, 114], u'text': u'casedilegno'}], u'urls': [], u'media': [{u'expanded_url': u'https://twitter.com/woodwebstore/status/700962670388842496/photo/1', u'display_url': u'pic.twitter.com/8OniXkwGwi', u'url': u'https://t.co/8OniXkwGwi', u'media_url_https': u'https://pbs.twimg.com/media/CbpR1XEWIAA9uqj.jpg', u'id_str': u'700962669176692736', u'sizes': {u'large': {u'h': 719, u'resize': u'fit', u'w': 960}, u'small': {u'h': 509, u'resize': u'fit', u'w': 680}, u'medium': {u'h': 719, u'resize': u'fit', u'w': 960}, u'thumb': {u'h': 150, u'resize': u'crop', u'w': 150}}, u'indices': [115, 138], u'type': u'photo', u'id': 700962669176692736, u'media_url': u'http://pbs.twimg.com/media/CbpR1XEWIAA9uqj.jpg'}]}, u'in_reply_to_screen_name': None, u'in_reply_to_user_id': None, u'retweet_count': 0, u'id_str': u'700962670388842496', u'favorited': False, u'geo': None, u'in_reply_to_user_id_str': None, u'possibly_sensitive': False, u'lang': u'it', u'created_at': u'Sat Feb 20 08:38:18 +0000 2016', u'in_reply_to_status_id_str': None, u'place': {u'full_name': u'Foggia, Puglia', u'url': u'https://api.twitter.com/1.1/geo/id/69ea85b235fbc6ac.json', u'country': u'Italia', u'place_type': u'city', u'bounding_box': {u'type': u'Polygon', u'coordinates': [[[15.4290987, 41.3305079], [15.7884032, 41.3305079], [15.7884032, 41.6117748], [15.4290987, 41.6117748]]]}, u'contained_within': [], u'country_code': u'IT', u'attributes': {}, u'id': u'69ea85b235fbc6ac', u'name': u'Foggia'}, u'extended_entities': {u'media': [{u'expanded_url': u'https://twitter.com/woodwebstore/status/700962670388842496/photo/1', u'display_url': u'pic.twitter.com/8OniXkwGwi', u'url': u'https://t.co/8OniXkwGwi', u'media_url_https': u'https://pbs.twimg.com/media/CbpR1XEWIAA9uqj.jpg', u'id_str': u'700962669176692736', u'sizes': {u'large': {u'h': 719, u'resize': u'fit', u'w': 960}, u'small': {u'h': 509, u'resize': u'fit', u'w': 680}, u'medium': {u'h': 719, u'resize': u'fit', u'w': 960}, u'thumb': {u'h': 150, u'resize': u'crop', u'w': 150}}, u'indices': [115, 138], u'type': u'photo', u'id': 700962669176692736, u'media_url': u'http://pbs.twimg.com/media/CbpR1XEWIAA9uqj.jpg'}]}}, u'is_translation_enabled': False, u'utc_offset': 3600, u'statuses_count': 53, u'description': u'Casette in legno', u'friends_count': 139, u'location': u'Manfredonia, Puglia', u'profile_link_color': u'7FDBB6', u'profile_image_url': u'http://pbs.twimg.com/profile_images/535098403542159360/CRy5rGtL_normal.jpeg', u'following': False, u'geo_enabled': True, u'profile_banner_url': u'https://pbs.twimg.com/profile_banners/2884191406/1416471721', u'blocking': False, u'profile_background_image_url': u'http://abs.twimg.com/images/themes/theme1/bg.png', u'screen_name': u'woodwebstore', u'lang': u'it', u'profile_background_tile': False, u'favourites_count': 5, u'name': u'Woodwebstore Srl', u'notifications': False, u'url': u'https://t.co/34l9jjwNWF', u'created_at': u'Wed Nov 19 15:47:04 +0000 2014', u'contributors_enabled': False, u'time_zone': u'Rome', u'protected': False, u'default_profile': False, u'is_translator': False}, is_translator=False, geo_enabled=True, entities={u'url': {u'urls': [{u'url': u'https://t.co/34l9jjwNWF', u'indices': [0, 23], u'expanded_url': u'http://www.woodwebstore.com', u'display_url': u'woodwebstore.com'}]}, u'description': {u'urls': []}}, followers_count=5, protected=False, id_str=u'2884191406', default_profile_image=False, listed_count=0, status=Status(contributors=None, truncated=False, text=u'Questa bellissima casa \\xe8 una delle tante nostre realizzazioni!\\n@woodwebstore @Radio105 @RDS_official \\n#casedilegno https://t.co/8OniXkwGwi', is_quote_status=False, in_reply_to_status_id=None, id=700962670388842496, favorite_count=0, _api=<tweepy.api.API object at 0x7f1a242adad0>, source=u'Twitter Web Client', _json={u'contributors': None, u'truncated': False, u'text': u'Questa bellissima casa \\xe8 una delle tante nostre realizzazioni!\\n@woodwebstore @Radio105 @RDS_official \\n#casedilegno https://t.co/8OniXkwGwi', u'is_quote_status': False, u'in_reply_to_status_id': None, u'id': 700962670388842496, u'favorite_count': 0, u'source': u'<a href=\"http://twitter.com\" rel=\"nofollow\">Twitter Web Client</a>', u'retweeted': False, u'coordinates': None, u'entities': {u'symbols': [], u'user_mentions': [{u'id': 2884191406, u'indices': [63, 76], u'id_str': u'2884191406', u'screen_name': u'woodwebstore', u'name': u'Woodwebstore Srl'}, {u'id': 6439122, u'indices': [77, 86], u'id_str': u'6439122', u'screen_name': u'Radio105', u'name': u'Radio 105'}, {u'id': 35694393, u'indices': [87, 100], u'id_str': u'35694393', u'screen_name': u'RDS_official', u'name': u'RDS'}], u'hashtags': [{u'indices': [102, 114], u'text': u'casedilegno'}], u'urls': [], u'media': [{u'expanded_url': u'https://twitter.com/woodwebstore/status/700962670388842496/photo/1', u'display_url': u'pic.twitter.com/8OniXkwGwi', u'url': u'https://t.co/8OniXkwGwi', u'media_url_https': u'https://pbs.twimg.com/media/CbpR1XEWIAA9uqj.jpg', u'id_str': u'700962669176692736', u'sizes': {u'large': {u'h': 719, u'resize': u'fit', u'w': 960}, u'small': {u'h': 509, u'resize': u'fit', u'w': 680}, u'medium': {u'h': 719, u'resize': u'fit', u'w': 960}, u'thumb': {u'h': 150, u'resize': u'crop', u'w': 150}}, u'indices': [115, 138], u'type': u'photo', u'id': 700962669176692736, u'media_url': u'http://pbs.twimg.com/media/CbpR1XEWIAA9uqj.jpg'}]}, u'in_reply_to_screen_name': None, u'in_reply_to_user_id': None, u'retweet_count': 0, u'id_str': u'700962670388842496', u'favorited': False, u'geo': None, u'in_reply_to_user_id_str': None, u'possibly_sensitive': False, u'lang': u'it', u'created_at': u'Sat Feb 20 08:38:18 +0000 2016', u'in_reply_to_status_id_str': None, u'place': {u'full_name': u'Foggia, Puglia', u'url': u'https://api.twitter.com/1.1/geo/id/69ea85b235fbc6ac.json', u'country': u'Italia', u'place_type': u'city', u'bounding_box': {u'type': u'Polygon', u'coordinates': [[[15.4290987, 41.3305079], [15.7884032, 41.3305079], [15.7884032, 41.6117748], [15.4290987, 41.6117748]]]}, u'contained_within': [], u'country_code': u'IT', u'attributes': {}, u'id': u'69ea85b235fbc6ac', u'name': u'Foggia'}, u'extended_entities': {u'media': [{u'expanded_url': u'https://twitter.com/woodwebstore/status/700962670388842496/photo/1', u'display_url': u'pic.twitter.com/8OniXkwGwi', u'url': u'https://t.co/8OniXkwGwi', u'media_url_https': u'https://pbs.twimg.com/media/CbpR1XEWIAA9uqj.jpg', u'id_str': u'700962669176692736', u'sizes': {u'large': {u'h': 719, u'resize': u'fit', u'w': 960}, u'small': {u'h': 509, u'resize': u'fit', u'w': 680}, u'medium': {u'h': 719, u'resize': u'fit', u'w': 960}, u'thumb': {u'h': 150, u'resize': u'crop', u'w': 150}}, u'indices': [115, 138], u'type': u'photo', u'id': 700962669176692736, u'media_url': u'http://pbs.twimg.com/media/CbpR1XEWIAA9uqj.jpg'}]}}, coordinates=None, entities={u'symbols': [], u'user_mentions': [{u'id': 2884191406, u'indices': [63, 76], u'id_str': u'2884191406', u'screen_name': u'woodwebstore', u'name': u'Woodwebstore Srl'}, {u'id': 6439122, u'indices': [77, 86], u'id_str': u'6439122', u'screen_name': u'Radio105', u'name': u'Radio 105'}, {u'id': 35694393, u'indices': [87, 100], u'id_str': u'35694393', u'screen_name': u'RDS_official', u'name': u'RDS'}], u'hashtags': [{u'indices': [102, 114], u'text': u'casedilegno'}], u'urls': [], u'media': [{u'expanded_url': u'https://twitter.com/woodwebstore/status/700962670388842496/photo/1', u'display_url': u'pic.twitter.com/8OniXkwGwi', u'url': u'https://t.co/8OniXkwGwi', u'media_url_https': u'https://pbs.twimg.com/media/CbpR1XEWIAA9uqj.jpg', u'id_str': u'700962669176692736', u'sizes': {u'large': {u'h': 719, u'resize': u'fit', u'w': 960}, u'small': {u'h': 509, u'resize': u'fit', u'w': 680}, u'medium': {u'h': 719, u'resize': u'fit', u'w': 960}, u'thumb': {u'h': 150, u'resize': u'crop', u'w': 150}}, u'indices': [115, 138], u'type': u'photo', u'id': 700962669176692736, u'media_url': u'http://pbs.twimg.com/media/CbpR1XEWIAA9uqj.jpg'}]}, in_reply_to_screen_name=None, id_str=u'700962670388842496', retweet_count=0, in_reply_to_user_id=None, favorited=False, source_url=u'http://twitter.com', geo=None, in_reply_to_user_id_str=None, possibly_sensitive=False, lang=u'it', created_at=datetime.datetime(2016, 2, 20, 8, 38, 18), in_reply_to_status_id_str=None, place=Place(_api=<tweepy.api.API object at 0x7f1a242adad0>, country_code=u'IT', url=u'https://api.twitter.com/1.1/geo/id/69ea85b235fbc6ac.json', country=u'Italia', place_type=u'city', bounding_box=BoundingBox(_api=<tweepy.api.API object at 0x7f1a242adad0>, type=u'Polygon', coordinates=[[[15.4290987, 41.3305079], [15.7884032, 41.3305079], [15.7884032, 41.6117748], [15.4290987, 41.6117748]]]), contained_within=[], full_name=u'Foggia, Puglia', attributes={}, id=u'69ea85b235fbc6ac', name=u'Foggia'), extended_entities={u'media': [{u'expanded_url': u'https://twitter.com/woodwebstore/status/700962670388842496/photo/1', u'display_url': u'pic.twitter.com/8OniXkwGwi', u'url': u'https://t.co/8OniXkwGwi', u'media_url_https': u'https://pbs.twimg.com/media/CbpR1XEWIAA9uqj.jpg', u'id_str': u'700962669176692736', u'sizes': {u'large': {u'h': 719, u'resize': u'fit', u'w': 960}, u'small': {u'h': 509, u'resize': u'fit', u'w': 680}, u'medium': {u'h': 719, u'resize': u'fit', u'w': 960}, u'thumb': {u'h': 150, u'resize': u'crop', u'w': 150}}, u'indices': [115, 138], u'type': u'photo', u'id': 700962669176692736, u'media_url': u'http://pbs.twimg.com/media/CbpR1XEWIAA9uqj.jpg'}]}, retweeted=False), lang=u'it', utc_offset=3600, statuses_count=53, profile_background_color=u'000000', friends_count=139, profile_link_color=u'7FDBB6', profile_image_url=u'http://pbs.twimg.com/profile_images/535098403542159360/CRy5rGtL_normal.jpeg', notifications=False, default_profile=False, profile_background_image_url_https=u'https://abs.twimg.com/images/themes/theme1/bg.png', profile_banner_url=u'https://pbs.twimg.com/profile_banners/2884191406/1416471721', blocking=False, profile_background_image_url=u'http://abs.twimg.com/images/themes/theme1/bg.png', name=u'Woodwebstore Srl', is_translation_enabled=False, profile_background_tile=False, favourites_count=5, screen_name=u'woodwebstore', url=u'https://t.co/34l9jjwNWF', created_at=datetime.datetime(2014, 11, 19, 15, 47, 4), contributors_enabled=False, location=u'Manfredonia, Puglia', profile_sidebar_border_color=u'000000', translator_type=u'none', following=False),\n",
       " User(follow_request_sent=False, has_extended_profile=False, profile_use_background_image=True, profile_sidebar_fill_color=u'DDEEF6', live_following=False, time_zone=None, id=2319493912, description=u'', _api=<tweepy.api.API object at 0x7f1a242adad0>, verified=False, blocked_by=False, profile_text_color=u'333333', muting=False, profile_image_url_https=u'https://pbs.twimg.com/profile_images/495297115867066368/QP3JsfVv_normal.jpeg', _json={u'follow_request_sent': False, u'has_extended_profile': False, u'profile_use_background_image': True, u'live_following': False, u'default_profile_image': False, u'id': 2319493912, u'profile_background_image_url_https': u'https://abs.twimg.com/images/themes/theme1/bg.png', u'translator_type': u'none', u'verified': False, u'blocked_by': False, u'profile_text_color': u'333333', u'muting': False, u'profile_image_url_https': u'https://pbs.twimg.com/profile_images/495297115867066368/QP3JsfVv_normal.jpeg', u'profile_sidebar_fill_color': u'DDEEF6', u'entities': {u'description': {u'urls': []}}, u'followers_count': 5, u'profile_sidebar_border_color': u'C0DEED', u'id_str': u'2319493912', u'profile_background_color': u'C0DEED', u'listed_count': 0, u'status': {u'contributors': None, u'truncated': False, u'text': u'RT @la_stampa: L\\u2019economia mondiale cresce, le emissioni di CO2 invece no | @RobertoGiov https://t.co/X0ecQLlQNJ https://t.co/yQuuNWkwLA', u'is_quote_status': False, u'in_reply_to_status_id': None, u'id': 710170839174488064, u'favorite_count': 0, u'source': u'<a href=\"http://twitter.com/download/android\" rel=\"nofollow\">Twitter for Android</a>', u'retweeted': False, u'coordinates': None, u'entities': {u'symbols': [], u'user_mentions': [{u'id': 716767568770498564, u'indices': [3, 13], u'id_str': u'716767568770498564', u'screen_name': u'la_stampa', u'name': u'La Stampa'}, {u'id': 398623527, u'indices': [75, 87], u'id_str': u'398623527', u'screen_name': u'RobertoGiov', u'name': u'Roberto Giovannini'}], u'hashtags': [], u'urls': [{u'url': u'https://t.co/X0ecQLlQNJ', u'indices': [88, 111], u'expanded_url': u'http://www.lastampa.it/2016/03/16/scienza/ambiente/focus/benvenuto-decoupling-leconomia-mondiale-cresce-le-emissioni-di-co-invece-no-JGbCjc28AohqMbybwKKRbN/pagina.html', u'display_url': u'lastampa.it/2016/03/16/sci\\u2026'}], u'media': [{u'source_user_id': 29416653, u'source_status_id_str': u'710129789051346944', u'expanded_url': u'https://twitter.com/la_stampa/status/710129789051346944/photo/1', u'display_url': u'pic.twitter.com/yQuuNWkwLA', u'url': u'https://t.co/yQuuNWkwLA', u'media_url_https': u'https://pbs.twimg.com/media/CdrbX-nWAAAVasz.jpg', u'source_user_id_str': u'29416653', u'source_status_id': 710129789051346944, u'id_str': u'710121096255766528', u'sizes': {u'small': {u'h': 191, u'resize': u'fit', u'w': 340}, u'large': {u'h': 563, u'resize': u'fit', u'w': 1000}, u'medium': {u'h': 338, u'resize': u'fit', u'w': 600}, u'thumb': {u'h': 150, u'resize': u'crop', u'w': 150}}, u'indices': [112, 135], u'type': u'photo', u'id': 710121096255766528, u'media_url': u'http://pbs.twimg.com/media/CdrbX-nWAAAVasz.jpg'}]}, u'in_reply_to_screen_name': None, u'in_reply_to_user_id': None, u'retweet_count': 10, u'id_str': u'710170839174488064', u'favorited': False, u'retweeted_status': {u'contributors': None, u'truncated': False, u'text': u'L\\u2019economia mondiale cresce, le emissioni di CO2 invece no | @RobertoGiov https://t.co/X0ecQLlQNJ https://t.co/yQuuNWkwLA', u'is_quote_status': False, u'in_reply_to_status_id': None, u'id': 710129789051346944, u'favorite_count': 6, u'source': u'<a href=\"https://about.twitter.com/products/tweetdeck\" rel=\"nofollow\">TweetDeck</a>', u'retweeted': False, u'coordinates': None, u'entities': {u'symbols': [], u'user_mentions': [{u'id': 398623527, u'indices': [60, 72], u'id_str': u'398623527', u'screen_name': u'RobertoGiov', u'name': u'Roberto Giovannini'}], u'hashtags': [], u'urls': [{u'url': u'https://t.co/X0ecQLlQNJ', u'indices': [73, 96], u'expanded_url': u'http://www.lastampa.it/2016/03/16/scienza/ambiente/focus/benvenuto-decoupling-leconomia-mondiale-cresce-le-emissioni-di-co-invece-no-JGbCjc28AohqMbybwKKRbN/pagina.html', u'display_url': u'lastampa.it/2016/03/16/sci\\u2026'}], u'media': [{u'expanded_url': u'https://twitter.com/la_stampa/status/710129789051346944/photo/1', u'display_url': u'pic.twitter.com/yQuuNWkwLA', u'url': u'https://t.co/yQuuNWkwLA', u'media_url_https': u'https://pbs.twimg.com/media/CdrbX-nWAAAVasz.jpg', u'id_str': u'710121096255766528', u'sizes': {u'small': {u'h': 191, u'resize': u'fit', u'w': 340}, u'large': {u'h': 563, u'resize': u'fit', u'w': 1000}, u'medium': {u'h': 338, u'resize': u'fit', u'w': 600}, u'thumb': {u'h': 150, u'resize': u'crop', u'w': 150}}, u'indices': [97, 120], u'type': u'photo', u'id': 710121096255766528, u'media_url': u'http://pbs.twimg.com/media/CdrbX-nWAAAVasz.jpg'}]}, u'in_reply_to_screen_name': None, u'in_reply_to_user_id': None, u'retweet_count': 10, u'id_str': u'710129789051346944', u'favorited': False, u'geo': None, u'in_reply_to_user_id_str': None, u'possibly_sensitive': False, u'lang': u'it', u'created_at': u'Wed Mar 16 15:45:09 +0000 2016', u'in_reply_to_status_id_str': None, u'place': None, u'extended_entities': {u'media': [{u'expanded_url': u'https://twitter.com/la_stampa/status/710129789051346944/photo/1', u'display_url': u'pic.twitter.com/yQuuNWkwLA', u'url': u'https://t.co/yQuuNWkwLA', u'media_url_https': u'https://pbs.twimg.com/media/CdrbX-nWAAAVasz.jpg', u'id_str': u'710121096255766528', u'sizes': {u'small': {u'h': 191, u'resize': u'fit', u'w': 340}, u'large': {u'h': 563, u'resize': u'fit', u'w': 1000}, u'medium': {u'h': 338, u'resize': u'fit', u'w': 600}, u'thumb': {u'h': 150, u'resize': u'crop', u'w': 150}}, u'indices': [97, 120], u'type': u'photo', u'id': 710121096255766528, u'media_url': u'http://pbs.twimg.com/media/CdrbX-nWAAAVasz.jpg'}]}}, u'geo': None, u'in_reply_to_user_id_str': None, u'possibly_sensitive': False, u'lang': u'it', u'created_at': u'Wed Mar 16 18:28:17 +0000 2016', u'in_reply_to_status_id_str': None, u'place': None, u'extended_entities': {u'media': [{u'source_user_id': 29416653, u'source_status_id_str': u'710129789051346944', u'expanded_url': u'https://twitter.com/la_stampa/status/710129789051346944/photo/1', u'display_url': u'pic.twitter.com/yQuuNWkwLA', u'url': u'https://t.co/yQuuNWkwLA', u'media_url_https': u'https://pbs.twimg.com/media/CdrbX-nWAAAVasz.jpg', u'source_user_id_str': u'29416653', u'source_status_id': 710129789051346944, u'id_str': u'710121096255766528', u'sizes': {u'small': {u'h': 191, u'resize': u'fit', u'w': 340}, u'large': {u'h': 563, u'resize': u'fit', u'w': 1000}, u'medium': {u'h': 338, u'resize': u'fit', u'w': 600}, u'thumb': {u'h': 150, u'resize': u'crop', u'w': 150}}, u'indices': [112, 135], u'type': u'photo', u'id': 710121096255766528, u'media_url': u'http://pbs.twimg.com/media/CdrbX-nWAAAVasz.jpg'}]}}, u'is_translation_enabled': False, u'utc_offset': None, u'statuses_count': 12, u'description': u'', u'friends_count': 27, u'location': u'', u'profile_link_color': u'1DA1F2', u'profile_image_url': u'http://pbs.twimg.com/profile_images/495297115867066368/QP3JsfVv_normal.jpeg', u'following': False, u'geo_enabled': False, u'blocking': False, u'profile_background_image_url': u'http://abs.twimg.com/images/themes/theme1/bg.png', u'screen_name': u'andrecoro79', u'lang': u'en', u'profile_background_tile': False, u'favourites_count': 2, u'name': u'andrecoro', u'notifications': False, u'url': None, u'created_at': u'Sun Feb 02 06:50:55 +0000 2014', u'contributors_enabled': False, u'time_zone': None, u'protected': False, u'default_profile': True, u'is_translator': False}, is_translator=False, geo_enabled=False, entities={u'description': {u'urls': []}}, followers_count=5, protected=False, id_str=u'2319493912', default_profile_image=False, listed_count=0, status=Status(contributors=None, truncated=False, text=u'RT @la_stampa: L\\u2019economia mondiale cresce, le emissioni di CO2 invece no | @RobertoGiov https://t.co/X0ecQLlQNJ https://t.co/yQuuNWkwLA', is_quote_status=False, in_reply_to_status_id=None, id=710170839174488064, favorite_count=0, _api=<tweepy.api.API object at 0x7f1a242adad0>, source=u'Twitter for Android', _json={u'contributors': None, u'truncated': False, u'text': u'RT @la_stampa: L\\u2019economia mondiale cresce, le emissioni di CO2 invece no | @RobertoGiov https://t.co/X0ecQLlQNJ https://t.co/yQuuNWkwLA', u'is_quote_status': False, u'in_reply_to_status_id': None, u'id': 710170839174488064, u'favorite_count': 0, u'source': u'<a href=\"http://twitter.com/download/android\" rel=\"nofollow\">Twitter for Android</a>', u'retweeted': False, u'coordinates': None, u'entities': {u'symbols': [], u'user_mentions': [{u'id': 716767568770498564, u'indices': [3, 13], u'id_str': u'716767568770498564', u'screen_name': u'la_stampa', u'name': u'La Stampa'}, {u'id': 398623527, u'indices': [75, 87], u'id_str': u'398623527', u'screen_name': u'RobertoGiov', u'name': u'Roberto Giovannini'}], u'hashtags': [], u'urls': [{u'url': u'https://t.co/X0ecQLlQNJ', u'indices': [88, 111], u'expanded_url': u'http://www.lastampa.it/2016/03/16/scienza/ambiente/focus/benvenuto-decoupling-leconomia-mondiale-cresce-le-emissioni-di-co-invece-no-JGbCjc28AohqMbybwKKRbN/pagina.html', u'display_url': u'lastampa.it/2016/03/16/sci\\u2026'}], u'media': [{u'source_user_id': 29416653, u'source_status_id_str': u'710129789051346944', u'expanded_url': u'https://twitter.com/la_stampa/status/710129789051346944/photo/1', u'display_url': u'pic.twitter.com/yQuuNWkwLA', u'url': u'https://t.co/yQuuNWkwLA', u'media_url_https': u'https://pbs.twimg.com/media/CdrbX-nWAAAVasz.jpg', u'source_user_id_str': u'29416653', u'source_status_id': 710129789051346944, u'id_str': u'710121096255766528', u'sizes': {u'small': {u'h': 191, u'resize': u'fit', u'w': 340}, u'large': {u'h': 563, u'resize': u'fit', u'w': 1000}, u'medium': {u'h': 338, u'resize': u'fit', u'w': 600}, u'thumb': {u'h': 150, u'resize': u'crop', u'w': 150}}, u'indices': [112, 135], u'type': u'photo', u'id': 710121096255766528, u'media_url': u'http://pbs.twimg.com/media/CdrbX-nWAAAVasz.jpg'}]}, u'in_reply_to_screen_name': None, u'in_reply_to_user_id': None, u'retweet_count': 10, u'id_str': u'710170839174488064', u'favorited': False, u'retweeted_status': {u'contributors': None, u'truncated': False, u'text': u'L\\u2019economia mondiale cresce, le emissioni di CO2 invece no | @RobertoGiov https://t.co/X0ecQLlQNJ https://t.co/yQuuNWkwLA', u'is_quote_status': False, u'in_reply_to_status_id': None, u'id': 710129789051346944, u'favorite_count': 6, u'source': u'<a href=\"https://about.twitter.com/products/tweetdeck\" rel=\"nofollow\">TweetDeck</a>', u'retweeted': False, u'coordinates': None, u'entities': {u'symbols': [], u'user_mentions': [{u'id': 398623527, u'indices': [60, 72], u'id_str': u'398623527', u'screen_name': u'RobertoGiov', u'name': u'Roberto Giovannini'}], u'hashtags': [], u'urls': [{u'url': u'https://t.co/X0ecQLlQNJ', u'indices': [73, 96], u'expanded_url': u'http://www.lastampa.it/2016/03/16/scienza/ambiente/focus/benvenuto-decoupling-leconomia-mondiale-cresce-le-emissioni-di-co-invece-no-JGbCjc28AohqMbybwKKRbN/pagina.html', u'display_url': u'lastampa.it/2016/03/16/sci\\u2026'}], u'media': [{u'expanded_url': u'https://twitter.com/la_stampa/status/710129789051346944/photo/1', u'display_url': u'pic.twitter.com/yQuuNWkwLA', u'url': u'https://t.co/yQuuNWkwLA', u'media_url_https': u'https://pbs.twimg.com/media/CdrbX-nWAAAVasz.jpg', u'id_str': u'710121096255766528', u'sizes': {u'small': {u'h': 191, u'resize': u'fit', u'w': 340}, u'large': {u'h': 563, u'resize': u'fit', u'w': 1000}, u'medium': {u'h': 338, u'resize': u'fit', u'w': 600}, u'thumb': {u'h': 150, u'resize': u'crop', u'w': 150}}, u'indices': [97, 120], u'type': u'photo', u'id': 710121096255766528, u'media_url': u'http://pbs.twimg.com/media/CdrbX-nWAAAVasz.jpg'}]}, u'in_reply_to_screen_name': None, u'in_reply_to_user_id': None, u'retweet_count': 10, u'id_str': u'710129789051346944', u'favorited': False, u'geo': None, u'in_reply_to_user_id_str': None, u'possibly_sensitive': False, u'lang': u'it', u'created_at': u'Wed Mar 16 15:45:09 +0000 2016', u'in_reply_to_status_id_str': None, u'place': None, u'extended_entities': {u'media': [{u'expanded_url': u'https://twitter.com/la_stampa/status/710129789051346944/photo/1', u'display_url': u'pic.twitter.com/yQuuNWkwLA', u'url': u'https://t.co/yQuuNWkwLA', u'media_url_https': u'https://pbs.twimg.com/media/CdrbX-nWAAAVasz.jpg', u'id_str': u'710121096255766528', u'sizes': {u'small': {u'h': 191, u'resize': u'fit', u'w': 340}, u'large': {u'h': 563, u'resize': u'fit', u'w': 1000}, u'medium': {u'h': 338, u'resize': u'fit', u'w': 600}, u'thumb': {u'h': 150, u'resize': u'crop', u'w': 150}}, u'indices': [97, 120], u'type': u'photo', u'id': 710121096255766528, u'media_url': u'http://pbs.twimg.com/media/CdrbX-nWAAAVasz.jpg'}]}}, u'geo': None, u'in_reply_to_user_id_str': None, u'possibly_sensitive': False, u'lang': u'it', u'created_at': u'Wed Mar 16 18:28:17 +0000 2016', u'in_reply_to_status_id_str': None, u'place': None, u'extended_entities': {u'media': [{u'source_user_id': 29416653, u'source_status_id_str': u'710129789051346944', u'expanded_url': u'https://twitter.com/la_stampa/status/710129789051346944/photo/1', u'display_url': u'pic.twitter.com/yQuuNWkwLA', u'url': u'https://t.co/yQuuNWkwLA', u'media_url_https': u'https://pbs.twimg.com/media/CdrbX-nWAAAVasz.jpg', u'source_user_id_str': u'29416653', u'source_status_id': 710129789051346944, u'id_str': u'710121096255766528', u'sizes': {u'small': {u'h': 191, u'resize': u'fit', u'w': 340}, u'large': {u'h': 563, u'resize': u'fit', u'w': 1000}, u'medium': {u'h': 338, u'resize': u'fit', u'w': 600}, u'thumb': {u'h': 150, u'resize': u'crop', u'w': 150}}, u'indices': [112, 135], u'type': u'photo', u'id': 710121096255766528, u'media_url': u'http://pbs.twimg.com/media/CdrbX-nWAAAVasz.jpg'}]}}, coordinates=None, entities={u'symbols': [], u'user_mentions': [{u'id': 716767568770498564, u'indices': [3, 13], u'id_str': u'716767568770498564', u'screen_name': u'la_stampa', u'name': u'La Stampa'}, {u'id': 398623527, u'indices': [75, 87], u'id_str': u'398623527', u'screen_name': u'RobertoGiov', u'name': u'Roberto Giovannini'}], u'hashtags': [], u'urls': [{u'url': u'https://t.co/X0ecQLlQNJ', u'indices': [88, 111], u'expanded_url': u'http://www.lastampa.it/2016/03/16/scienza/ambiente/focus/benvenuto-decoupling-leconomia-mondiale-cresce-le-emissioni-di-co-invece-no-JGbCjc28AohqMbybwKKRbN/pagina.html', u'display_url': u'lastampa.it/2016/03/16/sci\\u2026'}], u'media': [{u'source_user_id': 29416653, u'source_status_id_str': u'710129789051346944', u'expanded_url': u'https://twitter.com/la_stampa/status/710129789051346944/photo/1', u'display_url': u'pic.twitter.com/yQuuNWkwLA', u'url': u'https://t.co/yQuuNWkwLA', u'media_url_https': u'https://pbs.twimg.com/media/CdrbX-nWAAAVasz.jpg', u'source_user_id_str': u'29416653', u'source_status_id': 710129789051346944, u'id_str': u'710121096255766528', u'sizes': {u'small': {u'h': 191, u'resize': u'fit', u'w': 340}, u'large': {u'h': 563, u'resize': u'fit', u'w': 1000}, u'medium': {u'h': 338, u'resize': u'fit', u'w': 600}, u'thumb': {u'h': 150, u'resize': u'crop', u'w': 150}}, u'indices': [112, 135], u'type': u'photo', u'id': 710121096255766528, u'media_url': u'http://pbs.twimg.com/media/CdrbX-nWAAAVasz.jpg'}]}, in_reply_to_screen_name=None, id_str=u'710170839174488064', retweet_count=10, in_reply_to_user_id=None, favorited=False, retweeted_status=Status(contributors=None, truncated=False, text=u'L\\u2019economia mondiale cresce, le emissioni di CO2 invece no | @RobertoGiov https://t.co/X0ecQLlQNJ https://t.co/yQuuNWkwLA', is_quote_status=False, in_reply_to_status_id=None, id=710129789051346944, favorite_count=6, _api=<tweepy.api.API object at 0x7f1a242adad0>, source=u'TweetDeck', _json={u'contributors': None, u'truncated': False, u'text': u'L\\u2019economia mondiale cresce, le emissioni di CO2 invece no | @RobertoGiov https://t.co/X0ecQLlQNJ https://t.co/yQuuNWkwLA', u'is_quote_status': False, u'in_reply_to_status_id': None, u'id': 710129789051346944, u'favorite_count': 6, u'source': u'<a href=\"https://about.twitter.com/products/tweetdeck\" rel=\"nofollow\">TweetDeck</a>', u'retweeted': False, u'coordinates': None, u'entities': {u'symbols': [], u'user_mentions': [{u'id': 398623527, u'indices': [60, 72], u'id_str': u'398623527', u'screen_name': u'RobertoGiov', u'name': u'Roberto Giovannini'}], u'hashtags': [], u'urls': [{u'url': u'https://t.co/X0ecQLlQNJ', u'indices': [73, 96], u'expanded_url': u'http://www.lastampa.it/2016/03/16/scienza/ambiente/focus/benvenuto-decoupling-leconomia-mondiale-cresce-le-emissioni-di-co-invece-no-JGbCjc28AohqMbybwKKRbN/pagina.html', u'display_url': u'lastampa.it/2016/03/16/sci\\u2026'}], u'media': [{u'expanded_url': u'https://twitter.com/la_stampa/status/710129789051346944/photo/1', u'display_url': u'pic.twitter.com/yQuuNWkwLA', u'url': u'https://t.co/yQuuNWkwLA', u'media_url_https': u'https://pbs.twimg.com/media/CdrbX-nWAAAVasz.jpg', u'id_str': u'710121096255766528', u'sizes': {u'small': {u'h': 191, u'resize': u'fit', u'w': 340}, u'large': {u'h': 563, u'resize': u'fit', u'w': 1000}, u'medium': {u'h': 338, u'resize': u'fit', u'w': 600}, u'thumb': {u'h': 150, u'resize': u'crop', u'w': 150}}, u'indices': [97, 120], u'type': u'photo', u'id': 710121096255766528, u'media_url': u'http://pbs.twimg.com/media/CdrbX-nWAAAVasz.jpg'}]}, u'in_reply_to_screen_name': None, u'in_reply_to_user_id': None, u'retweet_count': 10, u'id_str': u'710129789051346944', u'favorited': False, u'geo': None, u'in_reply_to_user_id_str': None, u'possibly_sensitive': False, u'lang': u'it', u'created_at': u'Wed Mar 16 15:45:09 +0000 2016', u'in_reply_to_status_id_str': None, u'place': None, u'extended_entities': {u'media': [{u'expanded_url': u'https://twitter.com/la_stampa/status/710129789051346944/photo/1', u'display_url': u'pic.twitter.com/yQuuNWkwLA', u'url': u'https://t.co/yQuuNWkwLA', u'media_url_https': u'https://pbs.twimg.com/media/CdrbX-nWAAAVasz.jpg', u'id_str': u'710121096255766528', u'sizes': {u'small': {u'h': 191, u'resize': u'fit', u'w': 340}, u'large': {u'h': 563, u'resize': u'fit', u'w': 1000}, u'medium': {u'h': 338, u'resize': u'fit', u'w': 600}, u'thumb': {u'h': 150, u'resize': u'crop', u'w': 150}}, u'indices': [97, 120], u'type': u'photo', u'id': 710121096255766528, u'media_url': u'http://pbs.twimg.com/media/CdrbX-nWAAAVasz.jpg'}]}}, coordinates=None, entities={u'symbols': [], u'user_mentions': [{u'id': 398623527, u'indices': [60, 72], u'id_str': u'398623527', u'screen_name': u'RobertoGiov', u'name': u'Roberto Giovannini'}], u'hashtags': [], u'urls': [{u'url': u'https://t.co/X0ecQLlQNJ', u'indices': [73, 96], u'expanded_url': u'http://www.lastampa.it/2016/03/16/scienza/ambiente/focus/benvenuto-decoupling-leconomia-mondiale-cresce-le-emissioni-di-co-invece-no-JGbCjc28AohqMbybwKKRbN/pagina.html', u'display_url': u'lastampa.it/2016/03/16/sci\\u2026'}], u'media': [{u'expanded_url': u'https://twitter.com/la_stampa/status/710129789051346944/photo/1', u'display_url': u'pic.twitter.com/yQuuNWkwLA', u'url': u'https://t.co/yQuuNWkwLA', u'media_url_https': u'https://pbs.twimg.com/media/CdrbX-nWAAAVasz.jpg', u'id_str': u'710121096255766528', u'sizes': {u'small': {u'h': 191, u'resize': u'fit', u'w': 340}, u'large': {u'h': 563, u'resize': u'fit', u'w': 1000}, u'medium': {u'h': 338, u'resize': u'fit', u'w': 600}, u'thumb': {u'h': 150, u'resize': u'crop', u'w': 150}}, u'indices': [97, 120], u'type': u'photo', u'id': 710121096255766528, u'media_url': u'http://pbs.twimg.com/media/CdrbX-nWAAAVasz.jpg'}]}, in_reply_to_screen_name=None, id_str=u'710129789051346944', retweet_count=10, in_reply_to_user_id=None, favorited=False, source_url=u'https://about.twitter.com/products/tweetdeck', geo=None, in_reply_to_user_id_str=None, possibly_sensitive=False, lang=u'it', created_at=datetime.datetime(2016, 3, 16, 15, 45, 9), in_reply_to_status_id_str=None, place=None, extended_entities={u'media': [{u'expanded_url': u'https://twitter.com/la_stampa/status/710129789051346944/photo/1', u'display_url': u'pic.twitter.com/yQuuNWkwLA', u'url': u'https://t.co/yQuuNWkwLA', u'media_url_https': u'https://pbs.twimg.com/media/CdrbX-nWAAAVasz.jpg', u'id_str': u'710121096255766528', u'sizes': {u'small': {u'h': 191, u'resize': u'fit', u'w': 340}, u'large': {u'h': 563, u'resize': u'fit', u'w': 1000}, u'medium': {u'h': 338, u'resize': u'fit', u'w': 600}, u'thumb': {u'h': 150, u'resize': u'crop', u'w': 150}}, u'indices': [97, 120], u'type': u'photo', u'id': 710121096255766528, u'media_url': u'http://pbs.twimg.com/media/CdrbX-nWAAAVasz.jpg'}]}, retweeted=False), source_url=u'http://twitter.com/download/android', geo=None, in_reply_to_user_id_str=None, possibly_sensitive=False, lang=u'it', created_at=datetime.datetime(2016, 3, 16, 18, 28, 17), in_reply_to_status_id_str=None, place=None, extended_entities={u'media': [{u'source_user_id': 29416653, u'source_status_id_str': u'710129789051346944', u'expanded_url': u'https://twitter.com/la_stampa/status/710129789051346944/photo/1', u'display_url': u'pic.twitter.com/yQuuNWkwLA', u'url': u'https://t.co/yQuuNWkwLA', u'media_url_https': u'https://pbs.twimg.com/media/CdrbX-nWAAAVasz.jpg', u'source_user_id_str': u'29416653', u'source_status_id': 710129789051346944, u'id_str': u'710121096255766528', u'sizes': {u'small': {u'h': 191, u'resize': u'fit', u'w': 340}, u'large': {u'h': 563, u'resize': u'fit', u'w': 1000}, u'medium': {u'h': 338, u'resize': u'fit', u'w': 600}, u'thumb': {u'h': 150, u'resize': u'crop', u'w': 150}}, u'indices': [112, 135], u'type': u'photo', u'id': 710121096255766528, u'media_url': u'http://pbs.twimg.com/media/CdrbX-nWAAAVasz.jpg'}]}, retweeted=False), lang=u'en', utc_offset=None, statuses_count=12, profile_background_color=u'C0DEED', friends_count=27, profile_link_color=u'1DA1F2', profile_image_url=u'http://pbs.twimg.com/profile_images/495297115867066368/QP3JsfVv_normal.jpeg', notifications=False, default_profile=True, profile_background_image_url_https=u'https://abs.twimg.com/images/themes/theme1/bg.png', blocking=False, profile_background_image_url=u'http://abs.twimg.com/images/themes/theme1/bg.png', name=u'andrecoro', is_translation_enabled=False, profile_background_tile=False, favourites_count=2, screen_name=u'andrecoro79', url=None, created_at=datetime.datetime(2014, 2, 2, 6, 50, 55), contributors_enabled=False, location=u'', profile_sidebar_border_color=u'C0DEED', translator_type=u'none', following=False),\n",
       " User(follow_request_sent=False, has_extended_profile=False, profile_use_background_image=True, profile_sidebar_fill_color=u'DDEEF6', live_following=False, time_zone=u'Rome', id=45601183, description=u'', _api=<tweepy.api.API object at 0x7f1a242adad0>, verified=False, blocked_by=False, profile_text_color=u'333333', muting=False, profile_image_url_https=u'https://pbs.twimg.com/profile_images/3624052208/c494c0ef9b45d623bf0b1fbf4490f038_normal.jpeg', _json={u'follow_request_sent': False, u'has_extended_profile': False, u'profile_use_background_image': True, u'live_following': False, u'default_profile_image': False, u'id': 45601183, u'profile_background_image_url_https': u'https://abs.twimg.com/images/themes/theme1/bg.png', u'translator_type': u'none', u'verified': False, u'blocked_by': False, u'profile_text_color': u'333333', u'muting': False, u'profile_image_url_https': u'https://pbs.twimg.com/profile_images/3624052208/c494c0ef9b45d623bf0b1fbf4490f038_normal.jpeg', u'profile_sidebar_fill_color': u'DDEEF6', u'entities': {u'description': {u'urls': []}}, u'followers_count': 31, u'profile_sidebar_border_color': u'C0DEED', u'id_str': u'45601183', u'profile_background_color': u'C0DEED', u'listed_count': 0, u'status': {u'contributors': None, u'truncated': False, u'text': u'@lero_chi haha', u'is_quote_status': False, u'in_reply_to_status_id': None, u'id': 771469856940195840, u'favorite_count': 0, u'source': u'<a href=\"http://twitter.com/download/android\" rel=\"nofollow\">Twitter for Android</a>', u'retweeted': False, u'coordinates': None, u'entities': {u'symbols': [], u'user_mentions': [{u'id': 771431289517969408, u'indices': [0, 9], u'id_str': u'771431289517969408', u'screen_name': u'lero_chi', u'name': u'Chi'}], u'hashtags': [], u'urls': []}, u'in_reply_to_screen_name': u'lero_chi', u'in_reply_to_user_id': 771431289517969408, u'retweet_count': 0, u'id_str': u'771469856940195840', u'favorited': False, u'geo': None, u'in_reply_to_user_id_str': u'771431289517969408', u'lang': u'tl', u'created_at': u'Thu Sep 01 22:08:41 +0000 2016', u'in_reply_to_status_id_str': None, u'place': None}, u'is_translation_enabled': False, u'utc_offset': 3600, u'statuses_count': 15, u'description': u'', u'friends_count': 207, u'location': u'', u'profile_link_color': u'1DA1F2', u'profile_image_url': u'http://pbs.twimg.com/profile_images/3624052208/c494c0ef9b45d623bf0b1fbf4490f038_normal.jpeg', u'following': False, u'geo_enabled': True, u'profile_banner_url': u'https://pbs.twimg.com/profile_banners/45601183/1357378503', u'blocking': False, u'profile_background_image_url': u'http://abs.twimg.com/images/themes/theme1/bg.png', u'screen_name': u'riccardogallini', u'lang': u'it', u'profile_background_tile': False, u'favourites_count': 425, u'name': u'Riccardo Gallini', u'notifications': False, u'url': None, u'created_at': u'Mon Jun 08 16:17:29 +0000 2009', u'contributors_enabled': False, u'time_zone': u'Rome', u'protected': False, u'default_profile': True, u'is_translator': False}, is_translator=False, geo_enabled=True, entities={u'description': {u'urls': []}}, followers_count=31, protected=False, id_str=u'45601183', default_profile_image=False, listed_count=0, status=Status(contributors=None, truncated=False, text=u'@lero_chi haha', is_quote_status=False, in_reply_to_status_id=None, id=771469856940195840, favorite_count=0, _api=<tweepy.api.API object at 0x7f1a242adad0>, source=u'Twitter for Android', _json={u'contributors': None, u'truncated': False, u'text': u'@lero_chi haha', u'is_quote_status': False, u'in_reply_to_status_id': None, u'id': 771469856940195840, u'favorite_count': 0, u'source': u'<a href=\"http://twitter.com/download/android\" rel=\"nofollow\">Twitter for Android</a>', u'retweeted': False, u'coordinates': None, u'entities': {u'symbols': [], u'user_mentions': [{u'id': 771431289517969408, u'indices': [0, 9], u'id_str': u'771431289517969408', u'screen_name': u'lero_chi', u'name': u'Chi'}], u'hashtags': [], u'urls': []}, u'in_reply_to_screen_name': u'lero_chi', u'in_reply_to_user_id': 771431289517969408, u'retweet_count': 0, u'id_str': u'771469856940195840', u'favorited': False, u'geo': None, u'in_reply_to_user_id_str': u'771431289517969408', u'lang': u'tl', u'created_at': u'Thu Sep 01 22:08:41 +0000 2016', u'in_reply_to_status_id_str': None, u'place': None}, coordinates=None, entities={u'symbols': [], u'user_mentions': [{u'id': 771431289517969408, u'indices': [0, 9], u'id_str': u'771431289517969408', u'screen_name': u'lero_chi', u'name': u'Chi'}], u'hashtags': [], u'urls': []}, in_reply_to_screen_name=u'lero_chi', id_str=u'771469856940195840', retweet_count=0, in_reply_to_user_id=771431289517969408, favorited=False, source_url=u'http://twitter.com/download/android', geo=None, in_reply_to_user_id_str=u'771431289517969408', lang=u'tl', created_at=datetime.datetime(2016, 9, 1, 22, 8, 41), in_reply_to_status_id_str=None, place=None, retweeted=False), lang=u'it', utc_offset=3600, statuses_count=15, profile_background_color=u'C0DEED', friends_count=207, profile_link_color=u'1DA1F2', profile_image_url=u'http://pbs.twimg.com/profile_images/3624052208/c494c0ef9b45d623bf0b1fbf4490f038_normal.jpeg', notifications=False, default_profile=True, profile_background_image_url_https=u'https://abs.twimg.com/images/themes/theme1/bg.png', profile_banner_url=u'https://pbs.twimg.com/profile_banners/45601183/1357378503', blocking=False, profile_background_image_url=u'http://abs.twimg.com/images/themes/theme1/bg.png', name=u'Riccardo Gallini', is_translation_enabled=False, profile_background_tile=False, favourites_count=425, screen_name=u'riccardogallini', url=None, created_at=datetime.datetime(2009, 6, 8, 16, 17, 29), contributors_enabled=False, location=u'', profile_sidebar_border_color=u'C0DEED', translator_type=u'none', following=False),\n",
       " User(follow_request_sent=False, has_extended_profile=False, profile_use_background_image=False, profile_sidebar_fill_color=u'000000', live_following=False, time_zone=None, id=2785634797, description=u'#Impresa di #costruzioni generali, #ristrutturazioni e servizi per l\\u2019#edilizia #residenziale, #commerciale e #industriale', _api=<tweepy.api.API object at 0x7f1a242adad0>, verified=False, blocked_by=False, profile_text_color=u'000000', muting=False, profile_image_url_https=u'https://pbs.twimg.com/profile_images/506751562497019904/0SxeqG6D_normal.jpeg', _json={u'follow_request_sent': False, u'has_extended_profile': False, u'profile_use_background_image': False, u'live_following': False, u'default_profile_image': False, u'id': 2785634797, u'profile_background_image_url_https': u'https://abs.twimg.com/images/themes/theme1/bg.png', u'translator_type': u'none', u'verified': False, u'blocked_by': False, u'profile_text_color': u'000000', u'muting': False, u'profile_image_url_https': u'https://pbs.twimg.com/profile_images/506751562497019904/0SxeqG6D_normal.jpeg', u'profile_sidebar_fill_color': u'000000', u'entities': {u'url': {u'urls': [{u'url': u'http://t.co/UzftEPnz81', u'indices': [0, 22], u'expanded_url': u'http://www.ferrericostruzioni.com', u'display_url': u'ferrericostruzioni.com'}]}, u'description': {u'urls': []}}, u'followers_count': 261, u'profile_sidebar_border_color': u'000000', u'id_str': u'2785634797', u'profile_background_color': u'000000', u'listed_count': 5, u'status': {u'contributors': None, u'truncated': False, u'text': u'Un vero e proprio ecobonus appunto, che strizza un occhio al bisogno di vivere in citt\\xe0 pi\\xf9 belle e soprattutto... https://t.co/eVXsCKg8cZ', u'is_quote_status': False, u'in_reply_to_status_id': None, u'id': 799527624456409088, u'favorite_count': 0, u'source': u'<a href=\"http://www.facebook.com/twitter\" rel=\"nofollow\">Facebook</a>', u'retweeted': False, u'coordinates': None, u'entities': {u'symbols': [], u'user_mentions': [], u'hashtags': [], u'urls': [{u'url': u'https://t.co/eVXsCKg8cZ', u'indices': [115, 138], u'expanded_url': u'http://fb.me/1GsZkMIoM', u'display_url': u'fb.me/1GsZkMIoM'}]}, u'in_reply_to_screen_name': None, u'in_reply_to_user_id': None, u'retweet_count': 0, u'id_str': u'799527624456409088', u'favorited': False, u'geo': None, u'in_reply_to_user_id_str': None, u'possibly_sensitive': False, u'lang': u'it', u'created_at': u'Fri Nov 18 08:20:14 +0000 2016', u'in_reply_to_status_id_str': None, u'place': None}, u'is_translation_enabled': False, u'utc_offset': None, u'statuses_count': 252, u'description': u'#Impresa di #costruzioni generali, #ristrutturazioni e servizi per l\\u2019#edilizia #residenziale, #commerciale e #industriale', u'friends_count': 791, u'location': u'Torino', u'profile_link_color': u'DD6244', u'profile_image_url': u'http://pbs.twimg.com/profile_images/506751562497019904/0SxeqG6D_normal.jpeg', u'following': False, u'geo_enabled': False, u'profile_banner_url': u'https://pbs.twimg.com/profile_banners/2785634797/1420714056', u'blocking': False, u'profile_background_image_url': u'http://abs.twimg.com/images/themes/theme1/bg.png', u'screen_name': u'FerreriCostruz', u'lang': u'it', u'profile_background_tile': False, u'favourites_count': 29, u'name': u'Ferreri Costruzioni', u'notifications': False, u'url': u'http://t.co/UzftEPnz81', u'created_at': u'Tue Sep 02 09:28:22 +0000 2014', u'contributors_enabled': False, u'time_zone': None, u'protected': False, u'default_profile': False, u'is_translator': False}, is_translator=False, geo_enabled=False, entities={u'url': {u'urls': [{u'url': u'http://t.co/UzftEPnz81', u'indices': [0, 22], u'expanded_url': u'http://www.ferrericostruzioni.com', u'display_url': u'ferrericostruzioni.com'}]}, u'description': {u'urls': []}}, followers_count=261, protected=False, id_str=u'2785634797', default_profile_image=False, listed_count=5, status=Status(contributors=None, truncated=False, text=u'Un vero e proprio ecobonus appunto, che strizza un occhio al bisogno di vivere in citt\\xe0 pi\\xf9 belle e soprattutto... https://t.co/eVXsCKg8cZ', is_quote_status=False, in_reply_to_status_id=None, id=799527624456409088, favorite_count=0, _api=<tweepy.api.API object at 0x7f1a242adad0>, source=u'Facebook', _json={u'contributors': None, u'truncated': False, u'text': u'Un vero e proprio ecobonus appunto, che strizza un occhio al bisogno di vivere in citt\\xe0 pi\\xf9 belle e soprattutto... https://t.co/eVXsCKg8cZ', u'is_quote_status': False, u'in_reply_to_status_id': None, u'id': 799527624456409088, u'favorite_count': 0, u'source': u'<a href=\"http://www.facebook.com/twitter\" rel=\"nofollow\">Facebook</a>', u'retweeted': False, u'coordinates': None, u'entities': {u'symbols': [], u'user_mentions': [], u'hashtags': [], u'urls': [{u'url': u'https://t.co/eVXsCKg8cZ', u'indices': [115, 138], u'expanded_url': u'http://fb.me/1GsZkMIoM', u'display_url': u'fb.me/1GsZkMIoM'}]}, u'in_reply_to_screen_name': None, u'in_reply_to_user_id': None, u'retweet_count': 0, u'id_str': u'799527624456409088', u'favorited': False, u'geo': None, u'in_reply_to_user_id_str': None, u'possibly_sensitive': False, u'lang': u'it', u'created_at': u'Fri Nov 18 08:20:14 +0000 2016', u'in_reply_to_status_id_str': None, u'place': None}, coordinates=None, entities={u'symbols': [], u'user_mentions': [], u'hashtags': [], u'urls': [{u'url': u'https://t.co/eVXsCKg8cZ', u'indices': [115, 138], u'expanded_url': u'http://fb.me/1GsZkMIoM', u'display_url': u'fb.me/1GsZkMIoM'}]}, in_reply_to_screen_name=None, id_str=u'799527624456409088', retweet_count=0, in_reply_to_user_id=None, favorited=False, source_url=u'http://www.facebook.com/twitter', geo=None, in_reply_to_user_id_str=None, possibly_sensitive=False, lang=u'it', created_at=datetime.datetime(2016, 11, 18, 8, 20, 14), in_reply_to_status_id_str=None, place=None, retweeted=False), lang=u'it', utc_offset=None, statuses_count=252, profile_background_color=u'000000', friends_count=791, profile_link_color=u'DD6244', profile_image_url=u'http://pbs.twimg.com/profile_images/506751562497019904/0SxeqG6D_normal.jpeg', notifications=False, default_profile=False, profile_background_image_url_https=u'https://abs.twimg.com/images/themes/theme1/bg.png', profile_banner_url=u'https://pbs.twimg.com/profile_banners/2785634797/1420714056', blocking=False, profile_background_image_url=u'http://abs.twimg.com/images/themes/theme1/bg.png', name=u'Ferreri Costruzioni', is_translation_enabled=False, profile_background_tile=False, favourites_count=29, screen_name=u'FerreriCostruz', url=u'http://t.co/UzftEPnz81', created_at=datetime.datetime(2014, 9, 2, 9, 28, 22), contributors_enabled=False, location=u'Torino', profile_sidebar_border_color=u'000000', translator_type=u'none', following=False),\n",
       " User(follow_request_sent=False, has_extended_profile=False, profile_use_background_image=True, profile_sidebar_fill_color=u'DDEEF6', live_following=False, time_zone=u'Hawaii', id=1024712191, description=u'O objetivo deste site \\xe9 publicar id\\xe9ias projetos do mundo todo, p/ q. investidores se interessem. H\\xe1 tamb\\xe9m canal de venda dos projetos.', _api=<tweepy.api.API object at 0x7f1a242adad0>, verified=False, blocked_by=False, profile_text_color=u'333333', muting=False, profile_image_url_https=u'https://pbs.twimg.com/profile_images/2999679335/47f4cf41889545fd513a30b7ce73b9a6_normal.png', _json={u'follow_request_sent': False, u'has_extended_profile': False, u'profile_use_background_image': True, u'live_following': False, u'default_profile_image': False, u'id': 1024712191, u'profile_background_image_url_https': u'https://abs.twimg.com/images/themes/theme1/bg.png', u'translator_type': u'none', u'verified': False, u'blocked_by': False, u'profile_text_color': u'333333', u'muting': False, u'profile_image_url_https': u'https://pbs.twimg.com/profile_images/2999679335/47f4cf41889545fd513a30b7ce73b9a6_normal.png', u'profile_sidebar_fill_color': u'DDEEF6', u'entities': {u'url': {u'urls': [{u'url': u'http://t.co/lymfefDD', u'indices': [0, 20], u'expanded_url': u'http://www.minhaideiameuprojeto.com.br', u'display_url': u'minhaideiameuprojeto.com.br'}]}, u'description': {u'urls': []}}, u'followers_count': 358, u'profile_sidebar_border_color': u'C0DEED', u'id_str': u'1024712191', u'profile_background_color': u'C0DEED', u'listed_count': 4, u'status': {u'contributors': None, u'truncated': False, u'text': u'Tenho 1 novos seguidores, a partir de \\U0001f1ee\\U0001f1f9 It\\xe1lia na semana passada https://t.co/sef8dhhvFr https://t.co/GgnDxY366E', u'is_quote_status': False, u'in_reply_to_status_id': None, u'id': 798657708937252864, u'favorite_count': 0, u'source': u'<a href=\"http://tweepsmap.com\" rel=\"nofollow\">Tweepsmap</a>', u'retweeted': False, u'coordinates': None, u'entities': {u'symbols': [], u'user_mentions': [], u'hashtags': [], u'urls': [{u'url': u'https://t.co/sef8dhhvFr', u'indices': [66, 89], u'expanded_url': u'http://tweepsmap.com/!minhaideiameupr', u'display_url': u'tweepsmap.com/!minhaideiameu\\u2026'}], u'media': [{u'expanded_url': u'https://twitter.com/minhaideiameupr/status/798657708937252864/photo/1', u'display_url': u'pic.twitter.com/GgnDxY366E', u'url': u'https://t.co/GgnDxY366E', u'media_url_https': u'https://pbs.twimg.com/media/CxVm8-WW8AAu1aC.jpg', u'id_str': u'798657706643091456', u'sizes': {u'large': {u'h': 530, u'resize': u'fit', u'w': 1012}, u'small': {u'h': 356, u'resize': u'fit', u'w': 680}, u'medium': {u'h': 530, u'resize': u'fit', u'w': 1012}, u'thumb': {u'h': 150, u'resize': u'crop', u'w': 150}}, u'indices': [90, 113], u'type': u'photo', u'id': 798657706643091456, u'media_url': u'http://pbs.twimg.com/media/CxVm8-WW8AAu1aC.jpg'}]}, u'in_reply_to_screen_name': None, u'in_reply_to_user_id': None, u'retweet_count': 0, u'id_str': u'798657708937252864', u'favorited': False, u'geo': None, u'in_reply_to_user_id_str': None, u'possibly_sensitive': False, u'lang': u'pt', u'created_at': u'Tue Nov 15 22:43:30 +0000 2016', u'in_reply_to_status_id_str': None, u'place': None, u'extended_entities': {u'media': [{u'expanded_url': u'https://twitter.com/minhaideiameupr/status/798657708937252864/photo/1', u'display_url': u'pic.twitter.com/GgnDxY366E', u'url': u'https://t.co/GgnDxY366E', u'media_url_https': u'https://pbs.twimg.com/media/CxVm8-WW8AAu1aC.jpg', u'id_str': u'798657706643091456', u'sizes': {u'large': {u'h': 530, u'resize': u'fit', u'w': 1012}, u'small': {u'h': 356, u'resize': u'fit', u'w': 680}, u'medium': {u'h': 530, u'resize': u'fit', u'w': 1012}, u'thumb': {u'h': 150, u'resize': u'crop', u'w': 150}}, u'indices': [90, 113], u'type': u'photo', u'id': 798657706643091456, u'media_url': u'http://pbs.twimg.com/media/CxVm8-WW8AAu1aC.jpg'}]}}, u'is_translation_enabled': False, u'utc_offset': -36000, u'statuses_count': 463, u'description': u'O objetivo deste site \\xe9 publicar id\\xe9ias projetos do mundo todo, p/ q. investidores se interessem. H\\xe1 tamb\\xe9m canal de venda dos projetos.', u'friends_count': 1971, u'location': u'', u'profile_link_color': u'1DA1F2', u'profile_image_url': u'http://pbs.twimg.com/profile_images/2999679335/47f4cf41889545fd513a30b7ce73b9a6_normal.png', u'following': False, u'geo_enabled': False, u'profile_banner_url': u'https://pbs.twimg.com/profile_banners/1024712191/1422079511', u'blocking': False, u'profile_background_image_url': u'http://abs.twimg.com/images/themes/theme1/bg.png', u'screen_name': u'minhaideiameupr', u'lang': u'pt', u'profile_background_tile': False, u'favourites_count': 17, u'name': u'minhaideiameuprojeto', u'notifications': False, u'url': u'http://t.co/lymfefDD', u'created_at': u'Thu Dec 20 17:48:19 +0000 2012', u'contributors_enabled': False, u'time_zone': u'Hawaii', u'protected': False, u'default_profile': True, u'is_translator': False}, is_translator=False, geo_enabled=False, entities={u'url': {u'urls': [{u'url': u'http://t.co/lymfefDD', u'indices': [0, 20], u'expanded_url': u'http://www.minhaideiameuprojeto.com.br', u'display_url': u'minhaideiameuprojeto.com.br'}]}, u'description': {u'urls': []}}, followers_count=358, protected=False, id_str=u'1024712191', default_profile_image=False, listed_count=4, status=Status(contributors=None, truncated=False, text=u'Tenho 1 novos seguidores, a partir de \\U0001f1ee\\U0001f1f9 It\\xe1lia na semana passada https://t.co/sef8dhhvFr https://t.co/GgnDxY366E', is_quote_status=False, in_reply_to_status_id=None, id=798657708937252864, favorite_count=0, _api=<tweepy.api.API object at 0x7f1a242adad0>, source=u'Tweepsmap', _json={u'contributors': None, u'truncated': False, u'text': u'Tenho 1 novos seguidores, a partir de \\U0001f1ee\\U0001f1f9 It\\xe1lia na semana passada https://t.co/sef8dhhvFr https://t.co/GgnDxY366E', u'is_quote_status': False, u'in_reply_to_status_id': None, u'id': 798657708937252864, u'favorite_count': 0, u'source': u'<a href=\"http://tweepsmap.com\" rel=\"nofollow\">Tweepsmap</a>', u'retweeted': False, u'coordinates': None, u'entities': {u'symbols': [], u'user_mentions': [], u'hashtags': [], u'urls': [{u'url': u'https://t.co/sef8dhhvFr', u'indices': [66, 89], u'expanded_url': u'http://tweepsmap.com/!minhaideiameupr', u'display_url': u'tweepsmap.com/!minhaideiameu\\u2026'}], u'media': [{u'expanded_url': u'https://twitter.com/minhaideiameupr/status/798657708937252864/photo/1', u'display_url': u'pic.twitter.com/GgnDxY366E', u'url': u'https://t.co/GgnDxY366E', u'media_url_https': u'https://pbs.twimg.com/media/CxVm8-WW8AAu1aC.jpg', u'id_str': u'798657706643091456', u'sizes': {u'large': {u'h': 530, u'resize': u'fit', u'w': 1012}, u'small': {u'h': 356, u'resize': u'fit', u'w': 680}, u'medium': {u'h': 530, u'resize': u'fit', u'w': 1012}, u'thumb': {u'h': 150, u'resize': u'crop', u'w': 150}}, u'indices': [90, 113], u'type': u'photo', u'id': 798657706643091456, u'media_url': u'http://pbs.twimg.com/media/CxVm8-WW8AAu1aC.jpg'}]}, u'in_reply_to_screen_name': None, u'in_reply_to_user_id': None, u'retweet_count': 0, u'id_str': u'798657708937252864', u'favorited': False, u'geo': None, u'in_reply_to_user_id_str': None, u'possibly_sensitive': False, u'lang': u'pt', u'created_at': u'Tue Nov 15 22:43:30 +0000 2016', u'in_reply_to_status_id_str': None, u'place': None, u'extended_entities': {u'media': [{u'expanded_url': u'https://twitter.com/minhaideiameupr/status/798657708937252864/photo/1', u'display_url': u'pic.twitter.com/GgnDxY366E', u'url': u'https://t.co/GgnDxY366E', u'media_url_https': u'https://pbs.twimg.com/media/CxVm8-WW8AAu1aC.jpg', u'id_str': u'798657706643091456', u'sizes': {u'large': {u'h': 530, u'resize': u'fit', u'w': 1012}, u'small': {u'h': 356, u'resize': u'fit', u'w': 680}, u'medium': {u'h': 530, u'resize': u'fit', u'w': 1012}, u'thumb': {u'h': 150, u'resize': u'crop', u'w': 150}}, u'indices': [90, 113], u'type': u'photo', u'id': 798657706643091456, u'media_url': u'http://pbs.twimg.com/media/CxVm8-WW8AAu1aC.jpg'}]}}, coordinates=None, entities={u'symbols': [], u'user_mentions': [], u'hashtags': [], u'urls': [{u'url': u'https://t.co/sef8dhhvFr', u'indices': [66, 89], u'expanded_url': u'http://tweepsmap.com/!minhaideiameupr', u'display_url': u'tweepsmap.com/!minhaideiameu\\u2026'}], u'media': [{u'expanded_url': u'https://twitter.com/minhaideiameupr/status/798657708937252864/photo/1', u'display_url': u'pic.twitter.com/GgnDxY366E', u'url': u'https://t.co/GgnDxY366E', u'media_url_https': u'https://pbs.twimg.com/media/CxVm8-WW8AAu1aC.jpg', u'id_str': u'798657706643091456', u'sizes': {u'large': {u'h': 530, u'resize': u'fit', u'w': 1012}, u'small': {u'h': 356, u'resize': u'fit', u'w': 680}, u'medium': {u'h': 530, u'resize': u'fit', u'w': 1012}, u'thumb': {u'h': 150, u'resize': u'crop', u'w': 150}}, u'indices': [90, 113], u'type': u'photo', u'id': 798657706643091456, u'media_url': u'http://pbs.twimg.com/media/CxVm8-WW8AAu1aC.jpg'}]}, in_reply_to_screen_name=None, id_str=u'798657708937252864', retweet_count=0, in_reply_to_user_id=None, favorited=False, source_url=u'http://tweepsmap.com', geo=None, in_reply_to_user_id_str=None, possibly_sensitive=False, lang=u'pt', created_at=datetime.datetime(2016, 11, 15, 22, 43, 30), in_reply_to_status_id_str=None, place=None, extended_entities={u'media': [{u'expanded_url': u'https://twitter.com/minhaideiameupr/status/798657708937252864/photo/1', u'display_url': u'pic.twitter.com/GgnDxY366E', u'url': u'https://t.co/GgnDxY366E', u'media_url_https': u'https://pbs.twimg.com/media/CxVm8-WW8AAu1aC.jpg', u'id_str': u'798657706643091456', u'sizes': {u'large': {u'h': 530, u'resize': u'fit', u'w': 1012}, u'small': {u'h': 356, u'resize': u'fit', u'w': 680}, u'medium': {u'h': 530, u'resize': u'fit', u'w': 1012}, u'thumb': {u'h': 150, u'resize': u'crop', u'w': 150}}, u'indices': [90, 113], u'type': u'photo', u'id': 798657706643091456, u'media_url': u'http://pbs.twimg.com/media/CxVm8-WW8AAu1aC.jpg'}]}, retweeted=False), lang=u'pt', utc_offset=-36000, statuses_count=463, profile_background_color=u'C0DEED', friends_count=1971, profile_link_color=u'1DA1F2', profile_image_url=u'http://pbs.twimg.com/profile_images/2999679335/47f4cf41889545fd513a30b7ce73b9a6_normal.png', notifications=False, default_profile=True, profile_background_image_url_https=u'https://abs.twimg.com/images/themes/theme1/bg.png', profile_banner_url=u'https://pbs.twimg.com/profile_banners/1024712191/1422079511', blocking=False, profile_background_image_url=u'http://abs.twimg.com/images/themes/theme1/bg.png', name=u'minhaideiameuprojeto', is_translation_enabled=False, profile_background_tile=False, favourites_count=17, screen_name=u'minhaideiameupr', url=u'http://t.co/lymfefDD', created_at=datetime.datetime(2012, 12, 20, 17, 48, 19), contributors_enabled=False, location=u'', profile_sidebar_border_color=u'C0DEED', translator_type=u'none', following=False),\n",
       " User(follow_request_sent=False, has_extended_profile=False, profile_use_background_image=True, profile_sidebar_fill_color=u'E2EAEF', live_following=False, time_zone=None, id=1224327498, description=u'PROGETTA E REALIZZA GIARDINI MEDITERRANEI', _api=<tweepy.api.API object at 0x7f1a242adad0>, verified=False, blocked_by=False, profile_text_color=u'6C961C', muting=False, profile_image_url_https=u'https://pbs.twimg.com/profile_images/3314338333/dde9b203025f587c766bc36535016678_normal.png', _json={u'follow_request_sent': False, u'has_extended_profile': False, u'profile_use_background_image': True, u'live_following': False, u'default_profile_image': False, u'id': 1224327498, u'profile_background_image_url_https': u'https://pbs.twimg.com/profile_background_images/849531781/e1f8f6073c1165f3a0c487101b4717e3.jpeg', u'translator_type': u'none', u'verified': False, u'blocked_by': False, u'profile_text_color': u'6C961C', u'muting': False, u'profile_image_url_https': u'https://pbs.twimg.com/profile_images/3314338333/dde9b203025f587c766bc36535016678_normal.png', u'profile_sidebar_fill_color': u'E2EAEF', u'entities': {u'url': {u'urls': [{u'url': u'http://t.co/4L2kMldk8S', u'indices': [0, 22], u'expanded_url': u'http://www.otragiardini.it', u'display_url': u'otragiardini.it'}]}, u'description': {u'urls': []}}, u'followers_count': 54, u'profile_sidebar_border_color': u'000000', u'id_str': u'1224327498', u'profile_background_color': u'DADDC0', u'listed_count': 1, u'status': {u'contributors': None, u'truncated': False, u'text': u'La fitodepurazione - Impianto di Melendugno: http://t.co/1w1q0Zva8f via @YouTube', u'is_quote_status': False, u'in_reply_to_status_id': None, u'id': 523239050392518656, u'favorite_count': 0, u'source': u'<a href=\"https://dev.twitter.com/docs/tfw\" rel=\"nofollow\">Twitter for Websites</a>', u'retweeted': False, u'coordinates': None, u'entities': {u'symbols': [], u'user_mentions': [{u'id': 10228272, u'indices': [72, 80], u'id_str': u'10228272', u'screen_name': u'YouTube', u'name': u'YouTube'}], u'hashtags': [], u'urls': [{u'url': u'http://t.co/1w1q0Zva8f', u'indices': [45, 67], u'expanded_url': u'http://youtu.be/__QMeB86cfs', u'display_url': u'youtu.be/__QMeB86cfs'}]}, u'in_reply_to_screen_name': None, u'in_reply_to_user_id': None, u'retweet_count': 0, u'id_str': u'523239050392518656', u'favorited': False, u'geo': None, u'in_reply_to_user_id_str': None, u'possibly_sensitive': False, u'lang': u'it', u'created_at': u'Fri Oct 17 22:28:05 +0000 2014', u'in_reply_to_status_id_str': None, u'place': None}, u'is_translation_enabled': False, u'utc_offset': None, u'statuses_count': 18, u'description': u'PROGETTA E REALIZZA GIARDINI MEDITERRANEI', u'friends_count': 296, u'location': u'Nard\\xf2 (Lecce) ITALY', u'profile_link_color': u'877F63', u'profile_image_url': u'http://pbs.twimg.com/profile_images/3314338333/dde9b203025f587c766bc36535016678_normal.png', u'following': False, u'geo_enabled': False, u'profile_banner_url': u'https://pbs.twimg.com/profile_banners/1224327498/1364201661', u'blocking': False, u'profile_background_image_url': u'http://pbs.twimg.com/profile_background_images/849531781/e1f8f6073c1165f3a0c487101b4717e3.jpeg', u'screen_name': u'otragiardini', u'lang': u'it', u'profile_background_tile': False, u'favourites_count': 1, u'name': u'otragiardini', u'notifications': False, u'url': u'http://t.co/4L2kMldk8S', u'created_at': u'Wed Feb 27 10:42:04 +0000 2013', u'contributors_enabled': False, u'time_zone': None, u'protected': False, u'default_profile': False, u'is_translator': False}, is_translator=False, geo_enabled=False, entities={u'url': {u'urls': [{u'url': u'http://t.co/4L2kMldk8S', u'indices': [0, 22], u'expanded_url': u'http://www.otragiardini.it', u'display_url': u'otragiardini.it'}]}, u'description': {u'urls': []}}, followers_count=54, protected=False, id_str=u'1224327498', default_profile_image=False, listed_count=1, status=Status(contributors=None, truncated=False, text=u'La fitodepurazione - Impianto di Melendugno: http://t.co/1w1q0Zva8f via @YouTube', is_quote_status=False, in_reply_to_status_id=None, id=523239050392518656, favorite_count=0, _api=<tweepy.api.API object at 0x7f1a242adad0>, source=u'Twitter for Websites', _json={u'contributors': None, u'truncated': False, u'text': u'La fitodepurazione - Impianto di Melendugno: http://t.co/1w1q0Zva8f via @YouTube', u'is_quote_status': False, u'in_reply_to_status_id': None, u'id': 523239050392518656, u'favorite_count': 0, u'source': u'<a href=\"https://dev.twitter.com/docs/tfw\" rel=\"nofollow\">Twitter for Websites</a>', u'retweeted': False, u'coordinates': None, u'entities': {u'symbols': [], u'user_mentions': [{u'id': 10228272, u'indices': [72, 80], u'id_str': u'10228272', u'screen_name': u'YouTube', u'name': u'YouTube'}], u'hashtags': [], u'urls': [{u'url': u'http://t.co/1w1q0Zva8f', u'indices': [45, 67], u'expanded_url': u'http://youtu.be/__QMeB86cfs', u'display_url': u'youtu.be/__QMeB86cfs'}]}, u'in_reply_to_screen_name': None, u'in_reply_to_user_id': None, u'retweet_count': 0, u'id_str': u'523239050392518656', u'favorited': False, u'geo': None, u'in_reply_to_user_id_str': None, u'possibly_sensitive': False, u'lang': u'it', u'created_at': u'Fri Oct 17 22:28:05 +0000 2014', u'in_reply_to_status_id_str': None, u'place': None}, coordinates=None, entities={u'symbols': [], u'user_mentions': [{u'id': 10228272, u'indices': [72, 80], u'id_str': u'10228272', u'screen_name': u'YouTube', u'name': u'YouTube'}], u'hashtags': [], u'urls': [{u'url': u'http://t.co/1w1q0Zva8f', u'indices': [45, 67], u'expanded_url': u'http://youtu.be/__QMeB86cfs', u'display_url': u'youtu.be/__QMeB86cfs'}]}, in_reply_to_screen_name=None, id_str=u'523239050392518656', retweet_count=0, in_reply_to_user_id=None, favorited=False, source_url=u'https://dev.twitter.com/docs/tfw', geo=None, in_reply_to_user_id_str=None, possibly_sensitive=False, lang=u'it', created_at=datetime.datetime(2014, 10, 17, 22, 28, 5), in_reply_to_status_id_str=None, place=None, retweeted=False), lang=u'it', utc_offset=None, statuses_count=18, profile_background_color=u'DADDC0', friends_count=296, profile_link_color=u'877F63', profile_image_url=u'http://pbs.twimg.com/profile_images/3314338333/dde9b203025f587c766bc36535016678_normal.png', notifications=False, default_profile=False, profile_background_image_url_https=u'https://pbs.twimg.com/profile_background_images/849531781/e1f8f6073c1165f3a0c487101b4717e3.jpeg', profile_banner_url=u'https://pbs.twimg.com/profile_banners/1224327498/1364201661', blocking=False, profile_background_image_url=u'http://pbs.twimg.com/profile_background_images/849531781/e1f8f6073c1165f3a0c487101b4717e3.jpeg', name=u'otragiardini', is_translation_enabled=False, profile_background_tile=False, favourites_count=1, screen_name=u'otragiardini', url=u'http://t.co/4L2kMldk8S', created_at=datetime.datetime(2013, 2, 27, 10, 42, 4), contributors_enabled=False, location=u'Nard\\xf2 (Lecce) ITALY', profile_sidebar_border_color=u'000000', translator_type=u'none', following=False),\n",
       " User(follow_request_sent=False, has_extended_profile=False, profile_use_background_image=True, profile_sidebar_fill_color=u'DDEEF6', live_following=False, time_zone=u'Athens', id=1336386692, description=u'Riqualificazione Energetica di Edifici Esistenti', _api=<tweepy.api.API object at 0x7f1a242adad0>, verified=False, blocked_by=False, profile_text_color=u'333333', muting=False, profile_image_url_https=u'https://pbs.twimg.com/profile_images/3497452537/add00f197645bf4de9cb67da8ef45429_normal.png', _json={u'follow_request_sent': False, u'has_extended_profile': False, u'profile_use_background_image': True, u'live_following': False, u'default_profile_image': False, u'id': 1336386692, u'profile_background_image_url_https': u'https://abs.twimg.com/images/themes/theme1/bg.png', u'translator_type': u'none', u'verified': False, u'blocked_by': False, u'profile_text_color': u'333333', u'muting': False, u'profile_image_url_https': u'https://pbs.twimg.com/profile_images/3497452537/add00f197645bf4de9cb67da8ef45429_normal.png', u'profile_sidebar_fill_color': u'DDEEF6', u'entities': {u'url': {u'urls': [{u'url': u'http://t.co/Bak7sC1wlB', u'indices': [0, 22], u'expanded_url': u'http://www.casa-plus.it', u'display_url': u'casa-plus.it'}]}, u'description': {u'urls': []}}, u'followers_count': 911, u'profile_sidebar_border_color': u'C0DEED', u'id_str': u'1336386692', u'profile_background_color': u'C0DEED', u'listed_count': 10, u'status': {u'contributors': None, u'truncated': False, u'text': u'Fotovoltaico, le 10 cose da sapere  http://t.co/UrUzhcAGff via @casaeclima', u'is_quote_status': False, u'in_reply_to_status_id': None, u'id': 590455569057767424, u'favorite_count': 4, u'source': u'<a href=\"http://twitter.com\" rel=\"nofollow\">Twitter Web Client</a>', u'retweeted': False, u'coordinates': None, u'entities': {u'symbols': [], u'user_mentions': [{u'id': 288081951, u'indices': [63, 74], u'id_str': u'288081951', u'screen_name': u'casaeclima', u'name': u'casaeclima.com'}], u'hashtags': [], u'urls': [{u'url': u'http://t.co/UrUzhcAGff', u'indices': [36, 58], u'expanded_url': u'http://www.casaeclima.com/ar_22366__fotovoltaico-decalogo-anie-dieci-cose-da-sapere.html?utm_source=Newsletter+casaeclima.com&utm_campaign=f9767019c6-DAILY_nuovo_template2_5_2015&utm_medium=email&utm_term=0_0099aaf8c8-f9767019c6-313662485&mc_cid=f9767019c6&mc_eid=45f33b7ae1', u'display_url': u'casaeclima.com/ar_22366__foto\\u2026'}]}, u'in_reply_to_screen_name': None, u'in_reply_to_user_id': None, u'retweet_count': 1, u'id_str': u'590455569057767424', u'favorited': False, u'geo': None, u'in_reply_to_user_id_str': None, u'possibly_sensitive': False, u'lang': u'it', u'created_at': u'Tue Apr 21 10:02:32 +0000 2015', u'in_reply_to_status_id_str': None, u'place': None}, u'is_translation_enabled': False, u'utc_offset': 7200, u'statuses_count': 1251, u'description': u'Riqualificazione Energetica di Edifici Esistenti', u'friends_count': 1965, u'location': u'ROMA ', u'profile_link_color': u'1DA1F2', u'profile_image_url': u'http://pbs.twimg.com/profile_images/3497452537/add00f197645bf4de9cb67da8ef45429_normal.png', u'following': False, u'geo_enabled': False, u'profile_banner_url': u'https://pbs.twimg.com/profile_banners/1336386692/1414179185', u'blocking': False, u'profile_background_image_url': u'http://abs.twimg.com/images/themes/theme1/bg.png', u'screen_name': u'_CasaPlus', u'lang': u'it', u'profile_background_tile': False, u'favourites_count': 0, u'name': u'Casa Plus', u'notifications': False, u'url': u'http://t.co/Bak7sC1wlB', u'created_at': u'Mon Apr 08 11:21:07 +0000 2013', u'contributors_enabled': False, u'time_zone': u'Athens', u'protected': False, u'default_profile': True, u'is_translator': False}, is_translator=False, geo_enabled=False, entities={u'url': {u'urls': [{u'url': u'http://t.co/Bak7sC1wlB', u'indices': [0, 22], u'expanded_url': u'http://www.casa-plus.it', u'display_url': u'casa-plus.it'}]}, u'description': {u'urls': []}}, followers_count=911, protected=False, id_str=u'1336386692', default_profile_image=False, listed_count=10, status=Status(contributors=None, truncated=False, text=u'Fotovoltaico, le 10 cose da sapere  http://t.co/UrUzhcAGff via @casaeclima', is_quote_status=False, in_reply_to_status_id=None, id=590455569057767424, favorite_count=4, _api=<tweepy.api.API object at 0x7f1a242adad0>, source=u'Twitter Web Client', _json={u'contributors': None, u'truncated': False, u'text': u'Fotovoltaico, le 10 cose da sapere  http://t.co/UrUzhcAGff via @casaeclima', u'is_quote_status': False, u'in_reply_to_status_id': None, u'id': 590455569057767424, u'favorite_count': 4, u'source': u'<a href=\"http://twitter.com\" rel=\"nofollow\">Twitter Web Client</a>', u'retweeted': False, u'coordinates': None, u'entities': {u'symbols': [], u'user_mentions': [{u'id': 288081951, u'indices': [63, 74], u'id_str': u'288081951', u'screen_name': u'casaeclima', u'name': u'casaeclima.com'}], u'hashtags': [], u'urls': [{u'url': u'http://t.co/UrUzhcAGff', u'indices': [36, 58], u'expanded_url': u'http://www.casaeclima.com/ar_22366__fotovoltaico-decalogo-anie-dieci-cose-da-sapere.html?utm_source=Newsletter+casaeclima.com&utm_campaign=f9767019c6-DAILY_nuovo_template2_5_2015&utm_medium=email&utm_term=0_0099aaf8c8-f9767019c6-313662485&mc_cid=f9767019c6&mc_eid=45f33b7ae1', u'display_url': u'casaeclima.com/ar_22366__foto\\u2026'}]}, u'in_reply_to_screen_name': None, u'in_reply_to_user_id': None, u'retweet_count': 1, u'id_str': u'590455569057767424', u'favorited': False, u'geo': None, u'in_reply_to_user_id_str': None, u'possibly_sensitive': False, u'lang': u'it', u'created_at': u'Tue Apr 21 10:02:32 +0000 2015', u'in_reply_to_status_id_str': None, u'place': None}, coordinates=None, entities={u'symbols': [], u'user_mentions': [{u'id': 288081951, u'indices': [63, 74], u'id_str': u'288081951', u'screen_name': u'casaeclima', u'name': u'casaeclima.com'}], u'hashtags': [], u'urls': [{u'url': u'http://t.co/UrUzhcAGff', u'indices': [36, 58], u'expanded_url': u'http://www.casaeclima.com/ar_22366__fotovoltaico-decalogo-anie-dieci-cose-da-sapere.html?utm_source=Newsletter+casaeclima.com&utm_campaign=f9767019c6-DAILY_nuovo_template2_5_2015&utm_medium=email&utm_term=0_0099aaf8c8-f9767019c6-313662485&mc_cid=f9767019c6&mc_eid=45f33b7ae1', u'display_url': u'casaeclima.com/ar_22366__foto\\u2026'}]}, in_reply_to_screen_name=None, id_str=u'590455569057767424', retweet_count=1, in_reply_to_user_id=None, favorited=False, source_url=u'http://twitter.com', geo=None, in_reply_to_user_id_str=None, possibly_sensitive=False, lang=u'it', created_at=datetime.datetime(2015, 4, 21, 10, 2, 32), in_reply_to_status_id_str=None, place=None, retweeted=False), lang=u'it', utc_offset=7200, statuses_count=1251, profile_background_color=u'C0DEED', friends_count=1965, profile_link_color=u'1DA1F2', profile_image_url=u'http://pbs.twimg.com/profile_images/3497452537/add00f197645bf4de9cb67da8ef45429_normal.png', notifications=False, default_profile=True, profile_background_image_url_https=u'https://abs.twimg.com/images/themes/theme1/bg.png', profile_banner_url=u'https://pbs.twimg.com/profile_banners/1336386692/1414179185', blocking=False, profile_background_image_url=u'http://abs.twimg.com/images/themes/theme1/bg.png', name=u'Casa Plus', is_translation_enabled=False, profile_background_tile=False, favourites_count=0, screen_name=u'_CasaPlus', url=u'http://t.co/Bak7sC1wlB', created_at=datetime.datetime(2013, 4, 8, 11, 21, 7), contributors_enabled=False, location=u'ROMA ', profile_sidebar_border_color=u'C0DEED', translator_type=u'none', following=False),\n",
       " User(follow_request_sent=False, has_extended_profile=False, profile_use_background_image=True, profile_sidebar_fill_color=u'EADEAA', live_following=False, time_zone=None, id=45788290, description=u'Pretty girl from Belgium. Want to meet somebody for virt. Chat me here https://t.co/7qTN0jf5CI. My nick eluze9613', _api=<tweepy.api.API object at 0x7f1a242adad0>, verified=False, blocked_by=False, profile_text_color=u'333333', muting=False, profile_image_url_https=u'https://pbs.twimg.com/profile_images/734859070797156354/CijIE8ww_normal.jpg', _json={u'follow_request_sent': False, u'has_extended_profile': False, u'profile_use_background_image': True, u'live_following': False, u'default_profile_image': False, u'id': 45788290, u'profile_background_image_url_https': u'https://abs.twimg.com/images/themes/theme8/bg.gif', u'translator_type': u'none', u'verified': False, u'blocked_by': False, u'profile_text_color': u'333333', u'muting': False, u'profile_image_url_https': u'https://pbs.twimg.com/profile_images/734859070797156354/CijIE8ww_normal.jpg', u'profile_sidebar_fill_color': u'EADEAA', u'entities': {u'description': {u'urls': [{u'url': u'https://t.co/7qTN0jf5CI', u'indices': [71, 94], u'expanded_url': u'http://goo.gl/fEaqKw', u'display_url': u'goo.gl/fEaqKw'}]}}, u'followers_count': 0, u'profile_sidebar_border_color': u'D9B17E', u'id_str': u'45788290', u'profile_background_color': u'8B542B', u'listed_count': 0, u'is_translation_enabled': False, u'utc_offset': None, u'statuses_count': 58, u'description': u'Pretty girl from Belgium. Want to meet somebody for virt. Chat me here https://t.co/7qTN0jf5CI. My nick eluze9613', u'friends_count': 934, u'location': u'', u'profile_link_color': u'9D582E', u'profile_image_url': u'http://pbs.twimg.com/profile_images/734859070797156354/CijIE8ww_normal.jpg', u'following': False, u'geo_enabled': True, u'blocking': False, u'profile_background_image_url': u'http://abs.twimg.com/images/themes/theme8/bg.gif', u'screen_name': u'mnazzario', u'lang': u'it', u'profile_background_tile': False, u'favourites_count': 0, u'name': u'Sue Forman', u'notifications': False, u'url': None, u'created_at': u'Tue Jun 09 07:26:19 +0000 2009', u'contributors_enabled': False, u'time_zone': None, u'protected': False, u'default_profile': False, u'is_translator': False}, is_translator=False, geo_enabled=True, entities={u'description': {u'urls': [{u'url': u'https://t.co/7qTN0jf5CI', u'indices': [71, 94], u'expanded_url': u'http://goo.gl/fEaqKw', u'display_url': u'goo.gl/fEaqKw'}]}}, followers_count=0, protected=False, id_str=u'45788290', default_profile_image=False, listed_count=0, lang=u'it', utc_offset=None, statuses_count=58, profile_background_color=u'8B542B', friends_count=934, profile_link_color=u'9D582E', profile_image_url=u'http://pbs.twimg.com/profile_images/734859070797156354/CijIE8ww_normal.jpg', notifications=False, default_profile=False, profile_background_image_url_https=u'https://abs.twimg.com/images/themes/theme8/bg.gif', blocking=False, profile_background_image_url=u'http://abs.twimg.com/images/themes/theme8/bg.gif', name=u'Sue Forman', is_translation_enabled=False, profile_background_tile=False, favourites_count=0, screen_name=u'mnazzario', url=None, created_at=datetime.datetime(2009, 6, 9, 7, 26, 19), contributors_enabled=False, location=u'', profile_sidebar_border_color=u'D9B17E', translator_type=u'none', following=False),\n",
       " User(follow_request_sent=False, has_extended_profile=False, profile_use_background_image=True, profile_sidebar_fill_color=u'DDEEF6', live_following=False, time_zone=None, id=1172638813, description=u\"Holly & Paul \\xe8 un fashion blog nato dall'idea di Ennio Tullo e Graziana Lamesta, un fotografo e una fashion editor accomunati dalla passione per il fashion\", _api=<tweepy.api.API object at 0x7f1a242adad0>, verified=False, blocked_by=False, profile_text_color=u'333333', muting=False, profile_image_url_https=u'https://pbs.twimg.com/profile_images/3251533293/c16cf7f15f3bec69931e60e77709b503_normal.jpeg', _json={u'follow_request_sent': False, u'has_extended_profile': False, u'profile_use_background_image': True, u'live_following': False, u'default_profile_image': False, u'id': 1172638813, u'profile_background_image_url_https': u'https://pbs.twimg.com/profile_background_images/864033082/f6cd7547f2d1c675e303149bfc38bbcb.jpeg', u'translator_type': u'none', u'verified': False, u'blocked_by': False, u'profile_text_color': u'333333', u'muting': False, u'profile_image_url_https': u'https://pbs.twimg.com/profile_images/3251533293/c16cf7f15f3bec69931e60e77709b503_normal.jpeg', u'profile_sidebar_fill_color': u'DDEEF6', u'entities': {u'url': {u'urls': [{u'url': u'http://t.co/kVbv2HVb', u'indices': [0, 20], u'expanded_url': u'http://www.hollyandpaul.it', u'display_url': u'hollyandpaul.it'}]}, u'description': {u'urls': []}}, u'followers_count': 318, u'profile_sidebar_border_color': u'FFFFFF', u'id_str': u'1172638813', u'profile_background_color': u'C0DEED', u'listed_count': 11, u'status': {u'contributors': None, u'truncated': False, u'text': u'PHOTOGRAPHY-\\nPeter Lindbergh, women lover', u'is_quote_status': False, u'in_reply_to_status_id': None, u'id': 799599353623027712, u'favorite_count': 0, u'source': u'<a href=\"http://www.facebook.com/twitter\" rel=\"nofollow\">Facebook</a>', u'retweeted': False, u'coordinates': None, u'entities': {u'symbols': [], u'user_mentions': [], u'hashtags': [], u'urls': []}, u'in_reply_to_screen_name': None, u'in_reply_to_user_id': None, u'retweet_count': 0, u'id_str': u'799599353623027712', u'favorited': False, u'geo': None, u'in_reply_to_user_id_str': None, u'lang': u'en', u'created_at': u'Fri Nov 18 13:05:16 +0000 2016', u'in_reply_to_status_id_str': None, u'place': None}, u'is_translation_enabled': False, u'utc_offset': None, u'statuses_count': 3416, u'description': u\"Holly & Paul \\xe8 un fashion blog nato dall'idea di Ennio Tullo e Graziana Lamesta, un fotografo e una fashion editor accomunati dalla passione per il fashion\", u'friends_count': 1947, u'location': u'', u'profile_link_color': u'0084B4', u'profile_image_url': u'http://pbs.twimg.com/profile_images/3251533293/c16cf7f15f3bec69931e60e77709b503_normal.jpeg', u'following': False, u'geo_enabled': False, u'profile_banner_url': u'https://pbs.twimg.com/profile_banners/1172638813/1360829822', u'blocking': False, u'profile_background_image_url': u'http://pbs.twimg.com/profile_background_images/864033082/f6cd7547f2d1c675e303149bfc38bbcb.jpeg', u'screen_name': u'HollyandPaul', u'lang': u'it', u'profile_background_tile': False, u'favourites_count': 13, u'name': u'Holly and Paul', u'notifications': False, u'url': u'http://t.co/kVbv2HVb', u'created_at': u'Tue Feb 12 17:41:18 +0000 2013', u'contributors_enabled': False, u'time_zone': None, u'protected': False, u'default_profile': False, u'is_translator': False}, is_translator=False, geo_enabled=False, entities={u'url': {u'urls': [{u'url': u'http://t.co/kVbv2HVb', u'indices': [0, 20], u'expanded_url': u'http://www.hollyandpaul.it', u'display_url': u'hollyandpaul.it'}]}, u'description': {u'urls': []}}, followers_count=318, protected=False, id_str=u'1172638813', default_profile_image=False, listed_count=11, status=Status(contributors=None, truncated=False, text=u'PHOTOGRAPHY-\\nPeter Lindbergh, women lover', is_quote_status=False, in_reply_to_status_id=None, id=799599353623027712, favorite_count=0, _api=<tweepy.api.API object at 0x7f1a242adad0>, source=u'Facebook', _json={u'contributors': None, u'truncated': False, u'text': u'PHOTOGRAPHY-\\nPeter Lindbergh, women lover', u'is_quote_status': False, u'in_reply_to_status_id': None, u'id': 799599353623027712, u'favorite_count': 0, u'source': u'<a href=\"http://www.facebook.com/twitter\" rel=\"nofollow\">Facebook</a>', u'retweeted': False, u'coordinates': None, u'entities': {u'symbols': [], u'user_mentions': [], u'hashtags': [], u'urls': []}, u'in_reply_to_screen_name': None, u'in_reply_to_user_id': None, u'retweet_count': 0, u'id_str': u'799599353623027712', u'favorited': False, u'geo': None, u'in_reply_to_user_id_str': None, u'lang': u'en', u'created_at': u'Fri Nov 18 13:05:16 +0000 2016', u'in_reply_to_status_id_str': None, u'place': None}, coordinates=None, entities={u'symbols': [], u'user_mentions': [], u'hashtags': [], u'urls': []}, in_reply_to_screen_name=None, id_str=u'799599353623027712', retweet_count=0, in_reply_to_user_id=None, favorited=False, source_url=u'http://www.facebook.com/twitter', geo=None, in_reply_to_user_id_str=None, lang=u'en', created_at=datetime.datetime(2016, 11, 18, 13, 5, 16), in_reply_to_status_id_str=None, place=None, retweeted=False), lang=u'it', utc_offset=None, statuses_count=3416, profile_background_color=u'C0DEED', friends_count=1947, profile_link_color=u'0084B4', profile_image_url=u'http://pbs.twimg.com/profile_images/3251533293/c16cf7f15f3bec69931e60e77709b503_normal.jpeg', notifications=False, default_profile=False, profile_background_image_url_https=u'https://pbs.twimg.com/profile_background_images/864033082/f6cd7547f2d1c675e303149bfc38bbcb.jpeg', profile_banner_url=u'https://pbs.twimg.com/profile_banners/1172638813/1360829822', blocking=False, profile_background_image_url=u'http://pbs.twimg.com/profile_background_images/864033082/f6cd7547f2d1c675e303149bfc38bbcb.jpeg', name=u'Holly and Paul', is_translation_enabled=False, profile_background_tile=False, favourites_count=13, screen_name=u'HollyandPaul', url=u'http://t.co/kVbv2HVb', created_at=datetime.datetime(2013, 2, 12, 17, 41, 18), contributors_enabled=False, location=u'', profile_sidebar_border_color=u'FFFFFF', translator_type=u'none', following=False)]"
      ]
     },
     "execution_count": 40,
     "metadata": {},
     "output_type": "execute_result"
    }
   ],
   "source": [
    "my_followers"
   ]
  },
  {
   "cell_type": "code",
   "execution_count": 41,
   "metadata": {
    "collapsed": false
   },
   "outputs": [
    {
     "data": {
      "text/plain": [
       "2251593766"
      ]
     },
     "execution_count": 41,
     "metadata": {},
     "output_type": "execute_result"
    }
   ],
   "source": [
    "my_followers[0].id"
   ]
  },
  {
   "cell_type": "code",
   "execution_count": 35,
   "metadata": {
    "collapsed": false
   },
   "outputs": [
    {
     "data": {
      "text/plain": [
       "{u'blocked_by': False,\n",
       " u'blocking': False,\n",
       " u'contributors_enabled': False,\n",
       " u'created_at': u'Mon Dec 30 08:13:22 +0000 2013',\n",
       " u'default_profile': False,\n",
       " u'default_profile_image': False,\n",
       " u'description': u'I desideri che nascono in me sono sempre ardentissimi; soffro del pi\\xf9 piccolo ritardo e non posso sopportare gli indugi',\n",
       " u'entities': {u'description': {u'urls': []}},\n",
       " u'favourites_count': 4,\n",
       " u'follow_request_sent': False,\n",
       " u'followers_count': 87,\n",
       " u'following': False,\n",
       " u'friends_count': 434,\n",
       " u'geo_enabled': True,\n",
       " u'has_extended_profile': False,\n",
       " u'id': 2251593766,\n",
       " u'id_str': u'2251593766',\n",
       " u'is_translation_enabled': False,\n",
       " u'is_translator': False,\n",
       " u'lang': u'it',\n",
       " u'listed_count': 0,\n",
       " u'live_following': False,\n",
       " u'location': u'Aversa, Campania',\n",
       " u'muting': False,\n",
       " u'name': u'luigi digrazia',\n",
       " u'notifications': False,\n",
       " u'profile_background_color': u'000000',\n",
       " u'profile_background_image_url': u'http://abs.twimg.com/images/themes/theme1/bg.png',\n",
       " u'profile_background_image_url_https': u'https://abs.twimg.com/images/themes/theme1/bg.png',\n",
       " u'profile_background_tile': False,\n",
       " u'profile_banner_url': u'https://pbs.twimg.com/profile_banners/2251593766/1414592787',\n",
       " u'profile_image_url': u'http://pbs.twimg.com/profile_images/527467024906067968/GWL2xgot_normal.jpeg',\n",
       " u'profile_image_url_https': u'https://pbs.twimg.com/profile_images/527467024906067968/GWL2xgot_normal.jpeg',\n",
       " u'profile_link_color': u'89C9FA',\n",
       " u'profile_sidebar_border_color': u'000000',\n",
       " u'profile_sidebar_fill_color': u'000000',\n",
       " u'profile_text_color': u'000000',\n",
       " u'profile_use_background_image': False,\n",
       " u'protected': True,\n",
       " u'screen_name': u'ldigrazia',\n",
       " u'statuses_count': 396,\n",
       " u'time_zone': u'Rome',\n",
       " u'translator_type': u'none',\n",
       " u'url': None,\n",
       " u'utc_offset': 3600,\n",
       " u'verified': False}"
      ]
     },
     "execution_count": 35,
     "metadata": {},
     "output_type": "execute_result"
    }
   ],
   "source": [
    "my_followers[0]._json"
   ]
  },
  {
   "cell_type": "code",
   "execution_count": 15,
   "metadata": {
    "collapsed": false
   },
   "outputs": [
    {
     "name": "stdout",
     "output_type": "stream",
     "text": [
      "['__class__', '__delattr__', '__dict__', '__doc__', '__format__', '__getattribute__', '__getstate__', '__hash__', '__init__', '__module__', '__new__', '__reduce__', '__reduce_ex__', '__repr__', '__setattr__', '__sizeof__', '__str__', '__subclasshook__', '__weakref__', '_api', '_json', 'blocked_by', 'blocking', 'contributors_enabled', 'created_at', 'default_profile', 'default_profile_image', 'description', 'entities', 'favourites_count', 'follow', 'follow_request_sent', 'followers', 'followers_count', 'followers_ids', 'following', 'friends', 'friends_count', 'geo_enabled', 'has_extended_profile', 'id', 'id_str', 'is_translation_enabled', 'is_translator', 'lang', 'listed_count', 'lists', 'lists_memberships', 'lists_subscriptions', 'live_following', 'location', 'muting', 'name', 'notifications', 'parse', 'parse_list', 'profile_background_color', 'profile_background_image_url', 'profile_background_image_url_https', 'profile_background_tile', 'profile_banner_url', 'profile_image_url', 'profile_image_url_https', 'profile_link_color', 'profile_sidebar_border_color', 'profile_sidebar_fill_color', 'profile_text_color', 'profile_use_background_image', 'protected', 'screen_name', 'statuses_count', 'time_zone', 'timeline', 'translator_type', 'unfollow', 'url', 'utc_offset', 'verified']\n"
     ]
    }
   ],
   "source": [
    "print dir(my_followers[0])"
   ]
  },
  {
   "cell_type": "code",
   "execution_count": null,
   "metadata": {
    "collapsed": true
   },
   "outputs": [],
   "source": []
  },
  {
   "cell_type": "code",
   "execution_count": null,
   "metadata": {
    "collapsed": false
   },
   "outputs": [],
   "source": [
    "print help(my_followers[0])"
   ]
  },
  {
   "cell_type": "code",
   "execution_count": null,
   "metadata": {
    "collapsed": false
   },
   "outputs": [],
   "source": [
    "pp.pprint(my_followers[0]._json)"
   ]
  },
  {
   "cell_type": "markdown",
   "metadata": {},
   "source": [
    "# Get External User"
   ]
  },
  {
   "cell_type": "code",
   "execution_count": 42,
   "metadata": {
    "collapsed": false
   },
   "outputs": [
    {
     "data": {
      "text/plain": [
       "User(follow_request_sent=False, has_extended_profile=False, profile_use_background_image=False, _json={u'follow_request_sent': False, u'has_extended_profile': False, u'profile_use_background_image': False, u'profile_text_color': u'333333', u'default_profile_image': False, u'id': 393894382, u'profile_background_image_url_https': u'https://abs.twimg.com/images/themes/theme1/bg.png', u'verified': False, u'translator_type': u'none', u'profile_location': None, u'profile_image_url_https': u'https://pbs.twimg.com/profile_images/597680334474485760/Z6OMNC0B_normal.jpg', u'profile_sidebar_fill_color': u'DDEEF6', u'entities': {u'url': {u'urls': [{u'url': u'http://t.co/lmrSnJtN6Y', u'indices': [0, 22], u'expanded_url': u'http://www.intesasanpaolo.com', u'display_url': u'intesasanpaolo.com'}]}, u'description': {u'urls': []}}, u'followers_count': 4240, u'profile_sidebar_border_color': u'FFFFFF', u'id_str': u'393894382', u'profile_background_color': u'DBDBDB', u'listed_count': 134, u'status': {u'contributors': None, u'truncated': False, u'text': u\"RT @MdR_Torino: Al Campus dei #fuoriclassedellascuola  inizia il #Softskills Lab dell'Ufficio #formazione manageriale @intesasanpaolo. http\\u2026\", u'is_quote_status': False, u'in_reply_to_status_id': None, u'id': 799604807774310401, u'favorite_count': 0, u'source': u'<a href=\"http://twitter.com/download/android\" rel=\"nofollow\">Twitter for Android</a>', u'retweeted': False, u'coordinates': None, u'entities': {u'symbols': [], u'user_mentions': [{u'id': 1131143048, u'indices': [3, 14], u'id_str': u'1131143048', u'screen_name': u'MdR_Torino', u'name': u'Museo del Risparmio'}, {u'id': 393894382, u'indices': [118, 133], u'id_str': u'393894382', u'screen_name': u'intesasanpaolo', u'name': u'Intesa Sanpaolo'}], u'hashtags': [{u'indices': [30, 53], u'text': u'fuoriclassedellascuola'}, {u'indices': [65, 76], u'text': u'Softskills'}, {u'indices': [94, 105], u'text': u'formazione'}], u'urls': []}, u'in_reply_to_screen_name': None, u'in_reply_to_user_id': None, u'retweet_count': 2, u'id_str': u'799604807774310401', u'favorited': False, u'retweeted_status': {u'contributors': None, u'truncated': True, u'text': u\"Al Campus dei #fuoriclassedellascuola  inizia il #Softskills Lab dell'Ufficio #formazione manageriale\\u2026 https://t.co/FBbYyjxjeD\", u'is_quote_status': False, u'in_reply_to_status_id': None, u'id': 799604442790240256, u'favorite_count': 4, u'source': u'<a href=\"http://twitter.com/download/android\" rel=\"nofollow\">Twitter for Android</a>', u'retweeted': False, u'coordinates': None, u'entities': {u'symbols': [], u'user_mentions': [], u'hashtags': [{u'indices': [14, 37], u'text': u'fuoriclassedellascuola'}, {u'indices': [49, 60], u'text': u'Softskills'}, {u'indices': [78, 89], u'text': u'formazione'}], u'urls': [{u'url': u'https://t.co/FBbYyjxjeD', u'indices': [103, 126], u'expanded_url': u'https://twitter.com/i/web/status/799604442790240256', u'display_url': u'twitter.com/i/web/status/7\\u2026'}]}, u'in_reply_to_screen_name': None, u'in_reply_to_user_id': None, u'retweet_count': 2, u'id_str': u'799604442790240256', u'favorited': False, u'geo': None, u'in_reply_to_user_id_str': None, u'possibly_sensitive': False, u'lang': u'it', u'created_at': u'Fri Nov 18 13:25:29 +0000 2016', u'in_reply_to_status_id_str': None, u'place': None}, u'geo': None, u'in_reply_to_user_id_str': None, u'lang': u'it', u'created_at': u'Fri Nov 18 13:26:56 +0000 2016', u'in_reply_to_status_id_str': None, u'place': None}, u'is_translation_enabled': True, u'utc_offset': 3600, u'statuses_count': 2424, u'description': u'Notizie, eventi e informazioni in tempo reale sul mondo Intesa Sanpaolo. Per assistenza su prodotti e servizi seguici su @IntesaSP_Help e @IntesaSPgiovani.', u'friends_count': 179, u'location': u'', u'profile_link_color': u'929292', u'profile_image_url': u'http://pbs.twimg.com/profile_images/597680334474485760/Z6OMNC0B_normal.jpg', u'following': False, u'geo_enabled': False, u'profile_banner_url': u'https://pbs.twimg.com/profile_banners/393894382/1473949795', u'profile_background_image_url': u'http://abs.twimg.com/images/themes/theme1/bg.png', u'name': u'Intesa Sanpaolo', u'lang': u'it', u'profile_background_tile': False, u'favourites_count': 1101, u'screen_name': u'intesasanpaolo', u'notifications': False, u'url': u'http://t.co/lmrSnJtN6Y', u'created_at': u'Wed Oct 19 07:46:49 +0000 2011', u'contributors_enabled': False, u'time_zone': u'Rome', u'protected': False, u'default_profile': False, u'is_translator': False}, time_zone=u'Rome', id=393894382, description=u'Notizie, eventi e informazioni in tempo reale sul mondo Intesa Sanpaolo. Per assistenza su prodotti e servizi seguici su @IntesaSP_Help e @IntesaSPgiovani.', _api=<tweepy.api.API object at 0x7f1a242adad0>, verified=False, profile_location=None, profile_image_url_https=u'https://pbs.twimg.com/profile_images/597680334474485760/Z6OMNC0B_normal.jpg', profile_sidebar_fill_color=u'DDEEF6', is_translator=False, geo_enabled=False, entities={u'url': {u'urls': [{u'url': u'http://t.co/lmrSnJtN6Y', u'indices': [0, 22], u'expanded_url': u'http://www.intesasanpaolo.com', u'display_url': u'intesasanpaolo.com'}]}, u'description': {u'urls': []}}, followers_count=4240, protected=False, id_str=u'393894382', default_profile_image=False, listed_count=134, status=Status(contributors=None, truncated=False, text=u\"RT @MdR_Torino: Al Campus dei #fuoriclassedellascuola  inizia il #Softskills Lab dell'Ufficio #formazione manageriale @intesasanpaolo. http\\u2026\", is_quote_status=False, in_reply_to_status_id=None, id=799604807774310401, favorite_count=0, _api=<tweepy.api.API object at 0x7f1a242adad0>, source=u'Twitter for Android', _json={u'contributors': None, u'truncated': False, u'text': u\"RT @MdR_Torino: Al Campus dei #fuoriclassedellascuola  inizia il #Softskills Lab dell'Ufficio #formazione manageriale @intesasanpaolo. http\\u2026\", u'is_quote_status': False, u'in_reply_to_status_id': None, u'id': 799604807774310401, u'favorite_count': 0, u'source': u'<a href=\"http://twitter.com/download/android\" rel=\"nofollow\">Twitter for Android</a>', u'retweeted': False, u'coordinates': None, u'entities': {u'symbols': [], u'user_mentions': [{u'id': 1131143048, u'indices': [3, 14], u'id_str': u'1131143048', u'screen_name': u'MdR_Torino', u'name': u'Museo del Risparmio'}, {u'id': 393894382, u'indices': [118, 133], u'id_str': u'393894382', u'screen_name': u'intesasanpaolo', u'name': u'Intesa Sanpaolo'}], u'hashtags': [{u'indices': [30, 53], u'text': u'fuoriclassedellascuola'}, {u'indices': [65, 76], u'text': u'Softskills'}, {u'indices': [94, 105], u'text': u'formazione'}], u'urls': []}, u'in_reply_to_screen_name': None, u'in_reply_to_user_id': None, u'retweet_count': 2, u'id_str': u'799604807774310401', u'favorited': False, u'retweeted_status': {u'contributors': None, u'truncated': True, u'text': u\"Al Campus dei #fuoriclassedellascuola  inizia il #Softskills Lab dell'Ufficio #formazione manageriale\\u2026 https://t.co/FBbYyjxjeD\", u'is_quote_status': False, u'in_reply_to_status_id': None, u'id': 799604442790240256, u'favorite_count': 4, u'source': u'<a href=\"http://twitter.com/download/android\" rel=\"nofollow\">Twitter for Android</a>', u'retweeted': False, u'coordinates': None, u'entities': {u'symbols': [], u'user_mentions': [], u'hashtags': [{u'indices': [14, 37], u'text': u'fuoriclassedellascuola'}, {u'indices': [49, 60], u'text': u'Softskills'}, {u'indices': [78, 89], u'text': u'formazione'}], u'urls': [{u'url': u'https://t.co/FBbYyjxjeD', u'indices': [103, 126], u'expanded_url': u'https://twitter.com/i/web/status/799604442790240256', u'display_url': u'twitter.com/i/web/status/7\\u2026'}]}, u'in_reply_to_screen_name': None, u'in_reply_to_user_id': None, u'retweet_count': 2, u'id_str': u'799604442790240256', u'favorited': False, u'geo': None, u'in_reply_to_user_id_str': None, u'possibly_sensitive': False, u'lang': u'it', u'created_at': u'Fri Nov 18 13:25:29 +0000 2016', u'in_reply_to_status_id_str': None, u'place': None}, u'geo': None, u'in_reply_to_user_id_str': None, u'lang': u'it', u'created_at': u'Fri Nov 18 13:26:56 +0000 2016', u'in_reply_to_status_id_str': None, u'place': None}, coordinates=None, entities={u'symbols': [], u'user_mentions': [{u'id': 1131143048, u'indices': [3, 14], u'id_str': u'1131143048', u'screen_name': u'MdR_Torino', u'name': u'Museo del Risparmio'}, {u'id': 393894382, u'indices': [118, 133], u'id_str': u'393894382', u'screen_name': u'intesasanpaolo', u'name': u'Intesa Sanpaolo'}], u'hashtags': [{u'indices': [30, 53], u'text': u'fuoriclassedellascuola'}, {u'indices': [65, 76], u'text': u'Softskills'}, {u'indices': [94, 105], u'text': u'formazione'}], u'urls': []}, in_reply_to_screen_name=None, id_str=u'799604807774310401', retweet_count=2, in_reply_to_user_id=None, favorited=False, retweeted_status=Status(contributors=None, truncated=True, text=u\"Al Campus dei #fuoriclassedellascuola  inizia il #Softskills Lab dell'Ufficio #formazione manageriale\\u2026 https://t.co/FBbYyjxjeD\", is_quote_status=False, in_reply_to_status_id=None, id=799604442790240256, favorite_count=4, _api=<tweepy.api.API object at 0x7f1a242adad0>, source=u'Twitter for Android', _json={u'contributors': None, u'truncated': True, u'text': u\"Al Campus dei #fuoriclassedellascuola  inizia il #Softskills Lab dell'Ufficio #formazione manageriale\\u2026 https://t.co/FBbYyjxjeD\", u'is_quote_status': False, u'in_reply_to_status_id': None, u'id': 799604442790240256, u'favorite_count': 4, u'source': u'<a href=\"http://twitter.com/download/android\" rel=\"nofollow\">Twitter for Android</a>', u'retweeted': False, u'coordinates': None, u'entities': {u'symbols': [], u'user_mentions': [], u'hashtags': [{u'indices': [14, 37], u'text': u'fuoriclassedellascuola'}, {u'indices': [49, 60], u'text': u'Softskills'}, {u'indices': [78, 89], u'text': u'formazione'}], u'urls': [{u'url': u'https://t.co/FBbYyjxjeD', u'indices': [103, 126], u'expanded_url': u'https://twitter.com/i/web/status/799604442790240256', u'display_url': u'twitter.com/i/web/status/7\\u2026'}]}, u'in_reply_to_screen_name': None, u'in_reply_to_user_id': None, u'retweet_count': 2, u'id_str': u'799604442790240256', u'favorited': False, u'geo': None, u'in_reply_to_user_id_str': None, u'possibly_sensitive': False, u'lang': u'it', u'created_at': u'Fri Nov 18 13:25:29 +0000 2016', u'in_reply_to_status_id_str': None, u'place': None}, coordinates=None, entities={u'symbols': [], u'user_mentions': [], u'hashtags': [{u'indices': [14, 37], u'text': u'fuoriclassedellascuola'}, {u'indices': [49, 60], u'text': u'Softskills'}, {u'indices': [78, 89], u'text': u'formazione'}], u'urls': [{u'url': u'https://t.co/FBbYyjxjeD', u'indices': [103, 126], u'expanded_url': u'https://twitter.com/i/web/status/799604442790240256', u'display_url': u'twitter.com/i/web/status/7\\u2026'}]}, in_reply_to_screen_name=None, id_str=u'799604442790240256', retweet_count=2, in_reply_to_user_id=None, favorited=False, source_url=u'http://twitter.com/download/android', geo=None, in_reply_to_user_id_str=None, possibly_sensitive=False, lang=u'it', created_at=datetime.datetime(2016, 11, 18, 13, 25, 29), in_reply_to_status_id_str=None, place=None, retweeted=False), source_url=u'http://twitter.com/download/android', geo=None, in_reply_to_user_id_str=None, lang=u'it', created_at=datetime.datetime(2016, 11, 18, 13, 26, 56), in_reply_to_status_id_str=None, place=None, retweeted=False), lang=u'it', utc_offset=3600, statuses_count=2424, profile_background_color=u'DBDBDB', friends_count=179, profile_link_color=u'929292', profile_image_url=u'http://pbs.twimg.com/profile_images/597680334474485760/Z6OMNC0B_normal.jpg', notifications=False, default_profile=False, favourites_count=1101, profile_background_image_url_https=u'https://abs.twimg.com/images/themes/theme1/bg.png', profile_banner_url=u'https://pbs.twimg.com/profile_banners/393894382/1473949795', profile_background_image_url=u'http://abs.twimg.com/images/themes/theme1/bg.png', screen_name=u'intesasanpaolo', is_translation_enabled=True, profile_background_tile=False, profile_text_color=u'333333', name=u'Intesa Sanpaolo', url=u'http://t.co/lmrSnJtN6Y', created_at=datetime.datetime(2011, 10, 19, 7, 46, 49), contributors_enabled=False, location=u'', profile_sidebar_border_color=u'FFFFFF', translator_type=u'none', following=False)"
      ]
     },
     "execution_count": 42,
     "metadata": {},
     "output_type": "execute_result"
    }
   ],
   "source": [
    "intesa = api.get_user(\"intesasanpaolo\")\n",
    "intesa"
   ]
  },
  {
   "cell_type": "code",
   "execution_count": 44,
   "metadata": {
    "collapsed": false
   },
   "outputs": [
    {
     "data": {
      "text/plain": [
       "u'Notizie, eventi e informazioni in tempo reale sul mondo Intesa Sanpaolo. Per assistenza su prodotti e servizi seguici su @IntesaSP_Help e @IntesaSPgiovani.'"
      ]
     },
     "execution_count": 44,
     "metadata": {},
     "output_type": "execute_result"
    }
   ],
   "source": [
    "intesa.description"
   ]
  },
  {
   "cell_type": "code",
   "execution_count": 43,
   "metadata": {
    "collapsed": false
   },
   "outputs": [
    {
     "name": "stdout",
     "output_type": "stream",
     "text": [
      "Help on User in module tweepy.models object:\n",
      "\n",
      "class User(Model)\n",
      " |  Method resolution order:\n",
      " |      User\n",
      " |      Model\n",
      " |      __builtin__.object\n",
      " |  \n",
      " |  Methods defined here:\n",
      " |  \n",
      " |  follow(self)\n",
      " |  \n",
      " |  followers(self, **kargs)\n",
      " |  \n",
      " |  followers_ids(self, *args, **kargs)\n",
      " |  \n",
      " |  friends(self, **kargs)\n",
      " |  \n",
      " |  lists(self, *args, **kargs)\n",
      " |  \n",
      " |  lists_memberships(self, *args, **kargs)\n",
      " |  \n",
      " |  lists_subscriptions(self, *args, **kargs)\n",
      " |  \n",
      " |  timeline(self, **kargs)\n",
      " |  \n",
      " |  unfollow(self)\n",
      " |  \n",
      " |  ----------------------------------------------------------------------\n",
      " |  Class methods defined here:\n",
      " |  \n",
      " |  parse(cls, api, json) from __builtin__.type\n",
      " |  \n",
      " |  parse_list(cls, api, json_list) from __builtin__.type\n",
      " |  \n",
      " |  ----------------------------------------------------------------------\n",
      " |  Methods inherited from Model:\n",
      " |  \n",
      " |  __getstate__(self)\n",
      " |  \n",
      " |  __init__(self, api=None)\n",
      " |  \n",
      " |  __repr__(self)\n",
      " |  \n",
      " |  ----------------------------------------------------------------------\n",
      " |  Data descriptors inherited from Model:\n",
      " |  \n",
      " |  __dict__\n",
      " |      dictionary for instance variables (if defined)\n",
      " |  \n",
      " |  __weakref__\n",
      " |      list of weak references to the object (if defined)\n",
      "\n"
     ]
    }
   ],
   "source": [
    "help(intesa)"
   ]
  },
  {
   "cell_type": "code",
   "execution_count": 45,
   "metadata": {
    "collapsed": false
   },
   "outputs": [
    {
     "name": "stdout",
     "output_type": "stream",
     "text": [
      "4240\n"
     ]
    }
   ],
   "source": [
    "print intesa.followers_count"
   ]
  },
  {
   "cell_type": "code",
   "execution_count": 46,
   "metadata": {
    "collapsed": false
   },
   "outputs": [
    {
     "name": "stdout",
     "output_type": "stream",
     "text": [
      "179\n"
     ]
    }
   ],
   "source": [
    "friends = api.friends_ids('intesasanpaolo')\n",
    "print len(friends)"
   ]
  },
  {
   "cell_type": "code",
   "execution_count": 47,
   "metadata": {
    "collapsed": false
   },
   "outputs": [
    {
     "name": "stdout",
     "output_type": "stream",
     "text": [
      "20\n"
     ]
    }
   ],
   "source": [
    "likes = api.favorites('intesasanpaolo')\n",
    "print len(likes)"
   ]
  },
  {
   "cell_type": "code",
   "execution_count": 48,
   "metadata": {
    "collapsed": false
   },
   "outputs": [
    {
     "data": {
      "text/plain": [
       "Status(contributors=None, truncated=True, text=u\"#mutui: i migliori a tasso fisso e variabile per l'acquisto della prima casa sono di @intesasanpaolo\\u2026 https://t.co/CEjCTWMjj7\", is_quote_status=False, in_reply_to_status_id=None, id=799234957503762432, favorite_count=1, _api=<tweepy.api.API object at 0x7f1a242adad0>, author=User(follow_request_sent=False, has_extended_profile=False, profile_use_background_image=False, _json={u'follow_request_sent': False, u'has_extended_profile': False, u'profile_use_background_image': False, u'default_profile_image': False, u'id': 21642714, u'profile_background_image_url_https': u'https://pbs.twimg.com/profile_background_images/559655930380296192/EWy8ZDp2.jpeg', u'verified': False, u'translator_type': u'none', u'profile_text_color': u'FFB26A', u'profile_image_url_https': u'https://pbs.twimg.com/profile_images/743417282353836032/SQrUiTkl_normal.jpg', u'profile_sidebar_fill_color': u'5EAEE1', u'entities': {u'url': {u'urls': [{u'url': u'http://t.co/lmb4CL7sQ4', u'indices': [0, 22], u'expanded_url': u'http://www.osservatoriofinanziario.it', u'display_url': u'osservatoriofinanziario.it'}]}, u'description': {u'urls': []}}, u'followers_count': 439, u'profile_sidebar_border_color': u'FFEE6A', u'id_str': u'21642714', u'profile_background_color': u'3B94D9', u'listed_count': 23, u'is_translation_enabled': False, u'utc_offset': 3600, u'statuses_count': 1553, u'description': u'The Italian Financial Observatory #OsservatorioFinanziario managed by Francesca Tedeschi Di Dario', u'friends_count': 860, u'location': u'Milan, Italy', u'profile_link_color': u'0084B4', u'profile_image_url': u'http://pbs.twimg.com/profile_images/743417282353836032/SQrUiTkl_normal.jpg', u'following': False, u'geo_enabled': True, u'profile_banner_url': u'https://pbs.twimg.com/profile_banners/21642714/1466079418', u'profile_background_image_url': u'http://pbs.twimg.com/profile_background_images/559655930380296192/EWy8ZDp2.jpeg', u'screen_name': u'of_osservatorio', u'lang': u'it', u'profile_background_tile': False, u'favourites_count': 17, u'name': u'OF', u'notifications': False, u'url': u'http://t.co/lmb4CL7sQ4', u'created_at': u'Mon Feb 23 09:48:21 +0000 2009', u'contributors_enabled': False, u'time_zone': u'Rome', u'protected': False, u'default_profile': False, u'is_translator': False}, time_zone=u'Rome', id=21642714, description=u'The Italian Financial Observatory #OsservatorioFinanziario managed by Francesca Tedeschi Di Dario', _api=<tweepy.api.API object at 0x7f1a242adad0>, verified=False, profile_text_color=u'FFB26A', profile_image_url_https=u'https://pbs.twimg.com/profile_images/743417282353836032/SQrUiTkl_normal.jpg', profile_sidebar_fill_color=u'5EAEE1', is_translator=False, geo_enabled=True, entities={u'url': {u'urls': [{u'url': u'http://t.co/lmb4CL7sQ4', u'indices': [0, 22], u'expanded_url': u'http://www.osservatoriofinanziario.it', u'display_url': u'osservatoriofinanziario.it'}]}, u'description': {u'urls': []}}, followers_count=439, protected=False, id_str=u'21642714', default_profile_image=False, listed_count=23, lang=u'it', utc_offset=3600, statuses_count=1553, profile_background_color=u'3B94D9', friends_count=860, profile_link_color=u'0084B4', profile_image_url=u'http://pbs.twimg.com/profile_images/743417282353836032/SQrUiTkl_normal.jpg', notifications=False, default_profile=False, profile_background_image_url_https=u'https://pbs.twimg.com/profile_background_images/559655930380296192/EWy8ZDp2.jpeg', profile_banner_url=u'https://pbs.twimg.com/profile_banners/21642714/1466079418', profile_background_image_url=u'http://pbs.twimg.com/profile_background_images/559655930380296192/EWy8ZDp2.jpeg', name=u'OF', is_translation_enabled=False, profile_background_tile=False, favourites_count=17, screen_name=u'of_osservatorio', url=u'http://t.co/lmb4CL7sQ4', created_at=datetime.datetime(2009, 2, 23, 9, 48, 21), contributors_enabled=False, location=u'Milan, Italy', profile_sidebar_border_color=u'FFEE6A', translator_type=u'none', following=False), _json={u'contributors': None, u'truncated': True, u'text': u\"#mutui: i migliori a tasso fisso e variabile per l'acquisto della prima casa sono di @intesasanpaolo\\u2026 https://t.co/CEjCTWMjj7\", u'is_quote_status': False, u'in_reply_to_status_id': None, u'id': 799234957503762432, u'favorite_count': 1, u'source': u'<a href=\"http://twitter.com\" rel=\"nofollow\">Twitter Web Client</a>', u'retweeted': False, u'coordinates': None, u'entities': {u'symbols': [], u'user_mentions': [{u'id': 393894382, u'indices': [85, 100], u'id_str': u'393894382', u'screen_name': u'intesasanpaolo', u'name': u'Intesa Sanpaolo'}], u'hashtags': [{u'indices': [0, 6], u'text': u'mutui'}], u'urls': [{u'url': u'https://t.co/CEjCTWMjj7', u'indices': [102, 125], u'expanded_url': u'https://twitter.com/i/web/status/799234957503762432', u'display_url': u'twitter.com/i/web/status/7\\u2026'}]}, u'in_reply_to_screen_name': None, u'in_reply_to_user_id': None, u'retweet_count': 0, u'id_str': u'799234957503762432', u'favorited': False, u'user': {u'follow_request_sent': False, u'has_extended_profile': False, u'profile_use_background_image': False, u'default_profile_image': False, u'id': 21642714, u'profile_background_image_url_https': u'https://pbs.twimg.com/profile_background_images/559655930380296192/EWy8ZDp2.jpeg', u'verified': False, u'translator_type': u'none', u'profile_text_color': u'FFB26A', u'profile_image_url_https': u'https://pbs.twimg.com/profile_images/743417282353836032/SQrUiTkl_normal.jpg', u'profile_sidebar_fill_color': u'5EAEE1', u'entities': {u'url': {u'urls': [{u'url': u'http://t.co/lmb4CL7sQ4', u'indices': [0, 22], u'expanded_url': u'http://www.osservatoriofinanziario.it', u'display_url': u'osservatoriofinanziario.it'}]}, u'description': {u'urls': []}}, u'followers_count': 439, u'profile_sidebar_border_color': u'FFEE6A', u'id_str': u'21642714', u'profile_background_color': u'3B94D9', u'listed_count': 23, u'is_translation_enabled': False, u'utc_offset': 3600, u'statuses_count': 1553, u'description': u'The Italian Financial Observatory #OsservatorioFinanziario managed by Francesca Tedeschi Di Dario', u'friends_count': 860, u'location': u'Milan, Italy', u'profile_link_color': u'0084B4', u'profile_image_url': u'http://pbs.twimg.com/profile_images/743417282353836032/SQrUiTkl_normal.jpg', u'following': False, u'geo_enabled': True, u'profile_banner_url': u'https://pbs.twimg.com/profile_banners/21642714/1466079418', u'profile_background_image_url': u'http://pbs.twimg.com/profile_background_images/559655930380296192/EWy8ZDp2.jpeg', u'screen_name': u'of_osservatorio', u'lang': u'it', u'profile_background_tile': False, u'favourites_count': 17, u'name': u'OF', u'notifications': False, u'url': u'http://t.co/lmb4CL7sQ4', u'created_at': u'Mon Feb 23 09:48:21 +0000 2009', u'contributors_enabled': False, u'time_zone': u'Rome', u'protected': False, u'default_profile': False, u'is_translator': False}, u'geo': None, u'in_reply_to_user_id_str': None, u'possibly_sensitive': False, u'lang': u'it', u'created_at': u'Thu Nov 17 12:57:17 +0000 2016', u'in_reply_to_status_id_str': None, u'place': None}, coordinates=None, entities={u'symbols': [], u'user_mentions': [{u'id': 393894382, u'indices': [85, 100], u'id_str': u'393894382', u'screen_name': u'intesasanpaolo', u'name': u'Intesa Sanpaolo'}], u'hashtags': [{u'indices': [0, 6], u'text': u'mutui'}], u'urls': [{u'url': u'https://t.co/CEjCTWMjj7', u'indices': [102, 125], u'expanded_url': u'https://twitter.com/i/web/status/799234957503762432', u'display_url': u'twitter.com/i/web/status/7\\u2026'}]}, in_reply_to_screen_name=None, id_str=u'799234957503762432', retweet_count=0, in_reply_to_user_id=None, favorited=False, source_url=u'http://twitter.com', user=User(follow_request_sent=False, has_extended_profile=False, profile_use_background_image=False, _json={u'follow_request_sent': False, u'has_extended_profile': False, u'profile_use_background_image': False, u'default_profile_image': False, u'id': 21642714, u'profile_background_image_url_https': u'https://pbs.twimg.com/profile_background_images/559655930380296192/EWy8ZDp2.jpeg', u'verified': False, u'translator_type': u'none', u'profile_text_color': u'FFB26A', u'profile_image_url_https': u'https://pbs.twimg.com/profile_images/743417282353836032/SQrUiTkl_normal.jpg', u'profile_sidebar_fill_color': u'5EAEE1', u'entities': {u'url': {u'urls': [{u'url': u'http://t.co/lmb4CL7sQ4', u'indices': [0, 22], u'expanded_url': u'http://www.osservatoriofinanziario.it', u'display_url': u'osservatoriofinanziario.it'}]}, u'description': {u'urls': []}}, u'followers_count': 439, u'profile_sidebar_border_color': u'FFEE6A', u'id_str': u'21642714', u'profile_background_color': u'3B94D9', u'listed_count': 23, u'is_translation_enabled': False, u'utc_offset': 3600, u'statuses_count': 1553, u'description': u'The Italian Financial Observatory #OsservatorioFinanziario managed by Francesca Tedeschi Di Dario', u'friends_count': 860, u'location': u'Milan, Italy', u'profile_link_color': u'0084B4', u'profile_image_url': u'http://pbs.twimg.com/profile_images/743417282353836032/SQrUiTkl_normal.jpg', u'following': False, u'geo_enabled': True, u'profile_banner_url': u'https://pbs.twimg.com/profile_banners/21642714/1466079418', u'profile_background_image_url': u'http://pbs.twimg.com/profile_background_images/559655930380296192/EWy8ZDp2.jpeg', u'screen_name': u'of_osservatorio', u'lang': u'it', u'profile_background_tile': False, u'favourites_count': 17, u'name': u'OF', u'notifications': False, u'url': u'http://t.co/lmb4CL7sQ4', u'created_at': u'Mon Feb 23 09:48:21 +0000 2009', u'contributors_enabled': False, u'time_zone': u'Rome', u'protected': False, u'default_profile': False, u'is_translator': False}, time_zone=u'Rome', id=21642714, description=u'The Italian Financial Observatory #OsservatorioFinanziario managed by Francesca Tedeschi Di Dario', _api=<tweepy.api.API object at 0x7f1a242adad0>, verified=False, profile_text_color=u'FFB26A', profile_image_url_https=u'https://pbs.twimg.com/profile_images/743417282353836032/SQrUiTkl_normal.jpg', profile_sidebar_fill_color=u'5EAEE1', is_translator=False, geo_enabled=True, entities={u'url': {u'urls': [{u'url': u'http://t.co/lmb4CL7sQ4', u'indices': [0, 22], u'expanded_url': u'http://www.osservatoriofinanziario.it', u'display_url': u'osservatoriofinanziario.it'}]}, u'description': {u'urls': []}}, followers_count=439, protected=False, id_str=u'21642714', default_profile_image=False, listed_count=23, lang=u'it', utc_offset=3600, statuses_count=1553, profile_background_color=u'3B94D9', friends_count=860, profile_link_color=u'0084B4', profile_image_url=u'http://pbs.twimg.com/profile_images/743417282353836032/SQrUiTkl_normal.jpg', notifications=False, default_profile=False, profile_background_image_url_https=u'https://pbs.twimg.com/profile_background_images/559655930380296192/EWy8ZDp2.jpeg', profile_banner_url=u'https://pbs.twimg.com/profile_banners/21642714/1466079418', profile_background_image_url=u'http://pbs.twimg.com/profile_background_images/559655930380296192/EWy8ZDp2.jpeg', name=u'OF', is_translation_enabled=False, profile_background_tile=False, favourites_count=17, screen_name=u'of_osservatorio', url=u'http://t.co/lmb4CL7sQ4', created_at=datetime.datetime(2009, 2, 23, 9, 48, 21), contributors_enabled=False, location=u'Milan, Italy', profile_sidebar_border_color=u'FFEE6A', translator_type=u'none', following=False), geo=None, in_reply_to_user_id_str=None, possibly_sensitive=False, lang=u'it', created_at=datetime.datetime(2016, 11, 17, 12, 57, 17), in_reply_to_status_id_str=None, place=None, source=u'Twitter Web Client', retweeted=False)"
      ]
     },
     "execution_count": 48,
     "metadata": {},
     "output_type": "execute_result"
    }
   ],
   "source": [
    "likes[0]"
   ]
  },
  {
   "cell_type": "code",
   "execution_count": 49,
   "metadata": {
    "collapsed": false
   },
   "outputs": [
    {
     "name": "stdout",
     "output_type": "stream",
     "text": [
      "4240\n"
     ]
    }
   ],
   "source": [
    "intesa_followers_count =  intesa.followers_ids()\n",
    "print len(intesa_followers_count)"
   ]
  },
  {
   "cell_type": "code",
   "execution_count": 50,
   "metadata": {
    "collapsed": false
   },
   "outputs": [
    {
     "name": "stdout",
     "output_type": "stream",
     "text": [
      "799610634899980291\n"
     ]
    }
   ],
   "source": [
    "print intesa_followers_count[0]"
   ]
  },
  {
   "cell_type": "code",
   "execution_count": 51,
   "metadata": {
    "collapsed": false
   },
   "outputs": [
    {
     "data": {
      "text/plain": [
       "User(follow_request_sent=False, has_extended_profile=False, profile_use_background_image=True, _json={u'follow_request_sent': False, u'has_extended_profile': False, u'profile_use_background_image': True, u'profile_text_color': u'333333', u'default_profile_image': True, u'id': 799610634899980291, u'profile_background_image_url_https': None, u'verified': False, u'translator_type': u'none', u'profile_location': None, u'profile_image_url_https': u'https://abs.twimg.com/sticky/default_profile_images/default_profile_3_normal.png', u'profile_sidebar_fill_color': u'DDEEF6', u'entities': {u'description': {u'urls': []}}, u'followers_count': 0, u'profile_sidebar_border_color': u'C0DEED', u'id_str': u'799610634899980291', u'profile_background_color': u'F5F8FA', u'listed_count': 0, u'is_translation_enabled': False, u'utc_offset': None, u'statuses_count': 0, u'description': u'', u'friends_count': 0, u'location': u'', u'profile_link_color': u'1DA1F2', u'profile_image_url': u'http://abs.twimg.com/sticky/default_profile_images/default_profile_3_normal.png', u'following': False, u'geo_enabled': False, u'profile_background_image_url': None, u'name': u'Davide Ritaccio', u'lang': u'en', u'profile_background_tile': False, u'favourites_count': 0, u'screen_name': u'Davide_Ritaccio', u'notifications': False, u'url': None, u'created_at': u'Fri Nov 18 13:50:06 +0000 2016', u'contributors_enabled': False, u'time_zone': None, u'protected': False, u'default_profile': True, u'is_translator': False}, time_zone=None, id=799610634899980291, description=u'', _api=<tweepy.api.API object at 0x7f1a242adad0>, verified=False, profile_location=None, profile_image_url_https=u'https://abs.twimg.com/sticky/default_profile_images/default_profile_3_normal.png', profile_sidebar_fill_color=u'DDEEF6', is_translator=False, geo_enabled=False, entities={u'description': {u'urls': []}}, followers_count=0, protected=False, id_str=u'799610634899980291', default_profile_image=True, listed_count=0, lang=u'en', utc_offset=None, statuses_count=0, profile_background_color=u'F5F8FA', friends_count=0, profile_link_color=u'1DA1F2', profile_image_url=u'http://abs.twimg.com/sticky/default_profile_images/default_profile_3_normal.png', notifications=False, default_profile=True, favourites_count=0, profile_background_image_url_https=None, profile_background_image_url=None, screen_name=u'Davide_Ritaccio', is_translation_enabled=False, profile_background_tile=False, profile_text_color=u'333333', name=u'Davide Ritaccio', url=None, created_at=datetime.datetime(2016, 11, 18, 13, 50, 6), contributors_enabled=False, location=u'', profile_sidebar_border_color=u'C0DEED', translator_type=u'none', following=False)"
      ]
     },
     "execution_count": 51,
     "metadata": {},
     "output_type": "execute_result"
    }
   ],
   "source": [
    "api.get_user(intesa_followers_count[0])"
   ]
  },
  {
   "cell_type": "markdown",
   "metadata": {},
   "source": [
    "# Cursor\n",
    "\n",
    "Serve per paginare"
   ]
  },
  {
   "cell_type": "code",
   "execution_count": 52,
   "metadata": {
    "collapsed": false
   },
   "outputs": [
    {
     "name": "stdout",
     "output_type": "stream",
     "text": [
      "4240\n"
     ]
    }
   ],
   "source": [
    "print len(intesa_followers_count)"
   ]
  },
  {
   "cell_type": "code",
   "execution_count": 53,
   "metadata": {
    "collapsed": false
   },
   "outputs": [
    {
     "name": "stdout",
     "output_type": "stream",
     "text": [
      "20\n"
     ]
    }
   ],
   "source": [
    "intesa_followers = intesa.followers()\n",
    "print len(intesa_followers)"
   ]
  },
  {
   "cell_type": "code",
   "execution_count": 54,
   "metadata": {
    "collapsed": false
   },
   "outputs": [
    {
     "name": "stdout",
     "output_type": "stream",
     "text": [
      "Help on class Cursor in module tweepy.cursor:\n",
      "\n",
      "class Cursor(__builtin__.object)\n",
      " |  Pagination helper class\n",
      " |  \n",
      " |  Methods defined here:\n",
      " |  \n",
      " |  __init__(self, method, *args, **kargs)\n",
      " |  \n",
      " |  items(self, limit=0)\n",
      " |      Return iterator for items in each page\n",
      " |  \n",
      " |  pages(self, limit=0)\n",
      " |      Return iterator for pages\n",
      " |  \n",
      " |  ----------------------------------------------------------------------\n",
      " |  Data descriptors defined here:\n",
      " |  \n",
      " |  __dict__\n",
      " |      dictionary for instance variables (if defined)\n",
      " |  \n",
      " |  __weakref__\n",
      " |      list of weak references to the object (if defined)\n",
      "\n"
     ]
    }
   ],
   "source": [
    "help(tweepy.Cursor)"
   ]
  },
  {
   "cell_type": "code",
   "execution_count": 64,
   "metadata": {
    "collapsed": false
   },
   "outputs": [],
   "source": [
    "intesa_cursor = tweepy.Cursor(api.followers, screen_name='intesasanpaolo') #e' questa la parte di paginazione\n",
    "# sta configurando intesa_cursor per l'api-followers"
   ]
  },
  {
   "cell_type": "code",
   "execution_count": 65,
   "metadata": {
    "collapsed": false
   },
   "outputs": [
    {
     "ename": "RateLimitError",
     "evalue": "[{u'message': u'Rate limit exceeded', u'code': 88}]",
     "output_type": "error",
     "traceback": [
      "\u001b[1;31m---------------------------------------------------------------------------\u001b[0m",
      "\u001b[1;31mRateLimitError\u001b[0m                            Traceback (most recent call last)",
      "\u001b[1;32m<ipython-input-65-6ae6161d1ce3>\u001b[0m in \u001b[0;36m<module>\u001b[1;34m()\u001b[0m\n\u001b[1;32m----> 1\u001b[1;33m \u001b[0mintesa_cursor\u001b[0m\u001b[1;33m.\u001b[0m\u001b[0mitems\u001b[0m\u001b[1;33m(\u001b[0m\u001b[1;33m)\u001b[0m\u001b[1;33m.\u001b[0m\u001b[0mnext\u001b[0m\u001b[1;33m(\u001b[0m\u001b[1;33m)\u001b[0m\u001b[1;33m\u001b[0m\u001b[0m\n\u001b[0m",
      "\u001b[1;32m/home/bigdive/anaconda2/lib/python2.7/site-packages/tweepy/cursor.pyc\u001b[0m in \u001b[0;36mnext\u001b[1;34m(self)\u001b[0m\n\u001b[0;32m    195\u001b[0m         \u001b[1;32mif\u001b[0m \u001b[0mself\u001b[0m\u001b[1;33m.\u001b[0m\u001b[0mcurrent_page\u001b[0m \u001b[1;32mis\u001b[0m \u001b[0mNone\u001b[0m \u001b[1;32mor\u001b[0m \u001b[0mself\u001b[0m\u001b[1;33m.\u001b[0m\u001b[0mpage_index\u001b[0m \u001b[1;33m==\u001b[0m \u001b[0mlen\u001b[0m\u001b[1;33m(\u001b[0m\u001b[0mself\u001b[0m\u001b[1;33m.\u001b[0m\u001b[0mcurrent_page\u001b[0m\u001b[1;33m)\u001b[0m \u001b[1;33m-\u001b[0m \u001b[1;36m1\u001b[0m\u001b[1;33m:\u001b[0m\u001b[1;33m\u001b[0m\u001b[0m\n\u001b[0;32m    196\u001b[0m             \u001b[1;31m# Reached end of current page, get the next page...\u001b[0m\u001b[1;33m\u001b[0m\u001b[1;33m\u001b[0m\u001b[0m\n\u001b[1;32m--> 197\u001b[1;33m             \u001b[0mself\u001b[0m\u001b[1;33m.\u001b[0m\u001b[0mcurrent_page\u001b[0m \u001b[1;33m=\u001b[0m \u001b[0mself\u001b[0m\u001b[1;33m.\u001b[0m\u001b[0mpage_iterator\u001b[0m\u001b[1;33m.\u001b[0m\u001b[0mnext\u001b[0m\u001b[1;33m(\u001b[0m\u001b[1;33m)\u001b[0m\u001b[1;33m\u001b[0m\u001b[0m\n\u001b[0m\u001b[0;32m    198\u001b[0m             \u001b[0mself\u001b[0m\u001b[1;33m.\u001b[0m\u001b[0mpage_index\u001b[0m \u001b[1;33m=\u001b[0m \u001b[1;33m-\u001b[0m\u001b[1;36m1\u001b[0m\u001b[1;33m\u001b[0m\u001b[0m\n\u001b[0;32m    199\u001b[0m         \u001b[0mself\u001b[0m\u001b[1;33m.\u001b[0m\u001b[0mpage_index\u001b[0m \u001b[1;33m+=\u001b[0m \u001b[1;36m1\u001b[0m\u001b[1;33m\u001b[0m\u001b[0m\n",
      "\u001b[1;32m/home/bigdive/anaconda2/lib/python2.7/site-packages/tweepy/cursor.pyc\u001b[0m in \u001b[0;36mnext\u001b[1;34m(self)\u001b[0m\n\u001b[0;32m     73\u001b[0m         data, cursors = self.method(cursor=self.next_cursor,\n\u001b[0;32m     74\u001b[0m                                     \u001b[1;33m*\u001b[0m\u001b[0mself\u001b[0m\u001b[1;33m.\u001b[0m\u001b[0margs\u001b[0m\u001b[1;33m,\u001b[0m\u001b[1;33m\u001b[0m\u001b[0m\n\u001b[1;32m---> 75\u001b[1;33m                                     **self.kargs)\n\u001b[0m\u001b[0;32m     76\u001b[0m         \u001b[0mself\u001b[0m\u001b[1;33m.\u001b[0m\u001b[0mprev_cursor\u001b[0m\u001b[1;33m,\u001b[0m \u001b[0mself\u001b[0m\u001b[1;33m.\u001b[0m\u001b[0mnext_cursor\u001b[0m \u001b[1;33m=\u001b[0m \u001b[0mcursors\u001b[0m\u001b[1;33m\u001b[0m\u001b[0m\n\u001b[0;32m     77\u001b[0m         \u001b[1;32mif\u001b[0m \u001b[0mlen\u001b[0m\u001b[1;33m(\u001b[0m\u001b[0mdata\u001b[0m\u001b[1;33m)\u001b[0m \u001b[1;33m==\u001b[0m \u001b[1;36m0\u001b[0m\u001b[1;33m:\u001b[0m\u001b[1;33m\u001b[0m\u001b[0m\n",
      "\u001b[1;32m/home/bigdive/anaconda2/lib/python2.7/site-packages/tweepy/binder.pyc\u001b[0m in \u001b[0;36m_call\u001b[1;34m(*args, **kwargs)\u001b[0m\n\u001b[0;32m    243\u001b[0m             \u001b[1;32mreturn\u001b[0m \u001b[0mmethod\u001b[0m\u001b[1;33m\u001b[0m\u001b[0m\n\u001b[0;32m    244\u001b[0m         \u001b[1;32melse\u001b[0m\u001b[1;33m:\u001b[0m\u001b[1;33m\u001b[0m\u001b[0m\n\u001b[1;32m--> 245\u001b[1;33m             \u001b[1;32mreturn\u001b[0m \u001b[0mmethod\u001b[0m\u001b[1;33m.\u001b[0m\u001b[0mexecute\u001b[0m\u001b[1;33m(\u001b[0m\u001b[1;33m)\u001b[0m\u001b[1;33m\u001b[0m\u001b[0m\n\u001b[0m\u001b[0;32m    246\u001b[0m \u001b[1;33m\u001b[0m\u001b[0m\n\u001b[0;32m    247\u001b[0m     \u001b[1;31m# Set pagination mode\u001b[0m\u001b[1;33m\u001b[0m\u001b[1;33m\u001b[0m\u001b[0m\n",
      "\u001b[1;32m/home/bigdive/anaconda2/lib/python2.7/site-packages/tweepy/binder.pyc\u001b[0m in \u001b[0;36mexecute\u001b[1;34m(self)\u001b[0m\n\u001b[0;32m    225\u001b[0m \u001b[1;33m\u001b[0m\u001b[0m\n\u001b[0;32m    226\u001b[0m                 \u001b[1;32mif\u001b[0m \u001b[0mis_rate_limit_error_message\u001b[0m\u001b[1;33m(\u001b[0m\u001b[0merror_msg\u001b[0m\u001b[1;33m)\u001b[0m\u001b[1;33m:\u001b[0m\u001b[1;33m\u001b[0m\u001b[0m\n\u001b[1;32m--> 227\u001b[1;33m                     \u001b[1;32mraise\u001b[0m \u001b[0mRateLimitError\u001b[0m\u001b[1;33m(\u001b[0m\u001b[0merror_msg\u001b[0m\u001b[1;33m,\u001b[0m \u001b[0mresp\u001b[0m\u001b[1;33m)\u001b[0m\u001b[1;33m\u001b[0m\u001b[0m\n\u001b[0m\u001b[0;32m    228\u001b[0m                 \u001b[1;32melse\u001b[0m\u001b[1;33m:\u001b[0m\u001b[1;33m\u001b[0m\u001b[0m\n\u001b[0;32m    229\u001b[0m                     \u001b[1;32mraise\u001b[0m \u001b[0mTweepError\u001b[0m\u001b[1;33m(\u001b[0m\u001b[0merror_msg\u001b[0m\u001b[1;33m,\u001b[0m \u001b[0mresp\u001b[0m\u001b[1;33m,\u001b[0m \u001b[0mapi_code\u001b[0m\u001b[1;33m=\u001b[0m\u001b[0mapi_error_code\u001b[0m\u001b[1;33m)\u001b[0m\u001b[1;33m\u001b[0m\u001b[0m\n",
      "\u001b[1;31mRateLimitError\u001b[0m: [{u'message': u'Rate limit exceeded', u'code': 88}]"
     ]
    }
   ],
   "source": [
    "intesa_cursor.items().next()"
   ]
  },
  {
   "cell_type": "code",
   "execution_count": 66,
   "metadata": {
    "collapsed": false
   },
   "outputs": [
    {
     "ename": "RateLimitError",
     "evalue": "[{u'message': u'Rate limit exceeded', u'code': 88}]",
     "output_type": "error",
     "traceback": [
      "\u001b[1;31m---------------------------------------------------------------------------\u001b[0m",
      "\u001b[1;31mRateLimitError\u001b[0m                            Traceback (most recent call last)",
      "\u001b[1;32m<ipython-input-66-c723255d872b>\u001b[0m in \u001b[0;36m<module>\u001b[1;34m()\u001b[0m\n\u001b[1;32m----> 1\u001b[1;33m \u001b[0mintesa_cursor\u001b[0m\u001b[1;33m.\u001b[0m\u001b[0mpages\u001b[0m\u001b[1;33m(\u001b[0m\u001b[1;33m)\u001b[0m\u001b[1;33m.\u001b[0m\u001b[0mnext\u001b[0m\u001b[1;33m(\u001b[0m\u001b[1;33m)\u001b[0m\u001b[1;33m\u001b[0m\u001b[0m\n\u001b[0m",
      "\u001b[1;32m/home/bigdive/anaconda2/lib/python2.7/site-packages/tweepy/cursor.pyc\u001b[0m in \u001b[0;36mnext\u001b[1;34m(self)\u001b[0m\n\u001b[0;32m     73\u001b[0m         data, cursors = self.method(cursor=self.next_cursor,\n\u001b[0;32m     74\u001b[0m                                     \u001b[1;33m*\u001b[0m\u001b[0mself\u001b[0m\u001b[1;33m.\u001b[0m\u001b[0margs\u001b[0m\u001b[1;33m,\u001b[0m\u001b[1;33m\u001b[0m\u001b[0m\n\u001b[1;32m---> 75\u001b[1;33m                                     **self.kargs)\n\u001b[0m\u001b[0;32m     76\u001b[0m         \u001b[0mself\u001b[0m\u001b[1;33m.\u001b[0m\u001b[0mprev_cursor\u001b[0m\u001b[1;33m,\u001b[0m \u001b[0mself\u001b[0m\u001b[1;33m.\u001b[0m\u001b[0mnext_cursor\u001b[0m \u001b[1;33m=\u001b[0m \u001b[0mcursors\u001b[0m\u001b[1;33m\u001b[0m\u001b[0m\n\u001b[0;32m     77\u001b[0m         \u001b[1;32mif\u001b[0m \u001b[0mlen\u001b[0m\u001b[1;33m(\u001b[0m\u001b[0mdata\u001b[0m\u001b[1;33m)\u001b[0m \u001b[1;33m==\u001b[0m \u001b[1;36m0\u001b[0m\u001b[1;33m:\u001b[0m\u001b[1;33m\u001b[0m\u001b[0m\n",
      "\u001b[1;32m/home/bigdive/anaconda2/lib/python2.7/site-packages/tweepy/binder.pyc\u001b[0m in \u001b[0;36m_call\u001b[1;34m(*args, **kwargs)\u001b[0m\n\u001b[0;32m    243\u001b[0m             \u001b[1;32mreturn\u001b[0m \u001b[0mmethod\u001b[0m\u001b[1;33m\u001b[0m\u001b[0m\n\u001b[0;32m    244\u001b[0m         \u001b[1;32melse\u001b[0m\u001b[1;33m:\u001b[0m\u001b[1;33m\u001b[0m\u001b[0m\n\u001b[1;32m--> 245\u001b[1;33m             \u001b[1;32mreturn\u001b[0m \u001b[0mmethod\u001b[0m\u001b[1;33m.\u001b[0m\u001b[0mexecute\u001b[0m\u001b[1;33m(\u001b[0m\u001b[1;33m)\u001b[0m\u001b[1;33m\u001b[0m\u001b[0m\n\u001b[0m\u001b[0;32m    246\u001b[0m \u001b[1;33m\u001b[0m\u001b[0m\n\u001b[0;32m    247\u001b[0m     \u001b[1;31m# Set pagination mode\u001b[0m\u001b[1;33m\u001b[0m\u001b[1;33m\u001b[0m\u001b[0m\n",
      "\u001b[1;32m/home/bigdive/anaconda2/lib/python2.7/site-packages/tweepy/binder.pyc\u001b[0m in \u001b[0;36mexecute\u001b[1;34m(self)\u001b[0m\n\u001b[0;32m    225\u001b[0m \u001b[1;33m\u001b[0m\u001b[0m\n\u001b[0;32m    226\u001b[0m                 \u001b[1;32mif\u001b[0m \u001b[0mis_rate_limit_error_message\u001b[0m\u001b[1;33m(\u001b[0m\u001b[0merror_msg\u001b[0m\u001b[1;33m)\u001b[0m\u001b[1;33m:\u001b[0m\u001b[1;33m\u001b[0m\u001b[0m\n\u001b[1;32m--> 227\u001b[1;33m                     \u001b[1;32mraise\u001b[0m \u001b[0mRateLimitError\u001b[0m\u001b[1;33m(\u001b[0m\u001b[0merror_msg\u001b[0m\u001b[1;33m,\u001b[0m \u001b[0mresp\u001b[0m\u001b[1;33m)\u001b[0m\u001b[1;33m\u001b[0m\u001b[0m\n\u001b[0m\u001b[0;32m    228\u001b[0m                 \u001b[1;32melse\u001b[0m\u001b[1;33m:\u001b[0m\u001b[1;33m\u001b[0m\u001b[0m\n\u001b[0;32m    229\u001b[0m                     \u001b[1;32mraise\u001b[0m \u001b[0mTweepError\u001b[0m\u001b[1;33m(\u001b[0m\u001b[0merror_msg\u001b[0m\u001b[1;33m,\u001b[0m \u001b[0mresp\u001b[0m\u001b[1;33m,\u001b[0m \u001b[0mapi_code\u001b[0m\u001b[1;33m=\u001b[0m\u001b[0mapi_error_code\u001b[0m\u001b[1;33m)\u001b[0m\u001b[1;33m\u001b[0m\u001b[0m\n",
      "\u001b[1;31mRateLimitError\u001b[0m: [{u'message': u'Rate limit exceeded', u'code': 88}]"
     ]
    }
   ],
   "source": [
    "intesa_cursor.pages().next()"
   ]
  },
  {
   "cell_type": "code",
   "execution_count": 67,
   "metadata": {
    "collapsed": false
   },
   "outputs": [
    {
     "name": "stdout",
     "output_type": "stream",
     "text": [
      "['__class__', '__delattr__', '__dict__', '__doc__', '__format__', '__getattribute__', '__hash__', '__init__', '__module__', '__new__', '__reduce__', '__reduce_ex__', '__repr__', '__setattr__', '__sizeof__', '__str__', '__subclasshook__', '__weakref__', 'items', 'iterator', 'pages']\n"
     ]
    }
   ],
   "source": [
    "print dir(intesa_cursor)"
   ]
  },
  {
   "cell_type": "code",
   "execution_count": 68,
   "metadata": {
    "collapsed": false
   },
   "outputs": [
    {
     "name": "stdout",
     "output_type": "stream",
     "text": [
      "<tweepy.cursor.ItemIterator object at 0x7f1a0d353a90>\n"
     ]
    }
   ],
   "source": [
    "print intesa_cursor.items()"
   ]
  },
  {
   "cell_type": "code",
   "execution_count": 69,
   "metadata": {
    "collapsed": false,
    "scrolled": false
   },
   "outputs": [
    {
     "ename": "RateLimitError",
     "evalue": "[{u'message': u'Rate limit exceeded', u'code': 88}]",
     "output_type": "error",
     "traceback": [
      "\u001b[1;31m---------------------------------------------------------------------------\u001b[0m",
      "\u001b[1;31mRateLimitError\u001b[0m                            Traceback (most recent call last)",
      "\u001b[1;32m<ipython-input-69-a3d3b605ab33>\u001b[0m in \u001b[0;36m<module>\u001b[1;34m()\u001b[0m\n\u001b[1;32m----> 1\u001b[1;33m \u001b[1;32mfor\u001b[0m \u001b[0mfollower\u001b[0m \u001b[1;32min\u001b[0m \u001b[0mintesa_cursor\u001b[0m\u001b[1;33m.\u001b[0m\u001b[0mitems\u001b[0m\u001b[1;33m(\u001b[0m\u001b[1;33m)\u001b[0m\u001b[1;33m:\u001b[0m\u001b[1;33m\u001b[0m\u001b[0m\n\u001b[0m\u001b[0;32m      2\u001b[0m     \u001b[1;32mprint\u001b[0m \u001b[0mfollower\u001b[0m\u001b[1;33m\u001b[0m\u001b[0m\n",
      "\u001b[1;32m/home/bigdive/anaconda2/lib/python2.7/site-packages/tweepy/cursor.pyc\u001b[0m in \u001b[0;36mnext\u001b[1;34m(self)\u001b[0m\n\u001b[0;32m    195\u001b[0m         \u001b[1;32mif\u001b[0m \u001b[0mself\u001b[0m\u001b[1;33m.\u001b[0m\u001b[0mcurrent_page\u001b[0m \u001b[1;32mis\u001b[0m \u001b[0mNone\u001b[0m \u001b[1;32mor\u001b[0m \u001b[0mself\u001b[0m\u001b[1;33m.\u001b[0m\u001b[0mpage_index\u001b[0m \u001b[1;33m==\u001b[0m \u001b[0mlen\u001b[0m\u001b[1;33m(\u001b[0m\u001b[0mself\u001b[0m\u001b[1;33m.\u001b[0m\u001b[0mcurrent_page\u001b[0m\u001b[1;33m)\u001b[0m \u001b[1;33m-\u001b[0m \u001b[1;36m1\u001b[0m\u001b[1;33m:\u001b[0m\u001b[1;33m\u001b[0m\u001b[0m\n\u001b[0;32m    196\u001b[0m             \u001b[1;31m# Reached end of current page, get the next page...\u001b[0m\u001b[1;33m\u001b[0m\u001b[1;33m\u001b[0m\u001b[0m\n\u001b[1;32m--> 197\u001b[1;33m             \u001b[0mself\u001b[0m\u001b[1;33m.\u001b[0m\u001b[0mcurrent_page\u001b[0m \u001b[1;33m=\u001b[0m \u001b[0mself\u001b[0m\u001b[1;33m.\u001b[0m\u001b[0mpage_iterator\u001b[0m\u001b[1;33m.\u001b[0m\u001b[0mnext\u001b[0m\u001b[1;33m(\u001b[0m\u001b[1;33m)\u001b[0m\u001b[1;33m\u001b[0m\u001b[0m\n\u001b[0m\u001b[0;32m    198\u001b[0m             \u001b[0mself\u001b[0m\u001b[1;33m.\u001b[0m\u001b[0mpage_index\u001b[0m \u001b[1;33m=\u001b[0m \u001b[1;33m-\u001b[0m\u001b[1;36m1\u001b[0m\u001b[1;33m\u001b[0m\u001b[0m\n\u001b[0;32m    199\u001b[0m         \u001b[0mself\u001b[0m\u001b[1;33m.\u001b[0m\u001b[0mpage_index\u001b[0m \u001b[1;33m+=\u001b[0m \u001b[1;36m1\u001b[0m\u001b[1;33m\u001b[0m\u001b[0m\n",
      "\u001b[1;32m/home/bigdive/anaconda2/lib/python2.7/site-packages/tweepy/cursor.pyc\u001b[0m in \u001b[0;36mnext\u001b[1;34m(self)\u001b[0m\n\u001b[0;32m     73\u001b[0m         data, cursors = self.method(cursor=self.next_cursor,\n\u001b[0;32m     74\u001b[0m                                     \u001b[1;33m*\u001b[0m\u001b[0mself\u001b[0m\u001b[1;33m.\u001b[0m\u001b[0margs\u001b[0m\u001b[1;33m,\u001b[0m\u001b[1;33m\u001b[0m\u001b[0m\n\u001b[1;32m---> 75\u001b[1;33m                                     **self.kargs)\n\u001b[0m\u001b[0;32m     76\u001b[0m         \u001b[0mself\u001b[0m\u001b[1;33m.\u001b[0m\u001b[0mprev_cursor\u001b[0m\u001b[1;33m,\u001b[0m \u001b[0mself\u001b[0m\u001b[1;33m.\u001b[0m\u001b[0mnext_cursor\u001b[0m \u001b[1;33m=\u001b[0m \u001b[0mcursors\u001b[0m\u001b[1;33m\u001b[0m\u001b[0m\n\u001b[0;32m     77\u001b[0m         \u001b[1;32mif\u001b[0m \u001b[0mlen\u001b[0m\u001b[1;33m(\u001b[0m\u001b[0mdata\u001b[0m\u001b[1;33m)\u001b[0m \u001b[1;33m==\u001b[0m \u001b[1;36m0\u001b[0m\u001b[1;33m:\u001b[0m\u001b[1;33m\u001b[0m\u001b[0m\n",
      "\u001b[1;32m/home/bigdive/anaconda2/lib/python2.7/site-packages/tweepy/binder.pyc\u001b[0m in \u001b[0;36m_call\u001b[1;34m(*args, **kwargs)\u001b[0m\n\u001b[0;32m    243\u001b[0m             \u001b[1;32mreturn\u001b[0m \u001b[0mmethod\u001b[0m\u001b[1;33m\u001b[0m\u001b[0m\n\u001b[0;32m    244\u001b[0m         \u001b[1;32melse\u001b[0m\u001b[1;33m:\u001b[0m\u001b[1;33m\u001b[0m\u001b[0m\n\u001b[1;32m--> 245\u001b[1;33m             \u001b[1;32mreturn\u001b[0m \u001b[0mmethod\u001b[0m\u001b[1;33m.\u001b[0m\u001b[0mexecute\u001b[0m\u001b[1;33m(\u001b[0m\u001b[1;33m)\u001b[0m\u001b[1;33m\u001b[0m\u001b[0m\n\u001b[0m\u001b[0;32m    246\u001b[0m \u001b[1;33m\u001b[0m\u001b[0m\n\u001b[0;32m    247\u001b[0m     \u001b[1;31m# Set pagination mode\u001b[0m\u001b[1;33m\u001b[0m\u001b[1;33m\u001b[0m\u001b[0m\n",
      "\u001b[1;32m/home/bigdive/anaconda2/lib/python2.7/site-packages/tweepy/binder.pyc\u001b[0m in \u001b[0;36mexecute\u001b[1;34m(self)\u001b[0m\n\u001b[0;32m    225\u001b[0m \u001b[1;33m\u001b[0m\u001b[0m\n\u001b[0;32m    226\u001b[0m                 \u001b[1;32mif\u001b[0m \u001b[0mis_rate_limit_error_message\u001b[0m\u001b[1;33m(\u001b[0m\u001b[0merror_msg\u001b[0m\u001b[1;33m)\u001b[0m\u001b[1;33m:\u001b[0m\u001b[1;33m\u001b[0m\u001b[0m\n\u001b[1;32m--> 227\u001b[1;33m                     \u001b[1;32mraise\u001b[0m \u001b[0mRateLimitError\u001b[0m\u001b[1;33m(\u001b[0m\u001b[0merror_msg\u001b[0m\u001b[1;33m,\u001b[0m \u001b[0mresp\u001b[0m\u001b[1;33m)\u001b[0m\u001b[1;33m\u001b[0m\u001b[0m\n\u001b[0m\u001b[0;32m    228\u001b[0m                 \u001b[1;32melse\u001b[0m\u001b[1;33m:\u001b[0m\u001b[1;33m\u001b[0m\u001b[0m\n\u001b[0;32m    229\u001b[0m                     \u001b[1;32mraise\u001b[0m \u001b[0mTweepError\u001b[0m\u001b[1;33m(\u001b[0m\u001b[0merror_msg\u001b[0m\u001b[1;33m,\u001b[0m \u001b[0mresp\u001b[0m\u001b[1;33m,\u001b[0m \u001b[0mapi_code\u001b[0m\u001b[1;33m=\u001b[0m\u001b[0mapi_error_code\u001b[0m\u001b[1;33m)\u001b[0m\u001b[1;33m\u001b[0m\u001b[0m\n",
      "\u001b[1;31mRateLimitError\u001b[0m: [{u'message': u'Rate limit exceeded', u'code': 88}]"
     ]
    }
   ],
   "source": [
    "for follower in intesa_cursor.items():\n",
    "    print follower"
   ]
  },
  {
   "cell_type": "code",
   "execution_count": 70,
   "metadata": {
    "collapsed": false
   },
   "outputs": [
    {
     "ename": "RateLimitError",
     "evalue": "[{u'message': u'Rate limit exceeded', u'code': 88}]",
     "output_type": "error",
     "traceback": [
      "\u001b[1;31m---------------------------------------------------------------------------\u001b[0m",
      "\u001b[1;31mRateLimitError\u001b[0m                            Traceback (most recent call last)",
      "\u001b[1;32m<ipython-input-70-baab8048c4af>\u001b[0m in \u001b[0;36m<module>\u001b[1;34m()\u001b[0m\n\u001b[0;32m      1\u001b[0m \u001b[0mmylist\u001b[0m \u001b[1;33m=\u001b[0m \u001b[1;33m[\u001b[0m\u001b[1;33m]\u001b[0m\u001b[1;33m\u001b[0m\u001b[0m\n\u001b[1;32m----> 2\u001b[1;33m \u001b[1;32mfor\u001b[0m \u001b[0mfollower\u001b[0m \u001b[1;32min\u001b[0m \u001b[0mintesa_cursor\u001b[0m\u001b[1;33m.\u001b[0m\u001b[0mpages\u001b[0m\u001b[1;33m(\u001b[0m\u001b[1;33m)\u001b[0m\u001b[1;33m:\u001b[0m\u001b[1;33m\u001b[0m\u001b[0m\n\u001b[0m\u001b[0;32m      3\u001b[0m     \u001b[1;32mprint\u001b[0m \u001b[0mmylist\u001b[0m\u001b[1;33m.\u001b[0m\u001b[0mextend\u001b[0m\u001b[1;33m(\u001b[0m\u001b[0mfollower\u001b[0m\u001b[1;33m)\u001b[0m\u001b[1;33m\u001b[0m\u001b[0m\n\u001b[0;32m      4\u001b[0m     \u001b[1;32mbreak\u001b[0m\u001b[1;33m\u001b[0m\u001b[0m\n",
      "\u001b[1;32m/home/bigdive/anaconda2/lib/python2.7/site-packages/tweepy/cursor.pyc\u001b[0m in \u001b[0;36mnext\u001b[1;34m(self)\u001b[0m\n\u001b[0;32m     73\u001b[0m         data, cursors = self.method(cursor=self.next_cursor,\n\u001b[0;32m     74\u001b[0m                                     \u001b[1;33m*\u001b[0m\u001b[0mself\u001b[0m\u001b[1;33m.\u001b[0m\u001b[0margs\u001b[0m\u001b[1;33m,\u001b[0m\u001b[1;33m\u001b[0m\u001b[0m\n\u001b[1;32m---> 75\u001b[1;33m                                     **self.kargs)\n\u001b[0m\u001b[0;32m     76\u001b[0m         \u001b[0mself\u001b[0m\u001b[1;33m.\u001b[0m\u001b[0mprev_cursor\u001b[0m\u001b[1;33m,\u001b[0m \u001b[0mself\u001b[0m\u001b[1;33m.\u001b[0m\u001b[0mnext_cursor\u001b[0m \u001b[1;33m=\u001b[0m \u001b[0mcursors\u001b[0m\u001b[1;33m\u001b[0m\u001b[0m\n\u001b[0;32m     77\u001b[0m         \u001b[1;32mif\u001b[0m \u001b[0mlen\u001b[0m\u001b[1;33m(\u001b[0m\u001b[0mdata\u001b[0m\u001b[1;33m)\u001b[0m \u001b[1;33m==\u001b[0m \u001b[1;36m0\u001b[0m\u001b[1;33m:\u001b[0m\u001b[1;33m\u001b[0m\u001b[0m\n",
      "\u001b[1;32m/home/bigdive/anaconda2/lib/python2.7/site-packages/tweepy/binder.pyc\u001b[0m in \u001b[0;36m_call\u001b[1;34m(*args, **kwargs)\u001b[0m\n\u001b[0;32m    243\u001b[0m             \u001b[1;32mreturn\u001b[0m \u001b[0mmethod\u001b[0m\u001b[1;33m\u001b[0m\u001b[0m\n\u001b[0;32m    244\u001b[0m         \u001b[1;32melse\u001b[0m\u001b[1;33m:\u001b[0m\u001b[1;33m\u001b[0m\u001b[0m\n\u001b[1;32m--> 245\u001b[1;33m             \u001b[1;32mreturn\u001b[0m \u001b[0mmethod\u001b[0m\u001b[1;33m.\u001b[0m\u001b[0mexecute\u001b[0m\u001b[1;33m(\u001b[0m\u001b[1;33m)\u001b[0m\u001b[1;33m\u001b[0m\u001b[0m\n\u001b[0m\u001b[0;32m    246\u001b[0m \u001b[1;33m\u001b[0m\u001b[0m\n\u001b[0;32m    247\u001b[0m     \u001b[1;31m# Set pagination mode\u001b[0m\u001b[1;33m\u001b[0m\u001b[1;33m\u001b[0m\u001b[0m\n",
      "\u001b[1;32m/home/bigdive/anaconda2/lib/python2.7/site-packages/tweepy/binder.pyc\u001b[0m in \u001b[0;36mexecute\u001b[1;34m(self)\u001b[0m\n\u001b[0;32m    225\u001b[0m \u001b[1;33m\u001b[0m\u001b[0m\n\u001b[0;32m    226\u001b[0m                 \u001b[1;32mif\u001b[0m \u001b[0mis_rate_limit_error_message\u001b[0m\u001b[1;33m(\u001b[0m\u001b[0merror_msg\u001b[0m\u001b[1;33m)\u001b[0m\u001b[1;33m:\u001b[0m\u001b[1;33m\u001b[0m\u001b[0m\n\u001b[1;32m--> 227\u001b[1;33m                     \u001b[1;32mraise\u001b[0m \u001b[0mRateLimitError\u001b[0m\u001b[1;33m(\u001b[0m\u001b[0merror_msg\u001b[0m\u001b[1;33m,\u001b[0m \u001b[0mresp\u001b[0m\u001b[1;33m)\u001b[0m\u001b[1;33m\u001b[0m\u001b[0m\n\u001b[0m\u001b[0;32m    228\u001b[0m                 \u001b[1;32melse\u001b[0m\u001b[1;33m:\u001b[0m\u001b[1;33m\u001b[0m\u001b[0m\n\u001b[0;32m    229\u001b[0m                     \u001b[1;32mraise\u001b[0m \u001b[0mTweepError\u001b[0m\u001b[1;33m(\u001b[0m\u001b[0merror_msg\u001b[0m\u001b[1;33m,\u001b[0m \u001b[0mresp\u001b[0m\u001b[1;33m,\u001b[0m \u001b[0mapi_code\u001b[0m\u001b[1;33m=\u001b[0m\u001b[0mapi_error_code\u001b[0m\u001b[1;33m)\u001b[0m\u001b[1;33m\u001b[0m\u001b[0m\n",
      "\u001b[1;31mRateLimitError\u001b[0m: [{u'message': u'Rate limit exceeded', u'code': 88}]"
     ]
    }
   ],
   "source": [
    "mylist = []\n",
    "for follower in intesa_cursor.pages():\n",
    "    print mylist.extend(follower)\n",
    "    break"
   ]
  },
  {
   "cell_type": "code",
   "execution_count": 71,
   "metadata": {
    "collapsed": false
   },
   "outputs": [
    {
     "data": {
      "text/plain": [
       "0"
      ]
     },
     "execution_count": 71,
     "metadata": {},
     "output_type": "execute_result"
    }
   ],
   "source": [
    "len(mylist)"
   ]
  },
  {
   "cell_type": "code",
   "execution_count": 72,
   "metadata": {
    "collapsed": false
   },
   "outputs": [
    {
     "ename": "IndexError",
     "evalue": "list index out of range",
     "output_type": "error",
     "traceback": [
      "\u001b[1;31m---------------------------------------------------------------------------\u001b[0m",
      "\u001b[1;31mIndexError\u001b[0m                                Traceback (most recent call last)",
      "\u001b[1;32m<ipython-input-72-750f4313fa5d>\u001b[0m in \u001b[0;36m<module>\u001b[1;34m()\u001b[0m\n\u001b[1;32m----> 1\u001b[1;33m \u001b[0mmylist\u001b[0m\u001b[1;33m[\u001b[0m\u001b[1;36m0\u001b[0m\u001b[1;33m]\u001b[0m\u001b[1;33m.\u001b[0m\u001b[0m_json\u001b[0m\u001b[1;33m\u001b[0m\u001b[0m\n\u001b[0m",
      "\u001b[1;31mIndexError\u001b[0m: list index out of range"
     ]
    }
   ],
   "source": [
    "mylist[0]._json"
   ]
  },
  {
   "cell_type": "code",
   "execution_count": 73,
   "metadata": {
    "collapsed": false
   },
   "outputs": [],
   "source": [
    "for i, f in enumerate(mylist):\n",
    "    print i, f.statuses_count"
   ]
  },
  {
   "cell_type": "markdown",
   "metadata": {
    "collapsed": true
   },
   "source": [
    "# Get Hashtags\n"
   ]
  },
  {
   "cell_type": "code",
   "execution_count": 74,
   "metadata": {
    "collapsed": false,
    "scrolled": false
   },
   "outputs": [
    {
     "name": "stdout",
     "output_type": "stream",
     "text": [
      "RT @roycan79: ABOUT TIME --&gt; Man Charged After Destroying Donald Trump's Walk of Fame Star with Sledgehammer. #BetterWay #Trump https://t.c…\n",
      "RT @The_NewRight: If your news source talks about the KKK without mentioning Hillary &amp; Robert Byrd, you've got #FakeNews! #Trump #Trump2016\n",
      "RT @AfricanaCarr: This is deadly serious: Anyone \"normalizing\" this #Trump full-on embrace &amp; institutionalization of white supremacists can…\n",
      "RT @malagurski: Still afraid of #Trump? https://t.co/C5T1zIV5B2\n",
      "RT @Joyce_Karam: Problematic tweets from #Flynn , #Trump 's NSA appointee, on Arabs, Muslims, Persians, and headscarf: https://t.co/zbDLOqb…\n",
      "\n",
      "-----\n",
      "\n",
      "Status(contributors=None, truncated=False, text=u\"RT @roycan79: ABOUT TIME --&gt; Man Charged After Destroying Donald Trump's Walk of Fame Star with Sledgehammer. #BetterWay #Trump https://t.c\\u2026\", is_quote_status=False, in_reply_to_status_id=None, id=799629219953152000, favorite_count=0, _api=<tweepy.api.API object at 0x7f1a242adad0>, author=User(follow_request_sent=False, has_extended_profile=False, profile_use_background_image=False, _json={u'follow_request_sent': False, u'has_extended_profile': False, u'profile_use_background_image': False, u'default_profile_image': False, u'id': 386874585, u'profile_background_image_url_https': u'https://abs.twimg.com/images/themes/theme1/bg.png', u'verified': False, u'translator_type': u'none', u'profile_text_color': u'000000', u'profile_image_url_https': u'https://pbs.twimg.com/profile_images/553311644281884672/4NBBa0kw_normal.jpeg', u'profile_sidebar_fill_color': u'000000', u'entities': {u'description': {u'urls': []}}, u'followers_count': 1105, u'profile_sidebar_border_color': u'000000', u'id_str': u'386874585', u'profile_background_color': u'000000', u'listed_count': 60, u'is_translation_enabled': False, u'utc_offset': -28800, u'statuses_count': 21912, u'description': u\"I'm easy like Sunday morning ! \\xaf\\\\_(\\u30c4)_/\\xaf\", u'friends_count': 1798, u'location': u'', u'profile_link_color': u'ABB8C2', u'profile_image_url': u'http://pbs.twimg.com/profile_images/553311644281884672/4NBBa0kw_normal.jpeg', u'following': False, u'geo_enabled': False, u'profile_banner_url': u'https://pbs.twimg.com/profile_banners/386874585/1479273448', u'profile_background_image_url': u'http://abs.twimg.com/images/themes/theme1/bg.png', u'screen_name': u'KTownSaint', u'lang': u'en', u'profile_background_tile': False, u'favourites_count': 14344, u'name': u'\\u2618\\ufe0fTWOHCAN', u'notifications': False, u'url': None, u'created_at': u'Sat Oct 08 02:25:08 +0000 2011', u'contributors_enabled': False, u'time_zone': u'Pacific Time (US & Canada)', u'protected': False, u'default_profile': False, u'is_translator': False}, time_zone=u'Pacific Time (US & Canada)', id=386874585, description=u\"I'm easy like Sunday morning ! \\xaf\\\\_(\\u30c4)_/\\xaf\", _api=<tweepy.api.API object at 0x7f1a242adad0>, verified=False, profile_text_color=u'000000', profile_image_url_https=u'https://pbs.twimg.com/profile_images/553311644281884672/4NBBa0kw_normal.jpeg', profile_sidebar_fill_color=u'000000', is_translator=False, geo_enabled=False, entities={u'description': {u'urls': []}}, followers_count=1105, protected=False, id_str=u'386874585', default_profile_image=False, listed_count=60, lang=u'en', utc_offset=-28800, statuses_count=21912, profile_background_color=u'000000', friends_count=1798, profile_link_color=u'ABB8C2', profile_image_url=u'http://pbs.twimg.com/profile_images/553311644281884672/4NBBa0kw_normal.jpeg', notifications=False, default_profile=False, profile_background_image_url_https=u'https://abs.twimg.com/images/themes/theme1/bg.png', profile_banner_url=u'https://pbs.twimg.com/profile_banners/386874585/1479273448', profile_background_image_url=u'http://abs.twimg.com/images/themes/theme1/bg.png', name=u'\\u2618\\ufe0fTWOHCAN', is_translation_enabled=False, profile_background_tile=False, favourites_count=14344, screen_name=u'KTownSaint', url=None, created_at=datetime.datetime(2011, 10, 8, 2, 25, 8), contributors_enabled=False, location=u'', profile_sidebar_border_color=u'000000', translator_type=u'none', following=False), _json={u'contributors': None, u'truncated': False, u'text': u\"RT @roycan79: ABOUT TIME --&gt; Man Charged After Destroying Donald Trump's Walk of Fame Star with Sledgehammer. #BetterWay #Trump https://t.c\\u2026\", u'is_quote_status': False, u'in_reply_to_status_id': None, u'id': 799629219953152000, u'favorite_count': 0, u'entities': {u'symbols': [], u'user_mentions': [{u'id': 1499268588, u'indices': [3, 12], u'id_str': u'1499268588', u'screen_name': u'roycan79', u'name': u'Candace'}], u'hashtags': [{u'indices': [113, 123], u'text': u'BetterWay'}, {u'indices': [124, 130], u'text': u'Trump'}], u'urls': []}, u'retweeted': False, u'coordinates': None, u'source': u'<a href=\"http://twitter.com/download/iphone\" rel=\"nofollow\">Twitter for iPhone</a>', u'in_reply_to_screen_name': None, u'in_reply_to_user_id': None, u'retweet_count': 19, u'id_str': u'799629219953152000', u'favorited': False, u'retweeted_status': {u'contributors': None, u'truncated': True, u'text': u\"ABOUT TIME --&gt; Man Charged After Destroying Donald Trump's Walk of Fame Star with Sledgehammer. #BetterWay #Trump\\u2026 https://t.co/wQ8Iu8XQql\", u'is_quote_status': False, u'in_reply_to_status_id': None, u'id': 799608986857152512, u'favorite_count': 21, u'entities': {u'symbols': [], u'user_mentions': [], u'hashtags': [{u'indices': [99, 109], u'text': u'BetterWay'}, {u'indices': [110, 116], u'text': u'Trump'}], u'urls': [{u'url': u'https://t.co/wQ8Iu8XQql', u'indices': [118, 141], u'expanded_url': u'https://twitter.com/i/web/status/799608986857152512', u'display_url': u'twitter.com/i/web/status/7\\u2026'}]}, u'retweeted': False, u'coordinates': None, u'source': u'<a href=\"http://twitter.com\" rel=\"nofollow\">Twitter Web Client</a>', u'in_reply_to_screen_name': None, u'in_reply_to_user_id': None, u'retweet_count': 19, u'id_str': u'799608986857152512', u'favorited': False, u'user': {u'follow_request_sent': False, u'has_extended_profile': False, u'profile_use_background_image': False, u'default_profile_image': False, u'id': 1499268588, u'profile_background_image_url_https': u'https://abs.twimg.com/images/themes/theme1/bg.png', u'verified': False, u'translator_type': u'none', u'profile_text_color': u'000000', u'profile_image_url_https': u'https://pbs.twimg.com/profile_images/784050720056176645/tTVsPoFX_normal.jpg', u'profile_sidebar_fill_color': u'000000', u'entities': {u'description': {u'urls': []}}, u'followers_count': 6875, u'profile_sidebar_border_color': u'000000', u'id_str': u'1499268588', u'profile_background_color': u'000000', u'listed_count': 41, u'is_translation_enabled': False, u'utc_offset': None, u'statuses_count': 24270, u'description': u\"Staunch and fierce supporter of #PresidentElectTrump. Anxiously awaiting the dawning of 'America First' on January 20, 2017. #DrainTheSwamp #PresidentTrump\", u'friends_count': 1082, u'location': u'USA', u'profile_link_color': u'981CEB', u'profile_image_url': u'http://pbs.twimg.com/profile_images/784050720056176645/tTVsPoFX_normal.jpg', u'following': False, u'geo_enabled': True, u'profile_banner_url': u'https://pbs.twimg.com/profile_banners/1499268588/1476217404', u'profile_background_image_url': u'http://abs.twimg.com/images/themes/theme1/bg.png', u'screen_name': u'roycan79', u'lang': u'en', u'profile_background_tile': False, u'favourites_count': 16248, u'name': u'Candace', u'notifications': False, u'url': None, u'created_at': u'Mon Jun 10 20:26:00 +0000 2013', u'contributors_enabled': False, u'time_zone': None, u'protected': False, u'default_profile': False, u'is_translator': False}, u'geo': None, u'in_reply_to_user_id_str': None, u'possibly_sensitive': False, u'lang': u'en', u'created_at': u'Fri Nov 18 13:43:33 +0000 2016', u'in_reply_to_status_id_str': None, u'place': None, u'metadata': {u'iso_language_code': u'en', u'result_type': u'recent'}}, u'user': {u'follow_request_sent': False, u'has_extended_profile': False, u'profile_use_background_image': False, u'default_profile_image': False, u'id': 386874585, u'profile_background_image_url_https': u'https://abs.twimg.com/images/themes/theme1/bg.png', u'verified': False, u'translator_type': u'none', u'profile_text_color': u'000000', u'profile_image_url_https': u'https://pbs.twimg.com/profile_images/553311644281884672/4NBBa0kw_normal.jpeg', u'profile_sidebar_fill_color': u'000000', u'entities': {u'description': {u'urls': []}}, u'followers_count': 1105, u'profile_sidebar_border_color': u'000000', u'id_str': u'386874585', u'profile_background_color': u'000000', u'listed_count': 60, u'is_translation_enabled': False, u'utc_offset': -28800, u'statuses_count': 21912, u'description': u\"I'm easy like Sunday morning ! \\xaf\\\\_(\\u30c4)_/\\xaf\", u'friends_count': 1798, u'location': u'', u'profile_link_color': u'ABB8C2', u'profile_image_url': u'http://pbs.twimg.com/profile_images/553311644281884672/4NBBa0kw_normal.jpeg', u'following': False, u'geo_enabled': False, u'profile_banner_url': u'https://pbs.twimg.com/profile_banners/386874585/1479273448', u'profile_background_image_url': u'http://abs.twimg.com/images/themes/theme1/bg.png', u'screen_name': u'KTownSaint', u'lang': u'en', u'profile_background_tile': False, u'favourites_count': 14344, u'name': u'\\u2618\\ufe0fTWOHCAN', u'notifications': False, u'url': None, u'created_at': u'Sat Oct 08 02:25:08 +0000 2011', u'contributors_enabled': False, u'time_zone': u'Pacific Time (US & Canada)', u'protected': False, u'default_profile': False, u'is_translator': False}, u'geo': None, u'in_reply_to_user_id_str': None, u'lang': u'en', u'created_at': u'Fri Nov 18 15:03:57 +0000 2016', u'in_reply_to_status_id_str': None, u'place': None, u'metadata': {u'iso_language_code': u'en', u'result_type': u'recent'}}, coordinates=None, entities={u'symbols': [], u'user_mentions': [{u'id': 1499268588, u'indices': [3, 12], u'id_str': u'1499268588', u'screen_name': u'roycan79', u'name': u'Candace'}], u'hashtags': [{u'indices': [113, 123], u'text': u'BetterWay'}, {u'indices': [124, 130], u'text': u'Trump'}], u'urls': []}, in_reply_to_screen_name=None, id_str=u'799629219953152000', retweet_count=19, in_reply_to_user_id=None, favorited=False, retweeted_status=Status(contributors=None, truncated=True, text=u\"ABOUT TIME --&gt; Man Charged After Destroying Donald Trump's Walk of Fame Star with Sledgehammer. #BetterWay #Trump\\u2026 https://t.co/wQ8Iu8XQql\", is_quote_status=False, in_reply_to_status_id=None, id=799608986857152512, favorite_count=21, _api=<tweepy.api.API object at 0x7f1a242adad0>, author=User(follow_request_sent=False, has_extended_profile=False, profile_use_background_image=False, _json={u'follow_request_sent': False, u'has_extended_profile': False, u'profile_use_background_image': False, u'default_profile_image': False, u'id': 1499268588, u'profile_background_image_url_https': u'https://abs.twimg.com/images/themes/theme1/bg.png', u'verified': False, u'translator_type': u'none', u'profile_text_color': u'000000', u'profile_image_url_https': u'https://pbs.twimg.com/profile_images/784050720056176645/tTVsPoFX_normal.jpg', u'profile_sidebar_fill_color': u'000000', u'entities': {u'description': {u'urls': []}}, u'followers_count': 6875, u'profile_sidebar_border_color': u'000000', u'id_str': u'1499268588', u'profile_background_color': u'000000', u'listed_count': 41, u'is_translation_enabled': False, u'utc_offset': None, u'statuses_count': 24270, u'description': u\"Staunch and fierce supporter of #PresidentElectTrump. Anxiously awaiting the dawning of 'America First' on January 20, 2017. #DrainTheSwamp #PresidentTrump\", u'friends_count': 1082, u'location': u'USA', u'profile_link_color': u'981CEB', u'profile_image_url': u'http://pbs.twimg.com/profile_images/784050720056176645/tTVsPoFX_normal.jpg', u'following': False, u'geo_enabled': True, u'profile_banner_url': u'https://pbs.twimg.com/profile_banners/1499268588/1476217404', u'profile_background_image_url': u'http://abs.twimg.com/images/themes/theme1/bg.png', u'screen_name': u'roycan79', u'lang': u'en', u'profile_background_tile': False, u'favourites_count': 16248, u'name': u'Candace', u'notifications': False, u'url': None, u'created_at': u'Mon Jun 10 20:26:00 +0000 2013', u'contributors_enabled': False, u'time_zone': None, u'protected': False, u'default_profile': False, u'is_translator': False}, time_zone=None, id=1499268588, description=u\"Staunch and fierce supporter of #PresidentElectTrump. Anxiously awaiting the dawning of 'America First' on January 20, 2017. #DrainTheSwamp #PresidentTrump\", _api=<tweepy.api.API object at 0x7f1a242adad0>, verified=False, profile_text_color=u'000000', profile_image_url_https=u'https://pbs.twimg.com/profile_images/784050720056176645/tTVsPoFX_normal.jpg', profile_sidebar_fill_color=u'000000', is_translator=False, geo_enabled=True, entities={u'description': {u'urls': []}}, followers_count=6875, protected=False, id_str=u'1499268588', default_profile_image=False, listed_count=41, lang=u'en', utc_offset=None, statuses_count=24270, profile_background_color=u'000000', friends_count=1082, profile_link_color=u'981CEB', profile_image_url=u'http://pbs.twimg.com/profile_images/784050720056176645/tTVsPoFX_normal.jpg', notifications=False, default_profile=False, profile_background_image_url_https=u'https://abs.twimg.com/images/themes/theme1/bg.png', profile_banner_url=u'https://pbs.twimg.com/profile_banners/1499268588/1476217404', profile_background_image_url=u'http://abs.twimg.com/images/themes/theme1/bg.png', name=u'Candace', is_translation_enabled=False, profile_background_tile=False, favourites_count=16248, screen_name=u'roycan79', url=None, created_at=datetime.datetime(2013, 6, 10, 20, 26), contributors_enabled=False, location=u'USA', profile_sidebar_border_color=u'000000', translator_type=u'none', following=False), _json={u'contributors': None, u'truncated': True, u'text': u\"ABOUT TIME --&gt; Man Charged After Destroying Donald Trump's Walk of Fame Star with Sledgehammer. #BetterWay #Trump\\u2026 https://t.co/wQ8Iu8XQql\", u'is_quote_status': False, u'in_reply_to_status_id': None, u'id': 799608986857152512, u'favorite_count': 21, u'entities': {u'symbols': [], u'user_mentions': [], u'hashtags': [{u'indices': [99, 109], u'text': u'BetterWay'}, {u'indices': [110, 116], u'text': u'Trump'}], u'urls': [{u'url': u'https://t.co/wQ8Iu8XQql', u'indices': [118, 141], u'expanded_url': u'https://twitter.com/i/web/status/799608986857152512', u'display_url': u'twitter.com/i/web/status/7\\u2026'}]}, u'retweeted': False, u'coordinates': None, u'source': u'<a href=\"http://twitter.com\" rel=\"nofollow\">Twitter Web Client</a>', u'in_reply_to_screen_name': None, u'in_reply_to_user_id': None, u'retweet_count': 19, u'id_str': u'799608986857152512', u'favorited': False, u'user': {u'follow_request_sent': False, u'has_extended_profile': False, u'profile_use_background_image': False, u'default_profile_image': False, u'id': 1499268588, u'profile_background_image_url_https': u'https://abs.twimg.com/images/themes/theme1/bg.png', u'verified': False, u'translator_type': u'none', u'profile_text_color': u'000000', u'profile_image_url_https': u'https://pbs.twimg.com/profile_images/784050720056176645/tTVsPoFX_normal.jpg', u'profile_sidebar_fill_color': u'000000', u'entities': {u'description': {u'urls': []}}, u'followers_count': 6875, u'profile_sidebar_border_color': u'000000', u'id_str': u'1499268588', u'profile_background_color': u'000000', u'listed_count': 41, u'is_translation_enabled': False, u'utc_offset': None, u'statuses_count': 24270, u'description': u\"Staunch and fierce supporter of #PresidentElectTrump. Anxiously awaiting the dawning of 'America First' on January 20, 2017. #DrainTheSwamp #PresidentTrump\", u'friends_count': 1082, u'location': u'USA', u'profile_link_color': u'981CEB', u'profile_image_url': u'http://pbs.twimg.com/profile_images/784050720056176645/tTVsPoFX_normal.jpg', u'following': False, u'geo_enabled': True, u'profile_banner_url': u'https://pbs.twimg.com/profile_banners/1499268588/1476217404', u'profile_background_image_url': u'http://abs.twimg.com/images/themes/theme1/bg.png', u'screen_name': u'roycan79', u'lang': u'en', u'profile_background_tile': False, u'favourites_count': 16248, u'name': u'Candace', u'notifications': False, u'url': None, u'created_at': u'Mon Jun 10 20:26:00 +0000 2013', u'contributors_enabled': False, u'time_zone': None, u'protected': False, u'default_profile': False, u'is_translator': False}, u'geo': None, u'in_reply_to_user_id_str': None, u'possibly_sensitive': False, u'lang': u'en', u'created_at': u'Fri Nov 18 13:43:33 +0000 2016', u'in_reply_to_status_id_str': None, u'place': None, u'metadata': {u'iso_language_code': u'en', u'result_type': u'recent'}}, coordinates=None, entities={u'symbols': [], u'user_mentions': [], u'hashtags': [{u'indices': [99, 109], u'text': u'BetterWay'}, {u'indices': [110, 116], u'text': u'Trump'}], u'urls': [{u'url': u'https://t.co/wQ8Iu8XQql', u'indices': [118, 141], u'expanded_url': u'https://twitter.com/i/web/status/799608986857152512', u'display_url': u'twitter.com/i/web/status/7\\u2026'}]}, in_reply_to_screen_name=None, id_str=u'799608986857152512', retweet_count=19, in_reply_to_user_id=None, favorited=False, source_url=u'http://twitter.com', user=User(follow_request_sent=False, has_extended_profile=False, profile_use_background_image=False, _json={u'follow_request_sent': False, u'has_extended_profile': False, u'profile_use_background_image': False, u'default_profile_image': False, u'id': 1499268588, u'profile_background_image_url_https': u'https://abs.twimg.com/images/themes/theme1/bg.png', u'verified': False, u'translator_type': u'none', u'profile_text_color': u'000000', u'profile_image_url_https': u'https://pbs.twimg.com/profile_images/784050720056176645/tTVsPoFX_normal.jpg', u'profile_sidebar_fill_color': u'000000', u'entities': {u'description': {u'urls': []}}, u'followers_count': 6875, u'profile_sidebar_border_color': u'000000', u'id_str': u'1499268588', u'profile_background_color': u'000000', u'listed_count': 41, u'is_translation_enabled': False, u'utc_offset': None, u'statuses_count': 24270, u'description': u\"Staunch and fierce supporter of #PresidentElectTrump. Anxiously awaiting the dawning of 'America First' on January 20, 2017. #DrainTheSwamp #PresidentTrump\", u'friends_count': 1082, u'location': u'USA', u'profile_link_color': u'981CEB', u'profile_image_url': u'http://pbs.twimg.com/profile_images/784050720056176645/tTVsPoFX_normal.jpg', u'following': False, u'geo_enabled': True, u'profile_banner_url': u'https://pbs.twimg.com/profile_banners/1499268588/1476217404', u'profile_background_image_url': u'http://abs.twimg.com/images/themes/theme1/bg.png', u'screen_name': u'roycan79', u'lang': u'en', u'profile_background_tile': False, u'favourites_count': 16248, u'name': u'Candace', u'notifications': False, u'url': None, u'created_at': u'Mon Jun 10 20:26:00 +0000 2013', u'contributors_enabled': False, u'time_zone': None, u'protected': False, u'default_profile': False, u'is_translator': False}, time_zone=None, id=1499268588, description=u\"Staunch and fierce supporter of #PresidentElectTrump. Anxiously awaiting the dawning of 'America First' on January 20, 2017. #DrainTheSwamp #PresidentTrump\", _api=<tweepy.api.API object at 0x7f1a242adad0>, verified=False, profile_text_color=u'000000', profile_image_url_https=u'https://pbs.twimg.com/profile_images/784050720056176645/tTVsPoFX_normal.jpg', profile_sidebar_fill_color=u'000000', is_translator=False, geo_enabled=True, entities={u'description': {u'urls': []}}, followers_count=6875, protected=False, id_str=u'1499268588', default_profile_image=False, listed_count=41, lang=u'en', utc_offset=None, statuses_count=24270, profile_background_color=u'000000', friends_count=1082, profile_link_color=u'981CEB', profile_image_url=u'http://pbs.twimg.com/profile_images/784050720056176645/tTVsPoFX_normal.jpg', notifications=False, default_profile=False, profile_background_image_url_https=u'https://abs.twimg.com/images/themes/theme1/bg.png', profile_banner_url=u'https://pbs.twimg.com/profile_banners/1499268588/1476217404', profile_background_image_url=u'http://abs.twimg.com/images/themes/theme1/bg.png', name=u'Candace', is_translation_enabled=False, profile_background_tile=False, favourites_count=16248, screen_name=u'roycan79', url=None, created_at=datetime.datetime(2013, 6, 10, 20, 26), contributors_enabled=False, location=u'USA', profile_sidebar_border_color=u'000000', translator_type=u'none', following=False), geo=None, in_reply_to_user_id_str=None, possibly_sensitive=False, lang=u'en', created_at=datetime.datetime(2016, 11, 18, 13, 43, 33), in_reply_to_status_id_str=None, place=None, source=u'Twitter Web Client', retweeted=False, metadata={u'iso_language_code': u'en', u'result_type': u'recent'}), source_url=u'http://twitter.com/download/iphone', user=User(follow_request_sent=False, has_extended_profile=False, profile_use_background_image=False, _json={u'follow_request_sent': False, u'has_extended_profile': False, u'profile_use_background_image': False, u'default_profile_image': False, u'id': 386874585, u'profile_background_image_url_https': u'https://abs.twimg.com/images/themes/theme1/bg.png', u'verified': False, u'translator_type': u'none', u'profile_text_color': u'000000', u'profile_image_url_https': u'https://pbs.twimg.com/profile_images/553311644281884672/4NBBa0kw_normal.jpeg', u'profile_sidebar_fill_color': u'000000', u'entities': {u'description': {u'urls': []}}, u'followers_count': 1105, u'profile_sidebar_border_color': u'000000', u'id_str': u'386874585', u'profile_background_color': u'000000', u'listed_count': 60, u'is_translation_enabled': False, u'utc_offset': -28800, u'statuses_count': 21912, u'description': u\"I'm easy like Sunday morning ! \\xaf\\\\_(\\u30c4)_/\\xaf\", u'friends_count': 1798, u'location': u'', u'profile_link_color': u'ABB8C2', u'profile_image_url': u'http://pbs.twimg.com/profile_images/553311644281884672/4NBBa0kw_normal.jpeg', u'following': False, u'geo_enabled': False, u'profile_banner_url': u'https://pbs.twimg.com/profile_banners/386874585/1479273448', u'profile_background_image_url': u'http://abs.twimg.com/images/themes/theme1/bg.png', u'screen_name': u'KTownSaint', u'lang': u'en', u'profile_background_tile': False, u'favourites_count': 14344, u'name': u'\\u2618\\ufe0fTWOHCAN', u'notifications': False, u'url': None, u'created_at': u'Sat Oct 08 02:25:08 +0000 2011', u'contributors_enabled': False, u'time_zone': u'Pacific Time (US & Canada)', u'protected': False, u'default_profile': False, u'is_translator': False}, time_zone=u'Pacific Time (US & Canada)', id=386874585, description=u\"I'm easy like Sunday morning ! \\xaf\\\\_(\\u30c4)_/\\xaf\", _api=<tweepy.api.API object at 0x7f1a242adad0>, verified=False, profile_text_color=u'000000', profile_image_url_https=u'https://pbs.twimg.com/profile_images/553311644281884672/4NBBa0kw_normal.jpeg', profile_sidebar_fill_color=u'000000', is_translator=False, geo_enabled=False, entities={u'description': {u'urls': []}}, followers_count=1105, protected=False, id_str=u'386874585', default_profile_image=False, listed_count=60, lang=u'en', utc_offset=-28800, statuses_count=21912, profile_background_color=u'000000', friends_count=1798, profile_link_color=u'ABB8C2', profile_image_url=u'http://pbs.twimg.com/profile_images/553311644281884672/4NBBa0kw_normal.jpeg', notifications=False, default_profile=False, profile_background_image_url_https=u'https://abs.twimg.com/images/themes/theme1/bg.png', profile_banner_url=u'https://pbs.twimg.com/profile_banners/386874585/1479273448', profile_background_image_url=u'http://abs.twimg.com/images/themes/theme1/bg.png', name=u'\\u2618\\ufe0fTWOHCAN', is_translation_enabled=False, profile_background_tile=False, favourites_count=14344, screen_name=u'KTownSaint', url=None, created_at=datetime.datetime(2011, 10, 8, 2, 25, 8), contributors_enabled=False, location=u'', profile_sidebar_border_color=u'000000', translator_type=u'none', following=False), geo=None, in_reply_to_user_id_str=None, lang=u'en', created_at=datetime.datetime(2016, 11, 18, 15, 3, 57), in_reply_to_status_id_str=None, place=None, source=u'Twitter for iPhone', retweeted=False, metadata={u'iso_language_code': u'en', u'result_type': u'recent'})\n"
     ]
    }
   ],
   "source": [
    "tweets = []\n",
    "for tweet in tweepy.Cursor(api.search, q='#trump').items(5):\n",
    "    print tweet.text\n",
    "    tweets.append(tweet)\n",
    "print \"\\n-----\\n\"\n",
    "print tweets[0]"
   ]
  },
  {
   "cell_type": "markdown",
   "metadata": {},
   "source": [
    "# Avoid Rate Limit Exception"
   ]
  },
  {
   "cell_type": "code",
   "execution_count": 75,
   "metadata": {
    "collapsed": true
   },
   "outputs": [],
   "source": [
    "import time\n",
    "def limit_handler(cursor):\n",
    "    while True:\n",
    "        try:\n",
    "            yield cursor.next()\n",
    "        except tweepy.RateLimitError:\n",
    "            print \"Timeout Reached, I'm going to sleep for 15 Minutes\"\n",
    "            time.sleep(15*60)\n",
    "            print \"I'm going to try again!\""
   ]
  },
  {
   "cell_type": "code",
   "execution_count": 76,
   "metadata": {
    "collapsed": true
   },
   "outputs": [],
   "source": [
    "alexcomu_cursor = tweepy.Cursor(api.followers, screen_name='comualex')\n",
    "\n",
    "alexcomu_followers = []\n",
    "for followers in limit_handler(alexcomu_cursor.pages()):\n",
    "    alexcomu_followers.extend(followers)\n",
    "    "
   ]
  },
  {
   "cell_type": "code",
   "execution_count": 77,
   "metadata": {
    "collapsed": false
   },
   "outputs": [
    {
     "data": {
      "text/plain": [
       "112"
      ]
     },
     "execution_count": 77,
     "metadata": {},
     "output_type": "execute_result"
    }
   ],
   "source": [
    "len(alexcomu_followers)"
   ]
  },
  {
   "cell_type": "markdown",
   "metadata": {},
   "source": [
    "# Live Streaming\n",
    "\n",
    "Check the complete example on the folder **esercitazione**."
   ]
  },
  {
   "cell_type": "code",
   "execution_count": 78,
   "metadata": {
    "collapsed": true
   },
   "outputs": [],
   "source": [
    "class BDStreamingListener(tweepy.StreamListener):\n",
    "    def __init__(self, count):\n",
    "        super(BDStreamingListener, self).__init__()\n",
    "        # Number of tweets we want to retrieve\n",
    "        self.count = count\n",
    "\n",
    "    def on_status(self, status):\n",
    "        # automatic called when a new tweet is received\n",
    "        # print dir(status)\n",
    "        print dict(user=status.user.screen_name, text=status.text)\n",
    "\n",
    "        self.count -= 1\n",
    "        if self.count <= 0:\n",
    "            return False\n",
    "\n",
    "    def on_error(self, status_code):\n",
    "        # automatic called when an error occures\n",
    "        print \"Error with status code: \", status_code\n",
    "        return False"
   ]
  },
  {
   "cell_type": "code",
   "execution_count": 80,
   "metadata": {
    "collapsed": false
   },
   "outputs": [
    {
     "name": "stdout",
     "output_type": "stream",
     "text": [
      "{'text': u\"RT @RealDLHughley: #KanyeWest says he didn't vote but if he did he woulda voted for #Trump, ain't this the cat that thought #GeorgeBush did\\u2026\", 'user': u'GarrieF'}\n",
      "{'text': u'RT @JoanneFralin: #MAGA #Trump #PresidentElectTrump https://t.co/HLmAjl2UMs', 'user': u'woitekj'}\n",
      "{'text': u'RT @Ryan9Caldwell: What happened to all the good shows? #WINan #tentoeschallenge #tentoesdownchallenge #trump #clinton @famouslos32 https:/\\u2026', 'user': u'Randomshit48'}\n",
      "{'text': u'RT @tagesschau: Wichtige Posten besetzt: Team Trump nimmt Form an https://t.co/2wbKBkAhGj #Trump', 'user': u'wehrs18'}\n",
      "{'text': u'Could Trump be the catalyst for an all-American iPhone? | ZDNet #Trump  https://t.co/iz3ssWVzXz', 'user': u'danielhalseth'}\n",
      "{'text': u'RT @ScottAdamsSays: When the press says no one expected Trump to win, they are ignoring half of the country that voted for him. THEY expect\\u2026', 'user': u'murphy13272'}\n",
      "{'text': u'What #Trump Means For New York: #ClimateChange Denial Could Endanger The City https://t.co/NgPf550sr6 #nyc', 'user': u'Kwarnercohen'}\n",
      "{'text': u'\"Not All Men\" \\nhttps://t.co/SrpxA7V6DG \\n\\n#feminist #BlackLivesMatters #NotAllMen #Trump #brexit', 'user': u'MoFloMoJo'}\n",
      "{'text': u\"2 sec de reflection: si des sondages bias\\xe9s sont en faveur du FN, c'est que la r\\xe9alit\\xe9 leur est encore plus favorab\\u2026 https://t.co/qNpC4BdjQl\", 'user': u'kekpriest'}\n",
      "{'text': u'RT @YBeDave: Thank you Ye ! https://t.co/leg6FaoW8e', 'user': u'ArtOfMusic_'}\n",
      "{'text': u'RT @GarretLewis: .@UofA professor says a @realDonaldTrump Presidency is \"The Rape Of America.\" Wow. #Trump #Arizona  https://t.co/ZoRhEOZc9z', 'user': u'JoseSalem38'}\n",
      "{'text': u'RT @franken6: Sehr sch\\xf6n! Das dumme is nur: #Polemik + #Hetze kommen mit weit weniger Worten aus,als gem\\xe4\\xdfigte und abwiegelnde Po\\u2026 ', 'user': u'Frankenpartei'}\n",
      "{'text': u'#Trump Picks Jeff Sessions for #AttorneyGeneral https://t.co/8X3lB8XP18 via @thedailybeast', 'user': u'twilight2000'}\n",
      "{'text': u'RT @SteveDeaceShow: Weird, cause when I was on your network pointing out Hillary thought a Klan leader was her mentor I was told \"that\\u2026 ', 'user': u'BecomeATexan'}\n",
      "{'text': u'RT @markito0171: #Trump\\'s new chief for #US \"National Security\" Mike Flynn in dinner with his friend #Putin https://t.co/pgw863H9V4', 'user': u'Taras_2012'}\n",
      "{'text': u'Ford will keep SUV plant in America \\U0001f1fa\\U0001f1f8 #trump https://t.co/1aZOT2aGmQ', 'user': u'StandWithCA'}\n",
      "{'text': u\"RT @bfraser747: \\U0001f4a5\\U0001f4a5 #Hannity\\n\\nI'm so thankful for .@seanhannity \\n\\nHe warned us about #Obama in 08 &amp; 12 and he exposed #Hillary &amp; rep\\u2026 \", 'user': u'M_Richardson42'}\n",
      "{'text': u'RT @SilverAdie: #DumpBannon  if you want peace with the people. You work for us #Trump and we do not want this guy influencing the\\u2026 ', 'user': u'SilverAdie'}\n",
      "{'text': u'RT @LVNancy: IT IS HAPPENING: Apple in talks of moving manufacturing to the USA \\U0001f34e\\n#TRUMP  \\n#AmericaFirst\\n\\n\\U0001f34e\\U0001f1fa\\U0001f1f8\\U0001f34e\\U0001f1fa\\U0001f1f8\\n\\nhttps://t.co/oWPvqyUPrA', 'user': u'DrFartFetish'}\n",
      "{'text': u'RT @theglobaluniter: Obama to anti-Trump protesters: Keep protesting https://t.co/e0QIEaMCft \\n\\nYour comments as #POTUS are disgraceful.\\n\\n#H\\u2026', 'user': u'mayflwers'}\n",
      "{'text': u'RT @chuckwoolery: OF COURSE you know that #Trump will be accused, by the left, of killing the planet daily. #Environmentalists will be set\\u2026', 'user': u'motorhogman'}\n",
      "{'text': u'Supply damage from #immigration cuts, damaging #GDP growth + lifting #inflation  #Trump #Hispanic #Employment #US https://t.co/uAj92OIz29', 'user': u'TSL_Research'}\n",
      "{'text': u'RT @AmirTaheri4: Mullah-preachers ordered to go \"easy\" on #Trump in Friday Sermons today. Maybe Tehran wants to wait and see how Trump deal\\u2026', 'user': u'MateenSalahudin'}\n",
      "{'text': u'#Trump \\n#Election2016 \\n#WTH\\n\\U0001f602\\U0001f602\\U0001f602\\U0001f602\\U0001f602\\U0001f602\\U0001f3c3\\U0001f3fb https://t.co/yXlcjgPDeZ', 'user': u'Gadzela11'}\n",
      "{'text': u'RT @Univ_Ciencia: Es posible que por eso ganara #Trump https://t.co/gkX9CSlH8G', 'user': u'eri_jara00'}\n",
      "{'text': u'Will #Trump\\u2019s Rhetoric Hit a Wall?  Knowledge@Wharton Network https://t.co/S48Gk4X4p5', 'user': u'YouEconomist'}\n",
      "{'text': u'#Trump picks immigration hard-liner Jeff Ses https://t.co/P8g9B3cY8s', 'user': u'EasyProfitsNow'}\n",
      "{'text': u\"RT @amjoyshow: Jeff Sessions was deemed too racist to be a judge. He'll now be #Trump's attorney general. https://t.co/H7sPvTghVr # via @Hu\\u2026\", 'user': u'benjaminlately'}\n",
      "{'text': u'RT @ROCKONDUDE2: https://t.co/SLf3deENPy @HillaryClinton &amp; her thugs, may of gotten away with rigging the primaries, but not the gen\\u2026 ', 'user': u'tatine47'}\n",
      "{'text': u\"RT @ToDropADime2: #Trump tweets out a full blown Lie about #Ford\\nThey respond &amp; correct him.\\nIt's going to be 4 years of  Lies to make hims\\u2026\", 'user': u'NascarladyL48'}\n",
      "{'text': u'RT @Jbdcl: #trump supporter in #miami @Starbucks attacks &amp; threatens patrons &amp; staff bc coffee took too long, blames anti-whit\\u2026 ', 'user': u'bravoeric88'}\n",
      "{'text': u'Wichtige Posten besetzt: Team Trump nimmt Form an https://t.co/fjuDPd7qOH #Trump', 'user': u'Kehrblech'}\n",
      "{'text': u'Just added on ebay- #Trump Modern Day Samson- the walls came tumbling down #BenGarrison signed print https://t.co/TzGU4LCa4g', 'user': u'GrrrGraphics'}\n",
      "{'text': u'RT @TCQEU: Un mec de #gauche c\\'est qqn qui souhaite la mort d\\'un \\xe9lecteur de #Trump mais qui dit \"tu n\\'auras pas ma haine\" \\xe0 un terroriste.', 'user': u'itsfrancissimon'}\n",
      "{'text': u'#IRGC agency #FARS praises #Trump as \"leader of hard-working #Americans\" who want #US \"to be great and powerful again.\"\\n(You don\\'t say!!)', 'user': u'AmirTaheri4'}\n",
      "{'text': u'RT @Jbdcl: #trump supporter in #miami @Starbucks attacks &amp; threatens patrons &amp; staff bc coffee took too long, blames anti-whit\\u2026 ', 'user': u'sportsboogie'}\n",
      "{'text': u'Qui est Donald #Trump Jr., le fils a\\xeen\\xe9 du pr\\xe9sident des Etats-Unis ? https://t.co/0BWtlyofgJ via @ParisMatch https://t.co/lyG7p3wRkr', 'user': u'Anthony_Verdot'}\n",
      "{'text': u'RT @birdmanphotos: @realDonaldTrump statue erected in #LosAngeles. \"The Emperor Has No Balls.\" @indecline_ #indecline #trump #streetart htt\\u2026', 'user': u'Alanapenton_'}\n",
      "{'text': u'An experiment in #bias: two similar comments about #Clinton and #Trump. One user got #BANNED , the other was forgiv\\u2026 https://t.co/jBGE6AiSBU', 'user': u'PassageToJava'}\n",
      "{'text': u'RT @The_NewRight: Someone \"tested\" Twitter &amp; ended up with proof that they\\'re violating the Civil Rights Act! #Trump #Trump2016\\u2026 ', 'user': u'thevoice49'}\n",
      "{'text': u'Global green movement prepares to fight #Trump on #climatechange https://t.co/vjtDZVP7XW', 'user': u'StephenGeoRae'}\n",
      "{'text': u'RT @AlShabaka: Will #Trump help #Israel annex the West Bank? | @AliAbunimah | https://t.co/X90R2TdqjG https://t.co/AA3hqDHMAQ', 'user': u'SvenRadio'}\n",
      "{'text': u'RT @ansaeuropa: #Trump: Malmstroem, bisogna vedere cosa dir\\xe0 su #Ttip - ANSA Europa - ANSA.it https://t.co/NjY53ECV8A via @Agenzia_Ansa @Ma\\u2026', 'user': u'Il_sovranista'}\n",
      "{'text': u'RT @Eyes_of_justice: RT@jungletrunks\\n#SorosAgenda\\n#SorosRiots\\n#PurpleRevolution\\n\\n#TCOT #CCOT #MAGA #TRUMP .@TeamTrump\\n\\n\"Defying Trump\" \"\\u2026 ', 'user': u'Wingintheridge'}\n",
      "{'text': u'New York City will be a sanctuary city for #Trump and his fraud, waste and abused on security protocols so he can be in his Tower.', 'user': u'ronnin42'}\n",
      "{'text': u'RT @ToDropADime2: \"I\\'ll never settle #TrumpUniversity case\"\\nLIAR Conned U\\n#Trump nearing settlement in Trump University fraud case -  https\\u2026', 'user': u'Dbaber57Deb'}\n",
      "{'text': u'\"\\xab Effet #Trump \\xbb: quel impact sur les taux et la Bourse ?\" (analyse de Val\\xe9rie Mignon, via @Boursorama)\\n\\u25bahttps://t.co/n8AKI9cTYD\\n#taux', 'user': u'mick_le_priol'}\n",
      "{'text': u'@pewresearch: White Catholics voted #Trump (60%) over #Clinton (37%) while Hispanic Catholics broke for her 67% to 26%.', 'user': u'BohHerbert'}\n",
      "{'text': u'RT @TruthFeedNews: VIDEO : Ted Cruz \"Idiots Rioting in the Street the Same People Who Demanded Trump Accept Election Results\" https://t.co/\\u2026', 'user': u'TrumpAmerica17'}\n",
      "{'text': u'RT @suey2y: Drip. Drip. Drip. Our Gov/businesses reveal blatant acts of greed, day in. Day out. Then wonder how #Trump #Brexit\\u2026 ', 'user': u'StaceyUK'}\n"
     ]
    }
   ],
   "source": [
    "# Create an instand set the number of tweets we want ro retrieve\n",
    "listener = BDStreamingListener(50)\n",
    "\n",
    "# Create the stream fetching object with auth and listener\n",
    "stream = tweepy.streaming.Stream(auth, listener)\n",
    "\n",
    "# Tun the stream using filter\n",
    "stream.filter(track=['#Trump'])\n"
   ]
  },
  {
   "cell_type": "markdown",
   "metadata": {},
   "source": [
    "# Get INTESA Followers -- Version 1"
   ]
  },
  {
   "cell_type": "code",
   "execution_count": 81,
   "metadata": {
    "collapsed": true
   },
   "outputs": [],
   "source": [
    "# Ask for Followers using Cursor (20 followers per page, with a limit of 15 requests each 15 minutes) ~ 3 Hours\n",
    "class IntesaFollowers(object):\n",
    "    \n",
    "    def __init__(self, auth):\n",
    "        self.auth = auth\n",
    "        self.api = tweepy.API(self.auth)\n",
    "        self.intesa_cursor = tweepy.Cursor(self.api.followers, screen_name='intesasanpaolo')\n",
    "\n",
    "    def get_followers(self):\n",
    "        while True:\n",
    "            try:\n",
    "                yield self.intesa_cursor.pages().next()\n",
    "            except tweepy.RateLimitError:\n",
    "                print \"[LOG %s] Timeout reached.. I'm going to sleep for 15 minutes..\" % dt.now()\n",
    "                time.sleep(15*60)\n",
    "                print \"[LOG %s] Try Again!\" % dt.now()\n",
    "            except Exception as e:\n",
    "                # Generic Exception\n",
    "                print \"[LOG %s] Generic error \" % dt.now(), e\n",
    "                print \"[LOG %s] Wait 60 seconds...\" % dt.now()\n",
    "                time.sleep(60)"
   ]
  },
  {
   "cell_type": "code",
   "execution_count": 82,
   "metadata": {
    "collapsed": false
   },
   "outputs": [
    {
     "ename": "NameError",
     "evalue": "global name 'dt' is not defined",
     "output_type": "error",
     "traceback": [
      "\u001b[1;31m---------------------------------------------------------------------------\u001b[0m",
      "\u001b[1;31mNameError\u001b[0m                                 Traceback (most recent call last)",
      "\u001b[1;32m<ipython-input-82-85e405978a2b>\u001b[0m in \u001b[0;36m<module>\u001b[1;34m()\u001b[0m\n\u001b[0;32m      1\u001b[0m \u001b[0mintesa\u001b[0m \u001b[1;33m=\u001b[0m \u001b[0mIntesaFollowers\u001b[0m\u001b[1;33m(\u001b[0m\u001b[0mauth\u001b[0m\u001b[1;33m)\u001b[0m\u001b[1;33m\u001b[0m\u001b[0m\n\u001b[0;32m      2\u001b[0m \u001b[0mintesa_followers\u001b[0m \u001b[1;33m=\u001b[0m \u001b[1;33m[\u001b[0m\u001b[1;33m]\u001b[0m\u001b[1;33m\u001b[0m\u001b[0m\n\u001b[1;32m----> 3\u001b[1;33m \u001b[1;32mfor\u001b[0m \u001b[0mfollowers\u001b[0m \u001b[1;32min\u001b[0m \u001b[0mintesa\u001b[0m\u001b[1;33m.\u001b[0m\u001b[0mget_followers\u001b[0m\u001b[1;33m(\u001b[0m\u001b[1;33m)\u001b[0m\u001b[1;33m:\u001b[0m\u001b[1;33m\u001b[0m\u001b[0m\n\u001b[0m\u001b[0;32m      4\u001b[0m     \u001b[0mintesa_followers\u001b[0m\u001b[1;33m.\u001b[0m\u001b[0mextend\u001b[0m\u001b[1;33m(\u001b[0m\u001b[0mfollowers\u001b[0m\u001b[1;33m)\u001b[0m\u001b[1;33m\u001b[0m\u001b[0m\n",
      "\u001b[1;32m<ipython-input-81-b582382cf8c4>\u001b[0m in \u001b[0;36mget_followers\u001b[1;34m(self)\u001b[0m\n\u001b[0;32m     12\u001b[0m                 \u001b[1;32myield\u001b[0m \u001b[0mself\u001b[0m\u001b[1;33m.\u001b[0m\u001b[0mintesa_cursor\u001b[0m\u001b[1;33m.\u001b[0m\u001b[0mpages\u001b[0m\u001b[1;33m(\u001b[0m\u001b[1;33m)\u001b[0m\u001b[1;33m.\u001b[0m\u001b[0mnext\u001b[0m\u001b[1;33m(\u001b[0m\u001b[1;33m)\u001b[0m\u001b[1;33m\u001b[0m\u001b[0m\n\u001b[0;32m     13\u001b[0m             \u001b[1;32mexcept\u001b[0m \u001b[0mtweepy\u001b[0m\u001b[1;33m.\u001b[0m\u001b[0mRateLimitError\u001b[0m\u001b[1;33m:\u001b[0m\u001b[1;33m\u001b[0m\u001b[0m\n\u001b[1;32m---> 14\u001b[1;33m                 \u001b[1;32mprint\u001b[0m \u001b[1;34m\"[LOG %s] Timeout reached.. I'm going to sleep for 15 minutes..\"\u001b[0m \u001b[1;33m%\u001b[0m \u001b[0mdt\u001b[0m\u001b[1;33m.\u001b[0m\u001b[0mnow\u001b[0m\u001b[1;33m(\u001b[0m\u001b[1;33m)\u001b[0m\u001b[1;33m\u001b[0m\u001b[0m\n\u001b[0m\u001b[0;32m     15\u001b[0m                 \u001b[0mtime\u001b[0m\u001b[1;33m.\u001b[0m\u001b[0msleep\u001b[0m\u001b[1;33m(\u001b[0m\u001b[1;36m15\u001b[0m\u001b[1;33m*\u001b[0m\u001b[1;36m60\u001b[0m\u001b[1;33m)\u001b[0m\u001b[1;33m\u001b[0m\u001b[0m\n\u001b[0;32m     16\u001b[0m                 \u001b[1;32mprint\u001b[0m \u001b[1;34m\"[LOG %s] Try Again!\"\u001b[0m \u001b[1;33m%\u001b[0m \u001b[0mdt\u001b[0m\u001b[1;33m.\u001b[0m\u001b[0mnow\u001b[0m\u001b[1;33m(\u001b[0m\u001b[1;33m)\u001b[0m\u001b[1;33m\u001b[0m\u001b[0m\n",
      "\u001b[1;31mNameError\u001b[0m: global name 'dt' is not defined"
     ]
    }
   ],
   "source": [
    "intesa = IntesaFollowers(auth)\n",
    "intesa_followers = []\n",
    "for followers in intesa.get_followers():\n",
    "    intesa_followers.extend(followers)"
   ]
  },
  {
   "cell_type": "markdown",
   "metadata": {},
   "source": [
    "# Get INTESA Followers -- Version 2 (Faster)"
   ]
  },
  {
   "cell_type": "code",
   "execution_count": 83,
   "metadata": {
    "collapsed": true
   },
   "outputs": [],
   "source": [
    "# Ask for Followers_ids and ask data for each user -> Much Much Faster!  ~ 1.5 Hours\n",
    "class IntesaFollowers(object):\n",
    "\n",
    "    def __init__(self, auth):\n",
    "        self.auth = auth\n",
    "        self.api = tweepy.API(self.auth)\n",
    "        self.intesa = self.api.get_user('intesasanpaolo')\n",
    "\n",
    "    def get_followers(self):\n",
    "        for follower_id in self.intesa.followers_ids():\n",
    "            try:\n",
    "                yield self.api.get_user(follower_id)\n",
    "            except tweepy.RateLimitError:\n",
    "                print \"[LOG %s] Timeout reached.. I'm going to sleep for 15 minutes..\" % dt.now()\n",
    "                time.sleep(15*60)\n",
    "                print \"[LOG %s] Try Again!\" % dt.now()\n",
    "            except Exception as e:\n",
    "                # Generic Exception\n",
    "                print \"[LOG %s] Generic error \" % dt.now(), e\n",
    "                print \"[LOG %s] Wait 60 seconds...\" % dt.now()\n",
    "                time.sleep(60)"
   ]
  },
  {
   "cell_type": "code",
   "execution_count": 84,
   "metadata": {
    "collapsed": false
   },
   "outputs": [
    {
     "ename": "NameError",
     "evalue": "global name 'dt' is not defined",
     "output_type": "error",
     "traceback": [
      "\u001b[1;31m---------------------------------------------------------------------------\u001b[0m",
      "\u001b[1;31mNameError\u001b[0m                                 Traceback (most recent call last)",
      "\u001b[1;32m<ipython-input-84-16aca0b7b333>\u001b[0m in \u001b[0;36m<module>\u001b[1;34m()\u001b[0m\n\u001b[0;32m      1\u001b[0m \u001b[0mintesa\u001b[0m \u001b[1;33m=\u001b[0m \u001b[0mIntesaFollowers\u001b[0m\u001b[1;33m(\u001b[0m\u001b[0mauth\u001b[0m\u001b[1;33m)\u001b[0m\u001b[1;33m\u001b[0m\u001b[0m\n\u001b[0;32m      2\u001b[0m \u001b[0mintesa_followers\u001b[0m \u001b[1;33m=\u001b[0m \u001b[1;33m[\u001b[0m\u001b[1;33m]\u001b[0m\u001b[1;33m\u001b[0m\u001b[0m\n\u001b[1;32m----> 3\u001b[1;33m \u001b[1;32mfor\u001b[0m \u001b[0mfollower\u001b[0m \u001b[1;32min\u001b[0m \u001b[0mintesa\u001b[0m\u001b[1;33m.\u001b[0m\u001b[0mget_followers\u001b[0m\u001b[1;33m(\u001b[0m\u001b[1;33m)\u001b[0m\u001b[1;33m:\u001b[0m\u001b[1;33m\u001b[0m\u001b[0m\n\u001b[0m\u001b[0;32m      4\u001b[0m     \u001b[0mintesa_followers\u001b[0m\u001b[1;33m.\u001b[0m\u001b[0mappend\u001b[0m\u001b[1;33m(\u001b[0m\u001b[0mfollower\u001b[0m\u001b[1;33m)\u001b[0m\u001b[1;33m\u001b[0m\u001b[0m\n",
      "\u001b[1;32m<ipython-input-83-521e74e95c0d>\u001b[0m in \u001b[0;36mget_followers\u001b[1;34m(self)\u001b[0m\n\u001b[0;32m     12\u001b[0m                 \u001b[1;32myield\u001b[0m \u001b[0mself\u001b[0m\u001b[1;33m.\u001b[0m\u001b[0mapi\u001b[0m\u001b[1;33m.\u001b[0m\u001b[0mget_user\u001b[0m\u001b[1;33m(\u001b[0m\u001b[0mfollower_id\u001b[0m\u001b[1;33m)\u001b[0m\u001b[1;33m\u001b[0m\u001b[0m\n\u001b[0;32m     13\u001b[0m             \u001b[1;32mexcept\u001b[0m \u001b[0mtweepy\u001b[0m\u001b[1;33m.\u001b[0m\u001b[0mRateLimitError\u001b[0m\u001b[1;33m:\u001b[0m\u001b[1;33m\u001b[0m\u001b[0m\n\u001b[1;32m---> 14\u001b[1;33m                 \u001b[1;32mprint\u001b[0m \u001b[1;34m\"[LOG %s] Timeout reached.. I'm going to sleep for 15 minutes..\"\u001b[0m \u001b[1;33m%\u001b[0m \u001b[0mdt\u001b[0m\u001b[1;33m.\u001b[0m\u001b[0mnow\u001b[0m\u001b[1;33m(\u001b[0m\u001b[1;33m)\u001b[0m\u001b[1;33m\u001b[0m\u001b[0m\n\u001b[0m\u001b[0;32m     15\u001b[0m                 \u001b[0mtime\u001b[0m\u001b[1;33m.\u001b[0m\u001b[0msleep\u001b[0m\u001b[1;33m(\u001b[0m\u001b[1;36m15\u001b[0m\u001b[1;33m*\u001b[0m\u001b[1;36m60\u001b[0m\u001b[1;33m)\u001b[0m\u001b[1;33m\u001b[0m\u001b[0m\n\u001b[0;32m     16\u001b[0m                 \u001b[1;32mprint\u001b[0m \u001b[1;34m\"[LOG %s] Try Again!\"\u001b[0m \u001b[1;33m%\u001b[0m \u001b[0mdt\u001b[0m\u001b[1;33m.\u001b[0m\u001b[0mnow\u001b[0m\u001b[1;33m(\u001b[0m\u001b[1;33m)\u001b[0m\u001b[1;33m\u001b[0m\u001b[0m\n",
      "\u001b[1;31mNameError\u001b[0m: global name 'dt' is not defined"
     ]
    }
   ],
   "source": [
    "intesa = IntesaFollowers(auth)\n",
    "intesa_followers = []\n",
    "for follower in intesa.get_followers():\n",
    "    intesa_followers.append(follower)"
   ]
  },
  {
   "cell_type": "markdown",
   "metadata": {},
   "source": [
    "# Get INTESA tweets"
   ]
  },
  {
   "cell_type": "code",
   "execution_count": 7,
   "metadata": {
    "collapsed": false
   },
   "outputs": [],
   "source": [
    "class IntesaTweets(object):\n",
    "    \n",
    "    def __init__(self, auth):\n",
    "        self.auth = auth\n",
    "        self.api = tweepy.API(self.auth)\n",
    "        self.intesa_cursor = tweepy.Cursor(self.api.user_timeline, screen_name='intesasanpaolo')\n",
    "\n",
    "    def get_tweets(self):\n",
    "        while True:\n",
    "            try:\n",
    "                yield self.intesa_cursor.pages().next()\n",
    "            except tweepy.RateLimitError:\n",
    "                print \"[LOG %s] Timeout reached.. I'm going to sleep for 15 minutes..\" % dt.now()\n",
    "                time.sleep(15*60)\n",
    "                print \"[LOG %s] Try Again!\" % dt.now()\n",
    "            except Exception as e:\n",
    "                # Generic Exception\n",
    "                print \"[LOG %s] Generic error \" % dt.now(), e\n",
    "                print \"[LOG %s] Wait 60 seconds...\" % dt.now()\n",
    "                time.sleep(60)\n"
   ]
  },
  {
   "cell_type": "code",
   "execution_count": 8,
   "metadata": {
    "collapsed": false
   },
   "outputs": [
    {
     "name": "stdout",
     "output_type": "stream",
     "text": [
      "{ u'contributors': None,\n",
      "  u'coordinates': None,\n",
      "  u'created_at': u'Mon Nov 14 09:25:09 +0000 2016',\n",
      "  u'entities': { u'hashtags': [ { u'indices': [0, 13],\n",
      "                                  u'text': u'FlashMercati'}],\n",
      "                 u'symbols': [],\n",
      "                 u'urls': [ { u'display_url': u'twitter.com/i/web/status/7\\u2026',\n",
      "                              u'expanded_url': u'https://twitter.com/i/web/status/798094406406590464',\n",
      "                              u'indices': [116, 139],\n",
      "                              u'url': u'https://t.co/AOHmJBzUDk'}],\n",
      "                 u'user_mentions': []},\n",
      "  u'favorite_count': 0,\n",
      "  u'favorited': False,\n",
      "  u'geo': None,\n",
      "  u'id': 798094406406590464,\n",
      "  u'id_str': u'798094406406590464',\n",
      "  u'in_reply_to_screen_name': None,\n",
      "  u'in_reply_to_status_id': None,\n",
      "  u'in_reply_to_status_id_str': None,\n",
      "  u'in_reply_to_user_id': None,\n",
      "  u'in_reply_to_user_id_str': None,\n",
      "  u'is_quote_status': False,\n",
      "  u'lang': u'it',\n",
      "  u'place': None,\n",
      "  u'possibly_sensitive': False,\n",
      "  u'retweet_count': 1,\n",
      "  u'retweeted': False,\n",
      "  u'source': u'<a href=\"http://twitter.com\" rel=\"nofollow\">Twitter Web Client</a>',\n",
      "  u'text': u'#FlashMercati: focus sugli eventi del mercato monetario e obbligazionario. \\nEcco i dati pi\\xf9 significativi di oggi.\\u2026 https://t.co/AOHmJBzUDk',\n",
      "  u'truncated': True,\n",
      "  u'user': { u'contributors_enabled': False,\n",
      "             u'created_at': u'Wed Oct 19 07:46:49 +0000 2011',\n",
      "             u'default_profile': False,\n",
      "             u'default_profile_image': False,\n",
      "             u'description': u'Notizie, eventi e informazioni in tempo reale sul mondo Intesa Sanpaolo. Per assistenza su prodotti e servizi seguici su @IntesaSP_Help e @IntesaSPgiovani.',\n",
      "             u'entities': { u'description': { u'urls': []},\n",
      "                            u'url': { u'urls': [ { u'display_url': u'intesasanpaolo.com',\n",
      "                                                   u'expanded_url': u'http://www.intesasanpaolo.com',\n",
      "                                                   u'indices': [0, 22],\n",
      "                                                   u'url': u'http://t.co/lmrSnJtN6Y'}]}},\n",
      "             u'favourites_count': 1071,\n",
      "             u'follow_request_sent': False,\n",
      "             u'followers_count': 4157,\n",
      "             u'following': False,\n",
      "             u'friends_count': 177,\n",
      "             u'geo_enabled': False,\n",
      "             u'has_extended_profile': False,\n",
      "             u'id': 393894382,\n",
      "             u'id_str': u'393894382',\n",
      "             u'is_translation_enabled': True,\n",
      "             u'is_translator': False,\n",
      "             u'lang': u'it',\n",
      "             u'listed_count': 129,\n",
      "             u'location': u'',\n",
      "             u'name': u'Intesa Sanpaolo',\n",
      "             u'notifications': False,\n",
      "             u'profile_background_color': u'DBDBDB',\n",
      "             u'profile_background_image_url': u'http://abs.twimg.com/images/themes/theme1/bg.png',\n",
      "             u'profile_background_image_url_https': u'https://abs.twimg.com/images/themes/theme1/bg.png',\n",
      "             u'profile_background_tile': False,\n",
      "             u'profile_banner_url': u'https://pbs.twimg.com/profile_banners/393894382/1473949795',\n",
      "             u'profile_image_url': u'http://pbs.twimg.com/profile_images/597680334474485760/Z6OMNC0B_normal.jpg',\n",
      "             u'profile_image_url_https': u'https://pbs.twimg.com/profile_images/597680334474485760/Z6OMNC0B_normal.jpg',\n",
      "             u'profile_link_color': u'929292',\n",
      "             u'profile_sidebar_border_color': u'FFFFFF',\n",
      "             u'profile_sidebar_fill_color': u'DDEEF6',\n",
      "             u'profile_text_color': u'333333',\n",
      "             u'profile_use_background_image': False,\n",
      "             u'protected': False,\n",
      "             u'screen_name': u'intesasanpaolo',\n",
      "             u'statuses_count': 2371,\n",
      "             u'time_zone': u'Rome',\n",
      "             u'translator_type': u'none',\n",
      "             u'url': u'http://t.co/lmrSnJtN6Y',\n",
      "             u'utc_offset': 3600,\n",
      "             u'verified': False}}\n"
     ]
    }
   ],
   "source": [
    "intesa_timeline = IntesaTweets(auth)\n",
    "intesa_tweets = []\n",
    "for tweet in intesa_timeline.get_tweets():\n",
    "    pp.pprint(tweet[0]._json)\n",
    "    break"
   ]
  },
  {
   "cell_type": "markdown",
   "metadata": {
    "collapsed": true
   },
   "source": [
    "# GET Intesa Followers"
   ]
  },
  {
   "cell_type": "code",
   "execution_count": 86,
   "metadata": {
    "collapsed": true
   },
   "outputs": [],
   "source": [
    "class IntesaFollowers(object):\n",
    "    \n",
    "    def __init__(self, auth):\n",
    "        self.auth = auth\n",
    "        self.api = tweepy.API(self.auth)\n",
    "        self.intesa = self.api.get_user('intesasanpaolo')\n",
    "\n",
    "    def get_followers(self):\n",
    "        for follower_id in self.intesa.followers_ids():\n",
    "            try:\n",
    "                yield self.api.get_user(follower_id)\n",
    "            except tweepy.RateLimitError:\n",
    "                print \"[LOG %s] Timeout reached.. I'm going to sleep for 15 minutes..\" % dt.now()\n",
    "                time.sleep(15*60)\n",
    "                print \"[LOG %s] Try Again!\" % dt.now()\n",
    "            except Exception as e:\n",
    "                # Generic Exception\n",
    "                print \"[LOG %s] Generic error \" % dt.now(), e\n",
    "                print \"[LOG %s] Wait 60 seconds...\" % dt.now()\n",
    "                time.sleep(60)"
   ]
  },
  {
   "cell_type": "code",
   "execution_count": 90,
   "metadata": {
    "collapsed": false
   },
   "outputs": [
    {
     "name": "stdout",
     "output_type": "stream",
     "text": [
      "Working ... 0\n",
      "Working ... 1\n",
      "Working ... 2\n",
      "Working ... 3\n",
      "Working ... 4\n",
      "Working ... 5\n",
      "Working ... 6\n",
      "Working ... 7\n",
      "Working ... 8\n",
      "Working ... 9\n",
      "Working ... 10\n",
      "Working ... 11\n",
      "Working ... 12\n",
      "Working ... 13\n",
      "Working ... 14\n",
      "Working ... 15\n",
      "Working ... 16\n",
      "Working ... 17\n",
      "Working ... 18\n",
      "Working ... 19\n",
      "Working ... 20\n",
      "Working ... 21\n",
      "Working ... 22\n",
      "Working ... 23\n",
      "Working ... 24\n",
      "Working ... 25\n",
      "Working ... 26\n",
      "Working ... 27\n",
      "Working ... 28\n",
      "Working ... 29\n",
      "Working ... 30\n",
      "Working ... 31\n",
      "Working ... 32\n",
      "Working ... 33\n",
      "Working ... 34\n",
      "Working ... 35\n",
      "Working ... 36\n",
      "Working ... 37\n",
      "Working ... 38\n",
      "Working ... 39\n",
      "Working ... 40\n",
      "Working ... 41\n",
      "Working ... 42\n",
      "Working ... 43\n",
      "Working ... 44\n",
      "Working ... 45\n",
      "Working ... 46\n",
      "Working ... 47\n",
      "Working ... 48\n",
      "Working ... 49\n",
      "Working ... 50\n",
      "Working ... 51\n",
      "Working ... 52\n",
      "Working ... 53\n",
      "Working ... 54\n",
      "Working ... 55\n",
      "Working ... 56\n",
      "Working ... 57\n",
      "Working ... 58\n",
      "Working ... 59\n",
      "Working ... 60\n",
      "Working ... 61\n",
      "Working ... 62\n",
      "Working ... 63\n",
      "Working ... 64\n",
      "Working ... 65\n",
      "Working ... 66\n",
      "Working ... 67\n",
      "Working ... 68\n",
      "Working ... 69\n",
      "Working ... 70\n",
      "Working ... 71\n",
      "Working ... 72\n",
      "Working ... 73\n",
      "Working ... 74\n",
      "Working ... 75\n",
      "Working ... 76\n",
      "Working ... 77\n",
      "Working ... 78\n",
      "Working ... 79\n",
      "Working ... 80\n",
      "Working ... 81\n",
      "Working ... 82\n",
      "Working ... 83\n",
      "Working ... 84\n",
      "Working ... 85\n",
      "Working ... 86\n",
      "Working ... 87\n",
      "Working ... 88\n",
      "Working ... 89\n",
      "Working ... 90\n",
      "Working ... 91\n",
      "Working ... 92\n",
      "Working ... 93\n",
      "Working ... 94\n",
      "Working ... 95\n",
      "Working ... 96\n",
      "Working ... 97\n",
      "Working ... 98\n",
      "Working ... 99\n",
      "Working ... 100\n",
      "Working ... 101\n",
      "Working ... 102\n",
      "Working ... 103\n",
      "Working ... 104\n",
      "Working ... 105\n",
      "Working ... 106\n",
      "Working ... 107\n",
      "Working ... 108\n",
      "Working ... 109\n",
      "Working ... 110\n",
      "Working ... 111\n",
      "Working ... 112\n",
      "Working ... 113\n",
      "Working ... 114\n",
      "Working ... 115\n",
      "Working ... 116\n",
      "Working ... 117\n",
      "Working ... 118\n",
      "Working ... 119\n",
      "Working ... 120\n",
      "Working ... 121\n",
      "Working ... 122\n",
      "Working ... 123\n",
      "Working ... 124\n",
      "Working ... 125\n",
      "Working ... 126\n",
      "Working ... 127\n",
      "Working ... 128\n",
      "Working ... 129\n",
      "Working ... 130\n",
      "Working ... 131\n",
      "Working ... 132\n",
      "Working ... 133\n",
      "Working ... 134\n",
      "Working ... 135\n",
      "Working ... 136\n",
      "Working ... 137\n",
      "Working ... 138\n",
      "Working ... 139\n",
      "Working ... 140\n",
      "Working ... 141\n",
      "Working ... 142\n",
      "Working ... 143\n",
      "Working ... 144\n",
      "Working ... 145\n",
      "Working ... 146\n",
      "Working ... 147\n",
      "Working ... 148\n",
      "Working ... 149\n",
      "Working ... 150\n",
      "Working ... 151\n",
      "Working ... 152\n",
      "Working ... 153\n",
      "Working ... 154\n",
      "Working ... 155\n",
      "Working ... 156\n",
      "Working ... 157\n",
      "Working ... 158\n",
      "Working ... 159\n",
      "Working ... 160\n",
      "Working ... 161\n",
      "Working ... 162\n",
      "Working ... 163\n",
      "Working ... 164\n",
      "Working ... 165\n",
      "Working ... 166\n",
      "Working ... 167\n",
      "Working ... 168\n",
      "Working ... 169\n",
      "Working ... 170\n",
      "Working ... 171\n",
      "Working ... 172\n",
      "Working ... 173\n",
      "Working ... 174\n",
      "Working ... 175\n",
      "Working ... 176\n",
      "Working ... 177\n",
      "Working ... 178\n",
      "Working ... 179\n",
      "Working ... 180\n",
      "Working ... 181\n",
      "Working ... 182\n",
      "Working ... 183\n",
      "Working ... 184\n",
      "Working ... 185\n",
      "Working ... 186\n",
      "Working ... 187\n",
      "Working ... 188\n",
      "Working ... 189\n",
      "Working ... 190\n",
      "Working ... 191\n",
      "Working ... 192\n",
      "Working ... 193\n",
      "Working ... 194\n",
      "Working ... 195\n",
      "Working ... 196\n",
      "Working ... 197\n",
      "Working ... 198\n",
      "Working ... 199\n",
      "Working ... 200\n",
      "Working ... 201\n",
      "Working ... 202\n",
      "Working ... 203\n",
      "Working ... 204\n",
      "Working ... 205\n",
      "Working ... 206\n",
      "Working ... 207\n",
      "Working ... 208\n",
      "Working ... 209\n",
      "Working ... 210\n",
      "Working ... 211\n",
      "Working ... 212\n",
      "Working ... 213\n",
      "Working ... 214\n",
      "Working ... 215\n",
      "Working ... 216\n",
      "Working ... 217\n",
      "Working ... 218\n",
      "Working ... 219\n",
      "Working ... 220\n",
      "Working ... 221\n",
      "Working ... 222\n",
      "Working ... 223\n",
      "Working ... 224\n",
      "Working ... 225\n",
      "Working ... 226\n",
      "Working ... 227\n",
      "Working ... 228\n",
      "Working ... 229\n",
      "Working ... 230\n",
      "Working ... 231\n",
      "Working ... 232\n",
      "Working ... 233\n",
      "Working ... 234\n",
      "Working ... 235\n",
      "Working ... 236\n",
      "Working ... 237\n",
      "Working ... 238\n",
      "Working ... 239\n",
      "Working ... 240\n",
      "Working ... 241\n",
      "Working ... 242\n",
      "Working ... 243\n",
      "Working ... 244\n",
      "Working ... 245\n",
      "Working ... 246\n",
      "Working ... 247\n",
      "Working ... 248\n",
      "Working ... 249\n",
      "Working ... 250\n",
      "Working ... 251\n",
      "Working ... 252\n",
      "Working ... 253\n",
      "Working ... 254\n",
      "Working ... 255\n",
      "Working ... 256\n",
      "Working ... 257\n",
      "Working ... 258\n",
      "Working ... 259\n",
      "Working ... 260\n",
      "Working ... 261\n",
      "Working ... 262\n",
      "Working ... 263\n",
      "Working ... 264\n",
      "Working ... 265\n",
      "Working ... 266\n",
      "Working ... 267\n",
      "Working ... 268\n",
      "Working ... 269\n",
      "Working ... 270\n",
      "Working ... 271\n",
      "Working ... 272\n",
      "Working ... 273\n",
      "Working ... 274\n",
      "Working ... 275\n",
      "Working ... 276\n",
      "Working ... 277\n",
      "Working ... 278\n",
      "Working ... 279\n",
      "Working ... 280\n",
      "Working ... 281\n",
      "Working ... 282\n",
      "Working ... 283\n",
      "Working ... 284\n",
      "Working ... 285\n",
      "Working ... 286\n",
      "Working ... 287\n",
      "Working ... 288\n",
      "Working ... 289\n",
      "Working ... 290\n",
      "Working ... 291\n",
      "Working ... 292\n",
      "Working ... 293\n",
      "Working ... 294\n",
      "Working ... 295\n",
      "Working ... 296\n",
      "Working ... 297\n",
      "Working ... 298\n",
      "Working ... 299\n",
      "Working ... 300\n",
      "Working ... 301\n",
      "Working ... 302\n",
      "Working ... 303\n",
      "Working ... 304\n",
      "Working ... 305\n",
      "Working ... 306\n",
      "Working ... 307\n",
      "Working ... 308\n",
      "Working ... 309\n",
      "Working ... 310\n",
      "Working ... 311\n",
      "Working ... 312\n",
      "Working ... 313\n",
      "Working ... 314\n",
      "Working ... 315\n",
      "Working ... 316\n",
      "Working ... 317\n",
      "Working ... 318\n",
      "Working ... 319\n",
      "Working ... 320\n",
      "Working ... 321\n",
      "Working ... 322\n",
      "Working ... 323\n",
      "Working ... 324\n",
      "Working ... 325\n",
      "Working ... 326\n",
      "Working ... 327\n",
      "Working ... 328\n",
      "Working ... 329\n",
      "Working ... 330\n",
      "Working ... 331\n",
      "Working ... 332\n",
      "Working ... 333\n",
      "Working ... 334\n",
      "Working ... 335\n",
      "Working ... 336\n",
      "Working ... 337\n",
      "Working ... 338\n",
      "Working ... 339\n",
      "Working ... 340\n",
      "Working ... 341\n",
      "Working ... 342\n",
      "Working ... 343\n",
      "Working ... 344\n",
      "Working ... 345\n",
      "Working ... 346\n",
      "Working ... 347\n",
      "Working ... 348\n",
      "Working ... 349\n",
      "Working ... 350\n",
      "Working ... 351\n",
      "Working ... 352\n",
      "Working ... 353\n",
      "Working ... 354\n",
      "Working ... 355\n",
      "Working ... 356\n",
      "Working ... 357\n",
      "Working ... 358\n",
      "Working ... 359\n",
      "Working ... 360\n",
      "Working ... 361\n",
      "Working ... 362\n",
      "Working ... 363\n",
      "Working ... 364\n",
      "Working ... 365\n",
      "Working ... 366\n",
      "Working ... 367\n",
      "Working ... 368\n",
      "Working ... 369\n",
      "Working ... 370\n",
      "Working ... 371\n",
      "Working ... 372\n",
      "Working ... 373\n",
      "Working ... 374\n",
      "Working ... 375\n",
      "Working ... 376\n",
      "Working ... 377\n",
      "Working ... 378\n",
      "Working ... 379\n",
      "Working ... 380\n",
      "Working ... 381\n",
      "Working ... 382\n",
      "Working ... 383\n",
      "Working ... 384\n",
      "Working ... 385\n",
      "Working ... 386\n",
      "Working ... 387\n",
      "Working ... 388\n",
      "Working ... 389\n",
      "Working ... 390\n",
      "Working ... 391\n",
      "Working ... 392\n",
      "Working ... 393\n",
      "Working ... 394\n",
      "Working ... 395\n",
      "Working ... 396\n",
      "Working ... 397\n",
      "Working ... 398\n",
      "Working ... 399\n",
      "Working ... 400\n",
      "Working ... 401\n",
      "Working ... 402\n",
      "Working ... 403\n",
      "Working ... 404\n",
      "Working ... 405\n",
      "Working ... 406\n",
      "Working ... 407\n",
      "Working ... 408\n",
      "Working ... 409\n",
      "Working ... 410\n",
      "Working ... 411\n",
      "Working ... 412\n",
      "Working ... 413\n",
      "Working ... 414\n",
      "Working ... 415\n",
      "Working ... 416\n",
      "Working ... 417\n",
      "Working ... 418\n",
      "Working ... 419\n",
      "Working ... 420\n",
      "Working ... 421\n",
      "Working ... 422\n",
      "Working ... 423\n",
      "Working ... 424\n",
      "Working ... 425\n",
      "Working ... 426\n",
      "Working ... 427\n",
      "Working ... 428\n",
      "Working ... 429\n",
      "Working ... 430\n",
      "Working ... 431\n",
      "Working ... 432\n",
      "Working ... 433\n",
      "Working ... 434\n",
      "Working ... 435\n",
      "Working ... 436\n",
      "Working ... 437\n",
      "Working ... 438\n",
      "Working ... 439\n",
      "Working ... 440\n",
      "Working ... 441\n",
      "Working ... 442\n",
      "Working ... 443\n",
      "Working ... 444\n",
      "Working ... 445\n",
      "Working ... 446\n",
      "Working ... 447\n",
      "Working ... 448\n",
      "Working ... 449\n",
      "Working ... 450\n",
      "Working ... 451\n",
      "Working ... 452\n",
      "Working ... 453\n",
      "Working ... 454\n",
      "Working ... 455\n",
      "Working ... 456\n",
      "Working ... 457\n",
      "Working ... 458\n",
      "Working ... 459\n",
      "Working ... 460\n",
      "Working ... 461\n",
      "Working ... 462\n",
      "Working ... 463\n",
      "Working ... 464\n",
      "Working ... 465\n",
      "Working ... 466\n",
      "Working ... 467\n",
      "Working ... 468\n",
      "Working ... 469\n",
      "Working ... 470\n",
      "Working ... 471\n",
      "Working ... 472\n",
      "Working ... 473\n",
      "Working ... 474\n",
      "Working ... 475\n",
      "Working ... 476\n",
      "Working ... 477\n",
      "Working ... 478\n",
      "Working ... 479\n",
      "Working ... 480\n",
      "Working ... 481\n",
      "Working ... 482\n",
      "Working ... 483\n",
      "Working ... 484\n",
      "Working ... 485\n",
      "Working ... 486\n",
      "Working ... 487\n",
      "Working ... 488\n",
      "Working ... 489\n",
      "Working ... 490\n",
      "Working ... 491\n",
      "Working ... 492\n",
      "Working ... 493\n",
      "Working ... 494\n",
      "Working ... 495\n",
      "Working ... 496\n",
      "Working ... 497\n",
      "Working ... 498\n",
      "Working ... 499\n",
      "Working ... 500\n",
      "Working ... 501\n",
      "Working ... 502\n",
      "Working ... 503\n",
      "Working ... 504\n",
      "Working ... 505\n",
      "Working ... 506\n",
      "Working ... 507\n",
      "Working ... 508\n",
      "Working ... 509\n",
      "Working ... 510\n",
      "Working ... 511\n",
      "Working ... 512\n",
      "Working ... 513\n",
      "Working ... 514\n",
      "Working ... 515\n",
      "Working ... 516\n",
      "Working ... 517\n",
      "Working ... 518\n",
      "Working ... 519\n",
      "Working ... 520\n",
      "Working ... 521\n",
      "Working ... 522\n",
      "Working ... 523\n",
      "Working ... 524\n",
      "Working ... 525\n",
      "Working ... 526\n",
      "Working ... 527\n",
      "Working ... 528\n",
      "Working ... 529\n",
      "Working ... 530\n",
      "Working ... 531\n",
      "Working ... 532\n",
      "Working ... 533\n",
      "Working ... 534\n",
      "Working ... 535\n",
      "Working ... 536\n",
      "Working ... 537\n",
      "Working ... 538\n",
      "Working ... 539\n",
      "Working ... 540\n",
      "Working ... 541\n",
      "Working ... 542\n",
      "Working ... 543\n",
      "Working ... 544\n",
      "Working ... 545\n",
      "Working ... 546\n",
      "Working ... 547\n",
      "Working ... 548\n",
      "Working ... 549\n",
      "Working ... 550\n",
      "Working ... 551\n",
      "Working ... 552\n",
      "Working ... 553\n",
      "Working ... 554\n",
      "Working ... 555\n",
      "Working ... 556\n",
      "Working ... 557\n",
      "Working ... 558\n",
      "Working ... 559\n",
      "Working ... 560\n",
      "Working ... 561\n",
      "Working ... 562\n",
      "Working ... 563\n",
      "Working ... 564\n",
      "Working ... 565\n",
      "Working ... 566\n",
      "Working ... 567\n",
      "Working ... 568\n",
      "Working ... 569\n",
      "Working ... 570\n",
      "Working ... 571\n",
      "Working ... 572\n",
      "Working ... 573\n",
      "Working ... 574\n",
      "Working ... 575\n",
      "Working ... 576\n",
      "Working ... 577\n",
      "Working ... 578\n",
      "Working ... 579\n",
      "Working ... 580\n",
      "Working ... 581\n",
      "Working ... 582\n",
      "Working ... 583\n",
      "Working ... 584\n",
      "Working ... 585\n",
      "Working ... 586\n",
      "Working ... 587\n",
      "Working ... 588\n",
      "Working ... 589\n",
      "Working ... 590\n",
      "Working ... 591\n",
      "Working ... 592\n",
      "Working ... 593\n",
      "Working ... 594\n",
      "Working ... 595\n",
      "Working ... 596\n",
      "Working ... 597\n",
      "Working ... 598\n",
      "Working ... 599\n",
      "Working ... 600\n",
      "Working ... 601\n",
      "Working ... 602\n",
      "Working ... 603\n",
      "Working ... 604\n",
      "Working ... 605\n",
      "Working ... 606\n",
      "Working ... 607\n",
      "Working ... 608\n",
      "Working ... 609\n",
      "Working ... 610\n",
      "Working ... 611\n",
      "Working ... 612\n",
      "Working ... 613\n",
      "Working ... 614\n",
      "Working ... 615\n",
      "Working ... 616\n",
      "Working ... 617\n",
      "Working ... 618\n",
      "Working ... 619\n",
      "Working ... 620\n",
      "Working ... 621\n",
      "Working ... 622\n",
      "Working ... 623\n",
      "Working ... 624\n",
      "Working ... 625\n",
      "Working ... 626\n",
      "Working ... 627\n",
      "Working ... 628\n",
      "Working ... 629\n",
      "Working ... 630\n",
      "Working ... 631\n",
      "Working ... 632\n",
      "Working ... 633\n",
      "Working ... 634\n",
      "Working ... 635\n",
      "Working ... 636\n",
      "Working ... 637\n",
      "Working ... 638\n",
      "Working ... 639\n",
      "Working ... 640\n",
      "Working ... 641\n",
      "Working ... 642\n",
      "Working ... 643\n",
      "Working ... 644\n",
      "Working ... 645\n",
      "Working ... 646\n",
      "Working ... 647\n",
      "Working ... 648\n",
      "Working ... 649\n",
      "Working ... 650\n",
      "Working ... 651\n",
      "Working ... 652\n",
      "Working ... 653\n",
      "Working ... 654\n",
      "Working ... 655\n",
      "Working ... 656\n",
      "Working ... 657\n",
      "Working ... 658\n",
      "Working ... 659\n",
      "Working ... 660\n",
      "Working ... 661\n",
      "Working ... 662\n",
      "Working ... 663\n",
      "Working ... 664\n",
      "Working ... 665\n",
      "Working ... 666\n",
      "Working ... 667\n",
      "Working ... 668\n",
      "Working ... 669\n",
      "Working ... 670\n",
      "Working ... 671\n",
      "Working ... 672\n",
      "Working ... 673\n",
      "Working ... 674\n",
      "Working ... 675\n",
      "Working ... 676\n",
      "Working ... 677\n",
      "Working ... 678\n",
      "Working ... 679\n",
      "Working ... 680\n",
      "Working ... 681\n",
      "Working ... 682\n",
      "Working ... 683\n",
      "Working ... 684\n",
      "Working ... 685\n",
      "Working ... 686\n",
      "Working ... 687\n",
      "Working ... 688\n",
      "Working ... 689\n",
      "Working ... 690\n",
      "Working ... 691\n",
      "Working ... 692\n",
      "Working ... 693\n",
      "Working ... 694\n",
      "Working ... 695\n",
      "Working ... 696\n",
      "Working ... 697\n",
      "Working ... 698\n",
      "Working ... 699\n",
      "Working ... 700\n",
      "Working ... 701\n",
      "Working ... 702\n",
      "Working ... 703\n",
      "Working ... 704\n",
      "Working ... 705\n",
      "Working ... 706\n",
      "Working ... 707\n",
      "Working ... 708\n",
      "Working ... 709\n",
      "Working ... 710\n",
      "Working ... 711\n",
      "Working ... 712\n",
      "Working ... 713\n",
      "Working ... 714\n",
      "Working ... 715\n",
      "Working ... 716\n",
      "Working ... 717\n",
      "Working ... 718\n",
      "Working ... 719\n",
      "Working ... 720\n",
      "Working ... 721\n",
      "Working ... 722\n",
      "Working ... 723\n",
      "Working ... 724\n",
      "Working ... 725\n",
      "Working ... 726\n",
      "Working ... 727\n",
      "Working ... 728\n",
      "Working ... 729\n",
      "Working ... 730\n",
      "Working ... 731\n",
      "Working ... 732\n",
      "Working ... 733\n",
      "Working ... 734\n",
      "Working ... 735\n",
      "Working ... 736\n",
      "Working ... 737\n",
      "Working ... 738\n",
      "Working ... 739\n",
      "Working ... 740\n",
      "Working ... 741\n",
      "Working ... 742\n",
      "Working ... 743\n",
      "Working ... 744\n",
      "Working ... 745\n",
      "Working ... 746\n",
      "Working ... 747\n",
      "Working ... 748\n",
      "Working ... 749\n",
      "Working ... 750\n",
      "Working ... 751\n",
      "Working ... 752\n",
      "Working ... 753\n",
      "Working ... 754\n",
      "Working ... 755\n",
      "Working ... 756\n",
      "Working ... 757\n",
      "Working ... 758\n",
      "Working ... 759\n",
      "Working ... 760\n",
      "Working ... 761\n",
      "Working ... 762\n",
      "Working ... 763\n",
      "Working ... 764\n",
      "Working ... 765\n",
      "Working ... 766\n",
      "Working ... 767\n",
      "Working ... 768\n",
      "Working ... 769\n",
      "Working ... 770\n",
      "Working ... 771\n",
      "Working ... 772\n",
      "Working ... 773\n",
      "Working ... 774\n",
      "Working ... 775\n",
      "Working ... 776\n",
      "Working ... 777\n",
      "Working ... 778\n",
      "Working ... 779\n",
      "Working ... 780\n",
      "Working ... 781\n",
      "Working ... 782\n",
      "Working ... 783\n",
      "Working ... 784\n",
      "Working ... 785\n",
      "Working ... 786\n",
      "Working ... 787\n",
      "Working ... 788\n",
      "Working ... 789\n",
      "Working ... 790\n",
      "Working ... 791\n",
      "Working ... 792\n",
      "Working ... 793\n",
      "Working ... 794\n",
      "Working ... 795\n",
      "Working ... 796\n",
      "Working ... 797\n",
      "Working ... 798\n",
      "Working ... 799\n",
      "Working ... 800\n",
      "Working ... 801\n",
      "Working ... 802\n",
      "Working ... 803\n",
      "Working ... 804\n",
      "Working ... 805\n",
      "Working ... 806\n",
      "Working ... 807\n",
      "Working ... 808\n",
      "Working ... 809\n",
      "Working ... 810\n",
      "Working ... 811\n",
      "Working ... 812\n",
      "Working ... 813\n",
      "Working ... 814\n",
      "Working ... 815\n",
      "Working ... 816\n",
      "Working ... 817\n",
      "Working ... 818\n",
      "Working ... 819\n",
      "Working ... 820\n",
      "Working ... 821\n",
      "Working ... 822\n",
      "Working ... 823\n",
      "Working ... 824\n",
      "Working ... 825\n",
      "Working ... 826\n",
      "Working ... 827\n",
      "Working ... 828\n",
      "Working ... 829\n",
      "Working ... 830\n",
      "Working ... 831\n",
      "Working ... 832\n",
      "Working ... 833\n",
      "Working ... 834\n",
      "Working ... 835\n",
      "Working ... 836\n",
      "Working ... 837\n",
      "Working ... 838\n",
      "Working ... 839\n",
      "Working ... 840\n",
      "Working ... 841\n",
      "Working ... 842\n",
      "Working ... 843\n",
      "Working ... 844\n",
      "Working ... 845\n",
      "Working ... 846\n",
      "Working ... 847\n",
      "Working ... 848\n",
      "Working ... 849\n",
      "Working ... 850\n",
      "Working ... 851\n",
      "Working ... 852\n",
      "Working ... 853\n",
      "Working ... 854\n",
      "Working ... 855\n",
      "Working ... 856\n",
      "Working ... 857\n",
      "Working ... 858\n",
      "Working ... 859\n",
      "Working ... 860\n",
      "Working ... 861\n",
      "Working ... 862\n",
      "Working ... 863\n",
      "Working ... 864\n",
      "Working ... 865\n",
      "Working ... 866\n",
      "Working ... 867\n",
      "Working ... 868\n",
      "Working ... 869\n",
      "Working ... 870\n",
      "Working ... 871\n",
      "Working ... 872\n",
      "Working ... 873\n",
      "Working ... 874\n",
      "Working ... 875\n",
      "Working ... 876\n",
      "Working ... 877\n",
      "Working ... 878\n",
      "Working ... 879\n",
      "Working ... 880\n",
      "Working ... 881\n",
      "Working ... 882\n",
      "Working ... 883\n",
      "Working ... 884\n",
      "Working ... 885\n",
      "Working ... 886\n",
      "Working ... 887\n",
      "Working ... 888\n",
      "Working ... 889\n",
      "Working ... 890\n",
      "Working ... 891\n",
      "Working ... 892\n",
      "Working ... 893\n",
      "Working ... 894\n",
      "Working ... 895\n",
      "Working ... 896\n",
      "Working ... 897\n",
      "Working ... 898\n"
     ]
    },
    {
     "ename": "NameError",
     "evalue": "global name 'dt' is not defined",
     "output_type": "error",
     "traceback": [
      "\u001b[1;31m---------------------------------------------------------------------------\u001b[0m",
      "\u001b[1;31mNameError\u001b[0m                                 Traceback (most recent call last)",
      "\u001b[1;32m<ipython-input-90-5d57e05992a7>\u001b[0m in \u001b[0;36m<module>\u001b[1;34m()\u001b[0m\n\u001b[0;32m      2\u001b[0m \u001b[0mintesa_followers\u001b[0m \u001b[1;33m=\u001b[0m \u001b[1;33m[\u001b[0m\u001b[1;33m]\u001b[0m\u001b[1;33m\u001b[0m\u001b[0m\n\u001b[0;32m      3\u001b[0m \u001b[0mcounter\u001b[0m \u001b[1;33m=\u001b[0m \u001b[1;36m0\u001b[0m\u001b[1;33m\u001b[0m\u001b[0m\n\u001b[1;32m----> 4\u001b[1;33m \u001b[1;32mfor\u001b[0m \u001b[0mfollower\u001b[0m \u001b[1;32min\u001b[0m \u001b[0mintesa\u001b[0m\u001b[1;33m.\u001b[0m\u001b[0mget_followers\u001b[0m\u001b[1;33m(\u001b[0m\u001b[1;33m)\u001b[0m\u001b[1;33m:\u001b[0m\u001b[1;33m\u001b[0m\u001b[0m\n\u001b[0m\u001b[0;32m      5\u001b[0m     \u001b[1;32mprint\u001b[0m \u001b[1;34m'Working ...'\u001b[0m\u001b[1;33m,\u001b[0m \u001b[0mcounter\u001b[0m\u001b[1;33m\u001b[0m\u001b[0m\n\u001b[0;32m      6\u001b[0m     \u001b[0mcounter\u001b[0m \u001b[1;33m+=\u001b[0m\u001b[1;36m1\u001b[0m\u001b[1;33m\u001b[0m\u001b[0m\n",
      "\u001b[1;32m<ipython-input-86-f5f671cd50db>\u001b[0m in \u001b[0;36mget_followers\u001b[1;34m(self)\u001b[0m\n\u001b[0;32m     11\u001b[0m                 \u001b[1;32myield\u001b[0m \u001b[0mself\u001b[0m\u001b[1;33m.\u001b[0m\u001b[0mapi\u001b[0m\u001b[1;33m.\u001b[0m\u001b[0mget_user\u001b[0m\u001b[1;33m(\u001b[0m\u001b[0mfollower_id\u001b[0m\u001b[1;33m)\u001b[0m\u001b[1;33m\u001b[0m\u001b[0m\n\u001b[0;32m     12\u001b[0m             \u001b[1;32mexcept\u001b[0m \u001b[0mtweepy\u001b[0m\u001b[1;33m.\u001b[0m\u001b[0mRateLimitError\u001b[0m\u001b[1;33m:\u001b[0m\u001b[1;33m\u001b[0m\u001b[0m\n\u001b[1;32m---> 13\u001b[1;33m                 \u001b[1;32mprint\u001b[0m \u001b[1;34m\"[LOG %s] Timeout reached.. I'm going to sleep for 15 minutes..\"\u001b[0m \u001b[1;33m%\u001b[0m \u001b[0mdt\u001b[0m\u001b[1;33m.\u001b[0m\u001b[0mnow\u001b[0m\u001b[1;33m(\u001b[0m\u001b[1;33m)\u001b[0m\u001b[1;33m\u001b[0m\u001b[0m\n\u001b[0m\u001b[0;32m     14\u001b[0m                 \u001b[0mtime\u001b[0m\u001b[1;33m.\u001b[0m\u001b[0msleep\u001b[0m\u001b[1;33m(\u001b[0m\u001b[1;36m15\u001b[0m\u001b[1;33m*\u001b[0m\u001b[1;36m60\u001b[0m\u001b[1;33m)\u001b[0m\u001b[1;33m\u001b[0m\u001b[0m\n\u001b[0;32m     15\u001b[0m                 \u001b[1;32mprint\u001b[0m \u001b[1;34m\"[LOG %s] Try Again!\"\u001b[0m \u001b[1;33m%\u001b[0m \u001b[0mdt\u001b[0m\u001b[1;33m.\u001b[0m\u001b[0mnow\u001b[0m\u001b[1;33m(\u001b[0m\u001b[1;33m)\u001b[0m\u001b[1;33m\u001b[0m\u001b[0m\n",
      "\u001b[1;31mNameError\u001b[0m: global name 'dt' is not defined"
     ]
    }
   ],
   "source": [
    "intesa = IntesaFollowers(auth)\n",
    "intesa_followers = []\n",
    "counter = 0\n",
    "for follower in intesa.get_followers():\n",
    "    print 'Working ...', counter\n",
    "    counter +=1\n",
    "    intesa_followers.append(follower)"
   ]
  },
  {
   "cell_type": "markdown",
   "metadata": {},
   "source": [
    "## GET intesa Favorites"
   ]
  },
  {
   "cell_type": "code",
   "execution_count": 91,
   "metadata": {
    "collapsed": true
   },
   "outputs": [],
   "source": [
    "class IntesaFavorites(object):\n",
    "    \n",
    "    def __init__(self, auth):\n",
    "        self.auth = auth\n",
    "        self.api = tweepy.API(self.auth)\n",
    "        self.intesa = self.api.get_user('intesasanpaolo')\n",
    "\n",
    "    def get_favorites(self):  \n",
    "        for favorites in self.intesa.favorites():\n",
    "            try:\n",
    "                yield favorites.status\n",
    "            except tweepy.RateLimitError:\n",
    "                print \"[LOG %s] Timeout reached.. I'm going to sleep for 15 minutes..\" % dt.now()\n",
    "                time.sleep(15*60)\n",
    "                print \"[LOG %s] Try Again!\" % dt.now()\n",
    "            except Exception as e:\n",
    "                # Generic Exception\n",
    "                print \"[LOG %s] Generic error \" % dt.now(), e\n",
    "                print \"[LOG %s] Wait 60 seconds...\" % dt.now()\n",
    "                time.sleep(60)"
   ]
  },
  {
   "cell_type": "code",
   "execution_count": 92,
   "metadata": {
    "collapsed": false
   },
   "outputs": [
    {
     "ename": "RateLimitError",
     "evalue": "[{u'message': u'Rate limit exceeded', u'code': 88}]",
     "output_type": "error",
     "traceback": [
      "\u001b[1;31m---------------------------------------------------------------------------\u001b[0m",
      "\u001b[1;31mRateLimitError\u001b[0m                            Traceback (most recent call last)",
      "\u001b[1;32m<ipython-input-92-005124cc3e7b>\u001b[0m in \u001b[0;36m<module>\u001b[1;34m()\u001b[0m\n\u001b[1;32m----> 1\u001b[1;33m \u001b[0mintesa\u001b[0m \u001b[1;33m=\u001b[0m \u001b[0mIntesaFavorites\u001b[0m\u001b[1;33m(\u001b[0m\u001b[0mauth\u001b[0m\u001b[1;33m)\u001b[0m\u001b[1;33m\u001b[0m\u001b[0m\n\u001b[0m\u001b[0;32m      2\u001b[0m \u001b[0mintesa_favorites\u001b[0m \u001b[1;33m=\u001b[0m \u001b[1;33m[\u001b[0m\u001b[1;33m]\u001b[0m\u001b[1;33m\u001b[0m\u001b[0m\n\u001b[0;32m      3\u001b[0m \u001b[0mcounter\u001b[0m \u001b[1;33m=\u001b[0m \u001b[1;36m0\u001b[0m\u001b[1;33m\u001b[0m\u001b[0m\n\u001b[0;32m      4\u001b[0m \u001b[1;32mfor\u001b[0m \u001b[0mfavorite\u001b[0m \u001b[1;32min\u001b[0m \u001b[0mintesa\u001b[0m\u001b[1;33m.\u001b[0m\u001b[0mget_favorites\u001b[0m\u001b[1;33m(\u001b[0m\u001b[1;33m)\u001b[0m\u001b[1;33m:\u001b[0m\u001b[1;33m\u001b[0m\u001b[0m\n\u001b[0;32m      5\u001b[0m     \u001b[1;32mprint\u001b[0m \u001b[1;34m'Working ...'\u001b[0m\u001b[1;33m,\u001b[0m \u001b[0mcounter\u001b[0m\u001b[1;33m\u001b[0m\u001b[0m\n",
      "\u001b[1;32m<ipython-input-91-3ab137196de5>\u001b[0m in \u001b[0;36m__init__\u001b[1;34m(self, auth)\u001b[0m\n\u001b[0;32m      4\u001b[0m         \u001b[0mself\u001b[0m\u001b[1;33m.\u001b[0m\u001b[0mauth\u001b[0m \u001b[1;33m=\u001b[0m \u001b[0mauth\u001b[0m\u001b[1;33m\u001b[0m\u001b[0m\n\u001b[0;32m      5\u001b[0m         \u001b[0mself\u001b[0m\u001b[1;33m.\u001b[0m\u001b[0mapi\u001b[0m \u001b[1;33m=\u001b[0m \u001b[0mtweepy\u001b[0m\u001b[1;33m.\u001b[0m\u001b[0mAPI\u001b[0m\u001b[1;33m(\u001b[0m\u001b[0mself\u001b[0m\u001b[1;33m.\u001b[0m\u001b[0mauth\u001b[0m\u001b[1;33m)\u001b[0m\u001b[1;33m\u001b[0m\u001b[0m\n\u001b[1;32m----> 6\u001b[1;33m         \u001b[0mself\u001b[0m\u001b[1;33m.\u001b[0m\u001b[0mintesa\u001b[0m \u001b[1;33m=\u001b[0m \u001b[0mself\u001b[0m\u001b[1;33m.\u001b[0m\u001b[0mapi\u001b[0m\u001b[1;33m.\u001b[0m\u001b[0mget_user\u001b[0m\u001b[1;33m(\u001b[0m\u001b[1;34m'intesasanpaolo'\u001b[0m\u001b[1;33m)\u001b[0m\u001b[1;33m\u001b[0m\u001b[0m\n\u001b[0m\u001b[0;32m      7\u001b[0m \u001b[1;33m\u001b[0m\u001b[0m\n\u001b[0;32m      8\u001b[0m     \u001b[1;32mdef\u001b[0m \u001b[0mget_favorites\u001b[0m\u001b[1;33m(\u001b[0m\u001b[0mself\u001b[0m\u001b[1;33m)\u001b[0m\u001b[1;33m:\u001b[0m\u001b[1;33m\u001b[0m\u001b[0m\n",
      "\u001b[1;32m/home/bigdive/anaconda2/lib/python2.7/site-packages/tweepy/binder.pyc\u001b[0m in \u001b[0;36m_call\u001b[1;34m(*args, **kwargs)\u001b[0m\n\u001b[0;32m    243\u001b[0m             \u001b[1;32mreturn\u001b[0m \u001b[0mmethod\u001b[0m\u001b[1;33m\u001b[0m\u001b[0m\n\u001b[0;32m    244\u001b[0m         \u001b[1;32melse\u001b[0m\u001b[1;33m:\u001b[0m\u001b[1;33m\u001b[0m\u001b[0m\n\u001b[1;32m--> 245\u001b[1;33m             \u001b[1;32mreturn\u001b[0m \u001b[0mmethod\u001b[0m\u001b[1;33m.\u001b[0m\u001b[0mexecute\u001b[0m\u001b[1;33m(\u001b[0m\u001b[1;33m)\u001b[0m\u001b[1;33m\u001b[0m\u001b[0m\n\u001b[0m\u001b[0;32m    246\u001b[0m \u001b[1;33m\u001b[0m\u001b[0m\n\u001b[0;32m    247\u001b[0m     \u001b[1;31m# Set pagination mode\u001b[0m\u001b[1;33m\u001b[0m\u001b[1;33m\u001b[0m\u001b[0m\n",
      "\u001b[1;32m/home/bigdive/anaconda2/lib/python2.7/site-packages/tweepy/binder.pyc\u001b[0m in \u001b[0;36mexecute\u001b[1;34m(self)\u001b[0m\n\u001b[0;32m    225\u001b[0m \u001b[1;33m\u001b[0m\u001b[0m\n\u001b[0;32m    226\u001b[0m                 \u001b[1;32mif\u001b[0m \u001b[0mis_rate_limit_error_message\u001b[0m\u001b[1;33m(\u001b[0m\u001b[0merror_msg\u001b[0m\u001b[1;33m)\u001b[0m\u001b[1;33m:\u001b[0m\u001b[1;33m\u001b[0m\u001b[0m\n\u001b[1;32m--> 227\u001b[1;33m                     \u001b[1;32mraise\u001b[0m \u001b[0mRateLimitError\u001b[0m\u001b[1;33m(\u001b[0m\u001b[0merror_msg\u001b[0m\u001b[1;33m,\u001b[0m \u001b[0mresp\u001b[0m\u001b[1;33m)\u001b[0m\u001b[1;33m\u001b[0m\u001b[0m\n\u001b[0m\u001b[0;32m    228\u001b[0m                 \u001b[1;32melse\u001b[0m\u001b[1;33m:\u001b[0m\u001b[1;33m\u001b[0m\u001b[0m\n\u001b[0;32m    229\u001b[0m                     \u001b[1;32mraise\u001b[0m \u001b[0mTweepError\u001b[0m\u001b[1;33m(\u001b[0m\u001b[0merror_msg\u001b[0m\u001b[1;33m,\u001b[0m \u001b[0mresp\u001b[0m\u001b[1;33m,\u001b[0m \u001b[0mapi_code\u001b[0m\u001b[1;33m=\u001b[0m\u001b[0mapi_error_code\u001b[0m\u001b[1;33m)\u001b[0m\u001b[1;33m\u001b[0m\u001b[0m\n",
      "\u001b[1;31mRateLimitError\u001b[0m: [{u'message': u'Rate limit exceeded', u'code': 88}]"
     ]
    }
   ],
   "source": [
    "intesa = IntesaFavorites(auth)\n",
    "intesa_favorites = []\n",
    "counter = 0\n",
    "for favorite in intesa.get_favorites():\n",
    "    print 'Working ...', counter\n",
    "    counter +=1\n",
    "    intesa_favorites.append(favorite)"
   ]
  },
  {
   "cell_type": "markdown",
   "metadata": {},
   "source": [
    "# GET Intesa Friends"
   ]
  },
  {
   "cell_type": "markdown",
   "metadata": {},
   "source": [
    "# GET Intesa Data"
   ]
  },
  {
   "cell_type": "code",
   "execution_count": null,
   "metadata": {
    "collapsed": true
   },
   "outputs": [],
   "source": []
  }
 ],
 "metadata": {
  "kernelspec": {
   "display_name": "Python [Root]",
   "language": "python",
   "name": "Python [Root]"
  },
  "language_info": {
   "codemirror_mode": {
    "name": "ipython",
    "version": 2
   },
   "file_extension": ".py",
   "mimetype": "text/x-python",
   "name": "python",
   "nbconvert_exporter": "python",
   "pygments_lexer": "ipython2",
   "version": "2.7.12"
  }
 },
 "nbformat": 4,
 "nbformat_minor": 0
}

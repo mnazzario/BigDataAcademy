{
 "cells": [
  {
   "cell_type": "markdown",
   "metadata": {},
   "source": [
    "# Probablity - Basic concepts\n",
    "\n",
    "Ripassare teorema di Bayes\n",
    " \n",
    " Aggiorna la probabilita' in base all'evidenza che si hanno durante le varie prove.\n",
    " \n",
    " Referenze per Bayes --> Libro : Think Bayes"
   ]
  },
  {
   "cell_type": "markdown",
   "metadata": {},
   "source": [
    "# Screening test\n",
    "\n",
    "(Vedi slide 65)\n",
    "\n",
    "Probabilita' 1 su 10000\n",
    "\n",
    "Risultato del Test positivo data la malattia = 99% (P(D)= 0,99)\n",
    "\n",
    "Propabilita' di non avere la malattia = 1 - P(D)\n",
    "\n",
    "Probabilita' di essere positivio e di non avere al malattia = 0,01\n",
    "\n",
    "\n"
   ]
  },
  {
   "cell_type": "markdown",
   "metadata": {},
   "source": [
    "## vedere slide con note"
   ]
  },
  {
   "cell_type": "markdown",
   "metadata": {
    "collapsed": true
   },
   "source": [
    "# Algoritmi - (argomento trattato dopo Panda)"
   ]
  },
  {
   "cell_type": "markdown",
   "metadata": {},
   "source": [
    "Lil math:function --> Per valutare la complessita dell'algoritmo\n",
    "\n",
    "\n",
    "Gli algoritmi validi hanno grado di complessita tra logaritmico, lineare e polinomiale\n",
    "\n",
    "costo di un for --> costo lineare\n",
    "\n",
    "accesso ad un elemento --> costo costante\n",
    "\n",
    "#Chiedere la complessita degli algoritmi del Bip\n"
   ]
  },
  {
   "cell_type": "markdown",
   "metadata": {},
   "source": [
    "## Fibonacci"
   ]
  },
  {
   "cell_type": "code",
   "execution_count": 1,
   "metadata": {
    "collapsed": true
   },
   "outputs": [],
   "source": [
    "#ricorsivo\n",
    "#n -> fib_rec(n)\n",
    "#0 -> 0\n",
    "#1 -> 1\n",
    "#2 -> 1\n",
    "#3 -> 2\n",
    "#4 -> 3\n",
    "\n",
    "#iterativo\n",
    "#n -> fib_it(n)\n",
    "#0,1 \n",
    "#0,1 -> 1,0+1\n",
    "#1,1 -> 1,2\n",
    "#1,2 -> 2,3\n",
    "#2,3 -> 3,5\n",
    "#3,5 -> 5,8\n",
    "#return low --> 5\n"
   ]
  },
  {
   "cell_type": "code",
   "execution_count": 15,
   "metadata": {
    "collapsed": true
   },
   "outputs": [],
   "source": [
    "def fib_it(n): #complessita lineare\n",
    "    low, high = 0, 1\n",
    "    for i in range(0, n):\n",
    "        low, high = high, low + high\n",
    "    return low"
   ]
  },
  {
   "cell_type": "code",
   "execution_count": 16,
   "metadata": {
    "collapsed": false
   },
   "outputs": [
    {
     "data": {
      "text/plain": [
       "55"
      ]
     },
     "execution_count": 16,
     "metadata": {},
     "output_type": "execute_result"
    }
   ],
   "source": [
    "fib_it(10)"
   ]
  },
  {
   "cell_type": "code",
   "execution_count": 21,
   "metadata": {
    "collapsed": true
   },
   "outputs": [],
   "source": [
    "def fib_rec(n): #complessita esponenziale 2**n\n",
    " if n==1 or n==2:\n",
    "  return 1\n",
    " return fib_rec(n-1)+fib_rec(n-2)"
   ]
  },
  {
   "cell_type": "code",
   "execution_count": 22,
   "metadata": {
    "collapsed": false
   },
   "outputs": [
    {
     "data": {
      "text/plain": [
       "55"
      ]
     },
     "execution_count": 22,
     "metadata": {},
     "output_type": "execute_result"
    }
   ],
   "source": [
    "fib_rec(10)"
   ]
  },
  {
   "cell_type": "code",
   "execution_count": null,
   "metadata": {
    "collapsed": true
   },
   "outputs": [],
   "source": []
  }
 ],
 "metadata": {
  "kernelspec": {
   "display_name": "Python [Root]",
   "language": "python",
   "name": "Python [Root]"
  },
  "language_info": {
   "codemirror_mode": {
    "name": "ipython",
    "version": 2
   },
   "file_extension": ".py",
   "mimetype": "text/x-python",
   "name": "python",
   "nbconvert_exporter": "python",
   "pygments_lexer": "ipython2",
   "version": "2.7.12"
  }
 },
 "nbformat": 4,
 "nbformat_minor": 0
}

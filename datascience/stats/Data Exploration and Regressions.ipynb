{
 "cells": [
  {
   "cell_type": "markdown",
   "metadata": {},
   "source": [
    "# Introduction to the dataset\n",
    "each record is a movie showed in TV in 1992. In each record we have the following information:\n",
    "* **NETWORK**: broadcasting network (ABN, BBS, or CBC)\n",
    "* **MONTH**: 1=January, 2=February, ..., 12=December\n",
    "* **DAY**: 1=Monday, ..., 7=Sunday\n",
    "* **RATING**: rate (from 0 to 100) for movie\n",
    "* **FACT**: 1=based on true events, 0=fictional\n",
    "* **STARS**: number of actors or actress paid over $300,000\n",
    "* **PREVIOUS RATING**: rate for program immediately preceding movie on same network\n",
    "* **COMPETITION**: average rates received by the two competing networks during the movie's broadcast"
   ]
  },
  {
   "cell_type": "markdown",
   "metadata": {},
   "source": [
    "let's import [numpy](http://numpy.org) and [matplotlib](http://matplotlib.org)"
   ]
  },
  {
   "cell_type": "code",
   "execution_count": 1,
   "metadata": {
    "collapsed": false,
    "scrolled": true
   },
   "outputs": [
    {
     "name": "stdout",
     "output_type": "stream",
     "text": [
      "Populating the interactive namespace from numpy and matplotlib\n"
     ]
    }
   ],
   "source": [
    "%pylab inline"
   ]
  },
  {
   "cell_type": "code",
   "execution_count": 2,
   "metadata": {
    "collapsed": true
   },
   "outputs": [],
   "source": [
    "random.seed(1)"
   ]
  },
  {
   "cell_type": "markdown",
   "metadata": {},
   "source": [
    "# Importing the data"
   ]
  },
  {
   "cell_type": "markdown",
   "metadata": {},
   "source": [
    "The following lines allow us to open a CSV file, parse the lines and load it in a numpy array. Remember, next days you will see more optimal solutions to load data (e.g. **pandas**)!"
   ]
  },
  {
   "cell_type": "code",
   "execution_count": 3,
   "metadata": {
    "collapsed": false
   },
   "outputs": [],
   "source": [
    "f=file('Colonial_Broadcasting_Company_dataset.csv','r')"
   ]
  },
  {
   "cell_type": "code",
   "execution_count": 4,
   "metadata": {
    "collapsed": false
   },
   "outputs": [],
   "source": [
    "tt=[]\n",
    "for i,el in enumerate(f):\n",
    "    if i==0:#if we are on the first line, we store the columns' name in an array\n",
    "        col_name=el.strip().split(',')\n",
    "    else:#\n",
    "        tt_temp=[]\n",
    "        for el1 in el.strip().split(','):\n",
    "            try:\n",
    "                tt_temp.append(float(el1))\n",
    "            except:\n",
    "                tt_temp.append(el1)        \n",
    "        tt.append(tt_temp)\n",
    "# tt=array(tt)"
   ]
  },
  {
   "cell_type": "code",
   "execution_count": 5,
   "metadata": {
    "collapsed": true
   },
   "outputs": [],
   "source": [
    "f.close()"
   ]
  },
  {
   "cell_type": "code",
   "execution_count": 6,
   "metadata": {
    "collapsed": false
   },
   "outputs": [],
   "source": [
    "tt=array(tt,object)"
   ]
  },
  {
   "cell_type": "code",
   "execution_count": 7,
   "metadata": {
    "collapsed": false
   },
   "outputs": [
    {
     "data": {
      "text/plain": [
       "array([[79.0, '\"CBC\"', 10.0, 1.0, 13.8, 1.0, 0.0, 10.2, 16.6],\n",
       "       [80.0, '\"CBC\"', 10.0, 7.0, 11.9, 1.0, 0.0, 11.8, 12.2],\n",
       "       [81.0, '\"CBC\"', 10.0, 1.0, 14.6, 0.0, 0.0, 14.9, 14.9],\n",
       "       [82.0, '\"CBC\"', 11.0, 1.0, 15.8, 1.0, 1.0, 13.4, 17.2],\n",
       "       [83.0, '\"CBC\"', 11.0, 1.0, 15.4, 0.0, 1.0, 13.6, 16.8],\n",
       "       [84.0, '\"CBC\"', 11.0, 1.0, 12.8, 0.0, 0.0, 12.7, 14.6],\n",
       "       [85.0, '\"CBC\"', 12.0, 7.0, 12.8, 0.0, 0.0, 12.0, 18.6],\n",
       "       [86.0, '\"CBC\"', 12.0, 1.0, 15.1, 0.0, 0.0, 14.1, 15.5],\n",
       "       [87.0, '\"CBC\"', 12.0, 1.0, 11.4, 0.0, 1.0, 11.2, 16.4],\n",
       "       [88.0, '\"CBC\"', 12.0, 1.0, 19.1, 1.0, 0.0, 12.6, 15.4]], dtype=object)"
      ]
     },
     "execution_count": 7,
     "metadata": {},
     "output_type": "execute_result"
    }
   ],
   "source": [
    "tt[-10:,:]"
   ]
  },
  {
   "cell_type": "code",
   "execution_count": 8,
   "metadata": {
    "collapsed": false
   },
   "outputs": [
    {
     "data": {
      "text/plain": [
       "['\"Observations \"',\n",
       " '\"Network \"',\n",
       " '\"Month \"',\n",
       " '\"Day \"',\n",
       " '\"Rating\"',\n",
       " '\"Fact \"',\n",
       " '\"Stars \"',\n",
       " '\"Previous rating  \"',\n",
       " '\"Competition \"']"
      ]
     },
     "execution_count": 8,
     "metadata": {},
     "output_type": "execute_result"
    }
   ],
   "source": [
    "col_name"
   ]
  },
  {
   "cell_type": "markdown",
   "metadata": {},
   "source": [
    "# First explorations\n",
    "## Some exercises\n",
    "Try to anser the following questions:\n",
    "\n",
    "What are the mean values of each columns? Try to use the less code that you can and remember the Zen of Python"
   ]
  },
  {
   "cell_type": "code",
   "execution_count": 20,
   "metadata": {
    "collapsed": false
   },
   "outputs": [
    {
     "data": {
      "text/plain": [
       "array([5.875, 4.25, 13.819318181818176, 0.4090909090909091,\n",
       "       0.4090909090909091, 13.77386363636363, 14.059090909090907], dtype=object)"
      ]
     },
     "execution_count": 20,
     "metadata": {},
     "output_type": "execute_result"
    }
   ],
   "source": [
    "tt[:,2:].mean(axis=0) #axis 0 fa per colonne"
   ]
  },
  {
   "cell_type": "markdown",
   "metadata": {},
   "source": [
    "What are the standard-deviations of the third column?"
   ]
  },
  {
   "cell_type": "code",
   "execution_count": 22,
   "metadata": {
    "collapsed": false
   },
   "outputs": [
    {
     "data": {
      "text/plain": [
       "3.8900002921243173"
      ]
     },
     "execution_count": 22,
     "metadata": {},
     "output_type": "execute_result"
    }
   ],
   "source": [
    "tt[:,2].std()"
   ]
  },
  {
   "cell_type": "markdown",
   "metadata": {},
   "source": [
    "What are the 87.2th percentile of each columns? [Hint: try to search on google numpy percentile]"
   ]
  },
  {
   "cell_type": "code",
   "execution_count": 24,
   "metadata": {
    "collapsed": false
   },
   "outputs": [
    {
     "data": {
      "text/plain": [
       "array([11.0, 7.0, 16.5592, 1.0, 1.0, 17.0864, 16.8], dtype=object)"
      ]
     },
     "execution_count": 24,
     "metadata": {},
     "output_type": "execute_result"
    }
   ],
   "source": [
    "percentile(tt[:,2:],87.2,axis=0)"
   ]
  },
  {
   "cell_type": "code",
   "execution_count": 25,
   "metadata": {
    "collapsed": false
   },
   "outputs": [
    {
     "data": {
      "text/plain": [
       "array([[3.0, 1.0, 11.674999999999999, 0.0, 0.0, 11.95, 12.549999999999999],\n",
       "       [10.0, 7.0, 15.8, 1.0, 1.0, 15.9, 15.325000000000001]], dtype=object)"
      ]
     },
     "execution_count": 25,
     "metadata": {},
     "output_type": "execute_result"
    }
   ],
   "source": [
    "percentile(tt[:,2:],[25,75],axis=0) #voglio 2 percentili"
   ]
  },
  {
   "cell_type": "markdown",
   "metadata": {},
   "source": [
    "Try to answer previous questions but on the sample obtained only for Network 'ABN'"
   ]
  },
  {
   "cell_type": "code",
   "execution_count": 35,
   "metadata": {
    "collapsed": false
   },
   "outputs": [
    {
     "data": {
      "text/plain": [
       "array([5.0, 7.0, 15.5, 0.0, 0.8299999999999983, 16.583, 13.083], dtype=object)"
      ]
     },
     "execution_count": 35,
     "metadata": {},
     "output_type": "execute_result"
    }
   ],
   "source": [
    "percentile(tt[tt[:,1]=='\"ABN\"',2:],59,axis=0)"
   ]
  },
  {
   "cell_type": "markdown",
   "metadata": {},
   "source": [
    "Are you able to say what is the mean rating for each network?"
   ]
  },
  {
   "cell_type": "code",
   "execution_count": 39,
   "metadata": {
    "collapsed": false
   },
   "outputs": [
    {
     "data": {
      "text/plain": [
       "14.76052631578947"
      ]
     },
     "execution_count": 39,
     "metadata": {},
     "output_type": "execute_result"
    }
   ],
   "source": [
    "tt[tt[:,1]=='\"ABN\"',4].mean()"
   ]
  },
  {
   "cell_type": "code",
   "execution_count": 42,
   "metadata": {
    "collapsed": false
   },
   "outputs": [
    {
     "data": {
      "text/plain": [
       "array([14.6, 10.8, 16.2, 12.8, 16.0, 18.9, 14.0, 19.5, 14.7, 16.3, 15.8,\n",
       "       17.1, 11.5, 16.0, 11.7, 14.2, 11.2, 10.9, 13.3, 15.5, 16.6, 16.3,\n",
       "       15.8, 13.3, 15.4, 14.7, 15.5, 14.7, 15.9, 13.8, 10.0, 12.9, 15.4,\n",
       "       14.5, 18.8, 16.7, 12.8, 16.8], dtype=object)"
      ]
     },
     "execution_count": 42,
     "metadata": {},
     "output_type": "execute_result"
    }
   ],
   "source": [
    "tt[tt[:,1]=='\"ABN\"',4]"
   ]
  },
  {
   "cell_type": "code",
   "execution_count": 43,
   "metadata": {
    "collapsed": false
   },
   "outputs": [
    {
     "data": {
      "text/plain": [
       "14.76052631578947"
      ]
     },
     "execution_count": 43,
     "metadata": {},
     "output_type": "execute_result"
    }
   ],
   "source": [
    "tt[tt[:,1]=='\"ABN\"',4].mean()"
   ]
  },
  {
   "cell_type": "code",
   "execution_count": 48,
   "metadata": {
    "collapsed": false
   },
   "outputs": [
    {
     "data": {
      "text/plain": [
       "[14.76052631578947, 13.363333333333335, 12.715]"
      ]
     },
     "execution_count": 48,
     "metadata": {},
     "output_type": "execute_result"
    }
   ],
   "source": [
    "[tt[tt[:,1]==pippo,4].mean() for pippo in ['\"ABN\"', '\"CBC\"', '\"BBS\"']]"
   ]
  },
  {
   "cell_type": "markdown",
   "metadata": {
    "collapsed": false
   },
   "source": [
    "and to plot them?"
   ]
  },
  {
   "cell_type": "code",
   "execution_count": 52,
   "metadata": {
    "collapsed": false
   },
   "outputs": [
    {
     "data": {
      "image/png": "[encoded data removed]",
      "text/plain": [
       "<matplotlib.figure.Figure at 0x7f27633ea190>"
      ]
     },
     "metadata": {},
     "output_type": "display_data"
    }
   ],
   "source": [
    "bar(arange(3)-.4,[tt[tt[:,1]==network,4].mean() for network in ['\"ABN\"', '\"CBC\"', '\"BBS\"']])\n",
    "xticks(range(3),['\"BBS\"','\"ABN\"', '\"CBC\"'])\n",
    "ylabel('mean rating')\n",
    "show()"
   ]
  },
  {
   "cell_type": "code",
   "execution_count": 54,
   "metadata": {
    "collapsed": false
   },
   "outputs": [
    {
     "data": {
      "image/png": "[encoded data removed]",
      "text/plain": [
       "<matplotlib.figure.Figure at 0x7f2760cda990>"
      ]
     },
     "metadata": {},
     "output_type": "display_data"
    }
   ],
   "source": [
    "plot(arange(3),[tt[tt[:,1]==network,4].mean() for network in ['\"ABN\"', '\"CBC\"', '\"BBS\"']],'o')\n",
    "xticks(range(3),['\"BBS\"','\"ABN\"', '\"CBC\"'])\n",
    "ylabel('mean rating')\n",
    "show()"
   ]
  },
  {
   "cell_type": "markdown",
   "metadata": {},
   "source": [
    "Are you able to plot the histogram of the movies ratings?"
   ]
  },
  {
   "cell_type": "code",
   "execution_count": 58,
   "metadata": {
    "collapsed": false
   },
   "outputs": [
    {
     "data": {
      "image/png": "[encoded data removed]",
      "text/plain": [
       "<matplotlib.figure.Figure at 0x7f2760911f90>"
      ]
     },
     "metadata": {},
     "output_type": "display_data"
    }
   ],
   "source": [
    "hist(tt[:,4],10)\n",
    "ylabel('frequency')\n",
    "show()"
   ]
  },
  {
   "cell_type": "code",
   "execution_count": 59,
   "metadata": {
    "collapsed": false
   },
   "outputs": [
    {
     "data": {
      "text/plain": [
       "[array([15.6, 10.8, 14.1, 16.8, 14.3, 17.1, 8.9, 16.2, 9.4, 10.2, 9.4, 12.1,\n",
       "        10.7, 15.0, 10.2, 10.3, 10.8, 14.4, 14.4, 13.6, 14.6, 10.8, 16.2,\n",
       "        12.8, 16.0, 18.9, 14.0, 19.5, 14.7, 16.3, 15.8, 17.1, 11.5, 16.0,\n",
       "        11.7, 14.2, 11.2, 10.9, 13.3, 15.5, 16.6, 16.3, 15.8, 13.3, 15.4,\n",
       "        14.7, 15.5, 14.7, 15.9, 13.8, 10.0, 12.9, 15.4, 14.5, 18.8, 16.7,\n",
       "        12.8, 16.8, 14.0, 11.3, 13.6, 12.9, 13.2, 16.0, 14.6, 16.6, 17.5,\n",
       "        11.6, 8.9, 15.6, 9.2, 11.8, 11.0, 9.5, 11.6, 13.3, 13.6, 12.4, 13.8,\n",
       "        11.9, 14.6, 15.8, 15.4, 12.8, 12.8, 15.1, 11.4, 19.1], dtype=object),\n",
       " 10]"
      ]
     },
     "execution_count": 59,
     "metadata": {},
     "output_type": "execute_result"
    }
   ],
   "source": [
    "[tt[:,4],10]"
   ]
  },
  {
   "cell_type": "markdown",
   "metadata": {},
   "source": [
    "# Something new: [boxplot](http://matplotlib.org/api/pyplot_api.html#matplotlib.pyplot.boxplot)"
   ]
  },
  {
   "cell_type": "code",
   "execution_count": 60,
   "metadata": {
    "collapsed": false
   },
   "outputs": [
    {
     "data": {
      "text/plain": [
       "<matplotlib.text.Text at 0x7f27608490d0>"
      ]
     },
     "execution_count": 60,
     "metadata": {},
     "output_type": "execute_result"
    },
    {
     "data": {
      "image/png": "[encoded data removed]",
      "text/plain": [
       "<matplotlib.figure.Figure at 0x7f27608d7610>"
      ]
     },
     "metadata": {},
     "output_type": "display_data"
    }
   ],
   "source": [
    "boxplot([list(tt[tt[:,1]=='\"ABN\"',4]),list(tt[tt[:,1]=='\"CBC\"',4]),list(tt[tt[:,1]=='\"BBS\"',4])],labels=['ABN','CBC','BBS'])\n",
    "ylabel('rating')"
   ]
  },
  {
   "cell_type": "code",
   "execution_count": 64,
   "metadata": {
    "collapsed": false
   },
   "outputs": [
    {
     "data": {
      "text/plain": [
       "([14.6,\n",
       "  10.8,\n",
       "  16.2,\n",
       "  12.8,\n",
       "  16.0,\n",
       "  18.9,\n",
       "  14.0,\n",
       "  19.5,\n",
       "  14.7,\n",
       "  16.3,\n",
       "  15.8,\n",
       "  17.1,\n",
       "  11.5,\n",
       "  16.0,\n",
       "  11.7,\n",
       "  14.2,\n",
       "  11.2,\n",
       "  10.9,\n",
       "  13.3,\n",
       "  15.5,\n",
       "  16.6,\n",
       "  16.3,\n",
       "  15.8,\n",
       "  13.3,\n",
       "  15.4,\n",
       "  14.7,\n",
       "  15.5,\n",
       "  14.7,\n",
       "  15.9,\n",
       "  13.8,\n",
       "  10.0,\n",
       "  12.9,\n",
       "  15.4,\n",
       "  14.5,\n",
       "  18.8,\n",
       "  16.7,\n",
       "  12.8,\n",
       "  16.8],\n",
       " [14.0,\n",
       "  11.3,\n",
       "  13.6,\n",
       "  12.9,\n",
       "  13.2,\n",
       "  16.0,\n",
       "  14.6,\n",
       "  16.6,\n",
       "  17.5,\n",
       "  11.6,\n",
       "  8.9,\n",
       "  15.6,\n",
       "  9.2,\n",
       "  11.8,\n",
       "  11.0,\n",
       "  9.5,\n",
       "  11.6,\n",
       "  13.3,\n",
       "  13.6,\n",
       "  12.4,\n",
       "  13.8,\n",
       "  11.9,\n",
       "  14.6,\n",
       "  15.8,\n",
       "  15.4,\n",
       "  12.8,\n",
       "  12.8,\n",
       "  15.1,\n",
       "  11.4,\n",
       "  19.1],\n",
       " [15.6,\n",
       "  10.8,\n",
       "  14.1,\n",
       "  16.8,\n",
       "  14.3,\n",
       "  17.1,\n",
       "  8.9,\n",
       "  16.2,\n",
       "  9.4,\n",
       "  10.2,\n",
       "  9.4,\n",
       "  12.1,\n",
       "  10.7,\n",
       "  15.0,\n",
       "  10.2,\n",
       "  10.3,\n",
       "  10.8,\n",
       "  14.4,\n",
       "  14.4,\n",
       "  13.6])"
      ]
     },
     "execution_count": 64,
     "metadata": {},
     "output_type": "execute_result"
    }
   ],
   "source": [
    "list(tt[tt[:,1]=='\"ABN\"',4]),list(tt[tt[:,1]=='\"CBC\"',4]),list(tt[tt[:,1]=='\"BBS\"',4])"
   ]
  },
  {
   "cell_type": "markdown",
   "metadata": {},
   "source": [
    "Are you able to comment the previous plot?"
   ]
  },
  {
   "cell_type": "code",
   "execution_count": null,
   "metadata": {
    "collapsed": true
   },
   "outputs": [],
   "source": []
  },
  {
   "cell_type": "markdown",
   "metadata": {},
   "source": [
    "### a more \"pythonic\" solution"
   ]
  },
  {
   "cell_type": "code",
   "execution_count": 65,
   "metadata": {
    "collapsed": true
   },
   "outputs": [],
   "source": [
    "network=set(tt[:,1])"
   ]
  },
  {
   "cell_type": "code",
   "execution_count": 66,
   "metadata": {
    "collapsed": false
   },
   "outputs": [
    {
     "data": {
      "text/plain": [
       "<matplotlib.text.Text at 0x7f276091afd0>"
      ]
     },
     "execution_count": 66,
     "metadata": {},
     "output_type": "execute_result"
    },
    {
     "data": {
      "image/png": "[encoded data removed]",
      "text/plain": [
       "<matplotlib.figure.Figure at 0x7f27607da390>"
      ]
     },
     "metadata": {},
     "output_type": "display_data"
    }
   ],
   "source": [
    "boxplot([list(tt[tt[:,1]==netw,4]) for netw in network],labels=network)\n",
    "ylabel('rating')"
   ]
  },
  {
   "cell_type": "markdown",
   "metadata": {},
   "source": [
    "### Exercise\n",
    "Use the boxplot to show ratings for the following two groups: \n",
    "* movies with at least a stars \n",
    "* movies without stars"
   ]
  },
  {
   "cell_type": "code",
   "execution_count": 135,
   "metadata": {
    "collapsed": false
   },
   "outputs": [
    {
     "ename": "ValueError",
     "evalue": "Dimensions of labels and X must be compatible",
     "output_type": "error",
     "traceback": [
      "\u001b[1;31m---------------------------------------------------------------------------\u001b[0m",
      "\u001b[1;31mValueError\u001b[0m                                Traceback (most recent call last)",
      "\u001b[1;32m<ipython-input-135-4356e4284223>\u001b[0m in \u001b[0;36m<module>\u001b[1;34m()\u001b[0m\n\u001b[1;32m----> 1\u001b[1;33m \u001b[0mboxplot\u001b[0m\u001b[1;33m(\u001b[0m\u001b[0mlist\u001b[0m\u001b[1;33m(\u001b[0m\u001b[0mtt\u001b[0m\u001b[1;33m[\u001b[0m\u001b[0mtt\u001b[0m\u001b[1;33m[\u001b[0m\u001b[1;33m:\u001b[0m\u001b[1;33m,\u001b[0m\u001b[1;36m6\u001b[0m\u001b[1;33m]\u001b[0m\u001b[1;33m>\u001b[0m\u001b[1;36m0\u001b[0m\u001b[1;33m,\u001b[0m\u001b[1;36m4\u001b[0m\u001b[1;33m]\u001b[0m\u001b[1;33m)\u001b[0m\u001b[1;33m,\u001b[0m\u001b[0mlist\u001b[0m\u001b[1;33m(\u001b[0m\u001b[0mtt\u001b[0m\u001b[1;33m[\u001b[0m\u001b[0mtt\u001b[0m\u001b[1;33m[\u001b[0m\u001b[1;33m:\u001b[0m\u001b[1;33m,\u001b[0m\u001b[1;36m6\u001b[0m\u001b[1;33m]\u001b[0m\u001b[1;33m==\u001b[0m\u001b[1;36m0\u001b[0m\u001b[1;33m,\u001b[0m\u001b[1;36m4\u001b[0m\u001b[1;33m]\u001b[0m\u001b[1;33m)\u001b[0m\u001b[1;33m,\u001b[0m\u001b[0mlabels\u001b[0m\u001b[1;33m=\u001b[0m\u001b[1;33m[\u001b[0m\u001b[1;34m'stars'\u001b[0m\u001b[1;33m,\u001b[0m\u001b[1;34m'nostars'\u001b[0m\u001b[1;33m]\u001b[0m\u001b[1;33m)\u001b[0m\u001b[1;33m\u001b[0m\u001b[0m\n\u001b[0m\u001b[0;32m      2\u001b[0m \u001b[0mylabel\u001b[0m\u001b[1;33m(\u001b[0m\u001b[1;34m'rating'\u001b[0m\u001b[1;33m)\u001b[0m\u001b[1;33m\u001b[0m\u001b[0m\n",
      "\u001b[1;32m/home/bigdive/anaconda2/lib/python2.7/site-packages/matplotlib/pyplot.pyc\u001b[0m in \u001b[0;36mboxplot\u001b[1;34m(x, notch, sym, vert, whis, positions, widths, patch_artist, bootstrap, usermedians, conf_intervals, meanline, showmeans, showcaps, showbox, showfliers, boxprops, labels, flierprops, medianprops, meanprops, capprops, whiskerprops, manage_xticks, hold, data)\u001b[0m\n\u001b[0;32m   2708\u001b[0m                          \u001b[0mmeanprops\u001b[0m\u001b[1;33m=\u001b[0m\u001b[0mmeanprops\u001b[0m\u001b[1;33m,\u001b[0m \u001b[0mcapprops\u001b[0m\u001b[1;33m=\u001b[0m\u001b[0mcapprops\u001b[0m\u001b[1;33m,\u001b[0m\u001b[1;33m\u001b[0m\u001b[0m\n\u001b[0;32m   2709\u001b[0m                          \u001b[0mwhiskerprops\u001b[0m\u001b[1;33m=\u001b[0m\u001b[0mwhiskerprops\u001b[0m\u001b[1;33m,\u001b[0m\u001b[1;33m\u001b[0m\u001b[0m\n\u001b[1;32m-> 2710\u001b[1;33m                          manage_xticks=manage_xticks, data=data)\n\u001b[0m\u001b[0;32m   2711\u001b[0m     \u001b[1;32mfinally\u001b[0m\u001b[1;33m:\u001b[0m\u001b[1;33m\u001b[0m\u001b[0m\n\u001b[0;32m   2712\u001b[0m         \u001b[0max\u001b[0m\u001b[1;33m.\u001b[0m\u001b[0mhold\u001b[0m\u001b[1;33m(\u001b[0m\u001b[0mwashold\u001b[0m\u001b[1;33m)\u001b[0m\u001b[1;33m\u001b[0m\u001b[0m\n",
      "\u001b[1;32m/home/bigdive/anaconda2/lib/python2.7/site-packages/matplotlib/__init__.pyc\u001b[0m in \u001b[0;36minner\u001b[1;34m(ax, *args, **kwargs)\u001b[0m\n\u001b[0;32m   1810\u001b[0m                     warnings.warn(msg % (label_namer, func.__name__),\n\u001b[0;32m   1811\u001b[0m                                   RuntimeWarning, stacklevel=2)\n\u001b[1;32m-> 1812\u001b[1;33m             \u001b[1;32mreturn\u001b[0m \u001b[0mfunc\u001b[0m\u001b[1;33m(\u001b[0m\u001b[0max\u001b[0m\u001b[1;33m,\u001b[0m \u001b[1;33m*\u001b[0m\u001b[0margs\u001b[0m\u001b[1;33m,\u001b[0m \u001b[1;33m**\u001b[0m\u001b[0mkwargs\u001b[0m\u001b[1;33m)\u001b[0m\u001b[1;33m\u001b[0m\u001b[0m\n\u001b[0m\u001b[0;32m   1813\u001b[0m         \u001b[0mpre_doc\u001b[0m \u001b[1;33m=\u001b[0m \u001b[0minner\u001b[0m\u001b[1;33m.\u001b[0m\u001b[0m__doc__\u001b[0m\u001b[1;33m\u001b[0m\u001b[0m\n\u001b[0;32m   1814\u001b[0m         \u001b[1;32mif\u001b[0m \u001b[0mpre_doc\u001b[0m \u001b[1;32mis\u001b[0m \u001b[0mNone\u001b[0m\u001b[1;33m:\u001b[0m\u001b[1;33m\u001b[0m\u001b[0m\n",
      "\u001b[1;32m/home/bigdive/anaconda2/lib/python2.7/site-packages/matplotlib/axes/_axes.pyc\u001b[0m in \u001b[0;36mboxplot\u001b[1;34m(self, x, notch, sym, vert, whis, positions, widths, patch_artist, bootstrap, usermedians, conf_intervals, meanline, showmeans, showcaps, showbox, showfliers, boxprops, labels, flierprops, medianprops, meanprops, capprops, whiskerprops, manage_xticks)\u001b[0m\n\u001b[0;32m   3210\u001b[0m             \u001b[0mbootstrap\u001b[0m \u001b[1;33m=\u001b[0m \u001b[0mrcParams\u001b[0m\u001b[1;33m[\u001b[0m\u001b[1;34m'boxplot.bootstrap'\u001b[0m\u001b[1;33m]\u001b[0m\u001b[1;33m\u001b[0m\u001b[0m\n\u001b[0;32m   3211\u001b[0m         bxpstats = cbook.boxplot_stats(x, whis=whis, bootstrap=bootstrap,\n\u001b[1;32m-> 3212\u001b[1;33m                                        labels=labels)\n\u001b[0m\u001b[0;32m   3213\u001b[0m         \u001b[1;32mif\u001b[0m \u001b[0mnotch\u001b[0m \u001b[1;32mis\u001b[0m \u001b[0mNone\u001b[0m\u001b[1;33m:\u001b[0m\u001b[1;33m\u001b[0m\u001b[0m\n\u001b[0;32m   3214\u001b[0m             \u001b[0mnotch\u001b[0m \u001b[1;33m=\u001b[0m \u001b[0mrcParams\u001b[0m\u001b[1;33m[\u001b[0m\u001b[1;34m'boxplot.notch'\u001b[0m\u001b[1;33m]\u001b[0m\u001b[1;33m\u001b[0m\u001b[0m\n",
      "\u001b[1;32m/home/bigdive/anaconda2/lib/python2.7/site-packages/matplotlib/cbook.pyc\u001b[0m in \u001b[0;36mboxplot_stats\u001b[1;34m(X, whis, bootstrap, labels)\u001b[0m\n\u001b[0;32m   1984\u001b[0m         \u001b[0mlabels\u001b[0m \u001b[1;33m=\u001b[0m \u001b[0mrepeat\u001b[0m\u001b[1;33m(\u001b[0m\u001b[0mNone\u001b[0m\u001b[1;33m)\u001b[0m\u001b[1;33m\u001b[0m\u001b[0m\n\u001b[0;32m   1985\u001b[0m     \u001b[1;32melif\u001b[0m \u001b[0mlen\u001b[0m\u001b[1;33m(\u001b[0m\u001b[0mlabels\u001b[0m\u001b[1;33m)\u001b[0m \u001b[1;33m!=\u001b[0m \u001b[0mncols\u001b[0m\u001b[1;33m:\u001b[0m\u001b[1;33m\u001b[0m\u001b[0m\n\u001b[1;32m-> 1986\u001b[1;33m         \u001b[1;32mraise\u001b[0m \u001b[0mValueError\u001b[0m\u001b[1;33m(\u001b[0m\u001b[1;34m\"Dimensions of labels and X must be compatible\"\u001b[0m\u001b[1;33m)\u001b[0m\u001b[1;33m\u001b[0m\u001b[0m\n\u001b[0m\u001b[0;32m   1987\u001b[0m \u001b[1;33m\u001b[0m\u001b[0m\n\u001b[0;32m   1988\u001b[0m     \u001b[0minput_whis\u001b[0m \u001b[1;33m=\u001b[0m \u001b[0mwhis\u001b[0m\u001b[1;33m\u001b[0m\u001b[0m\n",
      "\u001b[1;31mValueError\u001b[0m: Dimensions of labels and X must be compatible"
     ]
    },
    {
     "data": {
      "image/png": "[encoded data removed]",
      "text/plain": [
       "<matplotlib.figure.Figure at 0x7f2751ed5690>"
      ]
     },
     "metadata": {},
     "output_type": "display_data"
    }
   ],
   "source": [
    "boxplot(list(tt[tt[:,6]>0,4]),list(tt[tt[:,6]==0,4]),labels=['stars','nostars'])\n",
    "ylabel('rating')"
   ]
  },
  {
   "cell_type": "markdown",
   "metadata": {},
   "source": [
    "Use the boxplot to show ratings for the following two groups: \n",
    "* fictional-movies \n",
    "* fact-movies"
   ]
  },
  {
   "cell_type": "code",
   "execution_count": null,
   "metadata": {
    "collapsed": true
   },
   "outputs": [],
   "source": []
  },
  {
   "cell_type": "markdown",
   "metadata": {},
   "source": [
    "# Correlation\n",
    "With a plot try explore if there is any association between the variable <i>rating</i> and the variable <i>previous rating</i>"
   ]
  },
  {
   "cell_type": "code",
   "execution_count": 84,
   "metadata": {
    "collapsed": false
   },
   "outputs": [
    {
     "data": {
      "text/plain": [
       "<matplotlib.text.Text at 0x7f2760ca89d0>"
      ]
     },
     "execution_count": 84,
     "metadata": {},
     "output_type": "execute_result"
    },
    {
     "data": {
      "image/png": "[encoded data removed]",
      "text/plain": [
       "<matplotlib.figure.Figure at 0x7f27606f1190>"
      ]
     },
     "metadata": {},
     "output_type": "display_data"
    }
   ],
   "source": [
    "plot(tt[:,4],tt[:,-2],'o')\n",
    "xlabel('Rating')\n",
    "ylabel('Previous rating')"
   ]
  },
  {
   "cell_type": "markdown",
   "metadata": {},
   "source": [
    "### [Pearson](https://docs.scipy.org/doc/scipy/reference/generated/scipy.stats.pearsonr.html#scipy.stats.pearsonr) Correlation"
   ]
  },
  {
   "cell_type": "code",
   "execution_count": 85,
   "metadata": {
    "collapsed": false
   },
   "outputs": [],
   "source": [
    "from scipy.stats import pearsonr"
   ]
  },
  {
   "cell_type": "code",
   "execution_count": 90,
   "metadata": {
    "collapsed": false
   },
   "outputs": [
    {
     "data": {
      "text/plain": [
       "(0.48410767230660262, 1.7646845258591581e-06)"
      ]
     },
     "execution_count": 90,
     "metadata": {},
     "output_type": "execute_result"
    }
   ],
   "source": [
    "pearsonr(tt[:,4],tt[:,7]) #il coefficeinte di pearson (correlazione positiva e' il primo il secondo elemento e' il p value (nel caso e' basso)"
   ]
  },
  {
   "cell_type": "markdown",
   "metadata": {},
   "source": [
    "Are you able to comment the previous result? Hint: <i>?pearsonr</i> or <i>help(pearsonr)</i>"
   ]
  },
  {
   "cell_type": "code",
   "execution_count": null,
   "metadata": {
    "collapsed": true
   },
   "outputs": [],
   "source": []
  },
  {
   "cell_type": "markdown",
   "metadata": {},
   "source": [
    "### [Spearman](https://docs.scipy.org/doc/scipy/reference/generated/scipy.stats.spearmanr.html) Correlation\n"
   ]
  },
  {
   "cell_type": "code",
   "execution_count": 88,
   "metadata": {
    "collapsed": false
   },
   "outputs": [],
   "source": [
    "from scipy.stats import spearmanr"
   ]
  },
  {
   "cell_type": "code",
   "execution_count": 89,
   "metadata": {
    "collapsed": false
   },
   "outputs": [
    {
     "data": {
      "text/plain": [
       "SpearmanrResult(correlation=0.52870439323700247, pvalue=1.1907586936796334e-07)"
      ]
     },
     "execution_count": 89,
     "metadata": {},
     "output_type": "execute_result"
    }
   ],
   "source": [
    "spearmanr(tt[:,4],tt[:,7])"
   ]
  },
  {
   "cell_type": "code",
   "execution_count": null,
   "metadata": {
    "collapsed": true
   },
   "outputs": [],
   "source": []
  },
  {
   "cell_type": "markdown",
   "metadata": {},
   "source": [
    "### Exercise\n",
    "Try to answer the following question: What is the correlation between the rating a movie received on a network and the mean of the rating the two competing networks received in the same time. (Use all the tool that you want)"
   ]
  },
  {
   "cell_type": "code",
   "execution_count": 91,
   "metadata": {
    "collapsed": false
   },
   "outputs": [
    {
     "data": {
      "text/plain": [
       "['\"Observations \"',\n",
       " '\"Network \"',\n",
       " '\"Month \"',\n",
       " '\"Day \"',\n",
       " '\"Rating\"',\n",
       " '\"Fact \"',\n",
       " '\"Stars \"',\n",
       " '\"Previous rating  \"',\n",
       " '\"Competition \"']"
      ]
     },
     "execution_count": 91,
     "metadata": {},
     "output_type": "execute_result"
    }
   ],
   "source": [
    "col_name"
   ]
  },
  {
   "cell_type": "code",
   "execution_count": 98,
   "metadata": {
    "collapsed": false
   },
   "outputs": [
    {
     "data": {
      "text/plain": [
       "<matplotlib.text.Text at 0x7f2759e44a50>"
      ]
     },
     "execution_count": 98,
     "metadata": {},
     "output_type": "execute_result"
    },
    {
     "data": {
      "image/png": "[encoded data removed]",
      "text/plain": [
       "<matplotlib.figure.Figure at 0x7f2759df4990>"
      ]
     },
     "metadata": {},
     "output_type": "display_data"
    }
   ],
   "source": [
    "plot(tt[:,4],tt[:,-1],'o')\n",
    "xlabel('Rating')\n",
    "ylabel('Previous Rating')"
   ]
  },
  {
   "cell_type": "code",
   "execution_count": 97,
   "metadata": {
    "collapsed": false
   },
   "outputs": [
    {
     "data": {
      "text/plain": [
       "(-0.20548568615265045, 0.054780369888899449)"
      ]
     },
     "execution_count": 97,
     "metadata": {},
     "output_type": "execute_result"
    }
   ],
   "source": [
    "pearsonr(tt[:,4],tt[:,-1])"
   ]
  },
  {
   "cell_type": "code",
   "execution_count": 99,
   "metadata": {
    "collapsed": false
   },
   "outputs": [
    {
     "data": {
      "text/plain": [
       "SpearmanrResult(correlation=-0.23229751312182101, pvalue=0.029415613453713386)"
      ]
     },
     "execution_count": 99,
     "metadata": {},
     "output_type": "execute_result"
    }
   ],
   "source": [
    "spearmanr(tt[:,4],tt[:,-1])"
   ]
  },
  {
   "cell_type": "markdown",
   "metadata": {},
   "source": [
    "### Exercise"
   ]
  },
  {
   "cell_type": "code",
   "execution_count": 100,
   "metadata": {
    "collapsed": true
   },
   "outputs": [],
   "source": [
    "ya=random.rand(237)*50\n",
    "yb=exp(2.5-ya+random.randn(237)*10)"
   ]
  },
  {
   "cell_type": "markdown",
   "metadata": {},
   "source": [
    "we define two arrays of the same length: **ya** and **yb**. Plot one vs. the other. Do you think they are correlated?"
   ]
  },
  {
   "cell_type": "code",
   "execution_count": 105,
   "metadata": {
    "collapsed": false
   },
   "outputs": [
    {
     "data": {
      "text/plain": [
       "[<matplotlib.lines.Line2D at 0x7f27606cb050>]"
      ]
     },
     "execution_count": 105,
     "metadata": {},
     "output_type": "execute_result"
    },
    {
     "data": {
      "image/png": "[encoded data removed]",
      "text/plain": [
       "<matplotlib.figure.Figure at 0x7f2760725b50>"
      ]
     },
     "metadata": {},
     "output_type": "display_data"
    }
   ],
   "source": [
    "plot(ya,yb,'o')"
   ]
  },
  {
   "cell_type": "code",
   "execution_count": 106,
   "metadata": {
    "collapsed": false,
    "scrolled": true
   },
   "outputs": [
    {
     "data": {
      "text/plain": [
       "[<matplotlib.lines.Line2D at 0x7f2760cb62d0>]"
      ]
     },
     "execution_count": 106,
     "metadata": {},
     "output_type": "execute_result"
    },
    {
     "data": {
      "image/png": "[encoded data removed]",
      "text/plain": [
       "<matplotlib.figure.Figure at 0x7f2760665c90>"
      ]
     },
     "metadata": {},
     "output_type": "display_data"
    }
   ],
   "source": [
    "plot(ya,log(yb),'o') ##per vedere qualcosa"
   ]
  },
  {
   "cell_type": "code",
   "execution_count": 109,
   "metadata": {
    "collapsed": false
   },
   "outputs": [
    {
     "data": {
      "text/plain": [
       "[<matplotlib.lines.Line2D at 0x7f2759a2c3d0>]"
      ]
     },
     "execution_count": 109,
     "metadata": {},
     "output_type": "execute_result"
    },
    {
     "data": {
      "image/png": "[encoded data removed]",
      "text/plain": [
       "<matplotlib.figure.Figure at 0x7f27606b7750>"
      ]
     },
     "metadata": {},
     "output_type": "display_data"
    }
   ],
   "source": [
    "semilogy(ya,yb,'o')"
   ]
  },
  {
   "cell_type": "markdown",
   "metadata": {},
   "source": [
    "Try to quantify the correlation:"
   ]
  },
  {
   "cell_type": "code",
   "execution_count": 102,
   "metadata": {
    "collapsed": false
   },
   "outputs": [
    {
     "data": {
      "text/plain": [
       "(-0.0827435290741102, 0.20434719513337313)"
      ]
     },
     "execution_count": 102,
     "metadata": {},
     "output_type": "execute_result"
    }
   ],
   "source": [
    "pearsonr(ya,yb)"
   ]
  },
  {
   "cell_type": "code",
   "execution_count": 103,
   "metadata": {
    "collapsed": false
   },
   "outputs": [
    {
     "data": {
      "text/plain": [
       "SpearmanrResult(correlation=-0.85617469472234287, pvalue=2.4608194849512098e-69)"
      ]
     },
     "execution_count": 103,
     "metadata": {},
     "output_type": "execute_result"
    }
   ],
   "source": [
    "spearmanr(ya,yb)"
   ]
  },
  {
   "cell_type": "code",
   "execution_count": null,
   "metadata": {
    "collapsed": true
   },
   "outputs": [],
   "source": []
  },
  {
   "cell_type": "markdown",
   "metadata": {},
   "source": [
    "### Exercise"
   ]
  },
  {
   "cell_type": "code",
   "execution_count": null,
   "metadata": {
    "collapsed": false
   },
   "outputs": [],
   "source": [
    "yc1=random.rand(123)*2\n",
    "yc2=random.rand(17)*2\n",
    "yd=hstack([11.+yc1+random.randn(123)*1.5,11.+yc2+random.randn(17)*50.])\n",
    "yc=hstack([yc1,yc2])"
   ]
  },
  {
   "cell_type": "markdown",
   "metadata": {},
   "source": [
    "we define two arrays of the same length: **yc** and **yd**. Are they correlated?"
   ]
  },
  {
   "cell_type": "code",
   "execution_count": null,
   "metadata": {
    "collapsed": true
   },
   "outputs": [],
   "source": []
  },
  {
   "cell_type": "code",
   "execution_count": null,
   "metadata": {
    "collapsed": true
   },
   "outputs": [],
   "source": []
  },
  {
   "cell_type": "markdown",
   "metadata": {},
   "source": [
    "# Comparing two samples: KS\n",
    "### Exercise\n",
    "Use the Kolmogorov-Smirnov test to say if movies with at least a star receive different ratings from moviews without stars."
   ]
  },
  {
   "cell_type": "code",
   "execution_count": 111,
   "metadata": {
    "collapsed": false
   },
   "outputs": [],
   "source": [
    "from scipy.stats import ks_2samp"
   ]
  },
  {
   "cell_type": "code",
   "execution_count": 114,
   "metadata": {
    "collapsed": false
   },
   "outputs": [
    {
     "data": {
      "text/plain": [
       "Ks_2sampResult(statistic=0.20261437908496732, pvalue=0.32178662567692801)"
      ]
     },
     "execution_count": 114,
     "metadata": {},
     "output_type": "execute_result"
    }
   ],
   "source": [
    "ks_2samp(tt[tt[:,6]==0,4],tt[tt[:,6]>0,4]) ##risultato non possiamo rifiutare \n",
    "##l'ipotesi nulla quindi non cambia nulla avere o non avere una star"
   ]
  },
  {
   "cell_type": "markdown",
   "metadata": {},
   "source": [
    "Let's say that for some reasons we do not believe the result of this test (e.g. data do not meet the assumptions). Therefore, you would like to use a boostrap method to evaluate the KS statistic previously evaluated (i.e. the statistic that you get is it a matter of chance or not?)"
   ]
  },
  {
   "cell_type": "code",
   "execution_count": 115,
   "metadata": {
    "collapsed": true
   },
   "outputs": [],
   "source": [
    "rating=tt[:,4].copy()\n",
    "star=tt[:,6].copy()"
   ]
  },
  {
   "cell_type": "code",
   "execution_count": 116,
   "metadata": {
    "collapsed": true
   },
   "outputs": [],
   "source": [
    "from scipy.stats import ks_2samp"
   ]
  },
  {
   "cell_type": "code",
   "execution_count": 117,
   "metadata": {
    "collapsed": false
   },
   "outputs": [],
   "source": [
    "res=[]\n",
    "for el in range(1000):\n",
    "    shuffle(star)\n",
    "    res.append(ks_2samp(rating[star<1],rating[star>=1])[0])"
   ]
  },
  {
   "cell_type": "code",
   "execution_count": 118,
   "metadata": {
    "collapsed": false
   },
   "outputs": [
    {
     "data": {
      "text/plain": [
       "(array([  18.,   42.,  107.,  139.,  124.,  166.,  122.,   74.,   63.,\n",
       "          56.,   32.,   14.,   17.,    9.,    6.,    5.,    2.,    1.,\n",
       "           2.,    1.]),\n",
       " array([ 0.06753813,  0.08567538,  0.10381264,  0.12194989,  0.14008715,\n",
       "         0.1582244 ,  0.17636166,  0.19449891,  0.21263617,  0.23077342,\n",
       "         0.24891068,  0.26704793,  0.28518519,  0.30332244,  0.32145969,\n",
       "         0.33959695,  0.3577342 ,  0.37587146,  0.39400871,  0.41214597,\n",
       "         0.43028322]),\n",
       " <a list of 20 Patch objects>)"
      ]
     },
     "execution_count": 118,
     "metadata": {},
     "output_type": "execute_result"
    },
    {
     "data": {
      "image/png": "[encoded data removed]",
      "text/plain": [
       "<matplotlib.figure.Figure at 0x7f2759e94790>"
      ]
     },
     "metadata": {},
     "output_type": "display_data"
    }
   ],
   "source": [
    "hist(res,20)"
   ]
  },
  {
   "cell_type": "code",
   "execution_count": 119,
   "metadata": {
    "collapsed": false
   },
   "outputs": [
    {
     "name": "stdout",
     "output_type": "stream",
     "text": [
      "more than 258 reshuffled samples (over 1000) have a KS statistic larger than 0.202614\n"
     ]
    }
   ],
   "source": [
    "print 'more than %g reshuffled samples (over %g) have a KS statistic larger than %g'%(sum(res>ks_2samp(tt[tt[:,6]<1,4],tt[tt[:,6]>=1,4])[0]),len(res),ks_2samp(tt[tt[:,6]<1,4],tt[tt[:,6]>=1,4])[0])"
   ]
  },
  {
   "cell_type": "markdown",
   "metadata": {},
   "source": [
    "### Exercise\n",
    "Are the ratings for movies based on true events different from the fictional ones?"
   ]
  },
  {
   "cell_type": "code",
   "execution_count": 127,
   "metadata": {
    "collapsed": false
   },
   "outputs": [
    {
     "data": {
      "text/plain": [
       "Ks_2sampResult(statistic=0.3611111111111111, pvalue=0.0054819316875556875)"
      ]
     },
     "execution_count": 127,
     "metadata": {},
     "output_type": "execute_result"
    }
   ],
   "source": [
    "ks_2samp(tt[tt[:,-4]==0,4],tt[tt[:,-4]==1,4])"
   ]
  },
  {
   "cell_type": "markdown",
   "metadata": {},
   "source": [
    "# Linear Regressions\n",
    "A useful library to perform **linear regressions** and other statistical procedures is [StatsModels](http://statsmodels.sourceforge.net/). To import it:"
   ]
  },
  {
   "cell_type": "code",
   "execution_count": 128,
   "metadata": {
    "collapsed": true
   },
   "outputs": [],
   "source": [
    "import statsmodels.api as sm"
   ]
  },
  {
   "cell_type": "markdown",
   "metadata": {},
   "source": [
    "## [Ordinary Least Squares](http://statsmodels.sourceforge.net/devel/generated/statsmodels.regression.linear_model.OLS.html)\n",
    "Let's try to evaluate the relationship between the movies **rating** and the following two explanatory variables:\n",
    "* **previous rating**, rating for program immediately preceding movie on same network\n",
    "* **competition**, average of ratings received by the two competing networks during the movie's broadcast"
   ]
  },
  {
   "cell_type": "code",
   "execution_count": 129,
   "metadata": {
    "collapsed": false
   },
   "outputs": [],
   "source": [
    "res=sm.OLS(tt[:,4].astype(float),tt[:,[-2,-1]].astype(float)).fit()"
   ]
  },
  {
   "cell_type": "code",
   "execution_count": 132,
   "metadata": {
    "collapsed": false,
    "scrolled": true
   },
   "outputs": [
    {
     "name": "stdout",
     "output_type": "stream",
     "text": [
      "                            OLS Regression Results                            \n",
      "==============================================================================\n",
      "Dep. Variable:                      y   R-squared:                       0.968\n",
      "Model:                            OLS   Adj. R-squared:                  0.967\n",
      "Method:                 Least Squares   F-statistic:                     1285.\n",
      "Date:                Thu, 27 Oct 2016   Prob (F-statistic):           8.73e-65\n",
      "Time:                        16:16:45   Log-Likelihood:                -206.48\n",
      "No. Observations:                  88   AIC:                             417.0\n",
      "Df Residuals:                      86   BIC:                             421.9\n",
      "Df Model:                           2                                         \n",
      "Covariance Type:            nonrobust                                         \n",
      "==============================================================================\n",
      "                 coef    std err          t      P>|t|      [95.0% Conf. Int.]\n",
      "------------------------------------------------------------------------------\n",
      "x1             0.6295      0.064      9.797      0.000         0.502     0.757\n",
      "x2             0.3557      0.064      5.573      0.000         0.229     0.483\n",
      "==============================================================================\n",
      "Omnibus:                        0.006   Durbin-Watson:                   2.034\n",
      "Prob(Omnibus):                  0.997   Jarque-Bera (JB):                0.056\n",
      "Skew:                           0.007   Prob(JB):                        0.972\n",
      "Kurtosis:                       2.877   Cond. No.                         6.51\n",
      "==============================================================================\n",
      "\n",
      "Warnings:\n",
      "[1] Standard Errors assume that the covariance matrix of the errors is correctly specified.\n"
     ]
    }
   ],
   "source": [
    "print res.summary() #piu' l'R2 e' alto meglio e'. il valore e' tra -1 e 1. Qui in questo caso\n",
    "# e' vicino a 1 quindi il modello e' ok."
   ]
  },
  {
   "cell_type": "markdown",
   "metadata": {},
   "source": [
    "rating = 0,6296 * previous_rating+0,3557*competion \n",
    "questo e' il modello lineare ed il p value mi dice che dovrebbe essere significativo"
   ]
  },
  {
   "cell_type": "markdown",
   "metadata": {},
   "source": [
    "#### exercise\n",
    "are you able to comment the results? Are they good or not?"
   ]
  },
  {
   "cell_type": "code",
   "execution_count": null,
   "metadata": {
    "collapsed": true
   },
   "outputs": [],
   "source": []
  },
  {
   "cell_type": "markdown",
   "metadata": {},
   "source": [
    "A useful visualization to evaluate the performance of the model is the following"
   ]
  },
  {
   "cell_type": "code",
   "execution_count": 137,
   "metadata": {
    "collapsed": false
   },
   "outputs": [
    {
     "data": {
      "text/plain": [
       "(5, 25)"
      ]
     },
     "execution_count": 137,
     "metadata": {},
     "output_type": "execute_result"
    },
    {
     "data": {
      "image/png": "[encoded data removed]",
      "text/plain": [
       "<matplotlib.figure.Figure at 0x7f2751a1f710>"
      ]
     },
     "metadata": {},
     "output_type": "display_data"
    }
   ],
   "source": [
    "plot(res.fittedvalues,tt[:,4],'o')\n",
    "plot([0,30],[0,30],'r')\n",
    "ylabel('real values')\n",
    "xlabel('predict values')\n",
    "xlim(5,25)\n",
    "ylim(5,25)"
   ]
  },
  {
   "cell_type": "markdown",
   "metadata": {},
   "source": [
    "### Adding the intercept\n",
    "Previous model that we tested was **rating ~ previous rating + competition**. We would like to add an intercept to our model. To do so in statsmodel we have to add a list of ones to the explenatory variables with the command **add_constant**"
   ]
  },
  {
   "cell_type": "code",
   "execution_count": 138,
   "metadata": {
    "collapsed": true
   },
   "outputs": [],
   "source": [
    "from statsmodels.tools import add_constant"
   ]
  },
  {
   "cell_type": "code",
   "execution_count": 139,
   "metadata": {
    "collapsed": false,
    "scrolled": true
   },
   "outputs": [],
   "source": [
    "res=sm.OLS(tt[:,4].astype(float),add_constant(tt[:,[-2,-1]].astype(float))).fit()"
   ]
  },
  {
   "cell_type": "code",
   "execution_count": 140,
   "metadata": {
    "collapsed": false,
    "scrolled": true
   },
   "outputs": [
    {
     "name": "stdout",
     "output_type": "stream",
     "text": [
      "                            OLS Regression Results                            \n",
      "==============================================================================\n",
      "Dep. Variable:                      y   R-squared:                       0.246\n",
      "Model:                            OLS   Adj. R-squared:                  0.229\n",
      "Method:                 Least Squares   F-statistic:                     13.90\n",
      "Date:                Thu, 27 Oct 2016   Prob (F-statistic):           6.00e-06\n",
      "Time:                        16:25:53   Log-Likelihood:                -194.05\n",
      "No. Observations:                  88   AIC:                             394.1\n",
      "Df Residuals:                      85   BIC:                             401.5\n",
      "Df Model:                           2                                         \n",
      "Covariance Type:            nonrobust                                         \n",
      "==============================================================================\n",
      "                 coef    std err          t      P>|t|      [95.0% Conf. Int.]\n",
      "------------------------------------------------------------------------------\n",
      "const         10.5757      2.008      5.268      0.000         6.584    14.568\n",
      "x1             0.3628      0.076      4.799      0.000         0.212     0.513\n",
      "x2            -0.1247      0.107     -1.167      0.247        -0.337     0.088\n",
      "==============================================================================\n",
      "Omnibus:                        0.346   Durbin-Watson:                   1.828\n",
      "Prob(Omnibus):                  0.841   Jarque-Bera (JB):                0.494\n",
      "Skew:                           0.124   Prob(JB):                        0.781\n",
      "Kurtosis:                       2.729   Cond. No.                         168.\n",
      "==============================================================================\n",
      "\n",
      "Warnings:\n",
      "[1] Standard Errors assume that the covariance matrix of the errors is correctly specified.\n"
     ]
    }
   ],
   "source": [
    "print res.summary() #piu' basso e' l'aic e piu' il modello si avvicina"
   ]
  },
  {
   "cell_type": "markdown",
   "metadata": {},
   "source": [
    "#### Exercise\n",
    "Is this model better than the previous? How could you say that?"
   ]
  },
  {
   "cell_type": "code",
   "execution_count": null,
   "metadata": {
    "collapsed": true
   },
   "outputs": [],
   "source": []
  },
  {
   "cell_type": "markdown",
   "metadata": {},
   "source": [
    "#### Exercise\n",
    "Are the variables used in this model all useful? What variable will you choose to drop from the model? Fit that model and evaluate it."
   ]
  },
  {
   "cell_type": "code",
   "execution_count": null,
   "metadata": {
    "collapsed": true
   },
   "outputs": [],
   "source": []
  },
  {
   "cell_type": "markdown",
   "metadata": {},
   "source": [
    "#### Exercise\n",
    "With this model plot the real data and the fitted linear model. (Remember, there are several ways to do. The one that use some of the statsmodel features will give in next line)."
   ]
  },
  {
   "cell_type": "code",
   "execution_count": null,
   "metadata": {
    "collapsed": true
   },
   "outputs": [],
   "source": []
  },
  {
   "cell_type": "code",
   "execution_count": 147,
   "metadata": {
    "collapsed": true
   },
   "outputs": [],
   "source": [
    "from statsmodels.sandbox.regression.predstd import wls_prediction_std"
   ]
  },
  {
   "cell_type": "code",
   "execution_count": 148,
   "metadata": {
    "collapsed": false
   },
   "outputs": [
    {
     "data": {
      "text/plain": [
       "(8, 20)"
      ]
     },
     "execution_count": 148,
     "metadata": {},
     "output_type": "execute_result"
    },
    {
     "data": {
      "image/png": "[encoded data removed]",
      "text/plain": [
       "<matplotlib.figure.Figure at 0x7f275192f5d0>"
      ]
     },
     "metadata": {},
     "output_type": "display_data"
    }
   ],
   "source": [
    "prstd, iv_l, iv_u = wls_prediction_std(res)\n",
    "plot(tt[:,-2], tt[:,4], 'bo', label=\"real data\")\n",
    "plot(tt[:,-2], res.fittedvalues, 'r--', label=\"OLS\")\n",
    "plot(tt[:,-2], iv_l, 'r--')\n",
    "plot(tt[:,-2], iv_u, 'r--')\n",
    "xlim(0,30)\n",
    "ylim(8,20)"
   ]
  },
  {
   "cell_type": "markdown",
   "metadata": {},
   "source": [
    "#### Exercise\n",
    "Are you able to use all the variables in the dataset as predictors of the movie rating? Try it to use as many variables as you can."
   ]
  },
  {
   "cell_type": "code",
   "execution_count": 141,
   "metadata": {
    "collapsed": true
   },
   "outputs": [],
   "source": [
    "res = sm.OLS(tt[:,4].astype(float),add_constant(tt[:,[-2]].astype(float))).fit()"
   ]
  },
  {
   "cell_type": "markdown",
   "metadata": {},
   "source": [
    "Would you keep all of them?"
   ]
  },
  {
   "cell_type": "code",
   "execution_count": 142,
   "metadata": {
    "collapsed": false
   },
   "outputs": [
    {
     "name": "stdout",
     "output_type": "stream",
     "text": [
      "                            OLS Regression Results                            \n",
      "==============================================================================\n",
      "Dep. Variable:                      y   R-squared:                       0.234\n",
      "Model:                            OLS   Adj. R-squared:                  0.225\n",
      "Method:                 Least Squares   F-statistic:                     26.32\n",
      "Date:                Thu, 27 Oct 2016   Prob (F-statistic):           1.76e-06\n",
      "Time:                        16:32:31   Log-Likelihood:                -194.75\n",
      "No. Observations:                  88   AIC:                             393.5\n",
      "Df Residuals:                      86   BIC:                             398.4\n",
      "Df Model:                           1                                         \n",
      "Covariance Type:            nonrobust                                         \n",
      "==============================================================================\n",
      "                 coef    std err          t      P>|t|      [95.0% Conf. Int.]\n",
      "------------------------------------------------------------------------------\n",
      "const          8.5771      1.049      8.175      0.000         6.491    10.663\n",
      "x1             0.3806      0.074      5.131      0.000         0.233     0.528\n",
      "==============================================================================\n",
      "Omnibus:                        0.485   Durbin-Watson:                   1.891\n",
      "Prob(Omnibus):                  0.785   Jarque-Bera (JB):                0.640\n",
      "Skew:                           0.113   Prob(JB):                        0.726\n",
      "Kurtosis:                       2.649   Cond. No.                         62.5\n",
      "==============================================================================\n",
      "\n",
      "Warnings:\n",
      "[1] Standard Errors assume that the covariance matrix of the errors is correctly specified.\n"
     ]
    }
   ],
   "source": [
    "print res.summary()"
   ]
  },
  {
   "cell_type": "markdown",
   "metadata": {},
   "source": [
    "### Dummy variables\n",
    "Categorical variables could be not used in linear model. A workaround is to create a **dummy variables**. For instance, consider the second column of our dataset. It is filled by 'ABN', 'BBS', or 'CBC'. We could create a further column which values is one if the newtork is 'ABN' and zero otherwise. In this way we have a numerical variables that could be a useful predictor in our linear model."
   ]
  },
  {
   "cell_type": "code",
   "execution_count": 143,
   "metadata": {
    "collapsed": false
   },
   "outputs": [],
   "source": [
    "ABN=array([array([el=='\"ABN\"']) for el in tt[:,1]],float)"
   ]
  },
  {
   "cell_type": "code",
   "execution_count": 144,
   "metadata": {
    "collapsed": false
   },
   "outputs": [],
   "source": [
    "tt_dummy=append(tt,ABN,axis=1)"
   ]
  },
  {
   "cell_type": "code",
   "execution_count": 145,
   "metadata": {
    "collapsed": false
   },
   "outputs": [],
   "source": [
    "res=sm.OLS(tt_dummy[:,4].astype(float),add_constant(tt_dummy[:,[2,3,5,6,7,8,9]].astype(float))).fit()"
   ]
  },
  {
   "cell_type": "code",
   "execution_count": 146,
   "metadata": {
    "collapsed": false
   },
   "outputs": [
    {
     "name": "stdout",
     "output_type": "stream",
     "text": [
      "                            OLS Regression Results                            \n",
      "==============================================================================\n",
      "Dep. Variable:                      y   R-squared:                       0.370\n",
      "Model:                            OLS   Adj. R-squared:                  0.315\n",
      "Method:                 Least Squares   F-statistic:                     6.723\n",
      "Date:                Thu, 27 Oct 2016   Prob (F-statistic):           2.88e-06\n",
      "Time:                        16:34:44   Log-Likelihood:                -186.14\n",
      "No. Observations:                  88   AIC:                             388.3\n",
      "Df Residuals:                      80   BIC:                             408.1\n",
      "Df Model:                           7                                         \n",
      "Covariance Type:            nonrobust                                         \n",
      "==============================================================================\n",
      "                 coef    std err          t      P>|t|      [95.0% Conf. Int.]\n",
      "------------------------------------------------------------------------------\n",
      "const         10.2789      2.131      4.823      0.000         6.038    14.520\n",
      "x1             0.0183      0.058      0.316      0.753        -0.097     0.134\n",
      "x2            -0.0251      0.088     -0.286      0.776        -0.200     0.150\n",
      "x3             1.7998      0.484      3.721      0.000         0.837     2.762\n",
      "x4             0.9835      0.445      2.210      0.030         0.098     1.869\n",
      "x5             0.3481      0.095      3.653      0.000         0.158     0.538\n",
      "x6            -0.1686      0.121     -1.399      0.166        -0.408     0.071\n",
      "x7            -0.0545      0.678     -0.080      0.936        -1.403     1.294\n",
      "==============================================================================\n",
      "Omnibus:                        0.138   Durbin-Watson:                   2.096\n",
      "Prob(Omnibus):                  0.934   Jarque-Bera (JB):                0.275\n",
      "Skew:                          -0.080   Prob(JB):                        0.872\n",
      "Kurtosis:                       2.778   Cond. No.                         202.\n",
      "==============================================================================\n",
      "\n",
      "Warnings:\n",
      "[1] Standard Errors assume that the covariance matrix of the errors is correctly specified.\n"
     ]
    }
   ],
   "source": [
    "print res.summary()"
   ]
  },
  {
   "cell_type": "markdown",
   "metadata": {},
   "source": [
    "#### Exercise\n",
    "Create a new dummy variable for network BBS and refit previous model with this new variable"
   ]
  },
  {
   "cell_type": "code",
   "execution_count": null,
   "metadata": {
    "collapsed": true
   },
   "outputs": [],
   "source": []
  },
  {
   "cell_type": "markdown",
   "metadata": {},
   "source": [
    "#### Exercise\n",
    "Create the following new dummy variables and fit a model with all the predictors:\n",
    "* OCT if month==10\n",
    "* DEC if mont==12\n",
    "* APR-MAY if month==4 or month==5\n",
    "* MON if day==1\n",
    "* SUN if day==7"
   ]
  },
  {
   "cell_type": "code",
   "execution_count": null,
   "metadata": {
    "collapsed": true
   },
   "outputs": [],
   "source": []
  },
  {
   "cell_type": "markdown",
   "metadata": {},
   "source": [
    "#### Exercise\n",
    "Answer the following questions using the previous model: \n",
    "* you are considering to change the network programmation by replacing a show at 8pm with rating 17.5 with another with rating 20.  What would be the expected change in rating for the show at 9pm?\n",
    "* other scenario: what if ABN and BBS schedule different programs, each of which is expected to rate 2 rating points higher?"
   ]
  },
  {
   "cell_type": "code",
   "execution_count": null,
   "metadata": {
    "collapsed": true
   },
   "outputs": [],
   "source": []
  },
  {
   "cell_type": "code",
   "execution_count": null,
   "metadata": {
    "collapsed": true
   },
   "outputs": [],
   "source": []
  },
  {
   "cell_type": "code",
   "execution_count": null,
   "metadata": {
    "collapsed": true
   },
   "outputs": [],
   "source": []
  }
 ],
 "metadata": {
  "kernelspec": {
   "display_name": "Python [Root]",
   "language": "python",
   "name": "Python [Root]"
  },
  "language_info": {
   "codemirror_mode": {
    "name": "ipython",
    "version": 2
   },
   "file_extension": ".py",
   "mimetype": "text/x-python",
   "name": "python",
   "nbconvert_exporter": "python",
   "pygments_lexer": "ipython2",
   "version": "2.7.12"
  }
 },
 "nbformat": 4,
 "nbformat_minor": 0
}

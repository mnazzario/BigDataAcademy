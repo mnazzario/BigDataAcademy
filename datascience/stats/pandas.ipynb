{
 "cells": [
  {
   "cell_type": "markdown",
   "metadata": {},
   "source": [
    "<center>\n",
    "<img src=\"http://www.bigdive.eu/wp-content/uploads/2012/05/logoBIGDIVE-01.png\">\n",
    "</center>\n",
    "\n",
    "---\n",
    "\n",
    "# PANDAS\n",
    "(The initial version of this notebook was prepared by André Panisson for Big Dive 2016.)\n",
    "\n",
    "---"
   ]
  },
  {
   "cell_type": "code",
   "execution_count": 1,
   "metadata": {
    "collapsed": false
   },
   "outputs": [
    {
     "data": {
      "text/plain": [
       "4"
      ]
     },
     "execution_count": 1,
     "metadata": {},
     "output_type": "execute_result"
    }
   ],
   "source": [
    "2+2 #scrivere import antigravity"
   ]
  },
  {
   "cell_type": "code",
   "execution_count": 2,
   "metadata": {
    "collapsed": false
   },
   "outputs": [
    {
     "name": "stdout",
     "output_type": "stream",
     "text": [
      "Populating the interactive namespace from numpy and matplotlib\n"
     ]
    }
   ],
   "source": [
    "%pylab inline"
   ]
  },
  {
   "cell_type": "code",
   "execution_count": 3,
   "metadata": {
    "collapsed": true
   },
   "outputs": [],
   "source": [
    "import pandas as pd\n",
    "plt.rc('figure', figsize=(10, 6))"
   ]
  },
  {
   "cell_type": "markdown",
   "metadata": {},
   "source": [
    "Series\n",
    "======"
   ]
  },
  {
   "cell_type": "markdown",
   "metadata": {},
   "source": [
    "Series is a one-dimensional labeled array capable of holding any data type (integers, strings, floating point numbers, Python objects, etc.). The axis labels are collectively referred to as the index."
   ]
  },
  {
   "cell_type": "code",
   "execution_count": 4,
   "metadata": {
    "collapsed": false
   },
   "outputs": [
    {
     "data": {
      "text/plain": [
       "a   -0.700399\n",
       "b    1.035507\n",
       "c   -1.704818\n",
       "d   -0.089106\n",
       "e    0.565723\n",
       "dtype: float64"
      ]
     },
     "execution_count": 4,
     "metadata": {},
     "output_type": "execute_result"
    }
   ],
   "source": [
    "labels = ['a', 'b', 'c', 'd', 'e']\n",
    "s = pd.Series(randn(5), index=labels) #pd e' l'abbreviazione di pandas\n",
    "s"
   ]
  },
  {
   "cell_type": "code",
   "execution_count": 5,
   "metadata": {
    "collapsed": false
   },
   "outputs": [
    {
     "data": {
      "text/plain": [
       "Index([u'a', u'b', u'c', u'd', u'e'], dtype='object')"
      ]
     },
     "execution_count": 5,
     "metadata": {},
     "output_type": "execute_result"
    }
   ],
   "source": [
    "s.index"
   ]
  },
  {
   "cell_type": "markdown",
   "metadata": {},
   "source": [
    "Operators that work in dictionaries also work on Series objects"
   ]
  },
  {
   "cell_type": "code",
   "execution_count": 6,
   "metadata": {
    "collapsed": false
   },
   "outputs": [
    {
     "data": {
      "text/plain": [
       "True"
      ]
     },
     "execution_count": 6,
     "metadata": {},
     "output_type": "execute_result"
    }
   ],
   "source": [
    "'b' in s #controlla se c'e' un elemento con l'indice b"
   ]
  },
  {
   "cell_type": "code",
   "execution_count": 7,
   "metadata": {
    "collapsed": false
   },
   "outputs": [
    {
     "data": {
      "text/plain": [
       "1.035507235615023"
      ]
     },
     "execution_count": 7,
     "metadata": {},
     "output_type": "execute_result"
    }
   ],
   "source": [
    "s['b']"
   ]
  },
  {
   "cell_type": "markdown",
   "metadata": {
    "collapsed": false
   },
   "source": [
    "We can transform a Series in a dictionary, and a dictionary in a Series"
   ]
  },
  {
   "cell_type": "code",
   "execution_count": 9,
   "metadata": {
    "collapsed": false
   },
   "outputs": [
    {
     "data": {
      "text/plain": [
       "{'a': -0.70039898864904016,\n",
       " 'b': 1.035507235615023,\n",
       " 'c': -1.7048184261781354,\n",
       " 'd': -0.089105591944863949,\n",
       " 'e': 0.56572271977478628}"
      ]
     },
     "execution_count": 9,
     "metadata": {},
     "output_type": "execute_result"
    }
   ],
   "source": [
    "mapping = s.to_dict() #fa diventare una serie un dictionary\n",
    "mapping"
   ]
  },
  {
   "cell_type": "code",
   "execution_count": 10,
   "metadata": {
    "collapsed": false
   },
   "outputs": [
    {
     "data": {
      "text/plain": [
       "a   -0.700399\n",
       "b    1.035507\n",
       "c   -1.704818\n",
       "d   -0.089106\n",
       "e    0.565723\n",
       "dtype: float64"
      ]
     },
     "execution_count": 10,
     "metadata": {},
     "output_type": "execute_result"
    }
   ],
   "source": [
    "s = pd.Series(mapping) #Questo crea una serie\n",
    "s"
   ]
  },
  {
   "cell_type": "markdown",
   "metadata": {},
   "source": [
    "Slicing works in a Series the same way it works in numpy arrays"
   ]
  },
  {
   "cell_type": "code",
   "execution_count": 13,
   "metadata": {
    "collapsed": false
   },
   "outputs": [
    {
     "data": {
      "text/plain": [
       "a   -0.700399\n",
       "b    1.035507\n",
       "c   -1.704818\n",
       "dtype: float64"
      ]
     },
     "execution_count": 13,
     "metadata": {},
     "output_type": "execute_result"
    }
   ],
   "source": [
    "s[:3]"
   ]
  },
  {
   "cell_type": "markdown",
   "metadata": {},
   "source": [
    "## DataFrame\n",
    "\n",
    "A Pandas DataFrame is a 2D collection of Series. Each Series of a DataFrame is a column.\n",
    "\n",
    "This is generally the most commonly used pandas object."
   ]
  },
  {
   "cell_type": "code",
   "execution_count": 15,
   "metadata": {
    "collapsed": false
   },
   "outputs": [
    {
     "data": {
      "text/html": [
       "<div>\n",
       "<table border=\"1\" class=\"dataframe\">\n",
       "  <thead>\n",
       "    <tr style=\"text-align: right;\">\n",
       "      <th></th>\n",
       "      <th>a</th>\n",
       "      <th>b</th>\n",
       "      <th>c</th>\n",
       "    </tr>\n",
       "  </thead>\n",
       "  <tbody>\n",
       "    <tr>\n",
       "      <th>0</th>\n",
       "      <td>-0.673970</td>\n",
       "      <td>foo</td>\n",
       "      <td>-0.546136</td>\n",
       "    </tr>\n",
       "    <tr>\n",
       "      <th>1</th>\n",
       "      <td>-1.208820</td>\n",
       "      <td>bar</td>\n",
       "      <td>0.265609</td>\n",
       "    </tr>\n",
       "    <tr>\n",
       "      <th>2</th>\n",
       "      <td>0.297036</td>\n",
       "      <td>foo</td>\n",
       "      <td>-0.044500</td>\n",
       "    </tr>\n",
       "    <tr>\n",
       "      <th>3</th>\n",
       "      <td>0.186186</td>\n",
       "      <td>bar</td>\n",
       "      <td>0.417304</td>\n",
       "    </tr>\n",
       "    <tr>\n",
       "      <th>4</th>\n",
       "      <td>0.264630</td>\n",
       "      <td>foo</td>\n",
       "      <td>1.929880</td>\n",
       "    </tr>\n",
       "    <tr>\n",
       "      <th>5</th>\n",
       "      <td>1.375199</td>\n",
       "      <td>bar</td>\n",
       "      <td>-0.203660</td>\n",
       "    </tr>\n",
       "  </tbody>\n",
       "</table>\n",
       "</div>"
      ],
      "text/plain": [
       "          a    b         c\n",
       "0 -0.673970  foo -0.546136\n",
       "1 -1.208820  bar  0.265609\n",
       "2  0.297036  foo -0.044500\n",
       "3  0.186186  bar  0.417304\n",
       "4  0.264630  foo  1.929880\n",
       "5  1.375199  bar -0.203660"
      ]
     },
     "execution_count": 15,
     "metadata": {},
     "output_type": "execute_result"
    }
   ],
   "source": [
    "df = pd.DataFrame({'a': np.random.randn(6),\n",
    "                'b': ['foo', 'bar'] * 3,\n",
    "                'c': np.random.randn(6)})\n",
    "df\n",
    "#costruisce un dataFrame -> prendi quello che c'e' dentro le tonde ed usamelo per creare il data frame. \n",
    "#e' un approccio a dizionario --> ci sono le parentesi graffe\n",
    "#ogni colonna e' una serie "
   ]
  },
  {
   "cell_type": "code",
   "execution_count": 16,
   "metadata": {
    "collapsed": false
   },
   "outputs": [
    {
     "data": {
      "text/plain": [
       "RangeIndex(start=0, stop=6, step=1)"
      ]
     },
     "execution_count": 16,
     "metadata": {},
     "output_type": "execute_result"
    }
   ],
   "source": [
    "df.index"
   ]
  },
  {
   "cell_type": "code",
   "execution_count": 17,
   "metadata": {
    "collapsed": false
   },
   "outputs": [
    {
     "data": {
      "text/plain": [
       "Index([u'a', u'b', u'c'], dtype='object')"
      ]
     },
     "execution_count": 17,
     "metadata": {},
     "output_type": "execute_result"
    }
   ],
   "source": [
    "df.columns"
   ]
  },
  {
   "cell_type": "code",
   "execution_count": 22,
   "metadata": {
    "collapsed": false
   },
   "outputs": [
    {
     "data": {
      "text/plain": [
       "DatetimeIndex(['2000-12-31', '2001-12-31', '2002-12-31', '2003-12-31',\n",
       "               '2004-12-31', '2005-12-31'],\n",
       "              dtype='datetime64[ns]', freq='A-DEC')"
      ]
     },
     "execution_count": 22,
     "metadata": {},
     "output_type": "execute_result"
    }
   ],
   "source": [
    "pd.date_range('1/1/2000', periods=6, freq='A')"
   ]
  },
  {
   "cell_type": "code",
   "execution_count": 19,
   "metadata": {
    "collapsed": false
   },
   "outputs": [
    {
     "data": {
      "text/html": [
       "<div>\n",
       "<table border=\"1\" class=\"dataframe\">\n",
       "  <thead>\n",
       "    <tr style=\"text-align: right;\">\n",
       "      <th></th>\n",
       "      <th>a</th>\n",
       "      <th>b</th>\n",
       "      <th>c</th>\n",
       "    </tr>\n",
       "  </thead>\n",
       "  <tbody>\n",
       "    <tr>\n",
       "      <th>2000-01-01</th>\n",
       "      <td>0.012509</td>\n",
       "      <td>foo</td>\n",
       "      <td>0.042214</td>\n",
       "    </tr>\n",
       "    <tr>\n",
       "      <th>2000-01-02</th>\n",
       "      <td>-0.188078</td>\n",
       "      <td>bar</td>\n",
       "      <td>-0.390057</td>\n",
       "    </tr>\n",
       "    <tr>\n",
       "      <th>2000-01-03</th>\n",
       "      <td>-0.430971</td>\n",
       "      <td>foo</td>\n",
       "      <td>0.582969</td>\n",
       "    </tr>\n",
       "    <tr>\n",
       "      <th>2000-01-04</th>\n",
       "      <td>0.878272</td>\n",
       "      <td>bar</td>\n",
       "      <td>0.626951</td>\n",
       "    </tr>\n",
       "    <tr>\n",
       "      <th>2000-01-05</th>\n",
       "      <td>-1.048913</td>\n",
       "      <td>foo</td>\n",
       "      <td>1.203527</td>\n",
       "    </tr>\n",
       "    <tr>\n",
       "      <th>2000-01-06</th>\n",
       "      <td>-0.155616</td>\n",
       "      <td>bar</td>\n",
       "      <td>-0.042334</td>\n",
       "    </tr>\n",
       "  </tbody>\n",
       "</table>\n",
       "</div>"
      ],
      "text/plain": [
       "                   a    b         c\n",
       "2000-01-01  0.012509  foo  0.042214\n",
       "2000-01-02 -0.188078  bar -0.390057\n",
       "2000-01-03 -0.430971  foo  0.582969\n",
       "2000-01-04  0.878272  bar  0.626951\n",
       "2000-01-05 -1.048913  foo  1.203527\n",
       "2000-01-06 -0.155616  bar -0.042334"
      ]
     },
     "execution_count": 19,
     "metadata": {},
     "output_type": "execute_result"
    }
   ],
   "source": [
    "df = pd.DataFrame({'a': np.random.randn(6),\n",
    "                'b': ['foo', 'bar'] * 3,\n",
    "                'c': np.random.randn(6)},\n",
    "               index=pd.date_range('1/1/2000', periods=6)) #qui definisce l'indice.\n",
    "# vedi http://pandas.pydata.org/pandas-docs/stable/generated/pandas.date_range.html -> per avere la documentazione di date_range\n",
    "df"
   ]
  },
  {
   "cell_type": "code",
   "execution_count": 24,
   "metadata": {
    "collapsed": false
   },
   "outputs": [
    {
     "data": {
      "text/html": [
       "<div>\n",
       "<table border=\"1\" class=\"dataframe\">\n",
       "  <thead>\n",
       "    <tr style=\"text-align: right;\">\n",
       "      <th></th>\n",
       "      <th>a</th>\n",
       "      <th>b</th>\n",
       "      <th>c</th>\n",
       "      <th>d</th>\n",
       "    </tr>\n",
       "  </thead>\n",
       "  <tbody>\n",
       "    <tr>\n",
       "      <th>0</th>\n",
       "      <td>0.588717</td>\n",
       "      <td>foo</td>\n",
       "      <td>0.434153</td>\n",
       "      <td>NaN</td>\n",
       "    </tr>\n",
       "    <tr>\n",
       "      <th>1</th>\n",
       "      <td>-0.285994</td>\n",
       "      <td>bar</td>\n",
       "      <td>-0.115099</td>\n",
       "      <td>NaN</td>\n",
       "    </tr>\n",
       "    <tr>\n",
       "      <th>2</th>\n",
       "      <td>0.412570</td>\n",
       "      <td>foo</td>\n",
       "      <td>1.583653</td>\n",
       "      <td>NaN</td>\n",
       "    </tr>\n",
       "    <tr>\n",
       "      <th>3</th>\n",
       "      <td>0.297148</td>\n",
       "      <td>bar</td>\n",
       "      <td>-0.645853</td>\n",
       "      <td>NaN</td>\n",
       "    </tr>\n",
       "    <tr>\n",
       "      <th>4</th>\n",
       "      <td>-2.317659</td>\n",
       "      <td>foo</td>\n",
       "      <td>-0.744412</td>\n",
       "      <td>NaN</td>\n",
       "    </tr>\n",
       "    <tr>\n",
       "      <th>5</th>\n",
       "      <td>-0.653290</td>\n",
       "      <td>bar</td>\n",
       "      <td>0.272664</td>\n",
       "      <td>NaN</td>\n",
       "    </tr>\n",
       "  </tbody>\n",
       "</table>\n",
       "</div>"
      ],
      "text/plain": [
       "          a    b         c    d\n",
       "0  0.588717  foo  0.434153  NaN\n",
       "1 -0.285994  bar -0.115099  NaN\n",
       "2  0.412570  foo  1.583653  NaN\n",
       "3  0.297148  bar -0.645853  NaN\n",
       "4 -2.317659  foo -0.744412  NaN\n",
       "5 -0.653290  bar  0.272664  NaN"
      ]
     },
     "execution_count": 24,
     "metadata": {},
     "output_type": "execute_result"
    }
   ],
   "source": [
    "df = pd.DataFrame({'a': np.random.randn(6),\n",
    "                'b': ['foo', 'bar'] * 3,\n",
    "                'c': np.random.randn(6)},\n",
    "               columns=['a', 'b', 'c', 'd']) #in un data frame posso aggiungere la colonna in questo caso ho usato il costruttore\n",
    "df"
   ]
  },
  {
   "cell_type": "markdown",
   "metadata": {},
   "source": [
    "Creation from nested dicts\n",
    "--------------------------\n",
    "\n",
    "These arise naturally in Python code"
   ]
  },
  {
   "cell_type": "code",
   "execution_count": 27,
   "metadata": {
    "collapsed": false
   },
   "outputs": [
    {
     "data": {
      "text/plain": [
       "{'bar': {'a': 0.8400715767714814,\n",
       "  'b': -1.4800336985284241,\n",
       "  'c': 0.24942993943360342,\n",
       "  'd': -0.6782642340524772},\n",
       " 'baz': {'a': -1.123060055980009,\n",
       "  'b': -0.6301173186481674,\n",
       "  'c': 0.5954651385750162,\n",
       "  'd': -1.1109783660889285},\n",
       " 'foo': {'a': 0.44103633511301193,\n",
       "  'b': -0.625362133114932,\n",
       "  'c': 2.06707882142564,\n",
       "  'd': 0.5434953042912599}}"
      ]
     },
     "execution_count": 27,
     "metadata": {},
     "output_type": "execute_result"
    }
   ],
   "source": [
    "data = {} #crea dizionario vuoto\n",
    "for col in ['foo', 'bar', 'baz']: #loop per la creazione delle colonne\n",
    "    for row in ['a', 'b', 'c', 'd']: #loop che crea le righe\n",
    "        data.setdefault(col, {})[row] = randn() #non e' un set default ma e' un get. Cercami quell'elemento se non c'e settimelo da default\n",
    "data"
   ]
  },
  {
   "cell_type": "code",
   "execution_count": 28,
   "metadata": {
    "collapsed": false
   },
   "outputs": [
    {
     "data": {
      "text/html": [
       "<div>\n",
       "<table border=\"1\" class=\"dataframe\">\n",
       "  <thead>\n",
       "    <tr style=\"text-align: right;\">\n",
       "      <th></th>\n",
       "      <th>bar</th>\n",
       "      <th>baz</th>\n",
       "      <th>foo</th>\n",
       "    </tr>\n",
       "  </thead>\n",
       "  <tbody>\n",
       "    <tr>\n",
       "      <th>a</th>\n",
       "      <td>0.840072</td>\n",
       "      <td>-1.123060</td>\n",
       "      <td>0.441036</td>\n",
       "    </tr>\n",
       "    <tr>\n",
       "      <th>b</th>\n",
       "      <td>-1.480034</td>\n",
       "      <td>-0.630117</td>\n",
       "      <td>-0.625362</td>\n",
       "    </tr>\n",
       "    <tr>\n",
       "      <th>c</th>\n",
       "      <td>0.249430</td>\n",
       "      <td>0.595465</td>\n",
       "      <td>2.067079</td>\n",
       "    </tr>\n",
       "    <tr>\n",
       "      <th>d</th>\n",
       "      <td>-0.678264</td>\n",
       "      <td>-1.110978</td>\n",
       "      <td>0.543495</td>\n",
       "    </tr>\n",
       "  </tbody>\n",
       "</table>\n",
       "</div>"
      ],
      "text/plain": [
       "        bar       baz       foo\n",
       "a  0.840072 -1.123060  0.441036\n",
       "b -1.480034 -0.630117 -0.625362\n",
       "c  0.249430  0.595465  2.067079\n",
       "d -0.678264 -1.110978  0.543495"
      ]
     },
     "execution_count": 28,
     "metadata": {},
     "output_type": "execute_result"
    }
   ],
   "source": [
    "pd.DataFrame(data)"
   ]
  },
  {
   "cell_type": "markdown",
   "metadata": {},
   "source": [
    "Data alignment\n",
    "=============="
   ]
  },
  {
   "cell_type": "code",
   "execution_count": 29,
   "metadata": {
    "collapsed": false
   },
   "outputs": [],
   "source": [
    "close_px = pd.read_csv('stock_data.csv', index_col=0, parse_dates=True) #Close_px risultato e' un data frame"
   ]
  },
  {
   "cell_type": "code",
   "execution_count": 30,
   "metadata": {
    "collapsed": false
   },
   "outputs": [
    {
     "data": {
      "text/html": [
       "<div>\n",
       "<table border=\"1\" class=\"dataframe\">\n",
       "  <thead>\n",
       "    <tr style=\"text-align: right;\">\n",
       "      <th></th>\n",
       "      <th>AA</th>\n",
       "      <th>AAPL</th>\n",
       "      <th>GE</th>\n",
       "      <th>IBM</th>\n",
       "      <th>JNJ</th>\n",
       "      <th>MSFT</th>\n",
       "      <th>PEP</th>\n",
       "      <th>SPX</th>\n",
       "      <th>XOM</th>\n",
       "    </tr>\n",
       "  </thead>\n",
       "  <tbody>\n",
       "    <tr>\n",
       "      <th>2007-10-29</th>\n",
       "      <td>37.41</td>\n",
       "      <td>185.09</td>\n",
       "      <td>34.46</td>\n",
       "      <td>106.78</td>\n",
       "      <td>57.13</td>\n",
       "      <td>31.78</td>\n",
       "      <td>65.67</td>\n",
       "      <td>1540.98</td>\n",
       "      <td>85.51</td>\n",
       "    </tr>\n",
       "    <tr>\n",
       "      <th>2007-10-30</th>\n",
       "      <td>36.43</td>\n",
       "      <td>187.00</td>\n",
       "      <td>34.39</td>\n",
       "      <td>106.15</td>\n",
       "      <td>56.99</td>\n",
       "      <td>32.70</td>\n",
       "      <td>65.80</td>\n",
       "      <td>1531.02</td>\n",
       "      <td>83.25</td>\n",
       "    </tr>\n",
       "    <tr>\n",
       "      <th>2007-10-31</th>\n",
       "      <td>36.79</td>\n",
       "      <td>189.95</td>\n",
       "      <td>34.97</td>\n",
       "      <td>108.01</td>\n",
       "      <td>57.30</td>\n",
       "      <td>33.84</td>\n",
       "      <td>65.69</td>\n",
       "      <td>1549.38</td>\n",
       "      <td>84.03</td>\n",
       "    </tr>\n",
       "    <tr>\n",
       "      <th>2007-11-01</th>\n",
       "      <td>35.22</td>\n",
       "      <td>187.44</td>\n",
       "      <td>34.27</td>\n",
       "      <td>105.72</td>\n",
       "      <td>56.85</td>\n",
       "      <td>34.07</td>\n",
       "      <td>64.51</td>\n",
       "      <td>1508.44</td>\n",
       "      <td>80.84</td>\n",
       "    </tr>\n",
       "    <tr>\n",
       "      <th>2007-11-02</th>\n",
       "      <td>35.83</td>\n",
       "      <td>187.87</td>\n",
       "      <td>34.27</td>\n",
       "      <td>106.59</td>\n",
       "      <td>56.95</td>\n",
       "      <td>34.07</td>\n",
       "      <td>65.03</td>\n",
       "      <td>1509.65</td>\n",
       "      <td>80.32</td>\n",
       "    </tr>\n",
       "  </tbody>\n",
       "</table>\n",
       "</div>"
      ],
      "text/plain": [
       "               AA    AAPL     GE     IBM    JNJ   MSFT    PEP      SPX    XOM\n",
       "2007-10-29  37.41  185.09  34.46  106.78  57.13  31.78  65.67  1540.98  85.51\n",
       "2007-10-30  36.43  187.00  34.39  106.15  56.99  32.70  65.80  1531.02  83.25\n",
       "2007-10-31  36.79  189.95  34.97  108.01  57.30  33.84  65.69  1549.38  84.03\n",
       "2007-11-01  35.22  187.44  34.27  105.72  56.85  34.07  64.51  1508.44  80.84\n",
       "2007-11-02  35.83  187.87  34.27  106.59  56.95  34.07  65.03  1509.65  80.32"
      ]
     },
     "execution_count": 30,
     "metadata": {},
     "output_type": "execute_result"
    }
   ],
   "source": [
    "close_px.head() # head mi da le prime 5 righe se non specifico N= (numero righe)"
   ]
  },
  {
   "cell_type": "code",
   "execution_count": 32,
   "metadata": {
    "collapsed": false
   },
   "outputs": [
    {
     "data": {
      "text/plain": [
       "(1000, 9)"
      ]
     },
     "execution_count": 32,
     "metadata": {},
     "output_type": "execute_result"
    }
   ],
   "source": [
    "shape(close_px) # mi da il numero di righe e colonne"
   ]
  },
  {
   "cell_type": "code",
   "execution_count": 34,
   "metadata": {
    "collapsed": false
   },
   "outputs": [
    {
     "data": {
      "text/plain": [
       "DatetimeIndex(['2007-10-29', '2007-10-30', '2007-10-31', '2007-11-01',\n",
       "               '2007-11-02', '2007-11-05', '2007-11-06', '2007-11-07',\n",
       "               '2007-11-08', '2007-11-09',\n",
       "               ...\n",
       "               '2011-10-03', '2011-10-04', '2011-10-05', '2011-10-06',\n",
       "               '2011-10-07', '2011-10-10', '2011-10-11', '2011-10-12',\n",
       "               '2011-10-13', '2011-10-14'],\n",
       "              dtype='datetime64[ns]', length=1000, freq=None)"
      ]
     },
     "execution_count": 34,
     "metadata": {},
     "output_type": "execute_result"
    }
   ],
   "source": [
    "close_px.index"
   ]
  },
  {
   "cell_type": "code",
   "execution_count": 38,
   "metadata": {
    "collapsed": false
   },
   "outputs": [
    {
     "data": {
      "text/plain": [
       "pandas.core.series.Series"
      ]
     },
     "execution_count": 38,
     "metadata": {},
     "output_type": "execute_result"
    }
   ],
   "source": [
    "type(close_px['AAPL'])"
   ]
  },
  {
   "cell_type": "code",
   "execution_count": 40,
   "metadata": {
    "collapsed": false
   },
   "outputs": [
    {
     "data": {
      "text/html": [
       "<div>\n",
       "<table border=\"1\" class=\"dataframe\">\n",
       "  <thead>\n",
       "    <tr style=\"text-align: right;\">\n",
       "      <th></th>\n",
       "      <th>AA</th>\n",
       "      <th>AAPL</th>\n",
       "      <th>GE</th>\n",
       "      <th>IBM</th>\n",
       "      <th>JNJ</th>\n",
       "      <th>MSFT</th>\n",
       "      <th>PEP</th>\n",
       "      <th>SPX</th>\n",
       "      <th>XOM</th>\n",
       "    </tr>\n",
       "  </thead>\n",
       "  <tbody>\n",
       "    <tr>\n",
       "      <th>2011-10-10</th>\n",
       "      <td>10.09</td>\n",
       "      <td>388.81</td>\n",
       "      <td>16.14</td>\n",
       "      <td>186.62</td>\n",
       "      <td>64.43</td>\n",
       "      <td>26.94</td>\n",
       "      <td>61.87</td>\n",
       "      <td>1194.89</td>\n",
       "      <td>76.28</td>\n",
       "    </tr>\n",
       "    <tr>\n",
       "      <th>2011-10-11</th>\n",
       "      <td>10.30</td>\n",
       "      <td>400.29</td>\n",
       "      <td>16.14</td>\n",
       "      <td>185.00</td>\n",
       "      <td>63.96</td>\n",
       "      <td>27.00</td>\n",
       "      <td>60.95</td>\n",
       "      <td>1195.54</td>\n",
       "      <td>76.27</td>\n",
       "    </tr>\n",
       "    <tr>\n",
       "      <th>2011-10-12</th>\n",
       "      <td>10.05</td>\n",
       "      <td>402.19</td>\n",
       "      <td>16.40</td>\n",
       "      <td>186.12</td>\n",
       "      <td>64.33</td>\n",
       "      <td>26.96</td>\n",
       "      <td>62.70</td>\n",
       "      <td>1207.25</td>\n",
       "      <td>77.16</td>\n",
       "    </tr>\n",
       "    <tr>\n",
       "      <th>2011-10-13</th>\n",
       "      <td>10.10</td>\n",
       "      <td>408.43</td>\n",
       "      <td>16.22</td>\n",
       "      <td>186.82</td>\n",
       "      <td>64.23</td>\n",
       "      <td>27.18</td>\n",
       "      <td>62.36</td>\n",
       "      <td>1203.66</td>\n",
       "      <td>76.37</td>\n",
       "    </tr>\n",
       "    <tr>\n",
       "      <th>2011-10-14</th>\n",
       "      <td>10.26</td>\n",
       "      <td>422.00</td>\n",
       "      <td>16.60</td>\n",
       "      <td>190.53</td>\n",
       "      <td>64.72</td>\n",
       "      <td>27.27</td>\n",
       "      <td>62.24</td>\n",
       "      <td>1224.58</td>\n",
       "      <td>78.11</td>\n",
       "    </tr>\n",
       "  </tbody>\n",
       "</table>\n",
       "</div>"
      ],
      "text/plain": [
       "               AA    AAPL     GE     IBM    JNJ   MSFT    PEP      SPX    XOM\n",
       "2011-10-10  10.09  388.81  16.14  186.62  64.43  26.94  61.87  1194.89  76.28\n",
       "2011-10-11  10.30  400.29  16.14  185.00  63.96  27.00  60.95  1195.54  76.27\n",
       "2011-10-12  10.05  402.19  16.40  186.12  64.33  26.96  62.70  1207.25  77.16\n",
       "2011-10-13  10.10  408.43  16.22  186.82  64.23  27.18  62.36  1203.66  76.37\n",
       "2011-10-14  10.26  422.00  16.60  190.53  64.72  27.27  62.24  1224.58  78.11"
      ]
     },
     "execution_count": 40,
     "metadata": {},
     "output_type": "execute_result"
    }
   ],
   "source": [
    "close_px.tail() #mi restituisce al coda"
   ]
  },
  {
   "cell_type": "code",
   "execution_count": 39,
   "metadata": {
    "collapsed": false
   },
   "outputs": [
    {
     "data": {
      "text/plain": [
       "2011-09-19    411.63\n",
       "2011-09-20    413.45\n",
       "2011-09-21    412.14\n",
       "2011-09-22    401.82\n",
       "2011-09-23    404.30\n",
       "2011-09-26    403.17\n",
       "2011-09-27    399.26\n",
       "2011-09-28    397.01\n",
       "2011-09-29    390.57\n",
       "2011-09-30    381.32\n",
       "2011-10-03    374.60\n",
       "2011-10-04    372.50\n",
       "2011-10-05    378.25\n",
       "2011-10-06    377.37\n",
       "2011-10-07    369.80\n",
       "2011-10-10    388.81\n",
       "2011-10-11    400.29\n",
       "2011-10-12    402.19\n",
       "2011-10-13    408.43\n",
       "2011-10-14    422.00\n",
       "Name: AAPL, dtype: float64"
      ]
     },
     "execution_count": 39,
     "metadata": {},
     "output_type": "execute_result"
    }
   ],
   "source": [
    "close_px['AAPL'][-20:]"
   ]
  },
  {
   "cell_type": "code",
   "execution_count": 41,
   "metadata": {
    "collapsed": false
   },
   "outputs": [
    {
     "data": {
      "text/plain": [
       "2011-09-12    379.94\n",
       "2011-09-13    384.62\n",
       "2011-09-14    389.30\n",
       "2011-09-15    392.96\n",
       "2011-09-16    400.50\n",
       "2011-09-19    411.63\n",
       "2011-09-20    413.45\n",
       "2011-09-21    412.14\n",
       "2011-09-22    401.82\n",
       "2011-09-23    404.30\n",
       "2011-09-26    403.17\n",
       "2011-09-27    399.26\n",
       "2011-09-28    397.01\n",
       "2011-09-29    390.57\n",
       "2011-09-30    381.32\n",
       "Name: AAPL, dtype: float64"
      ]
     },
     "execution_count": 41,
     "metadata": {},
     "output_type": "execute_result"
    }
   ],
   "source": [
    "close_px['AAPL'][-25:-10]"
   ]
  },
  {
   "cell_type": "code",
   "execution_count": 67,
   "metadata": {
    "collapsed": false
   },
   "outputs": [
    {
     "name": "stdout",
     "output_type": "stream",
     "text": [
      "uno =>  Ciao mondo\n",
      "due =>  cane\n",
      "due =>  pippo\n",
      "due =>  pluto\n",
      "tre =>  a 5\n",
      "tre =>  prova ('uno', 'due', 'tre')\n",
      "tre =>  b 6\n"
     ]
    }
   ],
   "source": [
    "#esempio *args *kwargs\n",
    "def funzione(uno,*due,**tre):\n",
    "    print 'uno => ',uno\n",
    "    for i in due:\n",
    "        print 'due => ',i\n",
    "    for j in tre:\n",
    "        print 'tre => ',j,tre[j]\n",
    "\n",
    "myDict = {'prova':('uno','due','tre')}\n",
    "funzione('Ciao mondo','cane', 'pippo', 'pluto',a=5,b=6,**myDict)"
   ]
  },
  {
   "cell_type": "code",
   "execution_count": 68,
   "metadata": {
    "collapsed": false
   },
   "outputs": [
    {
     "name": "stdout",
     "output_type": "stream",
     "text": [
      "2011-09-19    411.63          2011-09-12    379.94      \n",
      "2011-09-20    413.45          2011-09-13    384.62      \n",
      "2011-09-21    412.14          2011-09-14    389.30      \n",
      "2011-09-22    401.82          2011-09-15    392.96      \n",
      "2011-09-23    404.30          2011-09-16    400.50      \n",
      "2011-09-26    403.17          2011-09-19    411.63      \n",
      "2011-09-27    399.26          2011-09-20    413.45      \n",
      "2011-09-28    397.01          2011-09-21    412.14      \n",
      "2011-09-29    390.57          2011-09-22    401.82      \n",
      "2011-09-30    381.32          2011-09-23    404.30      \n",
      "2011-10-03    374.60          2011-09-26    403.17      \n",
      "2011-10-04    372.50          2011-09-27    399.26      \n",
      "2011-10-05    378.25          2011-09-28    397.01      \n",
      "2011-10-06    377.37          2011-09-29    390.57      \n",
      "2011-10-07    369.80          2011-09-30    381.32      \n",
      "2011-10-10    388.81          Name: AAPL, dtype: float64\n",
      "2011-10-11    400.29                                    \n",
      "2011-10-12    402.19                                    \n",
      "2011-10-13    408.43                                    \n",
      "2011-10-14    422.00                                    \n",
      "Name: AAPL, dtype: float64                              \n"
     ]
    }
   ],
   "source": [
    "s1 = close_px['AAPL'][-20:] \n",
    "s2 = close_px['AAPL'][-25:-10]\n",
    "\n",
    "def side_by_side(*objs, **kwds):\n",
    "    #from pandas.core.common import adjoin <-- dipende dalla versione di panda . hanno spostato la classe da \n",
    "    # package ad un altro\n",
    "    from pandas.formats.printing import adjoin\n",
    "    space = kwds.get('space', 4)\n",
    "    reprs = [repr(obj).split('\\n') for obj in objs]\n",
    "    print adjoin(space, *reprs)\n",
    "    \n",
    "side_by_side(s1, s2) #stessi elementi ma non allineati"
   ]
  },
  {
   "cell_type": "code",
   "execution_count": 70,
   "metadata": {
    "collapsed": false
   },
   "outputs": [
    {
     "data": {
      "text/plain": [
       "2011-09-12       NaN\n",
       "2011-09-13       NaN\n",
       "2011-09-14       NaN\n",
       "2011-09-15       NaN\n",
       "2011-09-16       NaN\n",
       "2011-09-19    823.26\n",
       "2011-09-20    826.90\n",
       "2011-09-21    824.28\n",
       "2011-09-22    803.64\n",
       "2011-09-23    808.60\n",
       "2011-09-26    806.34\n",
       "2011-09-27    798.52\n",
       "2011-09-28    794.02\n",
       "2011-09-29    781.14\n",
       "2011-09-30    762.64\n",
       "2011-10-03       NaN\n",
       "2011-10-04       NaN\n",
       "2011-10-05       NaN\n",
       "2011-10-06       NaN\n",
       "2011-10-07       NaN\n",
       "2011-10-10       NaN\n",
       "2011-10-11       NaN\n",
       "2011-10-12       NaN\n",
       "2011-10-13       NaN\n",
       "2011-10-14       NaN\n",
       "Name: AAPL, dtype: float64"
      ]
     },
     "execution_count": 70,
     "metadata": {},
     "output_type": "execute_result"
    }
   ],
   "source": [
    "s1 + s2 #mi restituisce l'intersezione tra le due serie"
   ]
  },
  {
   "cell_type": "code",
   "execution_count": 72,
   "metadata": {
    "collapsed": false
   },
   "outputs": [
    {
     "data": {
      "text/html": [
       "<div>\n",
       "<table border=\"1\" class=\"dataframe\">\n",
       "  <thead>\n",
       "    <tr style=\"text-align: right;\">\n",
       "      <th></th>\n",
       "      <th>AAPL</th>\n",
       "      <th>AAPL</th>\n",
       "    </tr>\n",
       "  </thead>\n",
       "  <tbody>\n",
       "    <tr>\n",
       "      <th>2011-09-12</th>\n",
       "      <td>NaN</td>\n",
       "      <td>379.94</td>\n",
       "    </tr>\n",
       "    <tr>\n",
       "      <th>2011-09-13</th>\n",
       "      <td>NaN</td>\n",
       "      <td>384.62</td>\n",
       "    </tr>\n",
       "    <tr>\n",
       "      <th>2011-09-14</th>\n",
       "      <td>NaN</td>\n",
       "      <td>389.30</td>\n",
       "    </tr>\n",
       "    <tr>\n",
       "      <th>2011-09-15</th>\n",
       "      <td>NaN</td>\n",
       "      <td>392.96</td>\n",
       "    </tr>\n",
       "    <tr>\n",
       "      <th>2011-09-16</th>\n",
       "      <td>NaN</td>\n",
       "      <td>400.50</td>\n",
       "    </tr>\n",
       "    <tr>\n",
       "      <th>2011-09-19</th>\n",
       "      <td>411.63</td>\n",
       "      <td>411.63</td>\n",
       "    </tr>\n",
       "    <tr>\n",
       "      <th>2011-09-20</th>\n",
       "      <td>413.45</td>\n",
       "      <td>413.45</td>\n",
       "    </tr>\n",
       "    <tr>\n",
       "      <th>2011-09-21</th>\n",
       "      <td>412.14</td>\n",
       "      <td>412.14</td>\n",
       "    </tr>\n",
       "    <tr>\n",
       "      <th>2011-09-22</th>\n",
       "      <td>401.82</td>\n",
       "      <td>401.82</td>\n",
       "    </tr>\n",
       "    <tr>\n",
       "      <th>2011-09-23</th>\n",
       "      <td>404.30</td>\n",
       "      <td>404.30</td>\n",
       "    </tr>\n",
       "    <tr>\n",
       "      <th>2011-09-26</th>\n",
       "      <td>403.17</td>\n",
       "      <td>403.17</td>\n",
       "    </tr>\n",
       "    <tr>\n",
       "      <th>2011-09-27</th>\n",
       "      <td>399.26</td>\n",
       "      <td>399.26</td>\n",
       "    </tr>\n",
       "    <tr>\n",
       "      <th>2011-09-28</th>\n",
       "      <td>397.01</td>\n",
       "      <td>397.01</td>\n",
       "    </tr>\n",
       "    <tr>\n",
       "      <th>2011-09-29</th>\n",
       "      <td>390.57</td>\n",
       "      <td>390.57</td>\n",
       "    </tr>\n",
       "    <tr>\n",
       "      <th>2011-09-30</th>\n",
       "      <td>381.32</td>\n",
       "      <td>381.32</td>\n",
       "    </tr>\n",
       "    <tr>\n",
       "      <th>2011-10-03</th>\n",
       "      <td>374.60</td>\n",
       "      <td>NaN</td>\n",
       "    </tr>\n",
       "    <tr>\n",
       "      <th>2011-10-04</th>\n",
       "      <td>372.50</td>\n",
       "      <td>NaN</td>\n",
       "    </tr>\n",
       "    <tr>\n",
       "      <th>2011-10-05</th>\n",
       "      <td>378.25</td>\n",
       "      <td>NaN</td>\n",
       "    </tr>\n",
       "    <tr>\n",
       "      <th>2011-10-06</th>\n",
       "      <td>377.37</td>\n",
       "      <td>NaN</td>\n",
       "    </tr>\n",
       "    <tr>\n",
       "      <th>2011-10-07</th>\n",
       "      <td>369.80</td>\n",
       "      <td>NaN</td>\n",
       "    </tr>\n",
       "    <tr>\n",
       "      <th>2011-10-10</th>\n",
       "      <td>388.81</td>\n",
       "      <td>NaN</td>\n",
       "    </tr>\n",
       "    <tr>\n",
       "      <th>2011-10-11</th>\n",
       "      <td>400.29</td>\n",
       "      <td>NaN</td>\n",
       "    </tr>\n",
       "    <tr>\n",
       "      <th>2011-10-12</th>\n",
       "      <td>402.19</td>\n",
       "      <td>NaN</td>\n",
       "    </tr>\n",
       "    <tr>\n",
       "      <th>2011-10-13</th>\n",
       "      <td>408.43</td>\n",
       "      <td>NaN</td>\n",
       "    </tr>\n",
       "    <tr>\n",
       "      <th>2011-10-14</th>\n",
       "      <td>422.00</td>\n",
       "      <td>NaN</td>\n",
       "    </tr>\n",
       "  </tbody>\n",
       "</table>\n",
       "</div>"
      ],
      "text/plain": [
       "              AAPL    AAPL\n",
       "2011-09-12     NaN  379.94\n",
       "2011-09-13     NaN  384.62\n",
       "2011-09-14     NaN  389.30\n",
       "2011-09-15     NaN  392.96\n",
       "2011-09-16     NaN  400.50\n",
       "2011-09-19  411.63  411.63\n",
       "2011-09-20  413.45  413.45\n",
       "2011-09-21  412.14  412.14\n",
       "2011-09-22  401.82  401.82\n",
       "2011-09-23  404.30  404.30\n",
       "2011-09-26  403.17  403.17\n",
       "2011-09-27  399.26  399.26\n",
       "2011-09-28  397.01  397.01\n",
       "2011-09-29  390.57  390.57\n",
       "2011-09-30  381.32  381.32\n",
       "2011-10-03  374.60     NaN\n",
       "2011-10-04  372.50     NaN\n",
       "2011-10-05  378.25     NaN\n",
       "2011-10-06  377.37     NaN\n",
       "2011-10-07  369.80     NaN\n",
       "2011-10-10  388.81     NaN\n",
       "2011-10-11  400.29     NaN\n",
       "2011-10-12  402.19     NaN\n",
       "2011-10-13  408.43     NaN\n",
       "2011-10-14  422.00     NaN"
      ]
     },
     "execution_count": 72,
     "metadata": {},
     "output_type": "execute_result"
    }
   ],
   "source": [
    "pd.concat([s1,s2],axis=1) #metodo concat di Panda --> fa il match tra due liste e li mette vicino\n",
    "#axis ha come valore 0"
   ]
  },
  {
   "cell_type": "code",
   "execution_count": 74,
   "metadata": {
    "collapsed": false
   },
   "outputs": [
    {
     "data": {
      "text/html": [
       "<div>\n",
       "<table border=\"1\" class=\"dataframe\">\n",
       "  <thead>\n",
       "    <tr style=\"text-align: right;\">\n",
       "      <th></th>\n",
       "      <th>AA</th>\n",
       "      <th>AAPL</th>\n",
       "      <th>GE</th>\n",
       "      <th>IBM</th>\n",
       "      <th>JNJ</th>\n",
       "      <th>MSFT</th>\n",
       "      <th>PEP</th>\n",
       "      <th>SPX</th>\n",
       "      <th>XOM</th>\n",
       "    </tr>\n",
       "  </thead>\n",
       "  <tbody>\n",
       "    <tr>\n",
       "      <th>2011-10-10</th>\n",
       "      <td>10.09</td>\n",
       "      <td>388.81</td>\n",
       "      <td>16.14</td>\n",
       "      <td>186.62</td>\n",
       "      <td>64.43</td>\n",
       "      <td>26.94</td>\n",
       "      <td>61.87</td>\n",
       "      <td>1194.89</td>\n",
       "      <td>76.28</td>\n",
       "    </tr>\n",
       "    <tr>\n",
       "      <th>2011-10-11</th>\n",
       "      <td>10.30</td>\n",
       "      <td>400.29</td>\n",
       "      <td>16.14</td>\n",
       "      <td>185.00</td>\n",
       "      <td>63.96</td>\n",
       "      <td>27.00</td>\n",
       "      <td>60.95</td>\n",
       "      <td>1195.54</td>\n",
       "      <td>76.27</td>\n",
       "    </tr>\n",
       "    <tr>\n",
       "      <th>2011-10-12</th>\n",
       "      <td>10.05</td>\n",
       "      <td>402.19</td>\n",
       "      <td>16.40</td>\n",
       "      <td>186.12</td>\n",
       "      <td>64.33</td>\n",
       "      <td>26.96</td>\n",
       "      <td>62.70</td>\n",
       "      <td>1207.25</td>\n",
       "      <td>77.16</td>\n",
       "    </tr>\n",
       "    <tr>\n",
       "      <th>2011-10-13</th>\n",
       "      <td>10.10</td>\n",
       "      <td>408.43</td>\n",
       "      <td>16.22</td>\n",
       "      <td>186.82</td>\n",
       "      <td>64.23</td>\n",
       "      <td>27.18</td>\n",
       "      <td>62.36</td>\n",
       "      <td>1203.66</td>\n",
       "      <td>76.37</td>\n",
       "    </tr>\n",
       "    <tr>\n",
       "      <th>2011-10-14</th>\n",
       "      <td>10.26</td>\n",
       "      <td>422.00</td>\n",
       "      <td>16.60</td>\n",
       "      <td>190.53</td>\n",
       "      <td>64.72</td>\n",
       "      <td>27.27</td>\n",
       "      <td>62.24</td>\n",
       "      <td>1224.58</td>\n",
       "      <td>78.11</td>\n",
       "    </tr>\n",
       "  </tbody>\n",
       "</table>\n",
       "</div>"
      ],
      "text/plain": [
       "               AA    AAPL     GE     IBM    JNJ   MSFT    PEP      SPX    XOM\n",
       "2011-10-10  10.09  388.81  16.14  186.62  64.43  26.94  61.87  1194.89  76.28\n",
       "2011-10-11  10.30  400.29  16.14  185.00  63.96  27.00  60.95  1195.54  76.27\n",
       "2011-10-12  10.05  402.19  16.40  186.12  64.33  26.96  62.70  1207.25  77.16\n",
       "2011-10-13  10.10  408.43  16.22  186.82  64.23  27.18  62.36  1203.66  76.37\n",
       "2011-10-14  10.26  422.00  16.60  190.53  64.72  27.27  62.24  1224.58  78.11"
      ]
     },
     "execution_count": 74,
     "metadata": {},
     "output_type": "execute_result"
    }
   ],
   "source": [
    "close_px.tail()"
   ]
  },
  {
   "cell_type": "code",
   "execution_count": 78,
   "metadata": {
    "collapsed": false
   },
   "outputs": [
    {
     "data": {
      "text/html": [
       "<div>\n",
       "<table border=\"1\" class=\"dataframe\">\n",
       "  <thead>\n",
       "    <tr style=\"text-align: right;\">\n",
       "      <th></th>\n",
       "      <th>AA</th>\n",
       "      <th>AAPL</th>\n",
       "      <th>GE</th>\n",
       "    </tr>\n",
       "  </thead>\n",
       "  <tbody>\n",
       "    <tr>\n",
       "      <th>2011-10-13</th>\n",
       "      <td>10.1</td>\n",
       "      <td>408.43</td>\n",
       "      <td>16.22</td>\n",
       "    </tr>\n",
       "  </tbody>\n",
       "</table>\n",
       "</div>"
      ],
      "text/plain": [
       "              AA    AAPL     GE\n",
       "2011-10-13  10.1  408.43  16.22"
      ]
     },
     "execution_count": 78,
     "metadata": {},
     "output_type": "execute_result"
    }
   ],
   "source": [
    "df = close_px.ix[-2:-1,0:3]\n",
    "df"
   ]
  },
  {
   "cell_type": "code",
   "execution_count": 81,
   "metadata": {
    "collapsed": false
   },
   "outputs": [
    {
     "name": "stdout",
     "output_type": "stream",
     "text": [
      "1000\n",
      "1000\n"
     ]
    }
   ],
   "source": [
    "print close_px.shape[0]\n",
    "print len(close_px.index)"
   ]
  },
  {
   "cell_type": "code",
   "execution_count": 73,
   "metadata": {
    "collapsed": false
   },
   "outputs": [
    {
     "data": {
      "text/html": [
       "<div>\n",
       "<table border=\"1\" class=\"dataframe\">\n",
       "  <thead>\n",
       "    <tr style=\"text-align: right;\">\n",
       "      <th></th>\n",
       "      <th>AA</th>\n",
       "      <th>AAPL</th>\n",
       "      <th>GE</th>\n",
       "    </tr>\n",
       "  </thead>\n",
       "  <tbody>\n",
       "    <tr>\n",
       "      <th>2011-10-03</th>\n",
       "      <td>8.90</td>\n",
       "      <td>374.60</td>\n",
       "      <td>14.69</td>\n",
       "    </tr>\n",
       "    <tr>\n",
       "      <th>2011-10-04</th>\n",
       "      <td>9.12</td>\n",
       "      <td>372.50</td>\n",
       "      <td>14.86</td>\n",
       "    </tr>\n",
       "    <tr>\n",
       "      <th>2011-10-05</th>\n",
       "      <td>9.37</td>\n",
       "      <td>378.25</td>\n",
       "      <td>15.27</td>\n",
       "    </tr>\n",
       "    <tr>\n",
       "      <th>2011-10-06</th>\n",
       "      <td>9.88</td>\n",
       "      <td>377.37</td>\n",
       "      <td>15.53</td>\n",
       "    </tr>\n",
       "    <tr>\n",
       "      <th>2011-10-07</th>\n",
       "      <td>9.71</td>\n",
       "      <td>369.80</td>\n",
       "      <td>15.50</td>\n",
       "    </tr>\n",
       "    <tr>\n",
       "      <th>2011-10-10</th>\n",
       "      <td>10.09</td>\n",
       "      <td>388.81</td>\n",
       "      <td>16.14</td>\n",
       "    </tr>\n",
       "    <tr>\n",
       "      <th>2011-10-11</th>\n",
       "      <td>10.30</td>\n",
       "      <td>400.29</td>\n",
       "      <td>16.14</td>\n",
       "    </tr>\n",
       "    <tr>\n",
       "      <th>2011-10-12</th>\n",
       "      <td>10.05</td>\n",
       "      <td>402.19</td>\n",
       "      <td>16.40</td>\n",
       "    </tr>\n",
       "    <tr>\n",
       "      <th>2011-10-13</th>\n",
       "      <td>10.10</td>\n",
       "      <td>408.43</td>\n",
       "      <td>16.22</td>\n",
       "    </tr>\n",
       "    <tr>\n",
       "      <th>2011-10-14</th>\n",
       "      <td>10.26</td>\n",
       "      <td>422.00</td>\n",
       "      <td>16.60</td>\n",
       "    </tr>\n",
       "  </tbody>\n",
       "</table>\n",
       "</div>"
      ],
      "text/plain": [
       "               AA    AAPL     GE\n",
       "2011-10-03   8.90  374.60  14.69\n",
       "2011-10-04   9.12  372.50  14.86\n",
       "2011-10-05   9.37  378.25  15.27\n",
       "2011-10-06   9.88  377.37  15.53\n",
       "2011-10-07   9.71  369.80  15.50\n",
       "2011-10-10  10.09  388.81  16.14\n",
       "2011-10-11  10.30  400.29  16.14\n",
       "2011-10-12  10.05  402.19  16.40\n",
       "2011-10-13  10.10  408.43  16.22\n",
       "2011-10-14  10.26  422.00  16.60"
      ]
     },
     "execution_count": 73,
     "metadata": {},
     "output_type": "execute_result"
    }
   ],
   "source": [
    "df = close_px.ix[-10:, :3] # ultime 10 riche e il :3 sono le prime 3 colonne\n",
    "df"
   ]
  },
  {
   "cell_type": "code",
   "execution_count": 83,
   "metadata": {
    "collapsed": false
   },
   "outputs": [
    {
     "name": "stdout",
     "output_type": "stream",
     "text": [
      "2011-09-19    411.63\n",
      "2011-09-20    413.45\n",
      "2011-09-21    412.14\n",
      "2011-09-22    401.82\n",
      "2011-09-23    404.30\n",
      "2011-09-26    403.17\n",
      "2011-09-27    399.26\n",
      "2011-09-28    397.01\n",
      "2011-09-29    390.57\n",
      "2011-09-30    381.32\n",
      "2011-10-03    374.60\n",
      "2011-10-04    372.50\n",
      "2011-10-05    378.25\n",
      "2011-10-06    377.37\n",
      "2011-10-07    369.80\n",
      "2011-10-10    388.81\n",
      "2011-10-11    400.29\n",
      "2011-10-12    402.19\n",
      "2011-10-13    408.43\n",
      "2011-10-14    422.00\n",
      "Name: AAPL, dtype: float64\n"
     ]
    }
   ],
   "source": [
    "print s1"
   ]
  },
  {
   "cell_type": "code",
   "execution_count": 85,
   "metadata": {
    "collapsed": false
   },
   "outputs": [
    {
     "name": "stdout",
     "output_type": "stream",
     "text": [
      "DatetimeIndex(['2011-09-12', '2011-09-13', '2011-09-14', '2011-09-15',\n",
      "               '2011-09-16', '2011-09-19', '2011-09-20', '2011-09-21',\n",
      "               '2011-09-22', '2011-09-23', '2011-09-26', '2011-09-27',\n",
      "               '2011-09-28', '2011-09-29', '2011-09-30'],\n",
      "              dtype='datetime64[ns]', freq=None)\n",
      "2011-09-12       NaN\n",
      "2011-09-13       NaN\n",
      "2011-09-14       NaN\n",
      "2011-09-15       NaN\n",
      "2011-09-16       NaN\n",
      "2011-09-19    411.63\n",
      "2011-09-20    413.45\n",
      "2011-09-21    412.14\n",
      "2011-09-22    401.82\n",
      "2011-09-23    404.30\n",
      "2011-09-26    403.17\n",
      "2011-09-27    399.26\n",
      "2011-09-28    397.01\n",
      "2011-09-29    390.57\n",
      "2011-09-30    381.32\n",
      "Name: AAPL, dtype: float64\n"
     ]
    }
   ],
   "source": [
    "print s2.index\n",
    "print s1.reindex(s2.index) #dammi le righe che sono presenti nella serie S2. In pratica ti dice che \n",
    "# gli elementi di s1 che sono presenti in s2"
   ]
  },
  {
   "cell_type": "code",
   "execution_count": 86,
   "metadata": {
    "collapsed": false
   },
   "outputs": [
    {
     "name": "stdout",
     "output_type": "stream",
     "text": [
      "2011-09-12       NaN          2011-09-12    379.94      \n",
      "2011-09-13       NaN          2011-09-13    384.62      \n",
      "2011-09-14       NaN          2011-09-14    389.30      \n",
      "2011-09-15       NaN          2011-09-15    392.96      \n",
      "2011-09-16       NaN          2011-09-16    400.50      \n",
      "2011-09-19    411.63          2011-09-19    411.63      \n",
      "2011-09-20    413.45          2011-09-20    413.45      \n",
      "2011-09-21    412.14          2011-09-21    412.14      \n",
      "2011-09-22    401.82          2011-09-22    401.82      \n",
      "2011-09-23    404.30          2011-09-23    404.30      \n",
      "2011-09-26    403.17          2011-09-26    403.17      \n",
      "2011-09-27    399.26          2011-09-27    399.26      \n",
      "2011-09-28    397.01          2011-09-28    397.01      \n",
      "2011-09-29    390.57          2011-09-29    390.57      \n",
      "2011-09-30    381.32          2011-09-30    381.32      \n",
      "Name: AAPL, dtype: float64    Name: AAPL, dtype: float64\n"
     ]
    }
   ],
   "source": [
    "side_by_side(s1.reindex(s2.index), s2) #stampami le cose a fianco --> "
   ]
  },
  {
   "cell_type": "code",
   "execution_count": 87,
   "metadata": {
    "collapsed": false
   },
   "outputs": [
    {
     "name": "stdout",
     "output_type": "stream",
     "text": [
      "2011-09-19    411.63          2011-09-19    411.63      \n",
      "2011-09-20    413.45          2011-09-20    413.45      \n",
      "2011-09-21    412.14          2011-09-21    412.14      \n",
      "2011-09-22    401.82          2011-09-22    401.82      \n",
      "2011-09-23    404.30          2011-09-23    404.30      \n",
      "2011-09-26    403.17          2011-09-26    403.17      \n",
      "2011-09-27    399.26          2011-09-27    399.26      \n",
      "2011-09-28    397.01          2011-09-28    397.01      \n",
      "2011-09-29    390.57          2011-09-29    390.57      \n",
      "2011-09-30    381.32          2011-09-30    381.32      \n",
      "Name: AAPL, dtype: float64    Name: AAPL, dtype: float64\n"
     ]
    }
   ],
   "source": [
    "b, c  = s1.align(s2, join='inner') #join fra le due serie --->  interesezione\n",
    "side_by_side(b, c)"
   ]
  },
  {
   "cell_type": "code",
   "execution_count": 88,
   "metadata": {
    "collapsed": false
   },
   "outputs": [
    {
     "name": "stdout",
     "output_type": "stream",
     "text": [
      "2011-09-12       NaN          2011-09-12    379.94      \n",
      "2011-09-13       NaN          2011-09-13    384.62      \n",
      "2011-09-14       NaN          2011-09-14    389.30      \n",
      "2011-09-15       NaN          2011-09-15    392.96      \n",
      "2011-09-16       NaN          2011-09-16    400.50      \n",
      "2011-09-19    411.63          2011-09-19    411.63      \n",
      "2011-09-20    413.45          2011-09-20    413.45      \n",
      "2011-09-21    412.14          2011-09-21    412.14      \n",
      "2011-09-22    401.82          2011-09-22    401.82      \n",
      "2011-09-23    404.30          2011-09-23    404.30      \n",
      "2011-09-26    403.17          2011-09-26    403.17      \n",
      "2011-09-27    399.26          2011-09-27    399.26      \n",
      "2011-09-28    397.01          2011-09-28    397.01      \n",
      "2011-09-29    390.57          2011-09-29    390.57      \n",
      "2011-09-30    381.32          2011-09-30    381.32      \n",
      "2011-10-03    374.60          2011-10-03       NaN      \n",
      "2011-10-04    372.50          2011-10-04       NaN      \n",
      "2011-10-05    378.25          2011-10-05       NaN      \n",
      "2011-10-06    377.37          2011-10-06       NaN      \n",
      "2011-10-07    369.80          2011-10-07       NaN      \n",
      "2011-10-10    388.81          2011-10-10       NaN      \n",
      "2011-10-11    400.29          2011-10-11       NaN      \n",
      "2011-10-12    402.19          2011-10-12       NaN      \n",
      "2011-10-13    408.43          2011-10-13       NaN      \n",
      "2011-10-14    422.00          2011-10-14       NaN      \n",
      "Name: AAPL, dtype: float64    Name: AAPL, dtype: float64\n"
     ]
    }
   ],
   "source": [
    "b, c  = s1.align(s2, join='outer') # prende entrambi i valori nulli -> mi fa l'intersezione e lascia i null\n",
    "#sia di uno che dell'altra serie\n",
    "side_by_side(b, c)"
   ]
  },
  {
   "cell_type": "code",
   "execution_count": 96,
   "metadata": {
    "collapsed": false
   },
   "outputs": [
    {
     "name": "stdout",
     "output_type": "stream",
     "text": [
      "2011-09-12       NaN          2011-09-12    379.94      \n",
      "2011-09-13       NaN          2011-09-13    384.62      \n",
      "2011-09-14       NaN          2011-09-14    389.30      \n",
      "2011-09-15       NaN          2011-09-15    392.96      \n",
      "2011-09-16       NaN          2011-09-16    400.50      \n",
      "2011-09-19    411.63          2011-09-19    411.63      \n",
      "2011-09-20    413.45          2011-09-20    413.45      \n",
      "2011-09-21    412.14          2011-09-21    412.14      \n",
      "2011-09-22    401.82          2011-09-22    401.82      \n",
      "2011-09-23    404.30          2011-09-23    404.30      \n",
      "2011-09-26    403.17          2011-09-26    403.17      \n",
      "2011-09-27    399.26          2011-09-27    399.26      \n",
      "2011-09-28    397.01          2011-09-28    397.01      \n",
      "2011-09-29    390.57          2011-09-29    390.57      \n",
      "2011-09-30    381.32          2011-09-30    381.32      \n",
      "2011-10-03    374.60          2011-10-03       NaN      \n",
      "2011-10-04    372.50          2011-10-04       NaN      \n",
      "2011-10-05    378.25          2011-10-05       NaN      \n",
      "2011-10-06    377.37          2011-10-06       NaN      \n",
      "2011-10-07    369.80          2011-10-07       NaN      \n",
      "2011-10-10    388.81          2011-10-10       NaN      \n",
      "2011-10-11    400.29          2011-10-11       NaN      \n",
      "2011-10-12    402.19          2011-10-12       NaN      \n",
      "2011-10-13    408.43          2011-10-13       NaN      \n",
      "2011-10-14    422.00          2011-10-14       NaN      \n",
      "Name: AAPL, dtype: float64    Name: AAPL, dtype: float64\n"
     ]
    }
   ],
   "source": [
    "b, c  = s1.align(s2) #fa la join=outer\n",
    "side_by_side(b, c)"
   ]
  },
  {
   "cell_type": "code",
   "execution_count": 89,
   "metadata": {
    "collapsed": false
   },
   "outputs": [
    {
     "name": "stdout",
     "output_type": "stream",
     "text": [
      "2011-09-12       NaN          2011-09-12    379.94      \n",
      "2011-09-13       NaN          2011-09-13    384.62      \n",
      "2011-09-14       NaN          2011-09-14    389.30      \n",
      "2011-09-15       NaN          2011-09-15    392.96      \n",
      "2011-09-16       NaN          2011-09-16    400.50      \n",
      "2011-09-19    411.63          2011-09-19    411.63      \n",
      "2011-09-20    413.45          2011-09-20    413.45      \n",
      "2011-09-21    412.14          2011-09-21    412.14      \n",
      "2011-09-22    401.82          2011-09-22    401.82      \n",
      "2011-09-23    404.30          2011-09-23    404.30      \n",
      "2011-09-26    403.17          2011-09-26    403.17      \n",
      "2011-09-27    399.26          2011-09-27    399.26      \n",
      "2011-09-28    397.01          2011-09-28    397.01      \n",
      "2011-09-29    390.57          2011-09-29    390.57      \n",
      "2011-09-30    381.32          2011-09-30    381.32      \n",
      "Name: AAPL, dtype: float64    Name: AAPL, dtype: float64\n"
     ]
    }
   ],
   "source": [
    "b, c  = s1.align(s2, join='right') #fa la join lasciando i NaN del primo insieme\n",
    "side_by_side(b, c)"
   ]
  },
  {
   "cell_type": "code",
   "execution_count": 90,
   "metadata": {
    "collapsed": false
   },
   "outputs": [
    {
     "name": "stdout",
     "output_type": "stream",
     "text": [
      "2011-09-19    411.63          2011-09-19    411.63      \n",
      "2011-09-20    413.45          2011-09-20    413.45      \n",
      "2011-09-21    412.14          2011-09-21    412.14      \n",
      "2011-09-22    401.82          2011-09-22    401.82      \n",
      "2011-09-23    404.30          2011-09-23    404.30      \n",
      "2011-09-26    403.17          2011-09-26    403.17      \n",
      "2011-09-27    399.26          2011-09-27    399.26      \n",
      "2011-09-28    397.01          2011-09-28    397.01      \n",
      "2011-09-29    390.57          2011-09-29    390.57      \n",
      "2011-09-30    381.32          2011-09-30    381.32      \n",
      "2011-10-03    374.60          2011-10-03       NaN      \n",
      "2011-10-04    372.50          2011-10-04       NaN      \n",
      "2011-10-05    378.25          2011-10-05       NaN      \n",
      "2011-10-06    377.37          2011-10-06       NaN      \n",
      "2011-10-07    369.80          2011-10-07       NaN      \n",
      "2011-10-10    388.81          2011-10-10       NaN      \n",
      "2011-10-11    400.29          2011-10-11       NaN      \n",
      "2011-10-12    402.19          2011-10-12       NaN      \n",
      "2011-10-13    408.43          2011-10-13       NaN      \n",
      "2011-10-14    422.00          2011-10-14       NaN      \n",
      "Name: AAPL, dtype: float64    Name: AAPL, dtype: float64\n"
     ]
    }
   ],
   "source": [
    "b, c  = s1.align(s2, join='left') #fa la join lasciando i NaN del secondo insieme\n",
    "side_by_side(b, c)"
   ]
  },
  {
   "cell_type": "code",
   "execution_count": 91,
   "metadata": {
    "collapsed": false
   },
   "outputs": [
    {
     "data": {
      "text/html": [
       "<div>\n",
       "<table border=\"1\" class=\"dataframe\">\n",
       "  <thead>\n",
       "    <tr style=\"text-align: right;\">\n",
       "      <th></th>\n",
       "      <th>AAPL</th>\n",
       "      <th>IBM</th>\n",
       "      <th>MSFT</th>\n",
       "    </tr>\n",
       "  </thead>\n",
       "  <tbody>\n",
       "    <tr>\n",
       "      <th>2011-10-03</th>\n",
       "      <td>374.60</td>\n",
       "      <td>173.29</td>\n",
       "      <td>24.53</td>\n",
       "    </tr>\n",
       "    <tr>\n",
       "      <th>2011-10-04</th>\n",
       "      <td>372.50</td>\n",
       "      <td>174.74</td>\n",
       "      <td>25.34</td>\n",
       "    </tr>\n",
       "    <tr>\n",
       "      <th>2011-10-05</th>\n",
       "      <td>378.25</td>\n",
       "      <td>176.85</td>\n",
       "      <td>25.89</td>\n",
       "    </tr>\n",
       "    <tr>\n",
       "      <th>2011-10-06</th>\n",
       "      <td>377.37</td>\n",
       "      <td>181.69</td>\n",
       "      <td>26.34</td>\n",
       "    </tr>\n",
       "    <tr>\n",
       "      <th>2011-10-07</th>\n",
       "      <td>369.80</td>\n",
       "      <td>182.39</td>\n",
       "      <td>26.25</td>\n",
       "    </tr>\n",
       "    <tr>\n",
       "      <th>2011-10-10</th>\n",
       "      <td>388.81</td>\n",
       "      <td>186.62</td>\n",
       "      <td>26.94</td>\n",
       "    </tr>\n",
       "    <tr>\n",
       "      <th>2011-10-11</th>\n",
       "      <td>400.29</td>\n",
       "      <td>185.00</td>\n",
       "      <td>27.00</td>\n",
       "    </tr>\n",
       "    <tr>\n",
       "      <th>2011-10-12</th>\n",
       "      <td>402.19</td>\n",
       "      <td>186.12</td>\n",
       "      <td>26.96</td>\n",
       "    </tr>\n",
       "    <tr>\n",
       "      <th>2011-10-13</th>\n",
       "      <td>408.43</td>\n",
       "      <td>186.82</td>\n",
       "      <td>27.18</td>\n",
       "    </tr>\n",
       "    <tr>\n",
       "      <th>2011-10-14</th>\n",
       "      <td>422.00</td>\n",
       "      <td>190.53</td>\n",
       "      <td>27.27</td>\n",
       "    </tr>\n",
       "  </tbody>\n",
       "</table>\n",
       "</div>"
      ],
      "text/plain": [
       "              AAPL     IBM   MSFT\n",
       "2011-10-03  374.60  173.29  24.53\n",
       "2011-10-04  372.50  174.74  25.34\n",
       "2011-10-05  378.25  176.85  25.89\n",
       "2011-10-06  377.37  181.69  26.34\n",
       "2011-10-07  369.80  182.39  26.25\n",
       "2011-10-10  388.81  186.62  26.94\n",
       "2011-10-11  400.29  185.00  27.00\n",
       "2011-10-12  402.19  186.12  26.96\n",
       "2011-10-13  408.43  186.82  27.18\n",
       "2011-10-14  422.00  190.53  27.27"
      ]
     },
     "execution_count": 91,
     "metadata": {},
     "output_type": "execute_result"
    }
   ],
   "source": [
    "df = close_px.ix[-10:, ['AAPL', 'IBM', 'MSFT']]\n",
    "df"
   ]
  },
  {
   "cell_type": "code",
   "execution_count": 93,
   "metadata": {
    "collapsed": false
   },
   "outputs": [
    {
     "name": "stdout",
     "output_type": "stream",
     "text": [
      "              AAPL     IBM   MSFT                   IBM   MSFT\n",
      "2011-10-03  374.60  173.29  24.53    2011-10-03  173.29  24.53\n",
      "2011-10-04  372.50  174.74  25.34    2011-10-05  176.85  25.89\n",
      "2011-10-05  378.25  176.85  25.89    2011-10-07  182.39  26.25\n",
      "2011-10-06  377.37  181.69  26.34    2011-10-11  185.00  27.00\n",
      "2011-10-07  369.80  182.39  26.25    2011-10-13  186.82  27.18\n",
      "2011-10-10  388.81  186.62  26.94                             \n",
      "2011-10-11  400.29  185.00  27.00                             \n",
      "2011-10-12  402.19  186.12  26.96                             \n",
      "2011-10-13  408.43  186.82  27.18                             \n",
      "2011-10-14  422.00  190.53  27.27                             \n"
     ]
    }
   ],
   "source": [
    "df2 = df.ix[::2, ['IBM', 'MSFT']] #ix e' per l'indicizzazione\n",
    "#in questo caso usa il passo 2\n",
    "side_by_side(df, df2)"
   ]
  },
  {
   "cell_type": "code",
   "execution_count": 95,
   "metadata": {
    "collapsed": false
   },
   "outputs": [
    {
     "data": {
      "text/html": [
       "<div>\n",
       "<table border=\"1\" class=\"dataframe\">\n",
       "  <thead>\n",
       "    <tr style=\"text-align: right;\">\n",
       "      <th></th>\n",
       "      <th>AAPL</th>\n",
       "      <th>IBM</th>\n",
       "      <th>MSFT</th>\n",
       "    </tr>\n",
       "  </thead>\n",
       "  <tbody>\n",
       "    <tr>\n",
       "      <th>2011-10-03</th>\n",
       "      <td>NaN</td>\n",
       "      <td>346.58</td>\n",
       "      <td>49.06</td>\n",
       "    </tr>\n",
       "    <tr>\n",
       "      <th>2011-10-04</th>\n",
       "      <td>NaN</td>\n",
       "      <td>NaN</td>\n",
       "      <td>NaN</td>\n",
       "    </tr>\n",
       "    <tr>\n",
       "      <th>2011-10-05</th>\n",
       "      <td>NaN</td>\n",
       "      <td>353.70</td>\n",
       "      <td>51.78</td>\n",
       "    </tr>\n",
       "    <tr>\n",
       "      <th>2011-10-06</th>\n",
       "      <td>NaN</td>\n",
       "      <td>NaN</td>\n",
       "      <td>NaN</td>\n",
       "    </tr>\n",
       "    <tr>\n",
       "      <th>2011-10-07</th>\n",
       "      <td>NaN</td>\n",
       "      <td>364.78</td>\n",
       "      <td>52.50</td>\n",
       "    </tr>\n",
       "    <tr>\n",
       "      <th>2011-10-10</th>\n",
       "      <td>NaN</td>\n",
       "      <td>NaN</td>\n",
       "      <td>NaN</td>\n",
       "    </tr>\n",
       "    <tr>\n",
       "      <th>2011-10-11</th>\n",
       "      <td>NaN</td>\n",
       "      <td>370.00</td>\n",
       "      <td>54.00</td>\n",
       "    </tr>\n",
       "    <tr>\n",
       "      <th>2011-10-12</th>\n",
       "      <td>NaN</td>\n",
       "      <td>NaN</td>\n",
       "      <td>NaN</td>\n",
       "    </tr>\n",
       "    <tr>\n",
       "      <th>2011-10-13</th>\n",
       "      <td>NaN</td>\n",
       "      <td>373.64</td>\n",
       "      <td>54.36</td>\n",
       "    </tr>\n",
       "    <tr>\n",
       "      <th>2011-10-14</th>\n",
       "      <td>NaN</td>\n",
       "      <td>NaN</td>\n",
       "      <td>NaN</td>\n",
       "    </tr>\n",
       "  </tbody>\n",
       "</table>\n",
       "</div>"
      ],
      "text/plain": [
       "            AAPL     IBM   MSFT\n",
       "2011-10-03   NaN  346.58  49.06\n",
       "2011-10-04   NaN     NaN    NaN\n",
       "2011-10-05   NaN  353.70  51.78\n",
       "2011-10-06   NaN     NaN    NaN\n",
       "2011-10-07   NaN  364.78  52.50\n",
       "2011-10-10   NaN     NaN    NaN\n",
       "2011-10-11   NaN  370.00  54.00\n",
       "2011-10-12   NaN     NaN    NaN\n",
       "2011-10-13   NaN  373.64  54.36\n",
       "2011-10-14   NaN     NaN    NaN"
      ]
     },
     "execution_count": 95,
     "metadata": {},
     "output_type": "execute_result"
    }
   ],
   "source": [
    "df + df2 #intersezione"
   ]
  },
  {
   "cell_type": "code",
   "execution_count": 98,
   "metadata": {
    "collapsed": false
   },
   "outputs": [
    {
     "name": "stdout",
     "output_type": "stream",
     "text": [
      "               IBM   MSFT                   IBM   MSFT\n",
      "2011-10-03  173.29  24.53    2011-10-03  173.29  24.53\n",
      "2011-10-05  176.85  25.89    2011-10-05  176.85  25.89\n",
      "2011-10-07  182.39  26.25    2011-10-07  182.39  26.25\n",
      "2011-10-11  185.00  27.00    2011-10-11  185.00  27.00\n",
      "2011-10-13  186.82  27.18    2011-10-13  186.82  27.18\n"
     ]
    }
   ],
   "source": [
    "b, c = df.align(df2, join='inner') #b contiene i dati con gli indici che compaiono in nell'inner join in df\n",
    "#c contiene i dati con gli indici che compaiono nell'inner join in df2\n",
    "side_by_side(b, c) "
   ]
  },
  {
   "cell_type": "code",
   "execution_count": 99,
   "metadata": {
    "collapsed": false
   },
   "outputs": [
    {
     "name": "stdout",
     "output_type": "stream",
     "text": [
      "               IBM   MSFT\n",
      "2011-10-03  173.29  24.53\n",
      "2011-10-05  176.85  25.89\n",
      "2011-10-07  182.39  26.25\n",
      "2011-10-11  185.00  27.00\n",
      "2011-10-13  186.82  27.18\n",
      "               IBM   MSFT\n",
      "2011-10-03  173.29  24.53\n",
      "2011-10-05  176.85  25.89\n",
      "2011-10-07  182.39  26.25\n",
      "2011-10-11  185.00  27.00\n",
      "2011-10-13  186.82  27.18\n",
      "               IBM   MSFT\n",
      "2011-10-03  173.29  24.53\n",
      "2011-10-05  176.85  25.89\n",
      "2011-10-07  182.39  26.25\n",
      "2011-10-11  185.00  27.00\n",
      "2011-10-13  186.82  27.18\n"
     ]
    }
   ],
   "source": [
    "b, c = df.align(df2, join='inner') \n",
    "a = df.align(df2,join='inner')[0]\n",
    "d = df.align(df2,join='inner')\n",
    "\n",
    "# il risultato identico per i tre se stampo i risultati nel seguente mpdo:\n",
    "print(b)\n",
    "print(a)\n",
    "print(d[0])"
   ]
  },
  {
   "cell_type": "markdown",
   "metadata": {},
   "source": [
    "Transposing\n",
    "-----------"
   ]
  },
  {
   "cell_type": "code",
   "execution_count": 100,
   "metadata": {
    "collapsed": false
   },
   "outputs": [
    {
     "data": {
      "text/html": [
       "<div>\n",
       "<table border=\"1\" class=\"dataframe\">\n",
       "  <thead>\n",
       "    <tr style=\"text-align: right;\">\n",
       "      <th></th>\n",
       "      <th>2011-10-03 00:00:00</th>\n",
       "      <th>2011-10-04 00:00:00</th>\n",
       "      <th>2011-10-05 00:00:00</th>\n",
       "      <th>2011-10-06 00:00:00</th>\n",
       "      <th>2011-10-07 00:00:00</th>\n",
       "    </tr>\n",
       "  </thead>\n",
       "  <tbody>\n",
       "    <tr>\n",
       "      <th>AAPL</th>\n",
       "      <td>374.60</td>\n",
       "      <td>372.50</td>\n",
       "      <td>378.25</td>\n",
       "      <td>377.37</td>\n",
       "      <td>369.80</td>\n",
       "    </tr>\n",
       "    <tr>\n",
       "      <th>IBM</th>\n",
       "      <td>173.29</td>\n",
       "      <td>174.74</td>\n",
       "      <td>176.85</td>\n",
       "      <td>181.69</td>\n",
       "      <td>182.39</td>\n",
       "    </tr>\n",
       "    <tr>\n",
       "      <th>MSFT</th>\n",
       "      <td>24.53</td>\n",
       "      <td>25.34</td>\n",
       "      <td>25.89</td>\n",
       "      <td>26.34</td>\n",
       "      <td>26.25</td>\n",
       "    </tr>\n",
       "  </tbody>\n",
       "</table>\n",
       "</div>"
      ],
      "text/plain": [
       "      2011-10-03  2011-10-04  2011-10-05  2011-10-06  2011-10-07\n",
       "AAPL      374.60      372.50      378.25      377.37      369.80\n",
       "IBM       173.29      174.74      176.85      181.69      182.39\n",
       "MSFT       24.53       25.34       25.89       26.34       26.25"
      ]
     },
     "execution_count": 100,
     "metadata": {},
     "output_type": "execute_result"
    }
   ],
   "source": [
    "df[:5].T #trasposizione dei dataframe"
   ]
  },
  {
   "cell_type": "markdown",
   "metadata": {},
   "source": [
    "Columns can be any type\n",
    "-----------------------"
   ]
  },
  {
   "cell_type": "code",
   "execution_count": 102,
   "metadata": {
    "collapsed": false
   },
   "outputs": [
    {
     "data": {
      "text/html": [
       "<div>\n",
       "<table border=\"1\" class=\"dataframe\">\n",
       "  <thead>\n",
       "    <tr style=\"text-align: right;\">\n",
       "      <th></th>\n",
       "      <th>floats</th>\n",
       "      <th>ints</th>\n",
       "      <th>strings</th>\n",
       "      <th>bools</th>\n",
       "      <th>objects</th>\n",
       "    </tr>\n",
       "  </thead>\n",
       "  <tbody>\n",
       "    <tr>\n",
       "      <th>0</th>\n",
       "      <td>-0.382984</td>\n",
       "      <td>0</td>\n",
       "      <td>foo</td>\n",
       "      <td>False</td>\n",
       "      <td>2000-01-01</td>\n",
       "    </tr>\n",
       "    <tr>\n",
       "      <th>1</th>\n",
       "      <td>0.019075</td>\n",
       "      <td>1</td>\n",
       "      <td>bar</td>\n",
       "      <td>True</td>\n",
       "      <td>2000-01-02</td>\n",
       "    </tr>\n",
       "    <tr>\n",
       "      <th>2</th>\n",
       "      <td>-0.643886</td>\n",
       "      <td>2</td>\n",
       "      <td>foo</td>\n",
       "      <td>False</td>\n",
       "      <td>2000-01-03</td>\n",
       "    </tr>\n",
       "    <tr>\n",
       "      <th>3</th>\n",
       "      <td>0.722772</td>\n",
       "      <td>3</td>\n",
       "      <td>bar</td>\n",
       "      <td>True</td>\n",
       "      <td>2000-01-04</td>\n",
       "    </tr>\n",
       "    <tr>\n",
       "      <th>4</th>\n",
       "      <td>0.357954</td>\n",
       "      <td>4</td>\n",
       "      <td>foo</td>\n",
       "      <td>True</td>\n",
       "      <td>2000-01-05</td>\n",
       "    </tr>\n",
       "    <tr>\n",
       "      <th>5</th>\n",
       "      <td>0.746309</td>\n",
       "      <td>5</td>\n",
       "      <td>bar</td>\n",
       "      <td>True</td>\n",
       "      <td>2000-01-06</td>\n",
       "    </tr>\n",
       "    <tr>\n",
       "      <th>6</th>\n",
       "      <td>-0.607681</td>\n",
       "      <td>6</td>\n",
       "      <td>foo</td>\n",
       "      <td>False</td>\n",
       "      <td>2000-01-07</td>\n",
       "    </tr>\n",
       "    <tr>\n",
       "      <th>7</th>\n",
       "      <td>-0.823993</td>\n",
       "      <td>7</td>\n",
       "      <td>bar</td>\n",
       "      <td>False</td>\n",
       "      <td>2000-01-08</td>\n",
       "    </tr>\n",
       "    <tr>\n",
       "      <th>8</th>\n",
       "      <td>-0.272265</td>\n",
       "      <td>8</td>\n",
       "      <td>foo</td>\n",
       "      <td>False</td>\n",
       "      <td>2000-01-09</td>\n",
       "    </tr>\n",
       "    <tr>\n",
       "      <th>9</th>\n",
       "      <td>0.035311</td>\n",
       "      <td>9</td>\n",
       "      <td>bar</td>\n",
       "      <td>True</td>\n",
       "      <td>2000-01-10</td>\n",
       "    </tr>\n",
       "  </tbody>\n",
       "</table>\n",
       "</div>"
      ],
      "text/plain": [
       "     floats  ints strings  bools    objects\n",
       "0 -0.382984     0     foo  False 2000-01-01\n",
       "1  0.019075     1     bar   True 2000-01-02\n",
       "2 -0.643886     2     foo  False 2000-01-03\n",
       "3  0.722772     3     bar   True 2000-01-04\n",
       "4  0.357954     4     foo   True 2000-01-05\n",
       "5  0.746309     5     bar   True 2000-01-06\n",
       "6 -0.607681     6     foo  False 2000-01-07\n",
       "7 -0.823993     7     bar  False 2000-01-08\n",
       "8 -0.272265     8     foo  False 2000-01-09\n",
       "9  0.035311     9     bar   True 2000-01-10"
      ]
     },
     "execution_count": 102,
     "metadata": {},
     "output_type": "execute_result"
    }
   ],
   "source": [
    "n = 10\n",
    "foo = pd.DataFrame(index=range(n)) #range di 10 elementi\n",
    "foo['floats'] = np.random.randn(n)\n",
    "foo['ints'] = np.arange(n)\n",
    "foo['strings'] = ['foo', 'bar'] * (n / 2)\n",
    "foo['bools'] = foo['floats'] > 0\n",
    "foo['objects'] = pd.date_range('1/1/2000', periods=n)\n",
    "foo"
   ]
  },
  {
   "cell_type": "code",
   "execution_count": 104,
   "metadata": {
    "collapsed": false
   },
   "outputs": [
    {
     "data": {
      "text/plain": [
       "floats            float64\n",
       "ints                int64\n",
       "strings            object\n",
       "bools                bool\n",
       "objects    datetime64[ns]\n",
       "dtype: object"
      ]
     },
     "execution_count": 104,
     "metadata": {},
     "output_type": "execute_result"
    }
   ],
   "source": [
    "foo.dtypes #dice i tipi contenuti della serie"
   ]
  },
  {
   "cell_type": "markdown",
   "metadata": {},
   "source": [
    "Function application\n",
    "====================\n",
    "\n",
    "You can apply arbitrary functions to the rows or columns of a DataFrame\n",
    "\n",
    "Questi concetti servono se si usa spark"
   ]
  },
  {
   "cell_type": "code",
   "execution_count": 109,
   "metadata": {
    "collapsed": false
   },
   "outputs": [
    {
     "data": {
      "text/plain": [
       "AAPL    389.424\n",
       "IBM     182.405\n",
       "MSFT     26.370\n",
       "dtype: float64"
      ]
     },
     "execution_count": 109,
     "metadata": {},
     "output_type": "execute_result"
    }
   ],
   "source": [
    "df.apply(np.mean) #apply = applica la funzione media ad ogni colonna --> Passa come parametro una funzione (axis di base e' sulle colonne)"
   ]
  },
  {
   "cell_type": "code",
   "execution_count": 110,
   "metadata": {
    "collapsed": false
   },
   "outputs": [
    {
     "data": {
      "text/plain": [
       "2011-10-03    190.806667\n",
       "2011-10-04    190.860000\n",
       "2011-10-05    193.663333\n",
       "2011-10-06    195.133333\n",
       "2011-10-07    192.813333\n",
       "2011-10-10    200.790000\n",
       "2011-10-11    204.096667\n",
       "2011-10-12    205.090000\n",
       "2011-10-13    207.476667\n",
       "2011-10-14    213.266667\n",
       "dtype: float64"
      ]
     },
     "execution_count": 110,
     "metadata": {},
     "output_type": "execute_result"
    }
   ],
   "source": [
    "df.apply(np.mean, axis=1) #applica la funzione all'axis=1 ovvero lavora per righe "
   ]
  },
  {
   "cell_type": "markdown",
   "metadata": {},
   "source": [
    "You can get as fancy as you want"
   ]
  },
  {
   "cell_type": "code",
   "execution_count": 111,
   "metadata": {
    "collapsed": false
   },
   "outputs": [
    {
     "data": {
      "text/html": [
       "<div>\n",
       "<table border=\"1\" class=\"dataframe\">\n",
       "  <thead>\n",
       "    <tr style=\"text-align: right;\">\n",
       "      <th></th>\n",
       "      <th>AA</th>\n",
       "      <th>AAPL</th>\n",
       "      <th>GE</th>\n",
       "      <th>IBM</th>\n",
       "      <th>JNJ</th>\n",
       "      <th>MSFT</th>\n",
       "      <th>PEP</th>\n",
       "      <th>SPX</th>\n",
       "      <th>XOM</th>\n",
       "    </tr>\n",
       "  </thead>\n",
       "  <tbody>\n",
       "    <tr>\n",
       "      <th>2007-10-29</th>\n",
       "      <td>37.41</td>\n",
       "      <td>185.09</td>\n",
       "      <td>34.46</td>\n",
       "      <td>106.78</td>\n",
       "      <td>57.13</td>\n",
       "      <td>31.78</td>\n",
       "      <td>65.67</td>\n",
       "      <td>1540.98</td>\n",
       "      <td>85.51</td>\n",
       "    </tr>\n",
       "    <tr>\n",
       "      <th>2007-10-30</th>\n",
       "      <td>36.43</td>\n",
       "      <td>187.00</td>\n",
       "      <td>34.39</td>\n",
       "      <td>106.15</td>\n",
       "      <td>56.99</td>\n",
       "      <td>32.70</td>\n",
       "      <td>65.80</td>\n",
       "      <td>1531.02</td>\n",
       "      <td>83.25</td>\n",
       "    </tr>\n",
       "    <tr>\n",
       "      <th>2007-10-31</th>\n",
       "      <td>36.79</td>\n",
       "      <td>189.95</td>\n",
       "      <td>34.97</td>\n",
       "      <td>108.01</td>\n",
       "      <td>57.30</td>\n",
       "      <td>33.84</td>\n",
       "      <td>65.69</td>\n",
       "      <td>1549.38</td>\n",
       "      <td>84.03</td>\n",
       "    </tr>\n",
       "    <tr>\n",
       "      <th>2007-11-01</th>\n",
       "      <td>35.22</td>\n",
       "      <td>187.44</td>\n",
       "      <td>34.27</td>\n",
       "      <td>105.72</td>\n",
       "      <td>56.85</td>\n",
       "      <td>34.07</td>\n",
       "      <td>64.51</td>\n",
       "      <td>1508.44</td>\n",
       "      <td>80.84</td>\n",
       "    </tr>\n",
       "    <tr>\n",
       "      <th>2007-11-02</th>\n",
       "      <td>35.83</td>\n",
       "      <td>187.87</td>\n",
       "      <td>34.27</td>\n",
       "      <td>106.59</td>\n",
       "      <td>56.95</td>\n",
       "      <td>34.07</td>\n",
       "      <td>65.03</td>\n",
       "      <td>1509.65</td>\n",
       "      <td>80.32</td>\n",
       "    </tr>\n",
       "  </tbody>\n",
       "</table>\n",
       "</div>"
      ],
      "text/plain": [
       "               AA    AAPL     GE     IBM    JNJ   MSFT    PEP      SPX    XOM\n",
       "2007-10-29  37.41  185.09  34.46  106.78  57.13  31.78  65.67  1540.98  85.51\n",
       "2007-10-30  36.43  187.00  34.39  106.15  56.99  32.70  65.80  1531.02  83.25\n",
       "2007-10-31  36.79  189.95  34.97  108.01  57.30  33.84  65.69  1549.38  84.03\n",
       "2007-11-01  35.22  187.44  34.27  105.72  56.85  34.07  64.51  1508.44  80.84\n",
       "2007-11-02  35.83  187.87  34.27  106.59  56.95  34.07  65.03  1509.65  80.32"
      ]
     },
     "execution_count": 111,
     "metadata": {},
     "output_type": "execute_result"
    }
   ],
   "source": [
    "close_px.head()"
   ]
  },
  {
   "cell_type": "code",
   "execution_count": 117,
   "metadata": {
    "collapsed": false
   },
   "outputs": [
    {
     "data": {
      "text/plain": [
       "AA     2008-05-19\n",
       "AAPL   2011-10-14\n",
       "GE     2007-10-31\n",
       "IBM    2011-10-14\n",
       "JNJ    2011-07-07\n",
       "MSFT   2007-11-01\n",
       "PEP    2008-01-10\n",
       "SPX    2007-10-31\n",
       "XOM    2008-05-20\n",
       "dtype: datetime64[ns]"
      ]
     },
     "execution_count": 117,
     "metadata": {},
     "output_type": "execute_result"
    }
   ],
   "source": [
    "def peak_date(series):\n",
    "    return series.index[series.values.argmax()] #definisco delle funzioni ad hoc \n",
    "#la funzione peakdata restituisce l'indice (la data) che ha il valore massimo per ciascuna colonna\n",
    "close_px.apply(peak_date) #applica la funzione non ho messo axis per cui lavoro per colonne"
   ]
  },
  {
   "cell_type": "code",
   "execution_count": 115,
   "metadata": {
    "collapsed": false
   },
   "outputs": [
    {
     "name": "stdout",
     "output_type": "stream",
     "text": [
      "<class 'pandas.core.series.Series'>\n"
     ]
    }
   ],
   "source": [
    "print(type(close_px.apply(peak_date)))"
   ]
  },
  {
   "cell_type": "code",
   "execution_count": 121,
   "metadata": {
    "collapsed": false
   },
   "outputs": [
    {
     "data": {
      "text/plain": [
       "AAPL    52.20\n",
       "IBM     17.24\n",
       "MSFT     2.74\n",
       "dtype: float64"
      ]
     },
     "execution_count": 121,
     "metadata": {},
     "output_type": "execute_result"
    }
   ],
   "source": [
    "df.apply(lambda x: x.max() - x.min()) #la funzione lambda mi prende l'indice del valore massimo\n",
    "# lambda calcolo basato sul paradigma funzionale (java fino alla 7 segue il paradigma imperativo - dalla 8 permette di scrivere delle lambda)"
   ]
  },
  {
   "cell_type": "code",
   "execution_count": 123,
   "metadata": {
    "collapsed": false
   },
   "outputs": [
    {
     "name": "stdout",
     "output_type": "stream",
     "text": [
      "64\n"
     ]
    }
   ],
   "source": [
    "#Esempio funzione lambda\n",
    "g = lambda x: x**2\n",
    "print(g(8))"
   ]
  },
  {
   "cell_type": "code",
   "execution_count": 124,
   "metadata": {
    "collapsed": false
   },
   "outputs": [
    {
     "data": {
      "text/html": [
       "<div>\n",
       "<table border=\"1\" class=\"dataframe\">\n",
       "  <thead>\n",
       "    <tr style=\"text-align: right;\">\n",
       "      <th></th>\n",
       "      <th>AAPL</th>\n",
       "      <th>IBM</th>\n",
       "      <th>MSFT</th>\n",
       "    </tr>\n",
       "  </thead>\n",
       "  <tbody>\n",
       "    <tr>\n",
       "      <th>2011-10-03</th>\n",
       "      <td>374.60</td>\n",
       "      <td>173.29</td>\n",
       "      <td>24.53</td>\n",
       "    </tr>\n",
       "    <tr>\n",
       "      <th>2011-10-04</th>\n",
       "      <td>372.50</td>\n",
       "      <td>174.74</td>\n",
       "      <td>25.34</td>\n",
       "    </tr>\n",
       "    <tr>\n",
       "      <th>2011-10-05</th>\n",
       "      <td>378.25</td>\n",
       "      <td>176.85</td>\n",
       "      <td>25.89</td>\n",
       "    </tr>\n",
       "    <tr>\n",
       "      <th>2011-10-06</th>\n",
       "      <td>377.37</td>\n",
       "      <td>181.69</td>\n",
       "      <td>26.34</td>\n",
       "    </tr>\n",
       "    <tr>\n",
       "      <th>2011-10-07</th>\n",
       "      <td>369.80</td>\n",
       "      <td>182.39</td>\n",
       "      <td>26.25</td>\n",
       "    </tr>\n",
       "    <tr>\n",
       "      <th>2011-10-10</th>\n",
       "      <td>388.81</td>\n",
       "      <td>186.62</td>\n",
       "      <td>26.94</td>\n",
       "    </tr>\n",
       "    <tr>\n",
       "      <th>2011-10-11</th>\n",
       "      <td>400.29</td>\n",
       "      <td>185.00</td>\n",
       "      <td>27.00</td>\n",
       "    </tr>\n",
       "    <tr>\n",
       "      <th>2011-10-12</th>\n",
       "      <td>402.19</td>\n",
       "      <td>186.12</td>\n",
       "      <td>26.96</td>\n",
       "    </tr>\n",
       "    <tr>\n",
       "      <th>2011-10-13</th>\n",
       "      <td>408.43</td>\n",
       "      <td>186.82</td>\n",
       "      <td>27.18</td>\n",
       "    </tr>\n",
       "    <tr>\n",
       "      <th>2011-10-14</th>\n",
       "      <td>422.00</td>\n",
       "      <td>190.53</td>\n",
       "      <td>27.27</td>\n",
       "    </tr>\n",
       "  </tbody>\n",
       "</table>\n",
       "</div>"
      ],
      "text/plain": [
       "              AAPL     IBM   MSFT\n",
       "2011-10-03  374.60  173.29  24.53\n",
       "2011-10-04  372.50  174.74  25.34\n",
       "2011-10-05  378.25  176.85  25.89\n",
       "2011-10-06  377.37  181.69  26.34\n",
       "2011-10-07  369.80  182.39  26.25\n",
       "2011-10-10  388.81  186.62  26.94\n",
       "2011-10-11  400.29  185.00  27.00\n",
       "2011-10-12  402.19  186.12  26.96\n",
       "2011-10-13  408.43  186.82  27.18\n",
       "2011-10-14  422.00  190.53  27.27"
      ]
     },
     "execution_count": 124,
     "metadata": {},
     "output_type": "execute_result"
    }
   ],
   "source": [
    "#altro esempio\n",
    "df.apply(lambda x: x) #prima dei due punti c'e' l'argomento dopo i : e' la funzione ovvero come uso l'argomento\n",
    "#in questo caso quando mi dai un argomento ti restituisco l'argomento"
   ]
  },
  {
   "cell_type": "code",
   "execution_count": 129,
   "metadata": {
    "collapsed": false
   },
   "outputs": [
    {
     "data": {
      "text/html": [
       "<div>\n",
       "<table border=\"1\" class=\"dataframe\">\n",
       "  <thead>\n",
       "    <tr style=\"text-align: right;\">\n",
       "      <th></th>\n",
       "      <th>AAPL</th>\n",
       "      <th>IBM</th>\n",
       "      <th>MSFT</th>\n",
       "    </tr>\n",
       "  </thead>\n",
       "  <tbody>\n",
       "    <tr>\n",
       "      <th>2011-10-03</th>\n",
       "      <td>140325.1600</td>\n",
       "      <td>30029.4241</td>\n",
       "      <td>601.7209</td>\n",
       "    </tr>\n",
       "    <tr>\n",
       "      <th>2011-10-04</th>\n",
       "      <td>138756.2500</td>\n",
       "      <td>30534.0676</td>\n",
       "      <td>642.1156</td>\n",
       "    </tr>\n",
       "    <tr>\n",
       "      <th>2011-10-05</th>\n",
       "      <td>143073.0625</td>\n",
       "      <td>31275.9225</td>\n",
       "      <td>670.2921</td>\n",
       "    </tr>\n",
       "    <tr>\n",
       "      <th>2011-10-06</th>\n",
       "      <td>142408.1169</td>\n",
       "      <td>33011.2561</td>\n",
       "      <td>693.7956</td>\n",
       "    </tr>\n",
       "    <tr>\n",
       "      <th>2011-10-07</th>\n",
       "      <td>136752.0400</td>\n",
       "      <td>33266.1121</td>\n",
       "      <td>689.0625</td>\n",
       "    </tr>\n",
       "    <tr>\n",
       "      <th>2011-10-10</th>\n",
       "      <td>151173.2161</td>\n",
       "      <td>34827.0244</td>\n",
       "      <td>725.7636</td>\n",
       "    </tr>\n",
       "    <tr>\n",
       "      <th>2011-10-11</th>\n",
       "      <td>160232.0841</td>\n",
       "      <td>34225.0000</td>\n",
       "      <td>729.0000</td>\n",
       "    </tr>\n",
       "    <tr>\n",
       "      <th>2011-10-12</th>\n",
       "      <td>161756.7961</td>\n",
       "      <td>34640.6544</td>\n",
       "      <td>726.8416</td>\n",
       "    </tr>\n",
       "    <tr>\n",
       "      <th>2011-10-13</th>\n",
       "      <td>166815.0649</td>\n",
       "      <td>34901.7124</td>\n",
       "      <td>738.7524</td>\n",
       "    </tr>\n",
       "    <tr>\n",
       "      <th>2011-10-14</th>\n",
       "      <td>178084.0000</td>\n",
       "      <td>36301.6809</td>\n",
       "      <td>743.6529</td>\n",
       "    </tr>\n",
       "  </tbody>\n",
       "</table>\n",
       "</div>"
      ],
      "text/plain": [
       "                   AAPL         IBM      MSFT\n",
       "2011-10-03  140325.1600  30029.4241  601.7209\n",
       "2011-10-04  138756.2500  30534.0676  642.1156\n",
       "2011-10-05  143073.0625  31275.9225  670.2921\n",
       "2011-10-06  142408.1169  33011.2561  693.7956\n",
       "2011-10-07  136752.0400  33266.1121  689.0625\n",
       "2011-10-10  151173.2161  34827.0244  725.7636\n",
       "2011-10-11  160232.0841  34225.0000  729.0000\n",
       "2011-10-12  161756.7961  34640.6544  726.8416\n",
       "2011-10-13  166815.0649  34901.7124  738.7524\n",
       "2011-10-14  178084.0000  36301.6809  743.6529"
      ]
     },
     "execution_count": 129,
     "metadata": {},
     "output_type": "execute_result"
    }
   ],
   "source": [
    "df.apply(lambda x : x**2) #l'apply applica a ciascun valore (elemento per elemento) ma la media mean mi da un\n",
    "#solo valore"
   ]
  },
  {
   "cell_type": "code",
   "execution_count": 130,
   "metadata": {
    "collapsed": false
   },
   "outputs": [
    {
     "data": {
      "text/html": [
       "<div>\n",
       "<table border=\"1\" class=\"dataframe\">\n",
       "  <thead>\n",
       "    <tr style=\"text-align: right;\">\n",
       "      <th></th>\n",
       "      <th>AA</th>\n",
       "      <th>AAPL</th>\n",
       "      <th>GE</th>\n",
       "      <th>IBM</th>\n",
       "      <th>JNJ</th>\n",
       "      <th>MSFT</th>\n",
       "      <th>PEP</th>\n",
       "      <th>SPX</th>\n",
       "      <th>XOM</th>\n",
       "    </tr>\n",
       "  </thead>\n",
       "  <tbody>\n",
       "    <tr>\n",
       "      <th>2007-10-29</th>\n",
       "      <td>3.621938</td>\n",
       "      <td>5.220842</td>\n",
       "      <td>3.539799</td>\n",
       "      <td>4.670771</td>\n",
       "      <td>4.045329</td>\n",
       "      <td>3.458837</td>\n",
       "      <td>4.184642</td>\n",
       "      <td>7.340174</td>\n",
       "      <td>4.448633</td>\n",
       "    </tr>\n",
       "    <tr>\n",
       "      <th>2007-10-30</th>\n",
       "      <td>3.595393</td>\n",
       "      <td>5.231109</td>\n",
       "      <td>3.537766</td>\n",
       "      <td>4.664853</td>\n",
       "      <td>4.042876</td>\n",
       "      <td>3.487375</td>\n",
       "      <td>4.186620</td>\n",
       "      <td>7.333689</td>\n",
       "      <td>4.421848</td>\n",
       "    </tr>\n",
       "    <tr>\n",
       "      <th>2007-10-31</th>\n",
       "      <td>3.605226</td>\n",
       "      <td>5.246761</td>\n",
       "      <td>3.554491</td>\n",
       "      <td>4.682224</td>\n",
       "      <td>4.048301</td>\n",
       "      <td>3.521644</td>\n",
       "      <td>4.184947</td>\n",
       "      <td>7.345610</td>\n",
       "      <td>4.431174</td>\n",
       "    </tr>\n",
       "    <tr>\n",
       "      <th>2007-11-01</th>\n",
       "      <td>3.561614</td>\n",
       "      <td>5.233459</td>\n",
       "      <td>3.534270</td>\n",
       "      <td>4.660794</td>\n",
       "      <td>4.040416</td>\n",
       "      <td>3.528417</td>\n",
       "      <td>4.166820</td>\n",
       "      <td>7.318831</td>\n",
       "      <td>4.392472</td>\n",
       "    </tr>\n",
       "    <tr>\n",
       "      <th>2007-11-02</th>\n",
       "      <td>3.578786</td>\n",
       "      <td>5.235750</td>\n",
       "      <td>3.534270</td>\n",
       "      <td>4.668990</td>\n",
       "      <td>4.042174</td>\n",
       "      <td>3.528417</td>\n",
       "      <td>4.174849</td>\n",
       "      <td>7.319633</td>\n",
       "      <td>4.386019</td>\n",
       "    </tr>\n",
       "    <tr>\n",
       "      <th>2007-11-05</th>\n",
       "      <td>3.561614</td>\n",
       "      <td>5.226714</td>\n",
       "      <td>3.530763</td>\n",
       "      <td>4.658521</td>\n",
       "      <td>4.037774</td>\n",
       "      <td>3.519573</td>\n",
       "      <td>4.171923</td>\n",
       "      <td>7.314666</td>\n",
       "      <td>4.382901</td>\n",
       "    </tr>\n",
       "    <tr>\n",
       "      <th>2007-11-06</th>\n",
       "      <td>3.579065</td>\n",
       "      <td>5.256401</td>\n",
       "      <td>3.530470</td>\n",
       "      <td>4.656528</td>\n",
       "      <td>4.039536</td>\n",
       "      <td>3.510650</td>\n",
       "      <td>4.181897</td>\n",
       "      <td>7.326643</td>\n",
       "      <td>4.413525</td>\n",
       "    </tr>\n",
       "    <tr>\n",
       "      <th>2007-11-07</th>\n",
       "      <td>3.548467</td>\n",
       "      <td>5.227358</td>\n",
       "      <td>3.502550</td>\n",
       "      <td>4.641406</td>\n",
       "      <td>4.028739</td>\n",
       "      <td>3.485845</td>\n",
       "      <td>4.166045</td>\n",
       "      <td>7.296834</td>\n",
       "      <td>4.381527</td>\n",
       "    </tr>\n",
       "    <tr>\n",
       "      <th>2007-11-08</th>\n",
       "      <td>3.555348</td>\n",
       "      <td>5.167468</td>\n",
       "      <td>3.501043</td>\n",
       "      <td>4.595625</td>\n",
       "      <td>4.039360</td>\n",
       "      <td>3.463859</td>\n",
       "      <td>4.182050</td>\n",
       "      <td>7.296257</td>\n",
       "      <td>4.406719</td>\n",
       "    </tr>\n",
       "    <tr>\n",
       "      <th>2007-11-09</th>\n",
       "      <td>3.540089</td>\n",
       "      <td>5.108185</td>\n",
       "      <td>3.484619</td>\n",
       "      <td>4.538817</td>\n",
       "      <td>4.048126</td>\n",
       "      <td>3.434310</td>\n",
       "      <td>4.181745</td>\n",
       "      <td>7.281867</td>\n",
       "      <td>4.377516</td>\n",
       "    </tr>\n",
       "    <tr>\n",
       "      <th>2007-11-12</th>\n",
       "      <td>3.506458</td>\n",
       "      <td>5.035393</td>\n",
       "      <td>3.481240</td>\n",
       "      <td>4.550714</td>\n",
       "      <td>4.065602</td>\n",
       "      <td>3.423937</td>\n",
       "      <td>4.169297</td>\n",
       "      <td>7.271829</td>\n",
       "      <td>4.350536</td>\n",
       "    </tr>\n",
       "    <tr>\n",
       "      <th>2007-11-13</th>\n",
       "      <td>3.527536</td>\n",
       "      <td>5.135563</td>\n",
       "      <td>3.505858</td>\n",
       "      <td>4.587719</td>\n",
       "      <td>4.080584</td>\n",
       "      <td>3.459152</td>\n",
       "      <td>4.179757</td>\n",
       "      <td>7.300507</td>\n",
       "      <td>4.377893</td>\n",
       "    </tr>\n",
       "    <tr>\n",
       "      <th>2007-11-14</th>\n",
       "      <td>3.533687</td>\n",
       "      <td>5.112650</td>\n",
       "      <td>3.500741</td>\n",
       "      <td>4.570165</td>\n",
       "      <td>4.074312</td>\n",
       "      <td>3.443618</td>\n",
       "      <td>4.189503</td>\n",
       "      <td>7.293412</td>\n",
       "      <td>4.371345</td>\n",
       "    </tr>\n",
       "    <tr>\n",
       "      <th>2007-11-15</th>\n",
       "      <td>3.519277</td>\n",
       "      <td>5.101694</td>\n",
       "      <td>3.482777</td>\n",
       "      <td>4.571717</td>\n",
       "      <td>4.074142</td>\n",
       "      <td>3.438493</td>\n",
       "      <td>4.183118</td>\n",
       "      <td>7.280112</td>\n",
       "      <td>4.350020</td>\n",
       "    </tr>\n",
       "    <tr>\n",
       "      <th>2007-11-16</th>\n",
       "      <td>3.518684</td>\n",
       "      <td>5.114334</td>\n",
       "      <td>3.491647</td>\n",
       "      <td>4.583129</td>\n",
       "      <td>4.086984</td>\n",
       "      <td>3.448081</td>\n",
       "      <td>4.190866</td>\n",
       "      <td>7.285328</td>\n",
       "      <td>4.357222</td>\n",
       "    </tr>\n",
       "    <tr>\n",
       "      <th>2007-11-19</th>\n",
       "      <td>3.484005</td>\n",
       "      <td>5.099562</td>\n",
       "      <td>3.478776</td>\n",
       "      <td>4.558288</td>\n",
       "      <td>4.084631</td>\n",
       "      <td>3.444257</td>\n",
       "      <td>4.203199</td>\n",
       "      <td>7.267714</td>\n",
       "      <td>4.345492</td>\n",
       "    </tr>\n",
       "    <tr>\n",
       "      <th>2007-11-20</th>\n",
       "      <td>3.492865</td>\n",
       "      <td>5.129011</td>\n",
       "      <td>3.475686</td>\n",
       "      <td>4.569957</td>\n",
       "      <td>4.085472</td>\n",
       "      <td>3.462606</td>\n",
       "      <td>4.200055</td>\n",
       "      <td>7.272190</td>\n",
       "      <td>4.388630</td>\n",
       "    </tr>\n",
       "    <tr>\n",
       "      <th>2007-11-21</th>\n",
       "      <td>3.486763</td>\n",
       "      <td>5.126698</td>\n",
       "      <td>3.452524</td>\n",
       "      <td>4.558288</td>\n",
       "      <td>4.078046</td>\n",
       "      <td>3.452207</td>\n",
       "      <td>4.202750</td>\n",
       "      <td>7.256135</td>\n",
       "      <td>4.379774</td>\n",
       "    </tr>\n",
       "    <tr>\n",
       "      <th>2007-11-23</th>\n",
       "      <td>3.486151</td>\n",
       "      <td>5.144816</td>\n",
       "      <td>3.466048</td>\n",
       "      <td>4.576050</td>\n",
       "      <td>4.080246</td>\n",
       "      <td>3.448717</td>\n",
       "      <td>4.209012</td>\n",
       "      <td>7.272884</td>\n",
       "      <td>4.393955</td>\n",
       "    </tr>\n",
       "    <tr>\n",
       "      <th>2007-11-26</th>\n",
       "      <td>3.478467</td>\n",
       "      <td>5.150629</td>\n",
       "      <td>3.440739</td>\n",
       "      <td>4.555875</td>\n",
       "      <td>4.087656</td>\n",
       "      <td>3.414772</td>\n",
       "      <td>4.198104</td>\n",
       "      <td>7.249371</td>\n",
       "      <td>4.363990</td>\n",
       "    </tr>\n",
       "    <tr>\n",
       "      <th>2007-11-27</th>\n",
       "      <td>3.483085</td>\n",
       "      <td>5.163700</td>\n",
       "      <td>3.460095</td>\n",
       "      <td>4.573886</td>\n",
       "      <td>4.093010</td>\n",
       "      <td>3.417399</td>\n",
       "      <td>4.214347</td>\n",
       "      <td>7.264191</td>\n",
       "      <td>4.372103</td>\n",
       "    </tr>\n",
       "    <tr>\n",
       "      <th>2007-11-28</th>\n",
       "      <td>3.516013</td>\n",
       "      <td>5.194178</td>\n",
       "      <td>3.486763</td>\n",
       "      <td>4.607468</td>\n",
       "      <td>4.101982</td>\n",
       "      <td>3.436565</td>\n",
       "      <td>4.230622</td>\n",
       "      <td>7.292351</td>\n",
       "      <td>4.389747</td>\n",
       "    </tr>\n",
       "    <tr>\n",
       "      <th>2007-11-29</th>\n",
       "      <td>3.525478</td>\n",
       "      <td>5.216511</td>\n",
       "      <td>3.478158</td>\n",
       "      <td>4.608664</td>\n",
       "      <td>4.102809</td>\n",
       "      <td>3.433342</td>\n",
       "      <td>4.222445</td>\n",
       "      <td>7.292827</td>\n",
       "      <td>4.397408</td>\n",
       "    </tr>\n",
       "    <tr>\n",
       "      <th>2007-11-30</th>\n",
       "      <td>3.520461</td>\n",
       "      <td>5.205215</td>\n",
       "      <td>3.482163</td>\n",
       "      <td>4.586803</td>\n",
       "      <td>4.093177</td>\n",
       "      <td>3.433665</td>\n",
       "      <td>4.230913</td>\n",
       "      <td>7.300567</td>\n",
       "      <td>4.403788</td>\n",
       "    </tr>\n",
       "    <tr>\n",
       "      <th>2007-12-03</th>\n",
       "      <td>3.495901</td>\n",
       "      <td>5.186603</td>\n",
       "      <td>3.446171</td>\n",
       "      <td>4.592996</td>\n",
       "      <td>4.092677</td>\n",
       "      <td>3.413126</td>\n",
       "      <td>4.223031</td>\n",
       "      <td>7.294663</td>\n",
       "      <td>4.400358</td>\n",
       "    </tr>\n",
       "    <tr>\n",
       "      <th>2007-12-04</th>\n",
       "      <td>3.489208</td>\n",
       "      <td>5.191901</td>\n",
       "      <td>3.427515</td>\n",
       "      <td>4.600560</td>\n",
       "      <td>4.096010</td>\n",
       "      <td>3.408835</td>\n",
       "      <td>4.223910</td>\n",
       "      <td>7.288101</td>\n",
       "      <td>4.392101</td>\n",
       "    </tr>\n",
       "    <tr>\n",
       "      <th>2007-12-05</th>\n",
       "      <td>3.499231</td>\n",
       "      <td>5.223055</td>\n",
       "      <td>3.440098</td>\n",
       "      <td>4.614823</td>\n",
       "      <td>4.099995</td>\n",
       "      <td>3.449988</td>\n",
       "      <td>4.223910</td>\n",
       "      <td>7.303177</td>\n",
       "      <td>4.412313</td>\n",
       "    </tr>\n",
       "    <tr>\n",
       "      <th>2007-12-06</th>\n",
       "      <td>3.506158</td>\n",
       "      <td>5.246761</td>\n",
       "      <td>3.455054</td>\n",
       "      <td>4.628887</td>\n",
       "      <td>4.101320</td>\n",
       "      <td>3.461665</td>\n",
       "      <td>4.233817</td>\n",
       "      <td>7.318102</td>\n",
       "      <td>4.429029</td>\n",
       "    </tr>\n",
       "    <tr>\n",
       "      <th>2007-12-07</th>\n",
       "      <td>3.535145</td>\n",
       "      <td>5.269403</td>\n",
       "      <td>3.454106</td>\n",
       "      <td>4.621240</td>\n",
       "      <td>4.092176</td>\n",
       "      <td>3.461037</td>\n",
       "      <td>4.233382</td>\n",
       "      <td>7.316322</td>\n",
       "      <td>4.429745</td>\n",
       "    </tr>\n",
       "    <tr>\n",
       "      <th>2007-12-10</th>\n",
       "      <td>3.560193</td>\n",
       "      <td>5.268940</td>\n",
       "      <td>3.458837</td>\n",
       "      <td>4.626051</td>\n",
       "      <td>4.093844</td>\n",
       "      <td>3.467609</td>\n",
       "      <td>4.237001</td>\n",
       "      <td>7.323804</td>\n",
       "      <td>4.435449</td>\n",
       "    </tr>\n",
       "    <tr>\n",
       "      <th>...</th>\n",
       "      <td>...</td>\n",
       "      <td>...</td>\n",
       "      <td>...</td>\n",
       "      <td>...</td>\n",
       "      <td>...</td>\n",
       "      <td>...</td>\n",
       "      <td>...</td>\n",
       "      <td>...</td>\n",
       "      <td>...</td>\n",
       "    </tr>\n",
       "    <tr>\n",
       "      <th>2011-09-02</th>\n",
       "      <td>2.488234</td>\n",
       "      <td>5.924389</td>\n",
       "      <td>2.747912</td>\n",
       "      <td>5.117874</td>\n",
       "      <td>4.159976</td>\n",
       "      <td>3.250374</td>\n",
       "      <td>4.147885</td>\n",
       "      <td>7.068146</td>\n",
       "      <td>4.278609</td>\n",
       "    </tr>\n",
       "    <tr>\n",
       "      <th>2011-09-06</th>\n",
       "      <td>2.465554</td>\n",
       "      <td>5.939487</td>\n",
       "      <td>2.715357</td>\n",
       "      <td>5.106612</td>\n",
       "      <td>4.168833</td>\n",
       "      <td>3.239071</td>\n",
       "      <td>4.134366</td>\n",
       "      <td>7.060682</td>\n",
       "      <td>4.264790</td>\n",
       "    </tr>\n",
       "    <tr>\n",
       "      <th>2011-09-07</th>\n",
       "      <td>2.505526</td>\n",
       "      <td>5.950460</td>\n",
       "      <td>2.750471</td>\n",
       "      <td>5.119848</td>\n",
       "      <td>4.180981</td>\n",
       "      <td>3.258097</td>\n",
       "      <td>4.120986</td>\n",
       "      <td>7.088926</td>\n",
       "      <td>4.299324</td>\n",
       "    </tr>\n",
       "    <tr>\n",
       "      <th>2011-09-08</th>\n",
       "      <td>2.487404</td>\n",
       "      <td>5.951007</td>\n",
       "      <td>2.736962</td>\n",
       "      <td>5.107459</td>\n",
       "      <td>4.173618</td>\n",
       "      <td>3.266522</td>\n",
       "      <td>4.116432</td>\n",
       "      <td>7.078257</td>\n",
       "      <td>4.287991</td>\n",
       "    </tr>\n",
       "    <tr>\n",
       "      <th>2011-09-09</th>\n",
       "      <td>2.449279</td>\n",
       "      <td>5.933518</td>\n",
       "      <td>2.704711</td>\n",
       "      <td>5.083700</td>\n",
       "      <td>4.153242</td>\n",
       "      <td>3.248046</td>\n",
       "      <td>4.094178</td>\n",
       "      <td>7.051189</td>\n",
       "      <td>4.262821</td>\n",
       "    </tr>\n",
       "    <tr>\n",
       "      <th>2011-09-12</th>\n",
       "      <td>2.446685</td>\n",
       "      <td>5.940013</td>\n",
       "      <td>2.699346</td>\n",
       "      <td>5.090186</td>\n",
       "      <td>4.152456</td>\n",
       "      <td>3.253857</td>\n",
       "      <td>4.096675</td>\n",
       "      <td>7.058130</td>\n",
       "      <td>4.274441</td>\n",
       "    </tr>\n",
       "    <tr>\n",
       "      <th>2011-09-13</th>\n",
       "      <td>2.453588</td>\n",
       "      <td>5.952256</td>\n",
       "      <td>2.725235</td>\n",
       "      <td>5.096385</td>\n",
       "      <td>4.152771</td>\n",
       "      <td>3.259634</td>\n",
       "      <td>4.103304</td>\n",
       "      <td>7.067209</td>\n",
       "      <td>4.271793</td>\n",
       "    </tr>\n",
       "    <tr>\n",
       "      <th>2011-09-14</th>\n",
       "      <td>2.462150</td>\n",
       "      <td>5.964350</td>\n",
       "      <td>2.749832</td>\n",
       "      <td>5.119430</td>\n",
       "      <td>4.154655</td>\n",
       "      <td>3.277145</td>\n",
       "      <td>4.120337</td>\n",
       "      <td>7.080599</td>\n",
       "      <td>4.285516</td>\n",
       "    </tr>\n",
       "    <tr>\n",
       "      <th>2011-09-15</th>\n",
       "      <td>2.483239</td>\n",
       "      <td>5.973708</td>\n",
       "      <td>2.777576</td>\n",
       "      <td>5.136328</td>\n",
       "      <td>4.165114</td>\n",
       "      <td>3.295466</td>\n",
       "      <td>4.146621</td>\n",
       "      <td>7.097640</td>\n",
       "      <td>4.304200</td>\n",
       "    </tr>\n",
       "    <tr>\n",
       "      <th>2011-09-16</th>\n",
       "      <td>2.482404</td>\n",
       "      <td>5.992714</td>\n",
       "      <td>2.793004</td>\n",
       "      <td>5.153234</td>\n",
       "      <td>4.168060</td>\n",
       "      <td>3.300271</td>\n",
       "      <td>4.127941</td>\n",
       "      <td>7.103330</td>\n",
       "      <td>4.311470</td>\n",
       "    </tr>\n",
       "    <tr>\n",
       "      <th>2011-09-19</th>\n",
       "      <td>2.449279</td>\n",
       "      <td>6.020125</td>\n",
       "      <td>2.783776</td>\n",
       "      <td>5.154043</td>\n",
       "      <td>4.161068</td>\n",
       "      <td>3.303585</td>\n",
       "      <td>4.103635</td>\n",
       "      <td>7.093479</td>\n",
       "      <td>4.300003</td>\n",
       "    </tr>\n",
       "    <tr>\n",
       "      <th>2011-09-20</th>\n",
       "      <td>2.420368</td>\n",
       "      <td>6.024537</td>\n",
       "      <td>2.775086</td>\n",
       "      <td>5.163185</td>\n",
       "      <td>4.162315</td>\n",
       "      <td>3.295096</td>\n",
       "      <td>4.100824</td>\n",
       "      <td>7.091817</td>\n",
       "      <td>4.304200</td>\n",
       "    </tr>\n",
       "    <tr>\n",
       "      <th>2011-09-21</th>\n",
       "      <td>2.383243</td>\n",
       "      <td>6.021363</td>\n",
       "      <td>2.733068</td>\n",
       "      <td>5.153407</td>\n",
       "      <td>4.145196</td>\n",
       "      <td>3.257712</td>\n",
       "      <td>4.107425</td>\n",
       "      <td>7.061986</td>\n",
       "      <td>4.276249</td>\n",
       "    </tr>\n",
       "    <tr>\n",
       "      <th>2011-09-22</th>\n",
       "      <td>2.313525</td>\n",
       "      <td>5.996004</td>\n",
       "      <td>2.710713</td>\n",
       "      <td>5.127648</td>\n",
       "      <td>4.125843</td>\n",
       "      <td>3.221273</td>\n",
       "      <td>4.109562</td>\n",
       "      <td>7.029583</td>\n",
       "      <td>4.237579</td>\n",
       "    </tr>\n",
       "    <tr>\n",
       "      <th>2011-09-23</th>\n",
       "      <td>2.309561</td>\n",
       "      <td>6.002157</td>\n",
       "      <td>2.721953</td>\n",
       "      <td>5.131909</td>\n",
       "      <td>4.120500</td>\n",
       "      <td>3.221273</td>\n",
       "      <td>4.099995</td>\n",
       "      <td>7.035647</td>\n",
       "      <td>4.238589</td>\n",
       "    </tr>\n",
       "    <tr>\n",
       "      <th>2011-09-26</th>\n",
       "      <td>2.346602</td>\n",
       "      <td>5.999358</td>\n",
       "      <td>2.745346</td>\n",
       "      <td>5.161982</td>\n",
       "      <td>4.138202</td>\n",
       "      <td>3.236323</td>\n",
       "      <td>4.125359</td>\n",
       "      <td>7.058715</td>\n",
       "      <td>4.272770</td>\n",
       "    </tr>\n",
       "    <tr>\n",
       "      <th>2011-09-27</th>\n",
       "      <td>2.349469</td>\n",
       "      <td>5.989613</td>\n",
       "      <td>2.757475</td>\n",
       "      <td>5.180153</td>\n",
       "      <td>4.156067</td>\n",
       "      <td>3.245323</td>\n",
       "      <td>4.134046</td>\n",
       "      <td>7.069347</td>\n",
       "      <td>4.289226</td>\n",
       "    </tr>\n",
       "    <tr>\n",
       "      <th>2011-09-28</th>\n",
       "      <td>2.299581</td>\n",
       "      <td>5.983961</td>\n",
       "      <td>2.737609</td>\n",
       "      <td>5.179252</td>\n",
       "      <td>4.147095</td>\n",
       "      <td>3.241811</td>\n",
       "      <td>4.126650</td>\n",
       "      <td>7.048439</td>\n",
       "      <td>4.277638</td>\n",
       "    </tr>\n",
       "    <tr>\n",
       "      <th>2011-09-29</th>\n",
       "      <td>2.308567</td>\n",
       "      <td>5.967607</td>\n",
       "      <td>2.763800</td>\n",
       "      <td>5.188335</td>\n",
       "      <td>4.157319</td>\n",
       "      <td>3.236716</td>\n",
       "      <td>4.136446</td>\n",
       "      <td>7.056520</td>\n",
       "      <td>4.302442</td>\n",
       "    </tr>\n",
       "    <tr>\n",
       "      <th>2011-09-30</th>\n",
       "      <td>2.258633</td>\n",
       "      <td>5.943639</td>\n",
       "      <td>2.722610</td>\n",
       "      <td>5.164043</td>\n",
       "      <td>4.154028</td>\n",
       "      <td>3.214466</td>\n",
       "      <td>4.125520</td>\n",
       "      <td>7.031229</td>\n",
       "      <td>4.285378</td>\n",
       "    </tr>\n",
       "    <tr>\n",
       "      <th>2011-10-03</th>\n",
       "      <td>2.186051</td>\n",
       "      <td>5.925859</td>\n",
       "      <td>2.687167</td>\n",
       "      <td>5.154966</td>\n",
       "      <td>4.128424</td>\n",
       "      <td>3.199897</td>\n",
       "      <td>4.099166</td>\n",
       "      <td>7.002365</td>\n",
       "      <td>4.264790</td>\n",
       "    </tr>\n",
       "    <tr>\n",
       "      <th>2011-10-04</th>\n",
       "      <td>2.210470</td>\n",
       "      <td>5.920237</td>\n",
       "      <td>2.698673</td>\n",
       "      <td>5.163299</td>\n",
       "      <td>4.129873</td>\n",
       "      <td>3.232384</td>\n",
       "      <td>4.101817</td>\n",
       "      <td>7.024605</td>\n",
       "      <td>4.288128</td>\n",
       "    </tr>\n",
       "    <tr>\n",
       "      <th>2011-10-05</th>\n",
       "      <td>2.237513</td>\n",
       "      <td>5.935555</td>\n",
       "      <td>2.725890</td>\n",
       "      <td>5.175302</td>\n",
       "      <td>4.132764</td>\n",
       "      <td>3.253857</td>\n",
       "      <td>4.099166</td>\n",
       "      <td>7.042312</td>\n",
       "      <td>4.303389</td>\n",
       "    </tr>\n",
       "    <tr>\n",
       "      <th>2011-10-06</th>\n",
       "      <td>2.290513</td>\n",
       "      <td>5.933226</td>\n",
       "      <td>2.742774</td>\n",
       "      <td>5.202302</td>\n",
       "      <td>4.140114</td>\n",
       "      <td>3.271089</td>\n",
       "      <td>4.103800</td>\n",
       "      <td>7.060451</td>\n",
       "      <td>4.302578</td>\n",
       "    </tr>\n",
       "    <tr>\n",
       "      <th>2011-10-07</th>\n",
       "      <td>2.273156</td>\n",
       "      <td>5.912962</td>\n",
       "      <td>2.740840</td>\n",
       "      <td>5.206147</td>\n",
       "      <td>4.145196</td>\n",
       "      <td>3.267666</td>\n",
       "      <td>4.111202</td>\n",
       "      <td>7.052254</td>\n",
       "      <td>4.298101</td>\n",
       "    </tr>\n",
       "    <tr>\n",
       "      <th>2011-10-10</th>\n",
       "      <td>2.311545</td>\n",
       "      <td>5.963091</td>\n",
       "      <td>2.781301</td>\n",
       "      <td>5.229074</td>\n",
       "      <td>4.165579</td>\n",
       "      <td>3.293612</td>\n",
       "      <td>4.125035</td>\n",
       "      <td>7.085809</td>\n",
       "      <td>4.334411</td>\n",
       "    </tr>\n",
       "    <tr>\n",
       "      <th>2011-10-11</th>\n",
       "      <td>2.332144</td>\n",
       "      <td>5.992189</td>\n",
       "      <td>2.781301</td>\n",
       "      <td>5.220356</td>\n",
       "      <td>4.158258</td>\n",
       "      <td>3.295837</td>\n",
       "      <td>4.110054</td>\n",
       "      <td>7.086353</td>\n",
       "      <td>4.334280</td>\n",
       "    </tr>\n",
       "    <tr>\n",
       "      <th>2011-10-12</th>\n",
       "      <td>2.307573</td>\n",
       "      <td>5.996925</td>\n",
       "      <td>2.797281</td>\n",
       "      <td>5.226392</td>\n",
       "      <td>4.164026</td>\n",
       "      <td>3.294354</td>\n",
       "      <td>4.138361</td>\n",
       "      <td>7.096100</td>\n",
       "      <td>4.345881</td>\n",
       "    </tr>\n",
       "    <tr>\n",
       "      <th>2011-10-13</th>\n",
       "      <td>2.312535</td>\n",
       "      <td>6.012321</td>\n",
       "      <td>2.786245</td>\n",
       "      <td>5.230146</td>\n",
       "      <td>4.162470</td>\n",
       "      <td>3.302481</td>\n",
       "      <td>4.132924</td>\n",
       "      <td>7.093122</td>\n",
       "      <td>4.335590</td>\n",
       "    </tr>\n",
       "    <tr>\n",
       "      <th>2011-10-14</th>\n",
       "      <td>2.328253</td>\n",
       "      <td>6.045005</td>\n",
       "      <td>2.809403</td>\n",
       "      <td>5.249810</td>\n",
       "      <td>4.170070</td>\n",
       "      <td>3.305787</td>\n",
       "      <td>4.130998</td>\n",
       "      <td>7.110353</td>\n",
       "      <td>4.358118</td>\n",
       "    </tr>\n",
       "  </tbody>\n",
       "</table>\n",
       "<p>1000 rows × 9 columns</p>\n",
       "</div>"
      ],
      "text/plain": [
       "                  AA      AAPL        GE       IBM       JNJ      MSFT  \\\n",
       "2007-10-29  3.621938  5.220842  3.539799  4.670771  4.045329  3.458837   \n",
       "2007-10-30  3.595393  5.231109  3.537766  4.664853  4.042876  3.487375   \n",
       "2007-10-31  3.605226  5.246761  3.554491  4.682224  4.048301  3.521644   \n",
       "2007-11-01  3.561614  5.233459  3.534270  4.660794  4.040416  3.528417   \n",
       "2007-11-02  3.578786  5.235750  3.534270  4.668990  4.042174  3.528417   \n",
       "2007-11-05  3.561614  5.226714  3.530763  4.658521  4.037774  3.519573   \n",
       "2007-11-06  3.579065  5.256401  3.530470  4.656528  4.039536  3.510650   \n",
       "2007-11-07  3.548467  5.227358  3.502550  4.641406  4.028739  3.485845   \n",
       "2007-11-08  3.555348  5.167468  3.501043  4.595625  4.039360  3.463859   \n",
       "2007-11-09  3.540089  5.108185  3.484619  4.538817  4.048126  3.434310   \n",
       "2007-11-12  3.506458  5.035393  3.481240  4.550714  4.065602  3.423937   \n",
       "2007-11-13  3.527536  5.135563  3.505858  4.587719  4.080584  3.459152   \n",
       "2007-11-14  3.533687  5.112650  3.500741  4.570165  4.074312  3.443618   \n",
       "2007-11-15  3.519277  5.101694  3.482777  4.571717  4.074142  3.438493   \n",
       "2007-11-16  3.518684  5.114334  3.491647  4.583129  4.086984  3.448081   \n",
       "2007-11-19  3.484005  5.099562  3.478776  4.558288  4.084631  3.444257   \n",
       "2007-11-20  3.492865  5.129011  3.475686  4.569957  4.085472  3.462606   \n",
       "2007-11-21  3.486763  5.126698  3.452524  4.558288  4.078046  3.452207   \n",
       "2007-11-23  3.486151  5.144816  3.466048  4.576050  4.080246  3.448717   \n",
       "2007-11-26  3.478467  5.150629  3.440739  4.555875  4.087656  3.414772   \n",
       "2007-11-27  3.483085  5.163700  3.460095  4.573886  4.093010  3.417399   \n",
       "2007-11-28  3.516013  5.194178  3.486763  4.607468  4.101982  3.436565   \n",
       "2007-11-29  3.525478  5.216511  3.478158  4.608664  4.102809  3.433342   \n",
       "2007-11-30  3.520461  5.205215  3.482163  4.586803  4.093177  3.433665   \n",
       "2007-12-03  3.495901  5.186603  3.446171  4.592996  4.092677  3.413126   \n",
       "2007-12-04  3.489208  5.191901  3.427515  4.600560  4.096010  3.408835   \n",
       "2007-12-05  3.499231  5.223055  3.440098  4.614823  4.099995  3.449988   \n",
       "2007-12-06  3.506158  5.246761  3.455054  4.628887  4.101320  3.461665   \n",
       "2007-12-07  3.535145  5.269403  3.454106  4.621240  4.092176  3.461037   \n",
       "2007-12-10  3.560193  5.268940  3.458837  4.626051  4.093844  3.467609   \n",
       "...              ...       ...       ...       ...       ...       ...   \n",
       "2011-09-02  2.488234  5.924389  2.747912  5.117874  4.159976  3.250374   \n",
       "2011-09-06  2.465554  5.939487  2.715357  5.106612  4.168833  3.239071   \n",
       "2011-09-07  2.505526  5.950460  2.750471  5.119848  4.180981  3.258097   \n",
       "2011-09-08  2.487404  5.951007  2.736962  5.107459  4.173618  3.266522   \n",
       "2011-09-09  2.449279  5.933518  2.704711  5.083700  4.153242  3.248046   \n",
       "2011-09-12  2.446685  5.940013  2.699346  5.090186  4.152456  3.253857   \n",
       "2011-09-13  2.453588  5.952256  2.725235  5.096385  4.152771  3.259634   \n",
       "2011-09-14  2.462150  5.964350  2.749832  5.119430  4.154655  3.277145   \n",
       "2011-09-15  2.483239  5.973708  2.777576  5.136328  4.165114  3.295466   \n",
       "2011-09-16  2.482404  5.992714  2.793004  5.153234  4.168060  3.300271   \n",
       "2011-09-19  2.449279  6.020125  2.783776  5.154043  4.161068  3.303585   \n",
       "2011-09-20  2.420368  6.024537  2.775086  5.163185  4.162315  3.295096   \n",
       "2011-09-21  2.383243  6.021363  2.733068  5.153407  4.145196  3.257712   \n",
       "2011-09-22  2.313525  5.996004  2.710713  5.127648  4.125843  3.221273   \n",
       "2011-09-23  2.309561  6.002157  2.721953  5.131909  4.120500  3.221273   \n",
       "2011-09-26  2.346602  5.999358  2.745346  5.161982  4.138202  3.236323   \n",
       "2011-09-27  2.349469  5.989613  2.757475  5.180153  4.156067  3.245323   \n",
       "2011-09-28  2.299581  5.983961  2.737609  5.179252  4.147095  3.241811   \n",
       "2011-09-29  2.308567  5.967607  2.763800  5.188335  4.157319  3.236716   \n",
       "2011-09-30  2.258633  5.943639  2.722610  5.164043  4.154028  3.214466   \n",
       "2011-10-03  2.186051  5.925859  2.687167  5.154966  4.128424  3.199897   \n",
       "2011-10-04  2.210470  5.920237  2.698673  5.163299  4.129873  3.232384   \n",
       "2011-10-05  2.237513  5.935555  2.725890  5.175302  4.132764  3.253857   \n",
       "2011-10-06  2.290513  5.933226  2.742774  5.202302  4.140114  3.271089   \n",
       "2011-10-07  2.273156  5.912962  2.740840  5.206147  4.145196  3.267666   \n",
       "2011-10-10  2.311545  5.963091  2.781301  5.229074  4.165579  3.293612   \n",
       "2011-10-11  2.332144  5.992189  2.781301  5.220356  4.158258  3.295837   \n",
       "2011-10-12  2.307573  5.996925  2.797281  5.226392  4.164026  3.294354   \n",
       "2011-10-13  2.312535  6.012321  2.786245  5.230146  4.162470  3.302481   \n",
       "2011-10-14  2.328253  6.045005  2.809403  5.249810  4.170070  3.305787   \n",
       "\n",
       "                 PEP       SPX       XOM  \n",
       "2007-10-29  4.184642  7.340174  4.448633  \n",
       "2007-10-30  4.186620  7.333689  4.421848  \n",
       "2007-10-31  4.184947  7.345610  4.431174  \n",
       "2007-11-01  4.166820  7.318831  4.392472  \n",
       "2007-11-02  4.174849  7.319633  4.386019  \n",
       "2007-11-05  4.171923  7.314666  4.382901  \n",
       "2007-11-06  4.181897  7.326643  4.413525  \n",
       "2007-11-07  4.166045  7.296834  4.381527  \n",
       "2007-11-08  4.182050  7.296257  4.406719  \n",
       "2007-11-09  4.181745  7.281867  4.377516  \n",
       "2007-11-12  4.169297  7.271829  4.350536  \n",
       "2007-11-13  4.179757  7.300507  4.377893  \n",
       "2007-11-14  4.189503  7.293412  4.371345  \n",
       "2007-11-15  4.183118  7.280112  4.350020  \n",
       "2007-11-16  4.190866  7.285328  4.357222  \n",
       "2007-11-19  4.203199  7.267714  4.345492  \n",
       "2007-11-20  4.200055  7.272190  4.388630  \n",
       "2007-11-21  4.202750  7.256135  4.379774  \n",
       "2007-11-23  4.209012  7.272884  4.393955  \n",
       "2007-11-26  4.198104  7.249371  4.363990  \n",
       "2007-11-27  4.214347  7.264191  4.372103  \n",
       "2007-11-28  4.230622  7.292351  4.389747  \n",
       "2007-11-29  4.222445  7.292827  4.397408  \n",
       "2007-11-30  4.230913  7.300567  4.403788  \n",
       "2007-12-03  4.223031  7.294663  4.400358  \n",
       "2007-12-04  4.223910  7.288101  4.392101  \n",
       "2007-12-05  4.223910  7.303177  4.412313  \n",
       "2007-12-06  4.233817  7.318102  4.429029  \n",
       "2007-12-07  4.233382  7.316322  4.429745  \n",
       "2007-12-10  4.237001  7.323804  4.435449  \n",
       "...              ...       ...       ...  \n",
       "2011-09-02  4.147885  7.068146  4.278609  \n",
       "2011-09-06  4.134366  7.060682  4.264790  \n",
       "2011-09-07  4.120986  7.088926  4.299324  \n",
       "2011-09-08  4.116432  7.078257  4.287991  \n",
       "2011-09-09  4.094178  7.051189  4.262821  \n",
       "2011-09-12  4.096675  7.058130  4.274441  \n",
       "2011-09-13  4.103304  7.067209  4.271793  \n",
       "2011-09-14  4.120337  7.080599  4.285516  \n",
       "2011-09-15  4.146621  7.097640  4.304200  \n",
       "2011-09-16  4.127941  7.103330  4.311470  \n",
       "2011-09-19  4.103635  7.093479  4.300003  \n",
       "2011-09-20  4.100824  7.091817  4.304200  \n",
       "2011-09-21  4.107425  7.061986  4.276249  \n",
       "2011-09-22  4.109562  7.029583  4.237579  \n",
       "2011-09-23  4.099995  7.035647  4.238589  \n",
       "2011-09-26  4.125359  7.058715  4.272770  \n",
       "2011-09-27  4.134046  7.069347  4.289226  \n",
       "2011-09-28  4.126650  7.048439  4.277638  \n",
       "2011-09-29  4.136446  7.056520  4.302442  \n",
       "2011-09-30  4.125520  7.031229  4.285378  \n",
       "2011-10-03  4.099166  7.002365  4.264790  \n",
       "2011-10-04  4.101817  7.024605  4.288128  \n",
       "2011-10-05  4.099166  7.042312  4.303389  \n",
       "2011-10-06  4.103800  7.060451  4.302578  \n",
       "2011-10-07  4.111202  7.052254  4.298101  \n",
       "2011-10-10  4.125035  7.085809  4.334411  \n",
       "2011-10-11  4.110054  7.086353  4.334280  \n",
       "2011-10-12  4.138361  7.096100  4.345881  \n",
       "2011-10-13  4.132924  7.093122  4.335590  \n",
       "2011-10-14  4.130998  7.110353  4.358118  \n",
       "\n",
       "[1000 rows x 9 columns]"
      ]
     },
     "execution_count": 130,
     "metadata": {},
     "output_type": "execute_result"
    }
   ],
   "source": [
    "np.log(close_px)"
   ]
  },
  {
   "cell_type": "markdown",
   "metadata": {},
   "source": [
    "Plotting\n",
    "========\n",
    "\n",
    "Some basic plotting integration with matplotlib in Series / DataFrame"
   ]
  },
  {
   "cell_type": "code",
   "execution_count": null,
   "metadata": {
    "collapsed": false
   },
   "outputs": [],
   "source": [
    "close_px[['AAPL', 'IBM', 'MSFT', 'XOM']].plot()"
   ]
  },
  {
   "cell_type": "code",
   "execution_count": null,
   "metadata": {
    "collapsed": false
   },
   "outputs": [],
   "source": [
    "close_px.ix[-1]"
   ]
  },
  {
   "cell_type": "code",
   "execution_count": null,
   "metadata": {
    "collapsed": false
   },
   "outputs": [],
   "source": [
    "close_px.ix[-1].plot(kind='bar')\n",
    "title('Prices on %s' % close_px.index[-1])\n",
    "axhline(0)"
   ]
  },
  {
   "cell_type": "markdown",
   "metadata": {},
   "source": [
    "GroupBy\n",
    "======="
   ]
  },
  {
   "cell_type": "code",
   "execution_count": null,
   "metadata": {
    "collapsed": false
   },
   "outputs": [],
   "source": [
    "df = pd.DataFrame({'A' : ['foo', 'bar', 'foo', 'bar',\n",
    "                       'foo', 'bar', 'foo', 'foo'],\n",
    "                'B' : ['one', 'one', 'two', 'three',\n",
    "                       'two', 'two', 'one', 'three'],\n",
    "                'C' : np.random.randn(8),\n",
    "                'D' : np.random.randn(8)})\n",
    "df"
   ]
  },
  {
   "cell_type": "code",
   "execution_count": null,
   "metadata": {
    "collapsed": false
   },
   "outputs": [],
   "source": [
    "for key, group in df.groupby('A'):\n",
    "    print key\n",
    "    print group"
   ]
  },
  {
   "cell_type": "code",
   "execution_count": null,
   "metadata": {
    "collapsed": false
   },
   "outputs": [],
   "source": [
    "df.groupby('A')['C'].describe().T"
   ]
  },
  {
   "cell_type": "code",
   "execution_count": null,
   "metadata": {
    "collapsed": false
   },
   "outputs": [],
   "source": [
    "df.groupby('A').mean()"
   ]
  },
  {
   "cell_type": "code",
   "execution_count": null,
   "metadata": {
    "collapsed": false
   },
   "outputs": [],
   "source": [
    "for key, group in df.groupby('A'):\n",
    "    print key\n",
    "    print group"
   ]
  },
  {
   "cell_type": "code",
   "execution_count": null,
   "metadata": {
    "collapsed": false
   },
   "outputs": [],
   "source": [
    "df.groupby(['A', 'B']).mean()"
   ]
  },
  {
   "cell_type": "code",
   "execution_count": null,
   "metadata": {
    "collapsed": false
   },
   "outputs": [],
   "source": [
    "df.groupby(['A', 'B'], as_index=False).mean()"
   ]
  },
  {
   "cell_type": "markdown",
   "metadata": {},
   "source": [
    "---"
   ]
  },
  {
   "cell_type": "markdown",
   "metadata": {},
   "source": [
    "## Analysis of the baby names dataset"
   ]
  },
  {
   "cell_type": "code",
   "execution_count": null,
   "metadata": {
    "collapsed": false
   },
   "outputs": [],
   "source": [
    "names = pd.read_csv('baby-names.csv')"
   ]
  },
  {
   "cell_type": "code",
   "execution_count": null,
   "metadata": {
    "collapsed": false
   },
   "outputs": [],
   "source": [
    "names.head()"
   ]
  },
  {
   "cell_type": "code",
   "execution_count": null,
   "metadata": {
    "collapsed": false
   },
   "outputs": [],
   "source": [
    "names.dtypes"
   ]
  },
  {
   "cell_type": "code",
   "execution_count": null,
   "metadata": {
    "collapsed": false
   },
   "outputs": [],
   "source": [
    "names[names.year == 1880]"
   ]
  },
  {
   "cell_type": "code",
   "execution_count": null,
   "metadata": {
    "collapsed": false
   },
   "outputs": [],
   "source": [
    "names[names.year == 1880].tail()"
   ]
  },
  {
   "cell_type": "code",
   "execution_count": null,
   "metadata": {
    "collapsed": false
   },
   "outputs": [],
   "source": [
    "boys = names[names.sex == 'boy']    \n",
    "girls = names[names.sex == 'girl']"
   ]
  },
  {
   "cell_type": "code",
   "execution_count": null,
   "metadata": {
    "collapsed": false
   },
   "outputs": [],
   "source": [
    "boys.groupby('year')"
   ]
  },
  {
   "cell_type": "code",
   "execution_count": null,
   "metadata": {
    "collapsed": false
   },
   "outputs": [],
   "source": [
    "boys.groupby('year').size()"
   ]
  },
  {
   "cell_type": "code",
   "execution_count": null,
   "metadata": {
    "collapsed": false
   },
   "outputs": [],
   "source": [
    "names.groupby(['year', 'sex']).size()"
   ]
  },
  {
   "cell_type": "code",
   "execution_count": null,
   "metadata": {
    "collapsed": false
   },
   "outputs": [],
   "source": [
    "type(names.groupby(['year', 'sex']).size())"
   ]
  },
  {
   "cell_type": "code",
   "execution_count": null,
   "metadata": {
    "collapsed": false
   },
   "outputs": [],
   "source": [
    "names.groupby(['year', 'sex']).size().ix[2000]    "
   ]
  },
  {
   "cell_type": "code",
   "execution_count": null,
   "metadata": {
    "collapsed": false
   },
   "outputs": [],
   "source": [
    "boys[boys.year == 2000]   "
   ]
  },
  {
   "cell_type": "code",
   "execution_count": null,
   "metadata": {
    "collapsed": false
   },
   "outputs": [],
   "source": [
    "boys[boys.year == 2000].prop"
   ]
  },
  {
   "cell_type": "code",
   "execution_count": null,
   "metadata": {
    "collapsed": false
   },
   "outputs": [],
   "source": [
    "boys[boys.year == 2000][:5]"
   ]
  },
  {
   "cell_type": "code",
   "execution_count": null,
   "metadata": {
    "collapsed": false
   },
   "outputs": [],
   "source": [
    "boys[boys.year == 2000].prop.idxmax()"
   ]
  },
  {
   "cell_type": "code",
   "execution_count": null,
   "metadata": {
    "collapsed": false
   },
   "outputs": [],
   "source": [
    "boys.ix[boys[boys.year == 2000].prop.idxmax()] "
   ]
  },
  {
   "cell_type": "code",
   "execution_count": null,
   "metadata": {
    "collapsed": false
   },
   "outputs": [],
   "source": [
    "def get_max_record(group):\n",
    "    return group.ix[group.prop.idxmax()]\n",
    "\n",
    "get_max_record(boys)"
   ]
  },
  {
   "cell_type": "code",
   "execution_count": null,
   "metadata": {
    "collapsed": false
   },
   "outputs": [],
   "source": [
    "def get_max_record(group):\n",
    "    return group.ix[group.prop.idxmax()]\n",
    "\n",
    "result = boys.groupby('year').apply(get_max_record)"
   ]
  },
  {
   "cell_type": "code",
   "execution_count": null,
   "metadata": {
    "collapsed": false
   },
   "outputs": [],
   "source": [
    "result"
   ]
  },
  {
   "cell_type": "code",
   "execution_count": null,
   "metadata": {
    "collapsed": false
   },
   "outputs": [],
   "source": [
    "result.prop.plot()"
   ]
  },
  {
   "cell_type": "code",
   "execution_count": null,
   "metadata": {
    "collapsed": false
   },
   "outputs": [],
   "source": [
    "boys[boys.name == 'Travis']"
   ]
  },
  {
   "cell_type": "code",
   "execution_count": null,
   "metadata": {
    "collapsed": false
   },
   "outputs": [],
   "source": [
    "idf = boys.set_index(['name', 'year'])"
   ]
  },
  {
   "cell_type": "code",
   "execution_count": null,
   "metadata": {
    "collapsed": false
   },
   "outputs": [],
   "source": [
    "idf[-50:]"
   ]
  },
  {
   "cell_type": "code",
   "execution_count": null,
   "metadata": {
    "collapsed": false
   },
   "outputs": [],
   "source": [
    "idf.ix['Travis']"
   ]
  },
  {
   "cell_type": "code",
   "execution_count": null,
   "metadata": {
    "collapsed": false
   },
   "outputs": [],
   "source": [
    "idf.ix['Travis'].prop.plot()"
   ]
  },
  {
   "cell_type": "code",
   "execution_count": null,
   "metadata": {
    "collapsed": false
   },
   "outputs": [],
   "source": [
    "boys.groupby('name')['prop'].mean()"
   ]
  },
  {
   "cell_type": "code",
   "execution_count": null,
   "metadata": {
    "collapsed": false
   },
   "outputs": [],
   "source": [
    "boys.groupby('name')['prop'].mean().sort_values()"
   ]
  },
  {
   "cell_type": "code",
   "execution_count": null,
   "metadata": {
    "collapsed": false
   },
   "outputs": [],
   "source": [
    "boys['prop'].describe() "
   ]
  },
  {
   "cell_type": "code",
   "execution_count": null,
   "metadata": {
    "collapsed": false
   },
   "outputs": [],
   "source": [
    "result = boys.groupby('year')['prop'].describe()"
   ]
  },
  {
   "cell_type": "code",
   "execution_count": null,
   "metadata": {
    "collapsed": false
   },
   "outputs": [],
   "source": [
    "result[:50]"
   ]
  },
  {
   "cell_type": "code",
   "execution_count": null,
   "metadata": {
    "collapsed": false
   },
   "outputs": [],
   "source": [
    "df = boys[boys.year == 2008]"
   ]
  },
  {
   "cell_type": "code",
   "execution_count": null,
   "metadata": {
    "collapsed": false
   },
   "outputs": [],
   "source": [
    "df.prop"
   ]
  },
  {
   "cell_type": "code",
   "execution_count": null,
   "metadata": {
    "collapsed": false
   },
   "outputs": [],
   "source": [
    "df = boys[boys.year == 2008].sort_values(by='prop', ascending=False) "
   ]
  },
  {
   "cell_type": "code",
   "execution_count": null,
   "metadata": {
    "collapsed": false
   },
   "outputs": [],
   "source": [
    "df.prop"
   ]
  },
  {
   "cell_type": "code",
   "execution_count": null,
   "metadata": {
    "collapsed": false
   },
   "outputs": [],
   "source": [
    "df.prop.cumsum() "
   ]
  },
  {
   "cell_type": "code",
   "execution_count": null,
   "metadata": {
    "collapsed": false
   },
   "outputs": [],
   "source": [
    "df.prop.values.cumsum().searchsorted(0.5)   # Also used as a measure of diversity."
   ]
  },
  {
   "cell_type": "code",
   "execution_count": null,
   "metadata": {
    "collapsed": false
   },
   "outputs": [],
   "source": [
    "df.prop.cumsum()[:130]"
   ]
  },
  {
   "cell_type": "code",
   "execution_count": null,
   "metadata": {
    "collapsed": false
   },
   "outputs": [],
   "source": [
    "def get_quantile_count(group, quantile = 0.5):\n",
    "    df = group.sort_values(by='prop', ascending=False)\n",
    "    return df.prop.values.cumsum().searchsorted(quantile)\n",
    "\n",
    "boys.groupby('year').apply(get_quantile_count).plot()"
   ]
  },
  {
   "cell_type": "code",
   "execution_count": null,
   "metadata": {
    "collapsed": false
   },
   "outputs": [],
   "source": [
    "def get_quantile_count(group, quantile=0.5):\n",
    "    group = group.groupby('soundex').sum()\n",
    "    df = group.sort_values(by='prop', ascending=False)\n",
    "    return df.prop.values.cumsum().searchsorted(quantile)\n",
    "\n",
    "q = 0.25\n",
    "boy_ct = boys.groupby('year').apply(get_quantile_count, quantile=q)   # pass different values for quantile\n",
    "girl_ct = girls.groupby('year').apply(get_quantile_count, quantile=q)\n",
    "boy_ct.plot(label='boy')\n",
    "girl_ct.plot(label='girl')\n",
    "legend(loc='best')"
   ]
  },
  {
   "cell_type": "code",
   "execution_count": null,
   "metadata": {
    "collapsed": false
   },
   "outputs": [],
   "source": [
    "boys[boys.year == 2008].prop.rank() "
   ]
  },
  {
   "cell_type": "code",
   "execution_count": null,
   "metadata": {
    "collapsed": false
   },
   "outputs": [],
   "source": [
    "grouped = boys.groupby('year')['prop']"
   ]
  },
  {
   "cell_type": "code",
   "execution_count": null,
   "metadata": {
    "collapsed": false
   },
   "outputs": [],
   "source": [
    "grouped.transform(pd.Series.rank)"
   ]
  },
  {
   "cell_type": "code",
   "execution_count": null,
   "metadata": {
    "collapsed": false
   },
   "outputs": [],
   "source": [
    "boys['year_rank'] = grouped.transform(pd.Series.rank)"
   ]
  },
  {
   "cell_type": "code",
   "execution_count": null,
   "metadata": {
    "collapsed": false
   },
   "outputs": [],
   "source": [
    "boys[boys.name == 'Andrew'].year_rank.plot()"
   ]
  },
  {
   "cell_type": "code",
   "execution_count": null,
   "metadata": {
    "collapsed": false
   },
   "outputs": [],
   "source": [
    "names   "
   ]
  },
  {
   "cell_type": "code",
   "execution_count": null,
   "metadata": {
    "collapsed": false
   },
   "outputs": [],
   "source": [
    "births = pd.read_csv('births.csv')"
   ]
  },
  {
   "cell_type": "code",
   "execution_count": null,
   "metadata": {
    "collapsed": false
   },
   "outputs": [],
   "source": [
    "merged = pd.merge(names, births, on=['year', 'sex'])  "
   ]
  },
  {
   "cell_type": "code",
   "execution_count": null,
   "metadata": {
    "collapsed": false
   },
   "outputs": [],
   "source": [
    "pd.merge(names, births) "
   ]
  },
  {
   "cell_type": "code",
   "execution_count": null,
   "metadata": {
    "collapsed": false
   },
   "outputs": [],
   "source": [
    "merged['persons'] = np.floor(merged.prop * merged.births)"
   ]
  },
  {
   "cell_type": "code",
   "execution_count": null,
   "metadata": {
    "collapsed": false
   },
   "outputs": [],
   "source": [
    "merged.head()"
   ]
  },
  {
   "cell_type": "code",
   "execution_count": null,
   "metadata": {
    "collapsed": false
   },
   "outputs": [],
   "source": [
    "merged.groupby(['name', 'sex'])['persons'].sum() "
   ]
  },
  {
   "cell_type": "code",
   "execution_count": null,
   "metadata": {
    "collapsed": false
   },
   "outputs": [],
   "source": [
    "merged.groupby(['name', 'sex'])['persons'].sum().sort_values()"
   ]
  },
  {
   "cell_type": "code",
   "execution_count": null,
   "metadata": {
    "collapsed": false
   },
   "outputs": [],
   "source": [
    "mboys = pd.merge(boys, births) "
   ]
  },
  {
   "cell_type": "code",
   "execution_count": null,
   "metadata": {
    "collapsed": false
   },
   "outputs": [],
   "source": [
    "mboys['persons'] = np.floor(mboys.prop * mboys.births)"
   ]
  },
  {
   "cell_type": "code",
   "execution_count": null,
   "metadata": {
    "collapsed": false
   },
   "outputs": [],
   "source": [
    "persons = mboys.set_index(['year', 'name']).persons "
   ]
  },
  {
   "cell_type": "code",
   "execution_count": null,
   "metadata": {
    "collapsed": false
   },
   "outputs": [],
   "source": [
    "type(persons)  "
   ]
  },
  {
   "cell_type": "code",
   "execution_count": null,
   "metadata": {
    "collapsed": false
   },
   "outputs": [],
   "source": [
    "persons "
   ]
  },
  {
   "cell_type": "code",
   "execution_count": null,
   "metadata": {
    "collapsed": false
   },
   "outputs": [],
   "source": [
    "persons.ix[:, 'Christopher'].plot(kind='bar', rot=90)  # Plot is crowded. Matplotlib doesn't go more than 130 in x axis."
   ]
  },
  {
   "cell_type": "markdown",
   "metadata": {},
   "source": [
    "---"
   ]
  },
  {
   "cell_type": "markdown",
   "metadata": {},
   "source": [
    "Reproduction of [Quantifying Trading Behavior in Financial Markets Using Google Trends](http://www.nature.com/srep/2013/130425/srep01684/pdf/srep01684.pdf)\n",
    "=============================================="
   ]
  },
  {
   "cell_type": "markdown",
   "metadata": {},
   "source": [
    "In this section we will reproduce a paper published recently on using Google Trends search volume for specific terms (e.g. 'debt') to predict market movements."
   ]
  },
  {
   "cell_type": "code",
   "execution_count": null,
   "metadata": {
    "collapsed": false
   },
   "outputs": [],
   "source": [
    "from IPython.core.display import HTML\n",
    "HTML(\"<iframe src=http://www.nature.com/srep/2013/130425/srep01684/full/srep01684.html width=900 height=400></iframe>\")"
   ]
  },
  {
   "cell_type": "code",
   "execution_count": null,
   "metadata": {
    "collapsed": false
   },
   "outputs": [],
   "source": [
    "import matplotlib.pyplot as plt\n",
    "import matplotlib as mpl\n",
    "mpl.rc('figure', figsize=(8, 7))"
   ]
  },
  {
   "cell_type": "markdown",
   "metadata": {},
   "source": [
    "Tobias Preis was kind enough to provide me with the data used in this publication. There are many Google Trends search words but here we will only be using 'debt'."
   ]
  },
  {
   "cell_type": "code",
   "execution_count": null,
   "metadata": {
    "collapsed": false
   },
   "outputs": [],
   "source": [
    "data = pd.read_csv('GoogleTrendsData.csv', index_col='Date', parse_dates=True)\n",
    "data.head()"
   ]
  },
  {
   "cell_type": "markdown",
   "metadata": {},
   "source": [
    "djia is the Dow Jones Industrial Average"
   ]
  },
  {
   "cell_type": "code",
   "execution_count": null,
   "metadata": {
    "collapsed": false
   },
   "outputs": [],
   "source": [
    "data.plot(subplots=True)"
   ]
  },
  {
   "cell_type": "markdown",
   "metadata": {},
   "source": [
    "The authors detect if search volume is relatively increasing or decreasing in any given week by forming a moving average and testing if the current value crosses the moving average of the past 3 weeks. \n",
    "\n",
    "Lets first compute the moving average."
   ]
  },
  {
   "cell_type": "code",
   "execution_count": null,
   "metadata": {
    "collapsed": false
   },
   "outputs": [],
   "source": [
    "data['debt_mavg'] = data.debt.rolling(window=3).mean()\n",
    "data.head()"
   ]
  },
  {
   "cell_type": "markdown",
   "metadata": {},
   "source": [
    "Since we want to see if the current value is above the moving average of the *preceeding* weeks, we have to shift the moving average timeseries forward by one."
   ]
  },
  {
   "cell_type": "code",
   "execution_count": null,
   "metadata": {
    "collapsed": false
   },
   "outputs": [],
   "source": [
    "data['debt_mavg'] = data.debt_mavg.shift(1)\n",
    "data.head(10)"
   ]
  },
  {
   "cell_type": "markdown",
   "metadata": {},
   "source": [
    "### Generate the order signals.\n",
    "\n",
    "From the paper:\n",
    "\n",
    "\"We use Google Trends to determine how many searches n(t – 1) have been carried out for a specific search term such as debt in week t – 1, where Google defines weeks as ending on a Sunday, relative to the total number of searches carried out on Google during that time.\"\n",
    "\n",
    "and\n",
    "\n",
    "\"We implement this strategy by selling the DJIA at the closing price p(t) on the first trading day of week t, if Δn(t − 1, Δt) > 0, and buying the DJIA at price p(t + 1) at the end of the first trading day of the following week. [...]. If instead Δn(t − 1, Δt) < 0, then we buy the DJIA at the closing price p(t) on the first trading day of week t and sell the DJIA at price p(t + 1) at the end of the first trading day of the coming week.\""
   ]
  },
  {
   "cell_type": "code",
   "execution_count": null,
   "metadata": {
    "collapsed": false
   },
   "outputs": [],
   "source": [
    "data.loc[:, 'order'] = 0\n",
    "data.loc[data.debt > data.debt_mavg, 'order'] = -1 # Short if search volume goes up relative to mavg.\n",
    "data.loc[data.debt < data.debt_mavg, 'order'] = 1 # Long if search volume goes down relative to mavg.\n",
    "data.head(10)"
   ]
  },
  {
   "cell_type": "markdown",
   "metadata": {},
   "source": [
    "### Compute returns"
   ]
  },
  {
   "cell_type": "code",
   "execution_count": null,
   "metadata": {
    "collapsed": false
   },
   "outputs": [],
   "source": [
    "data['ret_djia'] = data.djia.pct_change()\n",
    "data.head()"
   ]
  },
  {
   "cell_type": "markdown",
   "metadata": {},
   "source": [
    "Returns at week `t` are relative to week `t-1`. However, we are buying at week `t` and selling at week `t+1`, so we have to adjust by shifting the returns upward."
   ]
  },
  {
   "cell_type": "code",
   "execution_count": null,
   "metadata": {
    "collapsed": false
   },
   "outputs": [],
   "source": [
    "data['ret_djia'] = data['ret_djia'].shift(-1)\n",
    "data.head()"
   ]
  },
  {
   "cell_type": "markdown",
   "metadata": {},
   "source": [
    "The algorithm that is used by the authors makes a decision every Monday of whether to long or short the Dow Jones. After this week passed, we exit all positions (sell if we longed, buy if we shorted) and make a new trading decision.\n",
    "\n",
    "The `ret` column contains the weekly returns. Thus, if we buy at week `t` sell at week `t+1` we make the returns of week `t+1`. Conversely, if we short at week `t` and buy back at week `t+1` we make the negative returns of week `t+1`."
   ]
  },
  {
   "cell_type": "code",
   "execution_count": null,
   "metadata": {
    "collapsed": false
   },
   "outputs": [],
   "source": [
    "# Compute returns of our strategy\n",
    "data['ret_google'] = data.order * data.ret_djia\n",
    "data.head(10)"
   ]
  },
  {
   "cell_type": "markdown",
   "metadata": {},
   "source": [
    "Now we just have to compound the returns. As we are reinvesting our earns, returns actually do not compound by summing them up but by taking their cumulative product:\n",
    "\n",
    "$$i_t = (i_{t-1} + i_{t-1} \\cdot r_t) = (1 + r_t) \\cdot i_{t-1}, \\quad i_0 = 1$$"
   ]
  },
  {
   "cell_type": "code",
   "execution_count": null,
   "metadata": {
    "collapsed": false
   },
   "outputs": [],
   "source": [
    "figure(figsize=(9, 2))\n",
    "(1 + data.ret_google).cumprod().plot()\n",
    "plt.ylabel('Portfolio value')"
   ]
  },
  {
   "cell_type": "code",
   "execution_count": null,
   "metadata": {
    "collapsed": false
   },
   "outputs": [],
   "source": [
    "from IPython.core.display import Image \n",
    "Image(\"http://www.nature.com/srep/2013/130425/srep01684/carousel/srep01684-f2.jpg\")"
   ]
  },
  {
   "cell_type": "markdown",
   "metadata": {},
   "source": [
    "# Credits\n",
    "\n",
    "This notebook was partly extracted from the Tutorial of Wes McKinney, author of Pandas, at Pycon 2013 in Santa Clara.\n",
    "\n",
    "\n",
    "The Google Trends example was extracted from the tutorial **Financial Analysis in Python**, given by Thomas Wiecki at PyData Boston 2013"
   ]
  },
  {
   "cell_type": "code",
   "execution_count": null,
   "metadata": {
    "collapsed": false
   },
   "outputs": [],
   "source": []
  }
 ],
 "metadata": {
  "kernelspec": {
   "display_name": "Python [Root]",
   "language": "python",
   "name": "Python [Root]"
  },
  "language_info": {
   "codemirror_mode": {
    "name": "ipython",
    "version": 2
   },
   "file_extension": ".py",
   "mimetype": "text/x-python",
   "name": "python",
   "nbconvert_exporter": "python",
   "pygments_lexer": "ipython2",
   "version": "2.7.12"
  }
 },
 "nbformat": 4,
 "nbformat_minor": 0
}

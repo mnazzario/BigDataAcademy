{
 "cells": [
  {
   "cell_type": "code",
   "execution_count": null,
   "metadata": {
    "collapsed": true
   },
   "outputs": [],
   "source": [
    "#NETWORKX / JSON / DATAFRAME / ADJMX / METRICS+SCATTER / VIZ+GEPHI"
   ]
  },
  {
   "cell_type": "code",
   "execution_count": null,
   "metadata": {
    "collapsed": false
   },
   "outputs": [],
   "source": [
    "%pylab inline\n",
    "import numpy as np\n",
    "import pandas as pd\n",
    "import networkx as nx"
   ]
  },
  {
   "cell_type": "markdown",
   "metadata": {},
   "source": [
    "# NetworkX"
   ]
  },
  {
   "cell_type": "code",
   "execution_count": null,
   "metadata": {
    "collapsed": false
   },
   "outputs": [],
   "source": [
    "#create\n",
    "demo = nx.Graph()\n",
    "\n",
    "consonants = list(set(\"bcdfghjklmnpqrstvwxyz\"))\n",
    "vowels = list(set(\"aeiou\"))\n",
    "\n",
    "#add nodes\n",
    "for c in consonants:\n",
    "    demo.add_node(c)\n",
    "for v in vowels:\n",
    "    demo.add_node(v)\n",
    "    \n",
    "#add random edges\n",
    "for i in range(50):\n",
    "    demo.add_edge(numpy.random.choice(consonants),numpy.random.choice(consonants))\n",
    "for i in range(100):\n",
    "    demo.add_edge(numpy.random.choice(vowels),numpy.random.choice(vowels))\n",
    "\n",
    "#draw\n",
    "nx.draw(demo, with_labels=True, node_color=['red' if i in set('aeiou') else 'cyan' for i in demo.nodes_iter()])"
   ]
  },
  {
   "cell_type": "code",
   "execution_count": null,
   "metadata": {
    "collapsed": false
   },
   "outputs": [],
   "source": [
    "print 'connected components',[cc for cc in nx.connected_components(demo)]\n",
    "print\n",
    "print 'degrees',np.array(nx.degree(demo))\n",
    "print\n",
    "print 'clustering_coefficients',np.array(nx.clustering(demo))\n",
    "print\n",
    "print 'diameter_vowels:',nx.diameter(demo.subgraph(vowels)),'- dimameter_consonant:',nx.diameter(demo.subgraph(consonants))"
   ]
  },
  {
   "cell_type": "markdown",
   "metadata": {},
   "source": [
    "# Data Import"
   ]
  },
  {
   "cell_type": "code",
   "execution_count": null,
   "metadata": {
    "collapsed": true
   },
   "outputs": [],
   "source": [
    "#get data, as jsons, from http://bank.top-ix.org/banks"
   ]
  },
  {
   "cell_type": "code",
   "execution_count": null,
   "metadata": {
    "collapsed": false
   },
   "outputs": [],
   "source": [
    "import urllib2\n",
    "import json\n",
    "request = urllib2.urlopen('http://bank.top-ix.org/banks')\n",
    "data = json.loads(request.read())\n",
    "#connect\n",
    "index = [(entry['BANK_ID'],entry['BANK']) for entry in data['data']]\n",
    "payload = json.loads(urllib2.urlopen('http://bank.top-ix.org/data/'+str(index[0][0])).read())\n",
    "#init dataframe\n",
    "fields = np.array(payload['data'][0].keys())\n",
    "data = pd.DataFrame({i:[] for i in range(6)})\n",
    "data.columns = fields\n",
    "data"
   ]
  },
  {
   "cell_type": "code",
   "execution_count": null,
   "metadata": {
    "collapsed": false
   },
   "outputs": [],
   "source": [
    "#EX_1: fill in\n",
    "\n",
    "#download data for each bank\n",
    "\n",
    "#to append a row to a DF, do\n",
    "#data.loc[len(data)] = np.array(element.values())"
   ]
  },
  {
   "cell_type": "code",
   "execution_count": null,
   "metadata": {
    "collapsed": false
   },
   "outputs": [],
   "source": [
    "data.columns = ['gdp','origin','millions','exposure','perc','bank']\n",
    "rearrange_columns = ['bank','origin','exposure','gdp','millions','perc']\n",
    "data = data[rearrange_columns]\n",
    "data.head()"
   ]
  },
  {
   "cell_type": "markdown",
   "metadata": {},
   "source": [
    "# Data Cleaning"
   ]
  },
  {
   "cell_type": "code",
   "execution_count": null,
   "metadata": {
    "collapsed": false
   },
   "outputs": [],
   "source": [
    "#EX_2: poke around - any data cleaning?\n"
   ]
  },
  {
   "cell_type": "markdown",
   "metadata": {},
   "source": [
    "# Make DataFrames"
   ]
  },
  {
   "cell_type": "code",
   "execution_count": null,
   "metadata": {
    "collapsed": true
   },
   "outputs": [],
   "source": [
    "#data:all, nndata:nation->nation, bdata:bipartite"
   ]
  },
  {
   "cell_type": "code",
   "execution_count": null,
   "metadata": {
    "collapsed": false
   },
   "outputs": [],
   "source": [
    "print len(data)\n",
    "data.head()"
   ]
  },
  {
   "cell_type": "code",
   "execution_count": null,
   "metadata": {
    "collapsed": false
   },
   "outputs": [],
   "source": [
    "nndata = pd.DataFrame(data.groupby(['origin','exposure'], as_index=False)['millions'].sum())\n",
    "print len(nndata)\n",
    "nndata.head()"
   ]
  },
  {
   "cell_type": "code",
   "execution_count": null,
   "metadata": {
    "collapsed": false
   },
   "outputs": [],
   "source": [
    "bdata = data[['bank','exposure','millions']]\n",
    "print len(bdata)\n",
    "bdata.head()"
   ]
  },
  {
   "cell_type": "markdown",
   "metadata": {},
   "source": [
    "# Adjacency Matrices (nndata and bdata)"
   ]
  },
  {
   "cell_type": "code",
   "execution_count": null,
   "metadata": {
    "collapsed": false
   },
   "outputs": [],
   "source": [
    "nations = sorted(pd.concat([data.origin, data.exposure]).unique())\n",
    "banks = sorted(data.bank.unique())\n",
    "print len(nations),'nations,',len(banks),'banks'"
   ]
  },
  {
   "cell_type": "code",
   "execution_count": null,
   "metadata": {
    "collapsed": false
   },
   "outputs": [],
   "source": [
    "print nations"
   ]
  },
  {
   "cell_type": "code",
   "execution_count": null,
   "metadata": {
    "collapsed": false
   },
   "outputs": [],
   "source": [
    "adjm_w_nn = np.zeros([len(nations),len(nations)])\n",
    "adjm_b_nn = np.zeros([len(nations),len(nations)])\n",
    "for i,ie in enumerate(nations):\n",
    "    for j,je in enumerate(nations):\n",
    "        if ie in np.array(nndata['origin']) and je in np.array(nndata[nndata['origin']==ie]['exposure']):\n",
    "            adjm_w_nn[i,j]=nndata[(nndata['origin']==ie) & (nndata['exposure']==je)]['millions']\n",
    "            adjm_b_nn[i,j]=1\n",
    "           \n",
    "figure(figsize=(5,5))\n",
    "pcolormesh(adjm_b_nn, cmap=cm.binary)"
   ]
  },
  {
   "cell_type": "code",
   "execution_count": null,
   "metadata": {
    "collapsed": false
   },
   "outputs": [],
   "source": [
    "adjm_w_b = np.zeros([len(banks),len(nations)])\n",
    "adjm_b_b = np.zeros([len(banks),len(nations)])\n",
    "for i,ie in enumerate(banks):\n",
    "    for j,je in enumerate(nations):\n",
    "        if ie in np.array(bdata['bank']) and je in np.array(bdata[bdata['bank']==ie]['exposure']):\n",
    "            adjm_w_b[i,j]=bdata[(bdata['bank']==ie) & (bdata['exposure']==je)]['millions']\n",
    "            adjm_b_b[i,j]=1\n",
    "\n",
    "figure(figsize=(5,10))\n",
    "pcolormesh(adjm_b_b, cmap=cm.binary)\n",
    "plt.axis([0, len(nations), 0, len(banks)])"
   ]
  },
  {
   "cell_type": "code",
   "execution_count": null,
   "metadata": {
    "collapsed": true
   },
   "outputs": [],
   "source": [
    "#order is arbitrary"
   ]
  },
  {
   "cell_type": "markdown",
   "metadata": {},
   "source": [
    "# Graph-Viz, part 1"
   ]
  },
  {
   "cell_type": "code",
   "execution_count": null,
   "metadata": {
    "collapsed": false
   },
   "outputs": [],
   "source": [
    "#building graph, edge by edge\n",
    "Gnn = nx.Graph()\n",
    "for i in range(adjm_b_nn.shape[0]):\n",
    "    for j in range(adjm_b_nn.shape[1]):\n",
    "        if adjm_b_nn[i,j]==1:\n",
    "            Gnn.add_edge(nations[i],nations[j])\n",
    "figure(figsize=(10,10))\n",
    "nx.draw(Gnn,with_labels=True)"
   ]
  },
  {
   "cell_type": "code",
   "execution_count": null,
   "metadata": {
    "collapsed": false
   },
   "outputs": [],
   "source": [
    "#the easy way\n",
    "Gnn = nx.from_numpy_matrix(adjm_b_nn)\n",
    "figure(figsize=(10,10))\n",
    "\n",
    "nx.draw(Gnn,with_labels=True)"
   ]
  },
  {
   "cell_type": "code",
   "execution_count": null,
   "metadata": {
    "collapsed": false
   },
   "outputs": [],
   "source": [
    "#and a bipartite graph\n",
    "\n",
    "#building\n",
    "from scipy.sparse import csr_matrix\n",
    "from networkx.algorithms import bipartite\n",
    "sparse_adj_matrix_b = csr_matrix(adjm_b_b)\n",
    "Gb = bipartite.from_biadjacency_matrix(sparse_adj_matrix_b)\n",
    "\n",
    "#drawing\n",
    "figure(figsize=(5,15))\n",
    "X, Y = bipartite.sets(Gb)\n",
    "pos = dict()\n",
    "pos.update((n, (0, i*10)) for i, n in enumerate(X))\n",
    "pos.update((n, (0.5, i*10)) for i, n in enumerate(Y))\n",
    "nx.draw(Gb, pos=pos)\n",
    "plt.show()"
   ]
  },
  {
   "cell_type": "code",
   "execution_count": null,
   "metadata": {
    "collapsed": true
   },
   "outputs": [],
   "source": [
    "#Awful, right? Visualisation is not necessarily enlightning \n",
    "#We'll see something nicer further on. For now we'll use the graphs to compute metrics"
   ]
  },
  {
   "cell_type": "markdown",
   "metadata": {},
   "source": [
    "# Metrics"
   ]
  },
  {
   "cell_type": "code",
   "execution_count": null,
   "metadata": {
    "collapsed": true
   },
   "outputs": [],
   "source": [
    "#EX_3: Matrics! What can you obtain by groupby? What by using nx methods? How can you viz the results?"
   ]
  },
  {
   "cell_type": "code",
   "execution_count": null,
   "metadata": {
    "collapsed": true
   },
   "outputs": [],
   "source": []
  },
  {
   "cell_type": "code",
   "execution_count": null,
   "metadata": {
    "collapsed": true
   },
   "outputs": [],
   "source": []
  },
  {
   "cell_type": "code",
   "execution_count": null,
   "metadata": {
    "collapsed": true
   },
   "outputs": [],
   "source": []
  },
  {
   "cell_type": "code",
   "execution_count": null,
   "metadata": {
    "collapsed": true
   },
   "outputs": [],
   "source": []
  },
  {
   "cell_type": "code",
   "execution_count": null,
   "metadata": {
    "collapsed": true
   },
   "outputs": [],
   "source": []
  },
  {
   "cell_type": "code",
   "execution_count": null,
   "metadata": {
    "collapsed": true
   },
   "outputs": [],
   "source": []
  },
  {
   "cell_type": "code",
   "execution_count": null,
   "metadata": {
    "collapsed": true
   },
   "outputs": [],
   "source": []
  },
  {
   "cell_type": "code",
   "execution_count": null,
   "metadata": {
    "collapsed": true
   },
   "outputs": [],
   "source": []
  },
  {
   "cell_type": "code",
   "execution_count": null,
   "metadata": {
    "collapsed": true
   },
   "outputs": [],
   "source": []
  },
  {
   "cell_type": "code",
   "execution_count": null,
   "metadata": {
    "collapsed": true
   },
   "outputs": [],
   "source": []
  },
  {
   "cell_type": "code",
   "execution_count": null,
   "metadata": {
    "collapsed": true
   },
   "outputs": [],
   "source": []
  },
  {
   "cell_type": "code",
   "execution_count": null,
   "metadata": {
    "collapsed": true
   },
   "outputs": [],
   "source": []
  },
  {
   "cell_type": "code",
   "execution_count": null,
   "metadata": {
    "collapsed": true
   },
   "outputs": [],
   "source": []
  },
  {
   "cell_type": "code",
   "execution_count": null,
   "metadata": {
    "collapsed": true
   },
   "outputs": [],
   "source": []
  },
  {
   "cell_type": "code",
   "execution_count": null,
   "metadata": {
    "collapsed": true
   },
   "outputs": [],
   "source": []
  },
  {
   "cell_type": "code",
   "execution_count": null,
   "metadata": {
    "collapsed": true
   },
   "outputs": [],
   "source": []
  },
  {
   "cell_type": "code",
   "execution_count": null,
   "metadata": {
    "collapsed": true
   },
   "outputs": [],
   "source": []
  },
  {
   "cell_type": "code",
   "execution_count": null,
   "metadata": {
    "collapsed": true
   },
   "outputs": [],
   "source": []
  },
  {
   "cell_type": "code",
   "execution_count": null,
   "metadata": {
    "collapsed": true
   },
   "outputs": [],
   "source": []
  },
  {
   "cell_type": "code",
   "execution_count": null,
   "metadata": {
    "collapsed": true
   },
   "outputs": [],
   "source": []
  },
  {
   "cell_type": "code",
   "execution_count": null,
   "metadata": {
    "collapsed": true
   },
   "outputs": [],
   "source": []
  },
  {
   "cell_type": "code",
   "execution_count": null,
   "metadata": {
    "collapsed": true
   },
   "outputs": [],
   "source": []
  },
  {
   "cell_type": "code",
   "execution_count": null,
   "metadata": {
    "collapsed": true
   },
   "outputs": [],
   "source": []
  },
  {
   "cell_type": "code",
   "execution_count": null,
   "metadata": {
    "collapsed": true
   },
   "outputs": [],
   "source": []
  },
  {
   "cell_type": "code",
   "execution_count": null,
   "metadata": {
    "collapsed": false
   },
   "outputs": [],
   "source": [
    "#out-degree (nation-clustered)\n",
    "for name,group in nndata.groupby('origin'):\n",
    "    print name,len(group.groupby('exposure')),"
   ]
  },
  {
   "cell_type": "code",
   "execution_count": null,
   "metadata": {
    "collapsed": false
   },
   "outputs": [],
   "source": [
    "#in-degree (nation-clustered)\n",
    "for name,group in nndata.groupby('exposure'):\n",
    "    print name,len(group.groupby('origin')),"
   ]
  },
  {
   "cell_type": "code",
   "execution_count": null,
   "metadata": {
    "collapsed": false
   },
   "outputs": [],
   "source": [
    "#out-degree (bipartite)\n",
    "for name,group in bdata.groupby('bank'):\n",
    "    print name,len(group.groupby('exposure')),"
   ]
  },
  {
   "cell_type": "code",
   "execution_count": null,
   "metadata": {
    "collapsed": false
   },
   "outputs": [],
   "source": [
    "#in-degree (bipartite)\n",
    "for name,group in bdata.groupby('exposure'):\n",
    "    print name,len(group.groupby('bank')),"
   ]
  },
  {
   "cell_type": "code",
   "execution_count": null,
   "metadata": {
    "collapsed": false
   },
   "outputs": [],
   "source": [
    "#what if I want to see them sorted?\n",
    "sorted([(len(group.groupby('exposure')),name) for name,group in bdata.groupby('bank')])"
   ]
  },
  {
   "cell_type": "code",
   "execution_count": null,
   "metadata": {
    "collapsed": false
   },
   "outputs": [],
   "source": [
    "#degree_nn = in+out\n",
    "degrees_nn = (adjm_b_nn.sum(axis=1)+adjm_b_nn.sum(axis=0)-np.diagonal(adjm_b_nn)).astype('int')\n",
    "print zip(nations,degrees_nn)\n",
    "plot(sorted(degrees_nn), 'bx')\n",
    "xlabel('list of nations')\n",
    "ylabel('degree')"
   ]
  },
  {
   "cell_type": "code",
   "execution_count": null,
   "metadata": {
    "collapsed": false
   },
   "outputs": [],
   "source": [
    "plt.hist(degrees_nn)\n",
    "xlabel('degree')\n",
    "ylabel('count')"
   ]
  },
  {
   "cell_type": "code",
   "execution_count": null,
   "metadata": {
    "collapsed": false
   },
   "outputs": [],
   "source": [
    "#banks out_degree in bipartite graph\n",
    "degrees_b_banks = sorted(adjm_b_b.sum(axis=1).astype('int'))\n",
    "print degrees_b_banks\n",
    "plot(degrees_b_banks, 'bx')\n",
    "xlabel('list of banks')\n",
    "ylabel('degree')"
   ]
  },
  {
   "cell_type": "code",
   "execution_count": null,
   "metadata": {
    "collapsed": false
   },
   "outputs": [],
   "source": [
    "plt.hist(degrees_b_banks)\n",
    "xlabel('degree')\n",
    "ylabel('count')"
   ]
  },
  {
   "cell_type": "code",
   "execution_count": null,
   "metadata": {
    "collapsed": false
   },
   "outputs": [],
   "source": [
    "#nations in_degree in bipartite graph\n",
    "degrees_b_nations = sorted(adjm_b_b.sum(axis=0).astype('int'))\n",
    "print degrees_b_nations\n",
    "plot(degrees_b_nations, 'bx')\n",
    "xlabel('list of nations')\n",
    "ylabel('degree')"
   ]
  },
  {
   "cell_type": "code",
   "execution_count": null,
   "metadata": {
    "collapsed": false
   },
   "outputs": [],
   "source": [
    "plt.hist(degrees_b_nations)\n",
    "xlabel('degree')\n",
    "ylabel('count')"
   ]
  },
  {
   "cell_type": "code",
   "execution_count": null,
   "metadata": {
    "collapsed": false
   },
   "outputs": [],
   "source": [
    "nu_order = argsort(degrees_nn)\n",
    "sorted_adjm_b_nn = np.copy(adjm_b_nn)\n",
    "sorted_adjm_b_nn = sorted_adjm_b_nn[nu_order,:]\n",
    "sorted_adjm_b_nn = sorted_adjm_b_nn[:,nu_order]\n",
    "figure(figsize=(5,5))\n",
    "pcolormesh(sorted_adjm_b_nn, cmap=cm.binary)"
   ]
  },
  {
   "cell_type": "code",
   "execution_count": null,
   "metadata": {
    "collapsed": false
   },
   "outputs": [],
   "source": [
    "#now we finally use the graphs\n",
    "nn_betweenness = nx.betweenness_centrality(Gnn)\n",
    "print nn_betweenness\n",
    "plot(sorted(nn_betweenness.values()))\n",
    "xlabel('list of nations')\n",
    "ylabel('betweenness')"
   ]
  },
  {
   "cell_type": "code",
   "execution_count": null,
   "metadata": {
    "collapsed": false
   },
   "outputs": [],
   "source": [
    "#let's have a closer look\n",
    "sorted([(v,nations[k]) for k,v in nx.betweenness_centrality(Gnn).items()])"
   ]
  },
  {
   "cell_type": "code",
   "execution_count": null,
   "metadata": {
    "collapsed": false
   },
   "outputs": [],
   "source": [
    "plt.hist(nn_betweenness.values())\n",
    "xlabel('betweenness')\n",
    "ylabel('count')"
   ]
  },
  {
   "cell_type": "code",
   "execution_count": null,
   "metadata": {
    "collapsed": true
   },
   "outputs": [],
   "source": [
    "#Scatterplots!"
   ]
  },
  {
   "cell_type": "code",
   "execution_count": null,
   "metadata": {
    "collapsed": false
   },
   "outputs": [],
   "source": [
    "nation_agg = pd.DataFrame()\n",
    "nation_agg['name'] = nations\n",
    "nation_agg['nn_degree'] = degrees_nn\n",
    "nation_agg['nn_indegree'] = adjm_b_nn.sum(axis=0).astype('int')\n",
    "nation_agg['nn_outdegree'] = adjm_b_nn.sum(axis=1).astype('int')\n",
    "nation_agg['bank_indegree'] = adjm_b_b.sum(axis=0).astype('int')\n",
    "nation_agg['debt'] = np.array(data.groupby('exposure')['millions'].apply(sum))\n",
    "nation_agg['betweenness'] = nn_betweenness.values()\n",
    "nation_agg"
   ]
  },
  {
   "cell_type": "code",
   "execution_count": null,
   "metadata": {
    "collapsed": false
   },
   "outputs": [],
   "source": [
    "banks_agg = pd.DataFrame()\n",
    "banks_agg['name'] = banks\n",
    "banks_agg['degree'] = adjm_b_b.sum(axis=1).astype('int')\n",
    "banks_agg['owned_debt'] = np.array(data.groupby('bank')['millions'].apply(sum))\n",
    "banks_agg"
   ]
  },
  {
   "cell_type": "code",
   "execution_count": null,
   "metadata": {
    "collapsed": true
   },
   "outputs": [],
   "source": [
    "def scatterplot(x,y,l):\n",
    "    figure(figsize=(15,15))\n",
    "    plt.scatter(x,y)\n",
    "    for i,label in enumerate(l):\n",
    "        plt.text(x[i],y[i],label)"
   ]
  },
  {
   "cell_type": "code",
   "execution_count": null,
   "metadata": {
    "collapsed": false
   },
   "outputs": [],
   "source": [
    "scatterplot(adjm_w_nn.sum(axis=1),adjm_w_nn.sum(axis=0),nations)"
   ]
  },
  {
   "cell_type": "code",
   "execution_count": null,
   "metadata": {
    "collapsed": false
   },
   "outputs": [],
   "source": [
    "banks_agg.head()"
   ]
  },
  {
   "cell_type": "code",
   "execution_count": null,
   "metadata": {
    "collapsed": false
   },
   "outputs": [],
   "source": [
    "scatterplot(banks_agg['degree'],banks_agg['owned_debt'],banks)\n",
    "xlabel('degree')\n",
    "ylabel('owned_debt')"
   ]
  },
  {
   "cell_type": "code",
   "execution_count": null,
   "metadata": {
    "collapsed": false
   },
   "outputs": [],
   "source": [
    "nation_agg.head()"
   ]
  },
  {
   "cell_type": "code",
   "execution_count": null,
   "metadata": {
    "collapsed": false
   },
   "outputs": [],
   "source": [
    "scatterplot(nation_agg['debt'],nation_agg['bank_indegree'],nations)\n",
    "xlabel('debt')\n",
    "ylabel('bank_indegree')"
   ]
  },
  {
   "cell_type": "markdown",
   "metadata": {},
   "source": [
    "# Community Detection"
   ]
  },
  {
   "cell_type": "code",
   "execution_count": null,
   "metadata": {
    "collapsed": true
   },
   "outputs": [],
   "source": [
    "import community\n",
    "c = community.best_partition(Gnn)"
   ]
  },
  {
   "cell_type": "code",
   "execution_count": null,
   "metadata": {
    "collapsed": false
   },
   "outputs": [],
   "source": [
    "['red','blue']"
   ]
  },
  {
   "cell_type": "code",
   "execution_count": null,
   "metadata": {
    "collapsed": false
   },
   "outputs": [],
   "source": [
    "import community\n",
    "c = community.best_partition(Gnn)\n",
    "colors = ['red','blue','green','cyan']\n",
    "nx.draw(Gnn,\n",
    "        pos=nx.fruchterman_reingold_layout(Gnn), \n",
    "        cmap=plt.cm.hsv,\n",
    "        node_color=[colors[i] for i in [c[node] for node in Gnn.nodes()]])"
   ]
  },
  {
   "cell_type": "code",
   "execution_count": null,
   "metadata": {
    "collapsed": false
   },
   "outputs": [],
   "source": [
    "clustered_nations = [n for (v,n) in sorted([(v,nations[k]) for (k,v) in c.items()])]\n",
    "nu_order = argsort(argsort(clustered_nations))\n",
    "sorted_adjm_b_nn = np.copy(adjm_b_nn)\n",
    "sorted_adjm_b_nn = sorted_adjm_b_nn[nu_order,:]\n",
    "sorted_adjm_b_nn = sorted_adjm_b_nn[:,nu_order]\n",
    "figure(figsize=(5,5))\n",
    "pcolormesh(sorted_adjm_b_nn, cmap=cm.binary)"
   ]
  },
  {
   "cell_type": "markdown",
   "metadata": {},
   "source": [
    "# Graph-Viz, part 2"
   ]
  },
  {
   "cell_type": "code",
   "execution_count": null,
   "metadata": {
    "collapsed": false
   },
   "outputs": [],
   "source": [
    "G_nn_exp = nx.DiGraph()\n",
    "for i in range(adjm_w_nn.shape[0]):\n",
    "    for j in range(adjm_w_nn.shape[1]):\n",
    "        if adjm_w_nn[i,j]>0:\n",
    "            #print nations[i],nations[j],adjm_w_nn[i,j]\n",
    "            G_nn_exp.add_edge(nations[i],nations[j],weight=adjm_w_nn[i,j])\n",
    "nx.write_gml(G_nn_exp,'graph_nn.gml')\n",
    "\n",
    "G_b_exp = nx.DiGraph()\n",
    "for k in banks:\n",
    "    G_b_exp.add_node(k,bipartite='bank')\n",
    "for k in nations:\n",
    "    G_b_exp.add_node(k,bipartite='nation')\n",
    "for i in range(adjm_w_b.shape[0]):\n",
    "    for j in range(adjm_w_b.shape[1]):\n",
    "        if adjm_w_b[i,j]>0:\n",
    "            #print banks[i],nations[j],adjm_w_b[i,j]\n",
    "            G_b_exp.add_edge(banks[i],nations[j],weight=adjm_w_b[i,j])\n",
    "nx.write_gml(G_b_exp,'graph_b_bip.gml')"
   ]
  },
  {
   "cell_type": "code",
   "execution_count": null,
   "metadata": {
    "collapsed": true
   },
   "outputs": [],
   "source": [
    "#to gephi!"
   ]
  }
 ],
 "metadata": {
  "kernelspec": {
   "display_name": "Python 2",
   "language": "python",
   "name": "python2"
  },
  "language_info": {
   "codemirror_mode": {
    "name": "ipython",
    "version": 2
   },
   "file_extension": ".py",
   "mimetype": "text/x-python",
   "name": "python",
   "nbconvert_exporter": "python",
   "pygments_lexer": "ipython2",
   "version": "2.7.12"
  }
 },
 "nbformat": 4,
 "nbformat_minor": 1
}

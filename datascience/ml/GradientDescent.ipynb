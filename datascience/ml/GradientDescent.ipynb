{
 "cells": [
  {
   "cell_type": "markdown",
   "metadata": {},
   "source": [
    "---\n",
    "\n",
    "# Exercises - Gradient Descent\n",
    "\n",
    "---"
   ]
  },
  {
   "cell_type": "code",
   "execution_count": 1,
   "metadata": {
    "collapsed": false
   },
   "outputs": [
    {
     "name": "stdout",
     "output_type": "stream",
     "text": [
      "Populating the interactive namespace from numpy and matplotlib\n"
     ]
    }
   ],
   "source": [
    "%pylab inline"
   ]
  },
  {
   "cell_type": "markdown",
   "metadata": {},
   "source": [
    "## Data points for a Regression problem"
   ]
  },
  {
   "cell_type": "code",
   "execution_count": 5,
   "metadata": {
    "collapsed": false
   },
   "outputs": [
    {
     "data": {
      "image/png": "[encoded data removed]",
      "text/plain": [
       "<matplotlib.figure.Figure at 0x7fb98cc4f910>"
      ]
     },
     "metadata": {},
     "output_type": "display_data"
    }
   ],
   "source": [
    "from sklearn import datasets\n",
    "\n",
    "X, y = datasets.make_regression(n_samples=100, n_features=1,\n",
    "                                n_informative=1, noise=10.0,\n",
    "                                random_state=42)\n",
    "plot(X, y, 'bx')\n",
    "xlabel('$x_1$')\n",
    "ylabel(\"$y$\");"
   ]
  },
  {
   "cell_type": "markdown",
   "metadata": {},
   "source": [
    "### Let's prepare the data points for matrix manipulation:"
   ]
  },
  {
   "cell_type": "code",
   "execution_count": 6,
   "metadata": {
    "collapsed": false
   },
   "outputs": [],
   "source": [
    "X_ext = insert(X, 0, ones(len(X)), axis=1) #aggiunge un vettore di tutti uno\n",
    "Y = y.reshape(len(y), 1)"
   ]
  },
  {
   "cell_type": "code",
   "execution_count": 8,
   "metadata": {
    "collapsed": false
   },
   "outputs": [
    {
     "data": {
      "text/plain": [
       "array([[ 1.        ,  0.93128012],\n",
       "       [ 1.        ,  0.08704707],\n",
       "       [ 1.        , -1.05771093],\n",
       "       [ 1.        ,  0.31424733],\n",
       "       [ 1.        , -0.47917424],\n",
       "       [ 1.        ,  0.64768854],\n",
       "       [ 1.        , -0.46341769],\n",
       "       [ 1.        ,  0.54256004],\n",
       "       [ 1.        ,  0.61167629],\n",
       "       [ 1.        ,  1.0035329 ],\n",
       "       [ 1.        ,  0.8219025 ],\n",
       "       [ 1.        ,  1.53803657],\n",
       "       [ 1.        ,  0.73846658],\n",
       "       [ 1.        , -0.21967189],\n",
       "       [ 1.        , -0.8084936 ],\n",
       "       [ 1.        ,  0.09176078],\n",
       "       [ 1.        , -1.95967012],\n",
       "       [ 1.        ,  0.51326743],\n",
       "       [ 1.        ,  1.03099952],\n",
       "       [ 1.        , -2.6197451 ],\n",
       "       [ 1.        ,  0.49671415],\n",
       "       [ 1.        ,  0.09707755],\n",
       "       [ 1.        , -0.46572975],\n",
       "       [ 1.        ,  0.91540212],\n",
       "       [ 1.        ,  1.56464366],\n",
       "       [ 1.        ,  1.46564877],\n",
       "       [ 1.        , -0.60063869],\n",
       "       [ 1.        , -0.03582604],\n",
       "       [ 1.        , -0.60170661],\n",
       "       [ 1.        , -1.19620662],\n",
       "       [ 1.        ,  0.35711257],\n",
       "       [ 1.        ,  0.37569802],\n",
       "       [ 1.        ,  0.26105527],\n",
       "       [ 1.        , -0.5297602 ],\n",
       "       [ 1.        , -0.90802408],\n",
       "       [ 1.        ,  0.19686124],\n",
       "       [ 1.        , -0.29900735],\n",
       "       [ 1.        ,  0.36163603],\n",
       "       [ 1.        ,  0.82254491],\n",
       "       [ 1.        , -0.29169375],\n",
       "       [ 1.        ,  0.36139561],\n",
       "       [ 1.        , -0.676922  ],\n",
       "       [ 1.        ,  1.52302986],\n",
       "       [ 1.        , -0.51827022],\n",
       "       [ 1.        , -0.23415337],\n",
       "       [ 1.        , -0.39210815],\n",
       "       [ 1.        , -0.3011037 ],\n",
       "       [ 1.        , -0.64511975],\n",
       "       [ 1.        ,  0.32875111],\n",
       "       [ 1.        ,  0.2088636 ],\n",
       "       [ 1.        , -0.32766215],\n",
       "       [ 1.        ,  0.00511346],\n",
       "       [ 1.        , -0.23413696],\n",
       "       [ 1.        ,  1.47789404],\n",
       "       [ 1.        , -0.38508228],\n",
       "       [ 1.        ,  0.34361829],\n",
       "       [ 1.        ,  0.33126343],\n",
       "       [ 1.        , -0.18565898],\n",
       "       [ 1.        , -0.23458713],\n",
       "       [ 1.        , -1.98756891],\n",
       "       [ 1.        ,  0.32408397],\n",
       "       [ 1.        , -0.2257763 ],\n",
       "       [ 1.        , -1.10633497],\n",
       "       [ 1.        , -0.70205309],\n",
       "       [ 1.        , -1.46351495],\n",
       "       [ 1.        ,  0.96864499],\n",
       "       [ 1.        , -1.72491783],\n",
       "       [ 1.        , -1.91328024],\n",
       "       [ 1.        , -0.56228753],\n",
       "       [ 1.        ,  0.76743473],\n",
       "       [ 1.        ,  0.81252582],\n",
       "       [ 1.        , -1.4123037 ],\n",
       "       [ 1.        , -1.47852199],\n",
       "       [ 1.        , -1.22084365],\n",
       "       [ 1.        , -0.83921752],\n",
       "       [ 1.        ,  1.57921282],\n",
       "       [ 1.        ,  0.97554513],\n",
       "       [ 1.        ,  0.24196227],\n",
       "       [ 1.        ,  0.29612028],\n",
       "       [ 1.        , -0.54438272],\n",
       "       [ 1.        , -1.76304016],\n",
       "       [ 1.        ,  0.11092259],\n",
       "       [ 1.        ,  0.17136828],\n",
       "       [ 1.        , -1.32818605],\n",
       "       [ 1.        ,  1.05712223],\n",
       "       [ 1.        , -0.11564828],\n",
       "       [ 1.        , -0.46947439],\n",
       "       [ 1.        , -0.01349722],\n",
       "       [ 1.        , -1.01283112],\n",
       "       [ 1.        , -0.1382643 ],\n",
       "       [ 1.        , -1.15099358],\n",
       "       [ 1.        ,  1.35624003],\n",
       "       [ 1.        ,  0.0675282 ],\n",
       "       [ 1.        , -0.50175704],\n",
       "       [ 1.        , -0.46063877],\n",
       "       [ 1.        ,  1.85227818],\n",
       "       [ 1.        , -1.42474819],\n",
       "       [ 1.        , -0.71984421],\n",
       "       [ 1.        , -0.07201012],\n",
       "       [ 1.        , -0.30921238]])"
      ]
     },
     "execution_count": 8,
     "metadata": {},
     "output_type": "execute_result"
    }
   ],
   "source": [
    "X_ext # ha aggiunto una colonna di tutti uno"
   ]
  },
  {
   "cell_type": "markdown",
   "metadata": {},
   "source": [
    "## Solution 1. Ordinary Least Squares\n",
    "\n",
    "Find the weight values $\\mathbf{w}$ that minimize the error $E_{\\mathbf{in}}(\\mathbf{w}) = \\frac{1}{N} \\sum_{n=1}^n {(\\mathbf{w}^T \\mathbf{X}_n - \\mathbf{y}_n)^2}$.\n",
    "\n",
    "For this, implement Linear Regression and use the Ordinary Least Squares (OLS) closed-form expression to find the estimated values of $\\mathbf{w}$:\n",
    "\n",
    "$$\\mathbf{w} = (\\mathbf{X}^{\\rm T}\\mathbf{X})^{-1} \\mathbf{X}^{\\rm T}\\mathbf{y}$$"
   ]
  },
  {
   "cell_type": "code",
   "execution_count": 9,
   "metadata": {
    "collapsed": true
   },
   "outputs": [],
   "source": [
    "# la minimizzazione di questo errore e' un problema convesso. In pratica dobbiamo trovare il modello che minimizza\n",
    "# la differenza \n",
    "# Nel problema convesso dobbiamo trovare il punto in cui la derivata dell'errore e' zero\n",
    "# w e' il gradiente che e' il punto in cui la derivata e' zero"
   ]
  },
  {
   "cell_type": "code",
   "execution_count": 11,
   "metadata": {
    "collapsed": false
   },
   "outputs": [
    {
     "data": {
      "text/plain": [
       "array([[  1.16511532],\n",
       "       [ 44.43716999]])"
      ]
     },
     "execution_count": 11,
     "metadata": {},
     "output_type": "execute_result"
    }
   ],
   "source": [
    "W = np.linalg.inv(X_ext.T.dot(X_ext)).dot(X_ext.T).dot(Y) # e' la versione python dell'espressione w sopra\n",
    "W"
   ]
  },
  {
   "cell_type": "code",
   "execution_count": 12,
   "metadata": {
    "collapsed": false
   },
   "outputs": [
    {
     "data": {
      "image/png": "[encoded data removed]",
      "text/plain": [
       "<matplotlib.figure.Figure at 0x7fb98cb5c390>"
      ]
     },
     "metadata": {},
     "output_type": "display_data"
    }
   ],
   "source": [
    "plot(X, y, 'bx')\n",
    "plot(X, X_ext.dot(W), 'r.')\n",
    "xlabel('$x_1$')\n",
    "ylabel(\"$y$\");"
   ]
  },
  {
   "cell_type": "code",
   "execution_count": 14,
   "metadata": {
    "collapsed": true
   },
   "outputs": [],
   "source": [
    "# non sempre si riesce a trovare una formula chiusa che mi restituisca il gradiente = 0\n",
    "# per questo si usa il batch gradient descent che va alla ricerca del minimo w"
   ]
  },
  {
   "cell_type": "markdown",
   "metadata": {},
   "source": [
    "## Solution 2: Batch Gradient Descent\n",
    "\n",
    "Find the weight values $\\mathbf{w}$ that minimize the error $E_{\\mathbf{in}}(\\mathbf{w}) = \\frac{1}{N} \\sum_{n=1}^n {(\\mathbf{w}^T \\mathbf{X}_n - \\mathbf{y}_n)^2}$.\n",
    "\n",
    "For this, implement the Batch Gradient Descent algorithm with $\\mathbf{s}$ learning steps and learning rate $\\alpha$.  \n",
    "At each training step, update $\\mathbf{w}$ with this rule:\n",
    "\n",
    "$$\\mathbf{w}_i := \\mathbf{w}_i - \\alpha \\left(\\left(\\mathbf{X}\\mathbf{w} - \\mathbf{y}\\right)^T\\mathbf{X}_i\\right)$$"
   ]
  },
  {
   "cell_type": "code",
   "execution_count": 23,
   "metadata": {
    "collapsed": false
   },
   "outputs": [
    {
     "name": "stdout",
     "output_type": "stream",
     "text": [
      "3680.41702145\n",
      "707.926169325\n",
      "155.499031493\n",
      "34.4144753511\n",
      "7.61928913712\n",
      "1.68692391539\n",
      "0.373488221747\n",
      "0.0826910190404\n",
      "0.0183079525554\n",
      "0.00405341632846\n",
      "0.000897434264318\n",
      "0.00019869369279\n",
      "4.39911702231e-05\n",
      "[[  1.16511527]\n",
      " [ 44.43716988]]\n"
     ]
    },
    {
     "data": {
      "image/png": "[encoded data removed]",
      "text/plain": [
       "<matplotlib.figure.Figure at 0x7fb98c86aad0>"
      ]
     },
     "metadata": {},
     "output_type": "display_data"
    }
   ],
   "source": [
    "n, d = X_ext.shape\n",
    "s = 100 # learning steps\n",
    "alpha = 0.01 # learning rate\n",
    "\n",
    "W = zeros((d, 1))\n",
    "\n",
    "for step in range(s):\n",
    "    grad = (X_ext.dot(W) - Y).T.dot(X_ext).T\n",
    "    W = W - alpha * grad\n",
    "    print np.linalg.norm(grad)\n",
    "    if np.linalg.norm(grad) < 1e-4:\n",
    "        break\n",
    "\n",
    "print W\n",
    "\n",
    "plot(X, y, 'bx')\n",
    "plot(X, X_ext.dot(W), 'r.')\n",
    "xlabel('$x_1$')\n",
    "ylabel(\"$y$\");"
   ]
  },
  {
   "cell_type": "markdown",
   "metadata": {},
   "source": [
    "## Solution 3: Stochastic Gradient Descent\n",
    "\n",
    "Find the weight values $\\mathbf{w}$ that minimize the error $E_{\\mathbf{in}}(\\mathbf{w}) = \\frac{1}{N} \\sum_{n=1}^n {(\\mathbf{w}^T \\mathbf{X}_n - \\mathbf{y}_n)^2}$.\n",
    "\n",
    "For this, implement the Stochastic Gradient Descent algorithm with $\\mathbf{s}$ learning steps and learning rate $\\alpha$.\n",
    "In each step, iterate through all $j$ samples and, for each sample, update $\\mathbf{w}$ with this rule:\n",
    "\n",
    "$$\\mathbf{w}_i := \\mathbf{w}_i - \\alpha\\left(\\mathbf{X}^{(j)}\\mathbf{w} - \\mathbf{y}^{(j)}\\right)\\mathbf{X}^{(j)}_i$$"
   ]
  },
  {
   "cell_type": "code",
   "execution_count": 26,
   "metadata": {
    "collapsed": false
   },
   "outputs": [
    {
     "name": "stdout",
     "output_type": "stream",
     "text": [
      "[[  1.44684847]\n",
      " [ 44.55585676]]\n"
     ]
    },
    {
     "data": {
      "image/png": "[encoded data removed]",
      "text/plain": [
       "<matplotlib.figure.Figure at 0x7fb98c692410>"
      ]
     },
     "metadata": {},
     "output_type": "display_data"
    }
   ],
   "source": [
    "n, d = X_ext.shape\n",
    "s = 100 # learning steps\n",
    "alpha = 0.01 # learning rate\n",
    "\n",
    "W = zeros((d, 1))\n",
    "\n",
    "for step in range(s):\n",
    "    for j in range(n):\n",
    "        grad = (X_ext[j].dot(W) - Y[j]).T.dot(X_ext[[j], :].reshape(1,d)).reshape(d,1)\n",
    "        W -= alpha * grad\n",
    "\n",
    "print W\n",
    "\n",
    "plot(X, y, 'bx')\n",
    "plot(X, X_ext.dot(W), 'r.')\n",
    "xlabel('$x_1$')\n",
    "ylabel(\"$y$\");"
   ]
  },
  {
   "cell_type": "markdown",
   "metadata": {},
   "source": [
    "# Solution 4: Gradient Descent with Tensorflow"
   ]
  },
  {
   "cell_type": "code",
   "execution_count": 27,
   "metadata": {
    "collapsed": false
   },
   "outputs": [],
   "source": [
    "import tensorflow as tf"
   ]
  },
  {
   "cell_type": "code",
   "execution_count": 28,
   "metadata": {
    "collapsed": false
   },
   "outputs": [
    {
     "name": "stdout",
     "output_type": "stream",
     "text": [
      "142.147\n",
      "81.1592\n",
      "78.2064\n",
      "78.0617\n",
      "78.0546\n",
      "78.0543\n",
      "78.0542\n",
      "78.0542\n",
      "78.0542\n",
      "78.0542\n",
      "[[ 44.43716049]] [ 1.16511035]\n"
     ]
    },
    {
     "data": {
      "image/png": "[encoded data removed]",
      "text/plain": [
       "<matplotlib.figure.Figure at 0x7fb9892cac10>"
      ]
     },
     "metadata": {},
     "output_type": "display_data"
    }
   ],
   "source": [
    "# model inputs: X and Y\n",
    "x_tensor = tf.placeholder(tf.float32)\n",
    "y_tensor = tf.placeholder(tf.float32)\n",
    "\n",
    "# define the model variables\n",
    "w_tensor = tf.Variable(np.zeros((X.shape[1], 1)), dtype=tf.float32)\n",
    "b_tensor = tf.Variable([0], dtype=tf.float32)\n",
    "\n",
    "# loss function to minimize: 1/n * (x.dot(w) + b - y)^2\n",
    "y_pred = tf.matmul(x_tensor, w_tensor) + b_tensor\n",
    "loss = tf.reduce_mean(tf.square(y_pred - y_tensor))\n",
    "\n",
    "# define the gradient descent step\n",
    "learning_rate = 0.5\n",
    "train_step = tf.train.GradientDescentOptimizer(learning_rate).minimize(loss)\n",
    "\n",
    "feed_dict = {x_tensor: X, y_tensor: Y}\n",
    "\n",
    "# initialize session\n",
    "init = tf.initialize_all_variables()\n",
    "sess = tf.InteractiveSession()\n",
    "sess.run(init)\n",
    "\n",
    "try:\n",
    "    \n",
    "    for i in range(10):\n",
    "        sess.run(train_step, feed_dict=feed_dict)\n",
    "        print sess.run(loss, feed_dict=feed_dict)\n",
    "\n",
    "finally:\n",
    "    # collect results\n",
    "    W = sess.run(w_tensor, feed_dict=feed_dict)\n",
    "    B = sess.run(b_tensor, feed_dict=feed_dict)\n",
    "    sess.close()\n",
    "\n",
    "print W, B\n",
    "\n",
    "plot(X, y, 'bx')\n",
    "plot(X, X.dot(W)+B, 'r.')\n",
    "xlabel('$x_1$')\n",
    "ylabel(\"$y$\");"
   ]
  },
  {
   "cell_type": "code",
   "execution_count": null,
   "metadata": {
    "collapsed": true
   },
   "outputs": [],
   "source": []
  }
 ],
 "metadata": {
  "kernelspec": {
   "display_name": "Python [Root]",
   "language": "python",
   "name": "Python [Root]"
  },
  "language_info": {
   "codemirror_mode": {
    "name": "ipython",
    "version": 2
   },
   "file_extension": ".py",
   "mimetype": "text/x-python",
   "name": "python",
   "nbconvert_exporter": "python",
   "pygments_lexer": "ipython2",
   "version": "2.7.12"
  }
 },
 "nbformat": 4,
 "nbformat_minor": 0
}

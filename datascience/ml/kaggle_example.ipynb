{
 "cells": [
  {
   "cell_type": "code",
   "execution_count": 1,
   "metadata": {
    "collapsed": false
   },
   "outputs": [
    {
     "name": "stdout",
     "output_type": "stream",
     "text": [
      "Populating the interactive namespace from numpy and matplotlib\n"
     ]
    }
   ],
   "source": [
    "%pylab inline\n",
    "import pandas as pd"
   ]
  },
  {
   "cell_type": "markdown",
   "metadata": {},
   "source": [
    "# Load the train data"
   ]
  },
  {
   "cell_type": "code",
   "execution_count": 2,
   "metadata": {
    "collapsed": false
   },
   "outputs": [],
   "source": [
    "train_data = pd.read_csv(\"train_data.csv.gz\", compression=\"gzip\", encoding=\"utf8\")"
   ]
  },
  {
   "cell_type": "code",
   "execution_count": 3,
   "metadata": {
    "collapsed": false
   },
   "outputs": [
    {
     "data": {
      "text/html": [
       "<div>\n",
       "<table border=\"1\" class=\"dataframe\">\n",
       "  <thead>\n",
       "    <tr style=\"text-align: right;\">\n",
       "      <th></th>\n",
       "      <th>author</th>\n",
       "      <th>subreddit</th>\n",
       "      <th>created_utc</th>\n",
       "      <th>body</th>\n",
       "    </tr>\n",
       "  </thead>\n",
       "  <tbody>\n",
       "    <tr>\n",
       "      <th>0</th>\n",
       "      <td>ejchristian86</td>\n",
       "      <td>TwoXChromosomes</td>\n",
       "      <td>1.388534e+09</td>\n",
       "      <td>I hadn't ever heard of them before joining thi...</td>\n",
       "    </tr>\n",
       "    <tr>\n",
       "      <th>1</th>\n",
       "      <td>Shamus_Aran</td>\n",
       "      <td>mylittlepony</td>\n",
       "      <td>1.388534e+09</td>\n",
       "      <td>I don't think we'd get nearly as much fanficti...</td>\n",
       "    </tr>\n",
       "    <tr>\n",
       "      <th>2</th>\n",
       "      <td>Riddance</td>\n",
       "      <td>sex</td>\n",
       "      <td>1.388534e+09</td>\n",
       "      <td>Thanks. I made it up, that's how I got over my...</td>\n",
       "    </tr>\n",
       "    <tr>\n",
       "      <th>3</th>\n",
       "      <td>savoytruffle</td>\n",
       "      <td>AskReddit</td>\n",
       "      <td>1.388534e+09</td>\n",
       "      <td>bite me</td>\n",
       "    </tr>\n",
       "    <tr>\n",
       "      <th>4</th>\n",
       "      <td>Secret_Wizard</td>\n",
       "      <td>DragonsDogma</td>\n",
       "      <td>1.388534e+09</td>\n",
       "      <td>Are you sure you aren't confusing Cyclops (the...</td>\n",
       "    </tr>\n",
       "  </tbody>\n",
       "</table>\n",
       "</div>"
      ],
      "text/plain": [
       "          author        subreddit   created_utc  \\\n",
       "0  ejchristian86  TwoXChromosomes  1.388534e+09   \n",
       "1    Shamus_Aran     mylittlepony  1.388534e+09   \n",
       "2       Riddance              sex  1.388534e+09   \n",
       "3   savoytruffle        AskReddit  1.388534e+09   \n",
       "4  Secret_Wizard     DragonsDogma  1.388534e+09   \n",
       "\n",
       "                                                body  \n",
       "0  I hadn't ever heard of them before joining thi...  \n",
       "1  I don't think we'd get nearly as much fanficti...  \n",
       "2  Thanks. I made it up, that's how I got over my...  \n",
       "3                                            bite me  \n",
       "4  Are you sure you aren't confusing Cyclops (the...  "
      ]
     },
     "execution_count": 3,
     "metadata": {},
     "output_type": "execute_result"
    }
   ],
   "source": [
    "train_data.head()"
   ]
  },
  {
   "cell_type": "code",
   "execution_count": 4,
   "metadata": {
    "collapsed": false
   },
   "outputs": [],
   "source": [
    "target = pd.read_csv(\"train_target.csv\")"
   ]
  },
  {
   "cell_type": "code",
   "execution_count": 5,
   "metadata": {
    "collapsed": false
   },
   "outputs": [
    {
     "data": {
      "text/html": [
       "<div>\n",
       "<table border=\"1\" class=\"dataframe\">\n",
       "  <thead>\n",
       "    <tr style=\"text-align: right;\">\n",
       "      <th></th>\n",
       "      <th>author</th>\n",
       "      <th>gender</th>\n",
       "    </tr>\n",
       "  </thead>\n",
       "  <tbody>\n",
       "    <tr>\n",
       "      <th>0</th>\n",
       "      <td>RedThunder90</td>\n",
       "      <td>0</td>\n",
       "    </tr>\n",
       "    <tr>\n",
       "      <th>1</th>\n",
       "      <td>Lirkmor</td>\n",
       "      <td>1</td>\n",
       "    </tr>\n",
       "    <tr>\n",
       "      <th>2</th>\n",
       "      <td>In0chi</td>\n",
       "      <td>0</td>\n",
       "    </tr>\n",
       "    <tr>\n",
       "      <th>3</th>\n",
       "      <td>ProjectGrudge</td>\n",
       "      <td>0</td>\n",
       "    </tr>\n",
       "    <tr>\n",
       "      <th>4</th>\n",
       "      <td>TehTurtleHermit</td>\n",
       "      <td>0</td>\n",
       "    </tr>\n",
       "  </tbody>\n",
       "</table>\n",
       "</div>"
      ],
      "text/plain": [
       "            author  gender\n",
       "0     RedThunder90       0\n",
       "1          Lirkmor       1\n",
       "2           In0chi       0\n",
       "3    ProjectGrudge       0\n",
       "4  TehTurtleHermit       0"
      ]
     },
     "execution_count": 5,
     "metadata": {},
     "output_type": "execute_result"
    }
   ],
   "source": [
    "target.head()"
   ]
  },
  {
   "cell_type": "code",
   "execution_count": 6,
   "metadata": {
    "collapsed": false
   },
   "outputs": [
    {
     "data": {
      "text/html": [
       "<div>\n",
       "<table border=\"1\" class=\"dataframe\">\n",
       "  <thead>\n",
       "    <tr style=\"text-align: right;\">\n",
       "      <th></th>\n",
       "      <th>author</th>\n",
       "      <th>subreddit</th>\n",
       "      <th>created_utc</th>\n",
       "      <th>body</th>\n",
       "    </tr>\n",
       "  </thead>\n",
       "  <tbody>\n",
       "    <tr>\n",
       "      <th>3</th>\n",
       "      <td>savoytruffle</td>\n",
       "      <td>AskReddit</td>\n",
       "      <td>1.388534e+09</td>\n",
       "      <td>bite me</td>\n",
       "    </tr>\n",
       "    <tr>\n",
       "      <th>9</th>\n",
       "      <td>savoytruffle</td>\n",
       "      <td>AskReddit</td>\n",
       "      <td>1.388534e+09</td>\n",
       "      <td>too bad\\n\\nIf I was some thirty starving boys ...</td>\n",
       "    </tr>\n",
       "    <tr>\n",
       "      <th>53</th>\n",
       "      <td>savoytruffle</td>\n",
       "      <td>AskReddit</td>\n",
       "      <td>1.388535e+09</td>\n",
       "      <td>Are there men that don't enjoy sex?</td>\n",
       "    </tr>\n",
       "    <tr>\n",
       "      <th>74</th>\n",
       "      <td>savoytruffle</td>\n",
       "      <td>AskReddit</td>\n",
       "      <td>1.388535e+09</td>\n",
       "      <td>I don't know. I should probably record my pare...</td>\n",
       "    </tr>\n",
       "    <tr>\n",
       "      <th>84</th>\n",
       "      <td>savoytruffle</td>\n",
       "      <td>AskReddit</td>\n",
       "      <td>1.388535e+09</td>\n",
       "      <td>but why?</td>\n",
       "    </tr>\n",
       "    <tr>\n",
       "      <th>91</th>\n",
       "      <td>savoytruffle</td>\n",
       "      <td>AskReddit</td>\n",
       "      <td>1.388535e+09</td>\n",
       "      <td>ouch for her! but that is adorable!</td>\n",
       "    </tr>\n",
       "    <tr>\n",
       "      <th>100</th>\n",
       "      <td>savoytruffle</td>\n",
       "      <td>AskReddit</td>\n",
       "      <td>1.388535e+09</td>\n",
       "      <td>Gay men enjoy sex most of all!</td>\n",
       "    </tr>\n",
       "    <tr>\n",
       "      <th>115</th>\n",
       "      <td>savoytruffle</td>\n",
       "      <td>AskReddit</td>\n",
       "      <td>1.388535e+09</td>\n",
       "      <td>Not on Netflix, but I think via BitTorrent I j...</td>\n",
       "    </tr>\n",
       "    <tr>\n",
       "      <th>169</th>\n",
       "      <td>savoytruffle</td>\n",
       "      <td>AskReddit</td>\n",
       "      <td>1.388535e+09</td>\n",
       "      <td>Probably yes but I believe the grammar for Ame...</td>\n",
       "    </tr>\n",
       "    <tr>\n",
       "      <th>191</th>\n",
       "      <td>savoytruffle</td>\n",
       "      <td>AskReddit</td>\n",
       "      <td>1.388535e+09</td>\n",
       "      <td>Who would say that?</td>\n",
       "    </tr>\n",
       "    <tr>\n",
       "      <th>214</th>\n",
       "      <td>savoytruffle</td>\n",
       "      <td>AskReddit</td>\n",
       "      <td>1.388535e+09</td>\n",
       "      <td>who are you, Duck Dynasty beardey?</td>\n",
       "    </tr>\n",
       "    <tr>\n",
       "      <th>225</th>\n",
       "      <td>savoytruffle</td>\n",
       "      <td>AskReddit</td>\n",
       "      <td>1.388535e+09</td>\n",
       "      <td>My country spends too much money on the milita...</td>\n",
       "    </tr>\n",
       "    <tr>\n",
       "      <th>242</th>\n",
       "      <td>savoytruffle</td>\n",
       "      <td>AskReddit</td>\n",
       "      <td>1.388536e+09</td>\n",
       "      <td>Grade 2 == Second grade.</td>\n",
       "    </tr>\n",
       "    <tr>\n",
       "      <th>261</th>\n",
       "      <td>savoytruffle</td>\n",
       "      <td>AskReddit</td>\n",
       "      <td>1.388536e+09</td>\n",
       "      <td>maybe yes? maybe just for girls</td>\n",
       "    </tr>\n",
       "    <tr>\n",
       "      <th>295</th>\n",
       "      <td>savoytruffle</td>\n",
       "      <td>AskReddit</td>\n",
       "      <td>1.388536e+09</td>\n",
       "      <td>I saw The Killers in like late 2007 in a big a...</td>\n",
       "    </tr>\n",
       "    <tr>\n",
       "      <th>328</th>\n",
       "      <td>savoytruffle</td>\n",
       "      <td>AskReddit</td>\n",
       "      <td>1.388536e+09</td>\n",
       "      <td>It's nonsense</td>\n",
       "    </tr>\n",
       "    <tr>\n",
       "      <th>367</th>\n",
       "      <td>savoytruffle</td>\n",
       "      <td>AskReddit</td>\n",
       "      <td>1.388536e+09</td>\n",
       "      <td>Colin Powell may never live it down. His prese...</td>\n",
       "    </tr>\n",
       "    <tr>\n",
       "      <th>407</th>\n",
       "      <td>savoytruffle</td>\n",
       "      <td>AskReddit</td>\n",
       "      <td>1.388536e+09</td>\n",
       "      <td>The gist is I'm not willing to pay $5 for an i...</td>\n",
       "    </tr>\n",
       "    <tr>\n",
       "      <th>463</th>\n",
       "      <td>savoytruffle</td>\n",
       "      <td>AskReddit</td>\n",
       "      <td>1.388537e+09</td>\n",
       "      <td>Saint Louis is nothing in particular, but the ...</td>\n",
       "    </tr>\n",
       "    <tr>\n",
       "      <th>546</th>\n",
       "      <td>savoytruffle</td>\n",
       "      <td>AskReddit</td>\n",
       "      <td>1.388537e+09</td>\n",
       "      <td>Stouffer's used to have a cheese and broccoli ...</td>\n",
       "    </tr>\n",
       "    <tr>\n",
       "      <th>564</th>\n",
       "      <td>savoytruffle</td>\n",
       "      <td>AskReddit</td>\n",
       "      <td>1.388537e+09</td>\n",
       "      <td>They'll like it no matter what.\\n\\nI don't fuc...</td>\n",
       "    </tr>\n",
       "    <tr>\n",
       "      <th>586</th>\n",
       "      <td>savoytruffle</td>\n",
       "      <td>AskReddit</td>\n",
       "      <td>1.388537e+09</td>\n",
       "      <td>I've had sex at about 7,000 feet above sea lev...</td>\n",
       "    </tr>\n",
       "    <tr>\n",
       "      <th>612</th>\n",
       "      <td>savoytruffle</td>\n",
       "      <td>AskReddit</td>\n",
       "      <td>1.388537e+09</td>\n",
       "      <td>I'm a hardcore liberal.\\n\\nI don't hate anyone...</td>\n",
       "    </tr>\n",
       "    <tr>\n",
       "      <th>638</th>\n",
       "      <td>savoytruffle</td>\n",
       "      <td>AskReddit</td>\n",
       "      <td>1.388538e+09</td>\n",
       "      <td>hah it's always in our nasty basement as he tr...</td>\n",
       "    </tr>\n",
       "    <tr>\n",
       "      <th>662</th>\n",
       "      <td>savoytruffle</td>\n",
       "      <td>AskReddit</td>\n",
       "      <td>1.388538e+09</td>\n",
       "      <td>&amp;gt;I mean couldn't you say the same thing abo...</td>\n",
       "    </tr>\n",
       "    <tr>\n",
       "      <th>677</th>\n",
       "      <td>savoytruffle</td>\n",
       "      <td>AskReddit</td>\n",
       "      <td>1.388538e+09</td>\n",
       "      <td>your mom sounds like a real bitch. I'd like her.</td>\n",
       "    </tr>\n",
       "    <tr>\n",
       "      <th>684</th>\n",
       "      <td>savoytruffle</td>\n",
       "      <td>AskReddit</td>\n",
       "      <td>1.388538e+09</td>\n",
       "      <td>I'd like to see it cut in half so it's still w...</td>\n",
       "    </tr>\n",
       "    <tr>\n",
       "      <th>737</th>\n",
       "      <td>savoytruffle</td>\n",
       "      <td>AskReddit</td>\n",
       "      <td>1.388538e+09</td>\n",
       "      <td>I've never walked out on a movie.</td>\n",
       "    </tr>\n",
       "    <tr>\n",
       "      <th>763</th>\n",
       "      <td>savoytruffle</td>\n",
       "      <td>AskReddit</td>\n",
       "      <td>1.388538e+09</td>\n",
       "      <td>I don't care if you get engaged, will the pare...</td>\n",
       "    </tr>\n",
       "    <tr>\n",
       "      <th>820</th>\n",
       "      <td>savoytruffle</td>\n",
       "      <td>AskReddit</td>\n",
       "      <td>1.388538e+09</td>\n",
       "      <td>That is it. Home Alone. I just watched it last...</td>\n",
       "    </tr>\n",
       "    <tr>\n",
       "      <th>...</th>\n",
       "      <td>...</td>\n",
       "      <td>...</td>\n",
       "      <td>...</td>\n",
       "      <td>...</td>\n",
       "    </tr>\n",
       "    <tr>\n",
       "      <th>737845</th>\n",
       "      <td>savoytruffle</td>\n",
       "      <td>AskReddit</td>\n",
       "      <td>1.391111e+09</td>\n",
       "      <td>You shouldn't hold grudges while driving. You ...</td>\n",
       "    </tr>\n",
       "    <tr>\n",
       "      <th>737885</th>\n",
       "      <td>savoytruffle</td>\n",
       "      <td>AskReddit</td>\n",
       "      <td>1.391111e+09</td>\n",
       "      <td>You can't become the man. The best you can do ...</td>\n",
       "    </tr>\n",
       "    <tr>\n",
       "      <th>737904</th>\n",
       "      <td>savoytruffle</td>\n",
       "      <td>AskReddit</td>\n",
       "      <td>1.391111e+09</td>\n",
       "      <td>Where's best for a burger?</td>\n",
       "    </tr>\n",
       "    <tr>\n",
       "      <th>737935</th>\n",
       "      <td>savoytruffle</td>\n",
       "      <td>AskReddit</td>\n",
       "      <td>1.391111e+09</td>\n",
       "      <td>I love you too but Canada has lower and laxxer...</td>\n",
       "    </tr>\n",
       "    <tr>\n",
       "      <th>737958</th>\n",
       "      <td>savoytruffle</td>\n",
       "      <td>AskReddit</td>\n",
       "      <td>1.391112e+09</td>\n",
       "      <td>/r/newzanada is over there and /r/ameristralia...</td>\n",
       "    </tr>\n",
       "    <tr>\n",
       "      <th>738020</th>\n",
       "      <td>savoytruffle</td>\n",
       "      <td>AskReddit</td>\n",
       "      <td>1.391112e+09</td>\n",
       "      <td>depending on what part of America you're in yo...</td>\n",
       "    </tr>\n",
       "    <tr>\n",
       "      <th>738043</th>\n",
       "      <td>savoytruffle</td>\n",
       "      <td>AskReddit</td>\n",
       "      <td>1.391112e+09</td>\n",
       "      <td>That's a real bummer about Germany still being...</td>\n",
       "    </tr>\n",
       "    <tr>\n",
       "      <th>738071</th>\n",
       "      <td>savoytruffle</td>\n",
       "      <td>AskReddit</td>\n",
       "      <td>1.391112e+09</td>\n",
       "      <td>How'd he get charged with serious crimes in tw...</td>\n",
       "    </tr>\n",
       "    <tr>\n",
       "      <th>738086</th>\n",
       "      <td>savoytruffle</td>\n",
       "      <td>AskReddit</td>\n",
       "      <td>1.391112e+09</td>\n",
       "      <td>oh man Easter is coming up again, too</td>\n",
       "    </tr>\n",
       "    <tr>\n",
       "      <th>738132</th>\n",
       "      <td>savoytruffle</td>\n",
       "      <td>AskReddit</td>\n",
       "      <td>1.391112e+09</td>\n",
       "      <td>The US Constitution is something that most oth...</td>\n",
       "    </tr>\n",
       "    <tr>\n",
       "      <th>738172</th>\n",
       "      <td>savoytruffle</td>\n",
       "      <td>AskReddit</td>\n",
       "      <td>1.391112e+09</td>\n",
       "      <td>Not likely</td>\n",
       "    </tr>\n",
       "    <tr>\n",
       "      <th>738203</th>\n",
       "      <td>savoytruffle</td>\n",
       "      <td>AskReddit</td>\n",
       "      <td>1.391112e+09</td>\n",
       "      <td>I was trying to remember if it was Netherlands...</td>\n",
       "    </tr>\n",
       "    <tr>\n",
       "      <th>738330</th>\n",
       "      <td>savoytruffle</td>\n",
       "      <td>AskReddit</td>\n",
       "      <td>1.391113e+09</td>\n",
       "      <td>There's some new charges in Canada.\\n\\nhttp://...</td>\n",
       "    </tr>\n",
       "    <tr>\n",
       "      <th>738347</th>\n",
       "      <td>savoytruffle</td>\n",
       "      <td>AskReddit</td>\n",
       "      <td>1.391113e+09</td>\n",
       "      <td>I think we have to have some self-control.</td>\n",
       "    </tr>\n",
       "    <tr>\n",
       "      <th>738394</th>\n",
       "      <td>savoytruffle</td>\n",
       "      <td>AskReddit</td>\n",
       "      <td>1.391113e+09</td>\n",
       "      <td>Look at this movie star!\\n\\nhttps://en.wikiped...</td>\n",
       "    </tr>\n",
       "    <tr>\n",
       "      <th>738446</th>\n",
       "      <td>savoytruffle</td>\n",
       "      <td>AskReddit</td>\n",
       "      <td>1.391113e+09</td>\n",
       "      <td>agreed!\\n\\nKing of Netherlands, right?</td>\n",
       "    </tr>\n",
       "    <tr>\n",
       "      <th>738501</th>\n",
       "      <td>savoytruffle</td>\n",
       "      <td>AskReddit</td>\n",
       "      <td>1.391113e+09</td>\n",
       "      <td>I got into some legal trouble when I was 19-20...</td>\n",
       "    </tr>\n",
       "    <tr>\n",
       "      <th>738519</th>\n",
       "      <td>savoytruffle</td>\n",
       "      <td>AskReddit</td>\n",
       "      <td>1.391113e+09</td>\n",
       "      <td>Based on 50 replies, I'm eating the wrong kind...</td>\n",
       "    </tr>\n",
       "    <tr>\n",
       "      <th>738550</th>\n",
       "      <td>savoytruffle</td>\n",
       "      <td>AskReddit</td>\n",
       "      <td>1.391113e+09</td>\n",
       "      <td>That's what my Canadian internet friends say. ...</td>\n",
       "    </tr>\n",
       "    <tr>\n",
       "      <th>738590</th>\n",
       "      <td>savoytruffle</td>\n",
       "      <td>AskReddit</td>\n",
       "      <td>1.391114e+09</td>\n",
       "      <td>I don't wish ill on him.</td>\n",
       "    </tr>\n",
       "    <tr>\n",
       "      <th>738632</th>\n",
       "      <td>savoytruffle</td>\n",
       "      <td>AskReddit</td>\n",
       "      <td>1.391114e+09</td>\n",
       "      <td>Told me she was pregnant. Every girl's told he...</td>\n",
       "    </tr>\n",
       "    <tr>\n",
       "      <th>738647</th>\n",
       "      <td>savoytruffle</td>\n",
       "      <td>AskReddit</td>\n",
       "      <td>1.391114e+09</td>\n",
       "      <td>necessary\\n\\ngauge</td>\n",
       "    </tr>\n",
       "    <tr>\n",
       "      <th>738664</th>\n",
       "      <td>savoytruffle</td>\n",
       "      <td>AskReddit</td>\n",
       "      <td>1.391114e+09</td>\n",
       "      <td>awkward is surprising</td>\n",
       "    </tr>\n",
       "    <tr>\n",
       "      <th>738687</th>\n",
       "      <td>savoytruffle</td>\n",
       "      <td>AskReddit</td>\n",
       "      <td>1.391114e+09</td>\n",
       "      <td>no, for real. It's sort of a straightforward w...</td>\n",
       "    </tr>\n",
       "    <tr>\n",
       "      <th>738722</th>\n",
       "      <td>savoytruffle</td>\n",
       "      <td>AskReddit</td>\n",
       "      <td>1.391114e+09</td>\n",
       "      <td>I sort of lied, I have to been to a Trader Joe...</td>\n",
       "    </tr>\n",
       "    <tr>\n",
       "      <th>738751</th>\n",
       "      <td>savoytruffle</td>\n",
       "      <td>AskReddit</td>\n",
       "      <td>1.391114e+09</td>\n",
       "      <td>Like Auckland? I can see it.</td>\n",
       "    </tr>\n",
       "    <tr>\n",
       "      <th>738772</th>\n",
       "      <td>savoytruffle</td>\n",
       "      <td>AskReddit</td>\n",
       "      <td>1.391114e+09</td>\n",
       "      <td>wow!\\n\\nI didn't before but now I wish I had s...</td>\n",
       "    </tr>\n",
       "    <tr>\n",
       "      <th>738819</th>\n",
       "      <td>savoytruffle</td>\n",
       "      <td>AskReddit</td>\n",
       "      <td>1.391114e+09</td>\n",
       "      <td>I believe it's at $10,000 cash transactions wh...</td>\n",
       "    </tr>\n",
       "    <tr>\n",
       "      <th>738845</th>\n",
       "      <td>savoytruffle</td>\n",
       "      <td>AskReddit</td>\n",
       "      <td>1.391114e+09</td>\n",
       "      <td>now here's some money laundering advice!</td>\n",
       "    </tr>\n",
       "    <tr>\n",
       "      <th>738936</th>\n",
       "      <td>savoytruffle</td>\n",
       "      <td>AskReddit</td>\n",
       "      <td>1.391115e+09</td>\n",
       "      <td>&amp;gt; https://en.wikipedia.org/wiki/Mark_Rutte\\...</td>\n",
       "    </tr>\n",
       "  </tbody>\n",
       "</table>\n",
       "<p>2234 rows × 4 columns</p>\n",
       "</div>"
      ],
      "text/plain": [
       "              author  subreddit   created_utc  \\\n",
       "3       savoytruffle  AskReddit  1.388534e+09   \n",
       "9       savoytruffle  AskReddit  1.388534e+09   \n",
       "53      savoytruffle  AskReddit  1.388535e+09   \n",
       "74      savoytruffle  AskReddit  1.388535e+09   \n",
       "84      savoytruffle  AskReddit  1.388535e+09   \n",
       "91      savoytruffle  AskReddit  1.388535e+09   \n",
       "100     savoytruffle  AskReddit  1.388535e+09   \n",
       "115     savoytruffle  AskReddit  1.388535e+09   \n",
       "169     savoytruffle  AskReddit  1.388535e+09   \n",
       "191     savoytruffle  AskReddit  1.388535e+09   \n",
       "214     savoytruffle  AskReddit  1.388535e+09   \n",
       "225     savoytruffle  AskReddit  1.388535e+09   \n",
       "242     savoytruffle  AskReddit  1.388536e+09   \n",
       "261     savoytruffle  AskReddit  1.388536e+09   \n",
       "295     savoytruffle  AskReddit  1.388536e+09   \n",
       "328     savoytruffle  AskReddit  1.388536e+09   \n",
       "367     savoytruffle  AskReddit  1.388536e+09   \n",
       "407     savoytruffle  AskReddit  1.388536e+09   \n",
       "463     savoytruffle  AskReddit  1.388537e+09   \n",
       "546     savoytruffle  AskReddit  1.388537e+09   \n",
       "564     savoytruffle  AskReddit  1.388537e+09   \n",
       "586     savoytruffle  AskReddit  1.388537e+09   \n",
       "612     savoytruffle  AskReddit  1.388537e+09   \n",
       "638     savoytruffle  AskReddit  1.388538e+09   \n",
       "662     savoytruffle  AskReddit  1.388538e+09   \n",
       "677     savoytruffle  AskReddit  1.388538e+09   \n",
       "684     savoytruffle  AskReddit  1.388538e+09   \n",
       "737     savoytruffle  AskReddit  1.388538e+09   \n",
       "763     savoytruffle  AskReddit  1.388538e+09   \n",
       "820     savoytruffle  AskReddit  1.388538e+09   \n",
       "...              ...        ...           ...   \n",
       "737845  savoytruffle  AskReddit  1.391111e+09   \n",
       "737885  savoytruffle  AskReddit  1.391111e+09   \n",
       "737904  savoytruffle  AskReddit  1.391111e+09   \n",
       "737935  savoytruffle  AskReddit  1.391111e+09   \n",
       "737958  savoytruffle  AskReddit  1.391112e+09   \n",
       "738020  savoytruffle  AskReddit  1.391112e+09   \n",
       "738043  savoytruffle  AskReddit  1.391112e+09   \n",
       "738071  savoytruffle  AskReddit  1.391112e+09   \n",
       "738086  savoytruffle  AskReddit  1.391112e+09   \n",
       "738132  savoytruffle  AskReddit  1.391112e+09   \n",
       "738172  savoytruffle  AskReddit  1.391112e+09   \n",
       "738203  savoytruffle  AskReddit  1.391112e+09   \n",
       "738330  savoytruffle  AskReddit  1.391113e+09   \n",
       "738347  savoytruffle  AskReddit  1.391113e+09   \n",
       "738394  savoytruffle  AskReddit  1.391113e+09   \n",
       "738446  savoytruffle  AskReddit  1.391113e+09   \n",
       "738501  savoytruffle  AskReddit  1.391113e+09   \n",
       "738519  savoytruffle  AskReddit  1.391113e+09   \n",
       "738550  savoytruffle  AskReddit  1.391113e+09   \n",
       "738590  savoytruffle  AskReddit  1.391114e+09   \n",
       "738632  savoytruffle  AskReddit  1.391114e+09   \n",
       "738647  savoytruffle  AskReddit  1.391114e+09   \n",
       "738664  savoytruffle  AskReddit  1.391114e+09   \n",
       "738687  savoytruffle  AskReddit  1.391114e+09   \n",
       "738722  savoytruffle  AskReddit  1.391114e+09   \n",
       "738751  savoytruffle  AskReddit  1.391114e+09   \n",
       "738772  savoytruffle  AskReddit  1.391114e+09   \n",
       "738819  savoytruffle  AskReddit  1.391114e+09   \n",
       "738845  savoytruffle  AskReddit  1.391114e+09   \n",
       "738936  savoytruffle  AskReddit  1.391115e+09   \n",
       "\n",
       "                                                     body  \n",
       "3                                                 bite me  \n",
       "9       too bad\\n\\nIf I was some thirty starving boys ...  \n",
       "53                    Are there men that don't enjoy sex?  \n",
       "74      I don't know. I should probably record my pare...  \n",
       "84                                               but why?  \n",
       "91                    ouch for her! but that is adorable!  \n",
       "100                        Gay men enjoy sex most of all!  \n",
       "115     Not on Netflix, but I think via BitTorrent I j...  \n",
       "169     Probably yes but I believe the grammar for Ame...  \n",
       "191                                   Who would say that?  \n",
       "214                    who are you, Duck Dynasty beardey?  \n",
       "225     My country spends too much money on the milita...  \n",
       "242                              Grade 2 == Second grade.  \n",
       "261                       maybe yes? maybe just for girls  \n",
       "295     I saw The Killers in like late 2007 in a big a...  \n",
       "328                                         It's nonsense  \n",
       "367     Colin Powell may never live it down. His prese...  \n",
       "407     The gist is I'm not willing to pay $5 for an i...  \n",
       "463     Saint Louis is nothing in particular, but the ...  \n",
       "546     Stouffer's used to have a cheese and broccoli ...  \n",
       "564     They'll like it no matter what.\\n\\nI don't fuc...  \n",
       "586     I've had sex at about 7,000 feet above sea lev...  \n",
       "612     I'm a hardcore liberal.\\n\\nI don't hate anyone...  \n",
       "638     hah it's always in our nasty basement as he tr...  \n",
       "662     &gt;I mean couldn't you say the same thing abo...  \n",
       "677      your mom sounds like a real bitch. I'd like her.  \n",
       "684     I'd like to see it cut in half so it's still w...  \n",
       "737                     I've never walked out on a movie.  \n",
       "763     I don't care if you get engaged, will the pare...  \n",
       "820     That is it. Home Alone. I just watched it last...  \n",
       "...                                                   ...  \n",
       "737845  You shouldn't hold grudges while driving. You ...  \n",
       "737885  You can't become the man. The best you can do ...  \n",
       "737904                         Where's best for a burger?  \n",
       "737935  I love you too but Canada has lower and laxxer...  \n",
       "737958  /r/newzanada is over there and /r/ameristralia...  \n",
       "738020  depending on what part of America you're in yo...  \n",
       "738043  That's a real bummer about Germany still being...  \n",
       "738071  How'd he get charged with serious crimes in tw...  \n",
       "738086              oh man Easter is coming up again, too  \n",
       "738132  The US Constitution is something that most oth...  \n",
       "738172                                         Not likely  \n",
       "738203  I was trying to remember if it was Netherlands...  \n",
       "738330  There's some new charges in Canada.\\n\\nhttp://...  \n",
       "738347         I think we have to have some self-control.  \n",
       "738394  Look at this movie star!\\n\\nhttps://en.wikiped...  \n",
       "738446             agreed!\\n\\nKing of Netherlands, right?  \n",
       "738501  I got into some legal trouble when I was 19-20...  \n",
       "738519  Based on 50 replies, I'm eating the wrong kind...  \n",
       "738550  That's what my Canadian internet friends say. ...  \n",
       "738590                           I don't wish ill on him.  \n",
       "738632  Told me she was pregnant. Every girl's told he...  \n",
       "738647                                 necessary\\n\\ngauge  \n",
       "738664                              awkward is surprising  \n",
       "738687  no, for real. It's sort of a straightforward w...  \n",
       "738722  I sort of lied, I have to been to a Trader Joe...  \n",
       "738751                       Like Auckland? I can see it.  \n",
       "738772  wow!\\n\\nI didn't before but now I wish I had s...  \n",
       "738819  I believe it's at $10,000 cash transactions wh...  \n",
       "738845           now here's some money laundering advice!  \n",
       "738936  &gt; https://en.wikipedia.org/wiki/Mark_Rutte\\...  \n",
       "\n",
       "[2234 rows x 4 columns]"
      ]
     },
     "execution_count": 6,
     "metadata": {},
     "output_type": "execute_result"
    }
   ],
   "source": [
    "train_data[train_data.author=='savoytruffle']"
   ]
  },
  {
   "cell_type": "code",
   "execution_count": 7,
   "metadata": {
    "collapsed": false
   },
   "outputs": [
    {
     "data": {
      "text/plain": [
       "(10000,)"
      ]
     },
     "execution_count": 7,
     "metadata": {},
     "output_type": "execute_result"
    }
   ],
   "source": [
    "train_data.author.unique().shape"
   ]
  },
  {
   "cell_type": "code",
   "execution_count": 8,
   "metadata": {
    "collapsed": false
   },
   "outputs": [
    {
     "data": {
      "text/plain": [
       "(3866,)"
      ]
     },
     "execution_count": 8,
     "metadata": {},
     "output_type": "execute_result"
    }
   ],
   "source": [
    "train_data.subreddit.unique().shape"
   ]
  },
  {
   "cell_type": "markdown",
   "metadata": {},
   "source": [
    "In pratica ho una matrice 10000X3866 (piuttosta grossa) -> sulle colonne della matrice sparsa ho 1 se ha scritto sul subreddit altrimenti 0"
   ]
  },
  {
   "cell_type": "markdown",
   "metadata": {},
   "source": [
    "# Feature Extraction"
   ]
  },
  {
   "cell_type": "code",
   "execution_count": 9,
   "metadata": {
    "collapsed": true
   },
   "outputs": [],
   "source": [
    "# Qui fa il dizionario dei subreddit\n",
    "subreddits = train_data.subreddit.unique()\n",
    "subreddits_map = pd.Series(index=subreddits, data=arange(subreddits.shape[0]))"
   ]
  },
  {
   "cell_type": "code",
   "execution_count": 10,
   "metadata": {
    "collapsed": false
   },
   "outputs": [
    {
     "data": {
      "text/plain": [
       "(3866,)"
      ]
     },
     "execution_count": 10,
     "metadata": {},
     "output_type": "execute_result"
    }
   ],
   "source": [
    "subreddits.shape # sono 3866 subreddits"
   ]
  },
  {
   "cell_type": "code",
   "execution_count": 11,
   "metadata": {
    "collapsed": false
   },
   "outputs": [
    {
     "data": {
      "text/plain": [
       "TwoXChromosomes         0\n",
       "mylittlepony            1\n",
       "sex                     2\n",
       "AskReddit               3\n",
       "DragonsDogma            4\n",
       "malefashionadvice       5\n",
       "Pathfinder_RPG          6\n",
       "todayilearned           7\n",
       "Terraria                8\n",
       "MarkMyWords             9\n",
       "skateboarding          10\n",
       "Christianity           11\n",
       "NetflixBestOf          12\n",
       "TrollXChromosomes      13\n",
       "movies                 14\n",
       "Android                15\n",
       "hockey                 16\n",
       "Music                  17\n",
       "AskWomen               18\n",
       "secretsanta            19\n",
       "explainlikeimfive      20\n",
       "rangers                21\n",
       "AdviceAnimals          22\n",
       "AskMen                 23\n",
       "hiphopheads            24\n",
       "TheRedPill             25\n",
       "MakeupAddiction        26\n",
       "mildlyinteresting      27\n",
       "jailbreak              28\n",
       "ShitRedditSays         29\n",
       "                     ... \n",
       "Navia                3836\n",
       "nes                  3837\n",
       "IndianaUniversity    3838\n",
       "RateMyMayor          3839\n",
       "CharitableBets       3840\n",
       "alcoholism           3841\n",
       "gaybears             3842\n",
       "Dinosaurs            3843\n",
       "creepypasta          3844\n",
       "TrueOtherkin         3845\n",
       "SportingKC           3846\n",
       "DrawForMe            3847\n",
       "linuxadmin           3848\n",
       "dynastywarriors      3849\n",
       "NewYorkMets          3850\n",
       "MCOTG                3851\n",
       "jerktalkdiamond      3852\n",
       "GaState              3853\n",
       "ffxi                 3854\n",
       "broslikeus           3855\n",
       "flyfishing           3856\n",
       "newhaven             3857\n",
       "howyoudoin           3858\n",
       "rmit                 3859\n",
       "ArtistLounge         3860\n",
       "CasualFilm           3861\n",
       "ukbike               3862\n",
       "OneDirection         3863\n",
       "RandomActsofCards    3864\n",
       "cfs                  3865\n",
       "dtype: int64"
      ]
     },
     "execution_count": 11,
     "metadata": {},
     "output_type": "execute_result"
    }
   ],
   "source": [
    "subreddits_map # sono i subreddits con l'indice"
   ]
  },
  {
   "cell_type": "code",
   "execution_count": 12,
   "metadata": {
    "collapsed": true
   },
   "outputs": [],
   "source": [
    "from scipy import sparse #ogggetto per gestione matrici sparse"
   ]
  },
  {
   "cell_type": "code",
   "execution_count": 13,
   "metadata": {
    "collapsed": false
   },
   "outputs": [
    {
     "data": {
      "text/plain": [
       "<1x3866 sparse matrix of type '<type 'numpy.float64'>'\n",
       "\twith 1 stored elements in Compressed Sparse Row format>"
      ]
     },
     "execution_count": 13,
     "metadata": {},
     "output_type": "execute_result"
    }
   ],
   "source": [
    "def extract_features(group):\n",
    "    group_subreddits = group['subreddit'].values #prende tutti i subreddit del gruppo\n",
    "    idxs = subreddits_map[group_subreddits].values #utilizza la mappa per farli diventare digit da stringhe\n",
    "    v = sparse.dok_matrix((1, subreddits.shape[0])) \n",
    "    for idx in idxs:\n",
    "        if not np.isnan(idx):\n",
    "            v[0, idx] = 1\n",
    "    return v.tocsr()\n",
    "\n",
    "extract_features(train_data[train_data.author=='RedThunder90']) #questo autore ha scritto in un solo subretti"
   ]
  },
  {
   "cell_type": "code",
   "execution_count": 14,
   "metadata": {
    "collapsed": false
   },
   "outputs": [
    {
     "name": "stdout",
     "output_type": "stream",
     "text": [
      "3866\n",
      "[u'TwoXChromosomes' u'harrypotter' u'RedditLaqueristas' u'knitting'\n",
      " u'TrollXChromosomes' u'TrollXChromosomes' u'TrollXChromosomes'\n",
      " u'TrollXChromosomes' u'RedditLaqueristas' u'doctorwho' u'XFiles' u'aww'\n",
      " u'knitting' u'aww' u'aww' u'aww' u'TrollXChromosomes' u'AskReddit'\n",
      " u'todayilearned' u'TrollXChromosomes' u'TrollXChromosomes'\n",
      " u'TrollXChromosomes' u'TrollXChromosomes' u'TrollXChromosomes'\n",
      " u'tappedout' u'pics' u'TrollXChromosomes' u'TrollXChromosomes'\n",
      " u'TrollXChromosomes' u'XFiles' u'doctorwho' u'TrollXChromosomes'\n",
      " u'TrollXChromosomes' u'TrollXChromosomes' u'tappedout'\n",
      " u'TrollXChromosomes' u'AdviceAnimals' u'knitting' u'TrollXChromosomes'\n",
      " u'TrollXChromosomes' u'knitting' u'TrollXChromosomes' u'knitting'\n",
      " u'knitting' u'TrollXChromosomes' u'AskReddit' u'TrollXChromosomes'\n",
      " u'TrollXChromosomes' u'TrollYChromosome' u'knitting' u'TrollYChromosome'\n",
      " u'TrollXChromosomes' u'RedditLaqueristas' u'knitting' u'knitting'\n",
      " u'RedditLaqueristas' u'XFiles' u'RedditLaqueristas' u'AskReddit'\n",
      " u'TrollXChromosomes' u'TrollXChromosomes' u'AskReddit'\n",
      " u'TrollXChromosomes' u'aww' u'aww' u'food' u'aww' u'aww'\n",
      " u'TrollXChromosomes' u'aww' u'aww' u'knitting' u'knitting'\n",
      " u'RedditLaqueristas' u'TrollXChromosomes' u'knitting' u'TrollXChromosomes'\n",
      " u'RedditLaqueristas' u'RedditLaqueristas' u'RedditLaqueristas'\n",
      " u'RedditLaqueristas' u'RedditLaqueristas' u'RedditLaqueristas' u'pics'\n",
      " u'FiftyFifty' u'TrollXChromosomes' u'knitting' u'knitting'\n",
      " u'TrollXChromosomes' u'TrollXChromosomes' u'knitting' u'TrollXChromosomes'\n",
      " u'TrollXChromosomes' u'knitting' u'doctorwho' u'TrollXChromosomes' u'pics'\n",
      " u'TrollXChromosomes' u'AdviceAnimals' u'knitting' u'MakeupAddiction'\n",
      " u'TrollXChromosomes' u'TrollXChromosomes' u'knitting' u'TrollXChromosomes'\n",
      " u'AskReddit' u'XFiles' u'XFiles' u'TrollXChromosomes' u'knitting'\n",
      " u'knitting' u'knitting' u'TrollXChromosomes' u'knitting'\n",
      " u'TrollXChromosomes' u'knitting' u'TrollXChromosomes' u'TrollXChromosomes'\n",
      " u'funny' u'TrollXChromosomes' u'TrollXChromosomes' u'knitting' u'knitting'\n",
      " u'knitting' u'knitting' u'knitting' u'knitting' u'TrollXChromosomes'\n",
      " u'knitting' u'TrollXChromosomes' u'knitting' u'TrollXChromosomes'\n",
      " u'knitting' u'knitting' u'TrollXChromosomes' u'TrollXChromosomes'\n",
      " u'TrollXChromosomes' u'RedditLaqueristas' u'TrollXChromosomes'\n",
      " u'TrollXChromosomes' u'RedditLaqueristas' u'MakeupAddiction'\n",
      " u'TrollXChromosomes' u'TwoXChromosomes' u'tipofmytongue' u'pics'\n",
      " u'RedditLaqueristas' u'TrollXChromosomes' u'TrollXChromosomes'\n",
      " u'TrollXChromosomes' u'TrollXChromosomes' u'TwoXChromosomes' u'XFiles'\n",
      " u'TrollXChromosomes' u'TrollXChromosomes' u'TrollXChromosomes'\n",
      " u'TrollXChromosomes' u'RedditLaqueristas' u'RedditLaqueristas'\n",
      " u'RedditLaqueristas' u'TrollXChromosomes' u'knitting' u'TrollXChromosomes'\n",
      " u'TrollXChromosomes']\n",
      "[   0   87  127  153   13   13   13   13  127   86 1505   72  153   72   72\n",
      "   72   13    3    7   13   13   13   13   13  759   65   13   13   13 1505\n",
      "   86   13   13   13  759   13   22  153   13   13  153   13  153  153   13\n",
      "    3   13   13 1525  153 1525   13  127  153  153  127 1505  127    3   13\n",
      "   13    3   13   72   72 1317   72   72   13   72   72  153  153  127   13\n",
      "  153   13  127  127  127  127  127  127   65  178   13  153  153   13   13\n",
      "  153   13   13  153   86   13   65   13   22  153   26   13   13  153   13\n",
      "    3 1505 1505   13  153  153  153   13  153   13  153   13   13   38   13\n",
      "   13  153  153  153  153  153  153   13  153   13  153   13  153  153   13\n",
      "   13   13  127   13   13  127   26   13    0  463   65  127   13   13   13\n",
      "   13    0 1505   13   13   13   13  127  127  127   13  153   13   13]\n",
      "  (0, 99)\t1.0\n",
      "(array([0], dtype=int32), array([99], dtype=int32))\n"
     ]
    }
   ],
   "source": [
    "group = train_data[train_data.author=='ejchristian86']\n",
    "print(subreddits.shape[0])\n",
    "my_group_subreddits = group['subreddit'].values\n",
    "print(my_group_subreddits)\n",
    "print (subreddits_map[my_group_subreddits].values)\n",
    "len(subreddits_map[my_group_subreddits].values)\n",
    "v = extract_features(train_data[train_data.author=='RedThunder90'])\n",
    "print(v)\n",
    "print(v.nonzero())"
   ]
  },
  {
   "cell_type": "code",
   "execution_count": 15,
   "metadata": {
    "collapsed": false
   },
   "outputs": [
    {
     "data": {
      "text/plain": [
       "<1x3866 sparse matrix of type '<type 'numpy.float64'>'\n",
       "\twith 19 stored elements in Compressed Sparse Row format>"
      ]
     },
     "execution_count": 15,
     "metadata": {},
     "output_type": "execute_result"
    }
   ],
   "source": [
    "extract_features(train_data[train_data.author=='ejchristian86']) # questo utente ha commentato su 19 subreddit"
   ]
  },
  {
   "cell_type": "code",
   "execution_count": 16,
   "metadata": {
    "collapsed": false
   },
   "outputs": [],
   "source": [
    "features_dict = {}\n",
    "\n",
    "for author, group in train_data.groupby('author'):\n",
    "    features_dict[author] = extract_features(group)"
   ]
  },
  {
   "cell_type": "code",
   "execution_count": 17,
   "metadata": {
    "collapsed": false
   },
   "outputs": [
    {
     "data": {
      "text/plain": [
       "<10000x3866 sparse matrix of type '<type 'numpy.float64'>'\n",
       "\twith 96876 stored elements in Compressed Sparse Row format>"
      ]
     },
     "execution_count": 17,
     "metadata": {},
     "output_type": "execute_result"
    }
   ],
   "source": [
    "X = sparse.vstack([features_dict[author] for author in target.author])\n",
    "X"
   ]
  },
  {
   "cell_type": "code",
   "execution_count": 18,
   "metadata": {
    "collapsed": true
   },
   "outputs": [],
   "source": [
    "y = target.gender # in pratica la riga zero corrisponde al gender di quello che compare nella riga 0 della feature list"
   ]
  },
  {
   "cell_type": "markdown",
   "metadata": {},
   "source": [
    "# Model Selection"
   ]
  },
  {
   "cell_type": "code",
   "execution_count": 20,
   "metadata": {
    "collapsed": false
   },
   "outputs": [
    {
     "name": "stdout",
     "output_type": "stream",
     "text": [
      "best alpha: 0.0001\n"
     ]
    },
    {
     "data": {
      "text/plain": [
       "Perceptron(alpha=0.0001, class_weight=None, eta0=1.0, fit_intercept=True,\n",
       "      n_iter=5, n_jobs=1, penalty='l2', random_state=0, shuffle=True,\n",
       "      verbose=0, warm_start=False)"
      ]
     },
     "execution_count": 20,
     "metadata": {},
     "output_type": "execute_result"
    }
   ],
   "source": [
    "# YOUR CODE HERE\n",
    "from sklearn import metrics, cross_validation\n",
    "from matplotlib.colors import ListedColormap\n",
    "from sklearn import linear_model\n",
    "\n",
    "cm_bright = ListedColormap(['#FF0000', '#0000FF'])\n",
    "\n",
    "model = linear_model.Perceptron(penalty='l2')\n",
    "\n",
    "test_scores = []\n",
    "acc = metrics.accuracy_score\n",
    "\n",
    "alphas = np.logspace(-4, 0, 20)\n",
    "\n",
    "for alpha in alphas:\n",
    "    model = linear_model.Perceptron(penalty='l2', alpha=alpha)\n",
    "    scores = cross_validation.cross_val_score(model, X, y, cv=10)\n",
    "    test_scores.append(np.mean(scores))\n",
    "    \n",
    "alpha = alphas[np.argmax(test_scores)]\n",
    "print \"best alpha:\" , alpha\n",
    "\n",
    "model = linear_model.Perceptron(penalty='l2', alpha=alpha)\n",
    "model.fit(X, y)\n",
    "\n",
    "#plot_decision_boundary(model, X, plot_boundary=True)\n",
    "# plot the dataset points\n",
    "#scatter(X[:, 0], X[:, 1], c=y, cmap=cm_bright, s=50)"
   ]
  },
  {
   "cell_type": "markdown",
   "metadata": {},
   "source": [
    "# Prepare the solution"
   ]
  },
  {
   "cell_type": "code",
   "execution_count": 21,
   "metadata": {
    "collapsed": true
   },
   "outputs": [],
   "source": [
    "test_data = pd.read_csv(\"test_data.csv.gz\", compression=\"gzip\", encoding=\"utf8\")"
   ]
  },
  {
   "cell_type": "code",
   "execution_count": 22,
   "metadata": {
    "collapsed": false
   },
   "outputs": [],
   "source": [
    "features_dict = {}\n",
    "\n",
    "for author, group in test_data.groupby('author'):\n",
    "    features_dict[author] = extract_features(group)"
   ]
  },
  {
   "cell_type": "code",
   "execution_count": 23,
   "metadata": {
    "collapsed": false
   },
   "outputs": [
    {
     "data": {
      "text/plain": [
       "<34887x3866 sparse matrix of type '<type 'numpy.float64'>'\n",
       "\twith 345539 stored elements in Compressed Sparse Row format>"
      ]
     },
     "execution_count": 23,
     "metadata": {},
     "output_type": "execute_result"
    }
   ],
   "source": [
    "X_test = sparse.vstack([features_dict[author] for author in test_data.author.unique()])\n",
    "X_test"
   ]
  },
  {
   "cell_type": "code",
   "execution_count": 24,
   "metadata": {
    "collapsed": false
   },
   "outputs": [
    {
     "ename": "AttributeError",
     "evalue": "'Perceptron' object has no attribute 'predict_proba'",
     "output_type": "error",
     "traceback": [
      "\u001b[1;31m---------------------------------------------------------------------------\u001b[0m",
      "\u001b[1;31mAttributeError\u001b[0m                            Traceback (most recent call last)",
      "\u001b[1;32m<ipython-input-24-8f9c4a5c2a4a>\u001b[0m in \u001b[0;36m<module>\u001b[1;34m()\u001b[0m\n\u001b[1;32m----> 1\u001b[1;33m \u001b[0my_pred\u001b[0m \u001b[1;33m=\u001b[0m \u001b[0mmodel\u001b[0m\u001b[1;33m.\u001b[0m\u001b[0mpredict_proba\u001b[0m\u001b[1;33m(\u001b[0m\u001b[0mX_test\u001b[0m\u001b[1;33m)\u001b[0m\u001b[1;33m[\u001b[0m\u001b[1;33m:\u001b[0m\u001b[1;33m,\u001b[0m\u001b[1;36m1\u001b[0m\u001b[1;33m]\u001b[0m\u001b[1;33m\u001b[0m\u001b[0m\n\u001b[0m",
      "\u001b[1;31mAttributeError\u001b[0m: 'Perceptron' object has no attribute 'predict_proba'"
     ]
    }
   ],
   "source": [
    "y_pred = model.predict_proba(X_test)[:,1]"
   ]
  },
  {
   "cell_type": "code",
   "execution_count": null,
   "metadata": {
    "collapsed": false
   },
   "outputs": [],
   "source": [
    "solution = pd.DataFrame({\"author\":test_data.author.unique(), \"gender\":y_pred})\n",
    "solution.head()"
   ]
  },
  {
   "cell_type": "code",
   "execution_count": null,
   "metadata": {
    "collapsed": true
   },
   "outputs": [],
   "source": [
    "solution.to_csv(\"logistic_regression.csv\", index=False)"
   ]
  },
  {
   "cell_type": "code",
   "execution_count": null,
   "metadata": {
    "collapsed": true
   },
   "outputs": [],
   "source": []
  }
 ],
 "metadata": {
  "kernelspec": {
   "display_name": "Python [Root]",
   "language": "python",
   "name": "Python [Root]"
  },
  "language_info": {
   "codemirror_mode": {
    "name": "ipython",
    "version": 2
   },
   "file_extension": ".py",
   "mimetype": "text/x-python",
   "name": "python",
   "nbconvert_exporter": "python",
   "pygments_lexer": "ipython2",
   "version": "2.7.12"
  }
 },
 "nbformat": 4,
 "nbformat_minor": 0
}

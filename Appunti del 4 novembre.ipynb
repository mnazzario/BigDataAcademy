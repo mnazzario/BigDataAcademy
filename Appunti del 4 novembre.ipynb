{
 "cells": [
  {
   "cell_type": "markdown",
   "metadata": {},
   "source": [
    "# MongoDb\n",
    "Il processo di mongo db si chiama mongod\n",
    "Per chiamare la shell dopo avere lanciato il processo selezione mongo\n",
    "E' tra le applicazioni portable.\n",
    "\n",
    "PER il dettaglio vedi il file MongoDb.pty nella cartella 07_MongoDB"
   ]
  },
  {
   "cell_type": "code",
   "execution_count": 1,
   "metadata": {
    "collapsed": false
   },
   "outputs": [
    {
     "name": "stdout",
     "output_type": "stream",
     "text": [
      "MongoClient(host=['localhost:27017'], document_class=dict, tz_aware=False, connect=True)\n"
     ]
    }
   ],
   "source": [
    "from pymongo import MongoClient\n",
    "client = MongoClient('mongodb://localhost:27017/')\n",
    "print client"
   ]
  },
  {
   "cell_type": "code",
   "execution_count": null,
   "metadata": {
    "collapsed": true
   },
   "outputs": [],
   "source": [
    "db = client.phonebook #se non esiste crea il db vuoto\n",
    "print db.collection_names()"
   ]
  },
  {
   "cell_type": "code",
   "execution_count": 5,
   "metadata": {
    "collapsed": false
   },
   "outputs": [
    {
     "name": "stderr",
     "output_type": "stream",
     "text": [
      "/home/bigdive/anaconda2/lib/python2.7/site-packages/ipykernel/__main__.py:2: DeprecationWarning: insert is deprecated. Use insert_one or insert_many instead.\n",
      "  from ipykernel import kernelapp as app\n"
     ]
    },
    {
     "data": {
      "text/plain": [
       "ObjectId('581c6995e14afe70495514a8')"
      ]
     },
     "execution_count": 5,
     "metadata": {},
     "output_type": "execute_result"
    }
   ],
   "source": [
    "data = {'name' : 'Alex', 'phone': '+39123456789'}\n",
    "db.people.insert(data) #da alert perche' insert e' deprecato. Bisogna usare insert_one"
   ]
  },
  {
   "cell_type": "code",
   "execution_count": 8,
   "metadata": {
    "collapsed": false
   },
   "outputs": [
    {
     "name": "stdout",
     "output_type": "stream",
     "text": [
      "[u'people']\n"
     ]
    }
   ],
   "source": [
    "print db.collection_names()"
   ]
  },
  {
   "cell_type": "code",
   "execution_count": 9,
   "metadata": {
    "collapsed": false
   },
   "outputs": [
    {
     "name": "stderr",
     "output_type": "stream",
     "text": [
      "/home/bigdive/anaconda2/lib/python2.7/site-packages/ipykernel/__main__.py:1: DeprecationWarning: insert is deprecated. Use insert_one or insert_many instead.\n",
      "  if __name__ == '__main__':\n"
     ]
    },
    {
     "data": {
      "text/plain": [
       "ObjectId('581c69d6e14afe70495514a9')"
      ]
     },
     "execution_count": 9,
     "metadata": {},
     "output_type": "execute_result"
    }
   ],
   "source": [
    "db.people.insert({'name': 'Pippo', 'phone': '+39123456788', 'other_phone': '+3933332323'}, w=0) #non esiste piu'\n",
    "\n",
    "#servirebbe per forzare il fatto che il sistema attenda la fine dell'insert prima di fare altro in caso il db sia \n",
    "#distribuito"
   ]
  },
  {
   "cell_type": "code",
   "execution_count": 11,
   "metadata": {
    "collapsed": false
   },
   "outputs": [
    {
     "name": "stdout",
     "output_type": "stream",
     "text": [
      "{u'phone': u'+39123456789', u'_id': ObjectId('581c6968e14afe70495514a7'), u'name': u'Alex'}\n",
      "<type 'dict'>\n"
     ]
    }
   ],
   "source": [
    "res = db.people.find_one({'name': 'Alex'}) #serve per cercare la entry ovvero la were del sql. devo passare sempre \n",
    "#un dizionario\n",
    "print res\n",
    "print type(res)"
   ]
  },
  {
   "cell_type": "code",
   "execution_count": 14,
   "metadata": {
    "collapsed": false
   },
   "outputs": [
    {
     "name": "stdout",
     "output_type": "stream",
     "text": [
      "Alex  +39123456789\n"
     ]
    }
   ],
   "source": [
    "print res['name'] + '  ' + res['phone']"
   ]
  },
  {
   "cell_type": "code",
   "execution_count": 15,
   "metadata": {
    "collapsed": false
   },
   "outputs": [
    {
     "name": "stdout",
     "output_type": "stream",
     "text": [
      "['_BaseObject__codec_options', '_BaseObject__read_concern', '_BaseObject__read_preference', '_BaseObject__write_concern', '_Collection__create', '_Collection__create_index', '_Collection__database', '_Collection__find_and_modify', '_Collection__full_name', '_Collection__name', '_Collection__write_response_codec_options', '__call__', '__class__', '__delattr__', '__dict__', '__doc__', '__eq__', '__format__', '__getattr__', '__getattribute__', '__getitem__', '__hash__', '__init__', '__iter__', '__module__', '__ne__', '__new__', '__next__', '__reduce__', '__reduce_ex__', '__repr__', '__setattr__', '__sizeof__', '__str__', '__subclasshook__', '__weakref__', '_command', '_count', '_delete', '_insert', '_insert_one', '_legacy_write', '_socket_for_primary_reads', '_socket_for_reads', '_socket_for_writes', '_update', 'aggregate', 'bulk_write', 'codec_options', 'count', 'create_index', 'create_indexes', 'database', 'delete_many', 'delete_one', 'distinct', 'drop', 'drop_index', 'drop_indexes', 'ensure_index', 'find', 'find_and_modify', 'find_one', 'find_one_and_delete', 'find_one_and_replace', 'find_one_and_update', 'full_name', 'group', 'index_information', 'initialize_ordered_bulk_op', 'initialize_unordered_bulk_op', 'inline_map_reduce', 'insert', 'insert_many', 'insert_one', 'list_indexes', 'map_reduce', 'name', 'next', 'options', 'parallel_scan', 'read_concern', 'read_preference', 'reindex', 'remove', 'rename', 'replace_one', 'save', 'update', 'update_many', 'update_one', 'with_options', 'write_concern']\n"
     ]
    }
   ],
   "source": [
    "print (dir(db.people))"
   ]
  },
  {
   "cell_type": "code",
   "execution_count": 16,
   "metadata": {
    "collapsed": false
   },
   "outputs": [
    {
     "name": "stdout",
     "output_type": "stream",
     "text": [
      "{u'phone': u'+39123456789', u'_id': ObjectId('581c6968e14afe70495514a7'), u'name': u'Alex'}\n",
      "{u'phone': u'+39123456789', u'_id': ObjectId('581c6995e14afe70495514a8'), u'name': u'Alex'}\n",
      "{u'phone': u'+39123456788', u'_id': ObjectId('581c69d6e14afe70495514a9'), u'other_phone': u'+3933332323', u'name': u'Pippo'}\n"
     ]
    }
   ],
   "source": [
    "people = db.people.find()\n",
    "for p in people:\n",
    "    print p"
   ]
  },
  {
   "cell_type": "code",
   "execution_count": 17,
   "metadata": {
    "collapsed": true
   },
   "outputs": [],
   "source": [
    "# notare che le due collection sopra hanno forma diversa --> other_phone"
   ]
  },
  {
   "cell_type": "code",
   "execution_count": 20,
   "metadata": {
    "collapsed": false
   },
   "outputs": [
    {
     "name": "stderr",
     "output_type": "stream",
     "text": [
      "/home/bigdive/anaconda2/lib/python2.7/site-packages/ipykernel/__main__.py:1: DeprecationWarning: insert is deprecated. Use insert_one or insert_many instead.\n",
      "  if __name__ == '__main__':\n"
     ]
    },
    {
     "data": {
      "text/plain": [
       "ObjectId('581c6b9de14afe70495514ab')"
      ]
     },
     "execution_count": 20,
     "metadata": {},
     "output_type": "execute_result"
    }
   ],
   "source": [
    "db.people.insert({\"key\" : \"value\"}) #posso aggiungere una entry con qualsiasi formato"
   ]
  },
  {
   "cell_type": "code",
   "execution_count": 21,
   "metadata": {
    "collapsed": false
   },
   "outputs": [
    {
     "name": "stdout",
     "output_type": "stream",
     "text": [
      "{u'phone': u'+39123456789', u'_id': ObjectId('581c6968e14afe70495514a7'), u'name': u'Alex'}\n",
      "{u'phone': u'+39123456789', u'_id': ObjectId('581c6995e14afe70495514a8'), u'name': u'Alex'}\n",
      "{u'phone': u'+39123456788', u'_id': ObjectId('581c69d6e14afe70495514a9'), u'other_phone': u'+3933332323', u'name': u'Pippo'}\n",
      "{u'_id': ObjectId('581c6b6be14afe70495514aa'), u'key': u'value'}\n",
      "{u'_id': ObjectId('581c6b9de14afe70495514ab'), u'key': u'value'}\n"
     ]
    }
   ],
   "source": [
    "people = db.people.find()\n",
    "for p in people:\n",
    "    print p"
   ]
  },
  {
   "cell_type": "code",
   "execution_count": 25,
   "metadata": {
    "collapsed": false
   },
   "outputs": [
    {
     "data": {
      "text/plain": [
       "{u'_id': ObjectId('581c6995e14afe70495514a8'),\n",
       " u'name': u'Alex',\n",
       " u'phone': u'+39123456789'}"
      ]
     },
     "execution_count": 25,
     "metadata": {},
     "output_type": "execute_result"
    }
   ],
   "source": [
    "from bson import ObjectId\n",
    "db.people.find_one({'_id' : ObjectId('581c6995e14afe70495514a8')})"
   ]
  },
  {
   "cell_type": "code",
   "execution_count": 27,
   "metadata": {
    "collapsed": false
   },
   "outputs": [
    {
     "name": "stdout",
     "output_type": "stream",
     "text": [
      "{u'phone': u'+39123456789', u'_id': ObjectId('581c6968e14afe70495514a7'), u'name': u'Alex'}\n"
     ]
    }
   ],
   "source": [
    "print db.people.find_one({'_id': {'$gt':  ObjectId('5818c8549718d42038af68ad')}}) #qui applica un operatore in questo caso greater than $gt"
   ]
  },
  {
   "cell_type": "markdown",
   "metadata": {},
   "source": [
    "Full list of query operators is available at http://docs.mongodb.org/manual/reference/operator/query/"
   ]
  },
  {
   "cell_type": "code",
   "execution_count": 28,
   "metadata": {
    "collapsed": false
   },
   "outputs": [
    {
     "name": "stdout",
     "output_type": "stream",
     "text": [
      "{u'phone': u'+39123456789', u'_id': ObjectId('581c6968e14afe70495514a7'), u'name': u'Alex'}\n"
     ]
    }
   ],
   "source": [
    "print db.people.find_one({'_id': {'$gt':  ObjectId('5818c8549718d42038af68ad')}})"
   ]
  },
  {
   "cell_type": "code",
   "execution_count": 31,
   "metadata": {
    "collapsed": false
   },
   "outputs": [
    {
     "name": "stdout",
     "output_type": "stream",
     "text": [
      "{u'phone': u'+39123456789', u'_id': ObjectId('581c6968e14afe70495514a7'), u'name': u'Alex'}\n",
      "{u'phone': u'+39123456789', u'_id': ObjectId('581c6995e14afe70495514a8'), u'name': u'Alex'}\n",
      "{u'phone': u'+39123456788', u'_id': ObjectId('581c69d6e14afe70495514a9'), u'other_phone': u'+3933332323', u'name': u'Pippo'}\n",
      "{u'_id': ObjectId('581c6b6be14afe70495514aa'), u'key': u'value'}\n",
      "{u'_id': ObjectId('581c6b9de14afe70495514ab'), u'key': u'value'}\n"
     ]
    }
   ],
   "source": [
    "people = db.people.find({'_id': {'$gt':  ObjectId('5818c8549718d42038af68ad')}})\n",
    "for p in people:\n",
    "    print p"
   ]
  },
  {
   "cell_type": "code",
   "execution_count": 32,
   "metadata": {
    "collapsed": false
   },
   "outputs": [
    {
     "data": {
      "text/plain": [
       "<pymongo.cursor.Cursor at 0x7f797a92d510>"
      ]
     },
     "execution_count": 32,
     "metadata": {},
     "output_type": "execute_result"
    }
   ],
   "source": [
    "people.rewind()"
   ]
  },
  {
   "cell_type": "code",
   "execution_count": 33,
   "metadata": {
    "collapsed": false
   },
   "outputs": [
    {
     "name": "stdout",
     "output_type": "stream",
     "text": [
      "{u'phone': u'+39123456789', u'_id': ObjectId('581c6968e14afe70495514a7'), u'name': u'Alex'}\n",
      "{u'phone': u'+39123456789', u'_id': ObjectId('581c6995e14afe70495514a8'), u'name': u'Alex'}\n",
      "{u'phone': u'+39123456788', u'_id': ObjectId('581c69d6e14afe70495514a9'), u'other_phone': u'+3933332323', u'name': u'Pippo'}\n",
      "{u'_id': ObjectId('581c6b6be14afe70495514aa'), u'key': u'value'}\n",
      "{u'_id': ObjectId('581c6b9de14afe70495514ab'), u'key': u'value'}\n"
     ]
    }
   ],
   "source": [
    "for p in people:\n",
    "    print p"
   ]
  },
  {
   "cell_type": "code",
   "execution_count": 34,
   "metadata": {
    "collapsed": false
   },
   "outputs": [
    {
     "name": "stdout",
     "output_type": "stream",
     "text": [
      "\n",
      "Before Updated: {u'phone': u'+39123456789', u'_id': ObjectId('581c6968e14afe70495514a7'), u'name': u'Alex'}\n",
      "\n",
      "After Update: {u'_id': ObjectId('581c6968e14afe70495514a7'), u'name': u'John Doe'}\n"
     ]
    },
    {
     "name": "stderr",
     "output_type": "stream",
     "text": [
      "/home/bigdive/anaconda2/lib/python2.7/site-packages/ipykernel/__main__.py:4: DeprecationWarning: update is deprecated. Use replace_one, update_one or update_many instead.\n"
     ]
    }
   ],
   "source": [
    "doc = db.people.find_one({'name': 'Alex'})\n",
    "print '\\nBefore Updated:', doc\n",
    "\n",
    "db.people.update({'name': 'Alex'}, {'name': 'John Doe'}) #modifica la entry e gli mette il nome jhon Doe sostituisce\n",
    "#tutto\n",
    "doc = db.people.find_one({'name': 'John Doe'})\n",
    "print '\\nAfter Update:', doc"
   ]
  },
  {
   "cell_type": "code",
   "execution_count": 35,
   "metadata": {
    "collapsed": false
   },
   "outputs": [
    {
     "name": "stdout",
     "output_type": "stream",
     "text": [
      "\n",
      "After $set phone: {u'phone': u'+39123456789', u'_id': ObjectId('581c6968e14afe70495514a7'), u'name': u'John Doe'}\n",
      "\n",
      "After $set name: {u'phone': u'+39123456789', u'_id': ObjectId('581c6968e14afe70495514a7'), u'name': u'Alex'}\n"
     ]
    },
    {
     "name": "stderr",
     "output_type": "stream",
     "text": [
      "/home/bigdive/anaconda2/lib/python2.7/site-packages/ipykernel/__main__.py:2: DeprecationWarning: update is deprecated. Use replace_one, update_one or update_many instead.\n",
      "  from ipykernel import kernelapp as app\n",
      "/home/bigdive/anaconda2/lib/python2.7/site-packages/ipykernel/__main__.py:4: DeprecationWarning: update is deprecated. Use replace_one, update_one or update_many instead.\n"
     ]
    }
   ],
   "source": [
    "# Go back to previous state\n",
    "db.people.update({'name': 'John Doe'}, {'$set': {'phone': '+39123456789'}}) #qui invece dice cerca la entry che ha \n",
    "#nome jhon Doe e settagli il telefono\n",
    "print '\\nAfter $set phone:', db.people.find_one({'name': 'John Doe'})\n",
    "db.people.update({'name': 'John Doe'}, {'$set': {'name': 'Alex'}})\n",
    "print '\\nAfter $set name:', db.people.find_one({'name': 'Alex'})"
   ]
  },
  {
   "cell_type": "markdown",
   "metadata": {},
   "source": [
    "uso un altro schema --> blog"
   ]
  },
  {
   "cell_type": "code",
   "execution_count": 36,
   "metadata": {
    "collapsed": false
   },
   "outputs": [
    {
     "name": "stderr",
     "output_type": "stream",
     "text": [
      "/home/bigdive/anaconda2/lib/python2.7/site-packages/ipykernel/__main__.py:5: DeprecationWarning: insert is deprecated. Use insert_one or insert_many instead.\n"
     ]
    },
    {
     "data": {
      "text/plain": [
       "ObjectId('581c6f4fe14afe70495514ac')"
      ]
     },
     "execution_count": 36,
     "metadata": {},
     "output_type": "execute_result"
    }
   ],
   "source": [
    "db.blog.insert({'title': 'MongoDB intro!',\n",
    "                'author': {'name': 'Alex',\n",
    "                           'surname': 'Comu',\n",
    "                           'nickname': 'alexcomu'},\n",
    "                'tags': ['mongodb', 'web', 'new-hair-cut']})"
   ]
  },
  {
   "cell_type": "code",
   "execution_count": 39,
   "metadata": {
    "collapsed": false
   },
   "outputs": [
    {
     "name": "stdout",
     "output_type": "stream",
     "text": [
      "{u'title': u'MongoDB intro!', u'_id': ObjectId('581c6f4fe14afe70495514ac'), u'tags': [u'mongodb', u'web', u'new-hair-cut'], u'author': {u'surname': u'Comu', u'nickname': u'alexcomu', u'name': u'Alex'}}\n",
      "Alex\n"
     ]
    }
   ],
   "source": [
    "blog = db.blog.find_one({'title': 'MongoDB intro!'})\n",
    "print blog\n",
    "print blog['author']['name']"
   ]
  },
  {
   "cell_type": "code",
   "execution_count": 40,
   "metadata": {
    "collapsed": false
   },
   "outputs": [
    {
     "data": {
      "text/plain": [
       "{u'_id': ObjectId('581c6f4fe14afe70495514ac'),\n",
       " u'author': {u'name': u'Alex', u'nickname': u'alexcomu', u'surname': u'Comu'},\n",
       " u'tags': [u'mongodb', u'web', u'new-hair-cut'],\n",
       " u'title': u'MongoDB intro!'}"
      ]
     },
     "execution_count": 40,
     "metadata": {},
     "output_type": "execute_result"
    }
   ],
   "source": [
    "db.blog.find_one({'tags': 'mongodb'})"
   ]
  },
  {
   "cell_type": "code",
   "execution_count": 41,
   "metadata": {
    "collapsed": false
   },
   "outputs": [
    {
     "data": {
      "text/plain": [
       "{u'_id': ObjectId('581c6f4fe14afe70495514ac'),\n",
       " u'author': {u'name': u'Alex', u'nickname': u'alexcomu', u'surname': u'Comu'},\n",
       " u'tags': [u'mongodb', u'web', u'new-hair-cut'],\n",
       " u'title': u'MongoDB intro!'}"
      ]
     },
     "execution_count": 41,
     "metadata": {},
     "output_type": "execute_result"
    }
   ],
   "source": [
    "db.blog.find_one({'author.name': 'Alex'}) #qui si usa la dot notation"
   ]
  },
  {
   "cell_type": "code",
   "execution_count": 42,
   "metadata": {
    "collapsed": false
   },
   "outputs": [
    {
     "name": "stderr",
     "output_type": "stream",
     "text": [
      "/home/bigdive/anaconda2/lib/python2.7/site-packages/ipykernel/__main__.py:10: DeprecationWarning: insert is deprecated. Use insert_one or insert_many instead.\n"
     ]
    }
   ],
   "source": [
    "# Create some random posts\n",
    "TAGS = ['mongodb', 'web', 'scaling', 'cooking']\n",
    "\n",
    "import random\n",
    "for postnum in range(1, 5):\n",
    "    db.blog.insert({'title': 'Post %s' % postnum,\n",
    "                    'author': {'name': 'Alex',\n",
    "                               'surname': 'Comu',\n",
    "                               'nickname': 'alexcomu'},\n",
    "                    'tags': random.sample(TAGS, 2)})"
   ]
  },
  {
   "cell_type": "code",
   "execution_count": 43,
   "metadata": {
    "collapsed": false
   },
   "outputs": [
    {
     "name": "stdout",
     "output_type": "stream",
     "text": [
      "Post 1 -> scaling, cooking\n",
      "Post 4 -> cooking, web\n"
     ]
    }
   ],
   "source": [
    "for post in db.blog.find({'tags': {'$in': ['scaling', 'cooking']}}):\n",
    "    print post['title'], '->', ', '.join(post['tags'])"
   ]
  },
  {
   "cell_type": "markdown",
   "metadata": {},
   "source": [
    "# Esercizio\n",
    "scrivere un piccolo script che inserisca all'interno di una collection \"bigdive\" 3 oggetti del tipo:\n",
    "* nome /phone/data-nascita"
   ]
  },
  {
   "cell_type": "code",
   "execution_count": 44,
   "metadata": {
    "collapsed": false
   },
   "outputs": [
    {
     "name": "stdout",
     "output_type": "stream",
     "text": [
      "[]\n"
     ]
    }
   ],
   "source": [
    "db = client.bigdive #se non esiste crea la collection bigdive vuoto\n",
    "print db.collection_names()"
   ]
  },
  {
   "cell_type": "code",
   "execution_count": 47,
   "metadata": {
    "collapsed": false
   },
   "outputs": [
    {
     "name": "stderr",
     "output_type": "stream",
     "text": [
      "/home/bigdive/anaconda2/lib/python2.7/site-packages/ipykernel/__main__.py:8: DeprecationWarning: insert is deprecated. Use insert_one or insert_many instead.\n"
     ]
    }
   ],
   "source": [
    "NOME = ['Gianni', 'Alberto', 'Luca']\n",
    "PHONE = ['124155', '44456667','66677533']\n",
    "DATA_NASCITA = ['12121900', '11111970', '05051980']\n",
    "\n",
    "for i in range(3):\n",
    "    db.bigdive.insert({'nome': random.sample(NOME,1),\n",
    "                    'phone': random.sample(PHONE,1),\n",
    "                    'data-nascita': random.sample(DATA_NASCITA, 1)})"
   ]
  },
  {
   "cell_type": "code",
   "execution_count": 48,
   "metadata": {
    "collapsed": false
   },
   "outputs": [
    {
     "name": "stdout",
     "output_type": "stream",
     "text": [
      "{u'phone': [u'66677533', u'124155'], u'_id': ObjectId('581c73b6e14afe70495514b1'), u'data-nascita': [u'11111970', u'12121900'], u'nome': [u'Luca', u'Alberto']}\n",
      "{u'phone': [u'66677533', u'124155'], u'_id': ObjectId('581c73b6e14afe70495514b2'), u'data-nascita': [u'12121900', u'05051980'], u'nome': [u'Gianni', u'Alberto']}\n",
      "{u'phone': [u'44456667', u'124155'], u'_id': ObjectId('581c73b6e14afe70495514b3'), u'data-nascita': [u'11111970', u'12121900'], u'nome': [u'Alberto', u'Luca']}\n",
      "{u'phone': [u'44456667'], u'_id': ObjectId('581c73fae14afe70495514b4'), u'data-nascita': [u'11111970'], u'nome': [u'Luca']}\n",
      "{u'phone': [u'124155'], u'_id': ObjectId('581c73fae14afe70495514b5'), u'data-nascita': [u'05051980'], u'nome': [u'Luca']}\n",
      "{u'phone': [u'44456667'], u'_id': ObjectId('581c73fae14afe70495514b6'), u'data-nascita': [u'05051980'], u'nome': [u'Luca']}\n"
     ]
    }
   ],
   "source": [
    "for entry in db.bigdive.find():\n",
    "    print entry"
   ]
  },
  {
   "cell_type": "code",
   "execution_count": 51,
   "metadata": {
    "collapsed": false
   },
   "outputs": [
    {
     "name": "stderr",
     "output_type": "stream",
     "text": [
      "/home/bigdive/anaconda2/lib/python2.7/site-packages/ipykernel/__main__.py:1: DeprecationWarning: update is deprecated. Use replace_one, update_one or update_many instead.\n",
      "  if __name__ == '__main__':\n"
     ]
    },
    {
     "data": {
      "text/plain": [
       "{u'n': 1, u'nModified': 1, u'ok': 1, 'updatedExisting': True}"
      ]
     },
     "execution_count": 51,
     "metadata": {},
     "output_type": "execute_result"
    }
   ],
   "source": [
    "db.bigdive.update({'nome': 'Luca'}, {'$set': {'citta residenza': 'torino'}}) "
   ]
  },
  {
   "cell_type": "code",
   "execution_count": 52,
   "metadata": {
    "collapsed": false
   },
   "outputs": [
    {
     "name": "stdout",
     "output_type": "stream",
     "text": [
      "{u'phone': [u'66677533', u'124155'], u'_id': ObjectId('581c73b6e14afe70495514b1'), u'data-nascita': [u'11111970', u'12121900'], u'citta residenza': u'torino', u'nome': [u'Luca', u'Alberto']}\n",
      "{u'phone': [u'66677533', u'124155'], u'_id': ObjectId('581c73b6e14afe70495514b2'), u'data-nascita': [u'12121900', u'05051980'], u'nome': [u'Gianni', u'Alberto']}\n",
      "{u'phone': [u'44456667', u'124155'], u'_id': ObjectId('581c73b6e14afe70495514b3'), u'data-nascita': [u'11111970', u'12121900'], u'nome': [u'Alberto', u'Luca']}\n",
      "{u'phone': [u'44456667'], u'_id': ObjectId('581c73fae14afe70495514b4'), u'data-nascita': [u'11111970'], u'nome': [u'Luca']}\n",
      "{u'phone': [u'124155'], u'_id': ObjectId('581c73fae14afe70495514b5'), u'data-nascita': [u'05051980'], u'nome': [u'Luca']}\n",
      "{u'phone': [u'44456667'], u'_id': ObjectId('581c73fae14afe70495514b6'), u'data-nascita': [u'05051980'], u'nome': [u'Luca']}\n"
     ]
    }
   ],
   "source": [
    "for entry in db.bigdive.find():\n",
    "    print entry\n"
   ]
  },
  {
   "cell_type": "code",
   "execution_count": 55,
   "metadata": {
    "collapsed": false
   },
   "outputs": [
    {
     "data": {
      "text/plain": [
       "<pymongo.results.InsertManyResult at 0x7f797a9721e0>"
      ]
     },
     "execution_count": 55,
     "metadata": {},
     "output_type": "execute_result"
    }
   ],
   "source": [
    "db.bigdive.insert_many([{\"nome\" : \"pippo\", \"phone\" : \"345667\"},{\"nome\" : \"ciccio\", \"phone\" : \"5421\"}])"
   ]
  },
  {
   "cell_type": "code",
   "execution_count": 56,
   "metadata": {
    "collapsed": false
   },
   "outputs": [
    {
     "name": "stdout",
     "output_type": "stream",
     "text": [
      "{u'phone': [u'66677533', u'124155'], u'_id': ObjectId('581c73b6e14afe70495514b1'), u'data-nascita': [u'11111970', u'12121900'], u'citta residenza': u'torino', u'nome': [u'Luca', u'Alberto']}\n",
      "{u'phone': [u'66677533', u'124155'], u'_id': ObjectId('581c73b6e14afe70495514b2'), u'data-nascita': [u'12121900', u'05051980'], u'nome': [u'Gianni', u'Alberto']}\n",
      "{u'phone': [u'44456667', u'124155'], u'_id': ObjectId('581c73b6e14afe70495514b3'), u'data-nascita': [u'11111970', u'12121900'], u'nome': [u'Alberto', u'Luca']}\n",
      "{u'phone': [u'44456667'], u'_id': ObjectId('581c73fae14afe70495514b4'), u'data-nascita': [u'11111970'], u'nome': [u'Luca']}\n",
      "{u'phone': [u'124155'], u'_id': ObjectId('581c73fae14afe70495514b5'), u'data-nascita': [u'05051980'], u'nome': [u'Luca']}\n",
      "{u'phone': [u'44456667'], u'_id': ObjectId('581c73fae14afe70495514b6'), u'data-nascita': [u'05051980'], u'nome': [u'Luca']}\n",
      "{u'phone': u'345667', u'_id': ObjectId('581c7547e14afe70495514b7'), u'nome': u'pippo'}\n",
      "{u'phone': u'5421', u'_id': ObjectId('581c7547e14afe70495514b8'), u'nome': u'ciccio'}\n"
     ]
    }
   ],
   "source": [
    "for entry in db.bigdive.find():\n",
    "    print entry"
   ]
  },
  {
   "cell_type": "code",
   "execution_count": 62,
   "metadata": {
    "collapsed": false
   },
   "outputs": [
    {
     "name": "stderr",
     "output_type": "stream",
     "text": [
      "/home/bigdive/anaconda2/lib/python2.7/site-packages/ipykernel/__main__.py:1: DeprecationWarning: update is deprecated. Use replace_one, update_one or update_many instead.\n",
      "  if __name__ == '__main__':\n"
     ]
    },
    {
     "data": {
      "text/plain": [
       "{u'n': 1, u'nModified': 1, u'ok': 1, 'updatedExisting': True}"
      ]
     },
     "execution_count": 62,
     "metadata": {},
     "output_type": "execute_result"
    }
   ],
   "source": [
    "db.bigdive.update({'_id':  ObjectId('581c73b6e14afe70495514b1')}, {\"$set\" : {'nome' : 'Alberto'}})"
   ]
  },
  {
   "cell_type": "code",
   "execution_count": 63,
   "metadata": {
    "collapsed": false
   },
   "outputs": [
    {
     "name": "stderr",
     "output_type": "stream",
     "text": [
      "/home/bigdive/anaconda2/lib/python2.7/site-packages/ipykernel/__main__.py:1: DeprecationWarning: update is deprecated. Use replace_one, update_one or update_many instead.\n",
      "  if __name__ == '__main__':\n"
     ]
    },
    {
     "data": {
      "text/plain": [
       "{u'n': 1, u'nModified': 1, u'ok': 1, 'updatedExisting': True}"
      ]
     },
     "execution_count": 63,
     "metadata": {},
     "output_type": "execute_result"
    }
   ],
   "source": [
    "db.bigdive.update({'_id':  ObjectId('581c73b6e14afe70495514b2')}, {\"$set\" : {'nome' : 'Gianni'}})"
   ]
  },
  {
   "cell_type": "code",
   "execution_count": 64,
   "metadata": {
    "collapsed": false
   },
   "outputs": [
    {
     "name": "stderr",
     "output_type": "stream",
     "text": [
      "/home/bigdive/anaconda2/lib/python2.7/site-packages/ipykernel/__main__.py:1: DeprecationWarning: update is deprecated. Use replace_one, update_one or update_many instead.\n",
      "  if __name__ == '__main__':\n"
     ]
    },
    {
     "data": {
      "text/plain": [
       "{u'n': 1, u'nModified': 1, u'ok': 1, 'updatedExisting': True}"
      ]
     },
     "execution_count": 64,
     "metadata": {},
     "output_type": "execute_result"
    }
   ],
   "source": [
    "db.bigdive.update({'_id':  ObjectId('581c73b6e14afe70495514b3')}, {\"$set\" : {'nome' : 'Luca'}})"
   ]
  },
  {
   "cell_type": "code",
   "execution_count": 65,
   "metadata": {
    "collapsed": false
   },
   "outputs": [
    {
     "name": "stdout",
     "output_type": "stream",
     "text": [
      "{u'phone': [u'66677533', u'124155'], u'_id': ObjectId('581c73b6e14afe70495514b1'), u'data-nascita': [u'11111970', u'12121900'], u'citta residenza': u'torino', u'nome': u'Alberto'}\n",
      "{u'phone': [u'66677533', u'124155'], u'_id': ObjectId('581c73b6e14afe70495514b2'), u'data-nascita': [u'12121900', u'05051980'], u'nome': u'Gianni'}\n",
      "{u'phone': [u'44456667', u'124155'], u'_id': ObjectId('581c73b6e14afe70495514b3'), u'data-nascita': [u'11111970', u'12121900'], u'nome': u'Luca'}\n",
      "{u'phone': [u'44456667'], u'_id': ObjectId('581c73fae14afe70495514b4'), u'data-nascita': [u'11111970'], u'nome': [u'Luca']}\n",
      "{u'phone': [u'124155'], u'_id': ObjectId('581c73fae14afe70495514b5'), u'data-nascita': [u'05051980'], u'nome': [u'Luca']}\n",
      "{u'phone': [u'44456667'], u'_id': ObjectId('581c73fae14afe70495514b6'), u'data-nascita': [u'05051980'], u'nome': [u'Luca']}\n",
      "{u'phone': u'345667', u'_id': ObjectId('581c7547e14afe70495514b7'), u'nome': u'pippo'}\n",
      "{u'phone': u'5421', u'_id': ObjectId('581c7547e14afe70495514b8'), u'nome': u'ciccio'}\n"
     ]
    }
   ],
   "source": [
    "for entry in db.bigdive.find():\n",
    "    print entry"
   ]
  },
  {
   "cell_type": "markdown",
   "metadata": {},
   "source": [
    "## Ming\n",
    "E' l'ORM (object per il MongoDB"
   ]
  },
  {
   "cell_type": "code",
   "execution_count": null,
   "metadata": {
    "collapsed": true
   },
   "outputs": [],
   "source": []
  }
 ],
 "metadata": {
  "kernelspec": {
   "display_name": "Python [Root]",
   "language": "python",
   "name": "Python [Root]"
  },
  "language_info": {
   "codemirror_mode": {
    "name": "ipython",
    "version": 2
   },
   "file_extension": ".py",
   "mimetype": "text/x-python",
   "name": "python",
   "nbconvert_exporter": "python",
   "pygments_lexer": "ipython2",
   "version": "2.7.12"
  }
 },
 "nbformat": 4,
 "nbformat_minor": 0
}

{
 "cells": [
  {
   "cell_type": "markdown",
   "metadata": {},
   "source": [
    "# MongoDb\n",
    "Il processo di mongo db si chiama mongod\n",
    "Per chiamare la shell dopo avere lanciato il processo selezione mongo\n",
    "E' tra le applicazioni portable.\n",
    "\n",
    "PER il dettaglio vedi il file MongoDb.pty nella cartella 07_MongoDB"
   ]
  },
  {
   "cell_type": "code",
   "execution_count": 1,
   "metadata": {
    "collapsed": false
   },
   "outputs": [
    {
     "name": "stdout",
     "output_type": "stream",
     "text": [
      "MongoClient(host=['localhost:27017'], document_class=dict, tz_aware=False, connect=True)\n"
     ]
    }
   ],
   "source": [
    "from pymongo import MongoClient\n",
    "client = MongoClient('mongodb://localhost:27017/')\n",
    "print client"
   ]
  },
  {
   "cell_type": "code",
   "execution_count": null,
   "metadata": {
    "collapsed": true
   },
   "outputs": [],
   "source": [
    "db = client.phonebook #se non esiste crea il db vuoto\n",
    "print db.collection_names()"
   ]
  },
  {
   "cell_type": "code",
   "execution_count": 5,
   "metadata": {
    "collapsed": false
   },
   "outputs": [
    {
     "name": "stderr",
     "output_type": "stream",
     "text": [
      "/home/bigdive/anaconda2/lib/python2.7/site-packages/ipykernel/__main__.py:2: DeprecationWarning: insert is deprecated. Use insert_one or insert_many instead.\n",
      "  from ipykernel import kernelapp as app\n"
     ]
    },
    {
     "data": {
      "text/plain": [
       "ObjectId('581c6995e14afe70495514a8')"
      ]
     },
     "execution_count": 5,
     "metadata": {},
     "output_type": "execute_result"
    }
   ],
   "source": [
    "data = {'name' : 'Alex', 'phone': '+39123456789'}\n",
    "db.people.insert(data) #da alert perche' insert e' deprecato. Bisogna usare insert_one"
   ]
  },
  {
   "cell_type": "code",
   "execution_count": 8,
   "metadata": {
    "collapsed": false
   },
   "outputs": [
    {
     "name": "stdout",
     "output_type": "stream",
     "text": [
      "[u'people']\n"
     ]
    }
   ],
   "source": [
    "print db.collection_names()"
   ]
  },
  {
   "cell_type": "code",
   "execution_count": 9,
   "metadata": {
    "collapsed": false
   },
   "outputs": [
    {
     "name": "stderr",
     "output_type": "stream",
     "text": [
      "/home/bigdive/anaconda2/lib/python2.7/site-packages/ipykernel/__main__.py:1: DeprecationWarning: insert is deprecated. Use insert_one or insert_many instead.\n",
      "  if __name__ == '__main__':\n"
     ]
    },
    {
     "data": {
      "text/plain": [
       "ObjectId('581c69d6e14afe70495514a9')"
      ]
     },
     "execution_count": 9,
     "metadata": {},
     "output_type": "execute_result"
    }
   ],
   "source": [
    "db.people.insert({'name': 'Pippo', 'phone': '+39123456788', 'other_phone': '+3933332323'}, w=0) #non esiste piu'\n",
    "\n",
    "#servirebbe per forzare il fatto che il sistema attenda la fine dell'insert prima di fare altro in caso il db sia \n",
    "#distribuito"
   ]
  },
  {
   "cell_type": "code",
   "execution_count": 11,
   "metadata": {
    "collapsed": false
   },
   "outputs": [
    {
     "name": "stdout",
     "output_type": "stream",
     "text": [
      "{u'phone': u'+39123456789', u'_id': ObjectId('581c6968e14afe70495514a7'), u'name': u'Alex'}\n",
      "<type 'dict'>\n"
     ]
    }
   ],
   "source": [
    "res = db.people.find_one({'name': 'Alex'}) #serve per cercare la entry ovvero la were del sql. devo passare sempre \n",
    "#un dizionario\n",
    "print res\n",
    "print type(res)"
   ]
  },
  {
   "cell_type": "code",
   "execution_count": 14,
   "metadata": {
    "collapsed": false
   },
   "outputs": [
    {
     "name": "stdout",
     "output_type": "stream",
     "text": [
      "Alex  +39123456789\n"
     ]
    }
   ],
   "source": [
    "print res['name'] + '  ' + res['phone']"
   ]
  },
  {
   "cell_type": "code",
   "execution_count": 15,
   "metadata": {
    "collapsed": false
   },
   "outputs": [
    {
     "name": "stdout",
     "output_type": "stream",
     "text": [
      "['_BaseObject__codec_options', '_BaseObject__read_concern', '_BaseObject__read_preference', '_BaseObject__write_concern', '_Collection__create', '_Collection__create_index', '_Collection__database', '_Collection__find_and_modify', '_Collection__full_name', '_Collection__name', '_Collection__write_response_codec_options', '__call__', '__class__', '__delattr__', '__dict__', '__doc__', '__eq__', '__format__', '__getattr__', '__getattribute__', '__getitem__', '__hash__', '__init__', '__iter__', '__module__', '__ne__', '__new__', '__next__', '__reduce__', '__reduce_ex__', '__repr__', '__setattr__', '__sizeof__', '__str__', '__subclasshook__', '__weakref__', '_command', '_count', '_delete', '_insert', '_insert_one', '_legacy_write', '_socket_for_primary_reads', '_socket_for_reads', '_socket_for_writes', '_update', 'aggregate', 'bulk_write', 'codec_options', 'count', 'create_index', 'create_indexes', 'database', 'delete_many', 'delete_one', 'distinct', 'drop', 'drop_index', 'drop_indexes', 'ensure_index', 'find', 'find_and_modify', 'find_one', 'find_one_and_delete', 'find_one_and_replace', 'find_one_and_update', 'full_name', 'group', 'index_information', 'initialize_ordered_bulk_op', 'initialize_unordered_bulk_op', 'inline_map_reduce', 'insert', 'insert_many', 'insert_one', 'list_indexes', 'map_reduce', 'name', 'next', 'options', 'parallel_scan', 'read_concern', 'read_preference', 'reindex', 'remove', 'rename', 'replace_one', 'save', 'update', 'update_many', 'update_one', 'with_options', 'write_concern']\n"
     ]
    }
   ],
   "source": [
    "print (dir(db.people))"
   ]
  },
  {
   "cell_type": "code",
   "execution_count": 16,
   "metadata": {
    "collapsed": false
   },
   "outputs": [
    {
     "name": "stdout",
     "output_type": "stream",
     "text": [
      "{u'phone': u'+39123456789', u'_id': ObjectId('581c6968e14afe70495514a7'), u'name': u'Alex'}\n",
      "{u'phone': u'+39123456789', u'_id': ObjectId('581c6995e14afe70495514a8'), u'name': u'Alex'}\n",
      "{u'phone': u'+39123456788', u'_id': ObjectId('581c69d6e14afe70495514a9'), u'other_phone': u'+3933332323', u'name': u'Pippo'}\n"
     ]
    }
   ],
   "source": [
    "people = db.people.find()\n",
    "for p in people:\n",
    "    print p"
   ]
  },
  {
   "cell_type": "code",
   "execution_count": 17,
   "metadata": {
    "collapsed": true
   },
   "outputs": [],
   "source": [
    "# notare che le due collection sopra hanno forma diversa --> other_phone"
   ]
  },
  {
   "cell_type": "code",
   "execution_count": 20,
   "metadata": {
    "collapsed": false
   },
   "outputs": [
    {
     "name": "stderr",
     "output_type": "stream",
     "text": [
      "/home/bigdive/anaconda2/lib/python2.7/site-packages/ipykernel/__main__.py:1: DeprecationWarning: insert is deprecated. Use insert_one or insert_many instead.\n",
      "  if __name__ == '__main__':\n"
     ]
    },
    {
     "data": {
      "text/plain": [
       "ObjectId('581c6b9de14afe70495514ab')"
      ]
     },
     "execution_count": 20,
     "metadata": {},
     "output_type": "execute_result"
    }
   ],
   "source": [
    "db.people.insert({\"key\" : \"value\"}) #posso aggiungere una entry con qualsiasi formato"
   ]
  },
  {
   "cell_type": "code",
   "execution_count": 21,
   "metadata": {
    "collapsed": false
   },
   "outputs": [
    {
     "name": "stdout",
     "output_type": "stream",
     "text": [
      "{u'phone': u'+39123456789', u'_id': ObjectId('581c6968e14afe70495514a7'), u'name': u'Alex'}\n",
      "{u'phone': u'+39123456789', u'_id': ObjectId('581c6995e14afe70495514a8'), u'name': u'Alex'}\n",
      "{u'phone': u'+39123456788', u'_id': ObjectId('581c69d6e14afe70495514a9'), u'other_phone': u'+3933332323', u'name': u'Pippo'}\n",
      "{u'_id': ObjectId('581c6b6be14afe70495514aa'), u'key': u'value'}\n",
      "{u'_id': ObjectId('581c6b9de14afe70495514ab'), u'key': u'value'}\n"
     ]
    }
   ],
   "source": [
    "people = db.people.find()\n",
    "for p in people:\n",
    "    print p"
   ]
  },
  {
   "cell_type": "code",
   "execution_count": 25,
   "metadata": {
    "collapsed": false
   },
   "outputs": [
    {
     "data": {
      "text/plain": [
       "{u'_id': ObjectId('581c6995e14afe70495514a8'),\n",
       " u'name': u'Alex',\n",
       " u'phone': u'+39123456789'}"
      ]
     },
     "execution_count": 25,
     "metadata": {},
     "output_type": "execute_result"
    }
   ],
   "source": [
    "from bson import ObjectId\n",
    "db.people.find_one({'_id' : ObjectId('581c6995e14afe70495514a8')})"
   ]
  },
  {
   "cell_type": "code",
   "execution_count": 27,
   "metadata": {
    "collapsed": false
   },
   "outputs": [
    {
     "name": "stdout",
     "output_type": "stream",
     "text": [
      "{u'phone': u'+39123456789', u'_id': ObjectId('581c6968e14afe70495514a7'), u'name': u'Alex'}\n"
     ]
    }
   ],
   "source": [
    "print db.people.find_one({'_id': {'$gt':  ObjectId('5818c8549718d42038af68ad')}}) #qui applica un operatore in questo caso greater than $gt"
   ]
  },
  {
   "cell_type": "markdown",
   "metadata": {},
   "source": [
    "Full list of query operators is available at http://docs.mongodb.org/manual/reference/operator/query/"
   ]
  },
  {
   "cell_type": "code",
   "execution_count": 28,
   "metadata": {
    "collapsed": false
   },
   "outputs": [
    {
     "name": "stdout",
     "output_type": "stream",
     "text": [
      "{u'phone': u'+39123456789', u'_id': ObjectId('581c6968e14afe70495514a7'), u'name': u'Alex'}\n"
     ]
    }
   ],
   "source": [
    "print db.people.find_one({'_id': {'$gt':  ObjectId('5818c8549718d42038af68ad')}})"
   ]
  },
  {
   "cell_type": "code",
   "execution_count": 31,
   "metadata": {
    "collapsed": false
   },
   "outputs": [
    {
     "name": "stdout",
     "output_type": "stream",
     "text": [
      "{u'phone': u'+39123456789', u'_id': ObjectId('581c6968e14afe70495514a7'), u'name': u'Alex'}\n",
      "{u'phone': u'+39123456789', u'_id': ObjectId('581c6995e14afe70495514a8'), u'name': u'Alex'}\n",
      "{u'phone': u'+39123456788', u'_id': ObjectId('581c69d6e14afe70495514a9'), u'other_phone': u'+3933332323', u'name': u'Pippo'}\n",
      "{u'_id': ObjectId('581c6b6be14afe70495514aa'), u'key': u'value'}\n",
      "{u'_id': ObjectId('581c6b9de14afe70495514ab'), u'key': u'value'}\n"
     ]
    }
   ],
   "source": [
    "people = db.people.find({'_id': {'$gt':  ObjectId('5818c8549718d42038af68ad')}})\n",
    "for p in people:\n",
    "    print p"
   ]
  },
  {
   "cell_type": "code",
   "execution_count": 32,
   "metadata": {
    "collapsed": false
   },
   "outputs": [
    {
     "data": {
      "text/plain": [
       "<pymongo.cursor.Cursor at 0x7f797a92d510>"
      ]
     },
     "execution_count": 32,
     "metadata": {},
     "output_type": "execute_result"
    }
   ],
   "source": [
    "people.rewind()"
   ]
  },
  {
   "cell_type": "code",
   "execution_count": 33,
   "metadata": {
    "collapsed": false
   },
   "outputs": [
    {
     "name": "stdout",
     "output_type": "stream",
     "text": [
      "{u'phone': u'+39123456789', u'_id': ObjectId('581c6968e14afe70495514a7'), u'name': u'Alex'}\n",
      "{u'phone': u'+39123456789', u'_id': ObjectId('581c6995e14afe70495514a8'), u'name': u'Alex'}\n",
      "{u'phone': u'+39123456788', u'_id': ObjectId('581c69d6e14afe70495514a9'), u'other_phone': u'+3933332323', u'name': u'Pippo'}\n",
      "{u'_id': ObjectId('581c6b6be14afe70495514aa'), u'key': u'value'}\n",
      "{u'_id': ObjectId('581c6b9de14afe70495514ab'), u'key': u'value'}\n"
     ]
    }
   ],
   "source": [
    "for p in people:\n",
    "    print p"
   ]
  },
  {
   "cell_type": "code",
   "execution_count": 34,
   "metadata": {
    "collapsed": false
   },
   "outputs": [
    {
     "name": "stdout",
     "output_type": "stream",
     "text": [
      "\n",
      "Before Updated: {u'phone': u'+39123456789', u'_id': ObjectId('581c6968e14afe70495514a7'), u'name': u'Alex'}\n",
      "\n",
      "After Update: {u'_id': ObjectId('581c6968e14afe70495514a7'), u'name': u'John Doe'}\n"
     ]
    },
    {
     "name": "stderr",
     "output_type": "stream",
     "text": [
      "/home/bigdive/anaconda2/lib/python2.7/site-packages/ipykernel/__main__.py:4: DeprecationWarning: update is deprecated. Use replace_one, update_one or update_many instead.\n"
     ]
    }
   ],
   "source": [
    "doc = db.people.find_one({'name': 'Alex'})\n",
    "print '\\nBefore Updated:', doc\n",
    "\n",
    "db.people.update({'name': 'Alex'}, {'name': 'John Doe'}) #modifica la entry e gli mette il nome jhon Doe sostituisce\n",
    "#tutto\n",
    "doc = db.people.find_one({'name': 'John Doe'})\n",
    "print '\\nAfter Update:', doc"
   ]
  },
  {
   "cell_type": "code",
   "execution_count": 35,
   "metadata": {
    "collapsed": false
   },
   "outputs": [
    {
     "name": "stdout",
     "output_type": "stream",
     "text": [
      "\n",
      "After $set phone: {u'phone': u'+39123456789', u'_id': ObjectId('581c6968e14afe70495514a7'), u'name': u'John Doe'}\n",
      "\n",
      "After $set name: {u'phone': u'+39123456789', u'_id': ObjectId('581c6968e14afe70495514a7'), u'name': u'Alex'}\n"
     ]
    },
    {
     "name": "stderr",
     "output_type": "stream",
     "text": [
      "/home/bigdive/anaconda2/lib/python2.7/site-packages/ipykernel/__main__.py:2: DeprecationWarning: update is deprecated. Use replace_one, update_one or update_many instead.\n",
      "  from ipykernel import kernelapp as app\n",
      "/home/bigdive/anaconda2/lib/python2.7/site-packages/ipykernel/__main__.py:4: DeprecationWarning: update is deprecated. Use replace_one, update_one or update_many instead.\n"
     ]
    }
   ],
   "source": [
    "# Go back to previous state\n",
    "db.people.update({'name': 'John Doe'}, {'$set': {'phone': '+39123456789'}}) #qui invece dice cerca la entry che ha \n",
    "#nome jhon Doe e settagli il telefono\n",
    "print '\\nAfter $set phone:', db.people.find_one({'name': 'John Doe'})\n",
    "db.people.update({'name': 'John Doe'}, {'$set': {'name': 'Alex'}})\n",
    "print '\\nAfter $set name:', db.people.find_one({'name': 'Alex'})"
   ]
  },
  {
   "cell_type": "markdown",
   "metadata": {},
   "source": [
    "uso un altro schema --> blog"
   ]
  },
  {
   "cell_type": "code",
   "execution_count": 36,
   "metadata": {
    "collapsed": false
   },
   "outputs": [
    {
     "name": "stderr",
     "output_type": "stream",
     "text": [
      "/home/bigdive/anaconda2/lib/python2.7/site-packages/ipykernel/__main__.py:5: DeprecationWarning: insert is deprecated. Use insert_one or insert_many instead.\n"
     ]
    },
    {
     "data": {
      "text/plain": [
       "ObjectId('581c6f4fe14afe70495514ac')"
      ]
     },
     "execution_count": 36,
     "metadata": {},
     "output_type": "execute_result"
    }
   ],
   "source": [
    "db.blog.insert({'title': 'MongoDB intro!',\n",
    "                'author': {'name': 'Alex',\n",
    "                           'surname': 'Comu',\n",
    "                           'nickname': 'alexcomu'},\n",
    "                'tags': ['mongodb', 'web', 'new-hair-cut']})"
   ]
  },
  {
   "cell_type": "code",
   "execution_count": 39,
   "metadata": {
    "collapsed": false
   },
   "outputs": [
    {
     "name": "stdout",
     "output_type": "stream",
     "text": [
      "{u'title': u'MongoDB intro!', u'_id': ObjectId('581c6f4fe14afe70495514ac'), u'tags': [u'mongodb', u'web', u'new-hair-cut'], u'author': {u'surname': u'Comu', u'nickname': u'alexcomu', u'name': u'Alex'}}\n",
      "Alex\n"
     ]
    }
   ],
   "source": [
    "blog = db.blog.find_one({'title': 'MongoDB intro!'})\n",
    "print blog\n",
    "print blog['author']['name']"
   ]
  },
  {
   "cell_type": "code",
   "execution_count": 40,
   "metadata": {
    "collapsed": false
   },
   "outputs": [
    {
     "data": {
      "text/plain": [
       "{u'_id': ObjectId('581c6f4fe14afe70495514ac'),\n",
       " u'author': {u'name': u'Alex', u'nickname': u'alexcomu', u'surname': u'Comu'},\n",
       " u'tags': [u'mongodb', u'web', u'new-hair-cut'],\n",
       " u'title': u'MongoDB intro!'}"
      ]
     },
     "execution_count": 40,
     "metadata": {},
     "output_type": "execute_result"
    }
   ],
   "source": [
    "db.blog.find_one({'tags': 'mongodb'})"
   ]
  },
  {
   "cell_type": "code",
   "execution_count": 41,
   "metadata": {
    "collapsed": false
   },
   "outputs": [
    {
     "data": {
      "text/plain": [
       "{u'_id': ObjectId('581c6f4fe14afe70495514ac'),\n",
       " u'author': {u'name': u'Alex', u'nickname': u'alexcomu', u'surname': u'Comu'},\n",
       " u'tags': [u'mongodb', u'web', u'new-hair-cut'],\n",
       " u'title': u'MongoDB intro!'}"
      ]
     },
     "execution_count": 41,
     "metadata": {},
     "output_type": "execute_result"
    }
   ],
   "source": [
    "db.blog.find_one({'author.name': 'Alex'}) #qui si usa la dot notation"
   ]
  },
  {
   "cell_type": "code",
   "execution_count": 42,
   "metadata": {
    "collapsed": false
   },
   "outputs": [
    {
     "name": "stderr",
     "output_type": "stream",
     "text": [
      "/home/bigdive/anaconda2/lib/python2.7/site-packages/ipykernel/__main__.py:10: DeprecationWarning: insert is deprecated. Use insert_one or insert_many instead.\n"
     ]
    }
   ],
   "source": [
    "# Create some random posts\n",
    "TAGS = ['mongodb', 'web', 'scaling', 'cooking']\n",
    "\n",
    "import random\n",
    "for postnum in range(1, 5):\n",
    "    db.blog.insert({'title': 'Post %s' % postnum,\n",
    "                    'author': {'name': 'Alex',\n",
    "                               'surname': 'Comu',\n",
    "                               'nickname': 'alexcomu'},\n",
    "                    'tags': random.sample(TAGS, 2)})"
   ]
  },
  {
   "cell_type": "code",
   "execution_count": 43,
   "metadata": {
    "collapsed": false
   },
   "outputs": [
    {
     "name": "stdout",
     "output_type": "stream",
     "text": [
      "Post 1 -> scaling, cooking\n",
      "Post 4 -> cooking, web\n"
     ]
    }
   ],
   "source": [
    "for post in db.blog.find({'tags': {'$in': ['scaling', 'cooking']}}):\n",
    "    print post['title'], '->', ', '.join(post['tags'])"
   ]
  },
  {
   "cell_type": "markdown",
   "metadata": {},
   "source": [
    "# Esercizio\n",
    "scrivere un piccolo script che inserisca all'interno di una collection \"bigdive\" 3 oggetti del tipo:\n",
    "* nome /phone/data-nascita"
   ]
  },
  {
   "cell_type": "code",
   "execution_count": 44,
   "metadata": {
    "collapsed": false
   },
   "outputs": [
    {
     "name": "stdout",
     "output_type": "stream",
     "text": [
      "[]\n"
     ]
    }
   ],
   "source": [
    "db = client.bigdive #se non esiste crea la collection bigdive vuoto\n",
    "print db.collection_names()"
   ]
  },
  {
   "cell_type": "code",
   "execution_count": 47,
   "metadata": {
    "collapsed": false
   },
   "outputs": [
    {
     "name": "stderr",
     "output_type": "stream",
     "text": [
      "/home/bigdive/anaconda2/lib/python2.7/site-packages/ipykernel/__main__.py:8: DeprecationWarning: insert is deprecated. Use insert_one or insert_many instead.\n"
     ]
    }
   ],
   "source": [
    "NOME = ['Gianni', 'Alberto', 'Luca']\n",
    "PHONE = ['124155', '44456667','66677533']\n",
    "DATA_NASCITA = ['12121900', '11111970', '05051980']\n",
    "\n",
    "for i in range(3):\n",
    "    db.bigdive.insert({'nome': random.sample(NOME,1),\n",
    "                    'phone': random.sample(PHONE,1),\n",
    "                    'data-nascita': random.sample(DATA_NASCITA, 1)})"
   ]
  },
  {
   "cell_type": "code",
   "execution_count": 48,
   "metadata": {
    "collapsed": false
   },
   "outputs": [
    {
     "name": "stdout",
     "output_type": "stream",
     "text": [
      "{u'phone': [u'66677533', u'124155'], u'_id': ObjectId('581c73b6e14afe70495514b1'), u'data-nascita': [u'11111970', u'12121900'], u'nome': [u'Luca', u'Alberto']}\n",
      "{u'phone': [u'66677533', u'124155'], u'_id': ObjectId('581c73b6e14afe70495514b2'), u'data-nascita': [u'12121900', u'05051980'], u'nome': [u'Gianni', u'Alberto']}\n",
      "{u'phone': [u'44456667', u'124155'], u'_id': ObjectId('581c73b6e14afe70495514b3'), u'data-nascita': [u'11111970', u'12121900'], u'nome': [u'Alberto', u'Luca']}\n",
      "{u'phone': [u'44456667'], u'_id': ObjectId('581c73fae14afe70495514b4'), u'data-nascita': [u'11111970'], u'nome': [u'Luca']}\n",
      "{u'phone': [u'124155'], u'_id': ObjectId('581c73fae14afe70495514b5'), u'data-nascita': [u'05051980'], u'nome': [u'Luca']}\n",
      "{u'phone': [u'44456667'], u'_id': ObjectId('581c73fae14afe70495514b6'), u'data-nascita': [u'05051980'], u'nome': [u'Luca']}\n"
     ]
    }
   ],
   "source": [
    "for entry in db.bigdive.find():\n",
    "    print entry"
   ]
  },
  {
   "cell_type": "code",
   "execution_count": 51,
   "metadata": {
    "collapsed": false
   },
   "outputs": [
    {
     "name": "stderr",
     "output_type": "stream",
     "text": [
      "/home/bigdive/anaconda2/lib/python2.7/site-packages/ipykernel/__main__.py:1: DeprecationWarning: update is deprecated. Use replace_one, update_one or update_many instead.\n",
      "  if __name__ == '__main__':\n"
     ]
    },
    {
     "data": {
      "text/plain": [
       "{u'n': 1, u'nModified': 1, u'ok': 1, 'updatedExisting': True}"
      ]
     },
     "execution_count": 51,
     "metadata": {},
     "output_type": "execute_result"
    }
   ],
   "source": [
    "db.bigdive.update({'nome': 'Luca'}, {'$set': {'citta residenza': 'torino'}}) "
   ]
  },
  {
   "cell_type": "code",
   "execution_count": 52,
   "metadata": {
    "collapsed": false
   },
   "outputs": [
    {
     "name": "stdout",
     "output_type": "stream",
     "text": [
      "{u'phone': [u'66677533', u'124155'], u'_id': ObjectId('581c73b6e14afe70495514b1'), u'data-nascita': [u'11111970', u'12121900'], u'citta residenza': u'torino', u'nome': [u'Luca', u'Alberto']}\n",
      "{u'phone': [u'66677533', u'124155'], u'_id': ObjectId('581c73b6e14afe70495514b2'), u'data-nascita': [u'12121900', u'05051980'], u'nome': [u'Gianni', u'Alberto']}\n",
      "{u'phone': [u'44456667', u'124155'], u'_id': ObjectId('581c73b6e14afe70495514b3'), u'data-nascita': [u'11111970', u'12121900'], u'nome': [u'Alberto', u'Luca']}\n",
      "{u'phone': [u'44456667'], u'_id': ObjectId('581c73fae14afe70495514b4'), u'data-nascita': [u'11111970'], u'nome': [u'Luca']}\n",
      "{u'phone': [u'124155'], u'_id': ObjectId('581c73fae14afe70495514b5'), u'data-nascita': [u'05051980'], u'nome': [u'Luca']}\n",
      "{u'phone': [u'44456667'], u'_id': ObjectId('581c73fae14afe70495514b6'), u'data-nascita': [u'05051980'], u'nome': [u'Luca']}\n"
     ]
    }
   ],
   "source": [
    "for entry in db.bigdive.find():\n",
    "    print entry\n"
   ]
  },
  {
   "cell_type": "code",
   "execution_count": 55,
   "metadata": {
    "collapsed": false
   },
   "outputs": [
    {
     "data": {
      "text/plain": [
       "<pymongo.results.InsertManyResult at 0x7f797a9721e0>"
      ]
     },
     "execution_count": 55,
     "metadata": {},
     "output_type": "execute_result"
    }
   ],
   "source": [
    "db.bigdive.insert_many([{\"nome\" : \"pippo\", \"phone\" : \"345667\"},{\"nome\" : \"ciccio\", \"phone\" : \"5421\"}])"
   ]
  },
  {
   "cell_type": "code",
   "execution_count": 56,
   "metadata": {
    "collapsed": false
   },
   "outputs": [
    {
     "name": "stdout",
     "output_type": "stream",
     "text": [
      "{u'phone': [u'66677533', u'124155'], u'_id': ObjectId('581c73b6e14afe70495514b1'), u'data-nascita': [u'11111970', u'12121900'], u'citta residenza': u'torino', u'nome': [u'Luca', u'Alberto']}\n",
      "{u'phone': [u'66677533', u'124155'], u'_id': ObjectId('581c73b6e14afe70495514b2'), u'data-nascita': [u'12121900', u'05051980'], u'nome': [u'Gianni', u'Alberto']}\n",
      "{u'phone': [u'44456667', u'124155'], u'_id': ObjectId('581c73b6e14afe70495514b3'), u'data-nascita': [u'11111970', u'12121900'], u'nome': [u'Alberto', u'Luca']}\n",
      "{u'phone': [u'44456667'], u'_id': ObjectId('581c73fae14afe70495514b4'), u'data-nascita': [u'11111970'], u'nome': [u'Luca']}\n",
      "{u'phone': [u'124155'], u'_id': ObjectId('581c73fae14afe70495514b5'), u'data-nascita': [u'05051980'], u'nome': [u'Luca']}\n",
      "{u'phone': [u'44456667'], u'_id': ObjectId('581c73fae14afe70495514b6'), u'data-nascita': [u'05051980'], u'nome': [u'Luca']}\n",
      "{u'phone': u'345667', u'_id': ObjectId('581c7547e14afe70495514b7'), u'nome': u'pippo'}\n",
      "{u'phone': u'5421', u'_id': ObjectId('581c7547e14afe70495514b8'), u'nome': u'ciccio'}\n"
     ]
    }
   ],
   "source": [
    "for entry in db.bigdive.find():\n",
    "    print entry"
   ]
  },
  {
   "cell_type": "code",
   "execution_count": 62,
   "metadata": {
    "collapsed": false
   },
   "outputs": [
    {
     "name": "stderr",
     "output_type": "stream",
     "text": [
      "/home/bigdive/anaconda2/lib/python2.7/site-packages/ipykernel/__main__.py:1: DeprecationWarning: update is deprecated. Use replace_one, update_one or update_many instead.\n",
      "  if __name__ == '__main__':\n"
     ]
    },
    {
     "data": {
      "text/plain": [
       "{u'n': 1, u'nModified': 1, u'ok': 1, 'updatedExisting': True}"
      ]
     },
     "execution_count": 62,
     "metadata": {},
     "output_type": "execute_result"
    }
   ],
   "source": [
    "db.bigdive.update({'_id':  ObjectId('581c73b6e14afe70495514b1')}, {\"$set\" : {'nome' : 'Alberto'}})"
   ]
  },
  {
   "cell_type": "code",
   "execution_count": 63,
   "metadata": {
    "collapsed": false
   },
   "outputs": [
    {
     "name": "stderr",
     "output_type": "stream",
     "text": [
      "/home/bigdive/anaconda2/lib/python2.7/site-packages/ipykernel/__main__.py:1: DeprecationWarning: update is deprecated. Use replace_one, update_one or update_many instead.\n",
      "  if __name__ == '__main__':\n"
     ]
    },
    {
     "data": {
      "text/plain": [
       "{u'n': 1, u'nModified': 1, u'ok': 1, 'updatedExisting': True}"
      ]
     },
     "execution_count": 63,
     "metadata": {},
     "output_type": "execute_result"
    }
   ],
   "source": [
    "db.bigdive.update({'_id':  ObjectId('581c73b6e14afe70495514b2')}, {\"$set\" : {'nome' : 'Gianni'}})"
   ]
  },
  {
   "cell_type": "code",
   "execution_count": 64,
   "metadata": {
    "collapsed": false
   },
   "outputs": [
    {
     "name": "stderr",
     "output_type": "stream",
     "text": [
      "/home/bigdive/anaconda2/lib/python2.7/site-packages/ipykernel/__main__.py:1: DeprecationWarning: update is deprecated. Use replace_one, update_one or update_many instead.\n",
      "  if __name__ == '__main__':\n"
     ]
    },
    {
     "data": {
      "text/plain": [
       "{u'n': 1, u'nModified': 1, u'ok': 1, 'updatedExisting': True}"
      ]
     },
     "execution_count": 64,
     "metadata": {},
     "output_type": "execute_result"
    }
   ],
   "source": [
    "db.bigdive.update({'_id':  ObjectId('581c73b6e14afe70495514b3')}, {\"$set\" : {'nome' : 'Luca'}})"
   ]
  },
  {
   "cell_type": "code",
   "execution_count": 65,
   "metadata": {
    "collapsed": false
   },
   "outputs": [
    {
     "name": "stdout",
     "output_type": "stream",
     "text": [
      "{u'phone': [u'66677533', u'124155'], u'_id': ObjectId('581c73b6e14afe70495514b1'), u'data-nascita': [u'11111970', u'12121900'], u'citta residenza': u'torino', u'nome': u'Alberto'}\n",
      "{u'phone': [u'66677533', u'124155'], u'_id': ObjectId('581c73b6e14afe70495514b2'), u'data-nascita': [u'12121900', u'05051980'], u'nome': u'Gianni'}\n",
      "{u'phone': [u'44456667', u'124155'], u'_id': ObjectId('581c73b6e14afe70495514b3'), u'data-nascita': [u'11111970', u'12121900'], u'nome': u'Luca'}\n",
      "{u'phone': [u'44456667'], u'_id': ObjectId('581c73fae14afe70495514b4'), u'data-nascita': [u'11111970'], u'nome': [u'Luca']}\n",
      "{u'phone': [u'124155'], u'_id': ObjectId('581c73fae14afe70495514b5'), u'data-nascita': [u'05051980'], u'nome': [u'Luca']}\n",
      "{u'phone': [u'44456667'], u'_id': ObjectId('581c73fae14afe70495514b6'), u'data-nascita': [u'05051980'], u'nome': [u'Luca']}\n",
      "{u'phone': u'345667', u'_id': ObjectId('581c7547e14afe70495514b7'), u'nome': u'pippo'}\n",
      "{u'phone': u'5421', u'_id': ObjectId('581c7547e14afe70495514b8'), u'nome': u'ciccio'}\n"
     ]
    }
   ],
   "source": [
    "for entry in db.bigdive.find():\n",
    "    print entry"
   ]
  },
  {
   "cell_type": "markdown",
   "metadata": {},
   "source": [
    "## Ming\n",
    "E' l'ORM (object relational mapping) per il MongoDB --> Si usa come wrapper per non accedere direttamente su MongoDB"
   ]
  },
  {
   "cell_type": "markdown",
   "metadata": {},
   "source": [
    "# Esercizio dopo avere importato mongo db"
   ]
  },
  {
   "cell_type": "code",
   "execution_count": 67,
   "metadata": {
    "collapsed": false
   },
   "outputs": [
    {
     "name": "stdout",
     "output_type": "stream",
     "text": [
      "[u'atleti']\n"
     ]
    }
   ],
   "source": [
    "db = client.olimpiadi #se non esiste crea la collection bigdive vuoto\n",
    "print db.collection_names()"
   ]
  },
  {
   "cell_type": "code",
   "execution_count": 73,
   "metadata": {
    "collapsed": false
   },
   "outputs": [
    {
     "name": "stdout",
     "output_type": "stream",
     "text": [
      "{u'sport': u'Snowboard', u'gold_medals': 0, u'total_medals': 0, u'weight': u'85', u'gender': u'Male', u'age': u'27', u'birthdate': u'1986-05-14', u'height': u'1.85', u'country': u'Italy', u'bronze_medals': 0, u'silver_medals': 0, u'_id': ObjectId('5819c7a09718d449be5104d1'), u'name': u'Aaron March'}\n",
      "{u'sport': u'Luge', u'gold_medals': 0, u'total_medals': 1, u'weight': u'85', u'gender': u'Male', u'age': u'40', u'birthdate': u'1974-01-04', u'height': u'1.81', u'country': u'Italy', u'bronze_medals': 1, u'silver_medals': 0, u'_id': ObjectId('5819c7a19718d449be51060a'), u'name': u'Armin Zoeggeler'}\n",
      "{u'sport': u'Snowboard', u'gold_medals': 0, u'total_medals': 0, u'weight': u'85', u'gender': u'Male', u'age': u'25', u'birthdate': u'1988-08-02', u'height': u'1.87', u'country': u'Italy', u'bronze_medals': 0, u'silver_medals': 0, u'_id': ObjectId('5819c7a19718d449be5106db'), u'name': u'Christoph Mick'}\n",
      "{u'sport': u'Alpine Skiing', u'gold_medals': 0, u'total_medals': 0, u'weight': u'85', u'gender': u'Male', u'age': u'31', u'birthdate': u'1982-11-12', u'height': u'1.75', u'country': u'Italy', u'bronze_medals': 0, u'silver_medals': 0, u'_id': ObjectId('5819c7a19718d449be510d2b'), u'name': u'Peter Fill'}\n",
      "{u'sport': u'Alpine Skiing', u'gold_medals': 0, u'total_medals': 0, u'weight': u'85', u'gender': u'Male', u'age': u'31', u'birthdate': u'1982-03-23', u'height': u'1.84', u'country': u'Italy', u'bronze_medals': 0, u'silver_medals': 0, u'_id': ObjectId('5819c7a19718d449be510f8b'), u'name': u'Werner Heel'}\n"
     ]
    }
   ],
   "source": [
    "for entry in db.atleti.find({'country' : 'Italy', 'weight' : '85'}):\n",
    "    print entry"
   ]
  },
  {
   "cell_type": "code",
   "execution_count": 81,
   "metadata": {
    "collapsed": false
   },
   "outputs": [
    {
     "name": "stdout",
     "output_type": "stream",
     "text": [
      "{u'_id': ObjectId('5819c7a09718d449be5104d1'), u'weight': u'85'}\n",
      "{u'_id': ObjectId('5819c7a19718d449be51050d'), u'weight': u'62'}\n",
      "{u'_id': ObjectId('5819c7a19718d449be510557'), u'weight': u'59'}\n",
      "{u'_id': ObjectId('5819c7a19718d449be510585'), u'weight': u'73'}\n",
      "{u'_id': ObjectId('5819c7a19718d449be51058b'), u'weight': u'73'}\n",
      "{u'_id': ObjectId('5819c7a19718d449be5105c4'), u'weight': u''}\n",
      "{u'_id': ObjectId('5819c7a19718d449be5105e8'), u'weight': u'79'}\n",
      "{u'_id': ObjectId('5819c7a19718d449be510602'), u'weight': u'55'}\n",
      "{u'_id': ObjectId('5819c7a19718d449be510608'), u'weight': u'69'}\n",
      "{u'_id': ObjectId('5819c7a19718d449be51060a'), u'weight': u'85'}\n",
      "{u'_id': ObjectId('5819c7a19718d449be51069d'), u'weight': u''}\n",
      "{u'_id': ObjectId('5819c7a19718d449be5106a5'), u'weight': u'61'}\n",
      "{u'_id': ObjectId('5819c7a19718d449be5106ae'), u'weight': u''}\n",
      "{u'_id': ObjectId('5819c7a19718d449be5106bc'), u'weight': u'64'}\n",
      "{u'_id': ObjectId('5819c7a19718d449be5106ca'), u'weight': u'65'}\n",
      "{u'_id': ObjectId('5819c7a19718d449be5106ce'), u'weight': u'81'}\n",
      "{u'_id': ObjectId('5819c7a19718d449be5106d6'), u'weight': u'90'}\n",
      "{u'_id': ObjectId('5819c7a19718d449be5106db'), u'weight': u'85'}\n",
      "{u'_id': ObjectId('5819c7a19718d449be5106f5'), u'weight': u'83'}\n",
      "{u'_id': ObjectId('5819c7a19718d449be510719'), u'weight': u'72'}\n",
      "{u'_id': ObjectId('5819c7a19718d449be510721'), u'weight': u'67'}\n",
      "{u'_id': ObjectId('5819c7a19718d449be510735'), u'weight': u'76'}\n",
      "{u'_id': ObjectId('5819c7a19718d449be51073a'), u'weight': u'72'}\n",
      "{u'_id': ObjectId('5819c7a19718d449be510744'), u'weight': u'59'}\n",
      "{u'_id': ObjectId('5819c7a19718d449be510745'), u'weight': u'75'}\n",
      "{u'_id': ObjectId('5819c7a19718d449be510746'), u'weight': u'69'}\n",
      "{u'_id': ObjectId('5819c7a19718d449be51074d'), u'weight': u'51'}\n",
      "{u'_id': ObjectId('5819c7a19718d449be510750'), u'weight': u'65'}\n",
      "{u'_id': ObjectId('5819c7a19718d449be51075e'), u'weight': u'60'}\n",
      "{u'_id': ObjectId('5819c7a19718d449be51076d'), u'weight': u'75'}\n",
      "{u'_id': ObjectId('5819c7a19718d449be510783'), u'weight': u'61'}\n",
      "{u'_id': ObjectId('5819c7a19718d449be510785'), u'weight': u'97'}\n",
      "{u'_id': ObjectId('5819c7a19718d449be510787'), u'weight': u'72'}\n",
      "{u'_id': ObjectId('5819c7a19718d449be51078f'), u'weight': u'60'}\n",
      "{u'_id': ObjectId('5819c7a19718d449be5107af'), u'weight': u'70'}\n",
      "{u'_id': ObjectId('5819c7a19718d449be5107b6'), u'weight': u'56'}\n",
      "{u'_id': ObjectId('5819c7a19718d449be5107b7'), u'weight': u'59'}\n",
      "{u'_id': ObjectId('5819c7a19718d449be5107be'), u'weight': u'53'}\n",
      "{u'_id': ObjectId('5819c7a19718d449be5107ce'), u'weight': u'77'}\n",
      "{u'_id': ObjectId('5819c7a19718d449be5107cf'), u'weight': u'82'}\n",
      "{u'_id': ObjectId('5819c7a19718d449be5107e5'), u'weight': u'77'}\n",
      "{u'_id': ObjectId('5819c7a19718d449be510807'), u'weight': u'59'}\n",
      "{u'_id': ObjectId('5819c7a19718d449be51081b'), u'weight': u'78'}\n",
      "{u'_id': ObjectId('5819c7a19718d449be510821'), u'weight': u'57'}\n",
      "{u'_id': ObjectId('5819c7a19718d449be510824'), u'weight': u'70'}\n",
      "{u'_id': ObjectId('5819c7a19718d449be510839'), u'weight': u'62'}\n",
      "{u'_id': ObjectId('5819c7a19718d449be51083a'), u'weight': u'61'}\n",
      "{u'_id': ObjectId('5819c7a19718d449be51083b'), u'weight': u'90'}\n",
      "{u'_id': ObjectId('5819c7a19718d449be51083c'), u'weight': u'70'}\n",
      "{u'_id': ObjectId('5819c7a19718d449be510855'), u'weight': u'54'}\n",
      "{u'_id': ObjectId('5819c7a19718d449be510863'), u'weight': u'80'}\n",
      "{u'_id': ObjectId('5819c7a19718d449be51086a'), u'weight': u'68'}\n",
      "{u'_id': ObjectId('5819c7a19718d449be51086b'), u'weight': u'83'}\n",
      "{u'_id': ObjectId('5819c7a19718d449be51086c'), u'weight': u'68'}\n",
      "{u'_id': ObjectId('5819c7a19718d449be510878'), u'weight': u'61'}\n",
      "{u'_id': ObjectId('5819c7a19718d449be5108d7'), u'weight': u'57'}\n",
      "{u'_id': ObjectId('5819c7a19718d449be510a18'), u'weight': u'55'}\n",
      "{u'_id': ObjectId('5819c7a19718d449be510ad9'), u'weight': u'73'}\n",
      "{u'_id': ObjectId('5819c7a19718d449be510ada'), u'weight': u''}\n",
      "{u'_id': ObjectId('5819c7a19718d449be510adb'), u'weight': u'59'}\n",
      "{u'_id': ObjectId('5819c7a19718d449be510ae2'), u'weight': u'54'}\n",
      "{u'_id': ObjectId('5819c7a19718d449be510ae7'), u'weight': u'72'}\n",
      "{u'_id': ObjectId('5819c7a19718d449be510aed'), u'weight': u'69'}\n",
      "{u'_id': ObjectId('5819c7a19718d449be510af2'), u'weight': u'63'}\n",
      "{u'_id': ObjectId('5819c7a19718d449be510b14'), u'weight': u'75'}\n",
      "{u'_id': ObjectId('5819c7a19718d449be510b22'), u'weight': u''}\n",
      "{u'_id': ObjectId('5819c7a19718d449be510b58'), u'weight': u'53'}\n",
      "{u'_id': ObjectId('5819c7a19718d449be510b6f'), u'weight': u'83'}\n",
      "{u'_id': ObjectId('5819c7a19718d449be510b75'), u'weight': u'80'}\n",
      "{u'_id': ObjectId('5819c7a19718d449be510b90'), u'weight': u'58'}\n",
      "{u'_id': ObjectId('5819c7a19718d449be510bb2'), u'weight': u'81'}\n",
      "{u'_id': ObjectId('5819c7a19718d449be510bb3'), u'weight': u''}\n",
      "{u'_id': ObjectId('5819c7a19718d449be510bbf'), u'weight': u'71'}\n",
      "{u'_id': ObjectId('5819c7a19718d449be510bc3'), u'weight': u'82'}\n",
      "{u'_id': ObjectId('5819c7a19718d449be510bdc'), u'weight': u'83'}\n",
      "{u'_id': ObjectId('5819c7a19718d449be510bfe'), u'weight': u'65'}\n",
      "{u'_id': ObjectId('5819c7a19718d449be510bff'), u'weight': u'53'}\n",
      "{u'_id': ObjectId('5819c7a19718d449be510c28'), u'weight': u'75'}\n",
      "{u'_id': ObjectId('5819c7a19718d449be510c51'), u'weight': u'64'}\n",
      "{u'_id': ObjectId('5819c7a19718d449be510c56'), u'weight': u'60'}\n",
      "{u'_id': ObjectId('5819c7a19718d449be510c81'), u'weight': u'71'}\n",
      "{u'_id': ObjectId('5819c7a19718d449be510c84'), u'weight': u''}\n",
      "{u'_id': ObjectId('5819c7a19718d449be510c86'), u'weight': u'57'}\n",
      "{u'_id': ObjectId('5819c7a19718d449be510cd6'), u'weight': u'78'}\n",
      "{u'_id': ObjectId('5819c7a19718d449be510cd8'), u'weight': u''}\n",
      "{u'_id': ObjectId('5819c7a19718d449be510cf6'), u'weight': u'77'}\n",
      "{u'_id': ObjectId('5819c7a19718d449be510cfc'), u'weight': u'63'}\n",
      "{u'_id': ObjectId('5819c7a19718d449be510cfe'), u'weight': u'80'}\n",
      "{u'_id': ObjectId('5819c7a19718d449be510d07'), u'weight': u''}\n",
      "{u'_id': ObjectId('5819c7a19718d449be510d2b'), u'weight': u'85'}\n",
      "{u'_id': ObjectId('5819c7a19718d449be510d5a'), u'weight': u'63'}\n",
      "{u'_id': ObjectId('5819c7a19718d449be510d8b'), u'weight': u'68'}\n",
      "{u'_id': ObjectId('5819c7a19718d449be510d8d'), u'weight': u'75'}\n",
      "{u'_id': ObjectId('5819c7a19718d449be510d98'), u'weight': u'65'}\n",
      "{u'_id': ObjectId('5819c7a19718d449be510d99'), u'weight': u'83'}\n",
      "{u'_id': ObjectId('5819c7a19718d449be510dd9'), u'weight': u'74'}\n",
      "{u'_id': ObjectId('5819c7a19718d449be510de2'), u'weight': u'64'}\n",
      "{u'_id': ObjectId('5819c7a19718d449be510ddf'), u'weight': u'62'}\n",
      "{u'_id': ObjectId('5819c7a19718d449be510e05'), u'weight': u'65'}\n",
      "{u'_id': ObjectId('5819c7a19718d449be510e4c'), u'weight': u'50'}\n",
      "{u'_id': ObjectId('5819c7a19718d449be510e5d'), u'weight': u'98'}\n",
      "{u'_id': ObjectId('5819c7a19718d449be510e5e'), u'weight': u'97'}\n",
      "{u'_id': ObjectId('5819c7a19718d449be510e81'), u'weight': u''}\n",
      "{u'_id': ObjectId('5819c7a19718d449be510e86'), u'weight': u'80'}\n",
      "{u'_id': ObjectId('5819c7a19718d449be510f13'), u'weight': u'80'}\n",
      "{u'_id': ObjectId('5819c7a19718d449be510f14'), u'weight': u'75'}\n",
      "{u'_id': ObjectId('5819c7a19718d449be510f3a'), u'weight': u''}\n",
      "{u'_id': ObjectId('5819c7a19718d449be510f4d'), u'weight': u'65'}\n",
      "{u'_id': ObjectId('5819c7a19718d449be510f72'), u'weight': u'54'}\n",
      "{u'_id': ObjectId('5819c7a19718d449be510f8b'), u'weight': u'85'}\n",
      "{u'_id': ObjectId('5819c7a19718d449be510f8f'), u'weight': u'101'}\n",
      "{u'_id': ObjectId('5819c7a19718d449be510fd4'), u'weight': u'69'}\n",
      "{u'_id': ObjectId('5819c7a19718d449be510fe1'), u'weight': u'64'}\n"
     ]
    }
   ],
   "source": [
    "for entry in db.atleti.find({'country' : 'Italy'}, {'weight' : 1}): #0 indica che non resistuisce il campo e mi da\n",
    "    #tutti gli altri. Invece se metti 1 ti restituisce solo weight\n",
    "    print entry"
   ]
  },
  {
   "cell_type": "code",
   "execution_count": 92,
   "metadata": {
    "collapsed": false
   },
   "outputs": [
    {
     "name": "stdout",
     "output_type": "stream",
     "text": [
      "{u'gold_medals': 2, u'total_medals': 3, u'weight': u'75', u'gender': u'Male', u'age': u'25', u'birthdate': u'1988-09-14', u'height': u'1.85', u'country': u'France', u'bronze_medals': 0, u'silver_medals': 1, u'sport': u'Biathlon', u'name': u'Martin Fourcade'}\n"
     ]
    }
   ],
   "source": [
    "for entry in db.atleti.find({'country' : 'France', 'gold_medals' : { '$gt': 1}}, {'_id' : 0}): #0 indica che non resistuisce il campo e mi da\n",
    "    #tutti gli altri. In questo campo non mi mostra l'id\n",
    "    print entry"
   ]
  },
  {
   "cell_type": "markdown",
   "metadata": {},
   "source": [
    "# Esempio pipeline"
   ]
  },
  {
   "cell_type": "code",
   "execution_count": 98,
   "metadata": {
    "collapsed": false
   },
   "outputs": [
    {
     "name": "stdout",
     "output_type": "stream",
     "text": [
      "{u'count': 226, u'_id': u'count'}\n",
      "[{u'_id': u'Germany', u'medals': 26}, {u'_id': u'United States', u'medals': 28}, {u'_id': u'Canada', u'medals': 28}, {u'_id': u'Russian Fed.', u'medals': 38}]\n"
     ]
    }
   ],
   "source": [
    "db = client.olimpiadi\n",
    "\n",
    "db.atleti.aggregate([\n",
    "        {'$match': {'country': {'$in':['Italy', 'France']}}}\n",
    "    ])\n",
    "\n",
    "result = db.atleti.aggregate([\n",
    "        {'$match': {'country': {'$in':['Italy', 'France']}}}, # è come fare il group by\n",
    "        {'$group': {'_id': 'count', 'count': {'$sum': 1}}} #e' come fare il count in SQL\n",
    "    ])\n",
    "\n",
    "print result.next() #la risposta di un aggragate è un cursore\n",
    "\n",
    "\n",
    "result1 = db.atleti.aggregate([\n",
    "        {'$project': {'country': 1, 'total_medals': 1, '_id': 0}}, #prende solo i campi selezionati\n",
    "        {'$group': {'_id': '$country', 'medals': {'$sum': '$total_medals'}}}, # raggruppami le righe e creami una chiave per ogni country e creami un campo medal che è la somma di tutti i total medals che trovi\n",
    "        {'$match': {'medals': {'$gt': 20}}}, #qui mi fa il macth per farmi restituire tutte le nazioni che hanno vinto più di 20 medaglie\n",
    "        {'$sort': {'medals': 1}} #fa l'ordinamento per medals\n",
    "    ])\n",
    "\n",
    "print (list(result1))"
   ]
  },
  {
   "cell_type": "code",
   "execution_count": 99,
   "metadata": {
    "collapsed": false
   },
   "outputs": [
    {
     "name": "stdout",
     "output_type": "stream",
     "text": [
      "[{u'country': u'Italy', u'total_medals': 0}, {u'country': u'United States', u'total_medals': 0}, {u'country': u'Kazakhstan', u'total_medals': 0}, {u'country': u'New Zealand', u'total_medals': 0}, {u'country': u'Kazakhstan', u'total_medals': 0}, {u'country': u'Morocco', u'total_medals': 0}, {u'country': u'Slovakia', u'total_medals': 0}, {u'country': u'Russian Fed.', u'total_medals': 0}, {u'country': u'France', u'total_medals': 0}, {u'country': u'Poland', u'total_medals': 0}, {u'country': u'Austria', u'total_medals': 0}, {u'country': u'France', u'total_medals': 0}, {u'country': u'France', u'total_medals': 0}, {u'country': u'Lithuania', u'total_medals': 0}, {u'country': u'Sweden', u'total_medals': 0}, {u'country': u'Hungary', u'total_medals': 0}, {u'country': u'Latvia', u'total_medals': 0}, {u'country': u'Poland', u'total_medals': 0}, {u'country': u'Finland', u'total_medals': 0}, {u'country': u'United States', u'total_medals': 0}, {u'country': u'Kazakhstan', u'total_medals': 0}, {u'country': u'Japan', u'total_medals': 0}, {u'country': u'Great Britain', u'total_medals': 0}, {u'country': u'Australia', u'total_medals': 0}, {u'country': u'Japan', u'total_medals': 0}, {u'country': u'Finland', u'total_medals': 1}, {u'country': u'Switzerland', u'total_medals': 0}, {u'country': u'Estonia', u'total_medals': 0}, {u'country': u'United States', u'total_medals': 0}, {u'country': u'Japan', u'total_medals': 0}, {u'country': u'Japan', u'total_medals': 0}, {u'country': u'Japan', u'total_medals': 0}, {u'country': u'Japan', u'total_medals': 0}, {u'country': u'Japan', u'total_medals': 1}, {u'country': u'Norway', u'total_medals': 0}, {u'country': u'Korea', u'total_medals': 1}, {u'country': u'Russian Fed.', u'total_medals': 2}, {u'country': u'Serbia', u'total_medals': 0}, {u'country': u'Norway', u'total_medals': 0}, {u'country': u'Norway', u'total_medals': 0}, {u'country': u'Finland', u'total_medals': 0}, {u'country': u'Russian Fed.', u'total_medals': 0}, {u'country': u'Russian Fed.', u'total_medals': 0}, {u'country': u'Kazakhstan', u'total_medals': 0}, {u'country': u'Poland', u'total_medals': 0}, {u'country': u'Poland', u'total_medals': 0}, {u'country': u'Russian Fed.', u'total_medals': 0}, {u'country': u'Russian Fed.', u'total_medals': 0}, {u'country': u'Russian Fed.', u'total_medals': 0}, {u'country': u'Russian Fed.', u'total_medals': 0}, {u'country': u'Finland', u'total_medals': 0}, {u'country': u'Slovakia', u'total_medals': 0}, {u'country': u'Belarus', u'total_medals': 0}, {u'country': u'Russian Fed.', u'total_medals': 0}, {u'country': u'Slovenia', u'total_medals': 0}, {u'country': u'Czech Republic', u'total_medals': 0}, {u'country': u'Slovenia', u'total_medals': 0}, {u'country': u'Slovenia', u'total_medals': 0}, {u'country': u'Czech Republic', u'total_medals': 0}, {u'country': u'Austria', u'total_medals': 0}, {u'country': u'Italy', u'total_medals': 0}, {u'country': u'Togo', u'total_medals': 0}, {u'country': u'Switzerland', u'total_medals': 1}, {u'country': u'Canada', u'total_medals': 0}, {u'country': u'Georgia', u'total_medals': 0}, {u'country': u'Canada', u'total_medals': 1}, {u'country': u'United States', u'total_medals': 0}, {u'country': u'United States', u'total_medals': 1}, {u'country': u'Switzerland', u'total_medals': 0}, {u'country': u'Canada', u'total_medals': 0}, {u'country': u'Canada', u'total_medals': 0}, {u'country': u'Canada', u'total_medals': 0}, {u'country': u'Spain', u'total_medals': 0}, {u'country': u'Australia', u'total_medals': 0}, {u'country': u'United States', u'total_medals': 0}, {u'country': u'Germany', u'total_medals': 0}, {u'country': u'Russian Fed.', u'total_medals': 1}, {u'country': u'Norway', u'total_medals': 0}, {u'country': u'Russian Fed.', u'total_medals': 1}, {u'country': u'Sweden', u'total_medals': 0}, {u'country': u'Australia', u'total_medals': 0}, {u'country': u'Germany', u'total_medals': 0}, {u'country': u'Russian Fed.', u'total_medals': 0}, {u'country': u'Russian Fed.', u'total_medals': 0}, {u'country': u'Russian Fed.', u'total_medals': 0}, {u'country': u'Russian Fed.', u'total_medals': 0}, {u'country': u'Germany', u'total_medals': 0}, {u'country': u'Belarus', u'total_medals': 0}, {u'country': u'Russian Fed.', u'total_medals': 1}, {u'country': u'Russian Fed.', u'total_medals': 0}, {u'country': u'Sweden', u'total_medals': 0}, {u'country': u'Russian Fed.', u'total_medals': 0}, {u'country': u'Russian Fed.', u'total_medals': 0}, {u'country': u'Russian Fed.', u'total_medals': 0}, {u'country': u'Germany', u'total_medals': 0}, {u'country': u'Czech Republic', u'total_medals': 0}, {u'country': u'Sweden', u'total_medals': 0}, {u'country': u'Russian Fed.', u'total_medals': 0}, {u'country': u'Russian Fed.', u'total_medals': 0}, {u'country': u'Russian Fed.', u'total_medals': 1}, {u'country': u'Russian Fed.', u'total_medals': 0}, {u'country': u'Russian Fed.', u'total_medals': 1}, {u'country': u'Russian Fed.', u'total_medals': 1}, {u'country': u'Kazakhstan', u'total_medals': 0}, {u'country': u'Rep. of Moldova', u'total_medals': 0}, {u'country': u'Monaco', u'total_medals': 0}, {u'country': u'Canada', u'total_medals': 0}, {u'country': u'Bulgaria', u'total_medals': 0}, {u'country': u'Russian Fed.', u'total_medals': 0}, {u'country': u'Russian Fed.', u'total_medals': 0}, {u'country': u'Canada', u'total_medals': 0}, {u'country': u'Russian Fed.', u'total_medals': 0}, {u'country': u'Cyprus', u'total_medals': 0}, {u'country': u'Russian Fed.', u'total_medals': 0}, {u'country': u'Lebanon', u'total_medals': 0}, {u'country': u'Greece', u'total_medals': 0}, {u'country': u'Romania', u'total_medals': 0}, {u'country': u'Romania', u'total_medals': 0}, {u'country': u'Australia', u'total_medals': 0}, {u'country': u'Israel', u'total_medals': 0}, {u'country': u'Belarus', u'total_medals': 0}, {u'country': u'Azerbaijan', u'total_medals': 0}, {u'country': u'Russian Fed.', u'total_medals': 0}, {u'country': u'Russian Fed.', u'total_medals': 0}, {u'country': u'Germany', u'total_medals': 0}, {u'country': u'Russian Fed.', u'total_medals': 0}, {u'country': u'Kazakhstan', u'total_medals': 0}, {u'country': u'Russian Fed.', u'total_medals': 0}, {u'country': u'Kazakhstan', u'total_medals': 0}, {u'country': u'Russian Fed.', u'total_medals': 0}, {u'country': u'Russian Fed.', u'total_medals': 0}, {u'country': u'Russian Fed.', u'total_medals': 0}, {u'country': u'Russian Fed.', u'total_medals': 1}, {u'country': u'Russian Fed.', u'total_medals': 0}, {u'country': u'Italy', u'total_medals': 0}, {u'country': u'France', u'total_medals': 0}, {u'country': u'France', u'total_medals': 0}, {u'country': u'France', u'total_medals': 0}, {u'country': u'Estonia', u'total_medals': 0}, {u'country': u'Belarus', u'total_medals': 0}, {u'country': u'Belarus', u'total_medals': 0}, {u'country': u'Switzerland', u'total_medals': 0}, {u'country': u'Switzerland', u'total_medals': 0}, {u'country': u'Kazakhstan', u'total_medals': 0}, {u'country': u'Germany', u'total_medals': 1}, {u'country': u'Turkey', u'total_medals': 0}, {u'country': u'Tajikistan', u'total_medals': 0}, {u'country': u'France', u'total_medals': 0}, {u'country': u'Belarus', u'total_medals': 1}, {u'country': u'United States', u'total_medals': 0}, {u'country': u'Turkey', u'total_medals': 0}, {u'country': u'Russian Fed.', u'total_medals': 0}, {u'country': u'United States', u'total_medals': 0}, {u'country': u'Canada', u'total_medals': 0}, {u'country': u'United States', u'total_medals': 0}, {u'country': u'Great Britain', u'total_medals': 0}, {u'country': u'Germany', u'total_medals': 0}, {u'country': u'Japan', u'total_medals': 0}, {u'country': u'Australia', u'total_medals': 0}, {u'country': u'France', u'total_medals': 0}, {u'country': u'France', u'total_medals': 0}, {u'country': u'France', u'total_medals': 0}, {u'country': u'Canada', u'total_medals': 0}, {u'country': u'Russian Fed.', u'total_medals': 0}, {u'country': u'Kazakhstan', u'total_medals': 0}, {u'country': u'Russian Fed.', u'total_medals': 0}, {u'country': u'Slovakia', u'total_medals': 1}, {u'country': u'Ukraine', u'total_medals': 0}, {u'country': u'Spain', u'total_medals': 0}, {u'country': u'Norway', u'total_medals': 1}, {u'country': u'Norway', u'total_medals': 0}, {u'country': u'Norway', u'total_medals': 0}, {u'country': u'Norway', u'total_medals': 0}, {u'country': u'Norway', u'total_medals': 0}, {u'country': u'United States', u'total_medals': 0}, {u'country': u'Sweden', u'total_medals': 0}, {u'country': u'Germany', u'total_medals': 0}, {u'country': u'Austria', u'total_medals': 0}, {u'country': u'Sweden', u'total_medals': 0}, {u'country': u'Israel', u'total_medals': 0}, {u'country': u'Italy', u'total_medals': 0}, {u'country': u'Germany', u'total_medals': 0}, {u'country': u'Hungary', u'total_medals': 0}, {u'country': u'Croatia', u'total_medals': 0}, {u'country': u'Germany', u'total_medals': 0}, {u'country': u'Austria', u'total_medals': 0}, {u'country': u'Italy', u'total_medals': 0}, {u'country': u'Czech Republic', u'total_medals': 0}, {u'country': u'Germany', u'total_medals': 0}, {u'country': u'Austria', u'total_medals': 0}, {u'country': u'Norway', u'total_medals': 0}, {u'country': u'Austria', u'total_medals': 0}, {u'country': u'Austria', u'total_medals': 1}, {u'country': u'Austria', u'total_medals': 0}, {u'country': u'Romania', u'total_medals': 0}, {u'country': u'Austria', u'total_medals': 0}, {u'country': u'Austria', u'total_medals': 0}, {u'country': u'Germany', u'total_medals': 0}, {u'country': u'Germany', u'total_medals': 1}, {u'country': u'Germany', u'total_medals': 1}, {u'country': u'Slovakia', u'total_medals': 0}, {u'country': u'Romania', u'total_medals': 0}, {u'country': u'Russian Fed.', u'total_medals': 0}, {u'country': u'Slovenia', u'total_medals': 0}, {u'country': u'Slovakia', u'total_medals': 0}, {u'country': u'Slovakia', u'total_medals': 0}, {u'country': u'Slovenia', u'total_medals': 0}, {u'country': u'Slovenia', u'total_medals': 0}, {u'country': u'Latvia', u'total_medals': 0}, {u'country': u'Switzerland', u'total_medals': 0}, {u'country': u'Great Britain', u'total_medals': 0}, {u'country': u'Great Britain', u'total_medals': 0}, {u'country': u'United States', u'total_medals': 0}, {u'country': u'Canada', u'total_medals': 0}, {u'country': u'United States', u'total_medals': 1}, {u'country': u'Great Britain', u'total_medals': 0}, {u'country': u'Russian Fed.', u'total_medals': 0}, {u'country': u'Russian Fed.', u'total_medals': 0}, {u'country': u'Bulgaria', u'total_medals': 0}, {u'country': u'Russian Fed.', u'total_medals': 0}, {u'country': u'Russian Fed.', u'total_medals': 0}, {u'country': u'Latvia', u'total_medals': 2}, {u'country': u'Ukraine', u'total_medals': 0}, {u'country': u'Ukraine', u'total_medals': 0}, {u'country': u'Ukraine', u'total_medals': 0}, {u'country': u'France', u'total_medals': 0}, {u'country': u'Austria', u'total_medals': 0}, {u'country': u'Switzerland', u'total_medals': 0}, {u'country': u'United States', u'total_medals': 0}, {u'country': u'Dominica', u'total_medals': 0}, {u'country': u'Russian Fed.', u'total_medals': 0}, {u'country': u'Russian Fed.', u'total_medals': 0}, {u'country': u'Romania', u'total_medals': 0}, {u'country': u'Germany', u'total_medals': 0}, {u'country': u'Germany', u'total_medals': 0}, {u'country': u'Switzerland', u'total_medals': 0}, {u'country': u'Germany', u'total_medals': 0}, {u'country': u'Germany', u'total_medals': 0}, {u'country': u'Germany', u'total_medals': 0}, {u'country': u'Norway', u'total_medals': 0}, {u'country': u'United States', u'total_medals': 0}, {u'country': u'Hungary', u'total_medals': 0}, {u'country': u'Sweden', u'total_medals': 0}, {u'country': u'Italy', u'total_medals': 0}, {u'country': u'Russian Fed.', u'total_medals': 0}, {u'country': u'Austria', u'total_medals': 2}, {u'country': u'Austria', u'total_medals': 0}, {u'country': u'Sweden', u'total_medals': 1}, {u'country': u'Sweden', u'total_medals': 0}, {u'country': u'Finland', u'total_medals': 0}, {u'country': u'Russian Fed.', u'total_medals': 0}, {u'country': u'Russian Fed.', u'total_medals': 0}, {u'country': u'United States', u'total_medals': 0}, {u'country': u'Spain', u'total_medals': 0}, {u'country': u'Australia', u'total_medals': 0}, {u'country': u'Germany', u'total_medals': 0}, {u'country': u'Austria', u'total_medals': 0}, {u'country': u'Russian Fed.', u'total_medals': 0}, {u'country': u'Russian Fed.', u'total_medals': 0}, {u'country': u'Russian Fed.', u'total_medals': 0}, {u'country': u'Great Britain', u'total_medals': 0}, {u'country': u'Russian Fed.', u'total_medals': 0}, {u'country': u'Russian Fed.', u'total_medals': 0}, {u'country': u'New Zealand', u'total_medals': 0}, {u'country': u'Germany', u'total_medals': 0}, {u'country': u'Sweden', u'total_medals': 0}, {u'country': u'United States', u'total_medals': 0}, {u'country': u'Ukraine', u'total_medals': 0}, {u'country': u'Finland', u'total_medals': 1}, {u'country': u'Norway', u'total_medals': 0}, {u'country': u'United States', u'total_medals': 0}, {u'country': u'France', u'total_medals': 0}, {u'country': u'United States', u'total_medals': 0}, {u'country': u'Finland', u'total_medals': 0}, {u'country': u'Netherlands', u'total_medals': 0}, {u'country': u'France', u'total_medals': 0}, {u'country': u'Finland', u'total_medals': 0}, {u'country': u'Finland', u'total_medals': 0}, {u'country': u'France', u'total_medals': 0}, {u'country': u'Italy', u'total_medals': 0}, {u'country': u'Sweden', u'total_medals': 0}, {u'country': u'Netherlands', u'total_medals': 0}, {u'country': u'Russian Fed.', u'total_medals': 0}, {u'country': u'France', u'total_medals': 0}, {u'country': u'Australia', u'total_medals': 0}, {u'country': u'Russian Fed.', u'total_medals': 0}, {u'country': u'Belarus', u'total_medals': 1}, {u'country': u'Finland', u'total_medals': 0}, {u'country': u'Kazakhstan', u'total_medals': 0}, {u'country': u'Russian Fed.', u'total_medals': 0}, {u'country': u'Austria', u'total_medals': 0}, {u'country': u'Czech Republic', u'total_medals': 0}, {u'country': u'Czech Republic', u'total_medals': 0}, {u'country': u'Venezuela', u'total_medals': 0}, {u'country': u'The Former Yugoslav Republic of Macedonia', u'total_medals': 0}, {u'country': u'Bulgaria', u'total_medals': 0}, {u'country': u'Finland', u'total_medals': 0}, {u'country': u'Finland', u'total_medals': 0}, {u'country': u'Finland', u'total_medals': 0}, {u'country': u'Finland', u'total_medals': 0}, {u'country': u'Slovenia', u'total_medals': 0}, {u'country': u'Slovenia', u'total_medals': 0}, {u'country': u'Greece', u'total_medals': 0}, {u'country': u'Canada', u'total_medals': 0}, {u'country': u'Switzerland', u'total_medals': 0}, {u'country': u'Italy', u'total_medals': 3}, {u'country': u'Canada', u'total_medals': 0}, {u'country': u'United States', u'total_medals': 0}, {u'country': u'Japan', u'total_medals': 0}, {u'country': u'Armenia', u'total_medals': 0}, {u'country': u'Latvia', u'total_medals': 0}, {u'country': u'Italy', u'total_medals': 0}, {u'country': u'Switzerland', u'total_medals': 0}, {u'country': u'Italy', u'total_medals': 1}, {u'country': u'Monaco', u'total_medals': 0}, {u'country': u'France', u'total_medals': 0}, {u'country': u'Germany', u'total_medals': 0}, {u'country': u'Netherlands', u'total_medals': 0}, {u'country': u'Ukraine', u'total_medals': 0}, {u'country': u'Uzbekistan', u'total_medals': 0}, {u'country': u'Portugal', u'total_medals': 0}, {u'country': u'France', u'total_medals': 0}, {u'country': u'Finland', u'total_medals': 0}, {u'country': u'Poland', u'total_medals': 0}, {u'country': u'Poland', u'total_medals': 0}, {u'country': u'Armenia', u'total_medals': 0}, {u'country': u'Latvia', u'total_medals': 0}, {u'country': u'Russian Fed.', u'total_medals': 0}, {u'country': u'Russian Fed.', u'total_medals': 0}, {u'country': u'Latvia', u'total_medals': 0}, {u'country': u'Latvia', u'total_medals': 0}, {u'country': u'Latvia', u'total_medals': 0}, {u'country': u'United States', u'total_medals': 0}, {u'country': u'United States', u'total_medals': 1}, {u'country': u'Kazakhstan', u'total_medals': 0}, {u'country': u'Russian Fed.', u'total_medals': 0}, {u'country': u'Australia', u'total_medals': 0}, {u'country': u'Norway', u'total_medals': 0}, {u'country': u'Canada', u'total_medals': 0}, {u'country': u'Canada', u'total_medals': 0}, {u'country': u'France', u'total_medals': 0}, {u'country': u'France', u'total_medals': 0}, {u'country': u'Sweden', u'total_medals': 0}, {u'country': u'Germany', u'total_medals': 0}, {u'country': u'Japan', u'total_medals': 0}, {u'country': u'Japan', u'total_medals': 0}, {u'country': u'Japan', u'total_medals': 0}, {u'country': u'Japan', u'total_medals': 0}, {u'country': u'Japan', u'total_medals': 0}, {u'country': u'Japan', u'total_medals': 1}, {u'country': u'Japan', u'total_medals': 0}, {u'country': u'Japan', u'total_medals': 0}, {u'country': u'Kazakhstan', u'total_medals': 0}, {u'country': u'France', u'total_medals': 0}, {u'country': u'Slovenia', u'total_medals': 0}, {u'country': u'Slovakia', u'total_medals': 0}, {u'country': u'Germany', u'total_medals': 0}, {u'country': u'Slovakia', u'total_medals': 0}, {u'country': u'Belgium', u'total_medals': 0}, {u'country': u'Switzerland', u'total_medals': 0}, {u'country': u'Switzerland', u'total_medals': 1}, {u'country': u'New Zealand', u'total_medals': 0}, {u'country': u'China', u'total_medals': 0}, {u'country': u'Netherlands', u'total_medals': 0}, {u'country': u'Australia', u'total_medals': 0}, {u'country': u'Canada', u'total_medals': 0}, {u'country': u'Great Britain', u'total_medals': 0}, {u'country': u'New Zealand', u'total_medals': 0}, {u'country': u'Great Britain', u'total_medals': 0}, {u'country': u'Hungary', u'total_medals': 0}, {u'country': u'Germany', u'total_medals': 0}, {u'country': u'France', u'total_medals': 0}, {u'country': u'Austria', u'total_medals': 0}, {u'country': u'France', u'total_medals': 0}, {u'country': u'Austria', u'total_medals': 0}, {u'country': u'Austria', u'total_medals': 0}, {u'country': u'Canada', u'total_medals': 0}, {u'country': u'Switzerland', u'total_medals': 0}, {u'country': u'Switzerland', u'total_medals': 0}, {u'country': u'France', u'total_medals': 0}, {u'country': u'Germany', u'total_medals': 0}, {u'country': u'Hungary', u'total_medals': 0}, {u'country': u'Austria', u'total_medals': 0}, {u'country': u'Austria', u'total_medals': 0}, {u'country': u'Austria', u'total_medals': 0}, {u'country': u'Austria', u'total_medals': 0}, {u'country': u'Germany', u'total_medals': 0}, {u'country': u'Switzerland', u'total_medals': 0}, {u'country': u'Japan', u'total_medals': 0}, {u'country': u'Switzerland', u'total_medals': 0}, {u'country': u'United States', u'total_medals': 0}, {u'country': u'Great Britain', u'total_medals': 0}, {u'country': u'China', u'total_medals': 0}, {u'country': u'Russian Fed.', u'total_medals': 0}, {u'country': u'Sweden', u'total_medals': 0}, {u'country': u'Germany', u'total_medals': 0}, {u'country': u'United States', u'total_medals': 0}, {u'country': u'Slovenia', u'total_medals': 0}, {u'country': u'Korea', u'total_medals': 0}, {u'country': u'Korea', u'total_medals': 0}, {u'country': u'Netherlands', u'total_medals': 1}, {u'country': u'United States', u'total_medals': 0}, {u'country': u'United States', u'total_medals': 1}, {u'country': u'Rep. of Moldova', u'total_medals': 0}, {u'country': u'Romania', u'total_medals': 0}, {u'country': u'Ukraine', u'total_medals': 0}, {u'country': u'Korea', u'total_medals': 0}, {u'country': u'Slovenia', u'total_medals': 0}, {u'country': u'Canada', u'total_medals': 0}, {u'country': u'Austria', u'total_medals': 0}, {u'country': u'Canada', u'total_medals': 0}, {u'country': u'United States', u'total_medals': 0}, {u'country': u'Canada', u'total_medals': 0}, {u'country': u'Slovakia', u'total_medals': 0}, {u'country': u'Canada', u'total_medals': 0}, {u'country': u'Australia', u'total_medals': 0}, {u'country': u'United States', u'total_medals': 0}, {u'country': u'United States', u'total_medals': 0}, {u'country': u'France', u'total_medals': 0}, {u'country': u'Austria', u'total_medals': 0}, {u'country': u'United States', u'total_medals': 0}, {u'country': u'Canada', u'total_medals': 0}, {u'country': u'United States', u'total_medals': 0}, {u'country': u'Canada', u'total_medals': 0}, {u'country': u'France', u'total_medals': 0}, {u'country': u'United States', u'total_medals': 0}, {u'country': u'Sweden', u'total_medals': 0}, {u'country': u'United States', u'total_medals': 0}, {u'country': u'Canada', u'total_medals': 0}, {u'country': u'Canada', u'total_medals': 0}, {u'country': u'Canada', u'total_medals': 0}, {u'country': u'Australia', u'total_medals': 0}, {u'country': u'Australia', u'total_medals': 0}, {u'country': u'Australia', u'total_medals': 0}, {u'country': u'United States', u'total_medals': 0}, {u'country': u'Netherlands', u'total_medals': 0}, {u'country': u'Great Britain', u'total_medals': 0}, {u'country': u'Tonga', u'total_medals': 0}, {u'country': u'Canada', u'total_medals': 0}, {u'country': u'United States', u'total_medals': 0}, {u'country': u'Iceland', u'total_medals': 0}, {u'country': u'Mongolia', u'total_medals': 0}, {u'country': u'New Zealand', u'total_medals': 0}, {u'country': u'Canada', u'total_medals': 0}, {u'country': u'Sweden', u'total_medals': 0}, {u'country': u'Great Britain', u'total_medals': 0}, {u'country': u'Australia', u'total_medals': 0}, {u'country': u'United States', u'total_medals': 0}, {u'country': u'Australia', u'total_medals': 0}, {u'country': u'Norway', u'total_medals': 0}, {u'country': u'Portugal', u'total_medals': 0}, {u'country': u'Switzerland', u'total_medals': 0}, {u'country': u'Canada', u'total_medals': 0}, {u'country': u'Netherlands', u'total_medals': 0}, {u'country': u'Germany', u'total_medals': 1}, {u'country': u'Sweden', u'total_medals': 0}, {u'country': u'Sweden', u'total_medals': 0}, {u'country': u'Switzerland', u'total_medals': 0}, {u'country': u'Switzerland', u'total_medals': 0}, {u'country': u'Switzerland', u'total_medals': 0}, {u'country': u'Italy', u'total_medals': 0}, {u'country': u'Spain', u'total_medals': 0}, {u'country': u'Canada', u'total_medals': 0}, {u'country': u'Canada', u'total_medals': 0}, {u'country': u'Switzerland', u'total_medals': 0}, {u'country': u'Canada', u'total_medals': 0}, {u'country': u'Germany', u'total_medals': 0}, {u'country': u'Japan', u'total_medals': 0}, {u'country': u'Italy', u'total_medals': 0}, {u'country': u'Sweden', u'total_medals': 0}, {u'country': u'France', u'total_medals': 0}, {u'country': u'Norway', u'total_medals': 0}, {u'country': u'Korea', u'total_medals': 0}, {u'country': u'Canada', u'total_medals': 0}, {u'country': u'China', u'total_medals': 0}, {u'country': u'China', u'total_medals': 0}, {u'country': u'Canada', u'total_medals': 0}, {u'country': u'Italy', u'total_medals': 0}, {u'country': u'United States', u'total_medals': 0}, {u'country': u'Canada', u'total_medals': 1}, {u'country': u'Canada', u'total_medals': 0}, {u'country': u'United States', u'total_medals': 2}, {u'country': u'Canada', u'total_medals': 0}, {u'country': u'France', u'total_medals': 0}, {u'country': u'Great Britain', u'total_medals': 0}, {u'country': u'Sweden', u'total_medals': 3}, {u'country': u'Canada', u'total_medals': 0}, {u'country': u'Great Britain', u'total_medals': 0}, {u'country': u'China', u'total_medals': 0}, {u'country': u'Korea', u'total_medals': 0}, {u'country': u'Netherlands', u'total_medals': 0}, {u'country': u'Italy', u'total_medals': 0}, {u'country': u'Austria', u'total_medals': 0}, {u'country': u'Japan', u'total_medals': 0}, {u'country': u'Japan', u'total_medals': 0}, {u'country': u'Korea', u'total_medals': 0}, {u'country': u'Japan', u'total_medals': 0}, {u'country': u'Chinese Taipei', u'total_medals': 0}, {u'country': u'Canada', u'total_medals': 1}, {u'country': u'France', u'total_medals': 1}, {u'country': u'Norway', u'total_medals': 0}, {u'country': u'Canada', u'total_medals': 0}, {u'country': u'Japan', u'total_medals': 0}, {u'country': u'Canada', u'total_medals': 0}, {u'country': u'Netherlands', u'total_medals': 0}, {u'country': u'Italy', u'total_medals': 0}, {u'country': u'Switzerland', u'total_medals': 0}, {u'country': u'Norway', u'total_medals': 0}, {u'country': u'United States', u'total_medals': 0}, {u'country': u'Italy', u'total_medals': 0}, {u'country': u'Germany', u'total_medals': 0}, {u'country': u'Germany', u'total_medals': 0}, {u'country': u'Canada', u'total_medals': 0}, {u'country': u'Germany', u'total_medals': 0}, {u'country': u'Austria', u'total_medals': 0}, {u'country': u'Austria', u'total_medals': 0}, {u'country': u'Canada', u'total_medals': 0}, {u'country': u'Italy', u'total_medals': 2}, {u'country': u'Sweden', u'total_medals': 0}, {u'country': u'Denmark', u'total_medals': 0}, {u'country': u'Norway', u'total_medals': 0}, {u'country': u'Sweden', u'total_medals': 0}, {u'country': u'Italy', u'total_medals': 0}, {u'country': u'Germany', u'total_medals': 0}, {u'country': u'Austria', u'total_medals': 0}, {u'country': u'Austria', u'total_medals': 0}, {u'country': u'Austria', u'total_medals': 0}, {u'country': u'United States', u'total_medals': 0}, {u'country': u'Canada', u'total_medals': 0}, {u'country': u'United States', u'total_medals': 0}, {u'country': u'Switzerland', u'total_medals': 0}, {u'country': u'United States', u'total_medals': 0}, {u'country': u'Canada', u'total_medals': 0}, {u'country': u'New Zealand', u'total_medals': 0}, {u'country': u'Germany', u'total_medals': 0}, {u'country': u'Germany', u'total_medals': 1}, {u'country': u'Great Britain', u'total_medals': 0}, {u'country': u'Austria', u'total_medals': 0}, {u'country': u'Switzerland', u'total_medals': 0}, {u'country': u'Switzerland', u'total_medals': 0}, {u'country': u'France', u'total_medals': 0}, {u'country': u'Germany', u'total_medals': 0}, {u'country': u'Canada', u'total_medals': 0}, {u'country': u'France', u'total_medals': 1}, {u'country': u'Ireland', u'total_medals': 0}, {u'country': u'Cyprus', u'total_medals': 0}, {u'country': u'France', u'total_medals': 0}, {u'country': u'Canada', u'total_medals': 0}, {u'country': u'Italy', u'total_medals': 0}, {u'country': u'Romania', u'total_medals': 0}, {u'country': u'Austria', u'total_medals': 0}, {u'country': u'United States', u'total_medals': 0}, {u'country': u'United States', u'total_medals': 0}, {u'country': u'Great Britain', u'total_medals': 0}, {u'country': u'Canada', u'total_medals': 0}, {u'country': u'Argentina', u'total_medals': 0}, {u'country': u'Switzerland', u'total_medals': 0}, {u'country': u'United States', u'total_medals': 0}, {u'country': u'France', u'total_medals': 0}, {u'country': u'France', u'total_medals': 0}, {u'country': u'France', u'total_medals': 0}, {u'country': u'Netherlands', u'total_medals': 0}, {u'country': u'Nepal', u'total_medals': 0}, {u'country': u'Japan', u'total_medals': 0}, {u'country': u'Japan', u'total_medals': 1}, {u'country': u'Japan', u'total_medals': 0}, {u'country': u'China', u'total_medals': 0}, {u'country': u'Australia', u'total_medals': 0}, {u'country': u'Croatia', u'total_medals': 0}, {u'country': u'United States', u'total_medals': 0}, {u'country': u'Switzerland', u'total_medals': 0}, {u'country': u'Canada', u'total_medals': 0}, {u'country': u'China', u'total_medals': 0}, {u'country': u'China', u'total_medals': 0}, {u'country': u'Sweden', u'total_medals': 0}, {u'country': u'Germany', u'total_medals': 0}, {u'country': u'Germany', u'total_medals': 0}, {u'country': u'Australia', u'total_medals': 0}, {u'country': u'Austria', u'total_medals': 0}, {u'country': u'Austria', u'total_medals': 0}, {u'country': u'Austria', u'total_medals': 0}, {u'country': u'Sweden', u'total_medals': 2}, {u'country': u'Sweden', u'total_medals': 0}, {u'country': u'Norway', u'total_medals': 0}, {u'country': u'Italy', u'total_medals': 0}, {u'country': u'Austria', u'total_medals': 0}, {u'country': u'Germany', u'total_medals': 0}, {u'country': u'Switzerland', u'total_medals': 0}, {u'country': u'Poland', u'total_medals': 0}, {u'country': u'Norway', u'total_medals': 0}, {u'country': u'Austria', u'total_medals': 1}, {u'country': u'Slovakia', u'total_medals': 0}, {u'country': u'Italy', u'total_medals': 0}, {u'country': u'Australia', u'total_medals': 0}, {u'country': u'Australia', u'total_medals': 0}, {u'country': u'Canada', u'total_medals': 0}, {u'country': u'Estonia', u'total_medals': 0}, {u'country': u'United States', u'total_medals': 0}, {u'country': u'Romania', u'total_medals': 0}, {u'country': u'Canada', u'total_medals': 1}, {u'country': u'Canada', u'total_medals': 0}, {u'country': u'Estonia', u'total_medals': 0}, {u'country': u'Switzerland', u'total_medals': 2}, {u'country': u'The Former Yugoslav Republic of Macedonia', u'total_medals': 0}, {u'country': u'Belarus', u'total_medals': 3}, {u'country': u'Kazakhstan', u'total_medals': 0}, {u'country': u'Kazakhstan', u'total_medals': 0}, {u'country': u'Latvia', u'total_medals': 0}, {u'country': u'Sweden', u'total_medals': 0}, {u'country': u'United States', u'total_medals': 0}, {u'country': u'Czech Republic', u'total_medals': 0}, {u'country': u'Canada', u'total_medals': 0}, {u'country': u'Italy', u'total_medals': 0}, {u'country': u'United States', u'total_medals': 0}, {u'country': u'Great Britain', u'total_medals': 0}, {u'country': u'Canada', u'total_medals': 0}, {u'country': u'Switzerland', u'total_medals': 0}, {u'country': u'Italy', u'total_medals': 0}, {u'country': u'Great Britain', u'total_medals': 0}, {u'country': u'Czech Republic', u'total_medals': 0}, {u'country': u'Germany', u'total_medals': 0}, {u'country': u'Australia', u'total_medals': 1}, {u'country': u'Great Britain', u'total_medals': 0}, {u'country': u'France', u'total_medals': 0}, {u'country': u'Slovenia', u'total_medals': 0}, {u'country': u'Great Britain', u'total_medals': 0}, {u'country': u'United States', u'total_medals': 0}, {u'country': u'Italy', u'total_medals': 0}, {u'country': u'Italy', u'total_medals': 0}, {u'country': u'Italy', u'total_medals': 0}, {u'country': u'Australia', u'total_medals': 0}, {u'country': u'Poland', u'total_medals': 0}, {u'country': u'Poland', u'total_medals': 0}, {u'country': u'Canada', u'total_medals': 0}, {u'country': u'Korea', u'total_medals': 0}, {u'country': u'Australia', u'total_medals': 0}, {u'country': u'Italy', u'total_medals': 0}, {u'country': u'France', u'total_medals': 0}, {u'country': u'United States', u'total_medals': 0}, {u'country': u'Italy', u'total_medals': 0}, {u'country': u'Lithuania', u'total_medals': 0}, {u'country': u'China', u'total_medals': 0}, {u'country': u'Switzerland', u'total_medals': 0}, {u'country': u'Russian Fed.', u'total_medals': 0}, {u'country': u'Russian Fed.', u'total_medals': 0}, {u'country': u'Kazakhstan', u'total_medals': 0}, {u'country': u'Kazakhstan', u'total_medals': 0}, {u'country': u'Belarus', u'total_medals': 0}, {u'country': u'Kazakhstan', u'total_medals': 1}, {u'country': u'Kazakhstan', u'total_medals': 0}, {u'country': u'Russian Fed.', u'total_medals': 0}, {u'country': u'Switzerland', u'total_medals': 0}, {u'country': u'Germany', u'total_medals': 1}, {u'country': u'Italy', u'total_medals': 0}, {u'country': u'Germany', u'total_medals': 0}, {u'country': u'Canada', u'total_medals': 2}, {u'country': u'China', u'total_medals': 0}, {u'country': u'Canada', u'total_medals': 0}, {u'country': u'United States', u'total_medals': 0}, {u'country': u'Bulgaria', u'total_medals': 0}, {u'country': u'United States', u'total_medals': 1}, {u'country': u'Canada', u'total_medals': 0}, {u'country': u'China', u'total_medals': 0}, {u'country': u'Lithuania', u'total_medals': 0}, {u'country': u'Kazakhstan', u'total_medals': 0}, {u'country': u'Switzerland', u'total_medals': 0}, {u'country': u'Norway', u'total_medals': 0}, {u'country': u'Norway', u'total_medals': 0}, {u'country': u'Italy', u'total_medals': 0}, {u'country': u'Netherlands', u'total_medals': 0}, {u'country': u'Russian Fed.', u'total_medals': 0}, {u'country': u'Belarus', u'total_medals': 0}, {u'country': u'Ukraine', u'total_medals': 0}, {u'country': u'Russian Fed.', u'total_medals': 1}, {u'country': u'Kazakhstan', u'total_medals': 0}, {u'country': u'Kazakhstan', u'total_medals': 0}, {u'country': u'Russian Fed.', u'total_medals': 1}, {u'country': u'Kazakhstan', u'total_medals': 0}, {u'country': u'Russian Fed.', u'total_medals': 0}, {u'country': u'Kazakhstan', u'total_medals': 0}, {u'country': u'Russian Fed.', u'total_medals': 0}, {u'country': u'Russian Fed.', u'total_medals': 0}, {u'country': u'Russian Fed.', u'total_medals': 0}, {u'country': u'Ukraine', u'total_medals': 0}, {u'country': u'Ukraine', u'total_medals': 0}, {u'country': u'Netherlands', u'total_medals': 0}, {u'country': u'Australia', u'total_medals': 0}, {u'country': u'Great Britain', u'total_medals': 0}, {u'country': u'Great Britain', u'total_medals': 0}, {u'country': u'Czech Republic', u'total_medals': 0}, {u'country': u'Italy', u'total_medals': 0}, {u'country': u'Austria', u'total_medals': 1}, {u'country': u'Italy', u'total_medals': 0}, {u'country': u'Czech Republic', u'total_medals': 0}, {u'country': u'Italy', u'total_medals': 0}, {u'country': u'Switzerland', u'total_medals': 1}, {u'country': u'Canada', u'total_medals': 1}, {u'country': u'Chile', u'total_medals': 0}, {u'country': u'Korea', u'total_medals': 0}, {u'country': u'Korea', u'total_medals': 0}, {u'country': u'Korea', u'total_medals': 0}, {u'country': u'Romania', u'total_medals': 0}, {u'country': u'Italy', u'total_medals': 0}, {u'country': u'Cayman Islands', u'total_medals': 0}, {u'country': u'Canada', u'total_medals': 0}, {u'country': u'Australia', u'total_medals': 0}, {u'country': u'Canada', u'total_medals': 0}, {u'country': u'Czech Republic', u'total_medals': 0}, {u'country': u'United States', u'total_medals': 0}, {u'country': u'Canada', u'total_medals': 0}, {u'country': u'Canada', u'total_medals': 1}, {u'country': u'Canada', u'total_medals': 0}, {u'country': u'Latvia', u'total_medals': 0}, {u'country': u'Croatia', u'total_medals': 0}, {u'country': u'Hungary', u'total_medals': 0}, {u'country': u'Brazil', u'total_medals': 0}, {u'country': u'Brazil', u'total_medals': 0}, {u'country': u'United States', u'total_medals': 0}, {u'country': u'Netherlands', u'total_medals': 0}, {u'country': u'Finland', u'total_medals': 0}, {u'country': u'Russian Fed.', u'total_medals': 0}, {u'country': u'Iceland', u'total_medals': 0}, {u'country': u'Norway', u'total_medals': 0}, {u'country': u'Russian Fed.', u'total_medals': 0}, {u'country': u'Russian Fed.', u'total_medals': 0}, {u'country': u'Russian Fed.', u'total_medals': 1}, {u'country': u'Russian Fed.', u'total_medals': 0}, {u'country': u'Russian Fed.', u'total_medals': 0}, {u'country': u'Russian Fed.', u'total_medals': 0}, {u'country': u'Russian Fed.', u'total_medals': 0}, {u'country': u'Russian Fed.', u'total_medals': 0}, {u'country': u'Russian Fed.', u'total_medals': 0}, {u'country': u'United States', u'total_medals': 0}, {u'country': u'Norway', u'total_medals': 0}, {u'country': u'Italy', u'total_medals': 0}, {u'country': u'Estonia', u'total_medals': 0}, {u'country': u'Russian Fed.', u'total_medals': 2}, {u'country': u'Kazakhstan', u'total_medals': 0}, {u'country': u'Switzerland', u'total_medals': 0}, {u'country': u'Russian Fed.', u'total_medals': 0}, {u'country': u'Russian Fed.', u'total_medals': 1}, {u'country': u'Italy', u'total_medals': 0}, {u'country': u'Italy', u'total_medals': 1}, {u'country': u'Russian Fed.', u'total_medals': 0}, {u'country': u'Georgia', u'total_medals': 0}, {u'country': u'Belgium', u'total_medals': 0}, {u'country': u'Switzerland', u'total_medals': 0}, {u'country': u'Switzerland', u'total_medals': 0}, {u'country': u'Sweden', u'total_medals': 0}, {u'country': u'Italy', u'total_medals': 0}, {u'country': u'Switzerland', u'total_medals': 0}, {u'country': u'Austria', u'total_medals': 0}, {u'country': u'Sweden', u'total_medals': 0}, {u'country': u'Great Britain', u'total_medals': 0}, {u'country': u'Malta', u'total_medals': 0}, {u'country': u'Norway', u'total_medals': 0}, {u'country': u'United States', u'total_medals': 0}, {u'country': u'Latvia', u'total_medals': 1}, {u'country': u'United States', u'total_medals': 0}, {u'country': u'Great Britain', u'total_medals': 1}, {u'country': u'Czech Republic', u'total_medals': 0}, {u'country': u'Russian Fed.', u'total_medals': 0}, {u'country': u'Finland', u'total_medals': 0}, {u'country': u'Canada', u'total_medals': 0}, {u'country': u'France', u'total_medals': 0}, {u'country': u'Italy', u'total_medals': 0}, {u'country': u'Italy', u'total_medals': 0}, {u'country': u'Sweden', u'total_medals': 0}, {u'country': u'United States', u'total_medals': 0}, {u'country': u'Norway', u'total_medals': 0}, {u'country': u'Norway', u'total_medals': 1}, {u'country': u'Sweden', u'total_medals': 1}, {u'country': u'Czech Republic', u'total_medals': 0}, {u'country': u'Sweden', u'total_medals': 0}, {u'country': u'Australia', u'total_medals': 0}, {u'country': u'United States', u'total_medals': 0}, {u'country': u'Canada', u'total_medals': 0}, {u'country': u'United States', u'total_medals': 0}, {u'country': u'Sweden', u'total_medals': 0}, {u'country': u'Sweden', u'total_medals': 0}, {u'country': u'Great Britain', u'total_medals': 0}, {u'country': u'Sweden', u'total_medals': 0}, {u'country': u'Finland', u'total_medals': 0}, {u'country': u'Finland', u'total_medals': 0}, {u'country': u'Sweden', u'total_medals': 1}, {u'country': u'Hungary', u'total_medals': 0}, {u'country': u'Turkey', u'total_medals': 0}, {u'country': u'Austria', u'total_medals': 0}, {u'country': u'Finland', u'total_medals': 1}, {u'country': u'Germany', u'total_medals': 1}, {u'country': u'Italy', u'total_medals': 0}, {u'country': u'Canada', u'total_medals': 0}, {u'country': u'Sweden', u'total_medals': 0}, {u'country': u'United States', u'total_medals': 0}, {u'country': u'United States', u'total_medals': 0}, {u'country': u'Canada', u'total_medals': 1}, {u'country': u'Canada', u'total_medals': 0}, {u'country': u'Germany', u'total_medals': 1}, {u'country': u'United States', u'total_medals': 0}, {u'country': u'Sweden', u'total_medals': 0}, {u'country': u'Sweden', u'total_medals': 0}, {u'country': u'United States', u'total_medals': 1}, {u'country': u'Albania', u'total_medals': 0}, {u'country': u'Iceland', u'total_medals': 0}, {u'country': u'Russian Fed.', u'total_medals': 0}, {u'country': u'Latvia', u'total_medals': 0}, {u'country': u'Netherlands', u'total_medals': 0}, {u'country': u'Norway', u'total_medals': 0}, {u'country': u'Czech Republic', u'total_medals': 0}, {u'country': u'Australia', u'total_medals': 0}, {u'country': u'Chile', u'total_medals': 0}, {u'country': u'Korea', u'total_medals': 0}, {u'country': u'Slovenia', u'total_medals': 0}, {u'country': u'Czech Republic', u'total_medals': 0}, {u'country': u'Czech Republic', u'total_medals': 1}, {u'country': u'Romania', u'total_medals': 0}, {u'country': u'Czech Republic', u'total_medals': 0}, {u'country': u'United States', u'total_medals': 0}, {u'country': u'Great Britain', u'total_medals': 0}, {u'country': u'Finland', u'total_medals': 0}, {u'country': u'Switzerland', u'total_medals': 0}, {u'country': u'Switzerland', u'total_medals': 0}, {u'country': u'Italy', u'total_medals': 0}, {u'country': u'Israel', u'total_medals': 0}, {u'country': u'Russian Fed.', u'total_medals': 0}, {u'country': u'Russian Fed.', u'total_medals': 0}, {u'country': u'Russian Fed.', u'total_medals': 1}, {u'country': u'Russian Fed.', u'total_medals': 0}, {u'country': u'Kyrgyzstan', u'total_medals': 0}, {u'country': u'Belarus', u'total_medals': 0}, {u'country': u'Russian Fed.', u'total_medals': 0}, {u'country': u'Russian Fed.', u'total_medals': 1}, {u'country': u'Russian Fed.', u'total_medals': 0}, {u'country': u'Germany', u'total_medals': 0}, {u'country': u'Poland', u'total_medals': 0}, {u'country': u'France', u'total_medals': 0}, {u'country': u'Switzerland', u'total_medals': 0}, {u'country': u'France', u'total_medals': 0}, {u'country': u'Germany', u'total_medals': 1}, {u'country': u'Brazil', u'total_medals': 0}, {u'country': u'Switzerland', u'total_medals': 0}, {u'country': u'Switzerland', u'total_medals': 0}, {u'country': u'Italy', u'total_medals': 0}, {u'country': u'Sweden', u'total_medals': 0}, {u'country': u'Switzerland', u'total_medals': 0}, {u'country': u'Norway', u'total_medals': 0}, {u'country': u'IR Iran', u'total_medals': 0}, {u'country': u'United States', u'total_medals': 0}, {u'country': u'Italy', u'total_medals': 0}, {u'country': u'San Marino', u'total_medals': 0}, {u'country': u'Argentina', u'total_medals': 0}, {u'country': u'Italy', u'total_medals': 0}, {u'country': u'Russian Fed.', u'total_medals': 2}, {u'country': u'United States', u'total_medals': 0}, {u'country': u'Germany', u'total_medals': 2}, {u'country': u'Germany', u'total_medals': 0}, {u'country': u'Germany', u'total_medals': 0}, {u'country': u'Spain', u'total_medals': 0}, {u'country': u'Slovenia', u'total_medals': 0}, {u'country': u'Czech Republic', u'total_medals': 0}, {u'country': u'Croatia', u'total_medals': 0}, {u'country': u'Norway', u'total_medals': 0}, {u'country': u'Ireland', u'total_medals': 0}, {u'country': u'Switzerland', u'total_medals': 0}, {u'country': u'France', u'total_medals': 0}, {u'country': u'France', u'total_medals': 0}, {u'country': u'Germany', u'total_medals': 0}, {u'country': u'Austria', u'total_medals': 0}, {u'country': u'Romania', u'total_medals': 0}, {u'country': u'Romania', u'total_medals': 0}, {u'country': u'IR Iran', u'total_medals': 0}, {u'country': u'Switzerland', u'total_medals': 0}, {u'country': u'Italy', u'total_medals': 0}, {u'country': u'Italy', u'total_medals': 0}, {u'country': u'Italy', u'total_medals': 0}, {u'country': u'Italy', u'total_medals': 0}, {u'country': u'Germany', u'total_medals': 0}, {u'country': u'France', u'total_medals': 0}, {u'country': u'Canada', u'total_medals': 0}, {u'country': u'Germany', u'total_medals': 0}, {u'country': u'Germany', u'total_medals': 0}, {u'country': u'Germany', u'total_medals': 0}, {u'country': u'Germany', u'total_medals': 0}, {u'country': u'Germany', u'total_medals': 0}, {u'country': u'Germany', u'total_medals': 0}, {u'country': u'Sweden', u'total_medals': 0}, {u'country': u'Sweden', u'total_medals': 0}, {u'country': u'Norway', u'total_medals': 0}, {u'country': u'Netherlands', u'total_medals': 0}, {u'country': u'Canada', u'total_medals': 0}, {u'country': u'Austria', u'total_medals': 0}, {u'country': u'Sweden', u'total_medals': 0}, {u'country': u'Japan', u'total_medals': 0}, {u'country': u'Germany', u'total_medals': 0}, {u'country': u'Russian Fed.', u'total_medals': 0}, {u'country': u'Sweden', u'total_medals': 0}, {u'country': u'Czech Republic', u'total_medals': 1}, {u'country': u'Germany', u'total_medals': 0}, {u'country': u'Canada', u'total_medals': 0}, {u'country': u'Azerbaijan', u'total_medals': 0}, {u'country': u'Italy', u'total_medals': 0}, {u'country': u'Russian Fed.', u'total_medals': 0}, {u'country': u'Kazakhstan', u'total_medals': 0}, {u'country': u'Australia', u'total_medals': 0}, {u'country': u'Dominica', u'total_medals': 0}, {u'country': u'Slovenia', u'total_medals': 0}, {u'country': u'Canada', u'total_medals': 0}, {u'country': u'Austria', u'total_medals': 0}, {u'country': u'Rep. of Moldova', u'total_medals': 0}, {u'country': u'Austria', u'total_medals': 0}, {u'country': u'Kazakhstan', u'total_medals': 0}, {u'country': u'Canada', u'total_medals': 0}, {u'country': u'Latvia', u'total_medals': 0}, {u'country': u'Austria', u'total_medals': 0}, {u'country': u'Italy', u'total_medals': 0}, {u'country': u'Germany', u'total_medals': 0}, {u'country': u'Switzerland', u'total_medals': 0}, {u'country': u'United States', u'total_medals': 0}, {u'country': u'Canada', u'total_medals': 0}, {u'country': u'Canada', u'total_medals': 0}, {u'country': u'Switzerland', u'total_medals': 0}, {u'country': u'Italy', u'total_medals': 0}, {u'country': u'Italy', u'total_medals': 0}, {u'country': u'Italy', u'total_medals': 0}, {u'country': u'Norway', u'total_medals': 0}, {u'country': u'Slovenia', u'total_medals': 0}, {u'country': u'United States', u'total_medals': 1}, {u'country': u'Canada', u'total_medals': 0}, {u'country': u'Great Britain', u'total_medals': 0}, {u'country': u'Bulgaria', u'total_medals': 0}, {u'country': u'Germany', u'total_medals': 0}, {u'country': u'Switzerland', u'total_medals': 0}, {u'country': u'Austria', u'total_medals': 1}, {u'country': u'Switzerland', u'total_medals': 0}, {u'country': u'Australia', u'total_medals': 0}, {u'country': u'Italy', u'total_medals': 0}, {u'country': u'Australia', u'total_medals': 0}, {u'country': u'Estonia', u'total_medals': 0}, {u'country': u'Poland', u'total_medals': 0}, {u'country': u'China', u'total_medals': 0}, {u'country': u'France', u'total_medals': 0}, {u'country': u'China', u'total_medals': 0}, {u'country': u'United States', u'total_medals': 1}, {u'country': u'Sweden', u'total_medals': 0}, {u'country': u'Norway', u'total_medals': 0}, {u'country': u'Korea', u'total_medals': 1}, {u'country': u'Norway', u'total_medals': 0}, {u'country': u'United States', u'total_medals': 0}, {u'country': u'Korea', u'total_medals': 0}, {u'country': u'Norway', u'total_medals': 0}, {u'country': u'Estonia', u'total_medals': 0}, {u'country': u'China', u'total_medals': 0}, {u'country': u'Japan', u'total_medals': 0}, {u'country': u'Korea', u'total_medals': 0}, {u'country': u'Belgium', u'total_medals': 0}, {u'country': u'Sweden', u'total_medals': 0}, {u'country': u'Sweden', u'total_medals': 0}, {u'country': u'Belarus', u'total_medals': 0}, {u'country': u'Germany', u'total_medals': 0}, {u'country': u'United States', u'total_medals': 0}, {u'country': u'United States', u'total_medals': 1}, {u'country': u'United States', u'total_medals': 0}, {u'country': u'Australia', u'total_medals': 0}, {u'country': u'Germany', u'total_medals': 0}, {u'country': u'Austria', u'total_medals': 0}, {u'country': u'Korea', u'total_medals': 0}, {u'country': u'China', u'total_medals': 0}, {u'country': u'Austria', u'total_medals': 0}, {u'country': u'Canada', u'total_medals': 0}, {u'country': u'Latvia', u'total_medals': 0}, {u'country': u'Japan', u'total_medals': 0}, {u'country': u'Norway', u'total_medals': 0}, {u'country': u'Canada', u'total_medals': 0}, {u'country': u'Australia', u'total_medals': 0}, {u'country': u'United States', u'total_medals': 0}, {u'country': u'Canada', u'total_medals': 0}, {u'country': u'United States', u'total_medals': 0}, {u'country': u'Norway', u'total_medals': 0}, {u'country': u'Korea', u'total_medals': 0}, {u'country': u'Norway', u'total_medals': 0}, {u'country': u'United States', u'total_medals': 0}, {u'country': u'Norway', u'total_medals': 0}, {u'country': u'Canada', u'total_medals': 0}, {u'country': u'Germany', u'total_medals': 0}, {u'country': u'Norway', u'total_medals': 0}, {u'country': u'Norway', u'total_medals': 0}, {u'country': u'Iceland', u'total_medals': 0}, {u'country': u'Denmark', u'total_medals': 0}, {u'country': u'Latvia', u'total_medals': 0}, {u'country': u'Sweden', u'total_medals': 0}, {u'country': u'Norway', u'total_medals': 0}, {u'country': u'Sweden', u'total_medals': 0}, {u'country': u'Norway', u'total_medals': 0}, {u'country': u'Norway', u'total_medals': 0}, {u'country': u'Sweden', u'total_medals': 0}, {u'country': u'Chile', u'total_medals': 0}, {u'country': u'Sweden', u'total_medals': 0}, {u'country': u'Latvia', u'total_medals': 0}, {u'country': u'Korea', u'total_medals': 0}, {u'country': u'Japan', u'total_medals': 0}, {u'country': u'Japan', u'total_medals': 0}, {u'country': u'Japan', u'total_medals': 0}, {u'country': u'United States', u'total_medals': 0}, {u'country': u'Norway', u'total_medals': 0}, {u'country': u'Independent Olymp. participant', u'total_medals': 0}, {u'country': u'Japan', u'total_medals': 0}, {u'country': u'Japan', u'total_medals': 0}, {u'country': u'Japan', u'total_medals': 0}, {u'country': u'Japan', u'total_medals': 0}, {u'country': u'Korea', u'total_medals': 0}, {u'country': u'Korea', u'total_medals': 0}, {u'country': u'Norway', u'total_medals': 1}, {u'country': u'United States', u'total_medals': 0}, {u'country': u'Australia', u'total_medals': 0}, {u'country': u'China', u'total_medals': 1}, {u'country': u'China', u'total_medals': 0}, {u'country': u'IR Iran', u'total_medals': 0}, {u'country': u'Mexico', u'total_medals': 0}, {u'country': u'France', u'total_medals': 0}, {u'country': u'Korea', u'total_medals': 0}, {u'country': u'Korea', u'total_medals': 0}, {u'country': u'Korea', u'total_medals': 0}, {u'country': u'Georgia', u'total_medals': 0}, {u'country': u'Sweden', u'total_medals': 1}, {u'country': u'Norway', u'total_medals': 0}, {u'country': u'United States', u'total_medals': 0}, {u'country': u'Lithuania', u'total_medals': 0}, {u'country': u'Bosnia and Herzegovina', u'total_medals': 0}, {u'country': u'Kazakhstan', u'total_medals': 0}, {u'country': u'Finland', u'total_medals': 0}, {u'country': u'Italy', u'total_medals': 0}, {u'country': u'Russian Fed.', u'total_medals': 0}, {u'country': u'Slovenia', u'total_medals': 0}, {u'country': u'Finland', u'total_medals': 0}, {u'country': u'Finland', u'total_medals': 0}, {u'country': u'Russian Fed.', u'total_medals': 0}, {u'country': u'Russian Fed.', u'total_medals': 0}, {u'country': u'Russian Fed.', u'total_medals': 0}, {u'country': u'Russian Fed.', u'total_medals': 0}, {u'country': u'Russian Fed.', u'total_medals': 0}, {u'country': u'Russian Fed.', u'total_medals': 0}, {u'country': u'Spain', u'total_medals': 0}, {u'country': u'Korea', u'total_medals': 0}, {u'country': u'Latvia', u'total_medals': 0}, {u'country': u'Austria', u'total_medals': 0}, {u'country': u'Estonia', u'total_medals': 0}, {u'country': u'Latvia', u'total_medals': 0}, {u'country': u'Lithuania', u'total_medals': 0}, {u'country': u'Russian Fed.', u'total_medals': 0}, {u'country': u'Norway', u'total_medals': 1}, {u'country': u'Kazakhstan', u'total_medals': 0}, {u'country': u'Romania', u'total_medals': 0}, {u'country': u'Switzerland', u'total_medals': 1}, {u'country': u'Switzerland', u'total_medals': 0}, {u'country': u'Netherlands', u'total_medals': 3}, {u'country': u'Russian Fed.', u'total_medals': 0}, {u'country': u'Russian Fed.', u'total_medals': 0}, {u'country': u'Austria', u'total_medals': 0}, {u'country': u'Switzerland', u'total_medals': 0}, {u'country': u'Brazil', u'total_medals': 0}, {u'country': u'Germany', u'total_medals': 0}, {u'country': u'Lithuania', u'total_medals': 0}, {u'country': u'Brazil', u'total_medals': 0}, {u'country': u'Canada', u'total_medals': 0}, {u'country': u'Slovakia', u'total_medals': 0}, {u'country': u'Switzerland', u'total_medals': 0}, {u'country': u'Russian Fed.', u'total_medals': 0}, {u'country': u'France', u'total_medals': 1}, {u'country': u'Russian Fed.', u'total_medals': 0}, {u'country': u'Bulgaria', u'total_medals': 0}, {u'country': u'Montenegro', u'total_medals': 0}, {u'country': u'Serbia', u'total_medals': 0}, {u'country': u'Canada', u'total_medals': 0}, {u'country': u'Croatia', u'total_medals': 1}, {u'country': u'Germany', u'total_medals': 0}, {u'country': u'Russian Fed.', u'total_medals': 0}, {u'country': u'Slovenia', u'total_medals': 0}, {u'country': u'United States', u'total_medals': 0}, {u'country': u'Great Britain', u'total_medals': 0}, {u'country': u'Lebanon', u'total_medals': 0}, {u'country': u'United States', u'total_medals': 0}, {u'country': u'Germany', u'total_medals': 0}, {u'country': u'United States', u'total_medals': 0}, {u'country': u'Slovenia', u'total_medals': 0}, {u'country': u'Korea', u'total_medals': 0}, {u'country': u'Canada', u'total_medals': 0}, {u'country': u'Sweden', u'total_medals': 0}, {u'country': u'Slovenia', u'total_medals': 0}, {u'country': u'Czech Republic', u'total_medals': 0}, {u'country': u'Czech Republic', u'total_medals': 0}, {u'country': u'Czech Republic', u'total_medals': 0}, {u'country': u'Great Britain', u'total_medals': 0}, {u'country': u'Canada', u'total_medals': 0}, {u'country': u'Great Britain', u'total_medals': 0}, {u'country': u'United States', u'total_medals': 0}, {u'country': u'United States', u'total_medals': 1}, {u'country': u'Canada', u'total_medals': 0}, {u'country': u'Canada', u'total_medals': 0}, {u'country': u'Great Britain', u'total_medals': 0}, {u'country': u'United States', u'total_medals': 0}, {u'country': u'Poland', u'total_medals': 0}, {u'country': u'Netherlands', u'total_medals': 1}, {u'country': u'Canada', u'total_medals': 1}, {u'country': u'Slovenia', u'total_medals': 0}, {u'country': u'Slovakia', u'total_medals': 0}, {u'country': u'Czech Republic', u'total_medals': 0}, {u'country': u'Slovenia', u'total_medals': 0}, {u'country': u'Ireland', u'total_medals': 0}, {u'country': u'Netherlands', u'total_medals': 1}, {u'country': u'Switzerland', u'total_medals': 0}, {u'country': u'Poland', u'total_medals': 0}, {u'country': u'Slovenia', u'total_medals': 0}, {u'country': u'Czech Republic', u'total_medals': 0}, {u'country': u'Poland', u'total_medals': 0}, {u'country': u'Slovakia', u'total_medals': 0}, {u'country': u'Slovakia', u'total_medals': 0}, {u'country': u'Australia', u'total_medals': 0}, {u'country': u'Slovenia', u'total_medals': 0}, {u'country': u'New Zealand', u'total_medals': 0}, {u'country': u'Switzerland', u'total_medals': 0}, {u'country': u'Austria', u'total_medals': 0}, {u'country': u'Switzerland', u'total_medals': 0}, {u'country': u'Latvia', u'total_medals': 0}, {u'country': u'Latvia', u'total_medals': 0}, {u'country': u'Latvia', u'total_medals': 0}, {u'country': u'Finland', u'total_medals': 0}, {u'country': u'Finland', u'total_medals': 0}, {u'country': u'Finland', u'total_medals': 0}, {u'country': u'Finland', u'total_medals': 0}, {u'country': u'Germany', u'total_medals': 0}, {u'country': u'Brazil', u'total_medals': 0}, {u'country': u'United States', u'total_medals': 0}, {u'country': u'United States', u'total_medals': 0}, {u'country': u'Finland', u'total_medals': 0}, {u'country': u'Finland', u'total_medals': 0}, {u'country': u'Finland', u'total_medals': 0}, {u'country': u'Czech Republic', u'total_medals': 0}, {u'country': u'Slovakia', u'total_medals': 0}, {u'country': u'Australia', u'total_medals': 0}, {u'country': u'Canada', u'total_medals': 0}, {u'country': u'\"Virgin I', u'total_medals': 0}, {u'country': u'United States', u'total_medals': 1}, {u'country': u'France', u'total_medals': 0}, {u'country': u'Spain', u'total_medals': 0}, {u'country': u'Spain', u'total_medals': 0}, {u'country': u'Spain', u'total_medals': 0}, {u'country': u'Canada', u'total_medals': 0}, {u'country': u'Canada', u'total_medals': 0}, {u'country': u'United States', u'total_medals': 0}, {u'country': u'United States', u'total_medals': 0}, {u'country': u'Korea', u'total_medals': 0}, {u'country': u'Korea', u'total_medals': 0}, {u'country': u'France', u'total_medals': 0}, {u'country': u'France', u'total_medals': 1}, {u'country': u'France', u'total_medals': 1}, {u'country': u'France', u'total_medals': 0}, {u'country': u'Czech Republic', u'total_medals': 1}, {u'country': u'Canada', u'total_medals': 0}, {u'country': u'Denmark', u'total_medals': 0}, {u'country': u'Korea', u'total_medals': 0}, {u'country': u'United States', u'total_medals': 0}, {u'country': u'Belgium', u'total_medals': 0}, {u'country': u'Canada', u'total_medals': 0}, {u'country': u'Great Britain', u'total_medals': 0}, {u'country': u'Sweden', u'total_medals': 0}, {u'country': u'Finland', u'total_medals': 0}, {u'country': u'Canada', u'total_medals': 0}, {u'country': u'Germany', u'total_medals': 0}, {u'country': u'Canada', u'total_medals': 0}, {u'country': u'Canada', u'total_medals': 0}, {u'country': u'Great Britain', u'total_medals': 1}, {u'country': u'Australia', u'total_medals': 0}, {u'country': u'Germany', u'total_medals': 0}, {u'country': u'Germany', u'total_medals': 0}, {u'country': u'France', u'total_medals': 0}, {u'country': u'United States', u'total_medals': 1}, {u'country': u'France', u'total_medals': 0}, {u'country': u'France', u'total_medals': 0}, {u'country': u'Canada', u'total_medals': 0}, {u'country': u'Slovenia', u'total_medals': 0}, {u'country': u'Sweden', u'total_medals': 0}, {u'country': u'Canada', u'total_medals': 0}, {u'country': u'United States', u'total_medals': 0}, {u'country': u'Canada', u'total_medals': 0}, {u'country': u'Germany', u'total_medals': 0}, {u'country': u'Canada', u'total_medals': 0}, {u'country': u'Canada', u'total_medals': 1}, {u'country': u'Sweden', u'total_medals': 0}, {u'country': u'Switzerland', u'total_medals': 0}, {u'country': u'United States', u'total_medals': 0}, {u'country': u'United States', u'total_medals': 0}, {u'country': u'United States', u'total_medals': 0}, {u'country': u'United States', u'total_medals': 0}, {u'country': u'United States', u'total_medals': 0}, {u'country': u'Sweden', u'total_medals': 0}, {u'country': u'Brazil', u'total_medals': 0}, {u'country': u'China', u'total_medals': 0}, {u'country': u'China', u'total_medals': 0}, {u'country': u'China', u'total_medals': 0}, {u'country': u'China', u'total_medals': 1}, {u'country': u'Korea', u'total_medals': 0}, {u'country': u'Canada', u'total_medals': 0}, {u'country': u'United States', u'total_medals': 0}, {u'country': u'Finland', u'total_medals': 0}, {u'country': u'Sweden', u'total_medals': 0}, {u'country': u'United States', u'total_medals': 0}, {u'country': u'China', u'total_medals': 0}, {u'country': u'China', u'total_medals': 0}, {u'country': u'Korea', u'total_medals': 0}, {u'country': u'Czech Republic', u'total_medals': 0}, {u'country': u'Korea', u'total_medals': 0}, {u'country': u'Czech Republic', u'total_medals': 0}, {u'country': u'Czech Republic', u'total_medals': 0}, {u'country': u'Norway', u'total_medals': 0}, {u'country': u'Austria', u'total_medals': 0}, {u'country': u'Andorra', u'total_medals': 0}, {u'country': u'Poland', u'total_medals': 0}, {u'country': u'United States', u'total_medals': 0}, {u'country': u'Canada', u'total_medals': 0}, {u'country': u'United States', u'total_medals': 0}, {u'country': u'Great Britain', u'total_medals': 0}, {u'country': u'Switzerland', u'total_medals': 0}, {u'country': u'Norway', u'total_medals': 1}, {u'country': u'Switzerland', u'total_medals': 0}, {u'country': u'United States', u'total_medals': 0}, {u'country': u'France', u'total_medals': 0}, {u'country': u'Sweden', u'total_medals': 2}, {u'country': u'France', u'total_medals': 0}, {u'country': u'Sweden', u'total_medals': 0}, {u'country': u'Estonia', u'total_medals': 0}, {u'country': u'Austria', u'total_medals': 0}, {u'country': u'Germany', u'total_medals': 0}, {u'country': u'Norway', u'total_medals': 0}, {u'country': u'Germany', u'total_medals': 0}, {u'country': u'Great Britain', u'total_medals': 0}, {u'country': u'United States', u'total_medals': 0}, {u'country': u'Sweden', u'total_medals': 0}, {u'country': u'United States', u'total_medals': 0}, {u'country': u'Canada', u'total_medals': 0}, {u'country': u'Australia', u'total_medals': 0}, {u'country': u'Canada', u'total_medals': 0}, {u'country': u'Germany', u'total_medals': 0}, {u'country': u'Great Britain', u'total_medals': 0}, {u'country': u'United States', u'total_medals': 0}, {u'country': u'United States', u'total_medals': 0}, {u'country': u'Canada', u'total_medals': 0}, {u'country': u'United States', u'total_medals': 0}, {u'country': u'Denmark', u'total_medals': 0}, {u'country': u'United States', u'total_medals': 0}, {u'country': u'Japan', u'total_medals': 0}, {u'country': u'Sweden', u'total_medals': 0}, {u'country': u'Great Britain', u'total_medals': 0}, {u'country': u'Norway', u'total_medals': 0}, {u'country': u'Switzerland', u'total_medals': 0}, {u'country': u'France', u'total_medals': 0}, {u'country': u'Sweden', u'total_medals': 0}, {u'country': u'Switzerland', u'total_medals': 0}, {u'country': u'Sweden', u'total_medals': 0}, {u'country': u'Norway', u'total_medals': 0}, {u'country': u'United States', u'total_medals': 0}, {u'country': u'United States', u'total_medals': 0}, {u'country': u'France', u'total_medals': 0}, {u'country': u'Canada', u'total_medals': 0}, {u'country': u'United States', u'total_medals': 0}, {u'country': u'Argentina', u'total_medals': 0}, {u'country': u'United States', u'total_medals': 0}, {u'country': u'Finland', u'total_medals': 0}, {u'country': u'Belgium', u'total_medals': 0}, {u'country': u'Netherlands', u'total_medals': 1}, {u'country': u'Switzerland', u'total_medals': 0}, {u'country': u'Netherlands', u'total_medals': 2}, {u'country': u'Germany', u'total_medals': 0}, {u'country': u'Sweden', u'total_medals': 0}, {u'country': u'United States', u'total_medals': 0}, {u'country': u'Brazil', u'total_medals': 0}, {u'country': u'Germany', u'total_medals': 0}, {u'country': u'New Zealand', u'total_medals': 0}, {u'country': u'United States', u'total_medals': 1}, {u'country': u'Finland', u'total_medals': 0}, {u'country': u'Slovakia', u'total_medals': 0}, {u'country': u'Switzerland', u'total_medals': 0}, {u'country': u'Slovakia', u'total_medals': 0}, {u'country': u'Germany', u'total_medals': 0}, {u'country': u'Switzerland', u'total_medals': 0}, {u'country': u'Netherlands', u'total_medals': 0}, {u'country': u'Finland', u'total_medals': 0}, {u'country': u'France', u'total_medals': 0}, {u'country': u'Finland', u'total_medals': 0}, {u'country': u'Austria', u'total_medals': 0}, {u'country': u'France', u'total_medals': 0}, {u'country': u'United States', u'total_medals': 0}, {u'country': u'Russian Fed.', u'total_medals': 0}, {u'country': u'United States', u'total_medals': 0}, {u'country': u'Ukraine', u'total_medals': 0}, {u'country': u'Finland', u'total_medals': 0}, {u'country': u'United States', u'total_medals': 1}, {u'country': u'Paraguay', u'total_medals': 0}, {u'country': u'Switzerland', u'total_medals': 0}, {u'country': u'Azerbaijan', u'total_medals': 0}, {u'country': u'Germany', u'total_medals': 0}, {u'country': u'Austria', u'total_medals': 0}, {u'country': u'United States', u'total_medals': 0}, {u'country': u'Switzerland', u'total_medals': 0}, {u'country': u'Switzerland', u'total_medals': 0}, {u'country': u'France', u'total_medals': 0}, {u'country': u'Argentina', u'total_medals': 0}, {u'country': u'Korea', u'total_medals': 0}, {u'country': u'Ukraine', u'total_medals': 0}, {u'country': u'Korea', u'total_medals': 0}, {u'country': u'Korea', u'total_medals': 0}, {u'country': u'Korea', u'total_medals': 0}, {u'country': u'Korea', u'total_medals': 0}, {u'country': u'Slovakia', u'total_medals': 0}, {u'country': u'Japan', u'total_medals': 0}, {u'country': u'Latvia', u'total_medals': 2}, {u'country': u'Slovenia', u'total_medals': 0}, {u'country': u'Latvia', u'total_medals': 0}, {u'country': u'Finland', u'total_medals': 0}, {u'country': u'Finland', u'total_medals': 0}, {u'country': u'Finland', u'total_medals': 0}, {u'country': u'Canada', u'total_medals': 0}, {u'country': u'Canada', u'total_medals': 0}, {u'country': u'Switzerland', u'total_medals': 0}, {u'country': u'United States', u'total_medals': 0}, {u'country': u'United States', u'total_medals': 0}, {u'country': u'United States', u'total_medals': 0}, {u'country': u'Canada', u'total_medals': 1}, {u'country': u'Canada', u'total_medals': 0}, {u'country': u'Poland', u'total_medals': 1}, {u'country': u'Finland', u'total_medals': 0}, {u'country': u'Estonia', u'total_medals': 0}, {u'country': u'Estonia', u'total_medals': 0}, {u'country': u'Canada', u'total_medals': 1}, {u'country': u'Japan', u'total_medals': 0}, {u'country': u'United States', u'total_medals': 0}, {u'country': u'Switzerland', u'total_medals': 0}, {u'country': u'Finland', u'total_medals': 0}, {u'country': u'Canada', u'total_medals': 0}, {u'country': u'United States', u'total_medals': 1}, {u'country': u'Canada', u'total_medals': 0}, {u'country': u'Canada', u'total_medals': 0}, {u'country': u'Estonia', u'total_medals': 0}, {u'country': u'Canada', u'total_medals': 0}, {u'country': u'Sweden', u'total_medals': 0}, {u'country': u'Poland', u'total_medals': 2}, {u'country': u'Japan', u'total_medals': 0}, {u'country': u'Japan', u'total_medals': 0}, {u'country': u'Korea', u'total_medals': 0}, {u'country': u'Thailand', u'total_medals': 0}, {u'country': u'Estonia', u'total_medals': 0}, {u'country': u'Finland', u'total_medals': 0}, {u'country': u'Luxembourg', u'total_medals': 0}, {u'country': u'Italy', u'total_medals': 0}, {u'country': u'Estonia', u'total_medals': 0}, {u'country': u'United States', u'total_medals': 0}, {u'country': u'Poland', u'total_medals': 0}, {u'country': u'Slovakia', u'total_medals': 0}, {u'country': u'Poland', u'total_medals': 0}, {u'country': u'Finland', u'total_medals': 0}, {u'country': u'Czech Republic', u'total_medals': 0}, {u'country': u'Czech Republic', u'total_medals': 0}, {u'country': u'Poland', u'total_medals': 0}, {u'country': u'Hungary', u'total_medals': 0}, {u'country': u'Switzerland', u'total_medals': 0}, {u'country': u'Latvia', u'total_medals': 0}, {u'country': u'Poland', u'total_medals': 0}, {u'country': u'Slovenia', u'total_medals': 0}, {u'country': u'Poland', u'total_medals': 0}, {u'country': u'Poland', u'total_medals': 0}, {u'country': u'United States', u'total_medals': 0}, {u'country': u'Czech Republic', u'total_medals': 0}, {u'country': u'Czech Republic', u'total_medals': 0}, {u'country': u'Austria', u'total_medals': 0}, {u'country': u'Ukraine', u'total_medals': 0}, {u'country': u'Ukraine', u'total_medals': 0}, {u'country': u'Germany', u'total_medals': 0}, {u'country': u'Austria', u'total_medals': 0}, {u'country': u'New Zealand', u'total_medals': 0}, {u'country': u'Austria', u'total_medals': 0}, {u'country': u'Spain', u'total_medals': 0}, {u'country': u'Great Britain', u'total_medals': 0}, {u'country': u'Canada', u'total_medals': 0}, {u'country': u'Slovenia', u'total_medals': 0}, {u'country': u'United States', u'total_medals': 0}, {u'country': u'Slovenia', u'total_medals': 0}, {u'country': u'Belgium', u'total_medals': 0}, {u'country': u'Switzerland', u'total_medals': 0}, {u'country': u'Austria', u'total_medals': 0}, {u'country': u'Germany', u'total_medals': 0}, {u'country': u'Australia', u'total_medals': 0}, {u'country': u'Armenia', u'total_medals': 0}, {u'country': u'Switzerland', u'total_medals': 0}, {u'country': u'Estonia', u'total_medals': 0}, {u'country': u'Canada', u'total_medals': 0}, {u'country': u'Canada', u'total_medals': 0}, {u'country': u'Japan', u'total_medals': 0}, {u'country': u'Turkey', u'total_medals': 0}, {u'country': u'United States', u'total_medals': 0}, {u'country': u'United States', u'total_medals': 1}, {u'country': u'Japan', u'total_medals': 0}, {u'country': u'United States', u'total_medals': 0}, {u'country': u'Canada', u'total_medals': 0}, {u'country': u'Canada', u'total_medals': 0}, {u'country': u'Norway', u'total_medals': 0}, {u'country': u'United States', u'total_medals': 0}, {u'country': u'Australia', u'total_medals': 0}, {u'country': u'Japan', u'total_medals': 0}, {u'country': u'United States', u'total_medals': 0}, {u'country': u'Morocco', u'total_medals': 0}, {u'country': u'Austria', u'total_medals': 0}, {u'country': u'Germany', u'total_medals': 0}, {u'country': u'Andorra', u'total_medals': 0}, {u'country': u'Finland', u'total_medals': 1}, {u'country': u'Canada', u'total_medals': 0}, {u'country': u'Germany', u'total_medals': 0}, {u'country': u'Canada', u'total_medals': 1}, {u'country': u'Switzerland', u'total_medals': 0}, {u'country': u'United States', u'total_medals': 0}, {u'country': u'France', u'total_medals': 0}, {u'country': u'China', u'total_medals': 0}, {u'country': u'China', u'total_medals': 0}, {u'country': u'Canada', u'total_medals': 1}, {u'country': u'Sweden', u'total_medals': 0}, {u'country': u'Canada', u'total_medals': 0}, {u'country': u'Finland', u'total_medals': 0}, {u'country': u'Russian Fed.', u'total_medals': 0}, {u'country': u'Canada', u'total_medals': 1}, {u'country': u'Canada', u'total_medals': 0}, {u'country': u'United States', u'total_medals': 0}, {u'country': u'Norway', u'total_medals': 0}, {u'country': u'Norway', u'total_medals': 2}, {u'country': u'Czech Republic', u'total_medals': 0}, {u'country': u'Czech Republic', u'total_medals': 0}, {u'country': u'Austria', u'total_medals': 0}, {u'country': u'Slovenia', u'total_medals': 0}, {u'country': u'Slovenia', u'total_medals': 0}, {u'country': u'Slovenia', u'total_medals': 0}, {u'country': u'Latvia', u'total_medals': 0}, {u'country': u'Netherlands', u'total_medals': 1}, {u'country': u'Hungary', u'total_medals': 0}, {u'country': u'Poland', u'total_medals': 0}, {u'country': u'Russian Fed.', u'total_medals': 0}, {u'country': u'Germany', u'total_medals': 0}, {u'country': u'Poland', u'total_medals': 0}, {u'country': u'Greece', u'total_medals': 0}, {u'country': u'Bulgaria', u'total_medals': 0}, {u'country': u'United States', u'total_medals': 0}, {u'country': u'Finland', u'total_medals': 1}, {u'country': u'Great Britain', u'total_medals': 0}, {u'country': u'Latvia', u'total_medals': 0}, {u'country': u'Latvia', u'total_medals': 0}, {u'country': u'Latvia', u'total_medals': 0}, {u'country': u'Latvia', u'total_medals': 0}, {u'country': u'Latvia', u'total_medals': 0}, {u'country': u'Norway', u'total_medals': 0}, {u'country': u'Norway', u'total_medals': 0}, {u'country': u'Slovakia', u'total_medals': 0}, {u'country': u'Czech Republic', u'total_medals': 0}, {u'country': u'Estonia', u'total_medals': 0}, {u'country': u'Poland', u'total_medals': 0}, {u'country': u'Russian Fed.', u'total_medals': 0}, {u'country': u'Poland', u'total_medals': 0}, {u'country': u'Russian Fed.', u'total_medals': 2}, {u'country': u'Uzbekistan', u'total_medals': 0}, {u'country': u'Korea', u'total_medals': 0}, {u'country': u'United States', u'total_medals': 0}, {u'country': u'United States', u'total_medals': 0}, {u'country': u'Korea', u'total_medals': 0}, {u'country': u'Korea', u'total_medals': 0}, {u'country': u'Russian Fed.', u'total_medals': 0}, {u'country': u'Switzerland', u'total_medals': 0}, {u'country': u'Czech Republic', u'total_medals': 0}, {u'country': u'Korea', u'total_medals': 0}, {u'country': u'Great Britain', u'total_medals': 0}, {u'country': u'United States', u'total_medals': 0}, {u'country': u'Switzerland', u'total_medals': 1}, {u'country': u'Switzerland', u'total_medals': 0}, {u'country': u'Netherlands', u'total_medals': 0}, {u'country': u'Finland', u'total_medals': 0}, {u'country': u'Canada', u'total_medals': 0}, {u'country': u'Spain', u'total_medals': 0}, {u'country': u'Norway', u'total_medals': 0}, {u'country': u'Norway', u'total_medals': 0}, {u'country': u'Sweden', u'total_medals': 1}, {u'country': u'Denmark', u'total_medals': 0}, {u'country': u'Norway', u'total_medals': 0}, {u'country': u'Canada', u'total_medals': 0}, {u'country': u'Finland', u'total_medals': 0}, {u'country': u'Switzerland', u'total_medals': 0}, {u'country': u'Germany', u'total_medals': 0}, {u'country': u'Canada', u'total_medals': 0}, {u'country': u'Spain', u'total_medals': 0}, {u'country': u'Australia', u'total_medals': 0}, {u'country': u'Germany', u'total_medals': 0}, {u'country': u'United States', u'total_medals': 0}, {u'country': u'Andorra', u'total_medals': 0}, {u'country': u'Great Britain', u'total_medals': 0}, {u'country': u'United States', u'total_medals': 0}, {u'country': u'Finland', u'total_medals': 0}, {u'country': u'Finland', u'total_medals': 0}, {u'country': u'Canada', u'total_medals': 0}, {u'country': u'Switzerland', u'total_medals': 0}, {u'country': u'Netherlands', u'total_medals': 0}, {u'country': u'Latvia', u'total_medals': 0}, {u'country': u'Australia', u'total_medals': 0}, {u'country': u'United States', u'total_medals': 0}, {u'country': u'Czech Republic', u'total_medals': 0}, {u'country': u'France', u'total_medals': 0}, {u'country': u'Brazil', u'total_medals': 0}, {u'country': u'United States', u'total_medals': 0}, {u'country': u'United States', u'total_medals': 0}, {u'country': u'Great Britain', u'total_medals': 0}, {u'country': u'Norway', u'total_medals': 0}, {u'country': u'United States', u'total_medals': 0}, {u'country': u'Latvia', u'total_medals': 0}, {u'country': u'Latvia', u'total_medals': 0}, {u'country': u'Canada', u'total_medals': 0}, {u'country': u'Denmark', u'total_medals': 0}, {u'country': u'Finland', u'total_medals': 0}, {u'country': u'Canada', u'total_medals': 0}, {u'country': u'Sweden', u'total_medals': 0}, {u'country': u'Sweden', u'total_medals': 0}, {u'country': u'China', u'total_medals': 0}, {u'country': u'Finland', u'total_medals': 0}, {u'country': u'United States', u'total_medals': 0}, {u'country': u'United States', u'total_medals': 0}, {u'country': u'Norway', u'total_medals': 0}, {u'country': u'Sweden', u'total_medals': 0}, {u'country': u'Germany', u'total_medals': 0}, {u'country': u'Austria', u'total_medals': 0}, {u'country': u'Germany', u'total_medals': 0}, {u'country': u'Belarus', u'total_medals': 0}, {u'country': u'Switzerland', u'total_medals': 0}, {u'country': u'Russian Fed.', u'total_medals': 0}, {u'country': u'Andorra', u'total_medals': 0}, {u'country': u'France', u'total_medals': 0}, {u'country': u'France', u'total_medals': 0}, {u'country': u'United States', u'total_medals': 0}, {u'country': u'China', u'total_medals': 0}, {u'country': u'Norway', u'total_medals': 0}, {u'country': u'Netherlands', u'total_medals': 1}, {u'country': u'Sweden', u'total_medals': 0}, {u'country': u'United States', u'total_medals': 0}, {u'country': u'Switzerland', u'total_medals': 0}, {u'country': u'Italy', u'total_medals': 0}, {u'country': u'Italy', u'total_medals': 0}, {u'country': u'Italy', u'total_medals': 0}, {u'country': u'Switzerland', u'total_medals': 0}, {u'country': u'Austria', u'total_medals': 0}, {u'country': u'Spain', u'total_medals': 0}, {u'country': u'Canada', u'total_medals': 0}, {u'country': u'Australia', u'total_medals': 0}, {u'country': u'Switzerland', u'total_medals': 0}, {u'country': u'Germany', u'total_medals': 0}, {u'country': u'Italy', u'total_medals': 1}, {u'country': u'Australia', u'total_medals': 0}, {u'country': u'Australia', u'total_medals': 0}, {u'country': u'Sweden', u'total_medals': 0}, {u'country': u'Switzerland', u'total_medals': 0}, {u'country': u'Italy', u'total_medals': 0}, {u'country': u'Slovenia', u'total_medals': 0}, {u'country': u'Poland', u'total_medals': 0}, {u'country': u'Czech Republic', u'total_medals': 0}, {u'country': u'Czech Republic', u'total_medals': 0}, {u'country': u'Czech Republic', u'total_medals': 0}, {u'country': u'Italy', u'total_medals': 0}, {u'country': u'Austria', u'total_medals': 0}, {u'country': u'Slovakia', u'total_medals': 0}, {u'country': u'Czech Republic', u'total_medals': 0}, {u'country': u'Austria', u'total_medals': 0}, {u'country': u'Italy', u'total_medals': 0}, {u'country': u'Poland', u'total_medals': 0}, {u'country': u'Poland', u'total_medals': 0}, {u'country': u'Zimbabwe', u'total_medals': 0}, {u'country': u'Australia', u'total_medals': 1}, {u'country': u'United States', u'total_medals': 0}, {u'country': u'New Zealand', u'total_medals': 0}, {u'country': u'Canada', u'total_medals': 0}, {u'country': u'United States', u'total_medals': 0}, {u'country': u'United States', u'total_medals': 0}, {u'country': u'Argentina', u'total_medals': 0}, {u'country': u'Poland', u'total_medals': 0}, {u'country': u'Poland', u'total_medals': 0}, {u'country': u'Poland', u'total_medals': 0}, {u'country': u'Poland', u'total_medals': 0}, {u'country': u'Poland', u'total_medals': 0}, {u'country': u'Chinese Taipei', u'total_medals': 0}, {u'country': u'Canada', u'total_medals': 0}, {u'country': u'United States', u'total_medals': 0}, {u'country': u'Poland', u'total_medals': 0}, {u'country': u'Norway', u'total_medals': 0}, {u'country': u'United States', u'total_medals': 0}, {u'country': u'France', u'total_medals': 0}, {u'country': u'Canada', u'total_medals': 0}, {u'country': u'Poland', u'total_medals': 0}, {u'country': u'Norway', u'total_medals': 1}, {u'country': u'United States', u'total_medals': 0}, {u'country': u'Norway', u'total_medals': 1}, {u'country': u'Norway', u'total_medals': 1}, {u'country': u'Slovenia', u'total_medals': 0}, {u'country': u'Japan', u'total_medals': 0}, {u'country': u'Belarus', u'total_medals': 0}, {u'country': u'Japan', u'total_medals': 0}, {u'country': u'Japan', u'total_medals': 0}, {u'country': u'Italy', u'total_medals': 0}, {u'country': u'Austria', u'total_medals': 0}, {u'country': u'Canada', u'total_medals': 0}, {u'country': u'Germany', u'total_medals': 0}, {u'country': u'Japan', u'total_medals': 0}, {u'country': u'Peru', u'total_medals': 0}, {u'country': u'Andorra', u'total_medals': 0}, {u'country': u'Canada', u'total_medals': 0}, {u'country': u'Canada', u'total_medals': 0}, {u'country': u'Austria', u'total_medals': 0}, {u'country': u'Slovakia', u'total_medals': 0}, {u'country': u'Slovenia', u'total_medals': 0}, {u'country': u'Kazakhstan', u'total_medals': 0}, {u'country': u'Italy', u'total_medals': 0}, {u'country': u'Poland', u'total_medals': 0}, {u'country': u'Liechtenstein', u'total_medals': 0}, {u'country': u'United States', u'total_medals': 0}, {u'country': u'Sweden', u'total_medals': 2}, {u'country': u'Sweden', u'total_medals': 0}, {u'country': u'Sweden', u'total_medals': 0}, {u'country': u'Austria', u'total_medals': 0}, {u'country': u'Sweden', u'total_medals': 0}, {u'country': u'Finland', u'total_medals': 0}, {u'country': u'Czech Republic', u'total_medals': 0}, {u'country': u'Slovakia', u'total_medals': 0}, {u'country': u'Czech Republic', u'total_medals': 0}, {u'country': u'Norway', u'total_medals': 0}, {u'country': u'Russian Fed.', u'total_medals': 0}, {u'country': u'Sweden', u'total_medals': 0}, {u'country': u'Norway', u'total_medals': 0}, {u'country': u'Finland', u'total_medals': 0}, {u'country': u'Russian Fed.', u'total_medals': 0}, {u'country': u'Romania', u'total_medals': 0}, {u'country': u'Netherlands', u'total_medals': 2}, {u'country': u'Germany', u'total_medals': 2}, {u'country': u'Bulgaria', u'total_medals': 0}, {u'country': u'Russian Fed.', u'total_medals': 0}, {u'country': u'United States', u'total_medals': 0}, {u'country': u'Romania', u'total_medals': 0}, {u'country': u'Russian Fed.', u'total_medals': 0}, {u'country': u'Sweden', u'total_medals': 0}, {u'country': u'Denmark', u'total_medals': 0}, {u'country': u'Sweden', u'total_medals': 0}, {u'country': u'Sweden', u'total_medals': 0}, {u'country': u'Belarus', u'total_medals': 0}, {u'country': u'Austria', u'total_medals': 0}, {u'country': u'Sweden', u'total_medals': 0}, {u'country': u'Slovakia', u'total_medals': 0}, {u'country': u'Switzerland', u'total_medals': 0}, {u'country': u'Slovakia', u'total_medals': 0}, {u'country': u'Canada', u'total_medals': 0}, {u'country': u'Canada', u'total_medals': 1}, {u'country': u'France', u'total_medals': 0}, {u'country': u'France', u'total_medals': 0}, {u'country': u'France', u'total_medals': 0}, {u'country': u'France', u'total_medals': 0}, {u'country': u'Canada', u'total_medals': 0}, {u'country': u'Canada', u'total_medals': 0}, {u'country': u'Canada', u'total_medals': 1}, {u'country': u'France', u'total_medals': 0}, {u'country': u'Canada', u'total_medals': 0}, {u'country': u'The Former Yugoslav Republic of Macedonia', u'total_medals': 0}, {u'country': u'Russian Fed.', u'total_medals': 0}, {u'country': u'Switzerland', u'total_medals': 0}, {u'country': u'Canada', u'total_medals': 0}, {u'country': u'Kazakhstan', u'total_medals': 0}, {u'country': u'Liechtenstein', u'total_medals': 0}, {u'country': u'Italy', u'total_medals': 0}, {u'country': u'Ukraine', u'total_medals': 0}, {u'country': u'France', u'total_medals': 0}, {u'country': u'Germany', u'total_medals': 1}, {u'country': u'Austria', u'total_medals': 0}, {u'country': u'Austria', u'total_medals': 0}, {u'country': u'Austria', u'total_medals': 0}, {u'country': u'France', u'total_medals': 0}, {u'country': u'France', u'total_medals': 0}, {u'country': u'France', u'total_medals': 0}, {u'country': u'Austria', u'total_medals': 0}, {u'country': u'Germany', u'total_medals': 0}, {u'country': u'United States', u'total_medals': 1}, {u'country': u'Germany', u'total_medals': 0}, {u'country': u'Ukraine', u'total_medals': 0}, {u'country': u'Slovenia', u'total_medals': 0}, {u'country': u'Canada', u'total_medals': 1}, {u'country': u'Kazakhstan', u'total_medals': 0}, {u'country': u'Switzerland', u'total_medals': 0}, {u'country': u'Netherlands', u'total_medals': 0}, {u'country': u'Germany', u'total_medals': 0}, {u'country': u'Norway', u'total_medals': 1}, {u'country': u'Bosnia and Herzegovina', u'total_medals': 0}, {u'country': u'Serbia', u'total_medals': 0}, {u'country': u'Norway', u'total_medals': 0}, {u'country': u'Sweden', u'total_medals': 0}, {u'country': u'Finland', u'total_medals': 0}, {u'country': u'Italy', u'total_medals': 0}, {u'country': u'Austria', u'total_medals': 0}, {u'country': u'Austria', u'total_medals': 0}, {u'country': u'Austria', u'total_medals': 0}, {u'country': u'Netherlands', u'total_medals': 0}, {u'country': u'Italy', u'total_medals': 0}, {u'country': u'Canada', u'total_medals': 0}, {u'country': u'Slovakia', u'total_medals': 0}, {u'country': u'Norway', u'total_medals': 0}, {u'country': u'Slovakia', u'total_medals': 0}, {u'country': u'Czech Republic', u'total_medals': 0}, {u'country': u'France', u'total_medals': 3}, {u'country': u'Czech Republic', u'total_medals': 0}, {u'country': u'Switzerland', u'total_medals': 0}, {u'country': u'Czech Republic', u'total_medals': 0}, {u'country': u'Norway', u'total_medals': 1}, {u'country': u'Kazakhstan', u'total_medals': 0}, {u'country': u'Denmark', u'total_medals': 0}, {u'country': u'Slovakia', u'total_medals': 0}, {u'country': u'Slovakia', u'total_medals': 0}, {u'country': u'Switzerland', u'total_medals': 0}, {u'country': u'Germany', u'total_medals': 0}, {u'country': u'Canada', u'total_medals': 0}, {u'country': u'Slovakia', u'total_medals': 0}, {u'country': u'Norway', u'total_medals': 0}, {u'country': u'Czech Republic', u'total_medals': 0}, {u'country': u'Slovakia', u'total_medals': 0}, {u'country': u'Switzerland', u'total_medals': 0}, {u'country': u'Czech Republic', u'total_medals': 0}, {u'country': u'Czech Republic', u'total_medals': 1}, {u'country': u'Italy', u'total_medals': 1}, {u'country': u'Latvia', u'total_medals': 0}, {u'country': u'Latvia', u'total_medals': 0}, {u'country': u'Latvia', u'total_medals': 1}, {u'country': u'Latvia', u'total_medals': 0}, {u'country': u'Latvia', u'total_medals': 1}, {u'country': u'Finland', u'total_medals': 0}, {u'country': u'Jamaica', u'total_medals': 0}, {u'country': u'Switzerland', u'total_medals': 0}, {u'country': u'Ukraine', u'total_medals': 0}, {u'country': u'Poland', u'total_medals': 0}, {u'country': u'Japan', u'total_medals': 0}, {u'country': u'Japan', u'total_medals': 0}, {u'country': u'Slovenia', u'total_medals': 0}, {u'country': u'Slovakia', u'total_medals': 0}, {u'country': u'Greece', u'total_medals': 0}, {u'country': u'Slovakia', u'total_medals': 0}, {u'country': u'Croatia', u'total_medals': 0}, {u'country': u'Poland', u'total_medals': 0}, {u'country': u'Austria', u'total_medals': 0}, {u'country': u'Poland', u'total_medals': 0}, {u'country': u'Austria', u'total_medals': 0}, {u'country': u'France', u'total_medals': 0}, {u'country': u'Switzerland', u'total_medals': 0}, {u'country': u'Canada', u'total_medals': 0}, {u'country': u'Togo', u'total_medals': 0}, {u'country': u'Norway', u'total_medals': 0}, {u'country': u'Slovenia', u'total_medals': 0}, {u'country': u'Norway', u'total_medals': 0}, {u'country': u'Norway', u'total_medals': 0}, {u'country': u'Norway', u'total_medals': 0}, {u'country': u'Australia', u'total_medals': 0}, {u'country': u'Canada', u'total_medals': 0}, {u'country': u'Italy', u'total_medals': 0}, {u'country': u'Canada', u'total_medals': 0}, {u'country': u'Italy', u'total_medals': 0}, {u'country': u'United States', u'total_medals': 1}, {u'country': u'Canada', u'total_medals': 0}, {u'country': u'United States', u'total_medals': 0}, {u'country': u'Great Britain', u'total_medals': 0}, {u'country': u'Switzerland', u'total_medals': 0}, {u'country': u'Austria', u'total_medals': 0}, {u'country': u'Canada', u'total_medals': 0}, {u'country': u'Austria', u'total_medals': 0}, {u'country': u'Austria', u'total_medals': 1}, {u'country': u'Finland', u'total_medals': 0}, {u'country': u'Italy', u'total_medals': 0}, {u'country': u'Sweden', u'total_medals': 0}, {u'country': u'Sweden', u'total_medals': 0}, {u'country': u'France', u'total_medals': 1}, {u'country': u'Italy', u'total_medals': 0}, {u'country': u'Switzerland', u'total_medals': 0}, {u'country': u'Austria', u'total_medals': 0}, {u'country': u'Austria', u'total_medals': 0}, {u'country': u'Austria', u'total_medals': 0}, {u'country': u'United States', u'total_medals': 0}, {u'country': u'Canada', u'total_medals': 0}, {u'country': u'Russian Fed.', u'total_medals': 0}, {u'country': u'Russian Fed.', u'total_medals': 2}, {u'country': u'Russian Fed.', u'total_medals': 1}, {u'country': u'France', u'total_medals': 0}, {u'country': u'Russian Fed.', u'total_medals': 0}, {u'country': u'Canada', u'total_medals': 0}, {u'country': u'Germany', u'total_medals': 0}, {u'country': u'France', u'total_medals': 0}, {u'country': u'Brazil', u'total_medals': 0}, {u'country': u'Germany', u'total_medals': 0}, {u'country': u'Canada', u'total_medals': 1}, {u'country': u'Finland', u'total_medals': 0}, {u'country': u'Canada', u'total_medals': 0}, {u'country': u'United States', u'total_medals': 0}, {u'country': u'Canada', u'total_medals': 0}, {u'country': u'Canada', u'total_medals': 0}, {u'country': u'Canada', u'total_medals': 0}, {u'country': u'United States', u'total_medals': 0}, {u'country': u'Italy', u'total_medals': 0}, {u'country': u'Canada', u'total_medals': 0}, {u'country': u'United States', u'total_medals': 0}, {u'country': u'China', u'total_medals': 1}, {u'country': u'Canada', u'total_medals': 0}, {u'country': u'Canada', u'total_medals': 0}, {u'country': u'Finland', u'total_medals': 0}, {u'country': u'United States', u'total_medals': 2}, {u'country': u'Denmark', u'total_medals': 0}, {u'country': u'Korea', u'total_medals': 0}, {u'country': u'Philippines', u'total_medals': 0}, {u'country': u'Sweden', u'total_medals': 0}, {u'country': u'Canada', u'total_medals': 0}, {u'country': u'Great Britain', u'total_medals': 0}, {u'country': u'Austria', u'total_medals': 0}, {u'country': u'Austria', u'total_medals': 1}, {u'country': u'Canada', u'total_medals': 0}, {u'country': u'Canada', u'total_medals': 0}, {u'country': u'Austria', u'total_medals': 0}, {u'country': u'Switzerland', u'total_medals': 0}, {u'country': u'Czech Republic', u'total_medals': 0}, {u'country': u'Austria', u'total_medals': 0}, {u'country': u'Belarus', u'total_medals': 0}, {u'country': u'Bulgaria', u'total_medals': 0}, {u'country': u'Czech Republic', u'total_medals': 0}, {u'country': u'Czech Republic', u'total_medals': 0}, {u'country': u'Poland', u'total_medals': 0}, {u'country': u'Slovakia', u'total_medals': 0}, {u'country': u'Poland', u'total_medals': 0}, {u'country': u'Czech Republic', u'total_medals': 0}, {u'country': u'Czech Republic', u'total_medals': 0}, {u'country': u'Czech Republic', u'total_medals': 0}, {u'country': u'Czech Republic', u'total_medals': 0}, {u'country': u'Slovakia', u'total_medals': 0}, {u'country': u'Netherlands', u'total_medals': 2}, {u'country': u'Italy', u'total_medals': 0}, {u'country': u'Netherlands', u'total_medals': 0}, {u'country': u'Switzerland', u'total_medals': 0}, {u'country': u'Finland', u'total_medals': 0}, {u'country': u'Sweden', u'total_medals': 0}, {u'country': u'Italy', u'total_medals': 0}, {u'country': u'United States', u'total_medals': 0}, {u'country': u'Australia', u'total_medals': 0}, {u'country': u'Japan', u'total_medals': 0}, {u'country': u'Japan', u'total_medals': 0}, {u'country': u'Korea', u'total_medals': 0}, {u'country': u'Slovenia', u'total_medals': 0}, {u'country': u'Japan', u'total_medals': 0}, {u'country': u'Finland', u'total_medals': 0}, {u'country': u'Canada', u'total_medals': 1}, {u'country': u'United States', u'total_medals': 0}, {u'country': u'Canada', u'total_medals': 0}, {u'country': u'Canada', u'total_medals': 0}, {u'country': u'Finland', u'total_medals': 0}, {u'country': u'Russian Fed.', u'total_medals': 0}, {u'country': u'Latvia', u'total_medals': 0}, {u'country': u'Japan', u'total_medals': 0}, {u'country': u'Finland', u'total_medals': 0}, {u'country': u'Japan', u'total_medals': 0}, {u'country': u'Norway', u'total_medals': 0}, {u'country': u'Latvia', u'total_medals': 0}, {u'country': u'Slovakia', u'total_medals': 0}, {u'country': u'Slovakia', u'total_medals': 0}, {u'country': u'Denmark', u'total_medals': 0}, {u'country': u'Slovakia', u'total_medals': 0}, {u'country': u'Hungary', u'total_medals': 0}, {u'country': u'Czech Republic', u'total_medals': 0}, {u'country': u'Serbia', u'total_medals': 0}, {u'country': u'Finland', u'total_medals': 0}, {u'country': u'Finland', u'total_medals': 0}, {u'country': u'France', u'total_medals': 0}, {u'country': u'Korea', u'total_medals': 0}, {u'country': u'Andorra', u'total_medals': 0}, {u'country': u'Austria', u'total_medals': 0}, {u'country': u'Switzerland', u'total_medals': 0}, {u'country': u'Switzerland', u'total_medals': 0}, {u'country': u'Italy', u'total_medals': 0}, {u'country': u'Czech Republic', u'total_medals': 0}, {u'country': u'Austria', u'total_medals': 0}, {u'country': u'Bulgaria', u'total_medals': 0}, {u'country': u'Japan', u'total_medals': 0}, {u'country': u'Slovakia', u'total_medals': 0}, {u'country': u'Switzerland', u'total_medals': 0}, {u'country': u'Uzbekistan', u'total_medals': 0}, {u'country': u'Canada', u'total_medals': 0}, {u'country': u'Canada', u'total_medals': 0}, {u'country': u'United States', u'total_medals': 0}, {u'country': u'Slovenia', u'total_medals': 0}, {u'country': u'Slovenia', u'total_medals': 0}, {u'country': u'Japan', u'total_medals': 0}, {u'country': u'Bosnia and Herzegovina', u'total_medals': 0}, {u'country': u'Japan', u'total_medals': 0}, {u'country': u'Japan', u'total_medals': 0}, {u'country': u'IR Iran', u'total_medals': 0}, {u'country': u'United States', u'total_medals': 0}, {u'country': u'Slovenia', u'total_medals': 0}, {u'country': u'Norway', u'total_medals': 0}, {u'country': u'Finland', u'total_medals': 0}, {u'country': u'Germany', u'total_medals': 0}, {u'country': u'Germany', u'total_medals': 0}, {u'country': u'Poland', u'total_medals': 0}, {u'country': u'Croatia', u'total_medals': 0}, {u'country': u'France', u'total_medals': 0}, {u'country': u'Canada', u'total_medals': 0}, {u'country': u'France', u'total_medals': 0}, {u'country': u'Germany', u'total_medals': 0}, {u'country': u'United States', u'total_medals': 0}, {u'country': u'Switzerland', u'total_medals': 0}, {u'country': u'Pakistan', u'total_medals': 0}, {u'country': u'Norway', u'total_medals': 0}, {u'country': u'Great Britain', u'total_medals': 0}, {u'country': u'Ukraine', u'total_medals': 0}, {u'country': u'China', u'total_medals': 0}, {u'country': u'Independent Olymp. participant', u'total_medals': 0}, {u'country': u'Canada', u'total_medals': 0}, {u'country': u'Russian Fed.', u'total_medals': 0}, {u'country': u'Russian Fed.', u'total_medals': 0}, {u'country': u'Belarus', u'total_medals': 1}, {u'country': u'Italy', u'total_medals': 0}, {u'country': u'Ukraine', u'total_medals': 0}, {u'country': u'Ukraine', u'total_medals': 0}, {u'country': u'Switzerland', u'total_medals': 0}, {u'country': u'Switzerland', u'total_medals': 0}, {u'country': u'Italy', u'total_medals': 0}, {u'country': u'Japan', u'total_medals': 0}, {u'country': u'Belarus', u'total_medals': 0}, {u'country': u'Japan', u'total_medals': 0}, {u'country': u'Japan', u'total_medals': 0}, {u'country': u'Japan', u'total_medals': 0}, {u'country': u'France', u'total_medals': 0}, {u'country': u'Japan', u'total_medals': 0}, {u'country': u'Belarus', u'total_medals': 0}, {u'country': u'Russian Fed.', u'total_medals': 0}, {u'country': u'Poland', u'total_medals': 0}, {u'country': u'Ukraine', u'total_medals': 0}, {u'country': u'Slovakia', u'total_medals': 0}, {u'country': u'Russian Fed.', u'total_medals': 0}, {u'country': u'Russian Fed.', u'total_medals': 0}, {u'country': u'Poland', u'total_medals': 0}, {u'country': u'Canada', u'total_medals': 0}, {u'country': u'Russian Fed.', u'total_medals': 0}, {u'country': u'Ukraine', u'total_medals': 0}, {u'country': u'Russian Fed.', u'total_medals': 0}, {u'country': u'United States', u'total_medals': 0}, {u'country': u'France', u'total_medals': 0}, {u'country': u'Austria', u'total_medals': 0}, {u'country': u'Germany', u'total_medals': 0}, {u'country': u'Germany', u'total_medals': 2}, {u'country': u'Australia', u'total_medals': 0}, {u'country': u'Canada', u'total_medals': 0}, {u'country': u'Croatia', u'total_medals': 0}, {u'country': u'Germany', u'total_medals': 0}, {u'country': u'France', u'total_medals': 0}, {u'country': u'Serbia', u'total_medals': 0}, {u'country': u'United States', u'total_medals': 0}, {u'country': u'Switzerland', u'total_medals': 0}, {u'country': u'Canada', u'total_medals': 0}, {u'country': u'United States', u'total_medals': 0}, {u'country': u'Great Britain', u'total_medals': 0}, {u'country': u'United States', u'total_medals': 0}, {u'country': u'United States', u'total_medals': 1}, {u'country': u'United States', u'total_medals': 0}, {u'country': u'Sweden', u'total_medals': 0}, {u'country': u'Germany', u'total_medals': 0}, {u'country': u'Greece', u'total_medals': 0}, {u'country': u'Italy', u'total_medals': 0}, {u'country': u'United States', u'total_medals': 0}, {u'country': u'Switzerland', u'total_medals': 0}, {u'country': u'Italy', u'total_medals': 0}, {u'country': u'Germany', u'total_medals': 1}, {u'country': u'Italy', u'total_medals': 0}, {u'country': u'Austria', u'total_medals': 2}, {u'country': u'Romania', u'total_medals': 0}, {u'country': u'Slovakia', u'total_medals': 0}, {u'country': u'Australia', u'total_medals': 0}, {u'country': u'Austria', u'total_medals': 0}, {u'country': u'Netherlands', u'total_medals': 0}, {u'country': u'Netherlands', u'total_medals': 0}, {u'country': u'Slovenia', u'total_medals': 0}, {u'country': u'Russian Fed.', u'total_medals': 0}, {u'country': u'Russian Fed.', u'total_medals': 2}, {u'country': u'Russian Fed.', u'total_medals': 0}, {u'country': u'Russian Fed.', u'total_medals': 0}, {u'country': u'Russian Fed.', u'total_medals': 0}, {u'country': u'Sweden', u'total_medals': 0}, {u'country': u'Russian Fed.', u'total_medals': 0}, {u'country': u'Sweden', u'total_medals': 0}, {u'country': u'Sweden', u'total_medals': 0}, {u'country': u'Norway', u'total_medals': 0}, {u'country': u'Sweden', u'total_medals': 0}, {u'country': u'Bulgaria', u'total_medals': 0}, {u'country': u'Czech Republic', u'total_medals': 0}, {u'country': u'Russian Fed.', u'total_medals': 0}, {u'country': u'Czech Republic', u'total_medals': 0}, {u'country': u'Kazakhstan', u'total_medals': 0}, {u'country': u'Russian Fed.', u'total_medals': 1}, {u'country': u'Switzerland', u'total_medals': 0}, {u'country': u'Russian Fed.', u'total_medals': 0}, {u'country': u'Germany', u'total_medals': 0}, {u'country': u'China', u'total_medals': 0}, {u'country': u'Norway', u'total_medals': 0}, {u'country': u'Serbia', u'total_medals': 0}, {u'country': u'Switzerland', u'total_medals': 0}, {u'country': u'Austria', u'total_medals': 0}, {u'country': u'Finland', u'total_medals': 0}, {u'country': u'Switzerland', u'total_medals': 0}, {u'country': u'Switzerland', u'total_medals': 0}, {u'country': u'Georgia', u'total_medals': 0}, {u'country': u'Russian Fed.', u'total_medals': 0}, {u'country': u'Canada', u'total_medals': 0}, {u'country': u'United States', u'total_medals': 0}, {u'country': u'Japan', u'total_medals': 0}, {u'country': u'Japan', u'total_medals': 0}, {u'country': u'Chile', u'total_medals': 0}, {u'country': u'United States', u'total_medals': 1}, {u'country': u'Russian Fed.', u'total_medals': 0}, {u'country': u'United States', u'total_medals': 0}, {u'country': u'Finland', u'total_medals': 0}, {u'country': u'Hungary', u'total_medals': 0}, {u'country': u'Japan', u'total_medals': 0}, {u'country': u'Kazakhstan', u'total_medals': 0}, {u'country': u'Brazil', u'total_medals': 0}, {u'country': u'Norway', u'total_medals': 1}, {u'country': u'Norway', u'total_medals': 1}, {u'country': u'Japan', u'total_medals': 2}, {u'country': u'Norway', u'total_medals': 0}, {u'country': u'Ukraine', u'total_medals': 0}, {u'country': u'Ukraine', u'total_medals': 0}, {u'country': u'Ukraine', u'total_medals': 0}, {u'country': u'Ukraine', u'total_medals': 0}, {u'country': u'Ukraine', u'total_medals': 0}, {u'country': u'Russian Fed.', u'total_medals': 0}, {u'country': u'Ukraine', u'total_medals': 0}, {u'country': u'Russian Fed.', u'total_medals': 1}, {u'country': u'Russian Fed.', u'total_medals': 1}, {u'country': u'Russian Fed.', u'total_medals': 0}, {u'country': u'Russian Fed.', u'total_medals': 0}, {u'country': u'Ukraine', u'total_medals': 0}, {u'country': u'Russian Fed.', u'total_medals': 0}, {u'country': u'Russian Fed.', u'total_medals': 0}, {u'country': u'Russian Fed.', u'total_medals': 0}, {u'country': u'Russian Fed.', u'total_medals': 1}, {u'country': u'Russian Fed.', u'total_medals': 0}, {u'country': u'Sweden', u'total_medals': 0}, {u'country': u'Austria', u'total_medals': 0}, {u'country': u'Canada', u'total_medals': 0}, {u'country': u'Monaco', u'total_medals': 0}, {u'country': u'Finland', u'total_medals': 0}, {u'country': u'Finland', u'total_medals': 0}, {u'country': u'Finland', u'total_medals': 0}, {u'country': u'Finland', u'total_medals': 0}, {u'country': u'Italy', u'total_medals': 0}, {u'country': u'Czech Republic', u'total_medals': 0}, {u'country': u'Italy', u'total_medals': 0}, {u'country': u'Czech Republic', u'total_medals': 0}, {u'country': u'Czech Republic', u'total_medals': 2}, {u'country': u'Czech Republic', u'total_medals': 0}, {u'country': u'Czech Republic', u'total_medals': 0}, {u'country': u'Peru', u'total_medals': 0}, {u'country': u'France', u'total_medals': 0}, {u'country': u'Sweden', u'total_medals': 0}, {u'country': u'Latvia', u'total_medals': 0}, {u'country': u'Sweden', u'total_medals': 0}, {u'country': u'Latvia', u'total_medals': 0}, {u'country': u'Latvia', u'total_medals': 0}, {u'country': u'Latvia', u'total_medals': 0}, {u'country': u'Mongolia', u'total_medals': 0}, {u'country': u'Austria', u'total_medals': 0}, {u'country': u'Finland', u'total_medals': 0}, {u'country': u'Norway', u'total_medals': 0}, {u'country': u'Canada', u'total_medals': 0}, {u'country': u'Finland', u'total_medals': 0}, {u'country': u'Norway', u'total_medals': 0}, {u'country': u'Canada', u'total_medals': 0}, {u'country': u'\"Hong Ko', u'total_medals': 0}, {u'country': u'Canada', u'total_medals': 0}, {u'country': u'Greece', u'total_medals': 0}, {u'country': u'Monaco', u'total_medals': 0}, {u'country': u'Germany', u'total_medals': 0}, {u'country': u'Azerbaijan', u'total_medals': 0}, {u'country': u'Canada', u'total_medals': 2}, {u'country': u'Germany', u'total_medals': 0}, {u'country': u'Italy', u'total_medals': 0}, {u'country': u'United States', u'total_medals': 0}, {u'country': u'United States', u'total_medals': 0}, {u'country': u'Switzerland', u'total_medals': 0}, {u'country': u'Austria', u'total_medals': 0}, {u'country': u'Canada', u'total_medals': 0}, {u'country': u'United States', u'total_medals': 0}, {u'country': u'Italy', u'total_medals': 0}, {u'country': u'Italy', u'total_medals': 0}, {u'country': u'Norway', u'total_medals': 0}, {u'country': u'Switzerland', u'total_medals': 0}, {u'country': u'Sweden', u'total_medals': 0}, {u'country': u'Czech Republic', u'total_medals': 0}, {u'country': u'Canada', u'total_medals': 0}, {u'country': u'Poland', u'total_medals': 0}, {u'country': u'Switzerland', u'total_medals': 0}, {u'country': u'Poland', u'total_medals': 0}, {u'country': u'Italy', u'total_medals': 0}, {u'country': u'Romania', u'total_medals': 0}, {u'country': u'Germany', u'total_medals': 0}, {u'country': u'Spain', u'total_medals': 0}, {u'country': u'United States', u'total_medals': 0}, {u'country': u'United States', u'total_medals': 0}, {u'country': u'Romania', u'total_medals': 0}, {u'country': u'France', u'total_medals': 0}, {u'country': u'Poland', u'total_medals': 0}, {u'country': u'Great Britain', u'total_medals': 0}, {u'country': u'Poland', u'total_medals': 0}, {u'country': u'Slovakia', u'total_medals': 0}, {u'country': u'Czech Republic', u'total_medals': 0}, {u'country': u'Russian Fed.', u'total_medals': 0}, {u'country': u'Russian Fed.', u'total_medals': 0}, {u'country': u'Kazakhstan', u'total_medals': 0}, {u'country': u'Russian Fed.', u'total_medals': 0}, {u'country': u'Russian Fed.', u'total_medals': 0}, {u'country': u'Russian Fed.', u'total_medals': 0}, {u'country': u'Russian Fed.', u'total_medals': 0}, {u'country': u'Slovakia', u'total_medals': 0}, {u'country': u'Poland', u'total_medals': 0}, {u'country': u'Poland', u'total_medals': 0}, {u'country': u'Estonia', u'total_medals': 0}, {u'country': u'Finland', u'total_medals': 0}, {u'country': u'Great Britain', u'total_medals': 0}, {u'country': u'Norway', u'total_medals': 0}, {u'country': u'Finland', u'total_medals': 0}, {u'country': u'Sweden', u'total_medals': 0}, {u'country': u'Canada', u'total_medals': 0}, {u'country': u'France', u'total_medals': 0}, {u'country': u'Norway', u'total_medals': 0}, {u'country': u'Sweden', u'total_medals': 0}, {u'country': u'France', u'total_medals': 0}, {u'country': u'\"Virgin I', u'total_medals': 0}, {u'country': u'Slovakia', u'total_medals': 0}, {u'country': u'Slovenia', u'total_medals': 0}, {u'country': u'Italy', u'total_medals': 0}, {u'country': u'United States', u'total_medals': 0}, {u'country': u'Slovakia', u'total_medals': 0}, {u'country': u'Germany', u'total_medals': 0}, {u'country': u'Austria', u'total_medals': 0}, {u'country': u'Slovakia', u'total_medals': 0}, {u'country': u'Slovenia', u'total_medals': 2}, {u'country': u'Latvia', u'total_medals': 0}, {u'country': u'Germany', u'total_medals': 0}, {u'country': u'Russian Fed.', u'total_medals': 0}, {u'country': u'Russian Fed.', u'total_medals': 0}, {u'country': u'Russian Fed.', u'total_medals': 0}, {u'country': u'Slovakia', u'total_medals': 0}, {u'country': u'Czech Republic', u'total_medals': 0}, {u'country': u'Czech Republic', u'total_medals': 0}, {u'country': u'Czech Republic', u'total_medals': 0}, {u'country': u'Slovakia', u'total_medals': 0}, {u'country': u'Finland', u'total_medals': 0}, {u'country': u'United States', u'total_medals': 0}, {u'country': u'Norway', u'total_medals': 0}, {u'country': u'Canada', u'total_medals': 0}, {u'country': u'Switzerland', u'total_medals': 0}, {u'country': u'Liechtenstein', u'total_medals': 0}, {u'country': u'Austria', u'total_medals': 0}, {u'country': u'Australia', u'total_medals': 0}, {u'country': u'Canada', u'total_medals': 0}, {u'country': u'Switzerland', u'total_medals': 0}, {u'country': u'Australia', u'total_medals': 0}, {u'country': u'France', u'total_medals': 1}, {u'country': u'Poland', u'total_medals': 0}, {u'country': u'Spain', u'total_medals': 0}, {u'country': u'United States', u'total_medals': 0}, {u'country': u'United States', u'total_medals': 0}, {u'country': u'China', u'total_medals': 0}, {u'country': u'Austria', u'total_medals': 0}, {u'country': u'China', u'total_medals': 0}, {u'country': u'China', u'total_medals': 0}, {u'country': u'China', u'total_medals': 0}, {u'country': u'China', u'total_medals': 0}, {u'country': u'China', u'total_medals': 0}, {u'country': u'France', u'total_medals': 0}, {u'country': u'Spain', u'total_medals': 0}, {u'country': u'Czech Republic', u'total_medals': 0}, {u'country': u'China', u'total_medals': 0}, {u'country': u'Romania', u'total_medals': 0}, {u'country': u'Bulgaria', u'total_medals': 0}, {u'country': u'Poland', u'total_medals': 0}, {u'country': u'Italy', u'total_medals': 0}, {u'country': u'Norway', u'total_medals': 0}, {u'country': u'Estonia', u'total_medals': 0}, {u'country': u'Latvia', u'total_medals': 0}, {u'country': u'Latvia', u'total_medals': 0}, {u'country': u'Switzerland', u'total_medals': 0}, {u'country': u'Japan', u'total_medals': 0}, {u'country': u'Romania', u'total_medals': 0}, {u'country': u'Switzerland', u'total_medals': 0}, {u'country': u'Austria', u'total_medals': 0}, {u'country': u'Denmark', u'total_medals': 0}, {u'country': u'Canada', u'total_medals': 0}, {u'country': u'Austria', u'total_medals': 0}, {u'country': u'New Zealand', u'total_medals': 0}, {u'country': u'New Zealand', u'total_medals': 0}, {u'country': u'Great Britain', u'total_medals': 0}, {u'country': u'Russian Fed.', u'total_medals': 0}, {u'country': u'Austria', u'total_medals': 0}, {u'country': u'Spain', u'total_medals': 0}, {u'country': u'Austria', u'total_medals': 0}, {u'country': u'Serbia', u'total_medals': 0}, {u'country': u'Switzerland', u'total_medals': 0}, {u'country': u'Austria', u'total_medals': 0}, {u'country': u'Switzerland', u'total_medals': 0}, {u'country': u'France', u'total_medals': 0}, {u'country': u'Austria', u'total_medals': 0}, {u'country': u'Slovakia', u'total_medals': 0}, {u'country': u'Japan', u'total_medals': 1}, {u'country': u'United States', u'total_medals': 0}, {u'country': u'Switzerland', u'total_medals': 0}, {u'country': u'Netherlands', u'total_medals': 0}, {u'country': u'Germany', u'total_medals': 0}, {u'country': u'Switzerland', u'total_medals': 0}, {u'country': u'Slovakia', u'total_medals': 0}, {u'country': u'Great Britain', u'total_medals': 0}, {u'country': u'Switzerland', u'total_medals': 0}, {u'country': u'Finland', u'total_medals': 0}, {u'country': u'Finland', u'total_medals': 0}, {u'country': u'Finland', u'total_medals': 0}, {u'country': u'Japan', u'total_medals': 0}, {u'country': u'Canada', u'total_medals': 0}, {u'country': u'Canada', u'total_medals': 0}, {u'country': u'Slovenia', u'total_medals': 0}, {u'country': u'Slovenia', u'total_medals': 0}, {u'country': u'Austria', u'total_medals': 0}, {u'country': u'Germany', u'total_medals': 0}, {u'country': u'Germany', u'total_medals': 0}, {u'country': u'Slovenia', u'total_medals': 0}, {u'country': u'Peru', u'total_medals': 0}, {u'country': u'Canada', u'total_medals': 0}, {u'country': u'Italy', u'total_medals': 0}, {u'country': u'Italy', u'total_medals': 0}, {u'country': u'Latvia', u'total_medals': 0}, {u'country': u'Latvia', u'total_medals': 0}, {u'country': u'France', u'total_medals': 1}, {u'country': u'Germany', u'total_medals': 1}, {u'country': u'Slovenia', u'total_medals': 0}, {u'country': u'Slovenia', u'total_medals': 0}, {u'country': u'Slovenia', u'total_medals': 0}, {u'country': u'Norway', u'total_medals': 0}, {u'country': u'Slovenia', u'total_medals': 0}, {u'country': u'Lithuania', u'total_medals': 0}, {u'country': u'Italy', u'total_medals': 0}, {u'country': u'Estonia', u'total_medals': 0}, {u'country': u'France', u'total_medals': 0}, {u'country': u'Czech Republic', u'total_medals': 0}, {u'country': u'Switzerland', u'total_medals': 0}, {u'country': u'Italy', u'total_medals': 0}, {u'country': u'Czech Republic', u'total_medals': 0}, {u'country': u'Kazakhstan', u'total_medals': 0}, {u'country': u'Kazakhstan', u'total_medals': 0}, {u'country': u'Switzerland', u'total_medals': 0}, {u'country': u'Switzerland', u'total_medals': 0}, {u'country': u'Ukraine', u'total_medals': 0}, {u'country': u'Austria', u'total_medals': 0}, {u'country': u'Switzerland', u'total_medals': 0}, {u'country': u'Netherlands', u'total_medals': 1}, {u'country': u'France', u'total_medals': 0}, {u'country': u'Latvia', u'total_medals': 0}, {u'country': u'Finland', u'total_medals': 0}, {u'country': u'Finland', u'total_medals': 0}, {u'country': u'Canada', u'total_medals': 0}, {u'country': u'Canada', u'total_medals': 0}, {u'country': u'Australia', u'total_medals': 0}, {u'country': u'Great Britain', u'total_medals': 0}, {u'country': u'Great Britain', u'total_medals': 0}, {u'country': u'Hungary', u'total_medals': 0}, {u'country': u'China', u'total_medals': 0}, {u'country': u'Canada', u'total_medals': 0}, {u'country': u'Norway', u'total_medals': 0}, {u'country': u'Japan', u'total_medals': 0}, {u'country': u'Russian Fed.', u'total_medals': 0}, {u'country': u'Russian Fed.', u'total_medals': 0}, {u'country': u'Ukraine', u'total_medals': 0}, {u'country': u'Australia', u'total_medals': 0}, {u'country': u'United States', u'total_medals': 0}, {u'country': u'Canada', u'total_medals': 0}, {u'country': u'Switzerland', u'total_medals': 0}, {u'country': u'Canada', u'total_medals': 0}, {u'country': u'United States', u'total_medals': 0}, {u'country': u'Canada', u'total_medals': 0}, {u'country': u'United States', u'total_medals': 0}, {u'country': u'United States', u'total_medals': 0}, {u'country': u'United States', u'total_medals': 0}, {u'country': u'United States', u'total_medals': 0}, {u'country': u'Japan', u'total_medals': 0}, {u'country': u'United States', u'total_medals': 0}, {u'country': u'Japan', u'total_medals': 0}, {u'country': u'Japan', u'total_medals': 0}, {u'country': u'Turkey', u'total_medals': 0}, {u'country': u'Germany', u'total_medals': 0}, {u'country': u'United States', u'total_medals': 0}, {u'country': u'Slovenia', u'total_medals': 0}, {u'country': u'Iceland', u'total_medals': 0}, {u'country': u'United States', u'total_medals': 1}, {u'country': u'Finland', u'total_medals': 0}, {u'country': u'Finland', u'total_medals': 0}, {u'country': u'Argentina', u'total_medals': 0}, {u'country': u'Brazil', u'total_medals': 0}, {u'country': u'Australia', u'total_medals': 0}, {u'country': u'Australia', u'total_medals': 0}, {u'country': u'Finland', u'total_medals': 0}, {u'country': u'Australia', u'total_medals': 0}, {u'country': u'Finland', u'total_medals': 0}, {u'country': u'Finland', u'total_medals': 0}, {u'country': u'Finland', u'total_medals': 0}, {u'country': u'Italy', u'total_medals': 0}, {u'country': u'Finland', u'total_medals': 0}, {u'country': u'Canada', u'total_medals': 0}, {u'country': u'Germany', u'total_medals': 0}, {u'country': u'Latvia', u'total_medals': 0}, {u'country': u'Hungary', u'total_medals': 0}, {u'country': u'Switzerland', u'total_medals': 0}, {u'country': u'Germany', u'total_medals': 0}, {u'country': u'Sweden', u'total_medals': 0}, {u'country': u'Italy', u'total_medals': 0}, {u'country': u'Switzerland', u'total_medals': 0}, {u'country': u'Switzerland', u'total_medals': 0}, {u'country': u'Switzerland', u'total_medals': 1}, {u'country': u'Korea', u'total_medals': 1}, {u'country': u'Korea', u'total_medals': 0}, {u'country': u'Italy', u'total_medals': 0}, {u'country': u'Switzerland', u'total_medals': 0}, {u'country': u'Korea', u'total_medals': 1}, {u'country': u'Netherlands', u'total_medals': 0}, {u'country': u'Switzerland', u'total_medals': 0}, {u'country': u'Finland', u'total_medals': 0}, {u'country': u'Sweden', u'total_medals': 0}, {u'country': u'Sweden', u'total_medals': 0}, {u'country': u'Sweden', u'total_medals': 0}, {u'country': u'Spain', u'total_medals': 0}, {u'country': u'Germany', u'total_medals': 0}, {u'country': u'Japan', u'total_medals': 0}, {u'country': u'United States', u'total_medals': 0}, {u'country': u'Switzerland', u'total_medals': 0}, {u'country': u'United States', u'total_medals': 0}, {u'country': u'Canada', u'total_medals': 0}, {u'country': u'Czech Republic', u'total_medals': 0}, {u'country': u'Germany', u'total_medals': 0}, {u'country': u'Czech Republic', u'total_medals': 0}, {u'country': u'Japan', u'total_medals': 0}, {u'country': u'Japan', u'total_medals': 0}, {u'country': u'Great Britain', u'total_medals': 0}, {u'country': u'Australia', u'total_medals': 0}, {u'country': u'Canada', u'total_medals': 2}, {u'country': u'Canada', u'total_medals': 0}, {u'country': u'Australia', u'total_medals': 0}, {u'country': u'United States', u'total_medals': 0}, {u'country': u'Ireland', u'total_medals': 0}, {u'country': u'Croatia', u'total_medals': 0}, {u'country': u'Italy', u'total_medals': 0}, {u'country': u'Poland', u'total_medals': 0}, {u'country': u'Germany', u'total_medals': 0}, {u'country': u'Poland', u'total_medals': 0}, {u'country': u'Sweden', u'total_medals': 0}, {u'country': u'Norway', u'total_medals': 0}, {u'country': u'Argentina', u'total_medals': 0}, {u'country': u'Monaco', u'total_medals': 0}, {u'country': u'France', u'total_medals': 0}, {u'country': u'Ireland', u'total_medals': 0}, {u'country': u'France', u'total_medals': 0}, {u'country': u'Canada', u'total_medals': 0}, {u'country': u'Switzerland', u'total_medals': 1}, {u'country': u'Germany', u'total_medals': 0}, {u'country': u'Russian Fed.', u'total_medals': 0}, {u'country': u'Russian Fed.', u'total_medals': 0}, {u'country': u'Japan', u'total_medals': 0}, {u'country': u'Korea', u'total_medals': 0}, {u'country': u'Korea', u'total_medals': 0}, {u'country': u'Belgium', u'total_medals': 0}, {u'country': u'Switzerland', u'total_medals': 0}, {u'country': u'Switzerland', u'total_medals': 0}, {u'country': u'Kazakhstan', u'total_medals': 0}, {u'country': u'Russian Fed.', u'total_medals': 0}, {u'country': u'Russian Fed.', u'total_medals': 0}, {u'country': u'Belarus', u'total_medals': 0}, {u'country': u'Russian Fed.', u'total_medals': 0}, {u'country': u'Kazakhstan', u'total_medals': 0}, {u'country': u'Armenia', u'total_medals': 0}, {u'country': u'Russian Fed.', u'total_medals': 0}, {u'country': u'Kazakhstan', u'total_medals': 0}, {u'country': u'Belarus', u'total_medals': 0}, {u'country': u'Russian Fed.', u'total_medals': 0}, {u'country': u'Russian Fed.', u'total_medals': 0}, {u'country': u'Russian Fed.', u'total_medals': 0}, {u'country': u'Ukraine', u'total_medals': 0}, {u'country': u'Ukraine', u'total_medals': 0}, {u'country': u'Korea', u'total_medals': 0}, {u'country': u'Korea', u'total_medals': 0}, {u'country': u'Korea', u'total_medals': 0}, {u'country': u'Korea', u'total_medals': 2}, {u'country': u'Switzerland', u'total_medals': 0}, {u'country': u'Germany', u'total_medals': 1}, {u'country': u'Russian Fed.', u'total_medals': 0}, {u'country': u'Austria', u'total_medals': 0}, {u'country': u'IR Iran', u'total_medals': 0}, {u'country': u'Korea', u'total_medals': 0}, {u'country': u'Japan', u'total_medals': 0}, {u'country': u'United States', u'total_medals': 0}, {u'country': u'Canada', u'total_medals': 0}, {u'country': u'United States', u'total_medals': 0}, {u'country': u'Canada', u'total_medals': 0}, {u'country': u'Great Britain', u'total_medals': 0}, {u'country': u'New Zealand', u'total_medals': 0}, {u'country': u'Japan', u'total_medals': 0}, {u'country': u'Korea', u'total_medals': 0}, {u'country': u'New Zealand', u'total_medals': 0}, {u'country': u'Japan', u'total_medals': 0}, {u'country': u'Independent Olymp. participant', u'total_medals': 0}, {u'country': u'Japan', u'total_medals': 0}, {u'country': u'Japan', u'total_medals': 0}, {u'country': u'China', u'total_medals': 0}, {u'country': u'China', u'total_medals': 0}, {u'country': u'China', u'total_medals': 0}, {u'country': u'China', u'total_medals': 0}, {u'country': u'Canada', u'total_medals': 0}, {u'country': u'Estonia', u'total_medals': 0}, {u'country': u'Estonia', u'total_medals': 0}, {u'country': u'Korea', u'total_medals': 0}, {u'country': u'Norway', u'total_medals': 0}, {u'country': u'Switzerland', u'total_medals': 0}, {u'country': u'Italy', u'total_medals': 0}, {u'country': u'Norway', u'total_medals': 0}, {u'country': u'United States', u'total_medals': 0}, {u'country': u'Switzerland', u'total_medals': 0}, {u'country': u'Switzerland', u'total_medals': 0}, {u'country': u'France', u'total_medals': 0}, {u'country': u'Austria', u'total_medals': 0}, {u'country': u'Japan', u'total_medals': 0}, {u'country': u'France', u'total_medals': 0}, {u'country': u'Switzerland', u'total_medals': 0}, {u'country': u'Switzerland', u'total_medals': 0}, {u'country': u'Switzerland', u'total_medals': 0}, {u'country': u'Sweden', u'total_medals': 0}, {u'country': u'Germany', u'total_medals': 0}, {u'country': u'Switzerland', u'total_medals': 0}, {u'country': u'United States', u'total_medals': 1}, {u'country': u'Switzerland', u'total_medals': 0}, {u'country': u'Italy', u'total_medals': 0}, {u'country': u'Italy', u'total_medals': 0}, {u'country': u'Switzerland', u'total_medals': 0}, {u'country': u'Ukraine', u'total_medals': 0}, {u'country': u'Netherlands', u'total_medals': 1}, {u'country': u'Norway', u'total_medals': 0}, {u'country': u'Korea', u'total_medals': 0}, {u'country': u'Korea', u'total_medals': 0}, {u'country': u'Sweden', u'total_medals': 0}, {u'country': u'Sweden', u'total_medals': 0}, {u'country': u'Russian Fed.', u'total_medals': 0}, {u'country': u'Ukraine', u'total_medals': 0}, {u'country': u'Slovenia', u'total_medals': 0}, {u'country': u'Croatia', u'total_medals': 0}, {u'country': u'Norway', u'total_medals': 0}, {u'country': u'Germany', u'total_medals': 0}, {u'country': u'Switzerland', u'total_medals': 0}, {u'country': u'France', u'total_medals': 0}, {u'country': u'United States', u'total_medals': 0}, {u'country': u'Germany', u'total_medals': 0}, {u'country': u'France', u'total_medals': 0}, {u'country': u'Romania', u'total_medals': 0}, {u'country': u'Slovenia', u'total_medals': 0}, {u'country': u'Canada', u'total_medals': 0}, {u'country': u'Norway', u'total_medals': 1}, {u'country': u'United States', u'total_medals': 0}, {u'country': u'Great Britain', u'total_medals': 0}, {u'country': u'Bulgaria', u'total_medals': 0}, {u'country': u'Russian Fed.', u'total_medals': 0}, {u'country': u'Russian Fed.', u'total_medals': 0}, {u'country': u'Germany', u'total_medals': 0}, {u'country': u'Netherlands', u'total_medals': 1}, {u'country': u'Germany', u'total_medals': 0}, {u'country': u'Bulgaria', u'total_medals': 0}, {u'country': u'Greece', u'total_medals': 0}, {u'country': u'Austria', u'total_medals': 0}, {u'country': u'Austria', u'total_medals': 0}, {u'country': u'Italy', u'total_medals': 0}, {u'country': u'Switzerland', u'total_medals': 0}, {u'country': u'Switzerland', u'total_medals': 0}, {u'country': u'Germany', u'total_medals': 0}, {u'country': u'Italy', u'total_medals': 0}, {u'country': u'Norway', u'total_medals': 0}, {u'country': u'New Zealand', u'total_medals': 0}, {u'country': u'Russian Fed.', u'total_medals': 0}, {u'country': u'Germany', u'total_medals': 0}, {u'country': u'Chile', u'total_medals': 0}, {u'country': u'Australia', u'total_medals': 0}, {u'country': u'Germany', u'total_medals': 0}, {u'country': u'France', u'total_medals': 0}, {u'country': u'United States', u'total_medals': 1}, {u'country': u'United States', u'total_medals': 1}, {u'country': u'United States', u'total_medals': 0}, {u'country': u'Norway', u'total_medals': 0}, {u'country': u'Sweden', u'total_medals': 0}, {u'country': u'Great Britain', u'total_medals': 0}, {u'country': u'Germany', u'total_medals': 1}, {u'country': u'Albania', u'total_medals': 0}, {u'country': u'United States', u'total_medals': 0}, {u'country': u'Korea', u'total_medals': 2}, {u'country': u'Korea', u'total_medals': 0}, {u'country': u'Korea', u'total_medals': 0}, {u'country': u'Korea', u'total_medals': 0}, {u'country': u'United States', u'total_medals': 0}, {u'country': u'Germany', u'total_medals': 0}, {u'country': u'Finland', u'total_medals': 0}, {u'country': u'Germany', u'total_medals': 0}, {u'country': u'Austria', u'total_medals': 0}, {u'country': u'Germany', u'total_medals': 0}, {u'country': u'Netherlands', u'total_medals': 2}, {u'country': u'Switzerland', u'total_medals': 0}, {u'country': u'Sweden', u'total_medals': 0}, {u'country': u'Norway', u'total_medals': 0}, {u'country': u'Russian Fed.', u'total_medals': 0}, {u'country': u'Netherlands', u'total_medals': 0}, {u'country': u'France', u'total_medals': 0}, {u'country': u'Poland', u'total_medals': 0}, {u'country': u'Norway', u'total_medals': 0}, {u'country': u'United States', u'total_medals': 0}, {u'country': u'Hungary', u'total_medals': 0}, {u'country': u'United States', u'total_medals': 0}, {u'country': u'Korea', u'total_medals': 0}, {u'country': u'Japan', u'total_medals': 0}, {u'country': u'Japan', u'total_medals': 1}, {u'country': u'Japan', u'total_medals': 1}, {u'country': u'Germany', u'total_medals': 0}, {u'country': u'Korea', u'total_medals': 0}, {u'country': u'Germany', u'total_medals': 0}, {u'country': u'Switzerland', u'total_medals': 0}, {u'country': u'Finland', u'total_medals': 0}, {u'country': u'Switzerland', u'total_medals': 0}, {u'country': u'Canada', u'total_medals': 0}, {u'country': u'Montenegro', u'total_medals': 0}, {u'country': u'Norway', u'total_medals': 0}, {u'country': u'Japan', u'total_medals': 0}, {u'country': u'Slovakia', u'total_medals': 0}, {u'country': u'Russian Fed.', u'total_medals': 0}, {u'country': u'Russian Fed.', u'total_medals': 2}, {u'country': u'Germany', u'total_medals': 1}, {u'country': u'Japan', u'total_medals': 0}, {u'country': u'Russian Fed.', u'total_medals': 0}, {u'country': u'Russian Fed.', u'total_medals': 1}, {u'country': u'Kazakhstan', u'total_medals': 0}, {u'country': u'Australia', u'total_medals': 0}, {u'country': u'United States', u'total_medals': 0}, {u'country': u'United States', u'total_medals': 0}, {u'country': u'Canada', u'total_medals': 0}, {u'country': u'Chinese Taipei', u'total_medals': 0}, {u'country': u'Finland', u'total_medals': 0}, {u'country': u'United States', u'total_medals': 0}, {u'country': u'Finland', u'total_medals': 0}, {u'country': u'Slovenia', u'total_medals': 1}, {u'country': u'Sweden', u'total_medals': 1}, {u'country': u'Bulgaria', u'total_medals': 0}, {u'country': u'Austria', u'total_medals': 0}, {u'country': u'Czech Republic', u'total_medals': 0}, {u'country': u'Slovakia', u'total_medals': 0}, {u'country': u'Canada', u'total_medals': 2}, {u'country': u'Ukraine', u'total_medals': 0}, {u'country': u'Norway', u'total_medals': 1}, {u'country': u'France', u'total_medals': 0}, {u'country': u'France', u'total_medals': 0}, {u'country': u'Germany', u'total_medals': 0}, {u'country': u'Norway', u'total_medals': 0}, {u'country': u'Austria', u'total_medals': 1}, {u'country': u'France', u'total_medals': 0}, {u'country': u'Germany', u'total_medals': 0}, {u'country': u'Germany', u'total_medals': 0}, {u'country': u'Austria', u'total_medals': 0}, {u'country': u'Austria', u'total_medals': 0}, {u'country': u'France', u'total_medals': 0}, {u'country': u'Switzerland', u'total_medals': 0}, {u'country': u'Switzerland', u'total_medals': 0}, {u'country': u'France', u'total_medals': 0}, {u'country': u'Austria', u'total_medals': 1}, {u'country': u'Austria', u'total_medals': 0}, {u'country': u'Austria', u'total_medals': 0}, {u'country': u'Norway', u'total_medals': 0}, {u'country': u'Austria', u'total_medals': 0}, {u'country': u'Austria', u'total_medals': 0}, {u'country': u'Norway', u'total_medals': 0}, {u'country': u'Germany', u'total_medals': 0}, {u'country': u'China', u'total_medals': 1}, {u'country': u'United States', u'total_medals': 0}, {u'country': u'Switzerland', u'total_medals': 0}, {u'country': u'Bosnia and Herzegovina', u'total_medals': 0}, {u'country': u'United States', u'total_medals': 0}, {u'country': u'Switzerland', u'total_medals': 0}, {u'country': u'Germany', u'total_medals': 0}, {u'country': u'Slovenia', u'total_medals': 0}, {u'country': u'Russian Fed.', u'total_medals': 0}, {u'country': u'Romania', u'total_medals': 0}, {u'country': u'Canada', u'total_medals': 0}, {u'country': u'Slovenia', u'total_medals': 2}, {u'country': u'Liechtenstein', u'total_medals': 0}, {u'country': u'Norway', u'total_medals': 1}, {u'country': u'Germany', u'total_medals': 0}, {u'country': u'Germany', u'total_medals': 2}, {u'country': u'Sweden', u'total_medals': 0}, {u'country': u'Switzerland', u'total_medals': 0}, {u'country': u'Germany', u'total_medals': 0}, {u'country': u'Germany', u'total_medals': 2}, {u'country': u'Norway', u'total_medals': 0}, {u'country': u'United States', u'total_medals': 0}, {u'country': u'Great Britain', u'total_medals': 0}, {u'country': u'Slovakia', u'total_medals': 0}, {u'country': u'Czech Republic', u'total_medals': 0}, {u'country': u'Slovakia', u'total_medals': 0}, {u'country': u'Lithuania', u'total_medals': 0}, {u'country': u'Slovakia', u'total_medals': 0}, {u'country': u'Czech Republic', u'total_medals': 0}, {u'country': u'Czech Republic', u'total_medals': 0}, {u'country': u'Slovakia', u'total_medals': 0}, {u'country': u'Czech Republic', u'total_medals': 0}, {u'country': u'Czech Republic', u'total_medals': 0}, {u'country': u'Czech Republic', u'total_medals': 0}, {u'country': u'Slovakia', u'total_medals': 0}, {u'country': u'Slovakia', u'total_medals': 0}, {u'country': u'Slovakia', u'total_medals': 0}, {u'country': u'Slovakia', u'total_medals': 0}, {u'country': u'Latvia', u'total_medals': 0}, {u'country': u'Slovenia', u'total_medals': 0}, {u'country': u'Italy', u'total_medals': 0}, {u'country': u'Italy', u'total_medals': 0}, {u'country': u'Finland', u'total_medals': 0}, {u'country': u'Japan', u'total_medals': 0}, {u'country': u'Japan', u'total_medals': 0}, {u'country': u'Japan', u'total_medals': 0}, {u'country': u'Czech Republic', u'total_medals': 0}, {u'country': u'Germany', u'total_medals': 0}, {u'country': u'France', u'total_medals': 0}, {u'country': u'Switzerland', u'total_medals': 0}, {u'country': u'Norway', u'total_medals': 1}, {u'country': u'Australia', u'total_medals': 1}, {u'country': u'Norway', u'total_medals': 0}, {u'country': u'Norway', u'total_medals': 0}, {u'country': u'Norway', u'total_medals': 0}, {u'country': u'United States', u'total_medals': 0}, {u'country': u'Japan', u'total_medals': 0}, {u'country': u'United States', u'total_medals': 0}, {u'country': u'Canada', u'total_medals': 0}, {u'country': u'United States', u'total_medals': 0}, {u'country': u'Canada', u'total_medals': 0}, {u'country': u'United States', u'total_medals': 0}, {u'country': u'Canada', u'total_medals': 0}, {u'country': u'Estonia', u'total_medals': 0}, {u'country': u'Estonia', u'total_medals': 0}, {u'country': u'Denmark', u'total_medals': 0}, {u'country': u'Canada', u'total_medals': 0}, {u'country': u'United States', u'total_medals': 0}, {u'country': u'United States', u'total_medals': 0}, {u'country': u'Bermuda', u'total_medals': 0}, {u'country': u'Turkey', u'total_medals': 0}, {u'country': u'Finland', u'total_medals': 0}, {u'country': u'Finland', u'total_medals': 0}, {u'country': u'Latvia', u'total_medals': 0}, {u'country': u'Germany', u'total_medals': 0}, {u'country': u'Korea', u'total_medals': 0}, {u'country': u'United States', u'total_medals': 0}, {u'country': u'Switzerland', u'total_medals': 0}, {u'country': u'Romania', u'total_medals': 0}, {u'country': u'Italy', u'total_medals': 0}, {u'country': u'Latvia', u'total_medals': 0}, {u'country': u'Sweden', u'total_medals': 0}, {u'country': u'Russian Fed.', u'total_medals': 0}, {u'country': u'Canada', u'total_medals': 1}, {u'country': u'Russian Fed.', u'total_medals': 0}, {u'country': u'Kazakhstan', u'total_medals': 0}, {u'country': u'Russian Fed.', u'total_medals': 0}, {u'country': u'Belarus', u'total_medals': 0}, {u'country': u'Ukraine', u'total_medals': 0}, {u'country': u'Austria', u'total_medals': 0}, {u'country': u'Germany', u'total_medals': 0}, {u'country': u'France', u'total_medals': 0}, {u'country': u'Thailand', u'total_medals': 0}, {u'country': u'Croatia', u'total_medals': 0}, {u'country': u'Czech Republic', u'total_medals': 0}, {u'country': u'Finland', u'total_medals': 0}, {u'country': u'Russian Fed.', u'total_medals': 0}, {u'country': u'Switzerland', u'total_medals': 0}, {u'country': u'Italy', u'total_medals': 0}, {u'country': u'Russian Fed.', u'total_medals': 0}, {u'country': u'Austria', u'total_medals': 0}, {u'country': u'Czech Republic', u'total_medals': 0}, {u'country': u'Austria', u'total_medals': 0}, {u'country': u'France', u'total_medals': 0}, {u'country': u'Bulgaria', u'total_medals': 0}, {u'country': u'Slovenia', u'total_medals': 1}, {u'country': u'Norway', u'total_medals': 0}, {u'country': u'Russian Fed.', u'total_medals': 0}, {u'country': u'Great Britain', u'total_medals': 0}, {u'country': u'Russian Fed.', u'total_medals': 2}, {u'country': u'Spain', u'total_medals': 0}, {u'country': u'Sweden', u'total_medals': 0}, {u'country': u'Rep. of Moldova', u'total_medals': 0}, {u'country': u'Spain', u'total_medals': 0}, {u'country': u'Russian Fed.', u'total_medals': 0}, {u'country': u'Slovakia', u'total_medals': 0}, {u'country': u'Sweden', u'total_medals': 0}, {u'country': u'Hungary', u'total_medals': 0}, {u'country': u'Ukraine', u'total_medals': 0}, {u'country': u'Austria', u'total_medals': 0}, {u'country': u'Estonia', u'total_medals': 0}, {u'country': u'Russian Fed.', u'total_medals': 0}, {u'country': u'Sweden', u'total_medals': 0}, {u'country': u'Germany', u'total_medals': 1}, {u'country': u'Russian Fed.', u'total_medals': 0}, {u'country': u'Finland', u'total_medals': 0}, {u'country': u'Finland', u'total_medals': 0}, {u'country': u'Finland', u'total_medals': 0}, {u'country': u'Finland', u'total_medals': 0}, {u'country': u'France', u'total_medals': 0}, {u'country': u'Canada', u'total_medals': 0}, {u'country': u'San Marino', u'total_medals': 0}, {u'country': u'Austria', u'total_medals': 0}, {u'country': u'Germany', u'total_medals': 0}, {u'country': u'Ukraine', u'total_medals': 0}, {u'country': u'Israel', u'total_medals': 0}, {u'country': u'Italy', u'total_medals': 0}, {u'country': u'Ukraine', u'total_medals': 1}, {u'country': u'Switzerland', u'total_medals': 0}, {u'country': u'Latvia', u'total_medals': 0}, {u'country': u'Belarus', u'total_medals': 0}, {u'country': u'Russian Fed.', u'total_medals': 1}, {u'country': u'Bulgaria', u'total_medals': 0}, {u'country': u'Russian Fed.', u'total_medals': 0}, {u'country': u'Russian Fed.', u'total_medals': 0}, {u'country': u'Russian Fed.', u'total_medals': 1}, {u'country': u'Bulgaria', u'total_medals': 0}, {u'country': u'Russian Fed.', u'total_medals': 0}, {u'country': u'Israel', u'total_medals': 0}, {u'country': u'Russian Fed.', u'total_medals': 0}, {u'country': u'Czech Republic', u'total_medals': 0}, {u'country': u'Belarus', u'total_medals': 0}, {u'country': u'Russian Fed.', u'total_medals': 0}, {u'country': u'Lithuania', u'total_medals': 0}, {u'country': u'China', u'total_medals': 0}, {u'country': u'Estonia', u'total_medals': 0}, {u'country': u'Serbia', u'total_medals': 0}, {u'country': u'Jamaica', u'total_medals': 0}, {u'country': u'Switzerland', u'total_medals': 0}, {u'country': u'China', u'total_medals': 0}, {u'country': u'Italy', u'total_medals': 0}, {u'country': u'Poland', u'total_medals': 0}, {u'country': u'China', u'total_medals': 0}, {u'country': u'Austria', u'total_medals': 0}, {u'country': u'Canada', u'total_medals': 0}, {u'country': u'Jamaica', u'total_medals': 0}, {u'country': u'Italy', u'total_medals': 0}, {u'country': u'Austria', u'total_medals': 0}, {u'country': u'Austria', u'total_medals': 1}, {u'country': u'France', u'total_medals': 0}, {u'country': u'China', u'total_medals': 0}, {u'country': u'China', u'total_medals': 0}, {u'country': u'China', u'total_medals': 0}, {u'country': u'China', u'total_medals': 0}, {u'country': u'China', u'total_medals': 0}, {u'country': u'China', u'total_medals': 0}, {u'country': u'Ukraine', u'total_medals': 0}, {u'country': u'Kazakhstan', u'total_medals': 0}, {u'country': u'China', u'total_medals': 0}, {u'country': u'China', u'total_medals': 0}, {u'country': u'Russian Fed.', u'total_medals': 0}, {u'country': u'China', u'total_medals': 0}, {u'country': u'China', u'total_medals': 1}, {u'country': u'Switzerland', u'total_medals': 0}, {u'country': u'Switzerland', u'total_medals': 0}, {u'country': u'Netherlands', u'total_medals': 0}, {u'country': u'Kazakhstan', u'total_medals': 0}, {u'country': u'Russian Fed.', u'total_medals': 0}, {u'country': u'Russian Fed.', u'total_medals': 0}, {u'country': u'Russian Fed.', u'total_medals': 0}, {u'country': u'Russian Fed.', u'total_medals': 0}, {u'country': u'Russian Fed.', u'total_medals': 0}, {u'country': u'Russian Fed.', u'total_medals': 0}, {u'country': u'Russian Fed.', u'total_medals': 0}, {u'country': u'Russian Fed.', u'total_medals': 0}, {u'country': u'Kazakhstan', u'total_medals': 0}, {u'country': u'Kazakhstan', u'total_medals': 0}, {u'country': u'Kazakhstan', u'total_medals': 0}, {u'country': u'Russian Fed.', u'total_medals': 0}, {u'country': u'Russian Fed.', u'total_medals': 0}, {u'country': u'Russian Fed.', u'total_medals': 0}, {u'country': u'Kazakhstan', u'total_medals': 0}, {u'country': u'China', u'total_medals': 0}, {u'country': u'China', u'total_medals': 0}, {u'country': u'China', u'total_medals': 0}, {u'country': u'Japan', u'total_medals': 0}, {u'country': u'Timor-Leste', u'total_medals': 0}, {u'country': u'Chile', u'total_medals': 0}, {u'country': u'Ukraine', u'total_medals': 0}, {u'country': u'Japan', u'total_medals': 0}, {u'country': u'Korea', u'total_medals': 0}, {u'country': u'Korea', u'total_medals': 0}, {u'country': u'Korea', u'total_medals': 0}, {u'country': u'Japan', u'total_medals': 0}, {u'country': u'Japan', u'total_medals': 0}, {u'country': u'Japan', u'total_medals': 0}, {u'country': u'Japan', u'total_medals': 0}, {u'country': u'Japan', u'total_medals': 0}, {u'country': u'Japan', u'total_medals': 0}, {u'country': u'Japan', u'total_medals': 0}, {u'country': u'Japan', u'total_medals': 0}, {u'country': u'Canada', u'total_medals': 0}, {u'country': u'Kazakhstan', u'total_medals': 0}, {u'country': u'Russian Fed.', u'total_medals': 0}, {u'country': u'Japan', u'total_medals': 0}, {u'country': u'Russian Fed.', u'total_medals': 0}, {u'country': u'Russian Fed.', u'total_medals': 1}, {u'country': u'Russian Fed.', u'total_medals': 0}, {u'country': u'Russian Fed.', u'total_medals': 0}, {u'country': u'Russian Fed.', u'total_medals': 0}, {u'country': u'Japan', u'total_medals': 0}, {u'country': u'Korea', u'total_medals': 0}, {u'country': u'Korea', u'total_medals': 0}, {u'country': u'Korea', u'total_medals': 0}, {u'country': u'Italy', u'total_medals': 0}, {u'country': u'Belarus', u'total_medals': 0}, {u'country': u'Russian Fed.', u'total_medals': 0}, {u'country': u'Ukraine', u'total_medals': 0}, {u'country': u'Japan', u'total_medals': 0}, {u'country': u'Japan', u'total_medals': 0}, {u'country': u'Japan', u'total_medals': 0}, {u'country': u'Belarus', u'total_medals': 0}, {u'country': u'Japan', u'total_medals': 0}, {u'country': u'China', u'total_medals': 0}, {u'country': u'Japan', u'total_medals': 0}, {u'country': u'Japan', u'total_medals': 1}, {u'country': u'Japan', u'total_medals': 0}, {u'country': u'Italy', u'total_medals': 0}, {u'country': u'Netherlands', u'total_medals': 0}, {u'country': u'United States', u'total_medals': 0}, {u'country': u'Slovenia', u'total_medals': 0}, {u'country': u'Slovenia', u'total_medals': 0}, {u'country': u'Bosnia and Herzegovina', u'total_medals': 0}, {u'country': u'Latvia', u'total_medals': 0}, {u'country': u'Poland', u'total_medals': 1}, {u'country': u'Slovakia', u'total_medals': 0}, {u'country': u'Latvia', u'total_medals': 0}, {u'country': u'Czech Republic', u'total_medals': 0}, {u'country': u'Kazakhstan', u'total_medals': 0}, {u'country': u'Kazakhstan', u'total_medals': 0}, {u'country': u'China', u'total_medals': 0}, {u'country': u'China', u'total_medals': 0}, {u'country': u'China', u'total_medals': 0}, {u'country': u'Slovenia', u'total_medals': 0}, {u'country': u'Slovenia', u'total_medals': 0}, {u'country': u'China', u'total_medals': 0}, {u'country': u'Slovenia', u'total_medals': 0}, {u'country': u'Canada', u'total_medals': 0}, {u'country': u'Great Britain', u'total_medals': 0}, {u'country': u'Romania', u'total_medals': 0}, {u'country': u'China', u'total_medals': 1}, {u'country': u'Slovakia', u'total_medals': 0}, {u'country': u'Hungary', u'total_medals': 0}]\n"
     ]
    }
   ],
   "source": [
    "result_step1 = db.atleti.aggregate([\n",
    "        {'$project': {'country': 1, 'total_medals': 1, '_id': 0} #prende solo i campi selezionati\n",
    "        } #fa l'ordinamento per medals\n",
    "    ])\n",
    "print (list(result_step1))"
   ]
  },
  {
   "cell_type": "code",
   "execution_count": 100,
   "metadata": {
    "collapsed": false
   },
   "outputs": [
    {
     "name": "stdout",
     "output_type": "stream",
     "text": [
      "[{u'_id': u'Timor-Leste', u'medals': 0}, {u'_id': u'Bermuda', u'medals': 0}, {u'_id': u'Philippines', u'medals': 0}, {u'_id': u'Liechtenstein', u'medals': 0}, {u'_id': u'Peru', u'medals': 0}, {u'_id': u'Thailand', u'medals': 0}, {u'_id': u'Paraguay', u'medals': 0}, {u'_id': u'Independent Olymp. participant', u'medals': 0}, {u'_id': u'San Marino', u'medals': 0}, {u'_id': u'IR Iran', u'medals': 0}, {u'_id': u'Kyrgyzstan', u'medals': 0}, {u'_id': u'Albania', u'medals': 0}, {u'_id': u'Malta', u'medals': 0}, {u'_id': u'Cayman Islands', u'medals': 0}, {u'_id': u'Iceland', u'medals': 0}, {u'_id': u'Tonga', u'medals': 0}, {u'_id': u'China', u'medals': 6}, {u'_id': u'Belgium', u'medals': 0}, {u'_id': u'Uzbekistan', u'medals': 0}, {u'_id': u'Argentina', u'medals': 0}, {u'_id': u'Mongolia', u'medals': 0}, {u'_id': u'Armenia', u'medals': 0}, {u'_id': u'Venezuela', u'medals': 0}, {u'_id': u'Estonia', u'medals': 0}, {u'_id': u'Sweden', u'medals': 15}, {u'_id': u'Jamaica', u'medals': 0}, {u'_id': u'Montenegro', u'medals': 0}, {u'_id': u'Austria', u'medals': 13}, {u'_id': u'Switzerland', u'medals': 9}, {u'_id': u'\"Hong Ko', u'medals': 0}, {u'_id': u'Chile', u'medals': 0}, {u'_id': u'Australia', u'medals': 3}, {u'_id': u'Great Britain', u'medals': 2}, {u'_id': u'Norway', u'medals': 18}, {u'_id': u'Latvia', u'medals': 7}, {u'_id': u'Chinese Taipei', u'medals': 0}, {u'_id': u'Bulgaria', u'medals': 0}, {u'_id': u'Kazakhstan', u'medals': 1}, {u'_id': u'United States', u'medals': 28}, {u'_id': u'Ireland', u'medals': 0}, {u'_id': u'Italy', u'medals': 9}, {u'_id': u'Netherlands', u'medals': 20}, {u'_id': u'Hungary', u'medals': 0}, {u'_id': u'Cyprus', u'medals': 0}, {u'_id': u'Andorra', u'medals': 0}, {u'_id': u'Bosnia and Herzegovina', u'medals': 0}, {u'_id': u'Israel', u'medals': 0}, {u'_id': u'Portugal', u'medals': 0}, {u'_id': u'Morocco', u'medals': 0}, {u'_id': u'Togo', u'medals': 0}, {u'_id': u'Ukraine', u'medals': 1}, {u'_id': u'The Former Yugoslav Republic of Macedonia', u'medals': 0}, {u'_id': u'Finland', u'medals': 5}, {u'_id': u'Lithuania', u'medals': 0}, {u'_id': u'Poland', u'medals': 4}, {u'_id': u'Slovakia', u'medals': 1}, {u'_id': u'Germany', u'medals': 26}, {u'_id': u'Korea', u'medals': 8}, {u'_id': u'Denmark', u'medals': 0}, {u'_id': u'Tajikistan', u'medals': 0}, {u'_id': u'Japan', u'medals': 9}, {u'_id': u'France', u'medals': 11}, {u'_id': u'Rep. of Moldova', u'medals': 0}, {u'_id': u'Serbia', u'medals': 0}, {u'_id': u'Mexico', u'medals': 0}, {u'_id': u'Czech Republic', u'medals': 6}, {u'_id': u'Spain', u'medals': 0}, {u'_id': u'Zimbabwe', u'medals': 0}, {u'_id': u'Canada', u'medals': 28}, {u'_id': u'Georgia', u'medals': 0}, {u'_id': u'Monaco', u'medals': 0}, {u'_id': u'Brazil', u'medals': 0}, {u'_id': u'Slovenia', u'medals': 6}, {u'_id': u'Croatia', u'medals': 1}, {u'_id': u'Lebanon', u'medals': 0}, {u'_id': u'Pakistan', u'medals': 0}, {u'_id': u'Russian Fed.', u'medals': 38}, {u'_id': u'Greece', u'medals': 0}, {u'_id': u'Luxembourg', u'medals': 0}, {u'_id': u'Romania', u'medals': 0}, {u'_id': u'Azerbaijan', u'medals': 0}, {u'_id': u'Turkey', u'medals': 0}, {u'_id': u'\"Virgin I', u'medals': 0}, {u'_id': u'Nepal', u'medals': 0}, {u'_id': u'New Zealand', u'medals': 0}, {u'_id': u'Belarus', u'medals': 6}, {u'_id': u'Dominica', u'medals': 0}]\n"
     ]
    }
   ],
   "source": [
    "result_step2 = db.atleti.aggregate([\n",
    "        {'$project': {'country': 1, 'total_medals': 1, '_id': 0}}, #prende solo i campi selezionati\n",
    "        {'$group': {'_id': '$country', 'medals': {'$sum': '$total_medals'}}\n",
    "        }\n",
    "    ])\n",
    "print (list(result_step2))"
   ]
  },
  {
   "cell_type": "code",
   "execution_count": 101,
   "metadata": {
    "collapsed": false
   },
   "outputs": [
    {
     "name": "stdout",
     "output_type": "stream",
     "text": [
      "[{u'_id': u'United States', u'medals': 28}, {u'_id': u'Germany', u'medals': 26}, {u'_id': u'Canada', u'medals': 28}, {u'_id': u'Russian Fed.', u'medals': 38}]\n"
     ]
    }
   ],
   "source": [
    "result_step3 = db.atleti.aggregate([\n",
    "        {'$project': {'country': 1, 'total_medals': 1, '_id': 0}}, #prende solo i campi selezionati\n",
    "        {'$group': {'_id': '$country', 'medals': {'$sum': '$total_medals'}}}, # raggruppami le righe e creami una chiave per ogni country e creami un campo medal che è la somma di tutti i total medals che trovi\n",
    "        {'$match': {'medals': {'$gt': 20}}}\n",
    "        ])\n",
    "\n",
    "print (list(result_step3))"
   ]
  },
  {
   "cell_type": "markdown",
   "metadata": {},
   "source": [
    "# SPARK"
   ]
  },
  {
   "cell_type": "markdown",
   "metadata": {},
   "source": [
    "Script --> Framework\n",
    "\n",
    "Python + MrJob ---->  Apache Spark\n",
    "\n",
    "In pratica spark è un frameowrk open source per l'analisi di grandi quantita' di dati su cluster\n",
    "\n",
    "Hadoop vs Spark\n",
    "Spark vuole migliorare le prestazione nel campo della mapreduce (usa il filesistem HDFS come Hadoop)\n",
    "Spark è sviluppato per minimizzare le operazione di lettura e scrittura.\n",
    "\n",
    "SPark SQL --> trasforma Spark in un vero datawarehouse\n",
    "Spark Streaming --> permette di elaborare dati in tempo reale (es. file di log)\n",
    "Spark Mlib --> libreria dedicata al machine learning\n",
    "GraphX --> offre algoritmi tipici dell'analisi dei grafi (es pagerank)\n",
    "\n",
    "\n"
   ]
  },
  {
   "cell_type": "code",
   "execution_count": null,
   "metadata": {
    "collapsed": true
   },
   "outputs": [],
   "source": []
  }
 ],
 "metadata": {
  "kernelspec": {
   "display_name": "Python [Root]",
   "language": "python",
   "name": "Python [Root]"
  },
  "language_info": {
   "codemirror_mode": {
    "name": "ipython",
    "version": 2
   },
   "file_extension": ".py",
   "mimetype": "text/x-python",
   "name": "python",
   "nbconvert_exporter": "python",
   "pygments_lexer": "ipython2",
   "version": "2.7.12"
  }
 },
 "nbformat": 4,
 "nbformat_minor": 0
}

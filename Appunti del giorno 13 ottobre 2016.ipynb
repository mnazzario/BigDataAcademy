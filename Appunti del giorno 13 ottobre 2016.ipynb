{
 "cells": [
  {
   "cell_type": "markdown",
   "metadata": {},
   "source": [
    "# Visualization"
   ]
  },
  {
   "cell_type": "markdown",
   "metadata": {},
   "source": [
    "Sito su cose da non fare in data visualization : http://viz.wtf"
   ]
  },
  {
   "cell_type": "markdown",
   "metadata": {},
   "source": [
    "Doc da stampare per raccogliere le informazioni sui tag \"d3 Cheat Sheet.pdf\""
   ]
  },
  {
   "cell_type": "markdown",
   "metadata": {},
   "source": [
    "Usare Brackets per utilizzare i tag"
   ]
  },
  {
   "cell_type": "markdown",
   "metadata": {},
   "source": [
    "Come fare debug si usa il devtool con l'F12"
   ]
  },
  {
   "cell_type": "markdown",
   "metadata": {},
   "source": [
    "# CSS\n",
    "Id nel css e' identificato con #\n",
    "Class nel css e' identificato con .\n",
    "\n",
    "## Commenti in css \n",
    "/* commento */\n",
    "\n",
    "## Commenti javascript\n",
    "// Commento\n",
    "\n",
    "## Commenti in Html\n",
    "<-- Commento -->\n"
   ]
  },
  {
   "cell_type": "markdown",
   "metadata": {},
   "source": [
    "# ESEMPIO DI CODICE D3.JS\n",
    "file 004.html"
   ]
  },
  {
   "cell_type": "markdown",
   "metadata": {},
   "source": [
    "    <html>\n",
    "\n",
    "        <head>\n",
    "            <script type=\"application/javascript\" src=\"lib/d3.v3.min.js\"></script>\n",
    "        </head>\n",
    "\n",
    "        <body>\n",
    "\n",
    "        <script>\n",
    "            d3.select(\"body\")\n",
    "            .append(\"svg\")\n",
    "            .append(\"rect\")\n",
    "            .attr(\"width\", 40)\n",
    "            .attr(\"height\", 80)\n",
    "            .attr(\"y\", 30)\n",
    "            d3.select(\"svg\")\n",
    "            .append(\"rect\")\n",
    "            .attr(\"width\", 40)\n",
    "            .attr(\"height\", 50)\n",
    "            .attr(\"y\", 60)\n",
    "            .attr(\"x\", 45)\n",
    "            .attr(\"fill\", \"orange\")\n",
    "            d3.select(\"svg\")\n",
    "            .append(\"rect\")\n",
    "            .attr(\"width\", 40)\n",
    "            .attr(\"height\", 100)\n",
    "            .attr(\"y\", 10)\n",
    "            .attr(\"x\", 90)\n",
    "            </script>\n",
    "\n",
    "        </body>\n",
    "    </html>"
   ]
  },
  {
   "cell_type": "markdown",
   "metadata": {},
   "source": [
    "Per trovare il tipo di transazioni da mettere nel comando \"ease\" cercare transition type su google"
   ]
  }
 ],
 "metadata": {
  "kernelspec": {
   "display_name": "Python [Root]",
   "language": "python",
   "name": "Python [Root]"
  },
  "language_info": {
   "codemirror_mode": {
    "name": "ipython",
    "version": 2
   },
   "file_extension": ".py",
   "mimetype": "text/x-python",
   "name": "python",
   "nbconvert_exporter": "python",
   "pygments_lexer": "ipython2",
   "version": "2.7.12"
  }
 },
 "nbformat": 4,
 "nbformat_minor": 0
}
